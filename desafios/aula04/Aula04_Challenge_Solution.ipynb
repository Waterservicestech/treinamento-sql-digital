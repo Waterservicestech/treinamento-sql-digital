{
    "cells": [
        {
            "attachments": {},
            "cell_type": "markdown",
            "metadata": {
                "azdata_cell_guid": "e6388ac0-5336-4ff3-978c-64c499795d60"
            },
            "source": [
                "# 🔥 Desafio - **Avaliação de conformidade - Monitoramento hídrico**\n",
                "\n",
                "## Enunciado:\n",
                "\n",
                "- As tabelas **`parameter_sample`** e **`parameter_result`** armazenam dados de amostras e resultados, respectivamente, de monitoramento de qualidade hídrica.\n",
                "- As tabelas **`zlegislation_record`** e **`zstandard_reference`** armazenam padrões legais e os limites estipulados para cada parâmetro, respectivamente.\n",
                "- A tabela **`zparameters`** armazena os parâmetros de monitoramento hídrico de qualidade, juntamente com suas propriedades.\n",
                "- As amostras são derivadas dos pontos de monitoramento (tabela `station`) e os resultados são derivados das amostras. \n",
                "\n",
                "O esquema a seguir ilustra os relacionamentos entre as tabelas (alguns campos foram omitidos para melhorar a visualização).\n",
                "\n",
                "![station_samples_results](../../img/desafios/aula04/sql_diagram.png)\n",
                "\n",
                "> Note que não foi estabelecido um relacionamento direto entre o conjunto de tabelas com dados do monitoramento (`station`, `parameter_sample` e `parameter_result`) e as tabelas com legislações e limites (`zlegislation_record` e `zstandard_reference`). A modelagem destes dados no projeto foi realizada de maneira simplificada, não considerando totalmente a normalização de alguns campos comuns, como o da matriz.\n",
                "\n",
                "Como citado no desafio anterior, uma análise comum e de muita importância inerente aos dados de qualidade hídrica, é a **avaliação de conformidade legal**, através da comparação das medições a valores de referência.\n",
                "\n",
                "## Objetivo\n",
                "O desafio é escrever uma consulta SQL para alimentar um *dashboard* de análise de conformidade hídrica, em que um dos indicadores é a quantidade de resultados em desacordo com os limites legais de uma determinada legislação.\n",
                "Deve ser possível **selecionar uma ou mais legislações** (assim como pontos e/ou parâmetros) pela interface da ferramenta analítica e o indicador deve retornar o total de desvios para as legislações selecionadas.\n",
                "\n",
                "Há diferentes formas de resolver este problema, sendo um deles a criação de um modelo *star-schema* (fato-dimensão), a partir das tabelas envolvidas. Vamos adotar esta abordagem.\n",
                "\n",
                "Os seguintes campos devem estar presentes no modelo de dados:\n",
                "- Codigo HGA: Nome HGA do ponto de monitoramento (station.Name)\n",
                "- Tipo Ponto: Tipo do ponto de monitoramento (station.stn_type)\n",
                "- Local: Localização do ponto de monitoramento (station.zlocation)\n",
                "- Matriz: Matriz do ponto de monitoramento (station.zmatrix)\n",
                "- Enquadramento: Classe de enquadramento do ponto de monitoramento (station.zlegal_framework)\n",
                "- ID Amostra: Identificador da amostra de qualidade (parameter_sample.sample_id ou parameter_result.sample_id)\n",
                "- Data Amostra: Data de amostragem (parameter_sample.sample_date)\n",
                "- Parametro: Nome do parametro químico analisado (parameter_result.chemical_name ou zparameters.chemical_name)\n",
                "- Grupo Parametro: Agrupamento dos parâmetros químicos de acordo com sua natureza (zparameters.zparameter_group)\n",
                "- Resultado: Valor numérico obtido na análise do parâmetro (parameter_result.result_value)\n",
                "- Unidade: Unidade referente ao parâmetro analisado (parameter_result.result_unit)\n",
                "- Legislação: Nome da legislação a qual os resultados estão sendo comparados (zlegislation_record.zreference_legislation ou zstandard_reference.zreference_legislation)\n",
                "- Limite Min: Valor minimo estabelecido pela legislação, para o parâmetro em questão (zstandard_reference.zminimum_limit)\n",
                "- Limite Max: Valor maximo estabelecido pela legislação, para o parâmetro em questão (zstandard_reference.zmaximum_limit)\n",
                "- **Validacao: [Conforme/Não Conforme/Sem Comparação] Cálculo indicando se o resultado está de acordo ou não com os respectivos limites (??)**\n",
                "\n",
                "Obs.: Os resultados de um ponto devem ser comparados aos limites **de todas as legislações pertinentes**, considerando os campos **matriz** e **enquadramento**. Ex.: Os pontos de **água superficiais** de enquadramento **classe 2** devem ser comparados às legislações `CONAMA 357/2005_Doce II` e `COPAM 01/2008_Doce II`.\n",
                "\n",
                "****"
            ]
        },
        {
            "cell_type": "markdown",
            "metadata": {
                "azdata_cell_guid": "575efee4-b10d-4c7a-9798-b1393109a0ce"
            },
            "source": [
                "### Entendendo o problema\n",
                "\n",
                "Neste caso, precisamos combinar tabelas utilizando algumas regras lógicas que **não estão presentes na estrutura do próprio banco de dados**. Por exemplo, não há um relacionamento físico entre o campo `station.zmatrix` e o campo `zlegislation_record.zmatrix` ... porém, esta relação é fundamental para antender ao objetivo.\n",
                "\n",
                "Ao utilizar ferramentas como o *Query Designer*, esta lógica não é considerada automaticamente.\n",
                "\n",
                "![Query Designer](../../img/desafios/aula04/query_designer.png)\n",
                "\n",
                "> Esta consulta não retornará os registros corretos.."
            ]
        },
        {
            "cell_type": "code",
            "execution_count": null,
            "metadata": {
                "azdata_cell_guid": "40656915-c379-4dab-8012-da43fc20c902",
                "language": "sql"
            },
            "outputs": [],
            "source": [
                "-- -- Tabelas envolvidas\n",
                "-- SELECT COUNT(ID) FROM station\n",
                "SELECT COUNT(Station) FROM parameter_sample\n",
                "SELECT COUNT(Station) FROM parameter_result\n",
                "SELECT COUNT(zreference_legislation) FROM zlegislation_record\n",
                "SELECT COUNT(zreference_legislation) FROM zstandard_reference\n",
                "\n",
                "-- -- station + amostras\n",
                "-- SELECT COUNT(s.ID) FROM station s INNER JOIN parameter_sample a ON s.ID = a.Station\n",
                "\n",
                "-- -- amostras + resultados\n",
                "-- SELECT COUNT(a.sample_id)\n",
                "-- FROM parameter_sample a \n",
                "--     INNER JOIN parameter_result r \n",
                "--         ON a.Station = r.Station\n",
                "--         AND a.sample_id = r.sample_id\n"
            ]
        },
        {
            "cell_type": "code",
            "execution_count": null,
            "metadata": {
                "azdata_cell_guid": "7b0cf6ca-dd5d-4f82-86fa-35745c90e253",
                "language": "sql",
                "tags": []
            },
            "outputs": [],
            "source": [
                "-- 💡 Dica 1: É esperado que a tabela final possua mais linhas que as tabelas envolvidas, uma vez que um resultado pode ter correspondência a limites de múltiplas legislações\n",
                "-- 💡 Dica 2: Nem todos os parâmetros possuem limites definidos nas legislações.. Como garantir que eles não sejam excluídos da tabela final ?\n",
                "\n",
                "    SELECT  s.Name                         AS [Codigo HGA]\n",
                "           ,s.zlocation                   AS [Local]\n",
                "           ,s.zmatrix                     AS [Matriz]\n",
                "           ,s.stn_type                    AS [Tipo Ponto]\n",
                "           ,s.zlegal_framework            AS [Classe Enquadramento]\n",
                "           ,a.sample_id                   AS [ID Amostra]\n",
                "           ,a.sample_date                 AS [Data Amostra]\n",
                "           ,r.chemical_name               AS [Parametro]\n",
                "           ,r.result_value                AS [Resultado Numerico]\n",
                "           ,r.result_unit                 AS [Unidade]\n",
                "           ,p.zparameter_group            AS [Grupo Parametro]\n",
                "           ,lr.zreference_legislation     AS [Legislacao]\n",
                "           ,lim.zminimum_limit            AS [Limite Min]\n",
                "           ,lim.zmaximum_limit            AS [Limite Max]\n",
                "           ,CASE\n",
                "               WHEN lim.zmaximum_limit IS NULL AND lim.zminimum_limit IS NULL THEN 'Sem Comparação'\n",
                "               WHEN\n",
                "                   (lim.zmaximum_limit IS NOT NULL AND r.result_value > lim.zmaximum_limit) OR\n",
                "                   (lim.zminimum_limit IS NOT NULL AND r.result_value < lim.zminimum_limit)\n",
                "               THEN 'Não Conforme'\n",
                "               ELSE 'Conforme'\n",
                "           END                            AS [Validação]\n",
                "      /* Primeiro as maiores tabelas */\n",
                "      FROM parameter_result r\n",
                "      /* RIGHT JOIN para retornar amostras sem correspondência\n",
                "         Podem existir amostras sem resultados analisados */\n",
                "RIGHT JOIN parameter_sample a\n",
                "        ON a.sample_id = r.sample_id\n",
                "    --     ON a.Station = r.Station\n",
                "    --    AND a.sample_id = r.sample_id\n",
                "INNER JOIN station s\n",
                "        ON s.ID = a.Station\n",
                "INNER JOIN zparameters p\n",
                "        ON r.chemical_name = p.zchemical_name\n",
                "        /* LEFT JOIN para preservar todos os resultados,\n",
                "           inclusive dos parâmetros sem limite correspondente */\n",
                " LEFT JOIN zlegislation_record lr\n",
                "        ON lr.zmatrix = s.zmatrix\n",
                "       AND lr.zlegal_framework = s.zlegal_framework\n",
                " LEFT JOIN zstandard_reference lim\n",
                "        ON lr.zreference_legislation = lim.zreference_legislation\n",
                "       AND lim.zchemical_name = p.zchemical_name"
            ]
        },
        {
            "attachments": {},
            "cell_type": "markdown",
            "metadata": {
                "azdata_cell_guid": "bb272db3-46a1-471a-b92c-da3c8ea065e2"
            },
            "source": [
                "# 🤯 Desafio desafiador\n",
                "\n",
                "A consulta proposta anteriormente envolve a mesclagem (JOIN) de várias tabelas - `parameter_sample`, `parameter_result`, `station`, `zparameters`, `zlegislation_record` e `zstandard_reference` - o que pode torná-la computacionalmente cara.\n",
                "\n",
                "Analise o plano de execução da consulta e avalie como ela pode ser otimizada. Lembre-se que o objetivo principal (*dashboard*) deve ser atendido."
            ]
        },
        {
            "cell_type": "code",
            "execution_count": null,
            "metadata": {
                "azdata_cell_guid": "daba6a43-cfd7-410e-a8a3-3a3ee69cc334",
                "language": "sql"
            },
            "outputs": [],
            "source": [
                "\n",
                "\n"
            ]
        }
    ],
    "metadata": {
        "kernelspec": {
            "display_name": "SQL",
            "language": "sql",
            "name": "SQL"
        },
        "language_info": {
            "name": "sql",
            "version": ""
        }
    },
    "nbformat": 4,
    "nbformat_minor": 2
}

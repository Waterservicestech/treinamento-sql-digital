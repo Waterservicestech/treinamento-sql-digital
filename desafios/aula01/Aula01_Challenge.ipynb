{
    "cells": [
        {
            "attachments": {},
            "cell_type": "markdown",
            "metadata": {
                "azdata_cell_guid": "e6388ac0-5336-4ff3-978c-64c499795d60"
            },
            "source": [
                "# 🔥Desafio: Cálculo da **vazão operacional de poços**\n",
                "\n",
                "## Enunciado:\n",
                "A tabela **`zwell_operation`** contém dados de monitoramento de vazão de poços, a partir da leitura do hidrômetro e horímetro instalados neles.\n",
                "\n",
                "Estes instrumentos de medição funcionam como um simples contador (de volume água, no caso do hidrômetro, e de horas, no caso do horímetro).\n",
                "\n",
                "| Hidrômetro | Horímetro |\n",
                "|----------------|-----------------|\n",
                "|![Hidrometro](../img/desafios/aula01/hidrometro.jpg) | ![Horimetro](../img/desafios/aula01/horimetro-digital.jpg) |\n",
                "\n",
                "A modelagem da tabela que armazena estes dados, leva em consideração, basicamente:\n",
                "  - o ponto de monitoramento;\n",
                "  - a data;\n",
                "  - as leituras inicial e final do hidrômetro; e\n",
                "  - as leituras inicial e final do horímetro.\n",
                "\n",
                "Ex.:\n",
                "\n",
                "![well_operation](../img/desafios/aula01/well_operation_01.png)\n",
                "\n",
                "> Neste caso, a vazão pode ser calculada pela expressão: $$Vazão (m³/h) = {([Hidrometro Final] - [Hidrometro Inicial]) \\over ([Horimetro Final] - [Horimetro Inicial])}$$\n",
                "\n",
                "No entanto, outras variáveis devem ser levadas em consideração na modelagem da tabela, como:\n",
                "- Pode haver lacunas nas datas de medição;\n",
                "- Podem ocorerr erros de leitura, implicando em vazões incorretas (ou até negativas);\n",
                "- Os equipamentos (hidrômetro/horímetro) frequentemente apresentam problemas e são substituídos;\n",
                "- Os equipamentos (hidrômetro/horímetro) devem ser reiniciados quando atingem a leitura máxima;\n",
                "- O usuário pode não ter acesso aos dados medidos originalmente, apenas aos dados calculados;\n",
                "- O método de leitura para um mesmo ponto pode alterar em determinada data;\n",
                "- A vazão final pode não ser originada de um cálculo preciso, mas estimada ou calculada de outra maneira.\n",
                "\n",
                "Para acomodar a maior quantidade possível destes casos, novos campos são necessários na tabela. No banco de dados utilizado para este treinamento, existem os campos `zoperation_volum` e `zoperation_hours` que armazenam a o **volume operacional** e as **horas de operação**, respectivamente. Ainda, existe o campo `zflowrate`, para armazenar a vazão diretamente. Apesar de contra-intuitivo, a inserção destes campos é válida mesmo para armazenar dados tipicamente calculados.\n",
                "\n",
                "Um exemplo mais realista da situação prática deste monitoramento é a seguinte:\n",
                "\n",
                "![well_operation_real](../img/desafios/aula01/well_operation_02.png)\n",
                "\n",
                "## Objetivo\n",
                "O desafio é escrever uma consulta SQL para calcular a vazão média de cada poço por dia, levando em consideração as diferentes formas de importação de dados na tabela.\n",
                "\n",
                "A lógica da consulta SQL para obter a vazão deve ser a seguinte:\n",
                "\n",
                "1. Caso a vazão (`zflowrate`) esteja preenchida, considere este o valor final.\n",
                "2. Caso contrário, calcule a vazão dividindo o volume pelo tempo.\n",
                "   1. Para o numerador, caso o volume (`zoperation_volum`) esteja preenchido, considere este valor. Caso contrário, calcule o volume pela diferença de leituras do hidrômetro.\n",
                "   2. Para o denominador, caso as horas de operação (`zoperation_hours`) esteja preenchida, considere este valor. Caso contrário, calcule as horas pela diferença de leituras do horímetro.\n",
                "3. Caso nenhum destes campos esteja preenchido, retorne `NULL`."
            ]
        },
        {
            "cell_type": "code",
            "execution_count": null,
            "metadata": {
                "azdata_cell_guid": "a35abe0e-b0b3-4d4f-9760-56e22180da86",
                "language": "sql"
            },
            "outputs": [],
            "source": [
                "-- Dica: Função COALESCE. Boa sorte!\n"
            ]
        },
        {
            "cell_type": "markdown",
            "metadata": {},
            "source": [
                "# 🤯 Desafio desafiador\n",
                "\n",
                "Suponha que a tabela **`zwell_operation`** tivesse sido modelada sem os campos `hydrometer_start` (Hidrômetro Inicial) e `hourmeter_start` (Horímetro Inicial), ou seja, apenas as leituras instantâneas dos equipamentos fosse acessível...\n",
                "\n",
                "Suponha também que trata-se de um monitoramento automatizado, com equipamentos robustos e com chance desprezível de falha. Portanto, não há lacunas nem inserção manual de dados.\n",
                "\n",
                "## Objetivo\n",
                "Escrever uma consulta SQL para calcular a vazão média de cada poço por dia, considerando apenas os campos `hydrometer_final` e `hourmeter_final` (os campos `hydrometer_start` e `hourmeter_start` devem ser desprezados).\n",
                "\n",
                "Obs.: A consulta deve, para cada registro do hidrômetro/horímetro, identificar as leituras anteriores do mesmo ponto e calcular a diferença de volume e horas para a leitura atual."
            ]
        },
        {
            "cell_type": "code",
            "execution_count": null,
            "metadata": {},
            "outputs": [],
            "source": [
                "-- Dessa vez sem dicas. Boa sorte!\n"
            ]
        }
    ],
    "metadata": {
        "kernelspec": {
            "display_name": "SQL",
            "language": "sql",
            "name": "SQL"
        },
        "language_info": {
            "name": "sql",
            "version": ""
        }
    },
    "nbformat": 4,
    "nbformat_minor": 2
}

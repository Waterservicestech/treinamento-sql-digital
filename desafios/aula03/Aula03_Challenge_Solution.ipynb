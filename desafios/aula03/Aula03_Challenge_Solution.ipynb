{
    "cells": [
        {
            "attachments": {},
            "cell_type": "markdown",
            "metadata": {
                "azdata_cell_guid": "e6388ac0-5336-4ff3-978c-64c499795d60"
            },
            "source": [
                "# 🔥 Desafio - **Média histórica - Monitoramento hídrico**\n",
                "\n",
                "## Enunciado:\n",
                "\n",
                "- As tabelas **`parameter_sample`** e **`parameter_result`** armazenam dados de amostras e resultados, respectivamente, de monitoramento de qualidade hídrica.\n",
                "- As amostras são derivadas dos pontos de monitoramento (tabela `station`) e os resultados são derivados das amostras. O esquema a seguir ilustra os relacionamentos entre as tabelas.\n",
                "\n",
                "![station_samples_results](../../img/desafios/aula03/station_samples_result.png)\n",
                "\n",
                "Duas análises comuns subsidiadas por estes dados são a evolução temporal dos parâmetros (avaliada normalmente por ferramentas estatísticas); e a avaliação de conformidade legal, através da comparação das medições a valores de referência.\n",
                "\n",
                "## Objetivo\n",
                "\n",
                "O desafio é escrever uma consulta SQL para identificar resultados de qualidade **acima da média histórica de cada parâmetro em pelo menos 20%**, ou seja, cada resultado deve ser comparado à média de todos os resultados do mesmo parâmetro, no mesmo ponto, anteriormente observados.\n",
                "\n",
                "Os seguintes campos devem ser retornados pela consulta SQL:\n",
                "- Codigo HGA: Nome HGA do ponto de monitoramento (station.Name)\n",
                "- Local: Localização do ponto de monitoramento (station.zlocation)\n",
                "- ID da amostra: Identificador da amostra de qualidade (parameter_sample.sample_id)\n",
                "- Data da amostra: Data de amostragem (parameter_sample.sample_date)\n",
                "- Parametro: Nome do parametro químico analisado (parameter_result.chemical_name)\n",
                "- Resultado: Valor numérico obtido na análise do parâmetro (parameter_result.result_value)\n",
                "- Unidade: Unidade referente ao parâmetro analisado (parameter_result.result_unit)\n",
                "- **Média Histórica: Valor da média do monitoramento do parâmetro**\n",
                "- **Flag: Identificação se o resultado obtido é, no mínimo, 20% superior à média histórica**\n",
                "\n",
                "****"
            ]
        },
        {
            "cell_type": "code",
            "execution_count": null,
            "metadata": {
                "azdata_cell_guid": "7b0cf6ca-dd5d-4f82-86fa-35745c90e253",
                "language": "sql",
                "tags": []
            },
            "outputs": [],
            "source": [
                "-- Dica: Como comparar dinamicamente cada resultado apenas aos anteriores à ele ??\n",
                "\n",
                "-- Utilizando uma subquery:\n",
                "SELECT\n",
                "    s.Name                      AS [Codigo HGA]\n",
                "    ,s.zlocation                AS [Local]\n",
                "    ,a.sample_id                AS [ID Amostra]\n",
                "    ,a.sample_date              AS [Data Amostra]\n",
                "    ,r.chemical_name            AS [Parametro]\n",
                "    ,r.result_value             AS [Resultado]\n",
                "    ,r.result_unit              AS [Unidade]\n",
                "\n",
                "    ,(\n",
                "        SELECT AVG(res.result_value)\n",
                "        FROM station st\n",
                "            INNER JOIN parameter_sample ams\n",
                "                ON st.ID = ams.Station\n",
                "            INNER JOIN parameter_result res\n",
                "                ON ams.sample_id = res.sample_id\n",
                "        WHERE\n",
                "            st.ID = s.ID AND\n",
                "            res.chemical_name = r.chemical_name AND \n",
                "            ams.sample_date < a.sample_date\n",
                "    )                           AS [Media Hist]\n",
                "\n",
                "FROM station s\n",
                "    INNER JOIN parameter_sample a\n",
                "        ON s.ID = a.Station\n",
                "    INNER JOIN parameter_result r\n",
                "        ON a.sample_id = r.sample_id\n",
                "WHERE s.Name = 'WST-22' AND r.chemical_name = 'Alcalinidade Total'"
            ]
        },
        {
            "cell_type": "code",
            "execution_count": null,
            "metadata": {
                "azdata_cell_guid": "bcb6455c-8568-4c20-b1eb-925f82e8a44e",
                "language": "sql"
            },
            "outputs": [],
            "source": [
                "-- Utilizando a função OVER em conjunto com AVG\n",
                "SELECT\n",
                "    s.Name                      AS [Codigo HGA]\n",
                "    ,s.zlocation                AS [Local]\n",
                "    ,a.sample_id                AS [ID Amostra]\n",
                "    ,a.sample_date              AS [Data Amostra]\n",
                "    ,r.chemical_name            AS [Parametro]\n",
                "    ,r.result_value             AS [Resultado]\n",
                "    ,r.result_unit              AS [Unidade]\n",
                "    ,AVG(r.result_value) OVER (PARTITION BY s.Name, r.chemical_name ORDER BY a.sample_date)  AS [Media Hist]\n",
                "FROM station s\n",
                "    INNER JOIN parameter_sample a\n",
                "        ON s.ID = a.Station\n",
                "    INNER JOIN parameter_result r\n",
                "        ON a.sample_id = r.sample_id\n",
                "WHERE s.Name = 'WST-22' AND r.chemical_name = 'Alcalinidade Total'"
            ]
        },
        {
            "cell_type": "code",
            "execution_count": null,
            "metadata": {
                "azdata_cell_guid": "06dae411-829d-46be-8a50-0c15b5791847",
                "language": "sql"
            },
            "outputs": [],
            "source": [
                "WITH medias AS (\n",
                "    SELECT\n",
                "        s.Name                      AS [Codigo HGA]\n",
                "        ,s.zlocation                AS [Local]\n",
                "        ,a.sample_id                AS [ID Amostra]\n",
                "        ,a.sample_date              AS [Data Amostra]\n",
                "        ,r.chemical_name            AS [Parametro]\n",
                "        ,r.result_value             AS [Resultado]\n",
                "        ,r.result_unit              AS [Unidade]\n",
                "        ,AVG(r.result_value) OVER (PARTITION BY s.Name, r.chemical_name ORDER BY a.sample_date)  AS [Media Hist]\n",
                "    FROM station s\n",
                "        INNER JOIN parameter_sample a\n",
                "            ON s.ID = a.Station\n",
                "        INNER JOIN parameter_result r\n",
                "            ON a.sample_id = r.sample_id\n",
                "    WHERE s.Name = 'WST-22' AND r.chemical_name = 'Alcalinidade Total'\n",
                ")\n",
                "\n",
                "SELECT\n",
                "    *,\n",
                "    Flag = IIF([Resultado] > 1.2 * [Media Hist], 'Acima', 'Abaixo')\n",
                "FROM medias\n"
            ]
        },
        {
            "attachments": {},
            "cell_type": "markdown",
            "metadata": {
                "azdata_cell_guid": "bb272db3-46a1-471a-b92c-da3c8ea065e2"
            },
            "source": [
                "# 🤯 Desafio desafiador\n",
                "\n",
                "Ainda no contexto dos dados de monitoramento de qualidade hídrica, normalmente são utilizados relatórios/gráficos para melhor visualização e análise. Um exemplo de relatório, mostrado a seguir, considera a apresentação dos dados da amostragem em formato tabular e os parâmetros em formato aberto (nas colunas da matriz).\n",
                "\n",
                "![Report](../../img/desafios/aula03/report.png)\n",
                "\n",
                "Uma importante análise dos dados de qualidade hídrica se refere à saúde e consistência dos próprios dados (QAQC). Por exemplo, para alguns conjuntos de parâmetros, é esperada uma alta correlação entre os resultados. Um exemplo de comparação ocorre entre os parâmetros **Solidos Dissolvidos Totais (SDT)** e **Condutividade Eletrica**, em que considera-se aceitável uma razão SDT / CE na faixa de 55% - 75%.\n",
                "\n",
                "## Objetivo\n",
                "\n",
                "Criar uma consulta SQL para retornar uma análise de QAQC da razão entre os parâmetros **Solidos Dissolvidos Totais (SDT)** e **Condutividade Eletrica**.\n",
                "\n",
                "O formato da tabela gerada deve ser o seguinte:\n",
                "- Codigo HGA: Nome HGA do ponto de monitoramento (station.Name)\n",
                "- ID da amostra: Identificador da amostra de qualidade (parameter_sample.sample_id)\n",
                "- Solidos Dissolvidos Totais (SDT): Resultados médios do monitoramento de [Solidos Dissolvidos Totais (SDT)] para o ano/mês \n",
                "- Condutividade: Resultados médios do monitoramento de [Condutividade Eletrica] para o ano/mês\n",
                "- SDT / CE: Razão entre o resultado de [Solidos Dissolvidos Totais (SDT)] e o da [Condutividade Eletrica], para análise do QAQC\n",
                "\n",
                "PS.: O cálculo da razão faz sentido apenas para amostras com resultados **dos dois parâmetros**."
            ]
        },
        {
            "cell_type": "code",
            "execution_count": null,
            "metadata": {
                "azdata_cell_guid": "10765e73-6398-4b95-aeb3-28d76bab648f",
                "language": "sql"
            },
            "outputs": [],
            "source": [
                "WITH cte AS (\n",
                "    SELECT\n",
                "        s.Name                      AS [Codigo HGA]\n",
                "        ,a.sample_id                AS [ID Amostra]\n",
                "        ,r.chemical_name            AS [Parametro]\n",
                "        ,r.result_value             AS [Resultado]\n",
                "    FROM station s\n",
                "        INNER JOIN parameter_sample a\n",
                "            ON s.ID = a.Station\n",
                "        INNER JOIN parameter_result r\n",
                "            ON a.sample_id = r.sample_id\n",
                "    WHERE \n",
                "        r.chemical_name IN ('Solidos Dissolvidos Totais (SDT)', 'Condutividade Eletrica')\n",
                ")\n",
                "\n",
                "SELECT\n",
                "    [Codigo HGA]\n",
                "    ,[ID Amostra]\n",
                "    ,[Solidos Dissolvidos Totais (SDT)]\n",
                "    ,[Condutividade Eletrica]\n",
                "    ,[Razão %] = ROUND([Solidos Dissolvidos Totais (SDT)] / [Condutividade Eletrica] * 100, 2)\n",
                "FROM cte\n",
                "PIVOT (\n",
                "    AVG([Resultado])\n",
                "    FOR [Parametro] IN ([Solidos Dissolvidos Totais (SDT)] ,[Condutividade Eletrica])\n",
                ") AS pivot_table\n",
                "WHERE\n",
                "    [Solidos Dissolvidos Totais (SDT)] IS NOT NULL\n",
                "    AND [Condutividade Eletrica] IS NOT NULL"
            ]
        }
    ],
    "metadata": {
        "kernelspec": {
            "display_name": "SQL",
            "language": "sql",
            "name": "SQL"
        },
        "language_info": {
            "name": "sql",
            "version": ""
        }
    },
    "nbformat": 4,
    "nbformat_minor": 2
}

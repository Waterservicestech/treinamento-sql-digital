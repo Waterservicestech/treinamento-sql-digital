{
    "metadata": {
        "kernelspec": {
            "name": "SQL",
            "display_name": "SQL",
            "language": "sql"
        },
        "language_info": {
            "name": "sql",
            "version": ""
        }
    },
    "nbformat_minor": 2,
    "nbformat": 4,
    "cells": [
        {
            "cell_type": "markdown",
            "source": [
                "# 🔥 Desafio - **Média histórica - Monitoramento hídrico**\n",
                "\n",
                "## Enunciado:\n",
                "\n",
                "- As tabelas **`parameter_sample`** e **`parameter_result`** armazenam dados de amostras e resultados, respectivamente, de monitoramento de qualidade hídrica.\n",
                "- As amostras são derivadas dos pontos de monitoramento (tabela `station`) e os resultados são derivados das amostras. O esquema a seguir ilustra os relacionamentos entre as tabelas.\n",
                "\n",
                "![station_samples_results](../../img/desafios/aula03/station_samples_result.png)\n",
                "\n",
                "Duas análises comuns subsidiadas por estes dados são a evolução temporal dos parâmetros (avaliada normalmente por ferramentas estatísticas); e a avaliação de conformidade legal, através da comparação das medições a valores de referência.\n",
                "\n",
                "## Objetivo\n",
                "\n",
                "O desafio é escrever uma consulta SQL para identificar resultados de qualidade **acima da média histórica de cada parâmetro em pelo menos 20%**, ou seja, cada resultado deve ser comparado à média de todos os resultados do mesmo parâmetro, no mesmo ponto, anteriormente observados.\n",
                "\n",
                "Os seguintes campos devem ser retornados pela consulta SQL:\n",
                "- Codigo HGA: Nome HGA do ponto de monitoramento (station.Name)\n",
                "- Local: Localização do ponto de monitoramento (station.zlocation)\n",
                "- ID da amostra: Identificador da amostra de qualidade (parameter_sample.sample_id)\n",
                "- Data da amostra: Data de amostragem (parameter_sample.sample_date)\n",
                "- Parametro: Nome do parametro químico analisado (parameter_result.chemical_name)\n",
                "- Resultado: Valor numérico obtido na análise do parâmetro (parameter_result.result_value)\n",
                "- Unidade: Unidade referente ao parâmetro analisado (parameter_result.result_unit)\n",
                "- **Média Histórica: Valor da média do monitoramento do parâmetro**\n",
                "- **Flag: Identificação se o resultado obtido é, no mínimo, 20% superior à média histórica**\n",
                "\n",
                "****"
            ],
            "metadata": {
                "azdata_cell_guid": "e6388ac0-5336-4ff3-978c-64c499795d60"
            },
            "attachments": {}
        },
        {
            "cell_type": "code",
            "source": [
                "-- Dica: Como comparar dinamicamente cada resultado apenas aos anteriores à ele ??\n",
                "\n",
                "\n",
                "\n",
                ""
            ],
            "metadata": {
                "azdata_cell_guid": "7b0cf6ca-dd5d-4f82-86fa-35745c90e253",
                "language": "sql",
                "tags": []
            },
            "outputs": [],
            "execution_count": null
        },
        {
            "cell_type": "markdown",
            "source": [
                "# 🤯 Desafio desafiador\n",
                "\n",
                "Ainda no contexto dos dados de monitoramento de qualidade hídrica, normalmente são utilizados relatórios/gráficos para melhor visualização e análise. Um exemplo de relatório, mostrado a seguir, considera a apresentação dos dados da amostragem em formato tabular e os parâmetros em formato aberto (nas colunas da matriz).\n",
                "\n",
                "![Report](../../img/desafios/aula03/report.png)\n",
                "\n",
                "Uma importante análise dos dados de qualidade hídrica se refere à saúde e consistência dos próprios dados (QAQC). Por exemplo, para alguns conjuntos de parâmetros, é esperada uma alta correlação entre os resultados. Um exemplo de comparação ocorre entre os parâmetros **Solidos Dissolvidos Totais (SDT)** e **Condutividade Eletrica**, em que considera-se aceitável uma razão SDT / CE na faixa de 55% - 75%.\n",
                "\n",
                "## Objetivo\n",
                "\n",
                "Criar uma consulta SQL para retornar uma análise de QAQC da razão entre os parâmetros **Solidos Dissolvidos Totais (SDT)** e **Condutividade Eletrica**.\n",
                "\n",
                "O formato da tabela gerada deve ser o seguinte:\n",
                "- Codigo HGA: Nome HGA do ponto de monitoramento (station.Name)\n",
                "- ID da amostra: Identificador da amostra de qualidade (parameter_sample.sample_id)\n",
                "- Solidos Dissolvidos Totais (SDT): Resultados médios do monitoramento de [Solidos Dissolvidos Totais (SDT)] para o ano/mês \n",
                "- Condutividade: Resultados médios do monitoramento de [Condutividade Eletrica] para o ano/mês\n",
                "- SDT / CE: Razão entre o resultado de [Solidos Dissolvidos Totais (SDT)] e o da [Condutividade Eletrica], para análise do QAQC\n",
                "\n",
                "PS.: O cálculo da razão faz sentido apenas para amostras com resultados **dos dois parâmetros**."
            ],
            "metadata": {
                "azdata_cell_guid": "bb272db3-46a1-471a-b92c-da3c8ea065e2"
            },
            "attachments": {}
        },
        {
            "cell_type": "code",
            "source": [
                "-- Boa sorte!\n",
                "\n",
                "\n",
                "\n",
                "\n",
                ""
            ],
            "metadata": {
                "azdata_cell_guid": "10765e73-6398-4b95-aeb3-28d76bab648f",
                "language": "sql"
            },
            "outputs": [],
            "execution_count": null
        }
    ]
}
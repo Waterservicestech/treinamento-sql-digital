{
    "cells": [
        {
            "cell_type": "markdown",
            "metadata": {
                "azdata_cell_guid": "03a94507-dbc9-4269-86ad-450b6e2f8219"
            },
            "source": [
                "### 🧠 **Pré-Desafio**:\n",
                "\n",
                "> ### Como seria possível obter os resultados de NA acima da média para os pontos 'WST-88' e 'WST-205' em uma única consulta ??\n",
                "\n",
                "Obs.: Não vale usar `UNION`/`UNION ALL` 😒\n",
                "\n",
                "******"
            ]
        },
        {
            "cell_type": "code",
            "execution_count": null,
            "metadata": {
                "azdata_cell_guid": "2b57835c-447a-4f13-ac82-c8679add4c66",
                "language": "sql"
            },
            "outputs": [],
            "source": [
                "-- Comparar os resultados de Cota NA às médias\n",
                "SELECT TOP 100\n",
                "    s.[Name]            AS [Codigo HGA]\n",
                "    ,s.[stn_type]       AS [Tipo Ponto]\n",
                "    ,gw.date_           AS [Data]\n",
                "    ,gw.zwl_elevation   AS [Cota NA]\n",
                "FROM gw_level gw\n",
                "    INNER JOIN station s\n",
                "        ON gw.Station = s.ID\n",
                "WHERE gw.zwl_elevation > (\n",
                "    -- Retorna a média da Cota do NA para o WST-88\n",
                "    SELECT AVG(gw.zwl_elevation)        AS [NA Médio]\n",
                "    FROM gw_level gw\n",
                "        INNER JOIN station s\n",
                "            ON gw.Station = s.ID\n",
                "    WHERE s.[Name] = 'WST-88'\n",
                ")\n",
                "    AND s.[Name] = 'WST-88'"
            ]
        },
        {
            "cell_type": "code",
            "execution_count": 1,
            "metadata": {
                "azdata_cell_guid": "f785d342-4f99-41f4-902b-597f54733b75",
                "language": "sql"
            },
            "outputs": [
                {
                    "data": {
                        "text/html": [
                            "(2 rows affected)"
                        ]
                    },
                    "metadata": {},
                    "output_type": "display_data"
                },
                {
                    "data": {
                        "text/html": [
                            "Total execution time: 00:00:00.010"
                        ]
                    },
                    "metadata": {},
                    "output_type": "display_data"
                },
                {
                    "data": {
                        "application/vnd.dataresource+json": {
                            "data": [
                                {
                                    "NA Médio": "1246,8760869565215",
                                    "Name": "WST-205"
                                },
                                {
                                    "NA Médio": "1263,8033333333333",
                                    "Name": "WST-88"
                                }
                            ],
                            "schema": {
                                "fields": [
                                    {
                                        "name": "Name"
                                    },
                                    {
                                        "name": "NA Médio"
                                    }
                                ]
                            }
                        },
                        "text/html": [
                            "<table>\n",
                            "<tr><th>Name</th><th>NA Médio</th></tr>\n",
                            "<tr><td>WST-205</td><td>1246,8760869565215</td></tr>\n",
                            "<tr><td>WST-88</td><td>1263,8033333333333</td></tr>\n",
                            "</table>"
                        ]
                    },
                    "execution_count": 1,
                    "metadata": {},
                    "output_type": "execute_result"
                }
            ],
            "source": [
                "SELECT\n",
                "    s.[Name]\n",
                "    ,AVG(gw.zwl_elevation)        AS [NA Médio]\n",
                "FROM gw_level gw\n",
                "    INNER JOIN station s\n",
                "        ON gw.Station = s.ID\n",
                "WHERE s.[Name] IN ('WST-88', 'WST-205')\n",
                "GROUP BY s.[Name]"
            ]
        },
        {
            "cell_type": "code",
            "execution_count": 2,
            "metadata": {
                "azdata_cell_guid": "82f91dcb-b9c6-4ad3-a18c-93775eb79c8f",
                "language": "sql"
            },
            "outputs": [
                {
                    "data": {
                        "text/html": [
                            "(83 rows affected)"
                        ]
                    },
                    "metadata": {},
                    "output_type": "display_data"
                },
                {
                    "data": {
                        "text/html": [
                            "Total execution time: 00:00:00.011"
                        ]
                    },
                    "metadata": {},
                    "output_type": "display_data"
                },
                {
                    "data": {
                        "application/vnd.dataresource+json": {
                            "data": [
                                {
                                    "Codigo HGA": "WST-205",
                                    "Cota NA": "1254,19",
                                    "Data": "2016-11-28 00:00:00.000",
                                    "NA Médio": "1246,8760869565215",
                                    "Tipo Ponto": "Furo de Geotecnia"
                                },
                                {
                                    "Codigo HGA": "WST-205",
                                    "Cota NA": "1254,14",
                                    "Data": "2016-12-06 00:00:00.000",
                                    "NA Médio": "1246,8760869565215",
                                    "Tipo Ponto": "Furo de Geotecnia"
                                },
                                {
                                    "Codigo HGA": "WST-205",
                                    "Cota NA": "1254,08",
                                    "Data": "2016-12-19 00:00:00.000",
                                    "NA Médio": "1246,8760869565215",
                                    "Tipo Ponto": "Furo de Geotecnia"
                                },
                                {
                                    "Codigo HGA": "WST-205",
                                    "Cota NA": "1254,07",
                                    "Data": "2016-12-22 00:00:00.000",
                                    "NA Médio": "1246,8760869565215",
                                    "Tipo Ponto": "Furo de Geotecnia"
                                },
                                {
                                    "Codigo HGA": "WST-205",
                                    "Cota NA": "1254,04",
                                    "Data": "2016-12-27 00:00:00.000",
                                    "NA Médio": "1246,8760869565215",
                                    "Tipo Ponto": "Furo de Geotecnia"
                                },
                                {
                                    "Codigo HGA": "WST-205",
                                    "Cota NA": "1254,05",
                                    "Data": "2016-12-30 00:00:00.000",
                                    "NA Médio": "1246,8760869565215",
                                    "Tipo Ponto": "Furo de Geotecnia"
                                },
                                {
                                    "Codigo HGA": "WST-205",
                                    "Cota NA": "1254,04",
                                    "Data": "2017-01-02 00:00:00.000",
                                    "NA Médio": "1246,8760869565215",
                                    "Tipo Ponto": "Furo de Geotecnia"
                                },
                                {
                                    "Codigo HGA": "WST-205",
                                    "Cota NA": "1254,04",
                                    "Data": "2017-01-04 00:00:00.000",
                                    "NA Médio": "1246,8760869565215",
                                    "Tipo Ponto": "Furo de Geotecnia"
                                },
                                {
                                    "Codigo HGA": "WST-205",
                                    "Cota NA": "1254,01",
                                    "Data": "2017-01-11 00:00:00.000",
                                    "NA Médio": "1246,8760869565215",
                                    "Tipo Ponto": "Furo de Geotecnia"
                                },
                                {
                                    "Codigo HGA": "WST-205",
                                    "Cota NA": "1253,97",
                                    "Data": "2017-01-25 00:00:00.000",
                                    "NA Médio": "1246,8760869565215",
                                    "Tipo Ponto": "Furo de Geotecnia"
                                },
                                {
                                    "Codigo HGA": "WST-205",
                                    "Cota NA": "1253,95",
                                    "Data": "2017-02-03 00:00:00.000",
                                    "NA Médio": "1246,8760869565215",
                                    "Tipo Ponto": "Furo de Geotecnia"
                                },
                                {
                                    "Codigo HGA": "WST-205",
                                    "Cota NA": "1253,95",
                                    "Data": "2017-02-10 00:00:00.000",
                                    "NA Médio": "1246,8760869565215",
                                    "Tipo Ponto": "Furo de Geotecnia"
                                },
                                {
                                    "Codigo HGA": "WST-205",
                                    "Cota NA": "1253,94",
                                    "Data": "2017-02-16 00:00:00.000",
                                    "NA Médio": "1246,8760869565215",
                                    "Tipo Ponto": "Furo de Geotecnia"
                                },
                                {
                                    "Codigo HGA": "WST-205",
                                    "Cota NA": "1253,92",
                                    "Data": "2017-03-03 00:00:00.000",
                                    "NA Médio": "1246,8760869565215",
                                    "Tipo Ponto": "Furo de Geotecnia"
                                },
                                {
                                    "Codigo HGA": "WST-205",
                                    "Cota NA": "1253,91",
                                    "Data": "2017-03-10 00:00:00.000",
                                    "NA Médio": "1246,8760869565215",
                                    "Tipo Ponto": "Furo de Geotecnia"
                                },
                                {
                                    "Codigo HGA": "WST-205",
                                    "Cota NA": "1253,91",
                                    "Data": "2017-03-17 00:00:00.000",
                                    "NA Médio": "1246,8760869565215",
                                    "Tipo Ponto": "Furo de Geotecnia"
                                },
                                {
                                    "Codigo HGA": "WST-205",
                                    "Cota NA": "1253,88",
                                    "Data": "2017-03-24 00:00:00.000",
                                    "NA Médio": "1246,8760869565215",
                                    "Tipo Ponto": "Furo de Geotecnia"
                                },
                                {
                                    "Codigo HGA": "WST-205",
                                    "Cota NA": "1253,87",
                                    "Data": "2017-03-30 00:00:00.000",
                                    "NA Médio": "1246,8760869565215",
                                    "Tipo Ponto": "Furo de Geotecnia"
                                },
                                {
                                    "Codigo HGA": "WST-205",
                                    "Cota NA": "1253,87",
                                    "Data": "2017-04-20 00:00:00.000",
                                    "NA Médio": "1246,8760869565215",
                                    "Tipo Ponto": "Furo de Geotecnia"
                                },
                                {
                                    "Codigo HGA": "WST-205",
                                    "Cota NA": "1253,87",
                                    "Data": "2017-04-24 00:00:00.000",
                                    "NA Médio": "1246,8760869565215",
                                    "Tipo Ponto": "Furo de Geotecnia"
                                },
                                {
                                    "Codigo HGA": "WST-205",
                                    "Cota NA": "1253,86",
                                    "Data": "2017-05-05 00:00:00.000",
                                    "NA Médio": "1246,8760869565215",
                                    "Tipo Ponto": "Furo de Geotecnia"
                                },
                                {
                                    "Codigo HGA": "WST-205",
                                    "Cota NA": "1253,85",
                                    "Data": "2017-05-11 00:00:00.000",
                                    "NA Médio": "1246,8760869565215",
                                    "Tipo Ponto": "Furo de Geotecnia"
                                },
                                {
                                    "Codigo HGA": "WST-205",
                                    "Cota NA": "1253,84",
                                    "Data": "2017-05-18 00:00:00.000",
                                    "NA Médio": "1246,8760869565215",
                                    "Tipo Ponto": "Furo de Geotecnia"
                                },
                                {
                                    "Codigo HGA": "WST-205",
                                    "Cota NA": "1253,84",
                                    "Data": "2017-05-22 00:00:00.000",
                                    "NA Médio": "1246,8760869565215",
                                    "Tipo Ponto": "Furo de Geotecnia"
                                },
                                {
                                    "Codigo HGA": "WST-205",
                                    "Cota NA": "1253,83",
                                    "Data": "2017-06-02 00:00:00.000",
                                    "NA Médio": "1246,8760869565215",
                                    "Tipo Ponto": "Furo de Geotecnia"
                                },
                                {
                                    "Codigo HGA": "WST-205",
                                    "Cota NA": "1253,83",
                                    "Data": "2017-06-08 00:00:00.000",
                                    "NA Médio": "1246,8760869565215",
                                    "Tipo Ponto": "Furo de Geotecnia"
                                },
                                {
                                    "Codigo HGA": "WST-205",
                                    "Cota NA": "1253,82",
                                    "Data": "2017-06-16 00:00:00.000",
                                    "NA Médio": "1246,8760869565215",
                                    "Tipo Ponto": "Furo de Geotecnia"
                                },
                                {
                                    "Codigo HGA": "WST-205",
                                    "Cota NA": "1253,82",
                                    "Data": "2017-06-21 00:00:00.000",
                                    "NA Médio": "1246,8760869565215",
                                    "Tipo Ponto": "Furo de Geotecnia"
                                },
                                {
                                    "Codigo HGA": "WST-205",
                                    "Cota NA": "1253,81",
                                    "Data": "2017-06-29 00:00:00.000",
                                    "NA Médio": "1246,8760869565215",
                                    "Tipo Ponto": "Furo de Geotecnia"
                                },
                                {
                                    "Codigo HGA": "WST-205",
                                    "Cota NA": "1253,81",
                                    "Data": "2017-07-06 00:00:00.000",
                                    "NA Médio": "1246,8760869565215",
                                    "Tipo Ponto": "Furo de Geotecnia"
                                },
                                {
                                    "Codigo HGA": "WST-205",
                                    "Cota NA": "1253,8",
                                    "Data": "2017-07-14 00:00:00.000",
                                    "NA Médio": "1246,8760869565215",
                                    "Tipo Ponto": "Furo de Geotecnia"
                                },
                                {
                                    "Codigo HGA": "WST-205",
                                    "Cota NA": "1253,8",
                                    "Data": "2017-07-21 00:00:00.000",
                                    "NA Médio": "1246,8760869565215",
                                    "Tipo Ponto": "Furo de Geotecnia"
                                },
                                {
                                    "Codigo HGA": "WST-205",
                                    "Cota NA": "1253,78",
                                    "Data": "2017-07-26 00:00:00.000",
                                    "NA Médio": "1246,8760869565215",
                                    "Tipo Ponto": "Furo de Geotecnia"
                                },
                                {
                                    "Codigo HGA": "WST-205",
                                    "Cota NA": "1253,78",
                                    "Data": "2017-08-04 00:00:00.000",
                                    "NA Médio": "1246,8760869565215",
                                    "Tipo Ponto": "Furo de Geotecnia"
                                },
                                {
                                    "Codigo HGA": "WST-205",
                                    "Cota NA": "1253,77",
                                    "Data": "2017-08-10 00:00:00.000",
                                    "NA Médio": "1246,8760869565215",
                                    "Tipo Ponto": "Furo de Geotecnia"
                                },
                                {
                                    "Codigo HGA": "WST-205",
                                    "Cota NA": "1253,77",
                                    "Data": "2017-08-18 00:00:00.000",
                                    "NA Médio": "1246,8760869565215",
                                    "Tipo Ponto": "Furo de Geotecnia"
                                },
                                {
                                    "Codigo HGA": "WST-205",
                                    "Cota NA": "1253,77",
                                    "Data": "2017-08-25 00:00:00.000",
                                    "NA Médio": "1246,8760869565215",
                                    "Tipo Ponto": "Furo de Geotecnia"
                                },
                                {
                                    "Codigo HGA": "WST-205",
                                    "Cota NA": "1253,74",
                                    "Data": "2017-09-06 00:00:00.000",
                                    "NA Médio": "1246,8760869565215",
                                    "Tipo Ponto": "Furo de Geotecnia"
                                },
                                {
                                    "Codigo HGA": "WST-205",
                                    "Cota NA": "1253,73",
                                    "Data": "2017-09-15 00:00:00.000",
                                    "NA Médio": "1246,8760869565215",
                                    "Tipo Ponto": "Furo de Geotecnia"
                                },
                                {
                                    "Codigo HGA": "WST-205",
                                    "Cota NA": "1253,73",
                                    "Data": "2017-09-22 00:00:00.000",
                                    "NA Médio": "1246,8760869565215",
                                    "Tipo Ponto": "Furo de Geotecnia"
                                },
                                {
                                    "Codigo HGA": "WST-205",
                                    "Cota NA": "1253,71",
                                    "Data": "2017-09-27 00:00:00.000",
                                    "NA Médio": "1246,8760869565215",
                                    "Tipo Ponto": "Furo de Geotecnia"
                                },
                                {
                                    "Codigo HGA": "WST-205",
                                    "Cota NA": "1253,72",
                                    "Data": "2017-10-03 00:00:00.000",
                                    "NA Médio": "1246,8760869565215",
                                    "Tipo Ponto": "Furo de Geotecnia"
                                },
                                {
                                    "Codigo HGA": "WST-205",
                                    "Cota NA": "1253,71",
                                    "Data": "2017-10-13 00:00:00.000",
                                    "NA Médio": "1246,8760869565215",
                                    "Tipo Ponto": "Furo de Geotecnia"
                                },
                                {
                                    "Codigo HGA": "WST-205",
                                    "Cota NA": "1253,7",
                                    "Data": "2017-10-19 00:00:00.000",
                                    "NA Médio": "1246,8760869565215",
                                    "Tipo Ponto": "Furo de Geotecnia"
                                },
                                {
                                    "Codigo HGA": "WST-205",
                                    "Cota NA": "1253,69",
                                    "Data": "2017-10-27 00:00:00.000",
                                    "NA Médio": "1246,8760869565215",
                                    "Tipo Ponto": "Furo de Geotecnia"
                                },
                                {
                                    "Codigo HGA": "WST-205",
                                    "Cota NA": "1253,69",
                                    "Data": "2017-11-01 00:00:00.000",
                                    "NA Médio": "1246,8760869565215",
                                    "Tipo Ponto": "Furo de Geotecnia"
                                },
                                {
                                    "Codigo HGA": "WST-205",
                                    "Cota NA": "1253,69",
                                    "Data": "2017-11-10 00:00:00.000",
                                    "NA Médio": "1246,8760869565215",
                                    "Tipo Ponto": "Furo de Geotecnia"
                                },
                                {
                                    "Codigo HGA": "WST-205",
                                    "Cota NA": "1253,69",
                                    "Data": "2017-11-17 00:00:00.000",
                                    "NA Médio": "1246,8760869565215",
                                    "Tipo Ponto": "Furo de Geotecnia"
                                },
                                {
                                    "Codigo HGA": "WST-205",
                                    "Cota NA": "1253,68",
                                    "Data": "2017-11-27 00:00:00.000",
                                    "NA Médio": "1246,8760869565215",
                                    "Tipo Ponto": "Furo de Geotecnia"
                                },
                                {
                                    "Codigo HGA": "WST-205",
                                    "Cota NA": "1253,69",
                                    "Data": "2017-11-29 00:00:00.000",
                                    "NA Médio": "1246,8760869565215",
                                    "Tipo Ponto": "Furo de Geotecnia"
                                },
                                {
                                    "Codigo HGA": "WST-205",
                                    "Cota NA": "1253,67",
                                    "Data": "2017-12-05 00:00:00.000",
                                    "NA Médio": "1246,8760869565215",
                                    "Tipo Ponto": "Furo de Geotecnia"
                                },
                                {
                                    "Codigo HGA": "WST-205",
                                    "Cota NA": "1253,66",
                                    "Data": "2017-12-13 00:00:00.000",
                                    "NA Médio": "1246,8760869565215",
                                    "Tipo Ponto": "Furo de Geotecnia"
                                },
                                {
                                    "Codigo HGA": "WST-205",
                                    "Cota NA": "1253,66",
                                    "Data": "2017-12-19 00:00:00.000",
                                    "NA Médio": "1246,8760869565215",
                                    "Tipo Ponto": "Furo de Geotecnia"
                                },
                                {
                                    "Codigo HGA": "WST-205",
                                    "Cota NA": "1253,69",
                                    "Data": "2017-12-27 00:00:00.000",
                                    "NA Médio": "1246,8760869565215",
                                    "Tipo Ponto": "Furo de Geotecnia"
                                },
                                {
                                    "Codigo HGA": "WST-205",
                                    "Cota NA": "1253,64",
                                    "Data": "2018-01-03 00:00:00.000",
                                    "NA Médio": "1246,8760869565215",
                                    "Tipo Ponto": "Furo de Geotecnia"
                                },
                                {
                                    "Codigo HGA": "WST-205",
                                    "Cota NA": "1253,64",
                                    "Data": "2018-01-10 00:00:00.000",
                                    "NA Médio": "1246,8760869565215",
                                    "Tipo Ponto": "Furo de Geotecnia"
                                },
                                {
                                    "Codigo HGA": "WST-205",
                                    "Cota NA": "1253,63",
                                    "Data": "2018-01-18 00:00:00.000",
                                    "NA Médio": "1246,8760869565215",
                                    "Tipo Ponto": "Furo de Geotecnia"
                                },
                                {
                                    "Codigo HGA": "WST-205",
                                    "Cota NA": "1253,62",
                                    "Data": "2018-01-24 00:00:00.000",
                                    "NA Médio": "1246,8760869565215",
                                    "Tipo Ponto": "Furo de Geotecnia"
                                },
                                {
                                    "Codigo HGA": "WST-205",
                                    "Cota NA": "1253,62",
                                    "Data": "2018-02-02 00:00:00.000",
                                    "NA Médio": "1246,8760869565215",
                                    "Tipo Ponto": "Furo de Geotecnia"
                                },
                                {
                                    "Codigo HGA": "WST-205",
                                    "Cota NA": "1253,62",
                                    "Data": "2018-02-09 00:00:00.000",
                                    "NA Médio": "1246,8760869565215",
                                    "Tipo Ponto": "Furo de Geotecnia"
                                },
                                {
                                    "Codigo HGA": "WST-205",
                                    "Cota NA": "1253,61",
                                    "Data": "2018-02-14 00:00:00.000",
                                    "NA Médio": "1246,8760869565215",
                                    "Tipo Ponto": "Furo de Geotecnia"
                                },
                                {
                                    "Codigo HGA": "WST-205",
                                    "Cota NA": "1253,61",
                                    "Data": "2018-02-22 00:00:00.000",
                                    "NA Médio": "1246,8760869565215",
                                    "Tipo Ponto": "Furo de Geotecnia"
                                },
                                {
                                    "Codigo HGA": "WST-205",
                                    "Cota NA": "1253,6",
                                    "Data": "2018-02-27 00:00:00.000",
                                    "NA Médio": "1246,8760869565215",
                                    "Tipo Ponto": "Furo de Geotecnia"
                                },
                                {
                                    "Codigo HGA": "WST-205",
                                    "Cota NA": "1253,59",
                                    "Data": "2018-03-08 00:00:00.000",
                                    "NA Médio": "1246,8760869565215",
                                    "Tipo Ponto": "Furo de Geotecnia"
                                },
                                {
                                    "Codigo HGA": "WST-205",
                                    "Cota NA": "1253,57",
                                    "Data": "2018-03-14 00:00:00.000",
                                    "NA Médio": "1246,8760869565215",
                                    "Tipo Ponto": "Furo de Geotecnia"
                                },
                                {
                                    "Codigo HGA": "WST-205",
                                    "Cota NA": "1253,65",
                                    "Data": "2018-03-22 00:00:00.000",
                                    "NA Médio": "1246,8760869565215",
                                    "Tipo Ponto": "Furo de Geotecnia"
                                },
                                {
                                    "Codigo HGA": "WST-205",
                                    "Cota NA": "1253,56",
                                    "Data": "2018-03-28 00:00:00.000",
                                    "NA Médio": "1246,8760869565215",
                                    "Tipo Ponto": "Furo de Geotecnia"
                                },
                                {
                                    "Codigo HGA": "WST-205",
                                    "Cota NA": "1253,56",
                                    "Data": "2018-04-05 00:00:00.000",
                                    "NA Médio": "1246,8760869565215",
                                    "Tipo Ponto": "Furo de Geotecnia"
                                },
                                {
                                    "Codigo HGA": "WST-205",
                                    "Cota NA": "1253,54",
                                    "Data": "2018-04-10 00:00:00.000",
                                    "NA Médio": "1246,8760869565215",
                                    "Tipo Ponto": "Furo de Geotecnia"
                                },
                                {
                                    "Codigo HGA": "WST-205",
                                    "Cota NA": "1253,53",
                                    "Data": "2018-04-19 00:00:00.000",
                                    "NA Médio": "1246,8760869565215",
                                    "Tipo Ponto": "Furo de Geotecnia"
                                },
                                {
                                    "Codigo HGA": "WST-205",
                                    "Cota NA": "1253,53",
                                    "Data": "2018-04-27 00:00:00.000",
                                    "NA Médio": "1246,8760869565215",
                                    "Tipo Ponto": "Furo de Geotecnia"
                                },
                                {
                                    "Codigo HGA": "WST-205",
                                    "Cota NA": "1253,52",
                                    "Data": "2018-05-03 00:00:00.000",
                                    "NA Médio": "1246,8760869565215",
                                    "Tipo Ponto": "Furo de Geotecnia"
                                },
                                {
                                    "Codigo HGA": "WST-205",
                                    "Cota NA": "1253,5",
                                    "Data": "2018-05-09 00:00:00.000",
                                    "NA Médio": "1246,8760869565215",
                                    "Tipo Ponto": "Furo de Geotecnia"
                                },
                                {
                                    "Codigo HGA": "WST-205",
                                    "Cota NA": "1253,51",
                                    "Data": "2018-05-16 00:00:00.000",
                                    "NA Médio": "1246,8760869565215",
                                    "Tipo Ponto": "Furo de Geotecnia"
                                },
                                {
                                    "Codigo HGA": "WST-205",
                                    "Cota NA": "1253,49",
                                    "Data": "2018-06-05 00:00:00.000",
                                    "NA Médio": "1246,8760869565215",
                                    "Tipo Ponto": "Furo de Geotecnia"
                                },
                                {
                                    "Codigo HGA": "WST-88",
                                    "Cota NA": "1270,58",
                                    "Data": "2016-01-22 00:00:00.000",
                                    "NA Médio": "1263,8033333333333",
                                    "Tipo Ponto": "Dreno"
                                },
                                {
                                    "Codigo HGA": "WST-88",
                                    "Cota NA": "1269,9",
                                    "Data": "2016-02-17 00:00:00.000",
                                    "NA Médio": "1263,8033333333333",
                                    "Tipo Ponto": "Dreno"
                                },
                                {
                                    "Codigo HGA": "WST-88",
                                    "Cota NA": "1269,41",
                                    "Data": "2016-02-26 00:00:00.000",
                                    "NA Médio": "1263,8033333333333",
                                    "Tipo Ponto": "Dreno"
                                },
                                {
                                    "Codigo HGA": "WST-88",
                                    "Cota NA": "1268,81",
                                    "Data": "2016-04-27 00:00:00.000",
                                    "NA Médio": "1263,8033333333333",
                                    "Tipo Ponto": "Dreno"
                                },
                                {
                                    "Codigo HGA": "WST-88",
                                    "Cota NA": "1266,66",
                                    "Data": "2016-05-31 00:00:00.000",
                                    "NA Médio": "1263,8033333333333",
                                    "Tipo Ponto": "Dreno"
                                },
                                {
                                    "Codigo HGA": "WST-88",
                                    "Cota NA": "1265,9",
                                    "Data": "2016-06-24 00:00:00.000",
                                    "NA Médio": "1263,8033333333333",
                                    "Tipo Ponto": "Dreno"
                                },
                                {
                                    "Codigo HGA": "WST-88",
                                    "Cota NA": "1264,89",
                                    "Data": "2016-07-27 00:00:00.000",
                                    "NA Médio": "1263,8033333333333",
                                    "Tipo Ponto": "Dreno"
                                },
                                {
                                    "Codigo HGA": "WST-88",
                                    "Cota NA": "1263,88",
                                    "Data": "2016-08-25 00:00:00.000",
                                    "NA Médio": "1263,8033333333333",
                                    "Tipo Ponto": "Dreno"
                                }
                            ],
                            "schema": {
                                "fields": [
                                    {
                                        "name": "Codigo HGA"
                                    },
                                    {
                                        "name": "Tipo Ponto"
                                    },
                                    {
                                        "name": "Data"
                                    },
                                    {
                                        "name": "Cota NA"
                                    },
                                    {
                                        "name": "NA Médio"
                                    }
                                ]
                            }
                        },
                        "text/html": [
                            "<table>\n",
                            "<tr><th>Codigo HGA</th><th>Tipo Ponto</th><th>Data</th><th>Cota NA</th><th>NA Médio</th></tr>\n",
                            "<tr><td>WST-205</td><td>Furo de Geotecnia</td><td>2016-11-28 00:00:00.000</td><td>1254,19</td><td>1246,8760869565215</td></tr>\n",
                            "<tr><td>WST-205</td><td>Furo de Geotecnia</td><td>2016-12-06 00:00:00.000</td><td>1254,14</td><td>1246,8760869565215</td></tr>\n",
                            "<tr><td>WST-205</td><td>Furo de Geotecnia</td><td>2016-12-19 00:00:00.000</td><td>1254,08</td><td>1246,8760869565215</td></tr>\n",
                            "<tr><td>WST-205</td><td>Furo de Geotecnia</td><td>2016-12-22 00:00:00.000</td><td>1254,07</td><td>1246,8760869565215</td></tr>\n",
                            "<tr><td>WST-205</td><td>Furo de Geotecnia</td><td>2016-12-27 00:00:00.000</td><td>1254,04</td><td>1246,8760869565215</td></tr>\n",
                            "<tr><td>WST-205</td><td>Furo de Geotecnia</td><td>2016-12-30 00:00:00.000</td><td>1254,05</td><td>1246,8760869565215</td></tr>\n",
                            "<tr><td>WST-205</td><td>Furo de Geotecnia</td><td>2017-01-02 00:00:00.000</td><td>1254,04</td><td>1246,8760869565215</td></tr>\n",
                            "<tr><td>WST-205</td><td>Furo de Geotecnia</td><td>2017-01-04 00:00:00.000</td><td>1254,04</td><td>1246,8760869565215</td></tr>\n",
                            "<tr><td>WST-205</td><td>Furo de Geotecnia</td><td>2017-01-11 00:00:00.000</td><td>1254,01</td><td>1246,8760869565215</td></tr>\n",
                            "<tr><td>WST-205</td><td>Furo de Geotecnia</td><td>2017-01-25 00:00:00.000</td><td>1253,97</td><td>1246,8760869565215</td></tr>\n",
                            "<tr><td>WST-205</td><td>Furo de Geotecnia</td><td>2017-02-03 00:00:00.000</td><td>1253,95</td><td>1246,8760869565215</td></tr>\n",
                            "<tr><td>WST-205</td><td>Furo de Geotecnia</td><td>2017-02-10 00:00:00.000</td><td>1253,95</td><td>1246,8760869565215</td></tr>\n",
                            "<tr><td>WST-205</td><td>Furo de Geotecnia</td><td>2017-02-16 00:00:00.000</td><td>1253,94</td><td>1246,8760869565215</td></tr>\n",
                            "<tr><td>WST-205</td><td>Furo de Geotecnia</td><td>2017-03-03 00:00:00.000</td><td>1253,92</td><td>1246,8760869565215</td></tr>\n",
                            "<tr><td>WST-205</td><td>Furo de Geotecnia</td><td>2017-03-10 00:00:00.000</td><td>1253,91</td><td>1246,8760869565215</td></tr>\n",
                            "<tr><td>WST-205</td><td>Furo de Geotecnia</td><td>2017-03-17 00:00:00.000</td><td>1253,91</td><td>1246,8760869565215</td></tr>\n",
                            "<tr><td>WST-205</td><td>Furo de Geotecnia</td><td>2017-03-24 00:00:00.000</td><td>1253,88</td><td>1246,8760869565215</td></tr>\n",
                            "<tr><td>WST-205</td><td>Furo de Geotecnia</td><td>2017-03-30 00:00:00.000</td><td>1253,87</td><td>1246,8760869565215</td></tr>\n",
                            "<tr><td>WST-205</td><td>Furo de Geotecnia</td><td>2017-04-20 00:00:00.000</td><td>1253,87</td><td>1246,8760869565215</td></tr>\n",
                            "<tr><td>WST-205</td><td>Furo de Geotecnia</td><td>2017-04-24 00:00:00.000</td><td>1253,87</td><td>1246,8760869565215</td></tr>\n",
                            "<tr><td>WST-205</td><td>Furo de Geotecnia</td><td>2017-05-05 00:00:00.000</td><td>1253,86</td><td>1246,8760869565215</td></tr>\n",
                            "<tr><td>WST-205</td><td>Furo de Geotecnia</td><td>2017-05-11 00:00:00.000</td><td>1253,85</td><td>1246,8760869565215</td></tr>\n",
                            "<tr><td>WST-205</td><td>Furo de Geotecnia</td><td>2017-05-18 00:00:00.000</td><td>1253,84</td><td>1246,8760869565215</td></tr>\n",
                            "<tr><td>WST-205</td><td>Furo de Geotecnia</td><td>2017-05-22 00:00:00.000</td><td>1253,84</td><td>1246,8760869565215</td></tr>\n",
                            "<tr><td>WST-205</td><td>Furo de Geotecnia</td><td>2017-06-02 00:00:00.000</td><td>1253,83</td><td>1246,8760869565215</td></tr>\n",
                            "<tr><td>WST-205</td><td>Furo de Geotecnia</td><td>2017-06-08 00:00:00.000</td><td>1253,83</td><td>1246,8760869565215</td></tr>\n",
                            "<tr><td>WST-205</td><td>Furo de Geotecnia</td><td>2017-06-16 00:00:00.000</td><td>1253,82</td><td>1246,8760869565215</td></tr>\n",
                            "<tr><td>WST-205</td><td>Furo de Geotecnia</td><td>2017-06-21 00:00:00.000</td><td>1253,82</td><td>1246,8760869565215</td></tr>\n",
                            "<tr><td>WST-205</td><td>Furo de Geotecnia</td><td>2017-06-29 00:00:00.000</td><td>1253,81</td><td>1246,8760869565215</td></tr>\n",
                            "<tr><td>WST-205</td><td>Furo de Geotecnia</td><td>2017-07-06 00:00:00.000</td><td>1253,81</td><td>1246,8760869565215</td></tr>\n",
                            "<tr><td>WST-205</td><td>Furo de Geotecnia</td><td>2017-07-14 00:00:00.000</td><td>1253,8</td><td>1246,8760869565215</td></tr>\n",
                            "<tr><td>WST-205</td><td>Furo de Geotecnia</td><td>2017-07-21 00:00:00.000</td><td>1253,8</td><td>1246,8760869565215</td></tr>\n",
                            "<tr><td>WST-205</td><td>Furo de Geotecnia</td><td>2017-07-26 00:00:00.000</td><td>1253,78</td><td>1246,8760869565215</td></tr>\n",
                            "<tr><td>WST-205</td><td>Furo de Geotecnia</td><td>2017-08-04 00:00:00.000</td><td>1253,78</td><td>1246,8760869565215</td></tr>\n",
                            "<tr><td>WST-205</td><td>Furo de Geotecnia</td><td>2017-08-10 00:00:00.000</td><td>1253,77</td><td>1246,8760869565215</td></tr>\n",
                            "<tr><td>WST-205</td><td>Furo de Geotecnia</td><td>2017-08-18 00:00:00.000</td><td>1253,77</td><td>1246,8760869565215</td></tr>\n",
                            "<tr><td>WST-205</td><td>Furo de Geotecnia</td><td>2017-08-25 00:00:00.000</td><td>1253,77</td><td>1246,8760869565215</td></tr>\n",
                            "<tr><td>WST-205</td><td>Furo de Geotecnia</td><td>2017-09-06 00:00:00.000</td><td>1253,74</td><td>1246,8760869565215</td></tr>\n",
                            "<tr><td>WST-205</td><td>Furo de Geotecnia</td><td>2017-09-15 00:00:00.000</td><td>1253,73</td><td>1246,8760869565215</td></tr>\n",
                            "<tr><td>WST-205</td><td>Furo de Geotecnia</td><td>2017-09-22 00:00:00.000</td><td>1253,73</td><td>1246,8760869565215</td></tr>\n",
                            "<tr><td>WST-205</td><td>Furo de Geotecnia</td><td>2017-09-27 00:00:00.000</td><td>1253,71</td><td>1246,8760869565215</td></tr>\n",
                            "<tr><td>WST-205</td><td>Furo de Geotecnia</td><td>2017-10-03 00:00:00.000</td><td>1253,72</td><td>1246,8760869565215</td></tr>\n",
                            "<tr><td>WST-205</td><td>Furo de Geotecnia</td><td>2017-10-13 00:00:00.000</td><td>1253,71</td><td>1246,8760869565215</td></tr>\n",
                            "<tr><td>WST-205</td><td>Furo de Geotecnia</td><td>2017-10-19 00:00:00.000</td><td>1253,7</td><td>1246,8760869565215</td></tr>\n",
                            "<tr><td>WST-205</td><td>Furo de Geotecnia</td><td>2017-10-27 00:00:00.000</td><td>1253,69</td><td>1246,8760869565215</td></tr>\n",
                            "<tr><td>WST-205</td><td>Furo de Geotecnia</td><td>2017-11-01 00:00:00.000</td><td>1253,69</td><td>1246,8760869565215</td></tr>\n",
                            "<tr><td>WST-205</td><td>Furo de Geotecnia</td><td>2017-11-10 00:00:00.000</td><td>1253,69</td><td>1246,8760869565215</td></tr>\n",
                            "<tr><td>WST-205</td><td>Furo de Geotecnia</td><td>2017-11-17 00:00:00.000</td><td>1253,69</td><td>1246,8760869565215</td></tr>\n",
                            "<tr><td>WST-205</td><td>Furo de Geotecnia</td><td>2017-11-27 00:00:00.000</td><td>1253,68</td><td>1246,8760869565215</td></tr>\n",
                            "<tr><td>WST-205</td><td>Furo de Geotecnia</td><td>2017-11-29 00:00:00.000</td><td>1253,69</td><td>1246,8760869565215</td></tr>\n",
                            "<tr><td>WST-205</td><td>Furo de Geotecnia</td><td>2017-12-05 00:00:00.000</td><td>1253,67</td><td>1246,8760869565215</td></tr>\n",
                            "<tr><td>WST-205</td><td>Furo de Geotecnia</td><td>2017-12-13 00:00:00.000</td><td>1253,66</td><td>1246,8760869565215</td></tr>\n",
                            "<tr><td>WST-205</td><td>Furo de Geotecnia</td><td>2017-12-19 00:00:00.000</td><td>1253,66</td><td>1246,8760869565215</td></tr>\n",
                            "<tr><td>WST-205</td><td>Furo de Geotecnia</td><td>2017-12-27 00:00:00.000</td><td>1253,69</td><td>1246,8760869565215</td></tr>\n",
                            "<tr><td>WST-205</td><td>Furo de Geotecnia</td><td>2018-01-03 00:00:00.000</td><td>1253,64</td><td>1246,8760869565215</td></tr>\n",
                            "<tr><td>WST-205</td><td>Furo de Geotecnia</td><td>2018-01-10 00:00:00.000</td><td>1253,64</td><td>1246,8760869565215</td></tr>\n",
                            "<tr><td>WST-205</td><td>Furo de Geotecnia</td><td>2018-01-18 00:00:00.000</td><td>1253,63</td><td>1246,8760869565215</td></tr>\n",
                            "<tr><td>WST-205</td><td>Furo de Geotecnia</td><td>2018-01-24 00:00:00.000</td><td>1253,62</td><td>1246,8760869565215</td></tr>\n",
                            "<tr><td>WST-205</td><td>Furo de Geotecnia</td><td>2018-02-02 00:00:00.000</td><td>1253,62</td><td>1246,8760869565215</td></tr>\n",
                            "<tr><td>WST-205</td><td>Furo de Geotecnia</td><td>2018-02-09 00:00:00.000</td><td>1253,62</td><td>1246,8760869565215</td></tr>\n",
                            "<tr><td>WST-205</td><td>Furo de Geotecnia</td><td>2018-02-14 00:00:00.000</td><td>1253,61</td><td>1246,8760869565215</td></tr>\n",
                            "<tr><td>WST-205</td><td>Furo de Geotecnia</td><td>2018-02-22 00:00:00.000</td><td>1253,61</td><td>1246,8760869565215</td></tr>\n",
                            "<tr><td>WST-205</td><td>Furo de Geotecnia</td><td>2018-02-27 00:00:00.000</td><td>1253,6</td><td>1246,8760869565215</td></tr>\n",
                            "<tr><td>WST-205</td><td>Furo de Geotecnia</td><td>2018-03-08 00:00:00.000</td><td>1253,59</td><td>1246,8760869565215</td></tr>\n",
                            "<tr><td>WST-205</td><td>Furo de Geotecnia</td><td>2018-03-14 00:00:00.000</td><td>1253,57</td><td>1246,8760869565215</td></tr>\n",
                            "<tr><td>WST-205</td><td>Furo de Geotecnia</td><td>2018-03-22 00:00:00.000</td><td>1253,65</td><td>1246,8760869565215</td></tr>\n",
                            "<tr><td>WST-205</td><td>Furo de Geotecnia</td><td>2018-03-28 00:00:00.000</td><td>1253,56</td><td>1246,8760869565215</td></tr>\n",
                            "<tr><td>WST-205</td><td>Furo de Geotecnia</td><td>2018-04-05 00:00:00.000</td><td>1253,56</td><td>1246,8760869565215</td></tr>\n",
                            "<tr><td>WST-205</td><td>Furo de Geotecnia</td><td>2018-04-10 00:00:00.000</td><td>1253,54</td><td>1246,8760869565215</td></tr>\n",
                            "<tr><td>WST-205</td><td>Furo de Geotecnia</td><td>2018-04-19 00:00:00.000</td><td>1253,53</td><td>1246,8760869565215</td></tr>\n",
                            "<tr><td>WST-205</td><td>Furo de Geotecnia</td><td>2018-04-27 00:00:00.000</td><td>1253,53</td><td>1246,8760869565215</td></tr>\n",
                            "<tr><td>WST-205</td><td>Furo de Geotecnia</td><td>2018-05-03 00:00:00.000</td><td>1253,52</td><td>1246,8760869565215</td></tr>\n",
                            "<tr><td>WST-205</td><td>Furo de Geotecnia</td><td>2018-05-09 00:00:00.000</td><td>1253,5</td><td>1246,8760869565215</td></tr>\n",
                            "<tr><td>WST-205</td><td>Furo de Geotecnia</td><td>2018-05-16 00:00:00.000</td><td>1253,51</td><td>1246,8760869565215</td></tr>\n",
                            "<tr><td>WST-205</td><td>Furo de Geotecnia</td><td>2018-06-05 00:00:00.000</td><td>1253,49</td><td>1246,8760869565215</td></tr>\n",
                            "<tr><td>WST-88</td><td>Dreno</td><td>2016-01-22 00:00:00.000</td><td>1270,58</td><td>1263,8033333333333</td></tr>\n",
                            "<tr><td>WST-88</td><td>Dreno</td><td>2016-02-17 00:00:00.000</td><td>1269,9</td><td>1263,8033333333333</td></tr>\n",
                            "<tr><td>WST-88</td><td>Dreno</td><td>2016-02-26 00:00:00.000</td><td>1269,41</td><td>1263,8033333333333</td></tr>\n",
                            "<tr><td>WST-88</td><td>Dreno</td><td>2016-04-27 00:00:00.000</td><td>1268,81</td><td>1263,8033333333333</td></tr>\n",
                            "<tr><td>WST-88</td><td>Dreno</td><td>2016-05-31 00:00:00.000</td><td>1266,66</td><td>1263,8033333333333</td></tr>\n",
                            "<tr><td>WST-88</td><td>Dreno</td><td>2016-06-24 00:00:00.000</td><td>1265,9</td><td>1263,8033333333333</td></tr>\n",
                            "<tr><td>WST-88</td><td>Dreno</td><td>2016-07-27 00:00:00.000</td><td>1264,89</td><td>1263,8033333333333</td></tr>\n",
                            "<tr><td>WST-88</td><td>Dreno</td><td>2016-08-25 00:00:00.000</td><td>1263,88</td><td>1263,8033333333333</td></tr>\n",
                            "</table>"
                        ]
                    },
                    "execution_count": 2,
                    "metadata": {},
                    "output_type": "execute_result"
                }
            ],
            "source": [
                "WITH medias_na AS (\n",
                "    SELECT\n",
                "        s.[Name]\n",
                "        ,AVG(gw.zwl_elevation)        AS [NA Médio]\n",
                "    FROM gw_level gw\n",
                "        INNER JOIN station s\n",
                "            ON gw.Station = s.ID\n",
                "    WHERE s.[Name] IN ('WST-88', 'WST-205')\n",
                "    GROUP BY s.[Name]\n",
                ")\n",
                "\n",
                "SELECT\n",
                "    s.[Name]            AS [Codigo HGA]\n",
                "    ,s.[stn_type]       AS [Tipo Ponto]\n",
                "    ,gw.date_           AS [Data]\n",
                "    ,gw.zwl_elevation   AS [Cota NA]\n",
                "    ,medias_na.[NA Médio]\n",
                "FROM gw_level gw\n",
                "    INNER JOIN station s\n",
                "        ON gw.Station = s.ID\n",
                "    INNER JOIN medias_na\n",
                "        ON s.Name = medias_na.Name\n",
                "WHERE gw.zwl_elevation > medias_na.[NA Médio]"
            ]
        },
        {
            "attachments": {},
            "cell_type": "markdown",
            "metadata": {
                "azdata_cell_guid": "e6388ac0-5336-4ff3-978c-64c499795d60"
            },
            "source": [
                "# 🔥 Desafio - **Cálculo da Cota do Nível d'Água**\n",
                "\n",
                "## Enunciado:\n",
                "\n",
                "- A tabela **`gw_level`** contém dados de monitoramento de **profundidade de água** (`depth`) e **cota do nível de água** (`zwl_elevation`).\n",
                "\n",
                "Normalmente, a cota do NA é um campo calculado a partir do conhecimento da cota do topo do poço e da leitura de profundidade de água, conforme o esquema a seguir.\n",
                "\n",
                "![well_monitoring](../../img/desafios/aula02/monitoring_well.jpg)\n",
                "\n",
                "A presença do campo `zwl_elevation` é importante para a inserção manual da cota do NA quando dados de profundidade não estão disponíveis.\n",
                "\n",
                "- A tabela **`station`** contém o cadastro de todos os pontos de monitoramento do projeto. Os seguintes campos são de importante conhecimento para a sequência do desafio:\n",
                "\n",
                "| Campo | Descrição |\n",
                "|----------------|-----------------|\n",
                "| Name | Código identificador único de cada ponto de monitoramento |\n",
                "| Elevation | Cota do terreno (m) |\n",
                "| toc | Cota **atual** do topo do poço. |\n",
                "\n",
                "- A tabela **`toc`** contém o registro das **alterações da cota do topo** dos poços, de acordo com o período.\n",
                "\n",
                "## Objetivo\n",
                "O desafio é escrever uma consulta SQL para calcular a **cota do nível d'água** de cada poço por dia, levando em consideração as cotas estáticas da tabela `station` e as alterações de cota do topo da tabela `toc`.\n",
                "\n",
                "A lógica de calculo a ser considerada é a seguinte:\n",
                "\n",
                "1. Apenas os pontos do tipo `Poco Tubular` serão considerados;\n",
                "    - Esta informação está presente no campo `stn_type` da tabela `station`;\n",
                "    - Atenção para a sintaxe!\n",
                "2. Ignore o campo `zwl_elevation` da tabela `gw_level`, ele será recalculado a partir das cotas do ponto e das medições de profundidade;\n",
                "3. Calcule a cota do nível d'água:\n",
                "   - Obtenha as **cotas do topo mais recentes** para cada poço, a partir da tabela `toc`;\n",
                "     - Para o poço 'WST-416', a cota do topo não foi cadastrada, mas sim a cota do terreno.. Para antecipar este problema, considere o valor da cota do terreno (`Elevation`) ao invés da cota do topo (`toc`) nestes casos.\n",
                "   - Subtraia a medida da profundidade (`depth`) da cota obtida no passo anterior.\n",
                "\n",
                "> Cota NA (m) = ([CotaTopo (m)] ou [CotaTerreno (m)]) - [Profundidade (m)]\n",
                "\n",
                "****"
            ]
        },
        {
            "cell_type": "code",
            "execution_count": 3,
            "metadata": {
                "azdata_cell_guid": "7b0cf6ca-dd5d-4f82-86fa-35745c90e253",
                "language": "sql"
            },
            "outputs": [
                {
                    "data": {
                        "text/html": [
                            "(12 rows affected)"
                        ]
                    },
                    "metadata": {},
                    "output_type": "display_data"
                },
                {
                    "data": {
                        "text/html": [
                            "Total execution time: 00:00:00.012"
                        ]
                    },
                    "metadata": {},
                    "output_type": "display_data"
                },
                {
                    "data": {
                        "application/vnd.dataresource+json": {
                            "data": [
                                {
                                    "Name": "WST-417",
                                    "toc": "1250,2"
                                },
                                {
                                    "Name": "WST-418",
                                    "toc": "1181,5"
                                },
                                {
                                    "Name": "WST-419",
                                    "toc": "1195,9"
                                },
                                {
                                    "Name": "WST-420",
                                    "toc": "1211,9"
                                },
                                {
                                    "Name": "WST-421",
                                    "toc": "1211,9"
                                },
                                {
                                    "Name": "WST-422",
                                    "toc": "1197,4"
                                },
                                {
                                    "Name": "WST-423",
                                    "toc": "1170"
                                },
                                {
                                    "Name": "WST-424",
                                    "toc": "1171"
                                },
                                {
                                    "Name": "WST-425",
                                    "toc": "1271,5"
                                },
                                {
                                    "Name": "WST-426",
                                    "toc": "1191,6"
                                },
                                {
                                    "Name": "WST-427",
                                    "toc": "1220,7"
                                },
                                {
                                    "Name": "WST-428",
                                    "toc": "1171,7"
                                }
                            ],
                            "schema": {
                                "fields": [
                                    {
                                        "name": "Name"
                                    },
                                    {
                                        "name": "toc"
                                    }
                                ]
                            }
                        },
                        "text/html": [
                            "<table>\n",
                            "<tr><th>Name</th><th>toc</th></tr>\n",
                            "<tr><td>WST-417</td><td>1250,2</td></tr>\n",
                            "<tr><td>WST-418</td><td>1181,5</td></tr>\n",
                            "<tr><td>WST-419</td><td>1195,9</td></tr>\n",
                            "<tr><td>WST-420</td><td>1211,9</td></tr>\n",
                            "<tr><td>WST-421</td><td>1211,9</td></tr>\n",
                            "<tr><td>WST-422</td><td>1197,4</td></tr>\n",
                            "<tr><td>WST-423</td><td>1170</td></tr>\n",
                            "<tr><td>WST-424</td><td>1171</td></tr>\n",
                            "<tr><td>WST-425</td><td>1271,5</td></tr>\n",
                            "<tr><td>WST-426</td><td>1191,6</td></tr>\n",
                            "<tr><td>WST-427</td><td>1220,7</td></tr>\n",
                            "<tr><td>WST-428</td><td>1171,7</td></tr>\n",
                            "</table>"
                        ]
                    },
                    "execution_count": 3,
                    "metadata": {},
                    "output_type": "execute_result"
                }
            ],
            "source": [
                "-- Primeiro passo: Obter cotas do topo mais recentes - tabela toc\n",
                "-- 🔓 Dica secreta: A data final das cotas vigentes foi cadastrada como '31/12/2030'\n",
                "-- Em alguns casos, o campo da data final é mantido em branco..\n",
                "\n",
                "SELECT s.Name, t.elevation AS toc\n",
                "FROM station s\n",
                "    JOIN toc t\n",
                "        ON s.ID = t.Station\n",
                "WHERE \n",
                "    s.stn_type = 'Poco Tubular' \n",
                "    AND t.period_end = '2030-12-31'"
            ]
        },
        {
            "cell_type": "code",
            "execution_count": null,
            "metadata": {
                "azdata_cell_guid": "ff617f2c-a892-4531-bb28-a537b273e391",
                "language": "sql",
                "tags": []
            },
            "outputs": [],
            "source": [
                "WITH toc_recente AS (\n",
                "    SELECT Station, MAX(period_end) AS [max_data]\n",
                "    FROM toc\n",
                "    GROUP BY Station\n",
                ")\n",
                "\n",
                "SELECT s.Name, t.elevation AS toc\n",
                "FROM station s\n",
                "    JOIN toc t\n",
                "        ON s.ID = t.Station\n",
                "    JOIN toc_recente tr\n",
                "        ON t.Station = tr.Station \n",
                "        AND t.period_end = tr.max_data\n",
                "WHERE s.stn_type = 'Poco Tubular'"
            ]
        },
        {
            "cell_type": "code",
            "execution_count": 4,
            "metadata": {
                "azdata_cell_guid": "06dae411-829d-46be-8a50-0c15b5791847",
                "language": "sql"
            },
            "outputs": [
                {
                    "data": {
                        "text/html": [
                            "(21 rows affected)"
                        ]
                    },
                    "metadata": {},
                    "output_type": "display_data"
                },
                {
                    "data": {
                        "text/html": [
                            "Total execution time: 00:00:00.016"
                        ]
                    },
                    "metadata": {},
                    "output_type": "display_data"
                },
                {
                    "data": {
                        "application/vnd.dataresource+json": {
                            "data": [
                                {
                                    "Name": "WST-411",
                                    "toc": "NULL"
                                },
                                {
                                    "Name": "WST-412",
                                    "toc": "NULL"
                                },
                                {
                                    "Name": "WST-414",
                                    "toc": "NULL"
                                },
                                {
                                    "Name": "WST-415",
                                    "toc": "NULL"
                                },
                                {
                                    "Name": "WST-416",
                                    "toc": "1236,89"
                                },
                                {
                                    "Name": "WST-417",
                                    "toc": "1250,2"
                                },
                                {
                                    "Name": "WST-418",
                                    "toc": "1181,5"
                                },
                                {
                                    "Name": "WST-419",
                                    "toc": "1195,9"
                                },
                                {
                                    "Name": "WST-420",
                                    "toc": "1211,9"
                                },
                                {
                                    "Name": "WST-421",
                                    "toc": "1211,9"
                                },
                                {
                                    "Name": "WST-422",
                                    "toc": "1197,4"
                                },
                                {
                                    "Name": "WST-423",
                                    "toc": "1170"
                                },
                                {
                                    "Name": "WST-424",
                                    "toc": "1171"
                                },
                                {
                                    "Name": "WST-425",
                                    "toc": "1271,5"
                                },
                                {
                                    "Name": "WST-426",
                                    "toc": "1191,6"
                                },
                                {
                                    "Name": "WST-427",
                                    "toc": "1220,7"
                                },
                                {
                                    "Name": "WST-428",
                                    "toc": "1171,7"
                                },
                                {
                                    "Name": "WST-429",
                                    "toc": "NULL"
                                },
                                {
                                    "Name": "WST-588",
                                    "toc": "NULL"
                                },
                                {
                                    "Name": "WST-589",
                                    "toc": "NULL"
                                },
                                {
                                    "Name": "WST-590",
                                    "toc": "NULL"
                                }
                            ],
                            "schema": {
                                "fields": [
                                    {
                                        "name": "Name"
                                    },
                                    {
                                        "name": "toc"
                                    }
                                ]
                            }
                        },
                        "text/html": [
                            "<table>\n",
                            "<tr><th>Name</th><th>toc</th></tr>\n",
                            "<tr><td>WST-411</td><td>NULL</td></tr>\n",
                            "<tr><td>WST-412</td><td>NULL</td></tr>\n",
                            "<tr><td>WST-414</td><td>NULL</td></tr>\n",
                            "<tr><td>WST-415</td><td>NULL</td></tr>\n",
                            "<tr><td>WST-416</td><td>1236,89</td></tr>\n",
                            "<tr><td>WST-417</td><td>1250,2</td></tr>\n",
                            "<tr><td>WST-418</td><td>1181,5</td></tr>\n",
                            "<tr><td>WST-419</td><td>1195,9</td></tr>\n",
                            "<tr><td>WST-420</td><td>1211,9</td></tr>\n",
                            "<tr><td>WST-421</td><td>1211,9</td></tr>\n",
                            "<tr><td>WST-422</td><td>1197,4</td></tr>\n",
                            "<tr><td>WST-423</td><td>1170</td></tr>\n",
                            "<tr><td>WST-424</td><td>1171</td></tr>\n",
                            "<tr><td>WST-425</td><td>1271,5</td></tr>\n",
                            "<tr><td>WST-426</td><td>1191,6</td></tr>\n",
                            "<tr><td>WST-427</td><td>1220,7</td></tr>\n",
                            "<tr><td>WST-428</td><td>1171,7</td></tr>\n",
                            "<tr><td>WST-429</td><td>NULL</td></tr>\n",
                            "<tr><td>WST-588</td><td>NULL</td></tr>\n",
                            "<tr><td>WST-589</td><td>NULL</td></tr>\n",
                            "<tr><td>WST-590</td><td>NULL</td></tr>\n",
                            "</table>"
                        ]
                    },
                    "execution_count": 4,
                    "metadata": {},
                    "output_type": "execute_result"
                }
            ],
            "source": [
                "-- Segundo passo: Adicionar lógica para considerar o campo 'Elevation'\n",
                "-- para todos os poços tubulares sem registros na tabela toc\n",
                "\n",
                "-- Dica 1: LEFT JOIN para manter poços sem alterações\n",
                "-- Dica 2: COALESCE para considerar cota do terreno\n",
                "\n",
                "SELECT\n",
                "    s.Name\n",
                "    ,COALESCE(\n",
                "        t.elevation\n",
                "        ,s.Elevation\n",
                "     ) AS toc\n",
                "FROM station s\n",
                "    LEFT JOIN toc t\n",
                "        ON s.ID = t.Station\n",
                "WHERE\n",
                "    s.stn_type = 'Poco Tubular' AND \n",
                "    (t.period_end = '2030-12-31' OR t.period_end IS NULL)"
            ]
        },
        {
            "cell_type": "code",
            "execution_count": 5,
            "metadata": {
                "azdata_cell_guid": "358b7c34-7705-437d-b4f2-402ef22aa447",
                "language": "sql"
            },
            "outputs": [
                {
                    "data": {
                        "text/html": [
                            "(1258 rows affected)"
                        ]
                    },
                    "metadata": {},
                    "output_type": "display_data"
                },
                {
                    "data": {
                        "text/html": [
                            "Total execution time: 00:00:00.022"
                        ]
                    },
                    "metadata": {},
                    "output_type": "display_data"
                },
                {
                    "data": {
                        "application/vnd.dataresource+json": {
                            "data": [
                                {
                                    "Codigo HGA": "WST-416",
                                    "Cota NA (m)": "1178,91",
                                    "Cota Topo (m)": "1236,89",
                                    "Data": "2017-09-22 00:00:00.000",
                                    "Profundidade (m)": "57,98"
                                },
                                {
                                    "Codigo HGA": "WST-416",
                                    "Cota NA (m)": "1180,33",
                                    "Cota Topo (m)": "1236,89",
                                    "Data": "2017-09-27 00:00:00.000",
                                    "Profundidade (m)": "56,56"
                                },
                                {
                                    "Codigo HGA": "WST-416",
                                    "Cota NA (m)": "1181,89",
                                    "Cota Topo (m)": "1236,89",
                                    "Data": "2017-10-04 00:00:00.000",
                                    "Profundidade (m)": "55"
                                },
                                {
                                    "Codigo HGA": "WST-417",
                                    "Cota NA (m)": "1189,08",
                                    "Cota Topo (m)": "1250,2",
                                    "Data": "2017-09-15 00:00:00.000",
                                    "Profundidade (m)": "61,12"
                                },
                                {
                                    "Codigo HGA": "WST-417",
                                    "Cota NA (m)": "1188,3",
                                    "Cota Topo (m)": "1250,2",
                                    "Data": "2017-09-22 00:00:00.000",
                                    "Profundidade (m)": "61,9"
                                },
                                {
                                    "Codigo HGA": "WST-417",
                                    "Cota NA (m)": "1194,28",
                                    "Cota Topo (m)": "1250,2",
                                    "Data": "2017-09-28 00:00:00.000",
                                    "Profundidade (m)": "55,92"
                                },
                                {
                                    "Codigo HGA": "WST-417",
                                    "Cota NA (m)": "1187,8",
                                    "Cota Topo (m)": "1250,2",
                                    "Data": "2017-10-04 00:00:00.000",
                                    "Profundidade (m)": "62,4"
                                },
                                {
                                    "Codigo HGA": "WST-417",
                                    "Cota NA (m)": "1187,35",
                                    "Cota Topo (m)": "1250,2",
                                    "Data": "2017-10-11 00:00:00.000",
                                    "Profundidade (m)": "62,85"
                                },
                                {
                                    "Codigo HGA": "WST-417",
                                    "Cota NA (m)": "1188,46",
                                    "Cota Topo (m)": "1250,2",
                                    "Data": "2017-10-19 00:00:00.000",
                                    "Profundidade (m)": "61,74"
                                },
                                {
                                    "Codigo HGA": "WST-417",
                                    "Cota NA (m)": "1189,51",
                                    "Cota Topo (m)": "1250,2",
                                    "Data": "2017-10-27 00:00:00.000",
                                    "Profundidade (m)": "60,69"
                                },
                                {
                                    "Codigo HGA": "WST-417",
                                    "Cota NA (m)": "1193,88",
                                    "Cota Topo (m)": "1250,2",
                                    "Data": "2017-10-30 00:00:00.000",
                                    "Profundidade (m)": "56,32"
                                },
                                {
                                    "Codigo HGA": "WST-417",
                                    "Cota NA (m)": "1193,88",
                                    "Cota Topo (m)": "1250,2",
                                    "Data": "2017-11-03 00:00:00.000",
                                    "Profundidade (m)": "56,32"
                                },
                                {
                                    "Codigo HGA": "WST-417",
                                    "Cota NA (m)": "1185,84",
                                    "Cota Topo (m)": "1250,2",
                                    "Data": "2017-11-10 00:00:00.000",
                                    "Profundidade (m)": "64,36"
                                },
                                {
                                    "Codigo HGA": "WST-417",
                                    "Cota NA (m)": "1185,57",
                                    "Cota Topo (m)": "1250,2",
                                    "Data": "2017-11-20 00:00:00.000",
                                    "Profundidade (m)": "64,63"
                                },
                                {
                                    "Codigo HGA": "WST-417",
                                    "Cota NA (m)": "1184,62",
                                    "Cota Topo (m)": "1250,2",
                                    "Data": "2017-11-27 00:00:00.000",
                                    "Profundidade (m)": "65,58"
                                },
                                {
                                    "Codigo HGA": "WST-417",
                                    "Cota NA (m)": "1182,81",
                                    "Cota Topo (m)": "1250,2",
                                    "Data": "2017-11-30 00:00:00.000",
                                    "Profundidade (m)": "67,39"
                                },
                                {
                                    "Codigo HGA": "WST-417",
                                    "Cota NA (m)": "1185,6",
                                    "Cota Topo (m)": "1250,2",
                                    "Data": "2017-12-07 00:00:00.000",
                                    "Profundidade (m)": "64,6"
                                },
                                {
                                    "Codigo HGA": "WST-417",
                                    "Cota NA (m)": "1184,35",
                                    "Cota Topo (m)": "1250,2",
                                    "Data": "2017-12-14 00:00:00.000",
                                    "Profundidade (m)": "65,85"
                                },
                                {
                                    "Codigo HGA": "WST-417",
                                    "Cota NA (m)": "1179,55",
                                    "Cota Topo (m)": "1250,2",
                                    "Data": "2017-12-20 00:00:00.000",
                                    "Profundidade (m)": "70,65"
                                },
                                {
                                    "Codigo HGA": "WST-417",
                                    "Cota NA (m)": "1182,38",
                                    "Cota Topo (m)": "1250,2",
                                    "Data": "2018-01-05 00:00:00.000",
                                    "Profundidade (m)": "67,82"
                                },
                                {
                                    "Codigo HGA": "WST-417",
                                    "Cota NA (m)": "1182,81",
                                    "Cota Topo (m)": "1250,2",
                                    "Data": "2018-01-12 00:00:00.000",
                                    "Profundidade (m)": "67,39"
                                },
                                {
                                    "Codigo HGA": "WST-417",
                                    "Cota NA (m)": "1180,17",
                                    "Cota Topo (m)": "1250,2",
                                    "Data": "2018-01-17 00:00:00.000",
                                    "Profundidade (m)": "70,03"
                                },
                                {
                                    "Codigo HGA": "WST-417",
                                    "Cota NA (m)": "1179,61",
                                    "Cota Topo (m)": "1250,2",
                                    "Data": "2018-01-24 00:00:00.000",
                                    "Profundidade (m)": "70,59"
                                },
                                {
                                    "Codigo HGA": "WST-417",
                                    "Cota NA (m)": "1179,26",
                                    "Cota Topo (m)": "1250,2",
                                    "Data": "2018-02-02 00:00:00.000",
                                    "Profundidade (m)": "70,94"
                                },
                                {
                                    "Codigo HGA": "WST-417",
                                    "Cota NA (m)": "1187,72",
                                    "Cota Topo (m)": "1250,2",
                                    "Data": "2018-02-15 00:00:00.000",
                                    "Profundidade (m)": "62,48"
                                },
                                {
                                    "Codigo HGA": "WST-417",
                                    "Cota NA (m)": "1181",
                                    "Cota Topo (m)": "1250,2",
                                    "Data": "2018-02-23 00:00:00.000",
                                    "Profundidade (m)": "69,2"
                                },
                                {
                                    "Codigo HGA": "WST-417",
                                    "Cota NA (m)": "1175,88",
                                    "Cota Topo (m)": "1250,2",
                                    "Data": "2018-03-09 00:00:00.000",
                                    "Profundidade (m)": "74,32"
                                },
                                {
                                    "Codigo HGA": "WST-417",
                                    "Cota NA (m)": "1163,53",
                                    "Cota Topo (m)": "1250,2",
                                    "Data": "2018-03-15 00:00:00.000",
                                    "Profundidade (m)": "86,67"
                                },
                                {
                                    "Codigo HGA": "WST-417",
                                    "Cota NA (m)": "1177,55",
                                    "Cota Topo (m)": "1250,2",
                                    "Data": "2018-04-06 00:00:00.000",
                                    "Profundidade (m)": "72,65"
                                },
                                {
                                    "Codigo HGA": "WST-417",
                                    "Cota NA (m)": "1200",
                                    "Cota Topo (m)": "1250,2",
                                    "Data": "2018-04-13 00:00:00.000",
                                    "Profundidade (m)": "50,2"
                                },
                                {
                                    "Codigo HGA": "WST-417",
                                    "Cota NA (m)": "1184,32",
                                    "Cota Topo (m)": "1250,2",
                                    "Data": "2018-04-20 00:00:00.000",
                                    "Profundidade (m)": "65,88"
                                },
                                {
                                    "Codigo HGA": "WST-417",
                                    "Cota NA (m)": "1179,58",
                                    "Cota Topo (m)": "1250,2",
                                    "Data": "2018-04-26 00:00:00.000",
                                    "Profundidade (m)": "70,62"
                                },
                                {
                                    "Codigo HGA": "WST-417",
                                    "Cota NA (m)": "1182,13",
                                    "Cota Topo (m)": "1250,2",
                                    "Data": "2018-05-03 00:00:00.000",
                                    "Profundidade (m)": "68,07"
                                },
                                {
                                    "Codigo HGA": "WST-417",
                                    "Cota NA (m)": "1199,07",
                                    "Cota Topo (m)": "1250,2",
                                    "Data": "2018-05-11 00:00:00.000",
                                    "Profundidade (m)": "51,13"
                                },
                                {
                                    "Codigo HGA": "WST-417",
                                    "Cota NA (m)": "1200,47",
                                    "Cota Topo (m)": "1250,2",
                                    "Data": "2018-05-18 00:00:00.000",
                                    "Profundidade (m)": "49,73"
                                },
                                {
                                    "Codigo HGA": "WST-417",
                                    "Cota NA (m)": "1170,8",
                                    "Cota Topo (m)": "1250,2",
                                    "Data": "2018-06-08 00:00:00.000",
                                    "Profundidade (m)": "79,4"
                                },
                                {
                                    "Codigo HGA": "WST-417",
                                    "Cota NA (m)": "1196,47",
                                    "Cota Topo (m)": "1250,2",
                                    "Data": "2018-06-15 00:00:00.000",
                                    "Profundidade (m)": "53,73"
                                },
                                {
                                    "Codigo HGA": "WST-417",
                                    "Cota NA (m)": "1179,6",
                                    "Cota Topo (m)": "1250,2",
                                    "Data": "2018-07-20 00:00:00.000",
                                    "Profundidade (m)": "70,6"
                                },
                                {
                                    "Codigo HGA": "WST-417",
                                    "Cota NA (m)": "1177,32",
                                    "Cota Topo (m)": "1250,2",
                                    "Data": "2018-07-27 00:00:00.000",
                                    "Profundidade (m)": "72,88"
                                },
                                {
                                    "Codigo HGA": "WST-417",
                                    "Cota NA (m)": "1176,44",
                                    "Cota Topo (m)": "1250,2",
                                    "Data": "2018-08-03 00:00:00.000",
                                    "Profundidade (m)": "73,76"
                                },
                                {
                                    "Codigo HGA": "WST-417",
                                    "Cota NA (m)": "1184,9",
                                    "Cota Topo (m)": "1250,2",
                                    "Data": "2018-08-24 00:00:00.000",
                                    "Profundidade (m)": "65,3"
                                },
                                {
                                    "Codigo HGA": "WST-417",
                                    "Cota NA (m)": "1179,42",
                                    "Cota Topo (m)": "1250,2",
                                    "Data": "2018-08-31 00:00:00.000",
                                    "Profundidade (m)": "70,78"
                                },
                                {
                                    "Codigo HGA": "WST-417",
                                    "Cota NA (m)": "1177",
                                    "Cota Topo (m)": "1250,2",
                                    "Data": "2018-09-05 00:00:00.000",
                                    "Profundidade (m)": "73,2"
                                },
                                {
                                    "Codigo HGA": "WST-417",
                                    "Cota NA (m)": "1176,57",
                                    "Cota Topo (m)": "1250,2",
                                    "Data": "2018-09-13 00:00:00.000",
                                    "Profundidade (m)": "73,63"
                                },
                                {
                                    "Codigo HGA": "WST-417",
                                    "Cota NA (m)": "1177,62",
                                    "Cota Topo (m)": "1250,2",
                                    "Data": "2018-09-26 00:00:00.000",
                                    "Profundidade (m)": "72,58"
                                },
                                {
                                    "Codigo HGA": "WST-417",
                                    "Cota NA (m)": "1163,84",
                                    "Cota Topo (m)": "1250,2",
                                    "Data": "2018-10-03 00:00:00.000",
                                    "Profundidade (m)": "86,36"
                                },
                                {
                                    "Codigo HGA": "WST-417",
                                    "Cota NA (m)": "1163,66",
                                    "Cota Topo (m)": "1250,2",
                                    "Data": "2018-10-10 00:00:00.000",
                                    "Profundidade (m)": "86,54"
                                },
                                {
                                    "Codigo HGA": "WST-417",
                                    "Cota NA (m)": "1180,05",
                                    "Cota Topo (m)": "1250,2",
                                    "Data": "2018-11-01 00:00:00.000",
                                    "Profundidade (m)": "70,15"
                                },
                                {
                                    "Codigo HGA": "WST-417",
                                    "Cota NA (m)": "1194,5",
                                    "Cota Topo (m)": "1250,2",
                                    "Data": "2018-11-14 00:00:00.000",
                                    "Profundidade (m)": "55,7"
                                },
                                {
                                    "Codigo HGA": "WST-417",
                                    "Cota NA (m)": "1192,97",
                                    "Cota Topo (m)": "1250,2",
                                    "Data": "2018-11-29 00:00:00.000",
                                    "Profundidade (m)": "57,23"
                                },
                                {
                                    "Codigo HGA": "WST-417",
                                    "Cota NA (m)": "1189,76",
                                    "Cota Topo (m)": "1250,2",
                                    "Data": "2018-12-24 00:00:00.000",
                                    "Profundidade (m)": "60,44"
                                },
                                {
                                    "Codigo HGA": "WST-418",
                                    "Cota NA (m)": "1129,77",
                                    "Cota Topo (m)": "1181,5",
                                    "Data": "2017-05-18 00:00:00.000",
                                    "Profundidade (m)": "51,73"
                                },
                                {
                                    "Codigo HGA": "WST-418",
                                    "Cota NA (m)": "1138,63",
                                    "Cota Topo (m)": "1181,5",
                                    "Data": "2017-05-22 00:00:00.000",
                                    "Profundidade (m)": "42,87"
                                },
                                {
                                    "Codigo HGA": "WST-418",
                                    "Cota NA (m)": "1128,81",
                                    "Cota Topo (m)": "1181,5",
                                    "Data": "2017-06-02 00:00:00.000",
                                    "Profundidade (m)": "52,69"
                                },
                                {
                                    "Codigo HGA": "WST-418",
                                    "Cota NA (m)": "1131,57",
                                    "Cota Topo (m)": "1181,5",
                                    "Data": "2017-06-08 00:00:00.000",
                                    "Profundidade (m)": "49,93"
                                },
                                {
                                    "Codigo HGA": "WST-418",
                                    "Cota NA (m)": "NULL",
                                    "Cota Topo (m)": "1181,5",
                                    "Data": "2017-06-16 00:00:00.000",
                                    "Profundidade (m)": "NULL"
                                },
                                {
                                    "Codigo HGA": "WST-418",
                                    "Cota NA (m)": "1097,38",
                                    "Cota Topo (m)": "1181,5",
                                    "Data": "2017-10-30 00:00:00.000",
                                    "Profundidade (m)": "84,12"
                                },
                                {
                                    "Codigo HGA": "WST-418",
                                    "Cota NA (m)": "1094,53",
                                    "Cota Topo (m)": "1181,5",
                                    "Data": "2017-11-30 00:00:00.000",
                                    "Profundidade (m)": "86,97"
                                },
                                {
                                    "Codigo HGA": "WST-418",
                                    "Cota NA (m)": "1094,7",
                                    "Cota Topo (m)": "1181,5",
                                    "Data": "2017-12-28 00:00:00.000",
                                    "Profundidade (m)": "86,8"
                                },
                                {
                                    "Codigo HGA": "WST-418",
                                    "Cota NA (m)": "1120,6",
                                    "Cota Topo (m)": "1181,5",
                                    "Data": "2018-01-24 00:00:00.000",
                                    "Profundidade (m)": "60,9"
                                },
                                {
                                    "Codigo HGA": "WST-418",
                                    "Cota NA (m)": "1113,37",
                                    "Cota Topo (m)": "1181,5",
                                    "Data": "2018-02-21 00:00:00.000",
                                    "Profundidade (m)": "68,13"
                                },
                                {
                                    "Codigo HGA": "WST-418",
                                    "Cota NA (m)": "1106,69",
                                    "Cota Topo (m)": "1181,5",
                                    "Data": "2018-03-26 00:00:00.000",
                                    "Profundidade (m)": "74,81"
                                },
                                {
                                    "Codigo HGA": "WST-418",
                                    "Cota NA (m)": "1106,69",
                                    "Cota Topo (m)": "1181,5",
                                    "Data": "2018-03-28 00:00:00.000",
                                    "Profundidade (m)": "74,81"
                                },
                                {
                                    "Codigo HGA": "WST-418",
                                    "Cota NA (m)": "1100,81",
                                    "Cota Topo (m)": "1181,5",
                                    "Data": "2018-04-13 00:00:00.000",
                                    "Profundidade (m)": "80,69"
                                },
                                {
                                    "Codigo HGA": "WST-418",
                                    "Cota NA (m)": "1101,53",
                                    "Cota Topo (m)": "1181,5",
                                    "Data": "2018-05-18 00:00:00.000",
                                    "Profundidade (m)": "79,97"
                                },
                                {
                                    "Codigo HGA": "WST-418",
                                    "Cota NA (m)": "1101,53",
                                    "Cota Topo (m)": "1181,5",
                                    "Data": "2018-06-04 00:00:00.000",
                                    "Profundidade (m)": "79,97"
                                },
                                {
                                    "Codigo HGA": "WST-418",
                                    "Cota NA (m)": "1116,1",
                                    "Cota Topo (m)": "1181,5",
                                    "Data": "2019-05-31 00:00:00.000",
                                    "Profundidade (m)": "65,4"
                                },
                                {
                                    "Codigo HGA": "WST-418",
                                    "Cota NA (m)": "1116",
                                    "Cota Topo (m)": "1181,5",
                                    "Data": "2019-06-14 00:00:00.000",
                                    "Profundidade (m)": "65,5"
                                },
                                {
                                    "Codigo HGA": "WST-418",
                                    "Cota NA (m)": "1148,54",
                                    "Cota Topo (m)": "1181,5",
                                    "Data": "2019-09-03 00:00:00.000",
                                    "Profundidade (m)": "32,96"
                                },
                                {
                                    "Codigo HGA": "WST-418",
                                    "Cota NA (m)": "1164,08",
                                    "Cota Topo (m)": "1181,5",
                                    "Data": "2020-03-22 00:00:00.000",
                                    "Profundidade (m)": "17,42"
                                },
                                {
                                    "Codigo HGA": "WST-418",
                                    "Cota NA (m)": "1164,94",
                                    "Cota Topo (m)": "1181,5",
                                    "Data": "2020-03-26 00:00:00.000",
                                    "Profundidade (m)": "16,56"
                                },
                                {
                                    "Codigo HGA": "WST-418",
                                    "Cota NA (m)": "1165,1",
                                    "Cota Topo (m)": "1181,5",
                                    "Data": "2020-04-01 00:00:00.000",
                                    "Profundidade (m)": "16,4"
                                },
                                {
                                    "Codigo HGA": "WST-418",
                                    "Cota NA (m)": "1151,39",
                                    "Cota Topo (m)": "1181,5",
                                    "Data": "2021-01-25 00:00:00.000",
                                    "Profundidade (m)": "30,11"
                                },
                                {
                                    "Codigo HGA": "WST-418",
                                    "Cota NA (m)": "1151,25",
                                    "Cota Topo (m)": "1181,5",
                                    "Data": "2021-02-02 00:00:00.000",
                                    "Profundidade (m)": "30,25"
                                },
                                {
                                    "Codigo HGA": "WST-418",
                                    "Cota NA (m)": "1152,55",
                                    "Cota Topo (m)": "1181,5",
                                    "Data": "2021-02-08 00:00:00.000",
                                    "Profundidade (m)": "28,95"
                                },
                                {
                                    "Codigo HGA": "WST-418",
                                    "Cota NA (m)": "1154,31",
                                    "Cota Topo (m)": "1181,5",
                                    "Data": "2021-02-18 00:00:00.000",
                                    "Profundidade (m)": "27,19"
                                },
                                {
                                    "Codigo HGA": "WST-418",
                                    "Cota NA (m)": "1154,52",
                                    "Cota Topo (m)": "1181,5",
                                    "Data": "2021-02-22 00:00:00.000",
                                    "Profundidade (m)": "26,98"
                                },
                                {
                                    "Codigo HGA": "WST-418",
                                    "Cota NA (m)": "1155,51",
                                    "Cota Topo (m)": "1181,5",
                                    "Data": "2021-03-01 00:00:00.000",
                                    "Profundidade (m)": "25,99"
                                },
                                {
                                    "Codigo HGA": "WST-418",
                                    "Cota NA (m)": "1156,13",
                                    "Cota Topo (m)": "1181,5",
                                    "Data": "2021-03-08 00:00:00.000",
                                    "Profundidade (m)": "25,37"
                                },
                                {
                                    "Codigo HGA": "WST-418",
                                    "Cota NA (m)": "1154,38",
                                    "Cota Topo (m)": "1181,5",
                                    "Data": "2021-03-18 00:00:00.000",
                                    "Profundidade (m)": "27,12"
                                },
                                {
                                    "Codigo HGA": "WST-418",
                                    "Cota NA (m)": "1154,25",
                                    "Cota Topo (m)": "1181,5",
                                    "Data": "2021-03-25 00:00:00.000",
                                    "Profundidade (m)": "27,25"
                                },
                                {
                                    "Codigo HGA": "WST-418",
                                    "Cota NA (m)": "1153,19",
                                    "Cota Topo (m)": "1181,5",
                                    "Data": "2021-04-01 00:00:00.000",
                                    "Profundidade (m)": "28,31"
                                },
                                {
                                    "Codigo HGA": "WST-418",
                                    "Cota NA (m)": "1153",
                                    "Cota Topo (m)": "1181,5",
                                    "Data": "2021-04-05 00:00:00.000",
                                    "Profundidade (m)": "28,5"
                                },
                                {
                                    "Codigo HGA": "WST-418",
                                    "Cota NA (m)": "1152,5",
                                    "Cota Topo (m)": "1181,5",
                                    "Data": "2021-04-12 00:00:00.000",
                                    "Profundidade (m)": "29"
                                },
                                {
                                    "Codigo HGA": "WST-418",
                                    "Cota NA (m)": "1152,52",
                                    "Cota Topo (m)": "1181,5",
                                    "Data": "2021-04-19 00:00:00.000",
                                    "Profundidade (m)": "28,98"
                                },
                                {
                                    "Codigo HGA": "WST-418",
                                    "Cota NA (m)": "1151,13",
                                    "Cota Topo (m)": "1181,5",
                                    "Data": "2021-04-28 00:00:00.000",
                                    "Profundidade (m)": "30,37"
                                },
                                {
                                    "Codigo HGA": "WST-418",
                                    "Cota NA (m)": "1150,98",
                                    "Cota Topo (m)": "1181,5",
                                    "Data": "2021-05-03 00:00:00.000",
                                    "Profundidade (m)": "30,52"
                                },
                                {
                                    "Codigo HGA": "WST-418",
                                    "Cota NA (m)": "1151,19",
                                    "Cota Topo (m)": "1181,5",
                                    "Data": "2021-05-12 00:00:00.000",
                                    "Profundidade (m)": "30,31"
                                },
                                {
                                    "Codigo HGA": "WST-418",
                                    "Cota NA (m)": "1150,58",
                                    "Cota Topo (m)": "1181,5",
                                    "Data": "2021-05-18 00:00:00.000",
                                    "Profundidade (m)": "30,92"
                                },
                                {
                                    "Codigo HGA": "WST-418",
                                    "Cota NA (m)": "1150,06",
                                    "Cota Topo (m)": "1181,5",
                                    "Data": "2021-05-24 00:00:00.000",
                                    "Profundidade (m)": "31,44"
                                },
                                {
                                    "Codigo HGA": "WST-418",
                                    "Cota NA (m)": "1149,78",
                                    "Cota Topo (m)": "1181,5",
                                    "Data": "2021-05-31 00:00:00.000",
                                    "Profundidade (m)": "31,72"
                                },
                                {
                                    "Codigo HGA": "WST-418",
                                    "Cota NA (m)": "1149,48",
                                    "Cota Topo (m)": "1181,5",
                                    "Data": "2021-06-07 00:00:00.000",
                                    "Profundidade (m)": "32,02"
                                },
                                {
                                    "Codigo HGA": "WST-418",
                                    "Cota NA (m)": "1151,61",
                                    "Cota Topo (m)": "1181,5",
                                    "Data": "2021-06-15 00:00:00.000",
                                    "Profundidade (m)": "29,89"
                                },
                                {
                                    "Codigo HGA": "WST-418",
                                    "Cota NA (m)": "1150,93",
                                    "Cota Topo (m)": "1181,5",
                                    "Data": "2021-06-22 00:00:00.000",
                                    "Profundidade (m)": "30,57"
                                },
                                {
                                    "Codigo HGA": "WST-418",
                                    "Cota NA (m)": "1149,61",
                                    "Cota Topo (m)": "1181,5",
                                    "Data": "2021-06-30 00:00:00.000",
                                    "Profundidade (m)": "31,89"
                                },
                                {
                                    "Codigo HGA": "WST-418",
                                    "Cota NA (m)": "1148,84",
                                    "Cota Topo (m)": "1181,5",
                                    "Data": "2021-07-08 00:00:00.000",
                                    "Profundidade (m)": "32,66"
                                },
                                {
                                    "Codigo HGA": "WST-418",
                                    "Cota NA (m)": "1148,2",
                                    "Cota Topo (m)": "1181,5",
                                    "Data": "2021-07-12 00:00:00.000",
                                    "Profundidade (m)": "33,3"
                                },
                                {
                                    "Codigo HGA": "WST-418",
                                    "Cota NA (m)": "1147,1",
                                    "Cota Topo (m)": "1181,5",
                                    "Data": "2021-07-28 00:00:00.000",
                                    "Profundidade (m)": "34,4"
                                },
                                {
                                    "Codigo HGA": "WST-418",
                                    "Cota NA (m)": "1147",
                                    "Cota Topo (m)": "1181,5",
                                    "Data": "2021-08-06 00:00:00.000",
                                    "Profundidade (m)": "34,5"
                                },
                                {
                                    "Codigo HGA": "WST-418",
                                    "Cota NA (m)": "1146,72",
                                    "Cota Topo (m)": "1181,5",
                                    "Data": "2021-08-10 00:00:00.000",
                                    "Profundidade (m)": "34,78"
                                },
                                {
                                    "Codigo HGA": "WST-418",
                                    "Cota NA (m)": "1145,82",
                                    "Cota Topo (m)": "1181,5",
                                    "Data": "2021-08-18 00:00:00.000",
                                    "Profundidade (m)": "35,68"
                                },
                                {
                                    "Codigo HGA": "WST-418",
                                    "Cota NA (m)": "1145,97",
                                    "Cota Topo (m)": "1181,5",
                                    "Data": "2021-08-25 00:00:00.000",
                                    "Profundidade (m)": "35,53"
                                },
                                {
                                    "Codigo HGA": "WST-418",
                                    "Cota NA (m)": "1145,8",
                                    "Cota Topo (m)": "1181,5",
                                    "Data": "2021-09-01 00:00:00.000",
                                    "Profundidade (m)": "35,7"
                                },
                                {
                                    "Codigo HGA": "WST-418",
                                    "Cota NA (m)": "1144,13",
                                    "Cota Topo (m)": "1181,5",
                                    "Data": "2021-09-10 00:00:00.000",
                                    "Profundidade (m)": "37,37"
                                },
                                {
                                    "Codigo HGA": "WST-418",
                                    "Cota NA (m)": "1145,09",
                                    "Cota Topo (m)": "1181,5",
                                    "Data": "2021-09-17 00:00:00.000",
                                    "Profundidade (m)": "36,41"
                                },
                                {
                                    "Codigo HGA": "WST-418",
                                    "Cota NA (m)": "1146,59",
                                    "Cota Topo (m)": "1181,5",
                                    "Data": "2021-09-20 00:00:00.000",
                                    "Profundidade (m)": "34,91"
                                },
                                {
                                    "Codigo HGA": "WST-418",
                                    "Cota NA (m)": "1145,21",
                                    "Cota Topo (m)": "1181,5",
                                    "Data": "2021-09-30 00:00:00.000",
                                    "Profundidade (m)": "36,29"
                                },
                                {
                                    "Codigo HGA": "WST-418",
                                    "Cota NA (m)": "1144,07",
                                    "Cota Topo (m)": "1181,5",
                                    "Data": "2021-10-08 00:00:00.000",
                                    "Profundidade (m)": "37,43"
                                },
                                {
                                    "Codigo HGA": "WST-418",
                                    "Cota NA (m)": "1143,96",
                                    "Cota Topo (m)": "1181,5",
                                    "Data": "2021-10-15 00:00:00.000",
                                    "Profundidade (m)": "37,54"
                                },
                                {
                                    "Codigo HGA": "WST-418",
                                    "Cota NA (m)": "1143,47",
                                    "Cota Topo (m)": "1181,5",
                                    "Data": "2021-10-18 00:00:00.000",
                                    "Profundidade (m)": "38,03"
                                },
                                {
                                    "Codigo HGA": "WST-418",
                                    "Cota NA (m)": "1143,61",
                                    "Cota Topo (m)": "1181,5",
                                    "Data": "2021-10-29 00:00:00.000",
                                    "Profundidade (m)": "37,89"
                                },
                                {
                                    "Codigo HGA": "WST-418",
                                    "Cota NA (m)": "1144,8",
                                    "Cota Topo (m)": "1181,5",
                                    "Data": "2021-11-04 00:00:00.000",
                                    "Profundidade (m)": "36,7"
                                },
                                {
                                    "Codigo HGA": "WST-418",
                                    "Cota NA (m)": "1143,22",
                                    "Cota Topo (m)": "1181,5",
                                    "Data": "2021-11-12 00:00:00.000",
                                    "Profundidade (m)": "38,28"
                                },
                                {
                                    "Codigo HGA": "WST-418",
                                    "Cota NA (m)": "1142,72",
                                    "Cota Topo (m)": "1181,5",
                                    "Data": "2021-11-17 00:00:00.000",
                                    "Profundidade (m)": "38,78"
                                },
                                {
                                    "Codigo HGA": "WST-418",
                                    "Cota NA (m)": "1159,06",
                                    "Cota Topo (m)": "1181,5",
                                    "Data": "2022-03-30 00:00:00.000",
                                    "Profundidade (m)": "22,44"
                                },
                                {
                                    "Codigo HGA": "WST-418",
                                    "Cota NA (m)": "1157,82",
                                    "Cota Topo (m)": "1181,5",
                                    "Data": "2022-04-01 00:00:00.000",
                                    "Profundidade (m)": "23,68"
                                },
                                {
                                    "Codigo HGA": "WST-418",
                                    "Cota NA (m)": "1159,47",
                                    "Cota Topo (m)": "1181,5",
                                    "Data": "2022-04-04 00:00:00.000",
                                    "Profundidade (m)": "22,03"
                                },
                                {
                                    "Codigo HGA": "WST-418",
                                    "Cota NA (m)": "1159,72",
                                    "Cota Topo (m)": "1181,5",
                                    "Data": "2022-04-05 00:00:00.000",
                                    "Profundidade (m)": "21,78"
                                },
                                {
                                    "Codigo HGA": "WST-418",
                                    "Cota NA (m)": "1160,25",
                                    "Cota Topo (m)": "1181,5",
                                    "Data": "2022-04-06 00:00:00.000",
                                    "Profundidade (m)": "21,25"
                                },
                                {
                                    "Codigo HGA": "WST-418",
                                    "Cota NA (m)": "1160,04",
                                    "Cota Topo (m)": "1181,5",
                                    "Data": "2022-04-07 00:00:00.000",
                                    "Profundidade (m)": "21,46"
                                },
                                {
                                    "Codigo HGA": "WST-418",
                                    "Cota NA (m)": "1160,14",
                                    "Cota Topo (m)": "1181,5",
                                    "Data": "2022-04-08 00:00:00.000",
                                    "Profundidade (m)": "21,36"
                                },
                                {
                                    "Codigo HGA": "WST-418",
                                    "Cota NA (m)": "1160,65",
                                    "Cota Topo (m)": "1181,5",
                                    "Data": "2022-04-11 00:00:00.000",
                                    "Profundidade (m)": "20,85"
                                },
                                {
                                    "Codigo HGA": "WST-418",
                                    "Cota NA (m)": "1160,67",
                                    "Cota Topo (m)": "1181,5",
                                    "Data": "2022-04-12 00:00:00.000",
                                    "Profundidade (m)": "20,83"
                                },
                                {
                                    "Codigo HGA": "WST-418",
                                    "Cota NA (m)": "1160,57",
                                    "Cota Topo (m)": "1181,5",
                                    "Data": "2022-04-13 00:00:00.000",
                                    "Profundidade (m)": "20,93"
                                },
                                {
                                    "Codigo HGA": "WST-418",
                                    "Cota NA (m)": "1179,44",
                                    "Cota Topo (m)": "1181,5",
                                    "Data": "2022-04-14 00:00:00.000",
                                    "Profundidade (m)": "2,06"
                                },
                                {
                                    "Codigo HGA": "WST-418",
                                    "Cota NA (m)": "1161,16",
                                    "Cota Topo (m)": "1181,5",
                                    "Data": "2022-04-15 00:00:00.000",
                                    "Profundidade (m)": "20,34"
                                },
                                {
                                    "Codigo HGA": "WST-418",
                                    "Cota NA (m)": "1159,34",
                                    "Cota Topo (m)": "1181,5",
                                    "Data": "2022-04-18 00:00:00.000",
                                    "Profundidade (m)": "22,16"
                                },
                                {
                                    "Codigo HGA": "WST-418",
                                    "Cota NA (m)": "1159,03",
                                    "Cota Topo (m)": "1181,5",
                                    "Data": "2022-04-19 00:00:00.000",
                                    "Profundidade (m)": "22,47"
                                },
                                {
                                    "Codigo HGA": "WST-418",
                                    "Cota NA (m)": "1158,72",
                                    "Cota Topo (m)": "1181,5",
                                    "Data": "2022-04-20 00:00:00.000",
                                    "Profundidade (m)": "22,78"
                                },
                                {
                                    "Codigo HGA": "WST-418",
                                    "Cota NA (m)": "1159,95",
                                    "Cota Topo (m)": "1181,5",
                                    "Data": "2022-04-21 00:00:00.000",
                                    "Profundidade (m)": "21,55"
                                },
                                {
                                    "Codigo HGA": "WST-418",
                                    "Cota NA (m)": "1158,62",
                                    "Cota Topo (m)": "1181,5",
                                    "Data": "2022-04-22 00:00:00.000",
                                    "Profundidade (m)": "22,88"
                                },
                                {
                                    "Codigo HGA": "WST-418",
                                    "Cota NA (m)": "1157,81",
                                    "Cota Topo (m)": "1181,5",
                                    "Data": "2022-04-25 00:00:00.000",
                                    "Profundidade (m)": "23,69"
                                },
                                {
                                    "Codigo HGA": "WST-418",
                                    "Cota NA (m)": "1157,65",
                                    "Cota Topo (m)": "1181,5",
                                    "Data": "2022-04-26 00:00:00.000",
                                    "Profundidade (m)": "23,85"
                                },
                                {
                                    "Codigo HGA": "WST-418",
                                    "Cota NA (m)": "1157,46",
                                    "Cota Topo (m)": "1181,5",
                                    "Data": "2022-04-27 00:00:00.000",
                                    "Profundidade (m)": "24,04"
                                },
                                {
                                    "Codigo HGA": "WST-418",
                                    "Cota NA (m)": "1157,15",
                                    "Cota Topo (m)": "1181,5",
                                    "Data": "2022-04-29 00:00:00.000",
                                    "Profundidade (m)": "24,35"
                                },
                                {
                                    "Codigo HGA": "WST-418",
                                    "Cota NA (m)": "1157",
                                    "Cota Topo (m)": "1181,5",
                                    "Data": "2022-04-30 00:00:00.000",
                                    "Profundidade (m)": "24,5"
                                },
                                {
                                    "Codigo HGA": "WST-418",
                                    "Cota NA (m)": "1156,76",
                                    "Cota Topo (m)": "1181,5",
                                    "Data": "2022-05-02 00:00:00.000",
                                    "Profundidade (m)": "24,74"
                                },
                                {
                                    "Codigo HGA": "WST-418",
                                    "Cota NA (m)": "1156,66",
                                    "Cota Topo (m)": "1181,5",
                                    "Data": "2022-05-03 00:00:00.000",
                                    "Profundidade (m)": "24,84"
                                },
                                {
                                    "Codigo HGA": "WST-418",
                                    "Cota NA (m)": "1156,56",
                                    "Cota Topo (m)": "1181,5",
                                    "Data": "2022-05-04 00:00:00.000",
                                    "Profundidade (m)": "24,94"
                                },
                                {
                                    "Codigo HGA": "WST-418",
                                    "Cota NA (m)": "1156,46",
                                    "Cota Topo (m)": "1181,5",
                                    "Data": "2022-05-05 00:00:00.000",
                                    "Profundidade (m)": "25,04"
                                },
                                {
                                    "Codigo HGA": "WST-418",
                                    "Cota NA (m)": "1156,35",
                                    "Cota Topo (m)": "1181,5",
                                    "Data": "2022-05-06 00:00:00.000",
                                    "Profundidade (m)": "25,15"
                                },
                                {
                                    "Codigo HGA": "WST-418",
                                    "Cota NA (m)": "1156,24",
                                    "Cota Topo (m)": "1181,5",
                                    "Data": "2022-05-07 00:00:00.000",
                                    "Profundidade (m)": "25,26"
                                },
                                {
                                    "Codigo HGA": "WST-418",
                                    "Cota NA (m)": "1156,25",
                                    "Cota Topo (m)": "1181,5",
                                    "Data": "2022-05-09 00:00:00.000",
                                    "Profundidade (m)": "25,25"
                                },
                                {
                                    "Codigo HGA": "WST-418",
                                    "Cota NA (m)": "1156,58",
                                    "Cota Topo (m)": "1181,5",
                                    "Data": "2022-05-10 00:00:00.000",
                                    "Profundidade (m)": "24,92"
                                },
                                {
                                    "Codigo HGA": "WST-418",
                                    "Cota NA (m)": "1157,33",
                                    "Cota Topo (m)": "1181,5",
                                    "Data": "2022-05-19 00:00:00.000",
                                    "Profundidade (m)": "24,17"
                                },
                                {
                                    "Codigo HGA": "WST-418",
                                    "Cota NA (m)": "1156,29",
                                    "Cota Topo (m)": "1181,5",
                                    "Data": "2022-05-23 00:00:00.000",
                                    "Profundidade (m)": "25,21"
                                },
                                {
                                    "Codigo HGA": "WST-418",
                                    "Cota NA (m)": "1156,27",
                                    "Cota Topo (m)": "1181,5",
                                    "Data": "2022-07-14 00:00:00.000",
                                    "Profundidade (m)": "25,23"
                                },
                                {
                                    "Codigo HGA": "WST-418",
                                    "Cota NA (m)": "1155,27",
                                    "Cota Topo (m)": "1181,5",
                                    "Data": "2022-07-19 00:00:00.000",
                                    "Profundidade (m)": "26,23"
                                },
                                {
                                    "Codigo HGA": "WST-418",
                                    "Cota NA (m)": "1152,55",
                                    "Cota Topo (m)": "1181,5",
                                    "Data": "2022-07-25 00:00:00.000",
                                    "Profundidade (m)": "28,95"
                                },
                                {
                                    "Codigo HGA": "WST-418",
                                    "Cota NA (m)": "1152,05",
                                    "Cota Topo (m)": "1181,5",
                                    "Data": "2022-08-08 00:00:00.000",
                                    "Profundidade (m)": "29,45"
                                },
                                {
                                    "Codigo HGA": "WST-418",
                                    "Cota NA (m)": "1142,68",
                                    "Cota Topo (m)": "1181,5",
                                    "Data": "2022-09-09 00:00:00.000",
                                    "Profundidade (m)": "38,82"
                                },
                                {
                                    "Codigo HGA": "WST-418",
                                    "Cota NA (m)": "1149,05",
                                    "Cota Topo (m)": "1181,5",
                                    "Data": "2022-09-26 00:00:00.000",
                                    "Profundidade (m)": "32,45"
                                },
                                {
                                    "Codigo HGA": "WST-418",
                                    "Cota NA (m)": "1148,34",
                                    "Cota Topo (m)": "1181,5",
                                    "Data": "2022-10-13 00:00:00.000",
                                    "Profundidade (m)": "33,16"
                                },
                                {
                                    "Codigo HGA": "WST-418",
                                    "Cota NA (m)": "1151,63",
                                    "Cota Topo (m)": "1181,5",
                                    "Data": "2022-11-01 00:00:00.000",
                                    "Profundidade (m)": "29,87"
                                },
                                {
                                    "Codigo HGA": "WST-418",
                                    "Cota NA (m)": "1150,97",
                                    "Cota Topo (m)": "1181,5",
                                    "Data": "2022-11-08 00:00:00.000",
                                    "Profundidade (m)": "30,53"
                                },
                                {
                                    "Codigo HGA": "WST-418",
                                    "Cota NA (m)": "1154,02",
                                    "Cota Topo (m)": "1181,5",
                                    "Data": "2022-11-16 00:00:00.000",
                                    "Profundidade (m)": "27,48"
                                },
                                {
                                    "Codigo HGA": "WST-418",
                                    "Cota NA (m)": "1151,56",
                                    "Cota Topo (m)": "1181,5",
                                    "Data": "2022-11-24 00:00:00.000",
                                    "Profundidade (m)": "29,94"
                                },
                                {
                                    "Codigo HGA": "WST-418",
                                    "Cota NA (m)": "1151,96",
                                    "Cota Topo (m)": "1181,5",
                                    "Data": "2022-12-21 00:00:00.000",
                                    "Profundidade (m)": "29,54"
                                },
                                {
                                    "Codigo HGA": "WST-418",
                                    "Cota NA (m)": "1151,05",
                                    "Cota Topo (m)": "1181,5",
                                    "Data": "2022-12-28 00:00:00.000",
                                    "Profundidade (m)": "30,45"
                                },
                                {
                                    "Codigo HGA": "WST-418",
                                    "Cota NA (m)": "1155,67",
                                    "Cota Topo (m)": "1181,5",
                                    "Data": "2023-02-02 00:00:00.000",
                                    "Profundidade (m)": "25,83"
                                },
                                {
                                    "Codigo HGA": "WST-418",
                                    "Cota NA (m)": "NULL",
                                    "Cota Topo (m)": "1181,5",
                                    "Data": "2023-02-03 00:00:00.000",
                                    "Profundidade (m)": "NULL"
                                },
                                {
                                    "Codigo HGA": "WST-418",
                                    "Cota NA (m)": "1155,19",
                                    "Cota Topo (m)": "1181,5",
                                    "Data": "2023-02-06 00:00:00.000",
                                    "Profundidade (m)": "26,31"
                                },
                                {
                                    "Codigo HGA": "WST-418",
                                    "Cota NA (m)": "1154,41",
                                    "Cota Topo (m)": "1181,5",
                                    "Data": "2023-02-15 00:00:00.000",
                                    "Profundidade (m)": "27,09"
                                },
                                {
                                    "Codigo HGA": "WST-418",
                                    "Cota NA (m)": "1154,81",
                                    "Cota Topo (m)": "1181,5",
                                    "Data": "2023-02-24 00:00:00.000",
                                    "Profundidade (m)": "26,69"
                                },
                                {
                                    "Codigo HGA": "WST-418",
                                    "Cota NA (m)": "1155,64",
                                    "Cota Topo (m)": "1181,5",
                                    "Data": "2023-03-01 00:00:00.000",
                                    "Profundidade (m)": "25,86"
                                },
                                {
                                    "Codigo HGA": "WST-418",
                                    "Cota NA (m)": "1153,23",
                                    "Cota Topo (m)": "1181,5",
                                    "Data": "2023-03-07 00:00:00.000",
                                    "Profundidade (m)": "28,27"
                                },
                                {
                                    "Codigo HGA": "WST-418",
                                    "Cota NA (m)": "1154,29",
                                    "Cota Topo (m)": "1181,5",
                                    "Data": "2023-03-31 00:00:00.000",
                                    "Profundidade (m)": "27,21"
                                },
                                {
                                    "Codigo HGA": "WST-418",
                                    "Cota NA (m)": "1153,95",
                                    "Cota Topo (m)": "1181,5",
                                    "Data": "2023-04-05 00:00:00.000",
                                    "Profundidade (m)": "27,55"
                                },
                                {
                                    "Codigo HGA": "WST-418",
                                    "Cota NA (m)": "1143,27",
                                    "Cota Topo (m)": "1181,5",
                                    "Data": "2023-05-02 00:00:00.000",
                                    "Profundidade (m)": "38,23"
                                },
                                {
                                    "Codigo HGA": "WST-418",
                                    "Cota NA (m)": "1132,98",
                                    "Cota Topo (m)": "1181,5",
                                    "Data": "2023-06-02 00:00:00.000",
                                    "Profundidade (m)": "48,52"
                                },
                                {
                                    "Codigo HGA": "WST-419",
                                    "Cota NA (m)": "1144,17",
                                    "Cota Topo (m)": "1195,9",
                                    "Data": "2017-05-18 00:00:00.000",
                                    "Profundidade (m)": "51,73"
                                },
                                {
                                    "Codigo HGA": "WST-419",
                                    "Cota NA (m)": "1153,03",
                                    "Cota Topo (m)": "1195,9",
                                    "Data": "2017-05-22 00:00:00.000",
                                    "Profundidade (m)": "42,87"
                                },
                                {
                                    "Codigo HGA": "WST-419",
                                    "Cota NA (m)": "1143,21",
                                    "Cota Topo (m)": "1195,9",
                                    "Data": "2017-06-02 00:00:00.000",
                                    "Profundidade (m)": "52,69"
                                },
                                {
                                    "Codigo HGA": "WST-419",
                                    "Cota NA (m)": "1145,97",
                                    "Cota Topo (m)": "1195,9",
                                    "Data": "2017-06-08 00:00:00.000",
                                    "Profundidade (m)": "49,93"
                                },
                                {
                                    "Codigo HGA": "WST-419",
                                    "Cota NA (m)": "NULL",
                                    "Cota Topo (m)": "1195,9",
                                    "Data": "2017-06-16 00:00:00.000",
                                    "Profundidade (m)": "NULL"
                                },
                                {
                                    "Codigo HGA": "WST-419",
                                    "Cota NA (m)": "1095,28",
                                    "Cota Topo (m)": "1195,9",
                                    "Data": "2017-08-25 00:00:00.000",
                                    "Profundidade (m)": "100,62"
                                },
                                {
                                    "Codigo HGA": "WST-419",
                                    "Cota NA (m)": "1101,34",
                                    "Cota Topo (m)": "1195,9",
                                    "Data": "2017-09-28 00:00:00.000",
                                    "Profundidade (m)": "94,56"
                                },
                                {
                                    "Codigo HGA": "WST-419",
                                    "Cota NA (m)": "1152,44",
                                    "Cota Topo (m)": "1195,9",
                                    "Data": "2017-10-30 00:00:00.000",
                                    "Profundidade (m)": "43,46"
                                },
                                {
                                    "Codigo HGA": "WST-419",
                                    "Cota NA (m)": "1152,44",
                                    "Cota Topo (m)": "1195,9",
                                    "Data": "2017-11-10 00:00:00.000",
                                    "Profundidade (m)": "43,46"
                                },
                                {
                                    "Codigo HGA": "WST-419",
                                    "Cota NA (m)": "1151,85",
                                    "Cota Topo (m)": "1195,9",
                                    "Data": "2017-11-20 00:00:00.000",
                                    "Profundidade (m)": "44,05"
                                },
                                {
                                    "Codigo HGA": "WST-419",
                                    "Cota NA (m)": "1155,25",
                                    "Cota Topo (m)": "1195,9",
                                    "Data": "2017-11-23 00:00:00.000",
                                    "Profundidade (m)": "40,65"
                                },
                                {
                                    "Codigo HGA": "WST-419",
                                    "Cota NA (m)": "1150,93",
                                    "Cota Topo (m)": "1195,9",
                                    "Data": "2017-11-29 00:00:00.000",
                                    "Profundidade (m)": "44,97"
                                },
                                {
                                    "Codigo HGA": "WST-419",
                                    "Cota NA (m)": "1150,68",
                                    "Cota Topo (m)": "1195,9",
                                    "Data": "2017-12-04 00:00:00.000",
                                    "Profundidade (m)": "45,22"
                                },
                                {
                                    "Codigo HGA": "WST-419",
                                    "Cota NA (m)": "1094,23",
                                    "Cota Topo (m)": "1195,9",
                                    "Data": "2017-12-28 00:00:00.000",
                                    "Profundidade (m)": "101,67"
                                },
                                {
                                    "Codigo HGA": "WST-419",
                                    "Cota NA (m)": "1106,86",
                                    "Cota Topo (m)": "1195,9",
                                    "Data": "2018-01-24 00:00:00.000",
                                    "Profundidade (m)": "89,04"
                                },
                                {
                                    "Codigo HGA": "WST-419",
                                    "Cota NA (m)": "1109,1",
                                    "Cota Topo (m)": "1195,9",
                                    "Data": "2018-02-21 00:00:00.000",
                                    "Profundidade (m)": "86,8"
                                },
                                {
                                    "Codigo HGA": "WST-419",
                                    "Cota NA (m)": "1108,15",
                                    "Cota Topo (m)": "1195,9",
                                    "Data": "2018-03-26 00:00:00.000",
                                    "Profundidade (m)": "87,75"
                                },
                                {
                                    "Codigo HGA": "WST-419",
                                    "Cota NA (m)": "1108,05",
                                    "Cota Topo (m)": "1195,9",
                                    "Data": "2018-03-28 00:00:00.000",
                                    "Profundidade (m)": "87,85"
                                },
                                {
                                    "Codigo HGA": "WST-419",
                                    "Cota NA (m)": "1125,63",
                                    "Cota Topo (m)": "1195,9",
                                    "Data": "2018-04-13 00:00:00.000",
                                    "Profundidade (m)": "70,27"
                                },
                                {
                                    "Codigo HGA": "WST-419",
                                    "Cota NA (m)": "1140,57",
                                    "Cota Topo (m)": "1195,9",
                                    "Data": "2018-05-18 00:00:00.000",
                                    "Profundidade (m)": "55,33"
                                },
                                {
                                    "Codigo HGA": "WST-419",
                                    "Cota NA (m)": "1159,99",
                                    "Cota Topo (m)": "1195,9",
                                    "Data": "2018-06-22 00:00:00.000",
                                    "Profundidade (m)": "35,91"
                                },
                                {
                                    "Codigo HGA": "WST-419",
                                    "Cota NA (m)": "1138,67",
                                    "Cota Topo (m)": "1195,9",
                                    "Data": "2018-07-30 00:00:00.000",
                                    "Profundidade (m)": "57,23"
                                },
                                {
                                    "Codigo HGA": "WST-419",
                                    "Cota NA (m)": "1138,67",
                                    "Cota Topo (m)": "1195,9",
                                    "Data": "2018-08-31 00:00:00.000",
                                    "Profundidade (m)": "57,23"
                                },
                                {
                                    "Codigo HGA": "WST-419",
                                    "Cota NA (m)": "1176,95",
                                    "Cota Topo (m)": "1195,9",
                                    "Data": "2019-01-30 00:00:00.000",
                                    "Profundidade (m)": "18,95"
                                },
                                {
                                    "Codigo HGA": "WST-419",
                                    "Cota NA (m)": "1126,79",
                                    "Cota Topo (m)": "1195,9",
                                    "Data": "2019-06-26 00:00:00.000",
                                    "Profundidade (m)": "69,11"
                                },
                                {
                                    "Codigo HGA": "WST-420",
                                    "Cota NA (m)": "1195,3",
                                    "Cota Topo (m)": "1211,9",
                                    "Data": "2016-12-30 00:00:00.000",
                                    "Profundidade (m)": "16,6"
                                },
                                {
                                    "Codigo HGA": "WST-420",
                                    "Cota NA (m)": "1194,08",
                                    "Cota Topo (m)": "1211,9",
                                    "Data": "2017-01-11 00:00:00.000",
                                    "Profundidade (m)": "17,82"
                                },
                                {
                                    "Codigo HGA": "WST-420",
                                    "Cota NA (m)": "NULL",
                                    "Cota Topo (m)": "1211,9",
                                    "Data": "2017-01-25 00:00:00.000",
                                    "Profundidade (m)": "NULL"
                                },
                                {
                                    "Codigo HGA": "WST-420",
                                    "Cota NA (m)": "NULL",
                                    "Cota Topo (m)": "1211,9",
                                    "Data": "2017-02-03 00:00:00.000",
                                    "Profundidade (m)": "NULL"
                                },
                                {
                                    "Codigo HGA": "WST-420",
                                    "Cota NA (m)": "NULL",
                                    "Cota Topo (m)": "1211,9",
                                    "Data": "2017-02-10 00:00:00.000",
                                    "Profundidade (m)": "NULL"
                                },
                                {
                                    "Codigo HGA": "WST-420",
                                    "Cota NA (m)": "NULL",
                                    "Cota Topo (m)": "1211,9",
                                    "Data": "2017-02-16 00:00:00.000",
                                    "Profundidade (m)": "NULL"
                                },
                                {
                                    "Codigo HGA": "WST-420",
                                    "Cota NA (m)": "NULL",
                                    "Cota Topo (m)": "1211,9",
                                    "Data": "2017-02-22 00:00:00.000",
                                    "Profundidade (m)": "NULL"
                                },
                                {
                                    "Codigo HGA": "WST-420",
                                    "Cota NA (m)": "NULL",
                                    "Cota Topo (m)": "1211,9",
                                    "Data": "2017-03-03 00:00:00.000",
                                    "Profundidade (m)": "NULL"
                                },
                                {
                                    "Codigo HGA": "WST-420",
                                    "Cota NA (m)": "NULL",
                                    "Cota Topo (m)": "1211,9",
                                    "Data": "2017-03-10 00:00:00.000",
                                    "Profundidade (m)": "NULL"
                                },
                                {
                                    "Codigo HGA": "WST-420",
                                    "Cota NA (m)": "NULL",
                                    "Cota Topo (m)": "1211,9",
                                    "Data": "2017-03-17 00:00:00.000",
                                    "Profundidade (m)": "NULL"
                                },
                                {
                                    "Codigo HGA": "WST-420",
                                    "Cota NA (m)": "NULL",
                                    "Cota Topo (m)": "1211,9",
                                    "Data": "2017-03-24 00:00:00.000",
                                    "Profundidade (m)": "NULL"
                                },
                                {
                                    "Codigo HGA": "WST-420",
                                    "Cota NA (m)": "NULL",
                                    "Cota Topo (m)": "1211,9",
                                    "Data": "2017-03-30 00:00:00.000",
                                    "Profundidade (m)": "NULL"
                                },
                                {
                                    "Codigo HGA": "WST-420",
                                    "Cota NA (m)": "NULL",
                                    "Cota Topo (m)": "1211,9",
                                    "Data": "2017-04-13 00:00:00.000",
                                    "Profundidade (m)": "NULL"
                                },
                                {
                                    "Codigo HGA": "WST-420",
                                    "Cota NA (m)": "NULL",
                                    "Cota Topo (m)": "1211,9",
                                    "Data": "2017-04-20 00:00:00.000",
                                    "Profundidade (m)": "NULL"
                                },
                                {
                                    "Codigo HGA": "WST-420",
                                    "Cota NA (m)": "NULL",
                                    "Cota Topo (m)": "1211,9",
                                    "Data": "2017-04-24 00:00:00.000",
                                    "Profundidade (m)": "NULL"
                                },
                                {
                                    "Codigo HGA": "WST-420",
                                    "Cota NA (m)": "1149,14",
                                    "Cota Topo (m)": "1211,9",
                                    "Data": "2017-08-25 00:00:00.000",
                                    "Profundidade (m)": "62,76"
                                },
                                {
                                    "Codigo HGA": "WST-420",
                                    "Cota NA (m)": "1190,7",
                                    "Cota Topo (m)": "1211,9",
                                    "Data": "2017-10-31 00:00:00.000",
                                    "Profundidade (m)": "21,2"
                                },
                                {
                                    "Codigo HGA": "WST-420",
                                    "Cota NA (m)": "1191,11",
                                    "Cota Topo (m)": "1211,9",
                                    "Data": "2017-11-20 00:00:00.000",
                                    "Profundidade (m)": "20,79"
                                },
                                {
                                    "Codigo HGA": "WST-420",
                                    "Cota NA (m)": "1190,7",
                                    "Cota Topo (m)": "1211,9",
                                    "Data": "2018-02-08 00:00:00.000",
                                    "Profundidade (m)": "21,2"
                                },
                                {
                                    "Codigo HGA": "WST-420",
                                    "Cota NA (m)": "1191,13",
                                    "Cota Topo (m)": "1211,9",
                                    "Data": "2018-02-14 00:00:00.000",
                                    "Profundidade (m)": "20,77"
                                },
                                {
                                    "Codigo HGA": "WST-420",
                                    "Cota NA (m)": "1191,59",
                                    "Cota Topo (m)": "1211,9",
                                    "Data": "2018-02-22 00:00:00.000",
                                    "Profundidade (m)": "20,31"
                                },
                                {
                                    "Codigo HGA": "WST-420",
                                    "Cota NA (m)": "1191,18",
                                    "Cota Topo (m)": "1211,9",
                                    "Data": "2018-02-27 00:00:00.000",
                                    "Profundidade (m)": "20,72"
                                },
                                {
                                    "Codigo HGA": "WST-420",
                                    "Cota NA (m)": "1190,8",
                                    "Cota Topo (m)": "1211,9",
                                    "Data": "2018-03-08 00:00:00.000",
                                    "Profundidade (m)": "21,1"
                                },
                                {
                                    "Codigo HGA": "WST-420",
                                    "Cota NA (m)": "1190,66",
                                    "Cota Topo (m)": "1211,9",
                                    "Data": "2018-03-16 00:00:00.000",
                                    "Profundidade (m)": "21,24"
                                },
                                {
                                    "Codigo HGA": "WST-420",
                                    "Cota NA (m)": "1191,48",
                                    "Cota Topo (m)": "1211,9",
                                    "Data": "2018-03-23 00:00:00.000",
                                    "Profundidade (m)": "20,42"
                                },
                                {
                                    "Codigo HGA": "WST-420",
                                    "Cota NA (m)": "1192,47",
                                    "Cota Topo (m)": "1211,9",
                                    "Data": "2018-04-05 00:00:00.000",
                                    "Profundidade (m)": "19,43"
                                },
                                {
                                    "Codigo HGA": "WST-420",
                                    "Cota NA (m)": "1193,43",
                                    "Cota Topo (m)": "1211,9",
                                    "Data": "2018-04-11 00:00:00.000",
                                    "Profundidade (m)": "18,47"
                                },
                                {
                                    "Codigo HGA": "WST-420",
                                    "Cota NA (m)": "1192,44",
                                    "Cota Topo (m)": "1211,9",
                                    "Data": "2018-04-19 00:00:00.000",
                                    "Profundidade (m)": "19,46"
                                },
                                {
                                    "Codigo HGA": "WST-420",
                                    "Cota NA (m)": "1193,45",
                                    "Cota Topo (m)": "1211,9",
                                    "Data": "2018-04-26 00:00:00.000",
                                    "Profundidade (m)": "18,45"
                                },
                                {
                                    "Codigo HGA": "WST-420",
                                    "Cota NA (m)": "1193,68",
                                    "Cota Topo (m)": "1211,9",
                                    "Data": "2018-05-03 00:00:00.000",
                                    "Profundidade (m)": "18,22"
                                },
                                {
                                    "Codigo HGA": "WST-420",
                                    "Cota NA (m)": "1192,83",
                                    "Cota Topo (m)": "1211,9",
                                    "Data": "2018-05-09 00:00:00.000",
                                    "Profundidade (m)": "19,07"
                                },
                                {
                                    "Codigo HGA": "WST-420",
                                    "Cota NA (m)": "1192,52",
                                    "Cota Topo (m)": "1211,9",
                                    "Data": "2018-05-16 00:00:00.000",
                                    "Profundidade (m)": "19,38"
                                },
                                {
                                    "Codigo HGA": "WST-420",
                                    "Cota NA (m)": "1189,83",
                                    "Cota Topo (m)": "1211,9",
                                    "Data": "2018-06-14 00:00:00.000",
                                    "Profundidade (m)": "22,07"
                                },
                                {
                                    "Codigo HGA": "WST-420",
                                    "Cota NA (m)": "1190,55",
                                    "Cota Topo (m)": "1211,9",
                                    "Data": "2018-06-22 00:00:00.000",
                                    "Profundidade (m)": "21,35"
                                },
                                {
                                    "Codigo HGA": "WST-420",
                                    "Cota NA (m)": "1187,82",
                                    "Cota Topo (m)": "1211,9",
                                    "Data": "2018-06-25 00:00:00.000",
                                    "Profundidade (m)": "24,08"
                                },
                                {
                                    "Codigo HGA": "WST-420",
                                    "Cota NA (m)": "1186,99",
                                    "Cota Topo (m)": "1211,9",
                                    "Data": "2018-07-03 00:00:00.000",
                                    "Profundidade (m)": "24,91"
                                },
                                {
                                    "Codigo HGA": "WST-420",
                                    "Cota NA (m)": "1186,12",
                                    "Cota Topo (m)": "1211,9",
                                    "Data": "2018-07-12 00:00:00.000",
                                    "Profundidade (m)": "25,78"
                                },
                                {
                                    "Codigo HGA": "WST-420",
                                    "Cota NA (m)": "1185,77",
                                    "Cota Topo (m)": "1211,9",
                                    "Data": "2018-07-17 00:00:00.000",
                                    "Profundidade (m)": "26,13"
                                },
                                {
                                    "Codigo HGA": "WST-420",
                                    "Cota NA (m)": "1185,45",
                                    "Cota Topo (m)": "1211,9",
                                    "Data": "2018-07-26 00:00:00.000",
                                    "Profundidade (m)": "26,45"
                                },
                                {
                                    "Codigo HGA": "WST-420",
                                    "Cota NA (m)": "1184,65",
                                    "Cota Topo (m)": "1211,9",
                                    "Data": "2018-08-03 00:00:00.000",
                                    "Profundidade (m)": "27,25"
                                },
                                {
                                    "Codigo HGA": "WST-420",
                                    "Cota NA (m)": "1184,72",
                                    "Cota Topo (m)": "1211,9",
                                    "Data": "2018-08-10 00:00:00.000",
                                    "Profundidade (m)": "27,18"
                                },
                                {
                                    "Codigo HGA": "WST-420",
                                    "Cota NA (m)": "1184,68",
                                    "Cota Topo (m)": "1211,9",
                                    "Data": "2018-08-17 00:00:00.000",
                                    "Profundidade (m)": "27,22"
                                },
                                {
                                    "Codigo HGA": "WST-420",
                                    "Cota NA (m)": "1185,59",
                                    "Cota Topo (m)": "1211,9",
                                    "Data": "2018-08-22 00:00:00.000",
                                    "Profundidade (m)": "26,31"
                                },
                                {
                                    "Codigo HGA": "WST-420",
                                    "Cota NA (m)": "1183,13",
                                    "Cota Topo (m)": "1211,9",
                                    "Data": "2018-09-03 00:00:00.000",
                                    "Profundidade (m)": "28,77"
                                },
                                {
                                    "Codigo HGA": "WST-420",
                                    "Cota NA (m)": "1183,01",
                                    "Cota Topo (m)": "1211,9",
                                    "Data": "2018-09-26 00:00:00.000",
                                    "Profundidade (m)": "28,89"
                                },
                                {
                                    "Codigo HGA": "WST-420",
                                    "Cota NA (m)": "1182,6",
                                    "Cota Topo (m)": "1211,9",
                                    "Data": "2018-10-03 00:00:00.000",
                                    "Profundidade (m)": "29,3"
                                },
                                {
                                    "Codigo HGA": "WST-420",
                                    "Cota NA (m)": "1182,25",
                                    "Cota Topo (m)": "1211,9",
                                    "Data": "2018-10-08 00:00:00.000",
                                    "Profundidade (m)": "29,65"
                                },
                                {
                                    "Codigo HGA": "WST-420",
                                    "Cota NA (m)": "1183,62",
                                    "Cota Topo (m)": "1211,9",
                                    "Data": "2018-10-25 00:00:00.000",
                                    "Profundidade (m)": "28,28"
                                },
                                {
                                    "Codigo HGA": "WST-420",
                                    "Cota NA (m)": "1182,27",
                                    "Cota Topo (m)": "1211,9",
                                    "Data": "2018-10-30 00:00:00.000",
                                    "Profundidade (m)": "29,63"
                                },
                                {
                                    "Codigo HGA": "WST-420",
                                    "Cota NA (m)": "1183,33",
                                    "Cota Topo (m)": "1211,9",
                                    "Data": "2018-11-12 00:00:00.000",
                                    "Profundidade (m)": "28,57"
                                },
                                {
                                    "Codigo HGA": "WST-420",
                                    "Cota NA (m)": "1186,18",
                                    "Cota Topo (m)": "1211,9",
                                    "Data": "2018-11-29 00:00:00.000",
                                    "Profundidade (m)": "25,72"
                                },
                                {
                                    "Codigo HGA": "WST-420",
                                    "Cota NA (m)": "1189,3",
                                    "Cota Topo (m)": "1211,9",
                                    "Data": "2018-12-21 00:00:00.000",
                                    "Profundidade (m)": "22,6"
                                },
                                {
                                    "Codigo HGA": "WST-420",
                                    "Cota NA (m)": "1190,24",
                                    "Cota Topo (m)": "1211,9",
                                    "Data": "2018-12-28 00:00:00.000",
                                    "Profundidade (m)": "21,66"
                                },
                                {
                                    "Codigo HGA": "WST-420",
                                    "Cota NA (m)": "1191,16",
                                    "Cota Topo (m)": "1211,9",
                                    "Data": "2019-01-11 00:00:00.000",
                                    "Profundidade (m)": "20,74"
                                },
                                {
                                    "Codigo HGA": "WST-420",
                                    "Cota NA (m)": "1191,52",
                                    "Cota Topo (m)": "1211,9",
                                    "Data": "2019-01-16 00:00:00.000",
                                    "Profundidade (m)": "20,38"
                                },
                                {
                                    "Codigo HGA": "WST-420",
                                    "Cota NA (m)": "1191,97",
                                    "Cota Topo (m)": "1211,9",
                                    "Data": "2019-01-25 00:00:00.000",
                                    "Profundidade (m)": "19,93"
                                },
                                {
                                    "Codigo HGA": "WST-420",
                                    "Cota NA (m)": "1191,46",
                                    "Cota Topo (m)": "1211,9",
                                    "Data": "2019-02-01 00:00:00.000",
                                    "Profundidade (m)": "20,44"
                                },
                                {
                                    "Codigo HGA": "WST-420",
                                    "Cota NA (m)": "1191,6",
                                    "Cota Topo (m)": "1211,9",
                                    "Data": "2019-02-08 00:00:00.000",
                                    "Profundidade (m)": "20,3"
                                },
                                {
                                    "Codigo HGA": "WST-420",
                                    "Cota NA (m)": "1191,75",
                                    "Cota Topo (m)": "1211,9",
                                    "Data": "2019-02-14 00:00:00.000",
                                    "Profundidade (m)": "20,15"
                                },
                                {
                                    "Codigo HGA": "WST-420",
                                    "Cota NA (m)": "1191,23",
                                    "Cota Topo (m)": "1211,9",
                                    "Data": "2019-02-21 00:00:00.000",
                                    "Profundidade (m)": "20,67"
                                },
                                {
                                    "Codigo HGA": "WST-420",
                                    "Cota NA (m)": "1191,16",
                                    "Cota Topo (m)": "1211,9",
                                    "Data": "2019-02-27 00:00:00.000",
                                    "Profundidade (m)": "20,74"
                                },
                                {
                                    "Codigo HGA": "WST-420",
                                    "Cota NA (m)": "1191,42",
                                    "Cota Topo (m)": "1211,9",
                                    "Data": "2019-03-06 00:00:00.000",
                                    "Profundidade (m)": "20,48"
                                },
                                {
                                    "Codigo HGA": "WST-420",
                                    "Cota NA (m)": "1192,7",
                                    "Cota Topo (m)": "1211,9",
                                    "Data": "2019-03-15 00:00:00.000",
                                    "Profundidade (m)": "19,2"
                                },
                                {
                                    "Codigo HGA": "WST-420",
                                    "Cota NA (m)": "1193,23",
                                    "Cota Topo (m)": "1211,9",
                                    "Data": "2019-03-29 00:00:00.000",
                                    "Profundidade (m)": "18,67"
                                },
                                {
                                    "Codigo HGA": "WST-420",
                                    "Cota NA (m)": "1193,42",
                                    "Cota Topo (m)": "1211,9",
                                    "Data": "2019-04-03 00:00:00.000",
                                    "Profundidade (m)": "18,48"
                                },
                                {
                                    "Codigo HGA": "WST-420",
                                    "Cota NA (m)": "1195,51",
                                    "Cota Topo (m)": "1211,9",
                                    "Data": "2019-04-12 00:00:00.000",
                                    "Profundidade (m)": "16,39"
                                },
                                {
                                    "Codigo HGA": "WST-420",
                                    "Cota NA (m)": "1192,56",
                                    "Cota Topo (m)": "1211,9",
                                    "Data": "2019-04-26 00:00:00.000",
                                    "Profundidade (m)": "19,34"
                                },
                                {
                                    "Codigo HGA": "WST-420",
                                    "Cota NA (m)": "1192,83",
                                    "Cota Topo (m)": "1211,9",
                                    "Data": "2019-04-29 00:00:00.000",
                                    "Profundidade (m)": "19,07"
                                },
                                {
                                    "Codigo HGA": "WST-420",
                                    "Cota NA (m)": "1192,88",
                                    "Cota Topo (m)": "1211,9",
                                    "Data": "2019-05-03 00:00:00.000",
                                    "Profundidade (m)": "19,02"
                                },
                                {
                                    "Codigo HGA": "WST-420",
                                    "Cota NA (m)": "1193,16",
                                    "Cota Topo (m)": "1211,9",
                                    "Data": "2019-05-10 00:00:00.000",
                                    "Profundidade (m)": "18,74"
                                },
                                {
                                    "Codigo HGA": "WST-420",
                                    "Cota NA (m)": "1193,17",
                                    "Cota Topo (m)": "1211,9",
                                    "Data": "2019-05-21 00:00:00.000",
                                    "Profundidade (m)": "18,73"
                                },
                                {
                                    "Codigo HGA": "WST-420",
                                    "Cota NA (m)": "1206,57",
                                    "Cota Topo (m)": "1211,9",
                                    "Data": "2019-07-08 00:00:00.000",
                                    "Profundidade (m)": "5,33"
                                },
                                {
                                    "Codigo HGA": "WST-420",
                                    "Cota NA (m)": "1205,43",
                                    "Cota Topo (m)": "1211,9",
                                    "Data": "2019-07-22 00:00:00.000",
                                    "Profundidade (m)": "6,47"
                                },
                                {
                                    "Codigo HGA": "WST-420",
                                    "Cota NA (m)": "1205,15",
                                    "Cota Topo (m)": "1211,9",
                                    "Data": "2019-08-01 00:00:00.000",
                                    "Profundidade (m)": "6,75"
                                },
                                {
                                    "Codigo HGA": "WST-420",
                                    "Cota NA (m)": "1206,9",
                                    "Cota Topo (m)": "1211,9",
                                    "Data": "2019-08-14 00:00:00.000",
                                    "Profundidade (m)": "5"
                                },
                                {
                                    "Codigo HGA": "WST-420",
                                    "Cota NA (m)": "1206,9",
                                    "Cota Topo (m)": "1211,9",
                                    "Data": "2019-08-21 00:00:00.000",
                                    "Profundidade (m)": "5"
                                },
                                {
                                    "Codigo HGA": "WST-420",
                                    "Cota NA (m)": "1206,02",
                                    "Cota Topo (m)": "1211,9",
                                    "Data": "2019-08-30 00:00:00.000",
                                    "Profundidade (m)": "5,88"
                                },
                                {
                                    "Codigo HGA": "WST-420",
                                    "Cota NA (m)": "1206,16",
                                    "Cota Topo (m)": "1211,9",
                                    "Data": "2019-09-05 00:00:00.000",
                                    "Profundidade (m)": "5,74"
                                },
                                {
                                    "Codigo HGA": "WST-420",
                                    "Cota NA (m)": "1206,46",
                                    "Cota Topo (m)": "1211,9",
                                    "Data": "2019-09-09 00:00:00.000",
                                    "Profundidade (m)": "5,44"
                                },
                                {
                                    "Codigo HGA": "WST-420",
                                    "Cota NA (m)": "1205,24",
                                    "Cota Topo (m)": "1211,9",
                                    "Data": "2019-09-23 00:00:00.000",
                                    "Profundidade (m)": "6,66"
                                },
                                {
                                    "Codigo HGA": "WST-420",
                                    "Cota NA (m)": "1204,61",
                                    "Cota Topo (m)": "1211,9",
                                    "Data": "2019-10-10 00:00:00.000",
                                    "Profundidade (m)": "7,29"
                                },
                                {
                                    "Codigo HGA": "WST-420",
                                    "Cota NA (m)": "1203,88",
                                    "Cota Topo (m)": "1211,9",
                                    "Data": "2019-10-22 00:00:00.000",
                                    "Profundidade (m)": "8,02"
                                },
                                {
                                    "Codigo HGA": "WST-420",
                                    "Cota NA (m)": "1203,45",
                                    "Cota Topo (m)": "1211,9",
                                    "Data": "2019-10-29 00:00:00.000",
                                    "Profundidade (m)": "8,45"
                                },
                                {
                                    "Codigo HGA": "WST-420",
                                    "Cota NA (m)": "1203,36",
                                    "Cota Topo (m)": "1211,9",
                                    "Data": "2019-11-05 00:00:00.000",
                                    "Profundidade (m)": "8,54"
                                },
                                {
                                    "Codigo HGA": "WST-420",
                                    "Cota NA (m)": "1202",
                                    "Cota Topo (m)": "1211,9",
                                    "Data": "2019-12-03 00:00:00.000",
                                    "Profundidade (m)": "9,9"
                                },
                                {
                                    "Codigo HGA": "WST-420",
                                    "Cota NA (m)": "1201,78",
                                    "Cota Topo (m)": "1211,9",
                                    "Data": "2019-12-18 00:00:00.000",
                                    "Profundidade (m)": "10,12"
                                },
                                {
                                    "Codigo HGA": "WST-420",
                                    "Cota NA (m)": "1203,63",
                                    "Cota Topo (m)": "1211,9",
                                    "Data": "2019-12-26 00:00:00.000",
                                    "Profundidade (m)": "8,27"
                                },
                                {
                                    "Codigo HGA": "WST-420",
                                    "Cota NA (m)": "1203,7",
                                    "Cota Topo (m)": "1211,9",
                                    "Data": "2020-03-22 00:00:00.000",
                                    "Profundidade (m)": "8,2"
                                },
                                {
                                    "Codigo HGA": "WST-420",
                                    "Cota NA (m)": "1203,9",
                                    "Cota Topo (m)": "1211,9",
                                    "Data": "2020-03-25 00:00:00.000",
                                    "Profundidade (m)": "8"
                                },
                                {
                                    "Codigo HGA": "WST-420",
                                    "Cota NA (m)": "1205,4",
                                    "Cota Topo (m)": "1211,9",
                                    "Data": "2020-03-26 00:00:00.000",
                                    "Profundidade (m)": "6,5"
                                },
                                {
                                    "Codigo HGA": "WST-420",
                                    "Cota NA (m)": "1205,23",
                                    "Cota Topo (m)": "1211,9",
                                    "Data": "2020-04-01 00:00:00.000",
                                    "Profundidade (m)": "6,67"
                                },
                                {
                                    "Codigo HGA": "WST-420",
                                    "Cota NA (m)": "1199,77",
                                    "Cota Topo (m)": "1211,9",
                                    "Data": "2020-04-27 00:00:00.000",
                                    "Profundidade (m)": "12,13"
                                },
                                {
                                    "Codigo HGA": "WST-420",
                                    "Cota NA (m)": "1203,22",
                                    "Cota Topo (m)": "1211,9",
                                    "Data": "2020-04-29 00:00:00.000",
                                    "Profundidade (m)": "8,68"
                                },
                                {
                                    "Codigo HGA": "WST-420",
                                    "Cota NA (m)": "1202,97",
                                    "Cota Topo (m)": "1211,9",
                                    "Data": "2020-05-06 00:00:00.000",
                                    "Profundidade (m)": "8,93"
                                },
                                {
                                    "Codigo HGA": "WST-420",
                                    "Cota NA (m)": "1201,53",
                                    "Cota Topo (m)": "1211,9",
                                    "Data": "2020-05-16 00:00:00.000",
                                    "Profundidade (m)": "10,37"
                                },
                                {
                                    "Codigo HGA": "WST-420",
                                    "Cota NA (m)": "1203,01",
                                    "Cota Topo (m)": "1211,9",
                                    "Data": "2020-05-20 00:00:00.000",
                                    "Profundidade (m)": "8,89"
                                },
                                {
                                    "Codigo HGA": "WST-420",
                                    "Cota NA (m)": "1200,99",
                                    "Cota Topo (m)": "1211,9",
                                    "Data": "2020-06-02 00:00:00.000",
                                    "Profundidade (m)": "10,91"
                                },
                                {
                                    "Codigo HGA": "WST-420",
                                    "Cota NA (m)": "1144,15",
                                    "Cota Topo (m)": "1211,9",
                                    "Data": "2020-06-06 00:00:00.000",
                                    "Profundidade (m)": "67,75"
                                },
                                {
                                    "Codigo HGA": "WST-420",
                                    "Cota NA (m)": "1146,92",
                                    "Cota Topo (m)": "1211,9",
                                    "Data": "2020-06-07 00:00:00.000",
                                    "Profundidade (m)": "64,98"
                                },
                                {
                                    "Codigo HGA": "WST-420",
                                    "Cota NA (m)": "1146,01",
                                    "Cota Topo (m)": "1211,9",
                                    "Data": "2020-06-08 00:00:00.000",
                                    "Profundidade (m)": "65,89"
                                },
                                {
                                    "Codigo HGA": "WST-420",
                                    "Cota NA (m)": "1143,14",
                                    "Cota Topo (m)": "1211,9",
                                    "Data": "2020-06-09 00:00:00.000",
                                    "Profundidade (m)": "68,76"
                                },
                                {
                                    "Codigo HGA": "WST-420",
                                    "Cota NA (m)": "1143,94",
                                    "Cota Topo (m)": "1211,9",
                                    "Data": "2020-06-10 00:00:00.000",
                                    "Profundidade (m)": "67,96"
                                },
                                {
                                    "Codigo HGA": "WST-420",
                                    "Cota NA (m)": "1151,42",
                                    "Cota Topo (m)": "1211,9",
                                    "Data": "2020-06-15 00:00:00.000",
                                    "Profundidade (m)": "60,48"
                                },
                                {
                                    "Codigo HGA": "WST-420",
                                    "Cota NA (m)": "1151,29",
                                    "Cota Topo (m)": "1211,9",
                                    "Data": "2020-06-18 00:00:00.000",
                                    "Profundidade (m)": "60,61"
                                },
                                {
                                    "Codigo HGA": "WST-420",
                                    "Cota NA (m)": "1151,55",
                                    "Cota Topo (m)": "1211,9",
                                    "Data": "2020-06-27 00:00:00.000",
                                    "Profundidade (m)": "60,35"
                                },
                                {
                                    "Codigo HGA": "WST-420",
                                    "Cota NA (m)": "1150,8",
                                    "Cota Topo (m)": "1211,9",
                                    "Data": "2020-07-01 00:00:00.000",
                                    "Profundidade (m)": "61,1"
                                },
                                {
                                    "Codigo HGA": "WST-420",
                                    "Cota NA (m)": "1159,8",
                                    "Cota Topo (m)": "1211,9",
                                    "Data": "2020-07-04 00:00:00.000",
                                    "Profundidade (m)": "52,1"
                                },
                                {
                                    "Codigo HGA": "WST-420",
                                    "Cota NA (m)": "1151,9",
                                    "Cota Topo (m)": "1211,9",
                                    "Data": "2020-07-08 00:00:00.000",
                                    "Profundidade (m)": "60"
                                },
                                {
                                    "Codigo HGA": "WST-420",
                                    "Cota NA (m)": "1153,15",
                                    "Cota Topo (m)": "1211,9",
                                    "Data": "2020-07-13 00:00:00.000",
                                    "Profundidade (m)": "58,75"
                                },
                                {
                                    "Codigo HGA": "WST-420",
                                    "Cota NA (m)": "1149,39",
                                    "Cota Topo (m)": "1211,9",
                                    "Data": "2020-07-15 00:00:00.000",
                                    "Profundidade (m)": "62,51"
                                },
                                {
                                    "Codigo HGA": "WST-420",
                                    "Cota NA (m)": "1147,6",
                                    "Cota Topo (m)": "1211,9",
                                    "Data": "2020-07-19 00:00:00.000",
                                    "Profundidade (m)": "64,3"
                                },
                                {
                                    "Codigo HGA": "WST-420",
                                    "Cota NA (m)": "1150,54",
                                    "Cota Topo (m)": "1211,9",
                                    "Data": "2020-07-27 00:00:00.000",
                                    "Profundidade (m)": "61,36"
                                },
                                {
                                    "Codigo HGA": "WST-420",
                                    "Cota NA (m)": "1160,59",
                                    "Cota Topo (m)": "1211,9",
                                    "Data": "2020-08-01 00:00:00.000",
                                    "Profundidade (m)": "51,31"
                                },
                                {
                                    "Codigo HGA": "WST-420",
                                    "Cota NA (m)": "1160,1",
                                    "Cota Topo (m)": "1211,9",
                                    "Data": "2020-08-03 00:00:00.000",
                                    "Profundidade (m)": "51,8"
                                },
                                {
                                    "Codigo HGA": "WST-420",
                                    "Cota NA (m)": "1160,25",
                                    "Cota Topo (m)": "1211,9",
                                    "Data": "2020-08-05 00:00:00.000",
                                    "Profundidade (m)": "51,65"
                                },
                                {
                                    "Codigo HGA": "WST-420",
                                    "Cota NA (m)": "1159,8",
                                    "Cota Topo (m)": "1211,9",
                                    "Data": "2020-08-09 00:00:00.000",
                                    "Profundidade (m)": "52,1"
                                },
                                {
                                    "Codigo HGA": "WST-420",
                                    "Cota NA (m)": "1159,6",
                                    "Cota Topo (m)": "1211,9",
                                    "Data": "2020-08-10 00:00:00.000",
                                    "Profundidade (m)": "52,3"
                                },
                                {
                                    "Codigo HGA": "WST-420",
                                    "Cota NA (m)": "1158,78",
                                    "Cota Topo (m)": "1211,9",
                                    "Data": "2020-08-12 00:00:00.000",
                                    "Profundidade (m)": "53,12"
                                },
                                {
                                    "Codigo HGA": "WST-420",
                                    "Cota NA (m)": "1159,87",
                                    "Cota Topo (m)": "1211,9",
                                    "Data": "2020-08-15 00:00:00.000",
                                    "Profundidade (m)": "52,03"
                                },
                                {
                                    "Codigo HGA": "WST-420",
                                    "Cota NA (m)": "1159,25",
                                    "Cota Topo (m)": "1211,9",
                                    "Data": "2020-08-17 00:00:00.000",
                                    "Profundidade (m)": "52,65"
                                },
                                {
                                    "Codigo HGA": "WST-420",
                                    "Cota NA (m)": "1146,7",
                                    "Cota Topo (m)": "1211,9",
                                    "Data": "2020-08-23 00:00:00.000",
                                    "Profundidade (m)": "65,2"
                                },
                                {
                                    "Codigo HGA": "WST-420",
                                    "Cota NA (m)": "1155,35",
                                    "Cota Topo (m)": "1211,9",
                                    "Data": "2021-11-15 00:00:00.000",
                                    "Profundidade (m)": "56,55"
                                },
                                {
                                    "Codigo HGA": "WST-420",
                                    "Cota NA (m)": "1161,01",
                                    "Cota Topo (m)": "1211,9",
                                    "Data": "2021-11-18 00:00:00.000",
                                    "Profundidade (m)": "50,89"
                                },
                                {
                                    "Codigo HGA": "WST-420",
                                    "Cota NA (m)": "1156,78",
                                    "Cota Topo (m)": "1211,9",
                                    "Data": "2021-11-23 00:00:00.000",
                                    "Profundidade (m)": "55,12"
                                },
                                {
                                    "Codigo HGA": "WST-420",
                                    "Cota NA (m)": "1156,73",
                                    "Cota Topo (m)": "1211,9",
                                    "Data": "2021-12-04 00:00:00.000",
                                    "Profundidade (m)": "55,17"
                                },
                                {
                                    "Codigo HGA": "WST-420",
                                    "Cota NA (m)": "1160,6",
                                    "Cota Topo (m)": "1211,9",
                                    "Data": "2021-12-07 00:00:00.000",
                                    "Profundidade (m)": "51,3"
                                },
                                {
                                    "Codigo HGA": "WST-420",
                                    "Cota NA (m)": "1155,79",
                                    "Cota Topo (m)": "1211,9",
                                    "Data": "2021-12-11 00:00:00.000",
                                    "Profundidade (m)": "56,11"
                                },
                                {
                                    "Codigo HGA": "WST-420",
                                    "Cota NA (m)": "1157,71",
                                    "Cota Topo (m)": "1211,9",
                                    "Data": "2021-12-14 00:00:00.000",
                                    "Profundidade (m)": "54,19"
                                },
                                {
                                    "Codigo HGA": "WST-420",
                                    "Cota NA (m)": "1152,79",
                                    "Cota Topo (m)": "1211,9",
                                    "Data": "2021-12-18 00:00:00.000",
                                    "Profundidade (m)": "59,11"
                                },
                                {
                                    "Codigo HGA": "WST-420",
                                    "Cota NA (m)": "1153,78",
                                    "Cota Topo (m)": "1211,9",
                                    "Data": "2022-01-04 00:00:00.000",
                                    "Profundidade (m)": "58,12"
                                },
                                {
                                    "Codigo HGA": "WST-420",
                                    "Cota NA (m)": "1166,88",
                                    "Cota Topo (m)": "1211,9",
                                    "Data": "2022-02-17 00:00:00.000",
                                    "Profundidade (m)": "45,02"
                                },
                                {
                                    "Codigo HGA": "WST-420",
                                    "Cota NA (m)": "1188,87",
                                    "Cota Topo (m)": "1211,9",
                                    "Data": "2022-02-23 00:00:00.000",
                                    "Profundidade (m)": "23,03"
                                },
                                {
                                    "Codigo HGA": "WST-420",
                                    "Cota NA (m)": "1170,16",
                                    "Cota Topo (m)": "1211,9",
                                    "Data": "2022-03-04 00:00:00.000",
                                    "Profundidade (m)": "41,74"
                                },
                                {
                                    "Codigo HGA": "WST-420",
                                    "Cota NA (m)": "1170,11",
                                    "Cota Topo (m)": "1211,9",
                                    "Data": "2022-03-07 00:00:00.000",
                                    "Profundidade (m)": "41,79"
                                },
                                {
                                    "Codigo HGA": "WST-420",
                                    "Cota NA (m)": "1168,66",
                                    "Cota Topo (m)": "1211,9",
                                    "Data": "2022-03-17 00:00:00.000",
                                    "Profundidade (m)": "43,24"
                                },
                                {
                                    "Codigo HGA": "WST-420",
                                    "Cota NA (m)": "1170",
                                    "Cota Topo (m)": "1211,9",
                                    "Data": "2022-04-07 00:00:00.000",
                                    "Profundidade (m)": "41,9"
                                },
                                {
                                    "Codigo HGA": "WST-420",
                                    "Cota NA (m)": "1169,18",
                                    "Cota Topo (m)": "1211,9",
                                    "Data": "2022-04-15 00:00:00.000",
                                    "Profundidade (m)": "42,72"
                                },
                                {
                                    "Codigo HGA": "WST-420",
                                    "Cota NA (m)": "1169,18",
                                    "Cota Topo (m)": "1211,9",
                                    "Data": "2022-04-19 00:00:00.000",
                                    "Profundidade (m)": "42,72"
                                },
                                {
                                    "Codigo HGA": "WST-420",
                                    "Cota NA (m)": "1169,58",
                                    "Cota Topo (m)": "1211,9",
                                    "Data": "2022-04-26 00:00:00.000",
                                    "Profundidade (m)": "42,32"
                                },
                                {
                                    "Codigo HGA": "WST-420",
                                    "Cota NA (m)": "1142,69",
                                    "Cota Topo (m)": "1211,9",
                                    "Data": "2022-06-07 00:00:00.000",
                                    "Profundidade (m)": "69,21"
                                },
                                {
                                    "Codigo HGA": "WST-420",
                                    "Cota NA (m)": "1163,35",
                                    "Cota Topo (m)": "1211,9",
                                    "Data": "2022-06-17 00:00:00.000",
                                    "Profundidade (m)": "48,55"
                                },
                                {
                                    "Codigo HGA": "WST-420",
                                    "Cota NA (m)": "1185,34",
                                    "Cota Topo (m)": "1211,9",
                                    "Data": "2022-06-20 00:00:00.000",
                                    "Profundidade (m)": "26,56"
                                },
                                {
                                    "Codigo HGA": "WST-420",
                                    "Cota NA (m)": "1191,96",
                                    "Cota Topo (m)": "1211,9",
                                    "Data": "2022-07-01 00:00:00.000",
                                    "Profundidade (m)": "19,94"
                                },
                                {
                                    "Codigo HGA": "WST-420",
                                    "Cota NA (m)": "1191,96",
                                    "Cota Topo (m)": "1211,9",
                                    "Data": "2022-07-05 00:00:00.000",
                                    "Profundidade (m)": "19,94"
                                },
                                {
                                    "Codigo HGA": "WST-420",
                                    "Cota NA (m)": "1192,22",
                                    "Cota Topo (m)": "1211,9",
                                    "Data": "2022-07-22 00:00:00.000",
                                    "Profundidade (m)": "19,68"
                                },
                                {
                                    "Codigo HGA": "WST-420",
                                    "Cota NA (m)": "1192,08",
                                    "Cota Topo (m)": "1211,9",
                                    "Data": "2022-07-25 00:00:00.000",
                                    "Profundidade (m)": "19,82"
                                },
                                {
                                    "Codigo HGA": "WST-420",
                                    "Cota NA (m)": "1191,94",
                                    "Cota Topo (m)": "1211,9",
                                    "Data": "2022-08-03 00:00:00.000",
                                    "Profundidade (m)": "19,96"
                                },
                                {
                                    "Codigo HGA": "WST-420",
                                    "Cota NA (m)": "1192,01",
                                    "Cota Topo (m)": "1211,9",
                                    "Data": "2022-08-08 00:00:00.000",
                                    "Profundidade (m)": "19,89"
                                },
                                {
                                    "Codigo HGA": "WST-420",
                                    "Cota NA (m)": "1191,7",
                                    "Cota Topo (m)": "1211,9",
                                    "Data": "2022-08-16 00:00:00.000",
                                    "Profundidade (m)": "20,2"
                                },
                                {
                                    "Codigo HGA": "WST-420",
                                    "Cota NA (m)": "1191,13",
                                    "Cota Topo (m)": "1211,9",
                                    "Data": "2022-08-23 00:00:00.000",
                                    "Profundidade (m)": "20,77"
                                },
                                {
                                    "Codigo HGA": "WST-420",
                                    "Cota NA (m)": "1190,66",
                                    "Cota Topo (m)": "1211,9",
                                    "Data": "2022-09-02 00:00:00.000",
                                    "Profundidade (m)": "21,24"
                                },
                                {
                                    "Codigo HGA": "WST-420",
                                    "Cota NA (m)": "1191,88",
                                    "Cota Topo (m)": "1211,9",
                                    "Data": "2022-09-20 00:00:00.000",
                                    "Profundidade (m)": "20,02"
                                },
                                {
                                    "Codigo HGA": "WST-420",
                                    "Cota NA (m)": "1190,06",
                                    "Cota Topo (m)": "1211,9",
                                    "Data": "2022-09-26 00:00:00.000",
                                    "Profundidade (m)": "21,84"
                                },
                                {
                                    "Codigo HGA": "WST-420",
                                    "Cota NA (m)": "1190,15",
                                    "Cota Topo (m)": "1211,9",
                                    "Data": "2022-10-05 00:00:00.000",
                                    "Profundidade (m)": "21,75"
                                },
                                {
                                    "Codigo HGA": "WST-420",
                                    "Cota NA (m)": "1189,9",
                                    "Cota Topo (m)": "1211,9",
                                    "Data": "2022-10-13 00:00:00.000",
                                    "Profundidade (m)": "22"
                                },
                                {
                                    "Codigo HGA": "WST-420",
                                    "Cota NA (m)": "1189,7",
                                    "Cota Topo (m)": "1211,9",
                                    "Data": "2022-10-19 00:00:00.000",
                                    "Profundidade (m)": "22,2"
                                },
                                {
                                    "Codigo HGA": "WST-421",
                                    "Cota NA (m)": "1195,3",
                                    "Cota Topo (m)": "1211,9",
                                    "Data": "2016-12-30 00:00:00.000",
                                    "Profundidade (m)": "16,6"
                                },
                                {
                                    "Codigo HGA": "WST-421",
                                    "Cota NA (m)": "1194,08",
                                    "Cota Topo (m)": "1211,9",
                                    "Data": "2017-01-11 00:00:00.000",
                                    "Profundidade (m)": "17,82"
                                },
                                {
                                    "Codigo HGA": "WST-421",
                                    "Cota NA (m)": "NULL",
                                    "Cota Topo (m)": "1211,9",
                                    "Data": "2017-01-25 00:00:00.000",
                                    "Profundidade (m)": "NULL"
                                },
                                {
                                    "Codigo HGA": "WST-421",
                                    "Cota NA (m)": "NULL",
                                    "Cota Topo (m)": "1211,9",
                                    "Data": "2017-02-03 00:00:00.000",
                                    "Profundidade (m)": "NULL"
                                },
                                {
                                    "Codigo HGA": "WST-421",
                                    "Cota NA (m)": "NULL",
                                    "Cota Topo (m)": "1211,9",
                                    "Data": "2017-02-10 00:00:00.000",
                                    "Profundidade (m)": "NULL"
                                },
                                {
                                    "Codigo HGA": "WST-421",
                                    "Cota NA (m)": "NULL",
                                    "Cota Topo (m)": "1211,9",
                                    "Data": "2017-02-16 00:00:00.000",
                                    "Profundidade (m)": "NULL"
                                },
                                {
                                    "Codigo HGA": "WST-421",
                                    "Cota NA (m)": "NULL",
                                    "Cota Topo (m)": "1211,9",
                                    "Data": "2017-02-22 00:00:00.000",
                                    "Profundidade (m)": "NULL"
                                },
                                {
                                    "Codigo HGA": "WST-421",
                                    "Cota NA (m)": "NULL",
                                    "Cota Topo (m)": "1211,9",
                                    "Data": "2017-03-03 00:00:00.000",
                                    "Profundidade (m)": "NULL"
                                },
                                {
                                    "Codigo HGA": "WST-421",
                                    "Cota NA (m)": "NULL",
                                    "Cota Topo (m)": "1211,9",
                                    "Data": "2017-03-10 00:00:00.000",
                                    "Profundidade (m)": "NULL"
                                },
                                {
                                    "Codigo HGA": "WST-421",
                                    "Cota NA (m)": "NULL",
                                    "Cota Topo (m)": "1211,9",
                                    "Data": "2017-03-17 00:00:00.000",
                                    "Profundidade (m)": "NULL"
                                },
                                {
                                    "Codigo HGA": "WST-421",
                                    "Cota NA (m)": "NULL",
                                    "Cota Topo (m)": "1211,9",
                                    "Data": "2017-03-24 00:00:00.000",
                                    "Profundidade (m)": "NULL"
                                },
                                {
                                    "Codigo HGA": "WST-421",
                                    "Cota NA (m)": "NULL",
                                    "Cota Topo (m)": "1211,9",
                                    "Data": "2017-03-30 00:00:00.000",
                                    "Profundidade (m)": "NULL"
                                },
                                {
                                    "Codigo HGA": "WST-421",
                                    "Cota NA (m)": "NULL",
                                    "Cota Topo (m)": "1211,9",
                                    "Data": "2017-04-13 00:00:00.000",
                                    "Profundidade (m)": "NULL"
                                },
                                {
                                    "Codigo HGA": "WST-421",
                                    "Cota NA (m)": "NULL",
                                    "Cota Topo (m)": "1211,9",
                                    "Data": "2017-04-20 00:00:00.000",
                                    "Profundidade (m)": "NULL"
                                },
                                {
                                    "Codigo HGA": "WST-421",
                                    "Cota NA (m)": "NULL",
                                    "Cota Topo (m)": "1211,9",
                                    "Data": "2017-04-24 00:00:00.000",
                                    "Profundidade (m)": "NULL"
                                },
                                {
                                    "Codigo HGA": "WST-421",
                                    "Cota NA (m)": "NULL",
                                    "Cota Topo (m)": "1211,9",
                                    "Data": "2017-05-05 00:00:00.000",
                                    "Profundidade (m)": "NULL"
                                },
                                {
                                    "Codigo HGA": "WST-421",
                                    "Cota NA (m)": "NULL",
                                    "Cota Topo (m)": "1211,9",
                                    "Data": "2017-05-11 00:00:00.000",
                                    "Profundidade (m)": "NULL"
                                },
                                {
                                    "Codigo HGA": "WST-421",
                                    "Cota NA (m)": "NULL",
                                    "Cota Topo (m)": "1211,9",
                                    "Data": "2017-05-18 00:00:00.000",
                                    "Profundidade (m)": "NULL"
                                },
                                {
                                    "Codigo HGA": "WST-421",
                                    "Cota NA (m)": "NULL",
                                    "Cota Topo (m)": "1211,9",
                                    "Data": "2017-05-22 00:00:00.000",
                                    "Profundidade (m)": "NULL"
                                },
                                {
                                    "Codigo HGA": "WST-421",
                                    "Cota NA (m)": "NULL",
                                    "Cota Topo (m)": "1211,9",
                                    "Data": "2017-06-02 00:00:00.000",
                                    "Profundidade (m)": "NULL"
                                },
                                {
                                    "Codigo HGA": "WST-421",
                                    "Cota NA (m)": "NULL",
                                    "Cota Topo (m)": "1211,9",
                                    "Data": "2017-06-08 00:00:00.000",
                                    "Profundidade (m)": "NULL"
                                },
                                {
                                    "Codigo HGA": "WST-421",
                                    "Cota NA (m)": "NULL",
                                    "Cota Topo (m)": "1211,9",
                                    "Data": "2017-06-16 00:00:00.000",
                                    "Profundidade (m)": "NULL"
                                },
                                {
                                    "Codigo HGA": "WST-421",
                                    "Cota NA (m)": "NULL",
                                    "Cota Topo (m)": "1211,9",
                                    "Data": "2017-06-21 00:00:00.000",
                                    "Profundidade (m)": "NULL"
                                },
                                {
                                    "Codigo HGA": "WST-421",
                                    "Cota NA (m)": "1106,71",
                                    "Cota Topo (m)": "1211,9",
                                    "Data": "2017-08-25 00:00:00.000",
                                    "Profundidade (m)": "105,19"
                                },
                                {
                                    "Codigo HGA": "WST-421",
                                    "Cota NA (m)": "1097,14",
                                    "Cota Topo (m)": "1211,9",
                                    "Data": "2017-09-28 00:00:00.000",
                                    "Profundidade (m)": "114,76"
                                },
                                {
                                    "Codigo HGA": "WST-421",
                                    "Cota NA (m)": "1097,66",
                                    "Cota Topo (m)": "1211,9",
                                    "Data": "2017-10-30 00:00:00.000",
                                    "Profundidade (m)": "114,24"
                                },
                                {
                                    "Codigo HGA": "WST-421",
                                    "Cota NA (m)": "1101,15",
                                    "Cota Topo (m)": "1211,9",
                                    "Data": "2017-11-30 00:00:00.000",
                                    "Profundidade (m)": "110,75"
                                },
                                {
                                    "Codigo HGA": "WST-421",
                                    "Cota NA (m)": "1106,56",
                                    "Cota Topo (m)": "1211,9",
                                    "Data": "2017-12-28 00:00:00.000",
                                    "Profundidade (m)": "105,34"
                                },
                                {
                                    "Codigo HGA": "WST-421",
                                    "Cota NA (m)": "1119,09",
                                    "Cota Topo (m)": "1211,9",
                                    "Data": "2018-01-24 00:00:00.000",
                                    "Profundidade (m)": "92,81"
                                },
                                {
                                    "Codigo HGA": "WST-421",
                                    "Cota NA (m)": "1121,68",
                                    "Cota Topo (m)": "1211,9",
                                    "Data": "2018-02-21 00:00:00.000",
                                    "Profundidade (m)": "90,22"
                                },
                                {
                                    "Codigo HGA": "WST-421",
                                    "Cota NA (m)": "1124,3",
                                    "Cota Topo (m)": "1211,9",
                                    "Data": "2018-03-26 00:00:00.000",
                                    "Profundidade (m)": "87,6"
                                },
                                {
                                    "Codigo HGA": "WST-421",
                                    "Cota NA (m)": "1151,2",
                                    "Cota Topo (m)": "1211,9",
                                    "Data": "2018-05-18 00:00:00.000",
                                    "Profundidade (m)": "60,7"
                                },
                                {
                                    "Codigo HGA": "WST-421",
                                    "Cota NA (m)": "1131,47",
                                    "Cota Topo (m)": "1211,9",
                                    "Data": "2018-06-22 00:00:00.000",
                                    "Profundidade (m)": "80,43"
                                },
                                {
                                    "Codigo HGA": "WST-421",
                                    "Cota NA (m)": "1155",
                                    "Cota Topo (m)": "1211,9",
                                    "Data": "2018-07-30 00:00:00.000",
                                    "Profundidade (m)": "56,9"
                                },
                                {
                                    "Codigo HGA": "WST-421",
                                    "Cota NA (m)": "1155,21",
                                    "Cota Topo (m)": "1211,9",
                                    "Data": "2018-08-31 00:00:00.000",
                                    "Profundidade (m)": "56,69"
                                },
                                {
                                    "Codigo HGA": "WST-421",
                                    "Cota NA (m)": "1106,95",
                                    "Cota Topo (m)": "1211,9",
                                    "Data": "2018-09-26 00:00:00.000",
                                    "Profundidade (m)": "104,95"
                                },
                                {
                                    "Codigo HGA": "WST-421",
                                    "Cota NA (m)": "1118,2",
                                    "Cota Topo (m)": "1211,9",
                                    "Data": "2018-11-29 00:00:00.000",
                                    "Profundidade (m)": "93,7"
                                },
                                {
                                    "Codigo HGA": "WST-421",
                                    "Cota NA (m)": "1196,75",
                                    "Cota Topo (m)": "1211,9",
                                    "Data": "2019-01-30 00:00:00.000",
                                    "Profundidade (m)": "15,15"
                                },
                                {
                                    "Codigo HGA": "WST-421",
                                    "Cota NA (m)": "1198,06",
                                    "Cota Topo (m)": "1211,9",
                                    "Data": "2019-04-12 00:00:00.000",
                                    "Profundidade (m)": "13,84"
                                },
                                {
                                    "Codigo HGA": "WST-421",
                                    "Cota NA (m)": "1118,9",
                                    "Cota Topo (m)": "1211,9",
                                    "Data": "2019-05-31 00:00:00.000",
                                    "Profundidade (m)": "93"
                                },
                                {
                                    "Codigo HGA": "WST-421",
                                    "Cota NA (m)": "1152,14",
                                    "Cota Topo (m)": "1211,9",
                                    "Data": "2019-06-14 00:00:00.000",
                                    "Profundidade (m)": "59,76"
                                },
                                {
                                    "Codigo HGA": "WST-421",
                                    "Cota NA (m)": "1134,17",
                                    "Cota Topo (m)": "1211,9",
                                    "Data": "2019-06-26 00:00:00.000",
                                    "Profundidade (m)": "77,73"
                                },
                                {
                                    "Codigo HGA": "WST-421",
                                    "Cota NA (m)": "1140,4",
                                    "Cota Topo (m)": "1211,9",
                                    "Data": "2019-08-02 00:00:00.000",
                                    "Profundidade (m)": "71,5"
                                },
                                {
                                    "Codigo HGA": "WST-421",
                                    "Cota NA (m)": "1146",
                                    "Cota Topo (m)": "1211,9",
                                    "Data": "2019-09-18 00:00:00.000",
                                    "Profundidade (m)": "65,9"
                                },
                                {
                                    "Codigo HGA": "WST-421",
                                    "Cota NA (m)": "1156,4",
                                    "Cota Topo (m)": "1211,9",
                                    "Data": "2019-11-20 00:00:00.000",
                                    "Profundidade (m)": "55,5"
                                },
                                {
                                    "Codigo HGA": "WST-421",
                                    "Cota NA (m)": "1128,69",
                                    "Cota Topo (m)": "1211,9",
                                    "Data": "2019-12-06 00:00:00.000",
                                    "Profundidade (m)": "83,21"
                                },
                                {
                                    "Codigo HGA": "WST-421",
                                    "Cota NA (m)": "1160,18",
                                    "Cota Topo (m)": "1211,9",
                                    "Data": "2020-02-05 00:00:00.000",
                                    "Profundidade (m)": "51,72"
                                },
                                {
                                    "Codigo HGA": "WST-421",
                                    "Cota NA (m)": "1161,46",
                                    "Cota Topo (m)": "1211,9",
                                    "Data": "2020-02-08 00:00:00.000",
                                    "Profundidade (m)": "50,44"
                                },
                                {
                                    "Codigo HGA": "WST-421",
                                    "Cota NA (m)": "1156,81",
                                    "Cota Topo (m)": "1211,9",
                                    "Data": "2020-02-10 00:00:00.000",
                                    "Profundidade (m)": "55,09"
                                },
                                {
                                    "Codigo HGA": "WST-421",
                                    "Cota NA (m)": "1168,41",
                                    "Cota Topo (m)": "1211,9",
                                    "Data": "2020-02-26 00:00:00.000",
                                    "Profundidade (m)": "43,49"
                                },
                                {
                                    "Codigo HGA": "WST-421",
                                    "Cota NA (m)": "1156,47",
                                    "Cota Topo (m)": "1211,9",
                                    "Data": "2020-03-14 00:00:00.000",
                                    "Profundidade (m)": "55,43"
                                },
                                {
                                    "Codigo HGA": "WST-421",
                                    "Cota NA (m)": "1156,22",
                                    "Cota Topo (m)": "1211,9",
                                    "Data": "2020-03-16 00:00:00.000",
                                    "Profundidade (m)": "55,68"
                                },
                                {
                                    "Codigo HGA": "WST-421",
                                    "Cota NA (m)": "1204,71",
                                    "Cota Topo (m)": "1211,9",
                                    "Data": "2020-03-22 00:00:00.000",
                                    "Profundidade (m)": "7,19"
                                },
                                {
                                    "Codigo HGA": "WST-421",
                                    "Cota NA (m)": "1204,9",
                                    "Cota Topo (m)": "1211,9",
                                    "Data": "2020-03-25 00:00:00.000",
                                    "Profundidade (m)": "7"
                                },
                                {
                                    "Codigo HGA": "WST-421",
                                    "Cota NA (m)": "1138,21",
                                    "Cota Topo (m)": "1211,9",
                                    "Data": "2020-04-07 00:00:00.000",
                                    "Profundidade (m)": "73,69"
                                },
                                {
                                    "Codigo HGA": "WST-421",
                                    "Cota NA (m)": "1141,58",
                                    "Cota Topo (m)": "1211,9",
                                    "Data": "2020-04-22 00:00:00.000",
                                    "Profundidade (m)": "70,32"
                                },
                                {
                                    "Codigo HGA": "WST-421",
                                    "Cota NA (m)": "1140,22",
                                    "Cota Topo (m)": "1211,9",
                                    "Data": "2020-04-29 00:00:00.000",
                                    "Profundidade (m)": "71,68"
                                },
                                {
                                    "Codigo HGA": "WST-421",
                                    "Cota NA (m)": "1138,9",
                                    "Cota Topo (m)": "1211,9",
                                    "Data": "2020-05-04 00:00:00.000",
                                    "Profundidade (m)": "73"
                                },
                                {
                                    "Codigo HGA": "WST-421",
                                    "Cota NA (m)": "1129,23",
                                    "Cota Topo (m)": "1211,9",
                                    "Data": "2020-05-09 00:00:00.000",
                                    "Profundidade (m)": "82,67"
                                },
                                {
                                    "Codigo HGA": "WST-421",
                                    "Cota NA (m)": "1128,5",
                                    "Cota Topo (m)": "1211,9",
                                    "Data": "2020-05-16 00:00:00.000",
                                    "Profundidade (m)": "83,4"
                                },
                                {
                                    "Codigo HGA": "WST-421",
                                    "Cota NA (m)": "1135,6",
                                    "Cota Topo (m)": "1211,9",
                                    "Data": "2020-05-20 00:00:00.000",
                                    "Profundidade (m)": "76,3"
                                },
                                {
                                    "Codigo HGA": "WST-421",
                                    "Cota NA (m)": "1134,04",
                                    "Cota Topo (m)": "1211,9",
                                    "Data": "2020-05-23 00:00:00.000",
                                    "Profundidade (m)": "77,86"
                                },
                                {
                                    "Codigo HGA": "WST-421",
                                    "Cota NA (m)": "1125,47",
                                    "Cota Topo (m)": "1211,9",
                                    "Data": "2020-05-27 00:00:00.000",
                                    "Profundidade (m)": "86,43"
                                },
                                {
                                    "Codigo HGA": "WST-421",
                                    "Cota NA (m)": "1138,4",
                                    "Cota Topo (m)": "1211,9",
                                    "Data": "2020-06-01 00:00:00.000",
                                    "Profundidade (m)": "73,5"
                                },
                                {
                                    "Codigo HGA": "WST-421",
                                    "Cota NA (m)": "1147,31",
                                    "Cota Topo (m)": "1211,9",
                                    "Data": "2020-06-06 00:00:00.000",
                                    "Profundidade (m)": "64,59"
                                },
                                {
                                    "Codigo HGA": "WST-421",
                                    "Cota NA (m)": "1145,94",
                                    "Cota Topo (m)": "1211,9",
                                    "Data": "2020-06-08 00:00:00.000",
                                    "Profundidade (m)": "65,96"
                                },
                                {
                                    "Codigo HGA": "WST-421",
                                    "Cota NA (m)": "1139,5",
                                    "Cota Topo (m)": "1211,9",
                                    "Data": "2020-06-10 00:00:00.000",
                                    "Profundidade (m)": "72,4"
                                },
                                {
                                    "Codigo HGA": "WST-421",
                                    "Cota NA (m)": "1138,8",
                                    "Cota Topo (m)": "1211,9",
                                    "Data": "2020-06-27 00:00:00.000",
                                    "Profundidade (m)": "73,1"
                                },
                                {
                                    "Codigo HGA": "WST-421",
                                    "Cota NA (m)": "1149,27",
                                    "Cota Topo (m)": "1211,9",
                                    "Data": "2020-07-01 00:00:00.000",
                                    "Profundidade (m)": "62,63"
                                },
                                {
                                    "Codigo HGA": "WST-421",
                                    "Cota NA (m)": "1201,48",
                                    "Cota Topo (m)": "1211,9",
                                    "Data": "2020-07-04 00:00:00.000",
                                    "Profundidade (m)": "10,42"
                                },
                                {
                                    "Codigo HGA": "WST-421",
                                    "Cota NA (m)": "1152,3",
                                    "Cota Topo (m)": "1211,9",
                                    "Data": "2020-07-13 00:00:00.000",
                                    "Profundidade (m)": "59,6"
                                },
                                {
                                    "Codigo HGA": "WST-421",
                                    "Cota NA (m)": "1142,2",
                                    "Cota Topo (m)": "1211,9",
                                    "Data": "2020-07-26 00:00:00.000",
                                    "Profundidade (m)": "69,7"
                                },
                                {
                                    "Codigo HGA": "WST-421",
                                    "Cota NA (m)": "1153,17",
                                    "Cota Topo (m)": "1211,9",
                                    "Data": "2020-07-27 00:00:00.000",
                                    "Profundidade (m)": "58,73"
                                },
                                {
                                    "Codigo HGA": "WST-421",
                                    "Cota NA (m)": "1145,01",
                                    "Cota Topo (m)": "1211,9",
                                    "Data": "2020-08-01 00:00:00.000",
                                    "Profundidade (m)": "66,89"
                                },
                                {
                                    "Codigo HGA": "WST-421",
                                    "Cota NA (m)": "1143,91",
                                    "Cota Topo (m)": "1211,9",
                                    "Data": "2020-08-03 00:00:00.000",
                                    "Profundidade (m)": "67,99"
                                },
                                {
                                    "Codigo HGA": "WST-421",
                                    "Cota NA (m)": "1144,39",
                                    "Cota Topo (m)": "1211,9",
                                    "Data": "2020-08-05 00:00:00.000",
                                    "Profundidade (m)": "67,51"
                                },
                                {
                                    "Codigo HGA": "WST-421",
                                    "Cota NA (m)": "1142,62",
                                    "Cota Topo (m)": "1211,9",
                                    "Data": "2020-08-09 00:00:00.000",
                                    "Profundidade (m)": "69,28"
                                },
                                {
                                    "Codigo HGA": "WST-421",
                                    "Cota NA (m)": "1142,04",
                                    "Cota Topo (m)": "1211,9",
                                    "Data": "2020-08-10 00:00:00.000",
                                    "Profundidade (m)": "69,86"
                                },
                                {
                                    "Codigo HGA": "WST-421",
                                    "Cota NA (m)": "1143,32",
                                    "Cota Topo (m)": "1211,9",
                                    "Data": "2020-08-12 00:00:00.000",
                                    "Profundidade (m)": "68,58"
                                },
                                {
                                    "Codigo HGA": "WST-421",
                                    "Cota NA (m)": "1145,92",
                                    "Cota Topo (m)": "1211,9",
                                    "Data": "2020-08-15 00:00:00.000",
                                    "Profundidade (m)": "65,98"
                                },
                                {
                                    "Codigo HGA": "WST-421",
                                    "Cota NA (m)": "1144,5",
                                    "Cota Topo (m)": "1211,9",
                                    "Data": "2020-08-17 00:00:00.000",
                                    "Profundidade (m)": "67,4"
                                },
                                {
                                    "Codigo HGA": "WST-421",
                                    "Cota NA (m)": "1195,65",
                                    "Cota Topo (m)": "1211,9",
                                    "Data": "2021-12-21 00:00:00.000",
                                    "Profundidade (m)": "16,25"
                                },
                                {
                                    "Codigo HGA": "WST-421",
                                    "Cota NA (m)": "1146,69",
                                    "Cota Topo (m)": "1211,9",
                                    "Data": "2022-01-04 00:00:00.000",
                                    "Profundidade (m)": "65,21"
                                },
                                {
                                    "Codigo HGA": "WST-422",
                                    "Cota NA (m)": "1180,8",
                                    "Cota Topo (m)": "1197,4",
                                    "Data": "2016-12-30 00:00:00.000",
                                    "Profundidade (m)": "16,6"
                                },
                                {
                                    "Codigo HGA": "WST-422",
                                    "Cota NA (m)": "1179,58",
                                    "Cota Topo (m)": "1197,4",
                                    "Data": "2017-01-11 00:00:00.000",
                                    "Profundidade (m)": "17,82"
                                },
                                {
                                    "Codigo HGA": "WST-422",
                                    "Cota NA (m)": "1178,51",
                                    "Cota Topo (m)": "1197,4",
                                    "Data": "2017-01-25 00:00:00.000",
                                    "Profundidade (m)": "18,89"
                                },
                                {
                                    "Codigo HGA": "WST-422",
                                    "Cota NA (m)": "1177,38",
                                    "Cota Topo (m)": "1197,4",
                                    "Data": "2017-02-03 00:00:00.000",
                                    "Profundidade (m)": "20,02"
                                },
                                {
                                    "Codigo HGA": "WST-422",
                                    "Cota NA (m)": "1177,33",
                                    "Cota Topo (m)": "1197,4",
                                    "Data": "2017-02-10 00:00:00.000",
                                    "Profundidade (m)": "20,07"
                                },
                                {
                                    "Codigo HGA": "WST-422",
                                    "Cota NA (m)": "1177,02",
                                    "Cota Topo (m)": "1197,4",
                                    "Data": "2017-02-16 00:00:00.000",
                                    "Profundidade (m)": "20,38"
                                },
                                {
                                    "Codigo HGA": "WST-422",
                                    "Cota NA (m)": "1176,24",
                                    "Cota Topo (m)": "1197,4",
                                    "Data": "2017-02-22 00:00:00.000",
                                    "Profundidade (m)": "21,16"
                                },
                                {
                                    "Codigo HGA": "WST-422",
                                    "Cota NA (m)": "1175,97",
                                    "Cota Topo (m)": "1197,4",
                                    "Data": "2017-03-03 00:00:00.000",
                                    "Profundidade (m)": "21,43"
                                },
                                {
                                    "Codigo HGA": "WST-422",
                                    "Cota NA (m)": "1175,93",
                                    "Cota Topo (m)": "1197,4",
                                    "Data": "2017-03-10 00:00:00.000",
                                    "Profundidade (m)": "21,47"
                                },
                                {
                                    "Codigo HGA": "WST-422",
                                    "Cota NA (m)": "1175,9",
                                    "Cota Topo (m)": "1197,4",
                                    "Data": "2017-03-17 00:00:00.000",
                                    "Profundidade (m)": "21,5"
                                },
                                {
                                    "Codigo HGA": "WST-422",
                                    "Cota NA (m)": "1175,68",
                                    "Cota Topo (m)": "1197,4",
                                    "Data": "2017-03-24 00:00:00.000",
                                    "Profundidade (m)": "21,72"
                                },
                                {
                                    "Codigo HGA": "WST-422",
                                    "Cota NA (m)": "1175,44",
                                    "Cota Topo (m)": "1197,4",
                                    "Data": "2017-03-30 00:00:00.000",
                                    "Profundidade (m)": "21,96"
                                },
                                {
                                    "Codigo HGA": "WST-422",
                                    "Cota NA (m)": "1175,92",
                                    "Cota Topo (m)": "1197,4",
                                    "Data": "2017-04-13 00:00:00.000",
                                    "Profundidade (m)": "21,48"
                                },
                                {
                                    "Codigo HGA": "WST-422",
                                    "Cota NA (m)": "1175,94",
                                    "Cota Topo (m)": "1197,4",
                                    "Data": "2017-04-20 00:00:00.000",
                                    "Profundidade (m)": "21,46"
                                },
                                {
                                    "Codigo HGA": "WST-422",
                                    "Cota NA (m)": "1176,56",
                                    "Cota Topo (m)": "1197,4",
                                    "Data": "2017-04-24 00:00:00.000",
                                    "Profundidade (m)": "20,84"
                                },
                                {
                                    "Codigo HGA": "WST-422",
                                    "Cota NA (m)": "1175,46",
                                    "Cota Topo (m)": "1197,4",
                                    "Data": "2017-05-05 00:00:00.000",
                                    "Profundidade (m)": "21,94"
                                },
                                {
                                    "Codigo HGA": "WST-422",
                                    "Cota NA (m)": "1175,07",
                                    "Cota Topo (m)": "1197,4",
                                    "Data": "2017-05-11 00:00:00.000",
                                    "Profundidade (m)": "22,33"
                                },
                                {
                                    "Codigo HGA": "WST-422",
                                    "Cota NA (m)": "1174,37",
                                    "Cota Topo (m)": "1197,4",
                                    "Data": "2017-05-18 00:00:00.000",
                                    "Profundidade (m)": "23,03"
                                },
                                {
                                    "Codigo HGA": "WST-422",
                                    "Cota NA (m)": "1175,04",
                                    "Cota Topo (m)": "1197,4",
                                    "Data": "2017-05-22 00:00:00.000",
                                    "Profundidade (m)": "22,36"
                                },
                                {
                                    "Codigo HGA": "WST-422",
                                    "Cota NA (m)": "1174,43",
                                    "Cota Topo (m)": "1197,4",
                                    "Data": "2017-06-02 00:00:00.000",
                                    "Profundidade (m)": "22,97"
                                },
                                {
                                    "Codigo HGA": "WST-422",
                                    "Cota NA (m)": "1174,19",
                                    "Cota Topo (m)": "1197,4",
                                    "Data": "2017-06-08 00:00:00.000",
                                    "Profundidade (m)": "23,21"
                                },
                                {
                                    "Codigo HGA": "WST-422",
                                    "Cota NA (m)": "1174,07",
                                    "Cota Topo (m)": "1197,4",
                                    "Data": "2017-06-16 00:00:00.000",
                                    "Profundidade (m)": "23,33"
                                },
                                {
                                    "Codigo HGA": "WST-422",
                                    "Cota NA (m)": "1173,62",
                                    "Cota Topo (m)": "1197,4",
                                    "Data": "2017-06-21 00:00:00.000",
                                    "Profundidade (m)": "23,78"
                                },
                                {
                                    "Codigo HGA": "WST-422",
                                    "Cota NA (m)": "NULL",
                                    "Cota Topo (m)": "1197,4",
                                    "Data": "2017-06-29 00:00:00.000",
                                    "Profundidade (m)": "NULL"
                                },
                                {
                                    "Codigo HGA": "WST-422",
                                    "Cota NA (m)": "1179,73",
                                    "Cota Topo (m)": "1197,4",
                                    "Data": "2017-07-06 00:00:00.000",
                                    "Profundidade (m)": "17,67"
                                },
                                {
                                    "Codigo HGA": "WST-422",
                                    "Cota NA (m)": "1177,88",
                                    "Cota Topo (m)": "1197,4",
                                    "Data": "2017-07-14 00:00:00.000",
                                    "Profundidade (m)": "19,52"
                                },
                                {
                                    "Codigo HGA": "WST-422",
                                    "Cota NA (m)": "1177,61",
                                    "Cota Topo (m)": "1197,4",
                                    "Data": "2017-07-21 00:00:00.000",
                                    "Profundidade (m)": "19,79"
                                },
                                {
                                    "Codigo HGA": "WST-422",
                                    "Cota NA (m)": "1175,85",
                                    "Cota Topo (m)": "1197,4",
                                    "Data": "2017-07-26 00:00:00.000",
                                    "Profundidade (m)": "21,55"
                                },
                                {
                                    "Codigo HGA": "WST-422",
                                    "Cota NA (m)": "1175,33",
                                    "Cota Topo (m)": "1197,4",
                                    "Data": "2017-08-10 00:00:00.000",
                                    "Profundidade (m)": "22,07"
                                },
                                {
                                    "Codigo HGA": "WST-422",
                                    "Cota NA (m)": "1175,26",
                                    "Cota Topo (m)": "1197,4",
                                    "Data": "2017-08-18 00:00:00.000",
                                    "Profundidade (m)": "22,14"
                                },
                                {
                                    "Codigo HGA": "WST-422",
                                    "Cota NA (m)": "1175,45",
                                    "Cota Topo (m)": "1197,4",
                                    "Data": "2017-08-25 00:00:00.000",
                                    "Profundidade (m)": "21,95"
                                },
                                {
                                    "Codigo HGA": "WST-422",
                                    "Cota NA (m)": "1174,1",
                                    "Cota Topo (m)": "1197,4",
                                    "Data": "2017-09-06 00:00:00.000",
                                    "Profundidade (m)": "23,3"
                                },
                                {
                                    "Codigo HGA": "WST-422",
                                    "Cota NA (m)": "1173,24",
                                    "Cota Topo (m)": "1197,4",
                                    "Data": "2017-09-15 00:00:00.000",
                                    "Profundidade (m)": "24,16"
                                },
                                {
                                    "Codigo HGA": "WST-422",
                                    "Cota NA (m)": "1176,48",
                                    "Cota Topo (m)": "1197,4",
                                    "Data": "2017-10-19 00:00:00.000",
                                    "Profundidade (m)": "20,92"
                                },
                                {
                                    "Codigo HGA": "WST-422",
                                    "Cota NA (m)": "1180,34",
                                    "Cota Topo (m)": "1197,4",
                                    "Data": "2017-11-30 00:00:00.000",
                                    "Profundidade (m)": "17,06"
                                },
                                {
                                    "Codigo HGA": "WST-422",
                                    "Cota NA (m)": "1180,65",
                                    "Cota Topo (m)": "1197,4",
                                    "Data": "2017-12-04 00:00:00.000",
                                    "Profundidade (m)": "16,75"
                                },
                                {
                                    "Codigo HGA": "WST-422",
                                    "Cota NA (m)": "1180,64",
                                    "Cota Topo (m)": "1197,4",
                                    "Data": "2017-12-14 00:00:00.000",
                                    "Profundidade (m)": "16,76"
                                },
                                {
                                    "Codigo HGA": "WST-422",
                                    "Cota NA (m)": "1179,97",
                                    "Cota Topo (m)": "1197,4",
                                    "Data": "2017-12-20 00:00:00.000",
                                    "Profundidade (m)": "17,43"
                                },
                                {
                                    "Codigo HGA": "WST-422",
                                    "Cota NA (m)": "1180,3",
                                    "Cota Topo (m)": "1197,4",
                                    "Data": "2018-01-03 00:00:00.000",
                                    "Profundidade (m)": "17,1"
                                },
                                {
                                    "Codigo HGA": "WST-422",
                                    "Cota NA (m)": "1178,71",
                                    "Cota Topo (m)": "1197,4",
                                    "Data": "2018-01-10 00:00:00.000",
                                    "Profundidade (m)": "18,69"
                                },
                                {
                                    "Codigo HGA": "WST-422",
                                    "Cota NA (m)": "1179,94",
                                    "Cota Topo (m)": "1197,4",
                                    "Data": "2018-01-17 00:00:00.000",
                                    "Profundidade (m)": "17,46"
                                },
                                {
                                    "Codigo HGA": "WST-422",
                                    "Cota NA (m)": "1179,58",
                                    "Cota Topo (m)": "1197,4",
                                    "Data": "2018-01-24 00:00:00.000",
                                    "Profundidade (m)": "17,82"
                                },
                                {
                                    "Codigo HGA": "WST-422",
                                    "Cota NA (m)": "1179,61",
                                    "Cota Topo (m)": "1197,4",
                                    "Data": "2018-02-01 00:00:00.000",
                                    "Profundidade (m)": "17,79"
                                },
                                {
                                    "Codigo HGA": "WST-422",
                                    "Cota NA (m)": "1180,16",
                                    "Cota Topo (m)": "1197,4",
                                    "Data": "2018-02-07 00:00:00.000",
                                    "Profundidade (m)": "17,24"
                                },
                                {
                                    "Codigo HGA": "WST-422",
                                    "Cota NA (m)": "1179,61",
                                    "Cota Topo (m)": "1197,4",
                                    "Data": "2018-02-14 00:00:00.000",
                                    "Profundidade (m)": "17,79"
                                },
                                {
                                    "Codigo HGA": "WST-422",
                                    "Cota NA (m)": "1179,79",
                                    "Cota Topo (m)": "1197,4",
                                    "Data": "2018-02-22 00:00:00.000",
                                    "Profundidade (m)": "17,61"
                                },
                                {
                                    "Codigo HGA": "WST-422",
                                    "Cota NA (m)": "1179,78",
                                    "Cota Topo (m)": "1197,4",
                                    "Data": "2018-02-27 00:00:00.000",
                                    "Profundidade (m)": "17,62"
                                },
                                {
                                    "Codigo HGA": "WST-422",
                                    "Cota NA (m)": "1180,03",
                                    "Cota Topo (m)": "1197,4",
                                    "Data": "2018-03-08 00:00:00.000",
                                    "Profundidade (m)": "17,37"
                                },
                                {
                                    "Codigo HGA": "WST-422",
                                    "Cota NA (m)": "1179,77",
                                    "Cota Topo (m)": "1197,4",
                                    "Data": "2018-03-16 00:00:00.000",
                                    "Profundidade (m)": "17,63"
                                },
                                {
                                    "Codigo HGA": "WST-422",
                                    "Cota NA (m)": "1179,92",
                                    "Cota Topo (m)": "1197,4",
                                    "Data": "2018-03-23 00:00:00.000",
                                    "Profundidade (m)": "17,48"
                                },
                                {
                                    "Codigo HGA": "WST-422",
                                    "Cota NA (m)": "1179,51",
                                    "Cota Topo (m)": "1197,4",
                                    "Data": "2018-03-26 00:00:00.000",
                                    "Profundidade (m)": "17,89"
                                },
                                {
                                    "Codigo HGA": "WST-422",
                                    "Cota NA (m)": "1179,66",
                                    "Cota Topo (m)": "1197,4",
                                    "Data": "2018-04-05 00:00:00.000",
                                    "Profundidade (m)": "17,74"
                                },
                                {
                                    "Codigo HGA": "WST-422",
                                    "Cota NA (m)": "1179,44",
                                    "Cota Topo (m)": "1197,4",
                                    "Data": "2018-04-11 00:00:00.000",
                                    "Profundidade (m)": "17,96"
                                },
                                {
                                    "Codigo HGA": "WST-422",
                                    "Cota NA (m)": "1185,3",
                                    "Cota Topo (m)": "1197,4",
                                    "Data": "2019-12-30 00:00:00.000",
                                    "Profundidade (m)": "12,1"
                                },
                                {
                                    "Codigo HGA": "WST-422",
                                    "Cota NA (m)": "1156,99",
                                    "Cota Topo (m)": "1197,4",
                                    "Data": "2022-06-07 00:00:00.000",
                                    "Profundidade (m)": "40,41"
                                },
                                {
                                    "Codigo HGA": "WST-422",
                                    "Cota NA (m)": "1183,08",
                                    "Cota Topo (m)": "1197,4",
                                    "Data": "2022-07-01 00:00:00.000",
                                    "Profundidade (m)": "14,32"
                                },
                                {
                                    "Codigo HGA": "WST-422",
                                    "Cota NA (m)": "1189,48",
                                    "Cota Topo (m)": "1197,4",
                                    "Data": "2022-08-08 00:00:00.000",
                                    "Profundidade (m)": "7,92"
                                },
                                {
                                    "Codigo HGA": "WST-422",
                                    "Cota NA (m)": "1189,49",
                                    "Cota Topo (m)": "1197,4",
                                    "Data": "2022-08-16 00:00:00.000",
                                    "Profundidade (m)": "7,91"
                                },
                                {
                                    "Codigo HGA": "WST-422",
                                    "Cota NA (m)": "1192,24",
                                    "Cota Topo (m)": "1197,4",
                                    "Data": "2023-01-12 00:00:00.000",
                                    "Profundidade (m)": "5,16"
                                },
                                {
                                    "Codigo HGA": "WST-422",
                                    "Cota NA (m)": "1191,68",
                                    "Cota Topo (m)": "1197,4",
                                    "Data": "2023-01-20 00:00:00.000",
                                    "Profundidade (m)": "5,72"
                                },
                                {
                                    "Codigo HGA": "WST-422",
                                    "Cota NA (m)": "1191,62",
                                    "Cota Topo (m)": "1197,4",
                                    "Data": "2023-01-23 00:00:00.000",
                                    "Profundidade (m)": "5,78"
                                },
                                {
                                    "Codigo HGA": "WST-422",
                                    "Cota NA (m)": "1191,9",
                                    "Cota Topo (m)": "1197,4",
                                    "Data": "2023-02-03 00:00:00.000",
                                    "Profundidade (m)": "5,5"
                                },
                                {
                                    "Codigo HGA": "WST-422",
                                    "Cota NA (m)": "1191,84",
                                    "Cota Topo (m)": "1197,4",
                                    "Data": "2023-02-06 00:00:00.000",
                                    "Profundidade (m)": "5,56"
                                },
                                {
                                    "Codigo HGA": "WST-422",
                                    "Cota NA (m)": "1190,69",
                                    "Cota Topo (m)": "1197,4",
                                    "Data": "2023-02-15 00:00:00.000",
                                    "Profundidade (m)": "6,71"
                                },
                                {
                                    "Codigo HGA": "WST-422",
                                    "Cota NA (m)": "1190,4",
                                    "Cota Topo (m)": "1197,4",
                                    "Data": "2023-02-24 00:00:00.000",
                                    "Profundidade (m)": "7"
                                },
                                {
                                    "Codigo HGA": "WST-422",
                                    "Cota NA (m)": "1190,29",
                                    "Cota Topo (m)": "1197,4",
                                    "Data": "2023-02-27 00:00:00.000",
                                    "Profundidade (m)": "7,11"
                                },
                                {
                                    "Codigo HGA": "WST-422",
                                    "Cota NA (m)": "1189,06",
                                    "Cota Topo (m)": "1197,4",
                                    "Data": "2023-03-07 00:00:00.000",
                                    "Profundidade (m)": "8,34"
                                },
                                {
                                    "Codigo HGA": "WST-422",
                                    "Cota NA (m)": "1189",
                                    "Cota Topo (m)": "1197,4",
                                    "Data": "2023-03-17 00:00:00.000",
                                    "Profundidade (m)": "8,4"
                                },
                                {
                                    "Codigo HGA": "WST-422",
                                    "Cota NA (m)": "1188,78",
                                    "Cota Topo (m)": "1197,4",
                                    "Data": "2023-03-23 00:00:00.000",
                                    "Profundidade (m)": "8,62"
                                },
                                {
                                    "Codigo HGA": "WST-422",
                                    "Cota NA (m)": "1188,64",
                                    "Cota Topo (m)": "1197,4",
                                    "Data": "2023-03-31 00:00:00.000",
                                    "Profundidade (m)": "8,76"
                                },
                                {
                                    "Codigo HGA": "WST-422",
                                    "Cota NA (m)": "1187,8",
                                    "Cota Topo (m)": "1197,4",
                                    "Data": "2023-04-05 00:00:00.000",
                                    "Profundidade (m)": "9,6"
                                },
                                {
                                    "Codigo HGA": "WST-422",
                                    "Cota NA (m)": "1187,1",
                                    "Cota Topo (m)": "1197,4",
                                    "Data": "2023-04-12 00:00:00.000",
                                    "Profundidade (m)": "10,3"
                                },
                                {
                                    "Codigo HGA": "WST-422",
                                    "Cota NA (m)": "1187,12",
                                    "Cota Topo (m)": "1197,4",
                                    "Data": "2023-04-21 00:00:00.000",
                                    "Profundidade (m)": "10,28"
                                },
                                {
                                    "Codigo HGA": "WST-422",
                                    "Cota NA (m)": "1187,1",
                                    "Cota Topo (m)": "1197,4",
                                    "Data": "2023-04-26 00:00:00.000",
                                    "Profundidade (m)": "10,3"
                                },
                                {
                                    "Codigo HGA": "WST-422",
                                    "Cota NA (m)": "1186,73",
                                    "Cota Topo (m)": "1197,4",
                                    "Data": "2023-05-03 00:00:00.000",
                                    "Profundidade (m)": "10,67"
                                },
                                {
                                    "Codigo HGA": "WST-422",
                                    "Cota NA (m)": "1186,41",
                                    "Cota Topo (m)": "1197,4",
                                    "Data": "2023-05-09 00:00:00.000",
                                    "Profundidade (m)": "10,99"
                                },
                                {
                                    "Codigo HGA": "WST-422",
                                    "Cota NA (m)": "1186,77",
                                    "Cota Topo (m)": "1197,4",
                                    "Data": "2023-05-19 00:00:00.000",
                                    "Profundidade (m)": "10,63"
                                },
                                {
                                    "Codigo HGA": "WST-422",
                                    "Cota NA (m)": "1186,08",
                                    "Cota Topo (m)": "1197,4",
                                    "Data": "2023-06-02 00:00:00.000",
                                    "Profundidade (m)": "11,32"
                                },
                                {
                                    "Codigo HGA": "WST-423",
                                    "Cota NA (m)": "NULL",
                                    "Cota Topo (m)": "1170",
                                    "Data": "2016-12-30 00:00:00.000",
                                    "Profundidade (m)": "NULL"
                                },
                                {
                                    "Codigo HGA": "WST-423",
                                    "Cota NA (m)": "NULL",
                                    "Cota Topo (m)": "1170",
                                    "Data": "2017-01-11 00:00:00.000",
                                    "Profundidade (m)": "NULL"
                                },
                                {
                                    "Codigo HGA": "WST-423",
                                    "Cota NA (m)": "NULL",
                                    "Cota Topo (m)": "1170",
                                    "Data": "2017-01-25 00:00:00.000",
                                    "Profundidade (m)": "NULL"
                                },
                                {
                                    "Codigo HGA": "WST-423",
                                    "Cota NA (m)": "NULL",
                                    "Cota Topo (m)": "1170",
                                    "Data": "2017-02-03 00:00:00.000",
                                    "Profundidade (m)": "NULL"
                                },
                                {
                                    "Codigo HGA": "WST-423",
                                    "Cota NA (m)": "NULL",
                                    "Cota Topo (m)": "1170",
                                    "Data": "2017-02-10 00:00:00.000",
                                    "Profundidade (m)": "NULL"
                                },
                                {
                                    "Codigo HGA": "WST-423",
                                    "Cota NA (m)": "NULL",
                                    "Cota Topo (m)": "1170",
                                    "Data": "2017-02-16 00:00:00.000",
                                    "Profundidade (m)": "NULL"
                                },
                                {
                                    "Codigo HGA": "WST-423",
                                    "Cota NA (m)": "NULL",
                                    "Cota Topo (m)": "1170",
                                    "Data": "2017-02-22 00:00:00.000",
                                    "Profundidade (m)": "NULL"
                                },
                                {
                                    "Codigo HGA": "WST-423",
                                    "Cota NA (m)": "NULL",
                                    "Cota Topo (m)": "1170",
                                    "Data": "2017-03-03 00:00:00.000",
                                    "Profundidade (m)": "NULL"
                                },
                                {
                                    "Codigo HGA": "WST-423",
                                    "Cota NA (m)": "NULL",
                                    "Cota Topo (m)": "1170",
                                    "Data": "2017-03-10 00:00:00.000",
                                    "Profundidade (m)": "NULL"
                                },
                                {
                                    "Codigo HGA": "WST-423",
                                    "Cota NA (m)": "NULL",
                                    "Cota Topo (m)": "1170",
                                    "Data": "2017-03-17 00:00:00.000",
                                    "Profundidade (m)": "NULL"
                                },
                                {
                                    "Codigo HGA": "WST-423",
                                    "Cota NA (m)": "NULL",
                                    "Cota Topo (m)": "1170",
                                    "Data": "2017-03-24 00:00:00.000",
                                    "Profundidade (m)": "NULL"
                                },
                                {
                                    "Codigo HGA": "WST-423",
                                    "Cota NA (m)": "NULL",
                                    "Cota Topo (m)": "1170",
                                    "Data": "2017-03-30 00:00:00.000",
                                    "Profundidade (m)": "NULL"
                                },
                                {
                                    "Codigo HGA": "WST-423",
                                    "Cota NA (m)": "NULL",
                                    "Cota Topo (m)": "1170",
                                    "Data": "2017-04-13 00:00:00.000",
                                    "Profundidade (m)": "NULL"
                                },
                                {
                                    "Codigo HGA": "WST-423",
                                    "Cota NA (m)": "NULL",
                                    "Cota Topo (m)": "1170",
                                    "Data": "2017-04-20 00:00:00.000",
                                    "Profundidade (m)": "NULL"
                                },
                                {
                                    "Codigo HGA": "WST-423",
                                    "Cota NA (m)": "NULL",
                                    "Cota Topo (m)": "1170",
                                    "Data": "2017-04-24 00:00:00.000",
                                    "Profundidade (m)": "NULL"
                                },
                                {
                                    "Codigo HGA": "WST-423",
                                    "Cota NA (m)": "NULL",
                                    "Cota Topo (m)": "1170",
                                    "Data": "2017-05-05 00:00:00.000",
                                    "Profundidade (m)": "NULL"
                                },
                                {
                                    "Codigo HGA": "WST-423",
                                    "Cota NA (m)": "NULL",
                                    "Cota Topo (m)": "1170",
                                    "Data": "2017-05-11 00:00:00.000",
                                    "Profundidade (m)": "NULL"
                                },
                                {
                                    "Codigo HGA": "WST-423",
                                    "Cota NA (m)": "NULL",
                                    "Cota Topo (m)": "1170",
                                    "Data": "2017-05-18 00:00:00.000",
                                    "Profundidade (m)": "NULL"
                                },
                                {
                                    "Codigo HGA": "WST-423",
                                    "Cota NA (m)": "NULL",
                                    "Cota Topo (m)": "1170",
                                    "Data": "2017-05-22 00:00:00.000",
                                    "Profundidade (m)": "NULL"
                                },
                                {
                                    "Codigo HGA": "WST-423",
                                    "Cota NA (m)": "NULL",
                                    "Cota Topo (m)": "1170",
                                    "Data": "2017-06-02 00:00:00.000",
                                    "Profundidade (m)": "NULL"
                                },
                                {
                                    "Codigo HGA": "WST-423",
                                    "Cota NA (m)": "NULL",
                                    "Cota Topo (m)": "1170",
                                    "Data": "2017-06-08 00:00:00.000",
                                    "Profundidade (m)": "NULL"
                                },
                                {
                                    "Codigo HGA": "WST-423",
                                    "Cota NA (m)": "NULL",
                                    "Cota Topo (m)": "1170",
                                    "Data": "2017-06-16 00:00:00.000",
                                    "Profundidade (m)": "NULL"
                                },
                                {
                                    "Codigo HGA": "WST-423",
                                    "Cota NA (m)": "NULL",
                                    "Cota Topo (m)": "1170",
                                    "Data": "2017-06-21 00:00:00.000",
                                    "Profundidade (m)": "NULL"
                                },
                                {
                                    "Codigo HGA": "WST-423",
                                    "Cota NA (m)": "1066,85",
                                    "Cota Topo (m)": "1170",
                                    "Data": "2017-08-25 00:00:00.000",
                                    "Profundidade (m)": "103,15"
                                },
                                {
                                    "Codigo HGA": "WST-423",
                                    "Cota NA (m)": "1062,51",
                                    "Cota Topo (m)": "1170",
                                    "Data": "2017-09-28 00:00:00.000",
                                    "Profundidade (m)": "107,49"
                                },
                                {
                                    "Codigo HGA": "WST-423",
                                    "Cota NA (m)": "1061,79",
                                    "Cota Topo (m)": "1170",
                                    "Data": "2017-10-30 00:00:00.000",
                                    "Profundidade (m)": "108,21"
                                },
                                {
                                    "Codigo HGA": "WST-423",
                                    "Cota NA (m)": "1064,37",
                                    "Cota Topo (m)": "1170",
                                    "Data": "2017-11-30 00:00:00.000",
                                    "Profundidade (m)": "105,63"
                                },
                                {
                                    "Codigo HGA": "WST-423",
                                    "Cota NA (m)": "1066,09",
                                    "Cota Topo (m)": "1170",
                                    "Data": "2017-12-28 00:00:00.000",
                                    "Profundidade (m)": "103,91"
                                },
                                {
                                    "Codigo HGA": "WST-423",
                                    "Cota NA (m)": "1074,75",
                                    "Cota Topo (m)": "1170",
                                    "Data": "2018-01-24 00:00:00.000",
                                    "Profundidade (m)": "95,25"
                                },
                                {
                                    "Codigo HGA": "WST-423",
                                    "Cota NA (m)": "1070,28",
                                    "Cota Topo (m)": "1170",
                                    "Data": "2018-02-21 00:00:00.000",
                                    "Profundidade (m)": "99,72"
                                },
                                {
                                    "Codigo HGA": "WST-423",
                                    "Cota NA (m)": "1078,06",
                                    "Cota Topo (m)": "1170",
                                    "Data": "2018-03-26 00:00:00.000",
                                    "Profundidade (m)": "91,94"
                                },
                                {
                                    "Codigo HGA": "WST-423",
                                    "Cota NA (m)": "1072,82",
                                    "Cota Topo (m)": "1170",
                                    "Data": "2018-04-11 00:00:00.000",
                                    "Profundidade (m)": "97,18"
                                },
                                {
                                    "Codigo HGA": "WST-423",
                                    "Cota NA (m)": "1074,82",
                                    "Cota Topo (m)": "1170",
                                    "Data": "2018-04-18 00:00:00.000",
                                    "Profundidade (m)": "95,18"
                                },
                                {
                                    "Codigo HGA": "WST-423",
                                    "Cota NA (m)": "1122,32",
                                    "Cota Topo (m)": "1170",
                                    "Data": "2018-05-18 00:00:00.000",
                                    "Profundidade (m)": "47,68"
                                },
                                {
                                    "Codigo HGA": "WST-423",
                                    "Cota NA (m)": "1126",
                                    "Cota Topo (m)": "1170",
                                    "Data": "2018-06-22 00:00:00.000",
                                    "Profundidade (m)": "44"
                                },
                                {
                                    "Codigo HGA": "WST-423",
                                    "Cota NA (m)": "1088,48",
                                    "Cota Topo (m)": "1170",
                                    "Data": "2018-07-30 00:00:00.000",
                                    "Profundidade (m)": "81,52"
                                },
                                {
                                    "Codigo HGA": "WST-423",
                                    "Cota NA (m)": "1075,55",
                                    "Cota Topo (m)": "1170",
                                    "Data": "2018-09-26 00:00:00.000",
                                    "Profundidade (m)": "94,45"
                                },
                                {
                                    "Codigo HGA": "WST-423",
                                    "Cota NA (m)": "1151,1",
                                    "Cota Topo (m)": "1170",
                                    "Data": "2019-01-30 00:00:00.000",
                                    "Profundidade (m)": "18,9"
                                },
                                {
                                    "Codigo HGA": "WST-423",
                                    "Cota NA (m)": "1156,33",
                                    "Cota Topo (m)": "1170",
                                    "Data": "2019-04-03 00:00:00.000",
                                    "Profundidade (m)": "13,67"
                                },
                                {
                                    "Codigo HGA": "WST-423",
                                    "Cota NA (m)": "1155,07",
                                    "Cota Topo (m)": "1170",
                                    "Data": "2019-04-12 00:00:00.000",
                                    "Profundidade (m)": "14,93"
                                },
                                {
                                    "Codigo HGA": "WST-423",
                                    "Cota NA (m)": "1152,92",
                                    "Cota Topo (m)": "1170",
                                    "Data": "2019-05-03 00:00:00.000",
                                    "Profundidade (m)": "17,08"
                                },
                                {
                                    "Codigo HGA": "WST-423",
                                    "Cota NA (m)": "1153,27",
                                    "Cota Topo (m)": "1170",
                                    "Data": "2019-06-07 00:00:00.000",
                                    "Profundidade (m)": "16,73"
                                },
                                {
                                    "Codigo HGA": "WST-423",
                                    "Cota NA (m)": "1156,54",
                                    "Cota Topo (m)": "1170",
                                    "Data": "2019-06-10 00:00:00.000",
                                    "Profundidade (m)": "13,46"
                                },
                                {
                                    "Codigo HGA": "WST-423",
                                    "Cota NA (m)": "1155,38",
                                    "Cota Topo (m)": "1170",
                                    "Data": "2019-08-01 00:00:00.000",
                                    "Profundidade (m)": "14,62"
                                },
                                {
                                    "Codigo HGA": "WST-423",
                                    "Cota NA (m)": "1152,7",
                                    "Cota Topo (m)": "1170",
                                    "Data": "2019-09-06 00:00:00.000",
                                    "Profundidade (m)": "17,3"
                                },
                                {
                                    "Codigo HGA": "WST-423",
                                    "Cota NA (m)": "1156,57",
                                    "Cota Topo (m)": "1170",
                                    "Data": "2019-09-09 00:00:00.000",
                                    "Profundidade (m)": "13,43"
                                },
                                {
                                    "Codigo HGA": "WST-423",
                                    "Cota NA (m)": "1149,58",
                                    "Cota Topo (m)": "1170",
                                    "Data": "2019-09-18 00:00:00.000",
                                    "Profundidade (m)": "20,42"
                                },
                                {
                                    "Codigo HGA": "WST-423",
                                    "Cota NA (m)": "1149,63",
                                    "Cota Topo (m)": "1170",
                                    "Data": "2019-09-23 00:00:00.000",
                                    "Profundidade (m)": "20,37"
                                },
                                {
                                    "Codigo HGA": "WST-423",
                                    "Cota NA (m)": "1157,83",
                                    "Cota Topo (m)": "1170",
                                    "Data": "2019-10-07 00:00:00.000",
                                    "Profundidade (m)": "12,17"
                                },
                                {
                                    "Codigo HGA": "WST-423",
                                    "Cota NA (m)": "1156,94",
                                    "Cota Topo (m)": "1170",
                                    "Data": "2019-10-16 00:00:00.000",
                                    "Profundidade (m)": "13,06"
                                },
                                {
                                    "Codigo HGA": "WST-423",
                                    "Cota NA (m)": "1162,3",
                                    "Cota Topo (m)": "1170",
                                    "Data": "2019-11-08 00:00:00.000",
                                    "Profundidade (m)": "7,7"
                                },
                                {
                                    "Codigo HGA": "WST-423",
                                    "Cota NA (m)": "1166,84",
                                    "Cota Topo (m)": "1170",
                                    "Data": "2019-11-28 00:00:00.000",
                                    "Profundidade (m)": "3,16"
                                },
                                {
                                    "Codigo HGA": "WST-423",
                                    "Cota NA (m)": "1166,72",
                                    "Cota Topo (m)": "1170",
                                    "Data": "2019-12-26 00:00:00.000",
                                    "Profundidade (m)": "3,28"
                                },
                                {
                                    "Codigo HGA": "WST-423",
                                    "Cota NA (m)": "1164,98",
                                    "Cota Topo (m)": "1170",
                                    "Data": "2020-04-15 00:00:00.000",
                                    "Profundidade (m)": "5,02"
                                },
                                {
                                    "Codigo HGA": "WST-423",
                                    "Cota NA (m)": "1159,31",
                                    "Cota Topo (m)": "1170",
                                    "Data": "2020-04-22 00:00:00.000",
                                    "Profundidade (m)": "10,69"
                                },
                                {
                                    "Codigo HGA": "WST-423",
                                    "Cota NA (m)": "1158,56",
                                    "Cota Topo (m)": "1170",
                                    "Data": "2020-04-29 00:00:00.000",
                                    "Profundidade (m)": "11,44"
                                },
                                {
                                    "Codigo HGA": "WST-423",
                                    "Cota NA (m)": "1164",
                                    "Cota Topo (m)": "1170",
                                    "Data": "2020-06-09 00:00:00.000",
                                    "Profundidade (m)": "6"
                                },
                                {
                                    "Codigo HGA": "WST-423",
                                    "Cota NA (m)": "1160,81",
                                    "Cota Topo (m)": "1170",
                                    "Data": "2020-06-23 00:00:00.000",
                                    "Profundidade (m)": "9,19"
                                },
                                {
                                    "Codigo HGA": "WST-423",
                                    "Cota NA (m)": "1159,09",
                                    "Cota Topo (m)": "1170",
                                    "Data": "2020-06-30 00:00:00.000",
                                    "Profundidade (m)": "10,91"
                                },
                                {
                                    "Codigo HGA": "WST-423",
                                    "Cota NA (m)": "1167,88",
                                    "Cota Topo (m)": "1170",
                                    "Data": "2020-07-10 00:00:00.000",
                                    "Profundidade (m)": "2,12"
                                },
                                {
                                    "Codigo HGA": "WST-423",
                                    "Cota NA (m)": "1162,15",
                                    "Cota Topo (m)": "1170",
                                    "Data": "2020-07-14 00:00:00.000",
                                    "Profundidade (m)": "7,85"
                                },
                                {
                                    "Codigo HGA": "WST-423",
                                    "Cota NA (m)": "1158,61",
                                    "Cota Topo (m)": "1170",
                                    "Data": "2020-07-21 00:00:00.000",
                                    "Profundidade (m)": "11,39"
                                },
                                {
                                    "Codigo HGA": "WST-423",
                                    "Cota NA (m)": "1158,27",
                                    "Cota Topo (m)": "1170",
                                    "Data": "2020-07-28 00:00:00.000",
                                    "Profundidade (m)": "11,73"
                                },
                                {
                                    "Codigo HGA": "WST-423",
                                    "Cota NA (m)": "1157,13",
                                    "Cota Topo (m)": "1170",
                                    "Data": "2020-08-03 00:00:00.000",
                                    "Profundidade (m)": "12,87"
                                },
                                {
                                    "Codigo HGA": "WST-423",
                                    "Cota NA (m)": "1157,15",
                                    "Cota Topo (m)": "1170",
                                    "Data": "2020-08-10 00:00:00.000",
                                    "Profundidade (m)": "12,85"
                                },
                                {
                                    "Codigo HGA": "WST-423",
                                    "Cota NA (m)": "1163,05",
                                    "Cota Topo (m)": "1170",
                                    "Data": "2020-08-24 00:00:00.000",
                                    "Profundidade (m)": "6,95"
                                },
                                {
                                    "Codigo HGA": "WST-423",
                                    "Cota NA (m)": "1158,89",
                                    "Cota Topo (m)": "1170",
                                    "Data": "2021-04-30 00:00:00.000",
                                    "Profundidade (m)": "11,11"
                                },
                                {
                                    "Codigo HGA": "WST-423",
                                    "Cota NA (m)": "1158,93",
                                    "Cota Topo (m)": "1170",
                                    "Data": "2021-05-03 00:00:00.000",
                                    "Profundidade (m)": "11,07"
                                },
                                {
                                    "Codigo HGA": "WST-423",
                                    "Cota NA (m)": "1158,67",
                                    "Cota Topo (m)": "1170",
                                    "Data": "2021-05-12 00:00:00.000",
                                    "Profundidade (m)": "11,33"
                                },
                                {
                                    "Codigo HGA": "WST-423",
                                    "Cota NA (m)": "1159",
                                    "Cota Topo (m)": "1170",
                                    "Data": "2021-05-19 00:00:00.000",
                                    "Profundidade (m)": "11"
                                },
                                {
                                    "Codigo HGA": "WST-423",
                                    "Cota NA (m)": "1157,55",
                                    "Cota Topo (m)": "1170",
                                    "Data": "2021-05-25 00:00:00.000",
                                    "Profundidade (m)": "12,45"
                                },
                                {
                                    "Codigo HGA": "WST-423",
                                    "Cota NA (m)": "1157,34",
                                    "Cota Topo (m)": "1170",
                                    "Data": "2021-05-31 00:00:00.000",
                                    "Profundidade (m)": "12,66"
                                },
                                {
                                    "Codigo HGA": "WST-423",
                                    "Cota NA (m)": "1157,01",
                                    "Cota Topo (m)": "1170",
                                    "Data": "2021-06-07 00:00:00.000",
                                    "Profundidade (m)": "12,99"
                                },
                                {
                                    "Codigo HGA": "WST-423",
                                    "Cota NA (m)": "1160,05",
                                    "Cota Topo (m)": "1170",
                                    "Data": "2021-06-15 00:00:00.000",
                                    "Profundidade (m)": "9,95"
                                },
                                {
                                    "Codigo HGA": "WST-423",
                                    "Cota NA (m)": "1157,52",
                                    "Cota Topo (m)": "1170",
                                    "Data": "2021-06-22 00:00:00.000",
                                    "Profundidade (m)": "12,48"
                                },
                                {
                                    "Codigo HGA": "WST-423",
                                    "Cota NA (m)": "1156,44",
                                    "Cota Topo (m)": "1170",
                                    "Data": "2021-06-29 00:00:00.000",
                                    "Profundidade (m)": "13,56"
                                },
                                {
                                    "Codigo HGA": "WST-423",
                                    "Cota NA (m)": "1155,84",
                                    "Cota Topo (m)": "1170",
                                    "Data": "2021-07-08 00:00:00.000",
                                    "Profundidade (m)": "14,16"
                                },
                                {
                                    "Codigo HGA": "WST-423",
                                    "Cota NA (m)": "1155,54",
                                    "Cota Topo (m)": "1170",
                                    "Data": "2021-07-12 00:00:00.000",
                                    "Profundidade (m)": "14,46"
                                },
                                {
                                    "Codigo HGA": "WST-423",
                                    "Cota NA (m)": "1154,1",
                                    "Cota Topo (m)": "1170",
                                    "Data": "2021-07-28 00:00:00.000",
                                    "Profundidade (m)": "15,9"
                                },
                                {
                                    "Codigo HGA": "WST-423",
                                    "Cota NA (m)": "1154,4",
                                    "Cota Topo (m)": "1170",
                                    "Data": "2021-08-06 00:00:00.000",
                                    "Profundidade (m)": "15,6"
                                },
                                {
                                    "Codigo HGA": "WST-423",
                                    "Cota NA (m)": "1154,21",
                                    "Cota Topo (m)": "1170",
                                    "Data": "2021-08-10 00:00:00.000",
                                    "Profundidade (m)": "15,79"
                                },
                                {
                                    "Codigo HGA": "WST-423",
                                    "Cota NA (m)": "1154,04",
                                    "Cota Topo (m)": "1170",
                                    "Data": "2021-08-18 00:00:00.000",
                                    "Profundidade (m)": "15,96"
                                },
                                {
                                    "Codigo HGA": "WST-423",
                                    "Cota NA (m)": "1153,82",
                                    "Cota Topo (m)": "1170",
                                    "Data": "2021-08-25 00:00:00.000",
                                    "Profundidade (m)": "16,18"
                                },
                                {
                                    "Codigo HGA": "WST-423",
                                    "Cota NA (m)": "1153,78",
                                    "Cota Topo (m)": "1170",
                                    "Data": "2021-09-01 00:00:00.000",
                                    "Profundidade (m)": "16,22"
                                },
                                {
                                    "Codigo HGA": "WST-423",
                                    "Cota NA (m)": "1153,87",
                                    "Cota Topo (m)": "1170",
                                    "Data": "2021-09-10 00:00:00.000",
                                    "Profundidade (m)": "16,13"
                                },
                                {
                                    "Codigo HGA": "WST-423",
                                    "Cota NA (m)": "1153,17",
                                    "Cota Topo (m)": "1170",
                                    "Data": "2021-09-17 00:00:00.000",
                                    "Profundidade (m)": "16,83"
                                },
                                {
                                    "Codigo HGA": "WST-423",
                                    "Cota NA (m)": "1153,7",
                                    "Cota Topo (m)": "1170",
                                    "Data": "2021-09-20 00:00:00.000",
                                    "Profundidade (m)": "16,3"
                                },
                                {
                                    "Codigo HGA": "WST-423",
                                    "Cota NA (m)": "1154,6",
                                    "Cota Topo (m)": "1170",
                                    "Data": "2021-09-30 00:00:00.000",
                                    "Profundidade (m)": "15,4"
                                },
                                {
                                    "Codigo HGA": "WST-423",
                                    "Cota NA (m)": "1152,67",
                                    "Cota Topo (m)": "1170",
                                    "Data": "2021-10-08 00:00:00.000",
                                    "Profundidade (m)": "17,33"
                                },
                                {
                                    "Codigo HGA": "WST-423",
                                    "Cota NA (m)": "1152,22",
                                    "Cota Topo (m)": "1170",
                                    "Data": "2021-10-15 00:00:00.000",
                                    "Profundidade (m)": "17,78"
                                },
                                {
                                    "Codigo HGA": "WST-423",
                                    "Cota NA (m)": "1152,42",
                                    "Cota Topo (m)": "1170",
                                    "Data": "2021-10-18 00:00:00.000",
                                    "Profundidade (m)": "17,58"
                                },
                                {
                                    "Codigo HGA": "WST-423",
                                    "Cota NA (m)": "1152,55",
                                    "Cota Topo (m)": "1170",
                                    "Data": "2021-10-29 00:00:00.000",
                                    "Profundidade (m)": "17,45"
                                },
                                {
                                    "Codigo HGA": "WST-423",
                                    "Cota NA (m)": "1155,26",
                                    "Cota Topo (m)": "1170",
                                    "Data": "2021-11-04 00:00:00.000",
                                    "Profundidade (m)": "14,74"
                                },
                                {
                                    "Codigo HGA": "WST-423",
                                    "Cota NA (m)": "1152,7",
                                    "Cota Topo (m)": "1170",
                                    "Data": "2021-11-12 00:00:00.000",
                                    "Profundidade (m)": "17,3"
                                },
                                {
                                    "Codigo HGA": "WST-423",
                                    "Cota NA (m)": "1154,47",
                                    "Cota Topo (m)": "1170",
                                    "Data": "2021-11-17 00:00:00.000",
                                    "Profundidade (m)": "15,53"
                                },
                                {
                                    "Codigo HGA": "WST-423",
                                    "Cota NA (m)": "1156,46",
                                    "Cota Topo (m)": "1170",
                                    "Data": "2021-11-26 00:00:00.000",
                                    "Profundidade (m)": "13,54"
                                },
                                {
                                    "Codigo HGA": "WST-423",
                                    "Cota NA (m)": "1156,35",
                                    "Cota Topo (m)": "1170",
                                    "Data": "2021-11-30 00:00:00.000",
                                    "Profundidade (m)": "13,65"
                                },
                                {
                                    "Codigo HGA": "WST-423",
                                    "Cota NA (m)": "1155,85",
                                    "Cota Topo (m)": "1170",
                                    "Data": "2021-12-04 00:00:00.000",
                                    "Profundidade (m)": "14,15"
                                },
                                {
                                    "Codigo HGA": "WST-423",
                                    "Cota NA (m)": "1160,23",
                                    "Cota Topo (m)": "1170",
                                    "Data": "2021-12-10 00:00:00.000",
                                    "Profundidade (m)": "9,77"
                                },
                                {
                                    "Codigo HGA": "WST-423",
                                    "Cota NA (m)": "1157,63",
                                    "Cota Topo (m)": "1170",
                                    "Data": "2021-12-15 00:00:00.000",
                                    "Profundidade (m)": "12,37"
                                },
                                {
                                    "Codigo HGA": "WST-423",
                                    "Cota NA (m)": "1154,83",
                                    "Cota Topo (m)": "1170",
                                    "Data": "2021-12-22 00:00:00.000",
                                    "Profundidade (m)": "15,17"
                                },
                                {
                                    "Codigo HGA": "WST-423",
                                    "Cota NA (m)": "1160,47",
                                    "Cota Topo (m)": "1170",
                                    "Data": "2021-12-27 00:00:00.000",
                                    "Profundidade (m)": "9,53"
                                },
                                {
                                    "Codigo HGA": "WST-423",
                                    "Cota NA (m)": "1155,85",
                                    "Cota Topo (m)": "1170",
                                    "Data": "2022-01-04 00:00:00.000",
                                    "Profundidade (m)": "14,15"
                                },
                                {
                                    "Codigo HGA": "WST-424",
                                    "Cota NA (m)": "1154,4",
                                    "Cota Topo (m)": "1171",
                                    "Data": "2016-12-30 00:00:00.000",
                                    "Profundidade (m)": "16,6"
                                },
                                {
                                    "Codigo HGA": "WST-424",
                                    "Cota NA (m)": "1153,18",
                                    "Cota Topo (m)": "1171",
                                    "Data": "2017-01-11 00:00:00.000",
                                    "Profundidade (m)": "17,82"
                                },
                                {
                                    "Codigo HGA": "WST-424",
                                    "Cota NA (m)": "1083,83",
                                    "Cota Topo (m)": "1171",
                                    "Data": "2017-08-25 00:00:00.000",
                                    "Profundidade (m)": "87,17"
                                },
                                {
                                    "Codigo HGA": "WST-424",
                                    "Cota NA (m)": "1096,21",
                                    "Cota Topo (m)": "1171",
                                    "Data": "2017-09-28 00:00:00.000",
                                    "Profundidade (m)": "74,79"
                                },
                                {
                                    "Codigo HGA": "WST-424",
                                    "Cota NA (m)": "1098,86",
                                    "Cota Topo (m)": "1171",
                                    "Data": "2017-10-30 00:00:00.000",
                                    "Profundidade (m)": "72,14"
                                },
                                {
                                    "Codigo HGA": "WST-424",
                                    "Cota NA (m)": "1096,3",
                                    "Cota Topo (m)": "1171",
                                    "Data": "2017-11-30 00:00:00.000",
                                    "Profundidade (m)": "74,7"
                                },
                                {
                                    "Codigo HGA": "WST-424",
                                    "Cota NA (m)": "1090,38",
                                    "Cota Topo (m)": "1171",
                                    "Data": "2017-12-28 00:00:00.000",
                                    "Profundidade (m)": "80,62"
                                },
                                {
                                    "Codigo HGA": "WST-424",
                                    "Cota NA (m)": "1098,97",
                                    "Cota Topo (m)": "1171",
                                    "Data": "2018-01-24 00:00:00.000",
                                    "Profundidade (m)": "72,03"
                                },
                                {
                                    "Codigo HGA": "WST-424",
                                    "Cota NA (m)": "1098,81",
                                    "Cota Topo (m)": "1171",
                                    "Data": "2018-02-21 00:00:00.000",
                                    "Profundidade (m)": "72,19"
                                },
                                {
                                    "Codigo HGA": "WST-424",
                                    "Cota NA (m)": "1097,29",
                                    "Cota Topo (m)": "1171",
                                    "Data": "2018-03-26 00:00:00.000",
                                    "Profundidade (m)": "73,71"
                                },
                                {
                                    "Codigo HGA": "WST-424",
                                    "Cota NA (m)": "1112,5",
                                    "Cota Topo (m)": "1171",
                                    "Data": "2018-04-18 00:00:00.000",
                                    "Profundidade (m)": "58,5"
                                },
                                {
                                    "Codigo HGA": "WST-424",
                                    "Cota NA (m)": "1123,68",
                                    "Cota Topo (m)": "1171",
                                    "Data": "2018-05-18 00:00:00.000",
                                    "Profundidade (m)": "47,32"
                                },
                                {
                                    "Codigo HGA": "WST-424",
                                    "Cota NA (m)": "1121,48",
                                    "Cota Topo (m)": "1171",
                                    "Data": "2018-06-22 00:00:00.000",
                                    "Profundidade (m)": "49,52"
                                },
                                {
                                    "Codigo HGA": "WST-424",
                                    "Cota NA (m)": "1121,88",
                                    "Cota Topo (m)": "1171",
                                    "Data": "2018-07-30 00:00:00.000",
                                    "Profundidade (m)": "49,12"
                                },
                                {
                                    "Codigo HGA": "WST-424",
                                    "Cota NA (m)": "1122,46",
                                    "Cota Topo (m)": "1171",
                                    "Data": "2018-08-30 00:00:00.000",
                                    "Profundidade (m)": "48,54"
                                },
                                {
                                    "Codigo HGA": "WST-424",
                                    "Cota NA (m)": "1116,76",
                                    "Cota Topo (m)": "1171",
                                    "Data": "2018-09-26 00:00:00.000",
                                    "Profundidade (m)": "54,24"
                                },
                                {
                                    "Codigo HGA": "WST-424",
                                    "Cota NA (m)": "1128,59",
                                    "Cota Topo (m)": "1171",
                                    "Data": "2018-11-29 00:00:00.000",
                                    "Profundidade (m)": "42,41"
                                },
                                {
                                    "Codigo HGA": "WST-424",
                                    "Cota NA (m)": "1127,16",
                                    "Cota Topo (m)": "1171",
                                    "Data": "2019-05-31 00:00:00.000",
                                    "Profundidade (m)": "43,84"
                                },
                                {
                                    "Codigo HGA": "WST-424",
                                    "Cota NA (m)": "1116,65",
                                    "Cota Topo (m)": "1171",
                                    "Data": "2019-06-14 00:00:00.000",
                                    "Profundidade (m)": "54,35"
                                },
                                {
                                    "Codigo HGA": "WST-424",
                                    "Cota NA (m)": "1112,45",
                                    "Cota Topo (m)": "1171",
                                    "Data": "2019-06-26 00:00:00.000",
                                    "Profundidade (m)": "58,55"
                                },
                                {
                                    "Codigo HGA": "WST-424",
                                    "Cota NA (m)": "1115,14",
                                    "Cota Topo (m)": "1171",
                                    "Data": "2019-08-02 00:00:00.000",
                                    "Profundidade (m)": "55,86"
                                },
                                {
                                    "Codigo HGA": "WST-424",
                                    "Cota NA (m)": "1117,41",
                                    "Cota Topo (m)": "1171",
                                    "Data": "2019-09-18 00:00:00.000",
                                    "Profundidade (m)": "53,59"
                                },
                                {
                                    "Codigo HGA": "WST-424",
                                    "Cota NA (m)": "1147,42",
                                    "Cota Topo (m)": "1171",
                                    "Data": "2020-03-12 00:00:00.000",
                                    "Profundidade (m)": "23,58"
                                },
                                {
                                    "Codigo HGA": "WST-424",
                                    "Cota NA (m)": "1143,4",
                                    "Cota Topo (m)": "1171",
                                    "Data": "2020-03-16 00:00:00.000",
                                    "Profundidade (m)": "27,6"
                                },
                                {
                                    "Codigo HGA": "WST-424",
                                    "Cota NA (m)": "1142,9",
                                    "Cota Topo (m)": "1171",
                                    "Data": "2020-03-22 00:00:00.000",
                                    "Profundidade (m)": "28,1"
                                },
                                {
                                    "Codigo HGA": "WST-424",
                                    "Cota NA (m)": "1141,87",
                                    "Cota Topo (m)": "1171",
                                    "Data": "2020-03-25 00:00:00.000",
                                    "Profundidade (m)": "29,13"
                                },
                                {
                                    "Codigo HGA": "WST-424",
                                    "Cota NA (m)": "1141,44",
                                    "Cota Topo (m)": "1171",
                                    "Data": "2020-03-26 00:00:00.000",
                                    "Profundidade (m)": "29,56"
                                },
                                {
                                    "Codigo HGA": "WST-424",
                                    "Cota NA (m)": "1141,16",
                                    "Cota Topo (m)": "1171",
                                    "Data": "2020-04-01 00:00:00.000",
                                    "Profundidade (m)": "29,84"
                                },
                                {
                                    "Codigo HGA": "WST-424",
                                    "Cota NA (m)": "1140,87",
                                    "Cota Topo (m)": "1171",
                                    "Data": "2020-04-04 00:00:00.000",
                                    "Profundidade (m)": "30,13"
                                },
                                {
                                    "Codigo HGA": "WST-424",
                                    "Cota NA (m)": "1140,38",
                                    "Cota Topo (m)": "1171",
                                    "Data": "2020-04-06 00:00:00.000",
                                    "Profundidade (m)": "30,62"
                                },
                                {
                                    "Codigo HGA": "WST-424",
                                    "Cota NA (m)": "1142",
                                    "Cota Topo (m)": "1171",
                                    "Data": "2020-04-08 00:00:00.000",
                                    "Profundidade (m)": "29"
                                },
                                {
                                    "Codigo HGA": "WST-424",
                                    "Cota NA (m)": "1136,68",
                                    "Cota Topo (m)": "1171",
                                    "Data": "2020-04-11 00:00:00.000",
                                    "Profundidade (m)": "34,32"
                                },
                                {
                                    "Codigo HGA": "WST-424",
                                    "Cota NA (m)": "1140,31",
                                    "Cota Topo (m)": "1171",
                                    "Data": "2020-04-15 00:00:00.000",
                                    "Profundidade (m)": "30,69"
                                },
                                {
                                    "Codigo HGA": "WST-424",
                                    "Cota NA (m)": "1135,72",
                                    "Cota Topo (m)": "1171",
                                    "Data": "2020-04-22 00:00:00.000",
                                    "Profundidade (m)": "35,28"
                                },
                                {
                                    "Codigo HGA": "WST-424",
                                    "Cota NA (m)": "1137,83",
                                    "Cota Topo (m)": "1171",
                                    "Data": "2020-04-26 00:00:00.000",
                                    "Profundidade (m)": "33,17"
                                },
                                {
                                    "Codigo HGA": "WST-424",
                                    "Cota NA (m)": "1140,48",
                                    "Cota Topo (m)": "1171",
                                    "Data": "2020-04-29 00:00:00.000",
                                    "Profundidade (m)": "30,52"
                                },
                                {
                                    "Codigo HGA": "WST-424",
                                    "Cota NA (m)": "1135",
                                    "Cota Topo (m)": "1171",
                                    "Data": "2020-05-04 00:00:00.000",
                                    "Profundidade (m)": "36"
                                },
                                {
                                    "Codigo HGA": "WST-424",
                                    "Cota NA (m)": "1140,1",
                                    "Cota Topo (m)": "1171",
                                    "Data": "2020-05-06 00:00:00.000",
                                    "Profundidade (m)": "30,9"
                                },
                                {
                                    "Codigo HGA": "WST-424",
                                    "Cota NA (m)": "1133,35",
                                    "Cota Topo (m)": "1171",
                                    "Data": "2020-05-09 00:00:00.000",
                                    "Profundidade (m)": "37,65"
                                },
                                {
                                    "Codigo HGA": "WST-424",
                                    "Cota NA (m)": "1136,53",
                                    "Cota Topo (m)": "1171",
                                    "Data": "2020-05-13 00:00:00.000",
                                    "Profundidade (m)": "34,47"
                                },
                                {
                                    "Codigo HGA": "WST-424",
                                    "Cota NA (m)": "1133,5",
                                    "Cota Topo (m)": "1171",
                                    "Data": "2020-05-16 00:00:00.000",
                                    "Profundidade (m)": "37,5"
                                },
                                {
                                    "Codigo HGA": "WST-424",
                                    "Cota NA (m)": "1141,47",
                                    "Cota Topo (m)": "1171",
                                    "Data": "2020-05-23 00:00:00.000",
                                    "Profundidade (m)": "29,53"
                                },
                                {
                                    "Codigo HGA": "WST-424",
                                    "Cota NA (m)": "1134,9",
                                    "Cota Topo (m)": "1171",
                                    "Data": "2020-06-01 00:00:00.000",
                                    "Profundidade (m)": "36,1"
                                },
                                {
                                    "Codigo HGA": "WST-424",
                                    "Cota NA (m)": "1139,73",
                                    "Cota Topo (m)": "1171",
                                    "Data": "2020-06-06 00:00:00.000",
                                    "Profundidade (m)": "31,27"
                                },
                                {
                                    "Codigo HGA": "WST-424",
                                    "Cota NA (m)": "1137,21",
                                    "Cota Topo (m)": "1171",
                                    "Data": "2020-06-10 00:00:00.000",
                                    "Profundidade (m)": "33,79"
                                },
                                {
                                    "Codigo HGA": "WST-424",
                                    "Cota NA (m)": "1140,37",
                                    "Cota Topo (m)": "1171",
                                    "Data": "2020-06-15 00:00:00.000",
                                    "Profundidade (m)": "30,63"
                                },
                                {
                                    "Codigo HGA": "WST-424",
                                    "Cota NA (m)": "1136,2",
                                    "Cota Topo (m)": "1171",
                                    "Data": "2020-06-27 00:00:00.000",
                                    "Profundidade (m)": "34,8"
                                },
                                {
                                    "Codigo HGA": "WST-424",
                                    "Cota NA (m)": "1137,37",
                                    "Cota Topo (m)": "1171",
                                    "Data": "2020-07-04 00:00:00.000",
                                    "Profundidade (m)": "33,63"
                                },
                                {
                                    "Codigo HGA": "WST-424",
                                    "Cota NA (m)": "1139,83",
                                    "Cota Topo (m)": "1171",
                                    "Data": "2020-07-08 00:00:00.000",
                                    "Profundidade (m)": "31,17"
                                },
                                {
                                    "Codigo HGA": "WST-424",
                                    "Cota NA (m)": "1137,13",
                                    "Cota Topo (m)": "1171",
                                    "Data": "2020-07-13 00:00:00.000",
                                    "Profundidade (m)": "33,87"
                                },
                                {
                                    "Codigo HGA": "WST-424",
                                    "Cota NA (m)": "1138,28",
                                    "Cota Topo (m)": "1171",
                                    "Data": "2020-07-15 00:00:00.000",
                                    "Profundidade (m)": "32,72"
                                },
                                {
                                    "Codigo HGA": "WST-424",
                                    "Cota NA (m)": "1136,8",
                                    "Cota Topo (m)": "1171",
                                    "Data": "2020-07-19 00:00:00.000",
                                    "Profundidade (m)": "34,2"
                                },
                                {
                                    "Codigo HGA": "WST-424",
                                    "Cota NA (m)": "1127,51",
                                    "Cota Topo (m)": "1171",
                                    "Data": "2020-07-26 00:00:00.000",
                                    "Profundidade (m)": "43,49"
                                },
                                {
                                    "Codigo HGA": "WST-424",
                                    "Cota NA (m)": "1131,9",
                                    "Cota Topo (m)": "1171",
                                    "Data": "2020-07-27 00:00:00.000",
                                    "Profundidade (m)": "39,1"
                                },
                                {
                                    "Codigo HGA": "WST-424",
                                    "Cota NA (m)": "1127,39",
                                    "Cota Topo (m)": "1171",
                                    "Data": "2020-08-12 00:00:00.000",
                                    "Profundidade (m)": "43,61"
                                },
                                {
                                    "Codigo HGA": "WST-424",
                                    "Cota NA (m)": "1132,2",
                                    "Cota Topo (m)": "1171",
                                    "Data": "2022-03-17 00:00:00.000",
                                    "Profundidade (m)": "38,8"
                                },
                                {
                                    "Codigo HGA": "WST-424",
                                    "Cota NA (m)": "1166,98",
                                    "Cota Topo (m)": "1171",
                                    "Data": "2022-03-30 00:00:00.000",
                                    "Profundidade (m)": "4,02"
                                },
                                {
                                    "Codigo HGA": "WST-424",
                                    "Cota NA (m)": "1130,03",
                                    "Cota Topo (m)": "1171",
                                    "Data": "2022-04-26 00:00:00.000",
                                    "Profundidade (m)": "40,97"
                                },
                                {
                                    "Codigo HGA": "WST-424",
                                    "Cota NA (m)": "1136,05",
                                    "Cota Topo (m)": "1171",
                                    "Data": "2022-05-13 00:00:00.000",
                                    "Profundidade (m)": "34,95"
                                },
                                {
                                    "Codigo HGA": "WST-424",
                                    "Cota NA (m)": "1132,24",
                                    "Cota Topo (m)": "1171",
                                    "Data": "2022-06-03 00:00:00.000",
                                    "Profundidade (m)": "38,76"
                                },
                                {
                                    "Codigo HGA": "WST-424",
                                    "Cota NA (m)": "1132,18",
                                    "Cota Topo (m)": "1171",
                                    "Data": "2022-06-07 00:00:00.000",
                                    "Profundidade (m)": "38,82"
                                },
                                {
                                    "Codigo HGA": "WST-424",
                                    "Cota NA (m)": "1133,63",
                                    "Cota Topo (m)": "1171",
                                    "Data": "2022-06-17 00:00:00.000",
                                    "Profundidade (m)": "37,37"
                                },
                                {
                                    "Codigo HGA": "WST-424",
                                    "Cota NA (m)": "1136,31",
                                    "Cota Topo (m)": "1171",
                                    "Data": "2022-06-20 00:00:00.000",
                                    "Profundidade (m)": "34,69"
                                },
                                {
                                    "Codigo HGA": "WST-424",
                                    "Cota NA (m)": "1132,32",
                                    "Cota Topo (m)": "1171",
                                    "Data": "2022-06-30 00:00:00.000",
                                    "Profundidade (m)": "38,68"
                                },
                                {
                                    "Codigo HGA": "WST-424",
                                    "Cota NA (m)": "1132,51",
                                    "Cota Topo (m)": "1171",
                                    "Data": "2022-07-05 00:00:00.000",
                                    "Profundidade (m)": "38,49"
                                },
                                {
                                    "Codigo HGA": "WST-424",
                                    "Cota NA (m)": "1132,56",
                                    "Cota Topo (m)": "1171",
                                    "Data": "2022-07-14 00:00:00.000",
                                    "Profundidade (m)": "38,44"
                                },
                                {
                                    "Codigo HGA": "WST-424",
                                    "Cota NA (m)": "1130,91",
                                    "Cota Topo (m)": "1171",
                                    "Data": "2022-07-19 00:00:00.000",
                                    "Profundidade (m)": "40,09"
                                },
                                {
                                    "Codigo HGA": "WST-424",
                                    "Cota NA (m)": "1117,55",
                                    "Cota Topo (m)": "1171",
                                    "Data": "2022-07-25 00:00:00.000",
                                    "Profundidade (m)": "53,45"
                                },
                                {
                                    "Codigo HGA": "WST-424",
                                    "Cota NA (m)": "1118,09",
                                    "Cota Topo (m)": "1171",
                                    "Data": "2022-08-03 00:00:00.000",
                                    "Profundidade (m)": "52,91"
                                },
                                {
                                    "Codigo HGA": "WST-424",
                                    "Cota NA (m)": "1147,69",
                                    "Cota Topo (m)": "1171",
                                    "Data": "2022-08-08 00:00:00.000",
                                    "Profundidade (m)": "23,31"
                                },
                                {
                                    "Codigo HGA": "WST-424",
                                    "Cota NA (m)": "1110,23",
                                    "Cota Topo (m)": "1171",
                                    "Data": "2022-08-16 00:00:00.000",
                                    "Profundidade (m)": "60,77"
                                },
                                {
                                    "Codigo HGA": "WST-424",
                                    "Cota NA (m)": "1103,32",
                                    "Cota Topo (m)": "1171",
                                    "Data": "2022-08-23 00:00:00.000",
                                    "Profundidade (m)": "67,68"
                                },
                                {
                                    "Codigo HGA": "WST-424",
                                    "Cota NA (m)": "1104,63",
                                    "Cota Topo (m)": "1171",
                                    "Data": "2022-09-02 00:00:00.000",
                                    "Profundidade (m)": "66,37"
                                },
                                {
                                    "Codigo HGA": "WST-424",
                                    "Cota NA (m)": "1104,4",
                                    "Cota Topo (m)": "1171",
                                    "Data": "2022-09-09 00:00:00.000",
                                    "Profundidade (m)": "66,6"
                                },
                                {
                                    "Codigo HGA": "WST-424",
                                    "Cota NA (m)": "1101,36",
                                    "Cota Topo (m)": "1171",
                                    "Data": "2022-09-14 00:00:00.000",
                                    "Profundidade (m)": "69,64"
                                },
                                {
                                    "Codigo HGA": "WST-424",
                                    "Cota NA (m)": "1126,95",
                                    "Cota Topo (m)": "1171",
                                    "Data": "2022-09-20 00:00:00.000",
                                    "Profundidade (m)": "44,05"
                                },
                                {
                                    "Codigo HGA": "WST-424",
                                    "Cota NA (m)": "1101,92",
                                    "Cota Topo (m)": "1171",
                                    "Data": "2022-09-26 00:00:00.000",
                                    "Profundidade (m)": "69,08"
                                },
                                {
                                    "Codigo HGA": "WST-424",
                                    "Cota NA (m)": "1144,42",
                                    "Cota Topo (m)": "1171",
                                    "Data": "2022-10-05 00:00:00.000",
                                    "Profundidade (m)": "26,58"
                                },
                                {
                                    "Codigo HGA": "WST-424",
                                    "Cota NA (m)": "1107,16",
                                    "Cota Topo (m)": "1171",
                                    "Data": "2022-10-14 00:00:00.000",
                                    "Profundidade (m)": "63,84"
                                },
                                {
                                    "Codigo HGA": "WST-424",
                                    "Cota NA (m)": "1116,09",
                                    "Cota Topo (m)": "1171",
                                    "Data": "2022-10-19 00:00:00.000",
                                    "Profundidade (m)": "54,91"
                                },
                                {
                                    "Codigo HGA": "WST-424",
                                    "Cota NA (m)": "1103,83",
                                    "Cota Topo (m)": "1171",
                                    "Data": "2022-10-24 00:00:00.000",
                                    "Profundidade (m)": "67,17"
                                },
                                {
                                    "Codigo HGA": "WST-424",
                                    "Cota NA (m)": "1103,83",
                                    "Cota Topo (m)": "1171",
                                    "Data": "2022-11-08 00:00:00.000",
                                    "Profundidade (m)": "67,17"
                                },
                                {
                                    "Codigo HGA": "WST-424",
                                    "Cota NA (m)": "1127,83",
                                    "Cota Topo (m)": "1171",
                                    "Data": "2022-11-17 00:00:00.000",
                                    "Profundidade (m)": "43,17"
                                },
                                {
                                    "Codigo HGA": "WST-424",
                                    "Cota NA (m)": "1124,8",
                                    "Cota Topo (m)": "1171",
                                    "Data": "2022-11-24 00:00:00.000",
                                    "Profundidade (m)": "46,2"
                                },
                                {
                                    "Codigo HGA": "WST-424",
                                    "Cota NA (m)": "1128,36",
                                    "Cota Topo (m)": "1171",
                                    "Data": "2022-12-02 00:00:00.000",
                                    "Profundidade (m)": "42,64"
                                },
                                {
                                    "Codigo HGA": "WST-424",
                                    "Cota NA (m)": "1122,32",
                                    "Cota Topo (m)": "1171",
                                    "Data": "2022-12-07 00:00:00.000",
                                    "Profundidade (m)": "48,68"
                                },
                                {
                                    "Codigo HGA": "WST-424",
                                    "Cota NA (m)": "1125,92",
                                    "Cota Topo (m)": "1171",
                                    "Data": "2022-12-14 00:00:00.000",
                                    "Profundidade (m)": "45,08"
                                },
                                {
                                    "Codigo HGA": "WST-424",
                                    "Cota NA (m)": "1127,4",
                                    "Cota Topo (m)": "1171",
                                    "Data": "2022-12-21 00:00:00.000",
                                    "Profundidade (m)": "43,6"
                                },
                                {
                                    "Codigo HGA": "WST-424",
                                    "Cota NA (m)": "1127,56",
                                    "Cota Topo (m)": "1171",
                                    "Data": "2022-12-29 00:00:00.000",
                                    "Profundidade (m)": "43,44"
                                },
                                {
                                    "Codigo HGA": "WST-424",
                                    "Cota NA (m)": "1117,75",
                                    "Cota Topo (m)": "1171",
                                    "Data": "2023-04-28 00:00:00.000",
                                    "Profundidade (m)": "53,25"
                                },
                                {
                                    "Codigo HGA": "WST-424",
                                    "Cota NA (m)": "1113,7",
                                    "Cota Topo (m)": "1171",
                                    "Data": "2023-05-03 00:00:00.000",
                                    "Profundidade (m)": "57,3"
                                },
                                {
                                    "Codigo HGA": "WST-424",
                                    "Cota NA (m)": "1113,49",
                                    "Cota Topo (m)": "1171",
                                    "Data": "2023-05-09 00:00:00.000",
                                    "Profundidade (m)": "57,51"
                                },
                                {
                                    "Codigo HGA": "WST-425",
                                    "Cota NA (m)": "1167,9",
                                    "Cota Topo (m)": "1271,5",
                                    "Data": "2017-08-25 00:00:00.000",
                                    "Profundidade (m)": "103,6"
                                },
                                {
                                    "Codigo HGA": "WST-425",
                                    "Cota NA (m)": "1220,76",
                                    "Cota Topo (m)": "1271,5",
                                    "Data": "2017-09-28 00:00:00.000",
                                    "Profundidade (m)": "50,74"
                                },
                                {
                                    "Codigo HGA": "WST-425",
                                    "Cota NA (m)": "1217,79",
                                    "Cota Topo (m)": "1271,5",
                                    "Data": "2017-10-30 00:00:00.000",
                                    "Profundidade (m)": "53,71"
                                },
                                {
                                    "Codigo HGA": "WST-425",
                                    "Cota NA (m)": "1214,1",
                                    "Cota Topo (m)": "1271,5",
                                    "Data": "2017-11-30 00:00:00.000",
                                    "Profundidade (m)": "57,4"
                                },
                                {
                                    "Codigo HGA": "WST-425",
                                    "Cota NA (m)": "1210,02",
                                    "Cota Topo (m)": "1271,5",
                                    "Data": "2017-12-28 00:00:00.000",
                                    "Profundidade (m)": "61,48"
                                },
                                {
                                    "Codigo HGA": "WST-425",
                                    "Cota NA (m)": "1201,89",
                                    "Cota Topo (m)": "1271,5",
                                    "Data": "2018-02-21 00:00:00.000",
                                    "Profundidade (m)": "69,61"
                                },
                                {
                                    "Codigo HGA": "WST-425",
                                    "Cota NA (m)": "1193,21",
                                    "Cota Topo (m)": "1271,5",
                                    "Data": "2018-03-26 00:00:00.000",
                                    "Profundidade (m)": "78,29"
                                },
                                {
                                    "Codigo HGA": "WST-425",
                                    "Cota NA (m)": "1192,09",
                                    "Cota Topo (m)": "1271,5",
                                    "Data": "2018-04-18 00:00:00.000",
                                    "Profundidade (m)": "79,41"
                                },
                                {
                                    "Codigo HGA": "WST-425",
                                    "Cota NA (m)": "1214,99",
                                    "Cota Topo (m)": "1271,5",
                                    "Data": "2018-05-18 00:00:00.000",
                                    "Profundidade (m)": "56,51"
                                },
                                {
                                    "Codigo HGA": "WST-425",
                                    "Cota NA (m)": "1179,56",
                                    "Cota Topo (m)": "1271,5",
                                    "Data": "2018-06-22 00:00:00.000",
                                    "Profundidade (m)": "91,94"
                                },
                                {
                                    "Codigo HGA": "WST-425",
                                    "Cota NA (m)": "1216,71",
                                    "Cota Topo (m)": "1271,5",
                                    "Data": "2018-07-30 00:00:00.000",
                                    "Profundidade (m)": "54,79"
                                },
                                {
                                    "Codigo HGA": "WST-425",
                                    "Cota NA (m)": "1189,14",
                                    "Cota Topo (m)": "1271,5",
                                    "Data": "2018-08-30 00:00:00.000",
                                    "Profundidade (m)": "82,36"
                                },
                                {
                                    "Codigo HGA": "WST-425",
                                    "Cota NA (m)": "1183,25",
                                    "Cota Topo (m)": "1271,5",
                                    "Data": "2018-09-26 00:00:00.000",
                                    "Profundidade (m)": "88,25"
                                },
                                {
                                    "Codigo HGA": "WST-425",
                                    "Cota NA (m)": "1182,65",
                                    "Cota Topo (m)": "1271,5",
                                    "Data": "2018-11-29 00:00:00.000",
                                    "Profundidade (m)": "88,85"
                                },
                                {
                                    "Codigo HGA": "WST-425",
                                    "Cota NA (m)": "1257,76",
                                    "Cota Topo (m)": "1271,5",
                                    "Data": "2019-01-30 00:00:00.000",
                                    "Profundidade (m)": "13,74"
                                },
                                {
                                    "Codigo HGA": "WST-425",
                                    "Cota NA (m)": "1174,5",
                                    "Cota Topo (m)": "1271,5",
                                    "Data": "2019-05-31 00:00:00.000",
                                    "Profundidade (m)": "97"
                                },
                                {
                                    "Codigo HGA": "WST-425",
                                    "Cota NA (m)": "1164,26",
                                    "Cota Topo (m)": "1271,5",
                                    "Data": "2019-06-14 00:00:00.000",
                                    "Profundidade (m)": "107,24"
                                },
                                {
                                    "Codigo HGA": "WST-425",
                                    "Cota NA (m)": "1162,59",
                                    "Cota Topo (m)": "1271,5",
                                    "Data": "2019-06-26 00:00:00.000",
                                    "Profundidade (m)": "108,91"
                                },
                                {
                                    "Codigo HGA": "WST-425",
                                    "Cota NA (m)": "1172,24",
                                    "Cota Topo (m)": "1271,5",
                                    "Data": "2019-09-18 00:00:00.000",
                                    "Profundidade (m)": "99,26"
                                },
                                {
                                    "Codigo HGA": "WST-425",
                                    "Cota NA (m)": "1233,1",
                                    "Cota Topo (m)": "1271,5",
                                    "Data": "2019-12-26 00:00:00.000",
                                    "Profundidade (m)": "38,4"
                                },
                                {
                                    "Codigo HGA": "WST-425",
                                    "Cota NA (m)": "1163,24",
                                    "Cota Topo (m)": "1271,5",
                                    "Data": "2020-02-05 00:00:00.000",
                                    "Profundidade (m)": "108,26"
                                },
                                {
                                    "Codigo HGA": "WST-425",
                                    "Cota NA (m)": "1162,81",
                                    "Cota Topo (m)": "1271,5",
                                    "Data": "2020-02-08 00:00:00.000",
                                    "Profundidade (m)": "108,69"
                                },
                                {
                                    "Codigo HGA": "WST-425",
                                    "Cota NA (m)": "1163,4",
                                    "Cota Topo (m)": "1271,5",
                                    "Data": "2020-02-10 00:00:00.000",
                                    "Profundidade (m)": "108,1"
                                },
                                {
                                    "Codigo HGA": "WST-425",
                                    "Cota NA (m)": "1162,26",
                                    "Cota Topo (m)": "1271,5",
                                    "Data": "2020-02-12 00:00:00.000",
                                    "Profundidade (m)": "109,24"
                                },
                                {
                                    "Codigo HGA": "WST-425",
                                    "Cota NA (m)": "1162,83",
                                    "Cota Topo (m)": "1271,5",
                                    "Data": "2020-02-15 00:00:00.000",
                                    "Profundidade (m)": "108,67"
                                },
                                {
                                    "Codigo HGA": "WST-425",
                                    "Cota NA (m)": "1163,32",
                                    "Cota Topo (m)": "1271,5",
                                    "Data": "2020-02-26 00:00:00.000",
                                    "Profundidade (m)": "108,18"
                                },
                                {
                                    "Codigo HGA": "WST-425",
                                    "Cota NA (m)": "1162,1",
                                    "Cota Topo (m)": "1271,5",
                                    "Data": "2020-03-01 00:00:00.000",
                                    "Profundidade (m)": "109,4"
                                },
                                {
                                    "Codigo HGA": "WST-425",
                                    "Cota NA (m)": "1162,32",
                                    "Cota Topo (m)": "1271,5",
                                    "Data": "2020-03-07 00:00:00.000",
                                    "Profundidade (m)": "109,18"
                                },
                                {
                                    "Codigo HGA": "WST-425",
                                    "Cota NA (m)": "1180,32",
                                    "Cota Topo (m)": "1271,5",
                                    "Data": "2020-03-14 00:00:00.000",
                                    "Profundidade (m)": "91,18"
                                },
                                {
                                    "Codigo HGA": "WST-425",
                                    "Cota NA (m)": "1244,09",
                                    "Cota Topo (m)": "1271,5",
                                    "Data": "2020-03-22 00:00:00.000",
                                    "Profundidade (m)": "27,41"
                                },
                                {
                                    "Codigo HGA": "WST-425",
                                    "Cota NA (m)": "1156,4",
                                    "Cota Topo (m)": "1271,5",
                                    "Data": "2020-03-26 00:00:00.000",
                                    "Profundidade (m)": "115,1"
                                },
                                {
                                    "Codigo HGA": "WST-425",
                                    "Cota NA (m)": "1154,83",
                                    "Cota Topo (m)": "1271,5",
                                    "Data": "2020-04-01 00:00:00.000",
                                    "Profundidade (m)": "116,67"
                                },
                                {
                                    "Codigo HGA": "WST-425",
                                    "Cota NA (m)": "1153,9",
                                    "Cota Topo (m)": "1271,5",
                                    "Data": "2020-04-02 00:00:00.000",
                                    "Profundidade (m)": "117,6"
                                },
                                {
                                    "Codigo HGA": "WST-425",
                                    "Cota NA (m)": "1154,14",
                                    "Cota Topo (m)": "1271,5",
                                    "Data": "2020-04-03 00:00:00.000",
                                    "Profundidade (m)": "117,36"
                                },
                                {
                                    "Codigo HGA": "WST-425",
                                    "Cota NA (m)": "1154,46",
                                    "Cota Topo (m)": "1271,5",
                                    "Data": "2020-04-04 00:00:00.000",
                                    "Profundidade (m)": "117,04"
                                },
                                {
                                    "Codigo HGA": "WST-425",
                                    "Cota NA (m)": "1153,37",
                                    "Cota Topo (m)": "1271,5",
                                    "Data": "2020-04-06 00:00:00.000",
                                    "Profundidade (m)": "118,13"
                                },
                                {
                                    "Codigo HGA": "WST-425",
                                    "Cota NA (m)": "1153,6",
                                    "Cota Topo (m)": "1271,5",
                                    "Data": "2020-04-08 00:00:00.000",
                                    "Profundidade (m)": "117,9"
                                },
                                {
                                    "Codigo HGA": "WST-425",
                                    "Cota NA (m)": "1151,98",
                                    "Cota Topo (m)": "1271,5",
                                    "Data": "2020-04-11 00:00:00.000",
                                    "Profundidade (m)": "119,52"
                                },
                                {
                                    "Codigo HGA": "WST-425",
                                    "Cota NA (m)": "1154,11",
                                    "Cota Topo (m)": "1271,5",
                                    "Data": "2020-04-15 00:00:00.000",
                                    "Profundidade (m)": "117,39"
                                },
                                {
                                    "Codigo HGA": "WST-425",
                                    "Cota NA (m)": "1152,64",
                                    "Cota Topo (m)": "1271,5",
                                    "Data": "2020-04-18 00:00:00.000",
                                    "Profundidade (m)": "118,86"
                                },
                                {
                                    "Codigo HGA": "WST-425",
                                    "Cota NA (m)": "1151,17",
                                    "Cota Topo (m)": "1271,5",
                                    "Data": "2020-04-22 00:00:00.000",
                                    "Profundidade (m)": "120,33"
                                },
                                {
                                    "Codigo HGA": "WST-425",
                                    "Cota NA (m)": "1152,2",
                                    "Cota Topo (m)": "1271,5",
                                    "Data": "2020-04-26 00:00:00.000",
                                    "Profundidade (m)": "119,3"
                                },
                                {
                                    "Codigo HGA": "WST-425",
                                    "Cota NA (m)": "1149,18",
                                    "Cota Topo (m)": "1271,5",
                                    "Data": "2020-04-29 00:00:00.000",
                                    "Profundidade (m)": "122,32"
                                },
                                {
                                    "Codigo HGA": "WST-425",
                                    "Cota NA (m)": "1152,65",
                                    "Cota Topo (m)": "1271,5",
                                    "Data": "2020-05-06 00:00:00.000",
                                    "Profundidade (m)": "118,85"
                                },
                                {
                                    "Codigo HGA": "WST-425",
                                    "Cota NA (m)": "1152,17",
                                    "Cota Topo (m)": "1271,5",
                                    "Data": "2020-05-09 00:00:00.000",
                                    "Profundidade (m)": "119,33"
                                },
                                {
                                    "Codigo HGA": "WST-425",
                                    "Cota NA (m)": "1150",
                                    "Cota Topo (m)": "1271,5",
                                    "Data": "2020-05-13 00:00:00.000",
                                    "Profundidade (m)": "121,5"
                                },
                                {
                                    "Codigo HGA": "WST-425",
                                    "Cota NA (m)": "1151,02",
                                    "Cota Topo (m)": "1271,5",
                                    "Data": "2020-05-16 00:00:00.000",
                                    "Profundidade (m)": "120,48"
                                },
                                {
                                    "Codigo HGA": "WST-425",
                                    "Cota NA (m)": "1071,73",
                                    "Cota Topo (m)": "1271,5",
                                    "Data": "2020-05-20 00:00:00.000",
                                    "Profundidade (m)": "199,77"
                                },
                                {
                                    "Codigo HGA": "WST-425",
                                    "Cota NA (m)": "1149,7",
                                    "Cota Topo (m)": "1271,5",
                                    "Data": "2020-05-23 00:00:00.000",
                                    "Profundidade (m)": "121,8"
                                },
                                {
                                    "Codigo HGA": "WST-425",
                                    "Cota NA (m)": "1151,16",
                                    "Cota Topo (m)": "1271,5",
                                    "Data": "2020-06-01 00:00:00.000",
                                    "Profundidade (m)": "120,34"
                                },
                                {
                                    "Codigo HGA": "WST-425",
                                    "Cota NA (m)": "1150,33",
                                    "Cota Topo (m)": "1271,5",
                                    "Data": "2020-06-06 00:00:00.000",
                                    "Profundidade (m)": "121,17"
                                },
                                {
                                    "Codigo HGA": "WST-425",
                                    "Cota NA (m)": "1149,19",
                                    "Cota Topo (m)": "1271,5",
                                    "Data": "2020-06-08 00:00:00.000",
                                    "Profundidade (m)": "122,31"
                                },
                                {
                                    "Codigo HGA": "WST-425",
                                    "Cota NA (m)": "1152,3",
                                    "Cota Topo (m)": "1271,5",
                                    "Data": "2020-06-10 00:00:00.000",
                                    "Profundidade (m)": "119,2"
                                },
                                {
                                    "Codigo HGA": "WST-425",
                                    "Cota NA (m)": "1147,58",
                                    "Cota Topo (m)": "1271,5",
                                    "Data": "2020-06-15 00:00:00.000",
                                    "Profundidade (m)": "123,92"
                                },
                                {
                                    "Codigo HGA": "WST-425",
                                    "Cota NA (m)": "1148,5",
                                    "Cota Topo (m)": "1271,5",
                                    "Data": "2020-06-18 00:00:00.000",
                                    "Profundidade (m)": "123"
                                },
                                {
                                    "Codigo HGA": "WST-425",
                                    "Cota NA (m)": "1151,35",
                                    "Cota Topo (m)": "1271,5",
                                    "Data": "2020-06-27 00:00:00.000",
                                    "Profundidade (m)": "120,15"
                                },
                                {
                                    "Codigo HGA": "WST-425",
                                    "Cota NA (m)": "1150,34",
                                    "Cota Topo (m)": "1271,5",
                                    "Data": "2020-07-01 00:00:00.000",
                                    "Profundidade (m)": "121,16"
                                },
                                {
                                    "Codigo HGA": "WST-425",
                                    "Cota NA (m)": "1147,78",
                                    "Cota Topo (m)": "1271,5",
                                    "Data": "2020-07-04 00:00:00.000",
                                    "Profundidade (m)": "123,72"
                                },
                                {
                                    "Codigo HGA": "WST-425",
                                    "Cota NA (m)": "1148,91",
                                    "Cota Topo (m)": "1271,5",
                                    "Data": "2020-07-15 00:00:00.000",
                                    "Profundidade (m)": "122,59"
                                },
                                {
                                    "Codigo HGA": "WST-425",
                                    "Cota NA (m)": "1150,31",
                                    "Cota Topo (m)": "1271,5",
                                    "Data": "2020-07-19 00:00:00.000",
                                    "Profundidade (m)": "121,19"
                                },
                                {
                                    "Codigo HGA": "WST-425",
                                    "Cota NA (m)": "1147,36",
                                    "Cota Topo (m)": "1271,5",
                                    "Data": "2020-07-26 00:00:00.000",
                                    "Profundidade (m)": "124,14"
                                },
                                {
                                    "Codigo HGA": "WST-425",
                                    "Cota NA (m)": "1147,57",
                                    "Cota Topo (m)": "1271,5",
                                    "Data": "2020-07-27 00:00:00.000",
                                    "Profundidade (m)": "123,93"
                                },
                                {
                                    "Codigo HGA": "WST-425",
                                    "Cota NA (m)": "1147,68",
                                    "Cota Topo (m)": "1271,5",
                                    "Data": "2020-08-01 00:00:00.000",
                                    "Profundidade (m)": "123,82"
                                },
                                {
                                    "Codigo HGA": "WST-425",
                                    "Cota NA (m)": "1147,4",
                                    "Cota Topo (m)": "1271,5",
                                    "Data": "2020-08-03 00:00:00.000",
                                    "Profundidade (m)": "124,1"
                                },
                                {
                                    "Codigo HGA": "WST-425",
                                    "Cota NA (m)": "1149,12",
                                    "Cota Topo (m)": "1271,5",
                                    "Data": "2020-08-05 00:00:00.000",
                                    "Profundidade (m)": "122,38"
                                },
                                {
                                    "Codigo HGA": "WST-425",
                                    "Cota NA (m)": "1149,27",
                                    "Cota Topo (m)": "1271,5",
                                    "Data": "2020-08-09 00:00:00.000",
                                    "Profundidade (m)": "122,23"
                                },
                                {
                                    "Codigo HGA": "WST-425",
                                    "Cota NA (m)": "1148,37",
                                    "Cota Topo (m)": "1271,5",
                                    "Data": "2020-08-10 00:00:00.000",
                                    "Profundidade (m)": "123,13"
                                },
                                {
                                    "Codigo HGA": "WST-425",
                                    "Cota NA (m)": "1149,64",
                                    "Cota Topo (m)": "1271,5",
                                    "Data": "2020-08-12 00:00:00.000",
                                    "Profundidade (m)": "121,86"
                                },
                                {
                                    "Codigo HGA": "WST-425",
                                    "Cota NA (m)": "1147,38",
                                    "Cota Topo (m)": "1271,5",
                                    "Data": "2020-08-15 00:00:00.000",
                                    "Profundidade (m)": "124,12"
                                },
                                {
                                    "Codigo HGA": "WST-425",
                                    "Cota NA (m)": "1149,34",
                                    "Cota Topo (m)": "1271,5",
                                    "Data": "2020-08-17 00:00:00.000",
                                    "Profundidade (m)": "122,16"
                                },
                                {
                                    "Codigo HGA": "WST-425",
                                    "Cota NA (m)": "1147,85",
                                    "Cota Topo (m)": "1271,5",
                                    "Data": "2020-08-23 00:00:00.000",
                                    "Profundidade (m)": "123,65"
                                },
                                {
                                    "Codigo HGA": "WST-425",
                                    "Cota NA (m)": "1251,99",
                                    "Cota Topo (m)": "1271,5",
                                    "Data": "2021-01-25 00:00:00.000",
                                    "Profundidade (m)": "19,51"
                                },
                                {
                                    "Codigo HGA": "WST-425",
                                    "Cota NA (m)": "1252,4",
                                    "Cota Topo (m)": "1271,5",
                                    "Data": "2021-02-02 00:00:00.000",
                                    "Profundidade (m)": "19,1"
                                },
                                {
                                    "Codigo HGA": "WST-425",
                                    "Cota NA (m)": "1252,79",
                                    "Cota Topo (m)": "1271,5",
                                    "Data": "2021-02-08 00:00:00.000",
                                    "Profundidade (m)": "18,71"
                                },
                                {
                                    "Codigo HGA": "WST-425",
                                    "Cota NA (m)": "1253,85",
                                    "Cota Topo (m)": "1271,5",
                                    "Data": "2021-02-18 00:00:00.000",
                                    "Profundidade (m)": "17,65"
                                },
                                {
                                    "Codigo HGA": "WST-425",
                                    "Cota NA (m)": "1188,85",
                                    "Cota Topo (m)": "1271,5",
                                    "Data": "2021-02-25 00:00:00.000",
                                    "Profundidade (m)": "82,65"
                                },
                                {
                                    "Codigo HGA": "WST-425",
                                    "Cota NA (m)": "1164,27",
                                    "Cota Topo (m)": "1271,5",
                                    "Data": "2021-11-15 00:00:00.000",
                                    "Profundidade (m)": "107,23"
                                },
                                {
                                    "Codigo HGA": "WST-425",
                                    "Cota NA (m)": "1165,15",
                                    "Cota Topo (m)": "1271,5",
                                    "Data": "2021-11-18 00:00:00.000",
                                    "Profundidade (m)": "106,35"
                                },
                                {
                                    "Codigo HGA": "WST-425",
                                    "Cota NA (m)": "1163,97",
                                    "Cota Topo (m)": "1271,5",
                                    "Data": "2021-11-23 00:00:00.000",
                                    "Profundidade (m)": "107,53"
                                },
                                {
                                    "Codigo HGA": "WST-425",
                                    "Cota NA (m)": "1162,4",
                                    "Cota Topo (m)": "1271,5",
                                    "Data": "2021-12-04 00:00:00.000",
                                    "Profundidade (m)": "109,1"
                                },
                                {
                                    "Codigo HGA": "WST-425",
                                    "Cota NA (m)": "1160,2",
                                    "Cota Topo (m)": "1271,5",
                                    "Data": "2021-12-07 00:00:00.000",
                                    "Profundidade (m)": "111,3"
                                },
                                {
                                    "Codigo HGA": "WST-425",
                                    "Cota NA (m)": "1165,49",
                                    "Cota Topo (m)": "1271,5",
                                    "Data": "2021-12-11 00:00:00.000",
                                    "Profundidade (m)": "106,01"
                                },
                                {
                                    "Codigo HGA": "WST-425",
                                    "Cota NA (m)": "1166,41",
                                    "Cota Topo (m)": "1271,5",
                                    "Data": "2021-12-14 00:00:00.000",
                                    "Profundidade (m)": "105,09"
                                },
                                {
                                    "Codigo HGA": "WST-425",
                                    "Cota NA (m)": "1253,87",
                                    "Cota Topo (m)": "1271,5",
                                    "Data": "2022-02-03 00:00:00.000",
                                    "Profundidade (m)": "17,63"
                                },
                                {
                                    "Codigo HGA": "WST-425",
                                    "Cota NA (m)": "1254,7",
                                    "Cota Topo (m)": "1271,5",
                                    "Data": "2022-02-08 00:00:00.000",
                                    "Profundidade (m)": "16,8"
                                },
                                {
                                    "Codigo HGA": "WST-425",
                                    "Cota NA (m)": "1255,24",
                                    "Cota Topo (m)": "1271,5",
                                    "Data": "2022-02-17 00:00:00.000",
                                    "Profundidade (m)": "16,26"
                                },
                                {
                                    "Codigo HGA": "WST-425",
                                    "Cota NA (m)": "1256,66",
                                    "Cota Topo (m)": "1271,5",
                                    "Data": "2022-02-23 00:00:00.000",
                                    "Profundidade (m)": "14,84"
                                },
                                {
                                    "Codigo HGA": "WST-425",
                                    "Cota NA (m)": "1257,55",
                                    "Cota Topo (m)": "1271,5",
                                    "Data": "2022-03-03 00:00:00.000",
                                    "Profundidade (m)": "13,95"
                                },
                                {
                                    "Codigo HGA": "WST-425",
                                    "Cota NA (m)": "1257,95",
                                    "Cota Topo (m)": "1271,5",
                                    "Data": "2022-03-07 00:00:00.000",
                                    "Profundidade (m)": "13,55"
                                },
                                {
                                    "Codigo HGA": "WST-425",
                                    "Cota NA (m)": "1250,77",
                                    "Cota Topo (m)": "1271,5",
                                    "Data": "2022-04-05 00:00:00.000",
                                    "Profundidade (m)": "20,73"
                                },
                                {
                                    "Codigo HGA": "WST-425",
                                    "Cota NA (m)": "1175,31",
                                    "Cota Topo (m)": "1271,5",
                                    "Data": "2022-04-15 00:00:00.000",
                                    "Profundidade (m)": "96,19"
                                },
                                {
                                    "Codigo HGA": "WST-425",
                                    "Cota NA (m)": "1174,13",
                                    "Cota Topo (m)": "1271,5",
                                    "Data": "2022-04-18 00:00:00.000",
                                    "Profundidade (m)": "97,37"
                                },
                                {
                                    "Codigo HGA": "WST-425",
                                    "Cota NA (m)": "1171,92",
                                    "Cota Topo (m)": "1271,5",
                                    "Data": "2022-04-27 00:00:00.000",
                                    "Profundidade (m)": "99,58"
                                },
                                {
                                    "Codigo HGA": "WST-425",
                                    "Cota NA (m)": "1169,58",
                                    "Cota Topo (m)": "1271,5",
                                    "Data": "2022-05-05 00:00:00.000",
                                    "Profundidade (m)": "101,92"
                                },
                                {
                                    "Codigo HGA": "WST-425",
                                    "Cota NA (m)": "1168,46",
                                    "Cota Topo (m)": "1271,5",
                                    "Data": "2022-05-10 00:00:00.000",
                                    "Profundidade (m)": "103,04"
                                },
                                {
                                    "Codigo HGA": "WST-425",
                                    "Cota NA (m)": "1168,79",
                                    "Cota Topo (m)": "1271,5",
                                    "Data": "2022-05-24 00:00:00.000",
                                    "Profundidade (m)": "102,71"
                                },
                                {
                                    "Codigo HGA": "WST-425",
                                    "Cota NA (m)": "1165,91",
                                    "Cota Topo (m)": "1271,5",
                                    "Data": "2022-05-25 00:00:00.000",
                                    "Profundidade (m)": "105,59"
                                },
                                {
                                    "Codigo HGA": "WST-425",
                                    "Cota NA (m)": "1163,81",
                                    "Cota Topo (m)": "1271,5",
                                    "Data": "2022-06-03 00:00:00.000",
                                    "Profundidade (m)": "107,69"
                                },
                                {
                                    "Codigo HGA": "WST-425",
                                    "Cota NA (m)": "1159,1",
                                    "Cota Topo (m)": "1271,5",
                                    "Data": "2022-06-07 00:00:00.000",
                                    "Profundidade (m)": "112,4"
                                },
                                {
                                    "Codigo HGA": "WST-425",
                                    "Cota NA (m)": "1155,79",
                                    "Cota Topo (m)": "1271,5",
                                    "Data": "2022-06-17 00:00:00.000",
                                    "Profundidade (m)": "115,71"
                                },
                                {
                                    "Codigo HGA": "WST-425",
                                    "Cota NA (m)": "1154,22",
                                    "Cota Topo (m)": "1271,5",
                                    "Data": "2022-06-20 00:00:00.000",
                                    "Profundidade (m)": "117,28"
                                },
                                {
                                    "Codigo HGA": "WST-425",
                                    "Cota NA (m)": "1152,54",
                                    "Cota Topo (m)": "1271,5",
                                    "Data": "2022-06-29 00:00:00.000",
                                    "Profundidade (m)": "118,96"
                                },
                                {
                                    "Codigo HGA": "WST-425",
                                    "Cota NA (m)": "1237,54",
                                    "Cota Topo (m)": "1271,5",
                                    "Data": "2022-07-05 00:00:00.000",
                                    "Profundidade (m)": "33,96"
                                },
                                {
                                    "Codigo HGA": "WST-425",
                                    "Cota NA (m)": "1151,66",
                                    "Cota Topo (m)": "1271,5",
                                    "Data": "2022-07-14 00:00:00.000",
                                    "Profundidade (m)": "119,84"
                                },
                                {
                                    "Codigo HGA": "WST-425",
                                    "Cota NA (m)": "1151,66",
                                    "Cota Topo (m)": "1271,5",
                                    "Data": "2022-07-18 00:00:00.000",
                                    "Profundidade (m)": "119,84"
                                },
                                {
                                    "Codigo HGA": "WST-425",
                                    "Cota NA (m)": "1151,66",
                                    "Cota Topo (m)": "1271,5",
                                    "Data": "2022-07-25 00:00:00.000",
                                    "Profundidade (m)": "119,84"
                                },
                                {
                                    "Codigo HGA": "WST-425",
                                    "Cota NA (m)": "1152,56",
                                    "Cota Topo (m)": "1271,5",
                                    "Data": "2022-08-08 00:00:00.000",
                                    "Profundidade (m)": "118,94"
                                },
                                {
                                    "Codigo HGA": "WST-425",
                                    "Cota NA (m)": "1150,12",
                                    "Cota Topo (m)": "1271,5",
                                    "Data": "2022-08-16 00:00:00.000",
                                    "Profundidade (m)": "121,38"
                                },
                                {
                                    "Codigo HGA": "WST-425",
                                    "Cota NA (m)": "1149,4",
                                    "Cota Topo (m)": "1271,5",
                                    "Data": "2022-08-23 00:00:00.000",
                                    "Profundidade (m)": "122,1"
                                },
                                {
                                    "Codigo HGA": "WST-425",
                                    "Cota NA (m)": "1148,06",
                                    "Cota Topo (m)": "1271,5",
                                    "Data": "2022-09-02 00:00:00.000",
                                    "Profundidade (m)": "123,44"
                                },
                                {
                                    "Codigo HGA": "WST-425",
                                    "Cota NA (m)": "1154,99",
                                    "Cota Topo (m)": "1271,5",
                                    "Data": "2022-09-09 00:00:00.000",
                                    "Profundidade (m)": "116,51"
                                },
                                {
                                    "Codigo HGA": "WST-425",
                                    "Cota NA (m)": "1146,57",
                                    "Cota Topo (m)": "1271,5",
                                    "Data": "2022-09-14 00:00:00.000",
                                    "Profundidade (m)": "124,93"
                                },
                                {
                                    "Codigo HGA": "WST-425",
                                    "Cota NA (m)": "1146,3",
                                    "Cota Topo (m)": "1271,5",
                                    "Data": "2022-09-20 00:00:00.000",
                                    "Profundidade (m)": "125,2"
                                },
                                {
                                    "Codigo HGA": "WST-425",
                                    "Cota NA (m)": "1145,78",
                                    "Cota Topo (m)": "1271,5",
                                    "Data": "2022-09-28 00:00:00.000",
                                    "Profundidade (m)": "125,72"
                                },
                                {
                                    "Codigo HGA": "WST-425",
                                    "Cota NA (m)": "1146,21",
                                    "Cota Topo (m)": "1271,5",
                                    "Data": "2022-10-05 00:00:00.000",
                                    "Profundidade (m)": "125,29"
                                },
                                {
                                    "Codigo HGA": "WST-425",
                                    "Cota NA (m)": "1144,89",
                                    "Cota Topo (m)": "1271,5",
                                    "Data": "2022-10-13 00:00:00.000",
                                    "Profundidade (m)": "126,61"
                                },
                                {
                                    "Codigo HGA": "WST-425",
                                    "Cota NA (m)": "1147,97",
                                    "Cota Topo (m)": "1271,5",
                                    "Data": "2022-10-19 00:00:00.000",
                                    "Profundidade (m)": "123,53"
                                },
                                {
                                    "Codigo HGA": "WST-425",
                                    "Cota NA (m)": "1144,63",
                                    "Cota Topo (m)": "1271,5",
                                    "Data": "2022-10-24 00:00:00.000",
                                    "Profundidade (m)": "126,87"
                                },
                                {
                                    "Codigo HGA": "WST-425",
                                    "Cota NA (m)": "1144,51",
                                    "Cota Topo (m)": "1271,5",
                                    "Data": "2022-11-01 00:00:00.000",
                                    "Profundidade (m)": "126,99"
                                },
                                {
                                    "Codigo HGA": "WST-425",
                                    "Cota NA (m)": "1144,13",
                                    "Cota Topo (m)": "1271,5",
                                    "Data": "2022-11-08 00:00:00.000",
                                    "Profundidade (m)": "127,37"
                                },
                                {
                                    "Codigo HGA": "WST-425",
                                    "Cota NA (m)": "1144,03",
                                    "Cota Topo (m)": "1271,5",
                                    "Data": "2022-11-16 00:00:00.000",
                                    "Profundidade (m)": "127,47"
                                },
                                {
                                    "Codigo HGA": "WST-425",
                                    "Cota NA (m)": "1144,77",
                                    "Cota Topo (m)": "1271,5",
                                    "Data": "2022-11-24 00:00:00.000",
                                    "Profundidade (m)": "126,73"
                                },
                                {
                                    "Codigo HGA": "WST-425",
                                    "Cota NA (m)": "1144,01",
                                    "Cota Topo (m)": "1271,5",
                                    "Data": "2022-11-30 00:00:00.000",
                                    "Profundidade (m)": "127,49"
                                },
                                {
                                    "Codigo HGA": "WST-425",
                                    "Cota NA (m)": "1143,91",
                                    "Cota Topo (m)": "1271,5",
                                    "Data": "2022-12-07 00:00:00.000",
                                    "Profundidade (m)": "127,59"
                                },
                                {
                                    "Codigo HGA": "WST-425",
                                    "Cota NA (m)": "1143,51",
                                    "Cota Topo (m)": "1271,5",
                                    "Data": "2022-12-13 00:00:00.000",
                                    "Profundidade (m)": "127,99"
                                },
                                {
                                    "Codigo HGA": "WST-425",
                                    "Cota NA (m)": "1229,93",
                                    "Cota Topo (m)": "1271,5",
                                    "Data": "2022-12-20 00:00:00.000",
                                    "Profundidade (m)": "41,57"
                                },
                                {
                                    "Codigo HGA": "WST-425",
                                    "Cota NA (m)": "1260,06",
                                    "Cota Topo (m)": "1271,5",
                                    "Data": "2022-12-26 00:00:00.000",
                                    "Profundidade (m)": "11,44"
                                },
                                {
                                    "Codigo HGA": "WST-425",
                                    "Cota NA (m)": "1224,64",
                                    "Cota Topo (m)": "1271,5",
                                    "Data": "2023-01-03 00:00:00.000",
                                    "Profundidade (m)": "46,86"
                                },
                                {
                                    "Codigo HGA": "WST-425",
                                    "Cota NA (m)": "1241,26",
                                    "Cota Topo (m)": "1271,5",
                                    "Data": "2023-01-11 00:00:00.000",
                                    "Profundidade (m)": "30,24"
                                },
                                {
                                    "Codigo HGA": "WST-425",
                                    "Cota NA (m)": "1154,05",
                                    "Cota Topo (m)": "1271,5",
                                    "Data": "2023-01-20 00:00:00.000",
                                    "Profundidade (m)": "117,45"
                                },
                                {
                                    "Codigo HGA": "WST-425",
                                    "Cota NA (m)": "1236,78",
                                    "Cota Topo (m)": "1271,5",
                                    "Data": "2023-01-23 00:00:00.000",
                                    "Profundidade (m)": "34,72"
                                },
                                {
                                    "Codigo HGA": "WST-425",
                                    "Cota NA (m)": "1153,24",
                                    "Cota Topo (m)": "1271,5",
                                    "Data": "2023-02-03 00:00:00.000",
                                    "Profundidade (m)": "118,26"
                                },
                                {
                                    "Codigo HGA": "WST-425",
                                    "Cota NA (m)": "1151,62",
                                    "Cota Topo (m)": "1271,5",
                                    "Data": "2023-02-06 00:00:00.000",
                                    "Profundidade (m)": "119,88"
                                },
                                {
                                    "Codigo HGA": "WST-425",
                                    "Cota NA (m)": "1154,83",
                                    "Cota Topo (m)": "1271,5",
                                    "Data": "2023-02-15 00:00:00.000",
                                    "Profundidade (m)": "116,67"
                                },
                                {
                                    "Codigo HGA": "WST-425",
                                    "Cota NA (m)": "1150,76",
                                    "Cota Topo (m)": "1271,5",
                                    "Data": "2023-02-24 00:00:00.000",
                                    "Profundidade (m)": "120,74"
                                },
                                {
                                    "Codigo HGA": "WST-425",
                                    "Cota NA (m)": "1151,39",
                                    "Cota Topo (m)": "1271,5",
                                    "Data": "2023-02-27 00:00:00.000",
                                    "Profundidade (m)": "120,11"
                                },
                                {
                                    "Codigo HGA": "WST-425",
                                    "Cota NA (m)": "1150,03",
                                    "Cota Topo (m)": "1271,5",
                                    "Data": "2023-03-06 00:00:00.000",
                                    "Profundidade (m)": "121,47"
                                },
                                {
                                    "Codigo HGA": "WST-425",
                                    "Cota NA (m)": "1149,74",
                                    "Cota Topo (m)": "1271,5",
                                    "Data": "2023-03-17 00:00:00.000",
                                    "Profundidade (m)": "121,76"
                                },
                                {
                                    "Codigo HGA": "WST-425",
                                    "Cota NA (m)": "1156,97",
                                    "Cota Topo (m)": "1271,5",
                                    "Data": "2023-03-23 00:00:00.000",
                                    "Profundidade (m)": "114,53"
                                },
                                {
                                    "Codigo HGA": "WST-425",
                                    "Cota NA (m)": "1151,28",
                                    "Cota Topo (m)": "1271,5",
                                    "Data": "2023-03-31 00:00:00.000",
                                    "Profundidade (m)": "120,22"
                                },
                                {
                                    "Codigo HGA": "WST-425",
                                    "Cota NA (m)": "1149,61",
                                    "Cota Topo (m)": "1271,5",
                                    "Data": "2023-04-05 00:00:00.000",
                                    "Profundidade (m)": "121,89"
                                },
                                {
                                    "Codigo HGA": "WST-425",
                                    "Cota NA (m)": "1148,66",
                                    "Cota Topo (m)": "1271,5",
                                    "Data": "2023-04-12 00:00:00.000",
                                    "Profundidade (m)": "122,84"
                                },
                                {
                                    "Codigo HGA": "WST-425",
                                    "Cota NA (m)": "1149,04",
                                    "Cota Topo (m)": "1271,5",
                                    "Data": "2023-04-17 00:00:00.000",
                                    "Profundidade (m)": "122,46"
                                },
                                {
                                    "Codigo HGA": "WST-425",
                                    "Cota NA (m)": "1147,84",
                                    "Cota Topo (m)": "1271,5",
                                    "Data": "2023-04-28 00:00:00.000",
                                    "Profundidade (m)": "123,66"
                                },
                                {
                                    "Codigo HGA": "WST-425",
                                    "Cota NA (m)": "1146,43",
                                    "Cota Topo (m)": "1271,5",
                                    "Data": "2023-05-03 00:00:00.000",
                                    "Profundidade (m)": "125,07"
                                },
                                {
                                    "Codigo HGA": "WST-425",
                                    "Cota NA (m)": "1146,19",
                                    "Cota Topo (m)": "1271,5",
                                    "Data": "2023-05-09 00:00:00.000",
                                    "Profundidade (m)": "125,31"
                                },
                                {
                                    "Codigo HGA": "WST-425",
                                    "Cota NA (m)": "1145,79",
                                    "Cota Topo (m)": "1271,5",
                                    "Data": "2023-05-18 00:00:00.000",
                                    "Profundidade (m)": "125,71"
                                },
                                {
                                    "Codigo HGA": "WST-425",
                                    "Cota NA (m)": "1231,2",
                                    "Cota Topo (m)": "1271,5",
                                    "Data": "2023-05-23 00:00:00.000",
                                    "Profundidade (m)": "40,3"
                                },
                                {
                                    "Codigo HGA": "WST-426",
                                    "Cota NA (m)": "1159,9",
                                    "Cota Topo (m)": "1191,6",
                                    "Data": "2018-02-14 00:00:00.000",
                                    "Profundidade (m)": "31,7"
                                },
                                {
                                    "Codigo HGA": "WST-426",
                                    "Cota NA (m)": "1129,99",
                                    "Cota Topo (m)": "1191,6",
                                    "Data": "2018-04-14 00:00:00.000",
                                    "Profundidade (m)": "61,61"
                                },
                                {
                                    "Codigo HGA": "WST-426",
                                    "Cota NA (m)": "1123,02",
                                    "Cota Topo (m)": "1191,6",
                                    "Data": "2018-04-18 00:00:00.000",
                                    "Profundidade (m)": "68,58"
                                },
                                {
                                    "Codigo HGA": "WST-426",
                                    "Cota NA (m)": "1089,91",
                                    "Cota Topo (m)": "1191,6",
                                    "Data": "2018-05-18 00:00:00.000",
                                    "Profundidade (m)": "101,69"
                                },
                                {
                                    "Codigo HGA": "WST-426",
                                    "Cota NA (m)": "1113,09",
                                    "Cota Topo (m)": "1191,6",
                                    "Data": "2018-06-22 00:00:00.000",
                                    "Profundidade (m)": "78,51"
                                },
                                {
                                    "Codigo HGA": "WST-426",
                                    "Cota NA (m)": "1124,67",
                                    "Cota Topo (m)": "1191,6",
                                    "Data": "2018-07-30 00:00:00.000",
                                    "Profundidade (m)": "66,93"
                                },
                                {
                                    "Codigo HGA": "WST-426",
                                    "Cota NA (m)": "1072,72",
                                    "Cota Topo (m)": "1191,6",
                                    "Data": "2018-08-30 00:00:00.000",
                                    "Profundidade (m)": "118,88"
                                },
                                {
                                    "Codigo HGA": "WST-426",
                                    "Cota NA (m)": "1067,18",
                                    "Cota Topo (m)": "1191,6",
                                    "Data": "2018-09-26 00:00:00.000",
                                    "Profundidade (m)": "124,42"
                                },
                                {
                                    "Codigo HGA": "WST-426",
                                    "Cota NA (m)": "1062,6",
                                    "Cota Topo (m)": "1191,6",
                                    "Data": "2018-11-29 00:00:00.000",
                                    "Profundidade (m)": "129"
                                },
                                {
                                    "Codigo HGA": "WST-426",
                                    "Cota NA (m)": "1164,41",
                                    "Cota Topo (m)": "1191,6",
                                    "Data": "2018-12-28 00:00:00.000",
                                    "Profundidade (m)": "27,19"
                                },
                                {
                                    "Codigo HGA": "WST-426",
                                    "Cota NA (m)": "1164,54",
                                    "Cota Topo (m)": "1191,6",
                                    "Data": "2019-01-04 00:00:00.000",
                                    "Profundidade (m)": "27,06"
                                },
                                {
                                    "Codigo HGA": "WST-426",
                                    "Cota NA (m)": "1104,9",
                                    "Cota Topo (m)": "1191,6",
                                    "Data": "2019-01-30 00:00:00.000",
                                    "Profundidade (m)": "86,7"
                                },
                                {
                                    "Codigo HGA": "WST-426",
                                    "Cota NA (m)": "1164,3",
                                    "Cota Topo (m)": "1191,6",
                                    "Data": "2019-03-29 00:00:00.000",
                                    "Profundidade (m)": "27,3"
                                },
                                {
                                    "Codigo HGA": "WST-426",
                                    "Cota NA (m)": "1164,39",
                                    "Cota Topo (m)": "1191,6",
                                    "Data": "2019-04-03 00:00:00.000",
                                    "Profundidade (m)": "27,21"
                                },
                                {
                                    "Codigo HGA": "WST-426",
                                    "Cota NA (m)": "1130",
                                    "Cota Topo (m)": "1191,6",
                                    "Data": "2019-05-31 00:00:00.000",
                                    "Profundidade (m)": "61,6"
                                },
                                {
                                    "Codigo HGA": "WST-426",
                                    "Cota NA (m)": "1126,37",
                                    "Cota Topo (m)": "1191,6",
                                    "Data": "2019-06-26 00:00:00.000",
                                    "Profundidade (m)": "65,23"
                                },
                                {
                                    "Codigo HGA": "WST-426",
                                    "Cota NA (m)": "1089,1",
                                    "Cota Topo (m)": "1191,6",
                                    "Data": "2019-09-18 00:00:00.000",
                                    "Profundidade (m)": "102,5"
                                },
                                {
                                    "Codigo HGA": "WST-426",
                                    "Cota NA (m)": "1112,99",
                                    "Cota Topo (m)": "1191,6",
                                    "Data": "2021-11-15 00:00:00.000",
                                    "Profundidade (m)": "78,61"
                                },
                                {
                                    "Codigo HGA": "WST-426",
                                    "Cota NA (m)": "1112,99",
                                    "Cota Topo (m)": "1191,6",
                                    "Data": "2021-11-18 00:00:00.000",
                                    "Profundidade (m)": "78,61"
                                },
                                {
                                    "Codigo HGA": "WST-426",
                                    "Cota NA (m)": "1113,08",
                                    "Cota Topo (m)": "1191,6",
                                    "Data": "2021-11-23 00:00:00.000",
                                    "Profundidade (m)": "78,52"
                                },
                                {
                                    "Codigo HGA": "WST-426",
                                    "Cota NA (m)": "1110,49",
                                    "Cota Topo (m)": "1191,6",
                                    "Data": "2021-12-04 00:00:00.000",
                                    "Profundidade (m)": "81,11"
                                },
                                {
                                    "Codigo HGA": "WST-426",
                                    "Cota NA (m)": "1111,99",
                                    "Cota Topo (m)": "1191,6",
                                    "Data": "2021-12-07 00:00:00.000",
                                    "Profundidade (m)": "79,61"
                                },
                                {
                                    "Codigo HGA": "WST-426",
                                    "Cota NA (m)": "1111,41",
                                    "Cota Topo (m)": "1191,6",
                                    "Data": "2021-12-11 00:00:00.000",
                                    "Profundidade (m)": "80,19"
                                },
                                {
                                    "Codigo HGA": "WST-426",
                                    "Cota NA (m)": "1112,96",
                                    "Cota Topo (m)": "1191,6",
                                    "Data": "2021-12-14 00:00:00.000",
                                    "Profundidade (m)": "78,64"
                                },
                                {
                                    "Codigo HGA": "WST-426",
                                    "Cota NA (m)": "1110,05",
                                    "Cota Topo (m)": "1191,6",
                                    "Data": "2022-01-04 00:00:00.000",
                                    "Profundidade (m)": "81,55"
                                },
                                {
                                    "Codigo HGA": "WST-426",
                                    "Cota NA (m)": "1088,53",
                                    "Cota Topo (m)": "1191,6",
                                    "Data": "2022-02-03 00:00:00.000",
                                    "Profundidade (m)": "103,07"
                                },
                                {
                                    "Codigo HGA": "WST-426",
                                    "Cota NA (m)": "1081,37",
                                    "Cota Topo (m)": "1191,6",
                                    "Data": "2022-02-11 00:00:00.000",
                                    "Profundidade (m)": "110,23"
                                },
                                {
                                    "Codigo HGA": "WST-426",
                                    "Cota NA (m)": "1105,42",
                                    "Cota Topo (m)": "1191,6",
                                    "Data": "2022-02-17 00:00:00.000",
                                    "Profundidade (m)": "86,18"
                                },
                                {
                                    "Codigo HGA": "WST-426",
                                    "Cota NA (m)": "1106,04",
                                    "Cota Topo (m)": "1191,6",
                                    "Data": "2022-02-25 00:00:00.000",
                                    "Profundidade (m)": "85,56"
                                },
                                {
                                    "Codigo HGA": "WST-426",
                                    "Cota NA (m)": "1089,41",
                                    "Cota Topo (m)": "1191,6",
                                    "Data": "2022-03-04 00:00:00.000",
                                    "Profundidade (m)": "102,19"
                                },
                                {
                                    "Codigo HGA": "WST-426",
                                    "Cota NA (m)": "1084,68",
                                    "Cota Topo (m)": "1191,6",
                                    "Data": "2022-03-07 00:00:00.000",
                                    "Profundidade (m)": "106,92"
                                },
                                {
                                    "Codigo HGA": "WST-426",
                                    "Cota NA (m)": "1077,1",
                                    "Cota Topo (m)": "1191,6",
                                    "Data": "2022-03-17 00:00:00.000",
                                    "Profundidade (m)": "114,5"
                                },
                                {
                                    "Codigo HGA": "WST-426",
                                    "Cota NA (m)": "1075,34",
                                    "Cota Topo (m)": "1191,6",
                                    "Data": "2022-03-25 00:00:00.000",
                                    "Profundidade (m)": "116,26"
                                },
                                {
                                    "Codigo HGA": "WST-426",
                                    "Cota NA (m)": "1075,87",
                                    "Cota Topo (m)": "1191,6",
                                    "Data": "2022-04-05 00:00:00.000",
                                    "Profundidade (m)": "115,73"
                                },
                                {
                                    "Codigo HGA": "WST-426",
                                    "Cota NA (m)": "1076,18",
                                    "Cota Topo (m)": "1191,6",
                                    "Data": "2022-04-15 00:00:00.000",
                                    "Profundidade (m)": "115,42"
                                },
                                {
                                    "Codigo HGA": "WST-426",
                                    "Cota NA (m)": "1075,06",
                                    "Cota Topo (m)": "1191,6",
                                    "Data": "2022-04-19 00:00:00.000",
                                    "Profundidade (m)": "116,54"
                                },
                                {
                                    "Codigo HGA": "WST-426",
                                    "Cota NA (m)": "1074,77",
                                    "Cota Topo (m)": "1191,6",
                                    "Data": "2022-04-26 00:00:00.000",
                                    "Profundidade (m)": "116,83"
                                },
                                {
                                    "Codigo HGA": "WST-426",
                                    "Cota NA (m)": "1076,98",
                                    "Cota Topo (m)": "1191,6",
                                    "Data": "2022-05-26 00:00:00.000",
                                    "Profundidade (m)": "114,62"
                                },
                                {
                                    "Codigo HGA": "WST-426",
                                    "Cota NA (m)": "1068,63",
                                    "Cota Topo (m)": "1191,6",
                                    "Data": "2022-06-07 00:00:00.000",
                                    "Profundidade (m)": "122,97"
                                },
                                {
                                    "Codigo HGA": "WST-426",
                                    "Cota NA (m)": "1072,1",
                                    "Cota Topo (m)": "1191,6",
                                    "Data": "2022-06-17 00:00:00.000",
                                    "Profundidade (m)": "119,5"
                                },
                                {
                                    "Codigo HGA": "WST-426",
                                    "Cota NA (m)": "1069,97",
                                    "Cota Topo (m)": "1191,6",
                                    "Data": "2022-06-21 00:00:00.000",
                                    "Profundidade (m)": "121,63"
                                },
                                {
                                    "Codigo HGA": "WST-426",
                                    "Cota NA (m)": "1068,98",
                                    "Cota Topo (m)": "1191,6",
                                    "Data": "2022-07-01 00:00:00.000",
                                    "Profundidade (m)": "122,62"
                                },
                                {
                                    "Codigo HGA": "WST-426",
                                    "Cota NA (m)": "1069,41",
                                    "Cota Topo (m)": "1191,6",
                                    "Data": "2022-07-05 00:00:00.000",
                                    "Profundidade (m)": "122,19"
                                },
                                {
                                    "Codigo HGA": "WST-426",
                                    "Cota NA (m)": "1069,1",
                                    "Cota Topo (m)": "1191,6",
                                    "Data": "2022-07-22 00:00:00.000",
                                    "Profundidade (m)": "122,5"
                                },
                                {
                                    "Codigo HGA": "WST-426",
                                    "Cota NA (m)": "1069,4",
                                    "Cota Topo (m)": "1191,6",
                                    "Data": "2022-07-25 00:00:00.000",
                                    "Profundidade (m)": "122,2"
                                },
                                {
                                    "Codigo HGA": "WST-426",
                                    "Cota NA (m)": "1068,03",
                                    "Cota Topo (m)": "1191,6",
                                    "Data": "2022-08-03 00:00:00.000",
                                    "Profundidade (m)": "123,57"
                                },
                                {
                                    "Codigo HGA": "WST-426",
                                    "Cota NA (m)": "1090,33",
                                    "Cota Topo (m)": "1191,6",
                                    "Data": "2022-08-08 00:00:00.000",
                                    "Profundidade (m)": "101,27"
                                },
                                {
                                    "Codigo HGA": "WST-426",
                                    "Cota NA (m)": "1090,84",
                                    "Cota Topo (m)": "1191,6",
                                    "Data": "2022-08-16 00:00:00.000",
                                    "Profundidade (m)": "100,76"
                                },
                                {
                                    "Codigo HGA": "WST-426",
                                    "Cota NA (m)": "1091,77",
                                    "Cota Topo (m)": "1191,6",
                                    "Data": "2022-08-23 00:00:00.000",
                                    "Profundidade (m)": "99,83"
                                },
                                {
                                    "Codigo HGA": "WST-426",
                                    "Cota NA (m)": "1092,51",
                                    "Cota Topo (m)": "1191,6",
                                    "Data": "2022-09-02 00:00:00.000",
                                    "Profundidade (m)": "99,09"
                                },
                                {
                                    "Codigo HGA": "WST-426",
                                    "Cota NA (m)": "1091,81",
                                    "Cota Topo (m)": "1191,6",
                                    "Data": "2022-09-20 00:00:00.000",
                                    "Profundidade (m)": "99,79"
                                },
                                {
                                    "Codigo HGA": "WST-426",
                                    "Cota NA (m)": "1081,36",
                                    "Cota Topo (m)": "1191,6",
                                    "Data": "2022-09-28 00:00:00.000",
                                    "Profundidade (m)": "110,24"
                                },
                                {
                                    "Codigo HGA": "WST-426",
                                    "Cota NA (m)": "1098,69",
                                    "Cota Topo (m)": "1191,6",
                                    "Data": "2022-10-05 00:00:00.000",
                                    "Profundidade (m)": "92,91"
                                },
                                {
                                    "Codigo HGA": "WST-426",
                                    "Cota NA (m)": "1092,98",
                                    "Cota Topo (m)": "1191,6",
                                    "Data": "2022-10-24 00:00:00.000",
                                    "Profundidade (m)": "98,62"
                                },
                                {
                                    "Codigo HGA": "WST-426",
                                    "Cota NA (m)": "1070,62",
                                    "Cota Topo (m)": "1191,6",
                                    "Data": "2022-11-01 00:00:00.000",
                                    "Profundidade (m)": "120,98"
                                },
                                {
                                    "Codigo HGA": "WST-426",
                                    "Cota NA (m)": "1095,28",
                                    "Cota Topo (m)": "1191,6",
                                    "Data": "2022-11-08 00:00:00.000",
                                    "Profundidade (m)": "96,32"
                                },
                                {
                                    "Codigo HGA": "WST-426",
                                    "Cota NA (m)": "1071,61",
                                    "Cota Topo (m)": "1191,6",
                                    "Data": "2022-11-16 00:00:00.000",
                                    "Profundidade (m)": "119,99"
                                },
                                {
                                    "Codigo HGA": "WST-426",
                                    "Cota NA (m)": "1072,22",
                                    "Cota Topo (m)": "1191,6",
                                    "Data": "2022-11-24 00:00:00.000",
                                    "Profundidade (m)": "119,38"
                                },
                                {
                                    "Codigo HGA": "WST-426",
                                    "Cota NA (m)": "1076,97",
                                    "Cota Topo (m)": "1191,6",
                                    "Data": "2022-11-30 00:00:00.000",
                                    "Profundidade (m)": "114,63"
                                },
                                {
                                    "Codigo HGA": "WST-426",
                                    "Cota NA (m)": "1155,76",
                                    "Cota Topo (m)": "1191,6",
                                    "Data": "2023-02-06 00:00:00.000",
                                    "Profundidade (m)": "35,84"
                                },
                                {
                                    "Codigo HGA": "WST-426",
                                    "Cota NA (m)": "1101,44",
                                    "Cota Topo (m)": "1191,6",
                                    "Data": "2023-02-15 00:00:00.000",
                                    "Profundidade (m)": "90,16"
                                },
                                {
                                    "Codigo HGA": "WST-426",
                                    "Cota NA (m)": "1097,64",
                                    "Cota Topo (m)": "1191,6",
                                    "Data": "2023-02-24 00:00:00.000",
                                    "Profundidade (m)": "93,96"
                                },
                                {
                                    "Codigo HGA": "WST-426",
                                    "Cota NA (m)": "1099,84",
                                    "Cota Topo (m)": "1191,6",
                                    "Data": "2023-02-27 00:00:00.000",
                                    "Profundidade (m)": "91,76"
                                },
                                {
                                    "Codigo HGA": "WST-426",
                                    "Cota NA (m)": "1087,63",
                                    "Cota Topo (m)": "1191,6",
                                    "Data": "2023-03-06 00:00:00.000",
                                    "Profundidade (m)": "103,97"
                                },
                                {
                                    "Codigo HGA": "WST-426",
                                    "Cota NA (m)": "1084,57",
                                    "Cota Topo (m)": "1191,6",
                                    "Data": "2023-03-23 00:00:00.000",
                                    "Profundidade (m)": "107,03"
                                },
                                {
                                    "Codigo HGA": "WST-426",
                                    "Cota NA (m)": "1137,44",
                                    "Cota Topo (m)": "1191,6",
                                    "Data": "2023-03-31 00:00:00.000",
                                    "Profundidade (m)": "54,16"
                                },
                                {
                                    "Codigo HGA": "WST-426",
                                    "Cota NA (m)": "1160,38",
                                    "Cota Topo (m)": "1191,6",
                                    "Data": "2023-04-12 00:00:00.000",
                                    "Profundidade (m)": "31,22"
                                },
                                {
                                    "Codigo HGA": "WST-426",
                                    "Cota NA (m)": "1091,81",
                                    "Cota Topo (m)": "1191,6",
                                    "Data": "2023-04-27 00:00:00.000",
                                    "Profundidade (m)": "99,79"
                                },
                                {
                                    "Codigo HGA": "WST-426",
                                    "Cota NA (m)": "1092,57",
                                    "Cota Topo (m)": "1191,6",
                                    "Data": "2023-05-03 00:00:00.000",
                                    "Profundidade (m)": "99,03"
                                },
                                {
                                    "Codigo HGA": "WST-426",
                                    "Cota NA (m)": "1094,88",
                                    "Cota Topo (m)": "1191,6",
                                    "Data": "2023-05-09 00:00:00.000",
                                    "Profundidade (m)": "96,72"
                                },
                                {
                                    "Codigo HGA": "WST-426",
                                    "Cota NA (m)": "1128,95",
                                    "Cota Topo (m)": "1191,6",
                                    "Data": "2023-05-23 00:00:00.000",
                                    "Profundidade (m)": "62,65"
                                },
                                {
                                    "Codigo HGA": "WST-426",
                                    "Cota NA (m)": "1099,07",
                                    "Cota Topo (m)": "1191,6",
                                    "Data": "2023-06-02 00:00:00.000",
                                    "Profundidade (m)": "92,53"
                                },
                                {
                                    "Codigo HGA": "WST-427",
                                    "Cota NA (m)": "1179,09",
                                    "Cota Topo (m)": "1220,7",
                                    "Data": "2018-05-18 00:00:00.000",
                                    "Profundidade (m)": "41,61"
                                },
                                {
                                    "Codigo HGA": "WST-427",
                                    "Cota NA (m)": "1122,73",
                                    "Cota Topo (m)": "1220,7",
                                    "Data": "2018-06-22 00:00:00.000",
                                    "Profundidade (m)": "97,97"
                                },
                                {
                                    "Codigo HGA": "WST-427",
                                    "Cota NA (m)": "1114,3",
                                    "Cota Topo (m)": "1220,7",
                                    "Data": "2018-07-30 00:00:00.000",
                                    "Profundidade (m)": "106,4"
                                },
                                {
                                    "Codigo HGA": "WST-427",
                                    "Cota NA (m)": "1078,75",
                                    "Cota Topo (m)": "1220,7",
                                    "Data": "2018-08-30 00:00:00.000",
                                    "Profundidade (m)": "141,95"
                                },
                                {
                                    "Codigo HGA": "WST-427",
                                    "Cota NA (m)": "1086,4",
                                    "Cota Topo (m)": "1220,7",
                                    "Data": "2018-09-26 00:00:00.000",
                                    "Profundidade (m)": "134,3"
                                },
                                {
                                    "Codigo HGA": "WST-427",
                                    "Cota NA (m)": "1176,37",
                                    "Cota Topo (m)": "1220,7",
                                    "Data": "2019-01-30 00:00:00.000",
                                    "Profundidade (m)": "44,33"
                                },
                                {
                                    "Codigo HGA": "WST-427",
                                    "Cota NA (m)": "1072,28",
                                    "Cota Topo (m)": "1220,7",
                                    "Data": "2019-05-31 00:00:00.000",
                                    "Profundidade (m)": "148,42"
                                },
                                {
                                    "Codigo HGA": "WST-427",
                                    "Cota NA (m)": "1072,7",
                                    "Cota Topo (m)": "1220,7",
                                    "Data": "2019-06-26 00:00:00.000",
                                    "Profundidade (m)": "148"
                                },
                                {
                                    "Codigo HGA": "WST-427",
                                    "Cota NA (m)": "1092,6",
                                    "Cota Topo (m)": "1220,7",
                                    "Data": "2019-09-18 00:00:00.000",
                                    "Profundidade (m)": "128,1"
                                },
                                {
                                    "Codigo HGA": "WST-427",
                                    "Cota NA (m)": "1152,9",
                                    "Cota Topo (m)": "1220,7",
                                    "Data": "2019-10-18 00:00:00.000",
                                    "Profundidade (m)": "67,8"
                                },
                                {
                                    "Codigo HGA": "WST-427",
                                    "Cota NA (m)": "1075,6",
                                    "Cota Topo (m)": "1220,7",
                                    "Data": "2020-02-05 00:00:00.000",
                                    "Profundidade (m)": "145,1"
                                },
                                {
                                    "Codigo HGA": "WST-427",
                                    "Cota NA (m)": "1085,91",
                                    "Cota Topo (m)": "1220,7",
                                    "Data": "2020-02-08 00:00:00.000",
                                    "Profundidade (m)": "134,79"
                                },
                                {
                                    "Codigo HGA": "WST-427",
                                    "Cota NA (m)": "1074,36",
                                    "Cota Topo (m)": "1220,7",
                                    "Data": "2020-02-10 00:00:00.000",
                                    "Profundidade (m)": "146,34"
                                },
                                {
                                    "Codigo HGA": "WST-427",
                                    "Cota NA (m)": "1065,44",
                                    "Cota Topo (m)": "1220,7",
                                    "Data": "2020-02-12 00:00:00.000",
                                    "Profundidade (m)": "155,26"
                                },
                                {
                                    "Codigo HGA": "WST-427",
                                    "Cota NA (m)": "1085,9",
                                    "Cota Topo (m)": "1220,7",
                                    "Data": "2020-03-01 00:00:00.000",
                                    "Profundidade (m)": "134,8"
                                },
                                {
                                    "Codigo HGA": "WST-427",
                                    "Cota NA (m)": "1080,77",
                                    "Cota Topo (m)": "1220,7",
                                    "Data": "2020-03-07 00:00:00.000",
                                    "Profundidade (m)": "139,93"
                                },
                                {
                                    "Codigo HGA": "WST-427",
                                    "Cota NA (m)": "1062,3",
                                    "Cota Topo (m)": "1220,7",
                                    "Data": "2020-03-14 00:00:00.000",
                                    "Profundidade (m)": "158,4"
                                },
                                {
                                    "Codigo HGA": "WST-427",
                                    "Cota NA (m)": "1065,93",
                                    "Cota Topo (m)": "1220,7",
                                    "Data": "2020-03-16 00:00:00.000",
                                    "Profundidade (m)": "154,77"
                                },
                                {
                                    "Codigo HGA": "WST-427",
                                    "Cota NA (m)": "1061,36",
                                    "Cota Topo (m)": "1220,7",
                                    "Data": "2020-03-22 00:00:00.000",
                                    "Profundidade (m)": "159,34"
                                },
                                {
                                    "Codigo HGA": "WST-427",
                                    "Cota NA (m)": "1060,93",
                                    "Cota Topo (m)": "1220,7",
                                    "Data": "2020-03-25 00:00:00.000",
                                    "Profundidade (m)": "159,77"
                                },
                                {
                                    "Codigo HGA": "WST-427",
                                    "Cota NA (m)": "1058,97",
                                    "Cota Topo (m)": "1220,7",
                                    "Data": "2020-03-26 00:00:00.000",
                                    "Profundidade (m)": "161,73"
                                },
                                {
                                    "Codigo HGA": "WST-427",
                                    "Cota NA (m)": "1060,32",
                                    "Cota Topo (m)": "1220,7",
                                    "Data": "2020-04-01 00:00:00.000",
                                    "Profundidade (m)": "160,38"
                                },
                                {
                                    "Codigo HGA": "WST-427",
                                    "Cota NA (m)": "1060,52",
                                    "Cota Topo (m)": "1220,7",
                                    "Data": "2020-04-04 00:00:00.000",
                                    "Profundidade (m)": "160,18"
                                },
                                {
                                    "Codigo HGA": "WST-427",
                                    "Cota NA (m)": "1060,75",
                                    "Cota Topo (m)": "1220,7",
                                    "Data": "2020-04-06 00:00:00.000",
                                    "Profundidade (m)": "159,95"
                                },
                                {
                                    "Codigo HGA": "WST-427",
                                    "Cota NA (m)": "1056,8",
                                    "Cota Topo (m)": "1220,7",
                                    "Data": "2020-04-08 00:00:00.000",
                                    "Profundidade (m)": "163,9"
                                },
                                {
                                    "Codigo HGA": "WST-427",
                                    "Cota NA (m)": "1089,13",
                                    "Cota Topo (m)": "1220,7",
                                    "Data": "2020-04-11 00:00:00.000",
                                    "Profundidade (m)": "131,57"
                                },
                                {
                                    "Codigo HGA": "WST-427",
                                    "Cota NA (m)": "1062,14",
                                    "Cota Topo (m)": "1220,7",
                                    "Data": "2020-04-18 00:00:00.000",
                                    "Profundidade (m)": "158,56"
                                },
                                {
                                    "Codigo HGA": "WST-427",
                                    "Cota NA (m)": "1060,37",
                                    "Cota Topo (m)": "1220,7",
                                    "Data": "2020-04-22 00:00:00.000",
                                    "Profundidade (m)": "160,33"
                                },
                                {
                                    "Codigo HGA": "WST-427",
                                    "Cota NA (m)": "1056,15",
                                    "Cota Topo (m)": "1220,7",
                                    "Data": "2020-04-29 00:00:00.000",
                                    "Profundidade (m)": "164,55"
                                },
                                {
                                    "Codigo HGA": "WST-427",
                                    "Cota NA (m)": "1053,7",
                                    "Cota Topo (m)": "1220,7",
                                    "Data": "2020-05-04 00:00:00.000",
                                    "Profundidade (m)": "167"
                                },
                                {
                                    "Codigo HGA": "WST-427",
                                    "Cota NA (m)": "1055,32",
                                    "Cota Topo (m)": "1220,7",
                                    "Data": "2020-05-06 00:00:00.000",
                                    "Profundidade (m)": "165,38"
                                },
                                {
                                    "Codigo HGA": "WST-427",
                                    "Cota NA (m)": "1061,27",
                                    "Cota Topo (m)": "1220,7",
                                    "Data": "2020-05-10 00:00:00.000",
                                    "Profundidade (m)": "159,43"
                                },
                                {
                                    "Codigo HGA": "WST-427",
                                    "Cota NA (m)": "1056,3",
                                    "Cota Topo (m)": "1220,7",
                                    "Data": "2020-05-13 00:00:00.000",
                                    "Profundidade (m)": "164,4"
                                },
                                {
                                    "Codigo HGA": "WST-427",
                                    "Cota NA (m)": "1058,1",
                                    "Cota Topo (m)": "1220,7",
                                    "Data": "2020-05-16 00:00:00.000",
                                    "Profundidade (m)": "162,6"
                                },
                                {
                                    "Codigo HGA": "WST-427",
                                    "Cota NA (m)": "1149,75",
                                    "Cota Topo (m)": "1220,7",
                                    "Data": "2020-05-20 00:00:00.000",
                                    "Profundidade (m)": "70,95"
                                },
                                {
                                    "Codigo HGA": "WST-427",
                                    "Cota NA (m)": "1073,36",
                                    "Cota Topo (m)": "1220,7",
                                    "Data": "2020-06-01 00:00:00.000",
                                    "Profundidade (m)": "147,34"
                                },
                                {
                                    "Codigo HGA": "WST-427",
                                    "Cota NA (m)": "1069,17",
                                    "Cota Topo (m)": "1220,7",
                                    "Data": "2020-06-06 00:00:00.000",
                                    "Profundidade (m)": "151,53"
                                },
                                {
                                    "Codigo HGA": "WST-427",
                                    "Cota NA (m)": "1068,58",
                                    "Cota Topo (m)": "1220,7",
                                    "Data": "2020-06-08 00:00:00.000",
                                    "Profundidade (m)": "152,12"
                                },
                                {
                                    "Codigo HGA": "WST-427",
                                    "Cota NA (m)": "1056",
                                    "Cota Topo (m)": "1220,7",
                                    "Data": "2020-06-10 00:00:00.000",
                                    "Profundidade (m)": "164,7"
                                },
                                {
                                    "Codigo HGA": "WST-427",
                                    "Cota NA (m)": "1067,1",
                                    "Cota Topo (m)": "1220,7",
                                    "Data": "2020-06-15 00:00:00.000",
                                    "Profundidade (m)": "153,6"
                                },
                                {
                                    "Codigo HGA": "WST-427",
                                    "Cota NA (m)": "1054,4",
                                    "Cota Topo (m)": "1220,7",
                                    "Data": "2020-06-18 00:00:00.000",
                                    "Profundidade (m)": "166,3"
                                },
                                {
                                    "Codigo HGA": "WST-427",
                                    "Cota NA (m)": "1069,92",
                                    "Cota Topo (m)": "1220,7",
                                    "Data": "2020-07-01 00:00:00.000",
                                    "Profundidade (m)": "150,78"
                                },
                                {
                                    "Codigo HGA": "WST-427",
                                    "Cota NA (m)": "1060,8",
                                    "Cota Topo (m)": "1220,7",
                                    "Data": "2020-07-04 00:00:00.000",
                                    "Profundidade (m)": "159,9"
                                },
                                {
                                    "Codigo HGA": "WST-427",
                                    "Cota NA (m)": "1145,72",
                                    "Cota Topo (m)": "1220,7",
                                    "Data": "2020-07-15 00:00:00.000",
                                    "Profundidade (m)": "74,98"
                                },
                                {
                                    "Codigo HGA": "WST-427",
                                    "Cota NA (m)": "1146,5",
                                    "Cota Topo (m)": "1220,7",
                                    "Data": "2020-07-19 00:00:00.000",
                                    "Profundidade (m)": "74,2"
                                },
                                {
                                    "Codigo HGA": "WST-427",
                                    "Cota NA (m)": "1060,27",
                                    "Cota Topo (m)": "1220,7",
                                    "Data": "2020-07-26 00:00:00.000",
                                    "Profundidade (m)": "160,43"
                                },
                                {
                                    "Codigo HGA": "WST-427",
                                    "Cota NA (m)": "1060,15",
                                    "Cota Topo (m)": "1220,7",
                                    "Data": "2020-07-27 00:00:00.000",
                                    "Profundidade (m)": "160,55"
                                },
                                {
                                    "Codigo HGA": "WST-427",
                                    "Cota NA (m)": "1058,6",
                                    "Cota Topo (m)": "1220,7",
                                    "Data": "2020-08-01 00:00:00.000",
                                    "Profundidade (m)": "162,1"
                                },
                                {
                                    "Codigo HGA": "WST-427",
                                    "Cota NA (m)": "1057,8",
                                    "Cota Topo (m)": "1220,7",
                                    "Data": "2020-08-03 00:00:00.000",
                                    "Profundidade (m)": "162,9"
                                },
                                {
                                    "Codigo HGA": "WST-427",
                                    "Cota NA (m)": "1060,13",
                                    "Cota Topo (m)": "1220,7",
                                    "Data": "2020-08-05 00:00:00.000",
                                    "Profundidade (m)": "160,57"
                                },
                                {
                                    "Codigo HGA": "WST-427",
                                    "Cota NA (m)": "1053,95",
                                    "Cota Topo (m)": "1220,7",
                                    "Data": "2020-08-09 00:00:00.000",
                                    "Profundidade (m)": "166,75"
                                },
                                {
                                    "Codigo HGA": "WST-427",
                                    "Cota NA (m)": "1075,54",
                                    "Cota Topo (m)": "1220,7",
                                    "Data": "2020-08-12 00:00:00.000",
                                    "Profundidade (m)": "145,16"
                                },
                                {
                                    "Codigo HGA": "WST-427",
                                    "Cota NA (m)": "1058,75",
                                    "Cota Topo (m)": "1220,7",
                                    "Data": "2020-08-15 00:00:00.000",
                                    "Profundidade (m)": "161,95"
                                },
                                {
                                    "Codigo HGA": "WST-427",
                                    "Cota NA (m)": "1059,31",
                                    "Cota Topo (m)": "1220,7",
                                    "Data": "2020-08-17 00:00:00.000",
                                    "Profundidade (m)": "161,39"
                                },
                                {
                                    "Codigo HGA": "WST-427",
                                    "Cota NA (m)": "1059,38",
                                    "Cota Topo (m)": "1220,7",
                                    "Data": "2020-08-23 00:00:00.000",
                                    "Profundidade (m)": "161,32"
                                },
                                {
                                    "Codigo HGA": "WST-427",
                                    "Cota NA (m)": "1084,14",
                                    "Cota Topo (m)": "1220,7",
                                    "Data": "2021-11-15 00:00:00.000",
                                    "Profundidade (m)": "136,56"
                                },
                                {
                                    "Codigo HGA": "WST-427",
                                    "Cota NA (m)": "1094,06",
                                    "Cota Topo (m)": "1220,7",
                                    "Data": "2021-11-18 00:00:00.000",
                                    "Profundidade (m)": "126,64"
                                },
                                {
                                    "Codigo HGA": "WST-427",
                                    "Cota NA (m)": "1094,29",
                                    "Cota Topo (m)": "1220,7",
                                    "Data": "2021-11-23 00:00:00.000",
                                    "Profundidade (m)": "126,41"
                                },
                                {
                                    "Codigo HGA": "WST-427",
                                    "Cota NA (m)": "1071,6",
                                    "Cota Topo (m)": "1220,7",
                                    "Data": "2021-12-04 00:00:00.000",
                                    "Profundidade (m)": "149,1"
                                },
                                {
                                    "Codigo HGA": "WST-427",
                                    "Cota NA (m)": "1074,66",
                                    "Cota Topo (m)": "1220,7",
                                    "Data": "2021-12-07 00:00:00.000",
                                    "Profundidade (m)": "146,04"
                                },
                                {
                                    "Codigo HGA": "WST-427",
                                    "Cota NA (m)": "1069,39",
                                    "Cota Topo (m)": "1220,7",
                                    "Data": "2021-12-11 00:00:00.000",
                                    "Profundidade (m)": "151,31"
                                },
                                {
                                    "Codigo HGA": "WST-427",
                                    "Cota NA (m)": "1072,61",
                                    "Cota Topo (m)": "1220,7",
                                    "Data": "2021-12-14 00:00:00.000",
                                    "Profundidade (m)": "148,09"
                                },
                                {
                                    "Codigo HGA": "WST-427",
                                    "Cota NA (m)": "1070,58",
                                    "Cota Topo (m)": "1220,7",
                                    "Data": "2022-01-04 00:00:00.000",
                                    "Profundidade (m)": "150,12"
                                },
                                {
                                    "Codigo HGA": "WST-427",
                                    "Cota NA (m)": "1170,51",
                                    "Cota Topo (m)": "1220,7",
                                    "Data": "2022-02-03 00:00:00.000",
                                    "Profundidade (m)": "50,19"
                                },
                                {
                                    "Codigo HGA": "WST-427",
                                    "Cota NA (m)": "1163,65",
                                    "Cota Topo (m)": "1220,7",
                                    "Data": "2022-02-11 00:00:00.000",
                                    "Profundidade (m)": "57,05"
                                },
                                {
                                    "Codigo HGA": "WST-427",
                                    "Cota NA (m)": "1161,2",
                                    "Cota Topo (m)": "1220,7",
                                    "Data": "2022-02-17 00:00:00.000",
                                    "Profundidade (m)": "59,5"
                                },
                                {
                                    "Codigo HGA": "WST-427",
                                    "Cota NA (m)": "1159,58",
                                    "Cota Topo (m)": "1220,7",
                                    "Data": "2022-02-25 00:00:00.000",
                                    "Profundidade (m)": "61,12"
                                },
                                {
                                    "Codigo HGA": "WST-427",
                                    "Cota NA (m)": "1158,13",
                                    "Cota Topo (m)": "1220,7",
                                    "Data": "2022-03-04 00:00:00.000",
                                    "Profundidade (m)": "62,57"
                                },
                                {
                                    "Codigo HGA": "WST-427",
                                    "Cota NA (m)": "1159,91",
                                    "Cota Topo (m)": "1220,7",
                                    "Data": "2022-03-07 00:00:00.000",
                                    "Profundidade (m)": "60,79"
                                },
                                {
                                    "Codigo HGA": "WST-427",
                                    "Cota NA (m)": "1153,3",
                                    "Cota Topo (m)": "1220,7",
                                    "Data": "2022-03-17 00:00:00.000",
                                    "Profundidade (m)": "67,4"
                                },
                                {
                                    "Codigo HGA": "WST-427",
                                    "Cota NA (m)": "1165,51",
                                    "Cota Topo (m)": "1220,7",
                                    "Data": "2022-03-29 00:00:00.000",
                                    "Profundidade (m)": "55,19"
                                },
                                {
                                    "Codigo HGA": "WST-427",
                                    "Cota NA (m)": "1168,48",
                                    "Cota Topo (m)": "1220,7",
                                    "Data": "2022-04-05 00:00:00.000",
                                    "Profundidade (m)": "52,22"
                                },
                                {
                                    "Codigo HGA": "WST-427",
                                    "Cota NA (m)": "1137,3",
                                    "Cota Topo (m)": "1220,7",
                                    "Data": "2022-04-15 00:00:00.000",
                                    "Profundidade (m)": "83,4"
                                },
                                {
                                    "Codigo HGA": "WST-427",
                                    "Cota NA (m)": "1136,21",
                                    "Cota Topo (m)": "1220,7",
                                    "Data": "2022-04-19 00:00:00.000",
                                    "Profundidade (m)": "84,49"
                                },
                                {
                                    "Codigo HGA": "WST-427",
                                    "Cota NA (m)": "1172,54",
                                    "Cota Topo (m)": "1220,7",
                                    "Data": "2022-04-27 00:00:00.000",
                                    "Profundidade (m)": "48,16"
                                },
                                {
                                    "Codigo HGA": "WST-427",
                                    "Cota NA (m)": "1136,2",
                                    "Cota Topo (m)": "1220,7",
                                    "Data": "2022-05-05 00:00:00.000",
                                    "Profundidade (m)": "84,5"
                                },
                                {
                                    "Codigo HGA": "WST-427",
                                    "Cota NA (m)": "1172,24",
                                    "Cota Topo (m)": "1220,7",
                                    "Data": "2022-05-13 00:00:00.000",
                                    "Profundidade (m)": "48,46"
                                },
                                {
                                    "Codigo HGA": "WST-427",
                                    "Cota NA (m)": "1114,39",
                                    "Cota Topo (m)": "1220,7",
                                    "Data": "2022-06-17 00:00:00.000",
                                    "Profundidade (m)": "106,31"
                                },
                                {
                                    "Codigo HGA": "WST-427",
                                    "Cota NA (m)": "1114,39",
                                    "Cota Topo (m)": "1220,7",
                                    "Data": "2022-06-22 00:00:00.000",
                                    "Profundidade (m)": "106,31"
                                },
                                {
                                    "Codigo HGA": "WST-427",
                                    "Cota NA (m)": "1110,29",
                                    "Cota Topo (m)": "1220,7",
                                    "Data": "2022-07-01 00:00:00.000",
                                    "Profundidade (m)": "110,41"
                                },
                                {
                                    "Codigo HGA": "WST-427",
                                    "Cota NA (m)": "1110,29",
                                    "Cota Topo (m)": "1220,7",
                                    "Data": "2022-07-05 00:00:00.000",
                                    "Profundidade (m)": "110,41"
                                },
                                {
                                    "Codigo HGA": "WST-427",
                                    "Cota NA (m)": "1111,63",
                                    "Cota Topo (m)": "1220,7",
                                    "Data": "2022-07-14 00:00:00.000",
                                    "Profundidade (m)": "109,07"
                                },
                                {
                                    "Codigo HGA": "WST-427",
                                    "Cota NA (m)": "1111,58",
                                    "Cota Topo (m)": "1220,7",
                                    "Data": "2022-08-03 00:00:00.000",
                                    "Profundidade (m)": "109,12"
                                },
                                {
                                    "Codigo HGA": "WST-427",
                                    "Cota NA (m)": "1110,37",
                                    "Cota Topo (m)": "1220,7",
                                    "Data": "2022-08-08 00:00:00.000",
                                    "Profundidade (m)": "110,33"
                                },
                                {
                                    "Codigo HGA": "WST-427",
                                    "Cota NA (m)": "1106,75",
                                    "Cota Topo (m)": "1220,7",
                                    "Data": "2022-08-16 00:00:00.000",
                                    "Profundidade (m)": "113,95"
                                },
                                {
                                    "Codigo HGA": "WST-427",
                                    "Cota NA (m)": "1105,17",
                                    "Cota Topo (m)": "1220,7",
                                    "Data": "2022-08-23 00:00:00.000",
                                    "Profundidade (m)": "115,53"
                                },
                                {
                                    "Codigo HGA": "WST-427",
                                    "Cota NA (m)": "1101,94",
                                    "Cota Topo (m)": "1220,7",
                                    "Data": "2022-09-02 00:00:00.000",
                                    "Profundidade (m)": "118,76"
                                },
                                {
                                    "Codigo HGA": "WST-427",
                                    "Cota NA (m)": "1101,55",
                                    "Cota Topo (m)": "1220,7",
                                    "Data": "2022-09-09 00:00:00.000",
                                    "Profundidade (m)": "119,15"
                                },
                                {
                                    "Codigo HGA": "WST-427",
                                    "Cota NA (m)": "1100,49",
                                    "Cota Topo (m)": "1220,7",
                                    "Data": "2022-09-14 00:00:00.000",
                                    "Profundidade (m)": "120,21"
                                },
                                {
                                    "Codigo HGA": "WST-427",
                                    "Cota NA (m)": "1102,57",
                                    "Cota Topo (m)": "1220,7",
                                    "Data": "2022-09-20 00:00:00.000",
                                    "Profundidade (m)": "118,13"
                                },
                                {
                                    "Codigo HGA": "WST-427",
                                    "Cota NA (m)": "1106,64",
                                    "Cota Topo (m)": "1220,7",
                                    "Data": "2022-10-01 00:00:00.000",
                                    "Profundidade (m)": "114,06"
                                },
                                {
                                    "Codigo HGA": "WST-427",
                                    "Cota NA (m)": "1119,16",
                                    "Cota Topo (m)": "1220,7",
                                    "Data": "2022-10-14 00:00:00.000",
                                    "Profundidade (m)": "101,54"
                                },
                                {
                                    "Codigo HGA": "WST-427",
                                    "Cota NA (m)": "1117,4",
                                    "Cota Topo (m)": "1220,7",
                                    "Data": "2022-10-19 00:00:00.000",
                                    "Profundidade (m)": "103,3"
                                },
                                {
                                    "Codigo HGA": "WST-427",
                                    "Cota NA (m)": "1115,7",
                                    "Cota Topo (m)": "1220,7",
                                    "Data": "2022-10-24 00:00:00.000",
                                    "Profundidade (m)": "105"
                                },
                                {
                                    "Codigo HGA": "WST-427",
                                    "Cota NA (m)": "1120,77",
                                    "Cota Topo (m)": "1220,7",
                                    "Data": "2022-11-01 00:00:00.000",
                                    "Profundidade (m)": "99,93"
                                },
                                {
                                    "Codigo HGA": "WST-427",
                                    "Cota NA (m)": "1118,03",
                                    "Cota Topo (m)": "1220,7",
                                    "Data": "2022-11-08 00:00:00.000",
                                    "Profundidade (m)": "102,67"
                                },
                                {
                                    "Codigo HGA": "WST-427",
                                    "Cota NA (m)": "1115,85",
                                    "Cota Topo (m)": "1220,7",
                                    "Data": "2022-11-16 00:00:00.000",
                                    "Profundidade (m)": "104,85"
                                },
                                {
                                    "Codigo HGA": "WST-427",
                                    "Cota NA (m)": "1113,45",
                                    "Cota Topo (m)": "1220,7",
                                    "Data": "2022-11-24 00:00:00.000",
                                    "Profundidade (m)": "107,25"
                                },
                                {
                                    "Codigo HGA": "WST-427",
                                    "Cota NA (m)": "1113,39",
                                    "Cota Topo (m)": "1220,7",
                                    "Data": "2022-12-02 00:00:00.000",
                                    "Profundidade (m)": "107,31"
                                },
                                {
                                    "Codigo HGA": "WST-427",
                                    "Cota NA (m)": "1110,85",
                                    "Cota Topo (m)": "1220,7",
                                    "Data": "2022-12-07 00:00:00.000",
                                    "Profundidade (m)": "109,85"
                                },
                                {
                                    "Codigo HGA": "WST-427",
                                    "Cota NA (m)": "1110,85",
                                    "Cota Topo (m)": "1220,7",
                                    "Data": "2022-12-14 00:00:00.000",
                                    "Profundidade (m)": "109,85"
                                },
                                {
                                    "Codigo HGA": "WST-427",
                                    "Cota NA (m)": "1177,8",
                                    "Cota Topo (m)": "1220,7",
                                    "Data": "2022-12-21 00:00:00.000",
                                    "Profundidade (m)": "42,9"
                                },
                                {
                                    "Codigo HGA": "WST-427",
                                    "Cota NA (m)": "1108,93",
                                    "Cota Topo (m)": "1220,7",
                                    "Data": "2022-12-26 00:00:00.000",
                                    "Profundidade (m)": "111,77"
                                },
                                {
                                    "Codigo HGA": "WST-427",
                                    "Cota NA (m)": "1111,83",
                                    "Cota Topo (m)": "1220,7",
                                    "Data": "2023-01-03 00:00:00.000",
                                    "Profundidade (m)": "108,87"
                                },
                                {
                                    "Codigo HGA": "WST-427",
                                    "Cota NA (m)": "1111,95",
                                    "Cota Topo (m)": "1220,7",
                                    "Data": "2023-01-11 00:00:00.000",
                                    "Profundidade (m)": "108,75"
                                },
                                {
                                    "Codigo HGA": "WST-427",
                                    "Cota NA (m)": "1112",
                                    "Cota Topo (m)": "1220,7",
                                    "Data": "2023-01-20 00:00:00.000",
                                    "Profundidade (m)": "108,7"
                                },
                                {
                                    "Codigo HGA": "WST-427",
                                    "Cota NA (m)": "1112,44",
                                    "Cota Topo (m)": "1220,7",
                                    "Data": "2023-02-03 00:00:00.000",
                                    "Profundidade (m)": "108,26"
                                },
                                {
                                    "Codigo HGA": "WST-427",
                                    "Cota NA (m)": "1112,25",
                                    "Cota Topo (m)": "1220,7",
                                    "Data": "2023-02-06 00:00:00.000",
                                    "Profundidade (m)": "108,45"
                                },
                                {
                                    "Codigo HGA": "WST-427",
                                    "Cota NA (m)": "1111,73",
                                    "Cota Topo (m)": "1220,7",
                                    "Data": "2023-02-15 00:00:00.000",
                                    "Profundidade (m)": "108,97"
                                },
                                {
                                    "Codigo HGA": "WST-427",
                                    "Cota NA (m)": "1164,86",
                                    "Cota Topo (m)": "1220,7",
                                    "Data": "2023-02-24 00:00:00.000",
                                    "Profundidade (m)": "55,84"
                                },
                                {
                                    "Codigo HGA": "WST-427",
                                    "Cota NA (m)": "1110,85",
                                    "Cota Topo (m)": "1220,7",
                                    "Data": "2023-03-07 00:00:00.000",
                                    "Profundidade (m)": "109,85"
                                },
                                {
                                    "Codigo HGA": "WST-427",
                                    "Cota NA (m)": "1116,44",
                                    "Cota Topo (m)": "1220,7",
                                    "Data": "2023-03-17 00:00:00.000",
                                    "Profundidade (m)": "104,26"
                                },
                                {
                                    "Codigo HGA": "WST-427",
                                    "Cota NA (m)": "1116,83",
                                    "Cota Topo (m)": "1220,7",
                                    "Data": "2023-03-23 00:00:00.000",
                                    "Profundidade (m)": "103,87"
                                },
                                {
                                    "Codigo HGA": "WST-427",
                                    "Cota NA (m)": "1117,38",
                                    "Cota Topo (m)": "1220,7",
                                    "Data": "2023-03-31 00:00:00.000",
                                    "Profundidade (m)": "103,32"
                                },
                                {
                                    "Codigo HGA": "WST-427",
                                    "Cota NA (m)": "1162,6",
                                    "Cota Topo (m)": "1220,7",
                                    "Data": "2023-04-05 00:00:00.000",
                                    "Profundidade (m)": "58,1"
                                },
                                {
                                    "Codigo HGA": "WST-427",
                                    "Cota NA (m)": "1160,47",
                                    "Cota Topo (m)": "1220,7",
                                    "Data": "2023-04-12 00:00:00.000",
                                    "Profundidade (m)": "60,23"
                                },
                                {
                                    "Codigo HGA": "WST-427",
                                    "Cota NA (m)": "1117,34",
                                    "Cota Topo (m)": "1220,7",
                                    "Data": "2023-04-28 00:00:00.000",
                                    "Profundidade (m)": "103,36"
                                },
                                {
                                    "Codigo HGA": "WST-427",
                                    "Cota NA (m)": "1117,34",
                                    "Cota Topo (m)": "1220,7",
                                    "Data": "2023-05-03 00:00:00.000",
                                    "Profundidade (m)": "103,36"
                                },
                                {
                                    "Codigo HGA": "WST-427",
                                    "Cota NA (m)": "1118,13",
                                    "Cota Topo (m)": "1220,7",
                                    "Data": "2023-05-09 00:00:00.000",
                                    "Profundidade (m)": "102,57"
                                },
                                {
                                    "Codigo HGA": "WST-427",
                                    "Cota NA (m)": "1154,69",
                                    "Cota Topo (m)": "1220,7",
                                    "Data": "2023-05-18 00:00:00.000",
                                    "Profundidade (m)": "66,01"
                                },
                                {
                                    "Codigo HGA": "WST-427",
                                    "Cota NA (m)": "1118,13",
                                    "Cota Topo (m)": "1220,7",
                                    "Data": "2023-05-23 00:00:00.000",
                                    "Profundidade (m)": "102,57"
                                },
                                {
                                    "Codigo HGA": "WST-427",
                                    "Cota NA (m)": "1117,84",
                                    "Cota Topo (m)": "1220,7",
                                    "Data": "2023-05-29 00:00:00.000",
                                    "Profundidade (m)": "102,86"
                                },
                                {
                                    "Codigo HGA": "WST-428",
                                    "Cota NA (m)": "1109,98",
                                    "Cota Topo (m)": "1171,7",
                                    "Data": "2020-06-18 00:00:00.000",
                                    "Profundidade (m)": "61,72"
                                },
                                {
                                    "Codigo HGA": "WST-428",
                                    "Cota NA (m)": "1005,4",
                                    "Cota Topo (m)": "1171,7",
                                    "Data": "2020-06-27 00:00:00.000",
                                    "Profundidade (m)": "166,3"
                                },
                                {
                                    "Codigo HGA": "WST-428",
                                    "Cota NA (m)": "1112,4",
                                    "Cota Topo (m)": "1171,7",
                                    "Data": "2020-07-01 00:00:00.000",
                                    "Profundidade (m)": "59,3"
                                },
                                {
                                    "Codigo HGA": "WST-428",
                                    "Cota NA (m)": "1121,6",
                                    "Cota Topo (m)": "1171,7",
                                    "Data": "2020-07-26 00:00:00.000",
                                    "Profundidade (m)": "50,1"
                                },
                                {
                                    "Codigo HGA": "WST-428",
                                    "Cota NA (m)": "1129,11",
                                    "Cota Topo (m)": "1171,7",
                                    "Data": "2020-07-27 00:00:00.000",
                                    "Profundidade (m)": "42,59"
                                },
                                {
                                    "Codigo HGA": "WST-428",
                                    "Cota NA (m)": "1125,15",
                                    "Cota Topo (m)": "1171,7",
                                    "Data": "2020-08-01 00:00:00.000",
                                    "Profundidade (m)": "46,55"
                                },
                                {
                                    "Codigo HGA": "WST-428",
                                    "Cota NA (m)": "1127,05",
                                    "Cota Topo (m)": "1171,7",
                                    "Data": "2020-08-03 00:00:00.000",
                                    "Profundidade (m)": "44,65"
                                },
                                {
                                    "Codigo HGA": "WST-428",
                                    "Cota NA (m)": "1123,07",
                                    "Cota Topo (m)": "1171,7",
                                    "Data": "2020-08-05 00:00:00.000",
                                    "Profundidade (m)": "48,63"
                                },
                                {
                                    "Codigo HGA": "WST-428",
                                    "Cota NA (m)": "1123,54",
                                    "Cota Topo (m)": "1171,7",
                                    "Data": "2020-08-09 00:00:00.000",
                                    "Profundidade (m)": "48,16"
                                },
                                {
                                    "Codigo HGA": "WST-428",
                                    "Cota NA (m)": "1122,59",
                                    "Cota Topo (m)": "1171,7",
                                    "Data": "2020-08-10 00:00:00.000",
                                    "Profundidade (m)": "49,11"
                                },
                                {
                                    "Codigo HGA": "WST-428",
                                    "Cota NA (m)": "1132,3",
                                    "Cota Topo (m)": "1171,7",
                                    "Data": "2020-08-12 00:00:00.000",
                                    "Profundidade (m)": "39,4"
                                },
                                {
                                    "Codigo HGA": "WST-428",
                                    "Cota NA (m)": "1125,53",
                                    "Cota Topo (m)": "1171,7",
                                    "Data": "2020-08-15 00:00:00.000",
                                    "Profundidade (m)": "46,17"
                                },
                                {
                                    "Codigo HGA": "WST-428",
                                    "Cota NA (m)": "1124,17",
                                    "Cota Topo (m)": "1171,7",
                                    "Data": "2020-08-17 00:00:00.000",
                                    "Profundidade (m)": "47,53"
                                },
                                {
                                    "Codigo HGA": "WST-428",
                                    "Cota NA (m)": "1107,85",
                                    "Cota Topo (m)": "1171,7",
                                    "Data": "2020-08-23 00:00:00.000",
                                    "Profundidade (m)": "63,85"
                                },
                                {
                                    "Codigo HGA": "WST-428",
                                    "Cota NA (m)": "1161,38",
                                    "Cota Topo (m)": "1171,7",
                                    "Data": "2021-02-25 00:00:00.000",
                                    "Profundidade (m)": "10,32"
                                },
                                {
                                    "Codigo HGA": "WST-428",
                                    "Cota NA (m)": "1162,74",
                                    "Cota Topo (m)": "1171,7",
                                    "Data": "2021-03-08 00:00:00.000",
                                    "Profundidade (m)": "8,96"
                                },
                                {
                                    "Codigo HGA": "WST-428",
                                    "Cota NA (m)": "1161,48",
                                    "Cota Topo (m)": "1171,7",
                                    "Data": "2021-12-25 00:00:00.000",
                                    "Profundidade (m)": "10,22"
                                },
                                {
                                    "Codigo HGA": "WST-428",
                                    "Cota NA (m)": "1162,74",
                                    "Cota Topo (m)": "1171,7",
                                    "Data": "2022-03-05 00:00:00.000",
                                    "Profundidade (m)": "8,96"
                                },
                                {
                                    "Codigo HGA": "WST-428",
                                    "Cota NA (m)": "1109,16",
                                    "Cota Topo (m)": "1171,7",
                                    "Data": "2022-06-30 00:00:00.000",
                                    "Profundidade (m)": "62,54"
                                },
                                {
                                    "Codigo HGA": "WST-428",
                                    "Cota NA (m)": "1111,38",
                                    "Cota Topo (m)": "1171,7",
                                    "Data": "2022-07-05 00:00:00.000",
                                    "Profundidade (m)": "60,32"
                                },
                                {
                                    "Codigo HGA": "WST-428",
                                    "Cota NA (m)": "1114,79",
                                    "Cota Topo (m)": "1171,7",
                                    "Data": "2022-07-14 00:00:00.000",
                                    "Profundidade (m)": "56,91"
                                },
                                {
                                    "Codigo HGA": "WST-428",
                                    "Cota NA (m)": "1113,01",
                                    "Cota Topo (m)": "1171,7",
                                    "Data": "2022-07-19 00:00:00.000",
                                    "Profundidade (m)": "58,69"
                                },
                                {
                                    "Codigo HGA": "WST-428",
                                    "Cota NA (m)": "1100,88",
                                    "Cota Topo (m)": "1171,7",
                                    "Data": "2022-07-25 00:00:00.000",
                                    "Profundidade (m)": "70,82"
                                },
                                {
                                    "Codigo HGA": "WST-428",
                                    "Cota NA (m)": "1104,83",
                                    "Cota Topo (m)": "1171,7",
                                    "Data": "2022-08-03 00:00:00.000",
                                    "Profundidade (m)": "66,87"
                                },
                                {
                                    "Codigo HGA": "WST-428",
                                    "Cota NA (m)": "1113,25",
                                    "Cota Topo (m)": "1171,7",
                                    "Data": "2022-08-08 00:00:00.000",
                                    "Profundidade (m)": "58,45"
                                },
                                {
                                    "Codigo HGA": "WST-428",
                                    "Cota NA (m)": "1094,71",
                                    "Cota Topo (m)": "1171,7",
                                    "Data": "2022-08-16 00:00:00.000",
                                    "Profundidade (m)": "76,99"
                                },
                                {
                                    "Codigo HGA": "WST-428",
                                    "Cota NA (m)": "1085,32",
                                    "Cota Topo (m)": "1171,7",
                                    "Data": "2022-08-23 00:00:00.000",
                                    "Profundidade (m)": "86,38"
                                },
                                {
                                    "Codigo HGA": "WST-428",
                                    "Cota NA (m)": "1085,32",
                                    "Cota Topo (m)": "1171,7",
                                    "Data": "2022-09-02 00:00:00.000",
                                    "Profundidade (m)": "86,38"
                                },
                                {
                                    "Codigo HGA": "WST-428",
                                    "Cota NA (m)": "1098,21",
                                    "Cota Topo (m)": "1171,7",
                                    "Data": "2022-09-09 00:00:00.000",
                                    "Profundidade (m)": "73,49"
                                },
                                {
                                    "Codigo HGA": "WST-428",
                                    "Cota NA (m)": "1088,99",
                                    "Cota Topo (m)": "1171,7",
                                    "Data": "2022-09-14 00:00:00.000",
                                    "Profundidade (m)": "82,71"
                                },
                                {
                                    "Codigo HGA": "WST-428",
                                    "Cota NA (m)": "1124,35",
                                    "Cota Topo (m)": "1171,7",
                                    "Data": "2022-09-20 00:00:00.000",
                                    "Profundidade (m)": "47,35"
                                },
                                {
                                    "Codigo HGA": "WST-428",
                                    "Cota NA (m)": "1132,9",
                                    "Cota Topo (m)": "1171,7",
                                    "Data": "2022-09-26 00:00:00.000",
                                    "Profundidade (m)": "38,8"
                                },
                                {
                                    "Codigo HGA": "WST-428",
                                    "Cota NA (m)": "1077,38",
                                    "Cota Topo (m)": "1171,7",
                                    "Data": "2022-10-14 00:00:00.000",
                                    "Profundidade (m)": "94,32"
                                },
                                {
                                    "Codigo HGA": "WST-428",
                                    "Cota NA (m)": "1084,25",
                                    "Cota Topo (m)": "1171,7",
                                    "Data": "2022-10-19 00:00:00.000",
                                    "Profundidade (m)": "87,45"
                                },
                                {
                                    "Codigo HGA": "WST-428",
                                    "Cota NA (m)": "1076,8",
                                    "Cota Topo (m)": "1171,7",
                                    "Data": "2022-10-24 00:00:00.000",
                                    "Profundidade (m)": "94,9"
                                },
                                {
                                    "Codigo HGA": "WST-428",
                                    "Cota NA (m)": "1138,63",
                                    "Cota Topo (m)": "1171,7",
                                    "Data": "2022-11-08 00:00:00.000",
                                    "Profundidade (m)": "33,07"
                                },
                                {
                                    "Codigo HGA": "WST-428",
                                    "Cota NA (m)": "1139,14",
                                    "Cota Topo (m)": "1171,7",
                                    "Data": "2022-11-17 00:00:00.000",
                                    "Profundidade (m)": "32,56"
                                },
                                {
                                    "Codigo HGA": "WST-428",
                                    "Cota NA (m)": "1140,14",
                                    "Cota Topo (m)": "1171,7",
                                    "Data": "2022-11-24 00:00:00.000",
                                    "Profundidade (m)": "31,56"
                                },
                                {
                                    "Codigo HGA": "WST-428",
                                    "Cota NA (m)": "1139,57",
                                    "Cota Topo (m)": "1171,7",
                                    "Data": "2022-12-02 00:00:00.000",
                                    "Profundidade (m)": "32,13"
                                },
                                {
                                    "Codigo HGA": "WST-428",
                                    "Cota NA (m)": "1137,94",
                                    "Cota Topo (m)": "1171,7",
                                    "Data": "2022-12-07 00:00:00.000",
                                    "Profundidade (m)": "33,76"
                                },
                                {
                                    "Codigo HGA": "WST-428",
                                    "Cota NA (m)": "1141,73",
                                    "Cota Topo (m)": "1171,7",
                                    "Data": "2022-12-14 00:00:00.000",
                                    "Profundidade (m)": "29,97"
                                },
                                {
                                    "Codigo HGA": "WST-428",
                                    "Cota NA (m)": "1141,8",
                                    "Cota Topo (m)": "1171,7",
                                    "Data": "2022-12-21 00:00:00.000",
                                    "Profundidade (m)": "29,9"
                                },
                                {
                                    "Codigo HGA": "WST-428",
                                    "Cota NA (m)": "1142,4",
                                    "Cota Topo (m)": "1171,7",
                                    "Data": "2022-12-28 00:00:00.000",
                                    "Profundidade (m)": "29,3"
                                },
                                {
                                    "Codigo HGA": "WST-429",
                                    "Cota NA (m)": "NULL",
                                    "Cota Topo (m)": "NULL",
                                    "Data": "2022-08-08 00:00:00.000",
                                    "Profundidade (m)": "50,48"
                                },
                                {
                                    "Codigo HGA": "WST-429",
                                    "Cota NA (m)": "NULL",
                                    "Cota Topo (m)": "NULL",
                                    "Data": "2022-08-16 00:00:00.000",
                                    "Profundidade (m)": "64,54"
                                },
                                {
                                    "Codigo HGA": "WST-429",
                                    "Cota NA (m)": "NULL",
                                    "Cota Topo (m)": "NULL",
                                    "Data": "2022-08-23 00:00:00.000",
                                    "Profundidade (m)": "68,25"
                                },
                                {
                                    "Codigo HGA": "WST-429",
                                    "Cota NA (m)": "NULL",
                                    "Cota Topo (m)": "NULL",
                                    "Data": "2022-09-02 00:00:00.000",
                                    "Profundidade (m)": "69,32"
                                },
                                {
                                    "Codigo HGA": "WST-429",
                                    "Cota NA (m)": "NULL",
                                    "Cota Topo (m)": "NULL",
                                    "Data": "2022-09-09 00:00:00.000",
                                    "Profundidade (m)": "31,68"
                                },
                                {
                                    "Codigo HGA": "WST-429",
                                    "Cota NA (m)": "NULL",
                                    "Cota Topo (m)": "NULL",
                                    "Data": "2022-09-14 00:00:00.000",
                                    "Profundidade (m)": "71,47"
                                },
                                {
                                    "Codigo HGA": "WST-429",
                                    "Cota NA (m)": "NULL",
                                    "Cota Topo (m)": "NULL",
                                    "Data": "2022-09-20 00:00:00.000",
                                    "Profundidade (m)": "60,11"
                                },
                                {
                                    "Codigo HGA": "WST-429",
                                    "Cota NA (m)": "NULL",
                                    "Cota Topo (m)": "NULL",
                                    "Data": "2022-09-26 00:00:00.000",
                                    "Profundidade (m)": "60,11"
                                },
                                {
                                    "Codigo HGA": "WST-429",
                                    "Cota NA (m)": "NULL",
                                    "Cota Topo (m)": "NULL",
                                    "Data": "2022-10-05 00:00:00.000",
                                    "Profundidade (m)": "45,47"
                                },
                                {
                                    "Codigo HGA": "WST-429",
                                    "Cota NA (m)": "NULL",
                                    "Cota Topo (m)": "NULL",
                                    "Data": "2022-10-14 00:00:00.000",
                                    "Profundidade (m)": "66,82"
                                },
                                {
                                    "Codigo HGA": "WST-429",
                                    "Cota NA (m)": "NULL",
                                    "Cota Topo (m)": "NULL",
                                    "Data": "2022-10-19 00:00:00.000",
                                    "Profundidade (m)": "33,58"
                                },
                                {
                                    "Codigo HGA": "WST-429",
                                    "Cota NA (m)": "NULL",
                                    "Cota Topo (m)": "NULL",
                                    "Data": "2022-10-24 00:00:00.000",
                                    "Profundidade (m)": "68,72"
                                },
                                {
                                    "Codigo HGA": "WST-429",
                                    "Cota NA (m)": "NULL",
                                    "Cota Topo (m)": "NULL",
                                    "Data": "2022-11-01 00:00:00.000",
                                    "Profundidade (m)": "41,44"
                                },
                                {
                                    "Codigo HGA": "WST-429",
                                    "Cota NA (m)": "NULL",
                                    "Cota Topo (m)": "NULL",
                                    "Data": "2022-11-08 00:00:00.000",
                                    "Profundidade (m)": "54,54"
                                },
                                {
                                    "Codigo HGA": "WST-429",
                                    "Cota NA (m)": "NULL",
                                    "Cota Topo (m)": "NULL",
                                    "Data": "2022-11-17 00:00:00.000",
                                    "Profundidade (m)": "48,44"
                                },
                                {
                                    "Codigo HGA": "WST-429",
                                    "Cota NA (m)": "NULL",
                                    "Cota Topo (m)": "NULL",
                                    "Data": "2022-11-24 00:00:00.000",
                                    "Profundidade (m)": "52,4"
                                },
                                {
                                    "Codigo HGA": "WST-429",
                                    "Cota NA (m)": "NULL",
                                    "Cota Topo (m)": "NULL",
                                    "Data": "2022-12-02 00:00:00.000",
                                    "Profundidade (m)": "52,4"
                                },
                                {
                                    "Codigo HGA": "WST-429",
                                    "Cota NA (m)": "NULL",
                                    "Cota Topo (m)": "NULL",
                                    "Data": "2022-12-07 00:00:00.000",
                                    "Profundidade (m)": "56,84"
                                },
                                {
                                    "Codigo HGA": "WST-429",
                                    "Cota NA (m)": "NULL",
                                    "Cota Topo (m)": "NULL",
                                    "Data": "2022-12-14 00:00:00.000",
                                    "Profundidade (m)": "50,17"
                                },
                                {
                                    "Codigo HGA": "WST-429",
                                    "Cota NA (m)": "NULL",
                                    "Cota Topo (m)": "NULL",
                                    "Data": "2022-12-21 00:00:00.000",
                                    "Profundidade (m)": "48,7"
                                },
                                {
                                    "Codigo HGA": "WST-429",
                                    "Cota NA (m)": "NULL",
                                    "Cota Topo (m)": "NULL",
                                    "Data": "2022-12-28 00:00:00.000",
                                    "Profundidade (m)": "48,52"
                                },
                                {
                                    "Codigo HGA": "WST-588",
                                    "Cota NA (m)": "NULL",
                                    "Cota Topo (m)": "NULL",
                                    "Data": "2020-10-28 00:00:00.000",
                                    "Profundidade (m)": "100,24"
                                },
                                {
                                    "Codigo HGA": "WST-588",
                                    "Cota NA (m)": "NULL",
                                    "Cota Topo (m)": "NULL",
                                    "Data": "2020-11-25 00:00:00.000",
                                    "Profundidade (m)": "99,84"
                                },
                                {
                                    "Codigo HGA": "WST-588",
                                    "Cota NA (m)": "NULL",
                                    "Cota Topo (m)": "NULL",
                                    "Data": "2020-12-24 00:00:00.000",
                                    "Profundidade (m)": "99,5"
                                },
                                {
                                    "Codigo HGA": "WST-588",
                                    "Cota NA (m)": "NULL",
                                    "Cota Topo (m)": "NULL",
                                    "Data": "2021-01-22 00:00:00.000",
                                    "Profundidade (m)": "99,23"
                                },
                                {
                                    "Codigo HGA": "WST-588",
                                    "Cota NA (m)": "NULL",
                                    "Cota Topo (m)": "NULL",
                                    "Data": "2021-02-10 00:00:00.000",
                                    "Profundidade (m)": "150,7"
                                },
                                {
                                    "Codigo HGA": "WST-588",
                                    "Cota NA (m)": "NULL",
                                    "Cota Topo (m)": "NULL",
                                    "Data": "2021-06-17 00:00:00.000",
                                    "Profundidade (m)": "98,48"
                                },
                                {
                                    "Codigo HGA": "WST-588",
                                    "Cota NA (m)": "NULL",
                                    "Cota Topo (m)": "NULL",
                                    "Data": "2021-07-13 00:00:00.000",
                                    "Profundidade (m)": "98,69"
                                },
                                {
                                    "Codigo HGA": "WST-588",
                                    "Cota NA (m)": "NULL",
                                    "Cota Topo (m)": "NULL",
                                    "Data": "2021-08-13 00:00:00.000",
                                    "Profundidade (m)": "98,17"
                                },
                                {
                                    "Codigo HGA": "WST-588",
                                    "Cota NA (m)": "NULL",
                                    "Cota Topo (m)": "NULL",
                                    "Data": "2021-09-09 00:00:00.000",
                                    "Profundidade (m)": "98,36"
                                },
                                {
                                    "Codigo HGA": "WST-588",
                                    "Cota NA (m)": "NULL",
                                    "Cota Topo (m)": "NULL",
                                    "Data": "2021-10-14 00:00:00.000",
                                    "Profundidade (m)": "200,91"
                                },
                                {
                                    "Codigo HGA": "WST-588",
                                    "Cota NA (m)": "NULL",
                                    "Cota Topo (m)": "NULL",
                                    "Data": "2021-11-10 00:00:00.000",
                                    "Profundidade (m)": "201,27"
                                },
                                {
                                    "Codigo HGA": "WST-588",
                                    "Cota NA (m)": "NULL",
                                    "Cota Topo (m)": "NULL",
                                    "Data": "2021-11-17 00:00:00.000",
                                    "Profundidade (m)": "163"
                                },
                                {
                                    "Codigo HGA": "WST-588",
                                    "Cota NA (m)": "NULL",
                                    "Cota Topo (m)": "NULL",
                                    "Data": "2021-11-25 00:00:00.000",
                                    "Profundidade (m)": "101,02"
                                },
                                {
                                    "Codigo HGA": "WST-588",
                                    "Cota NA (m)": "NULL",
                                    "Cota Topo (m)": "NULL",
                                    "Data": "2021-12-10 00:00:00.000",
                                    "Profundidade (m)": "94,68"
                                },
                                {
                                    "Codigo HGA": "WST-588",
                                    "Cota NA (m)": "NULL",
                                    "Cota Topo (m)": "NULL",
                                    "Data": "2022-01-13 00:00:00.000",
                                    "Profundidade (m)": "NULL"
                                },
                                {
                                    "Codigo HGA": "WST-588",
                                    "Cota NA (m)": "NULL",
                                    "Cota Topo (m)": "NULL",
                                    "Data": "2022-01-28 00:00:00.000",
                                    "Profundidade (m)": "159,66"
                                },
                                {
                                    "Codigo HGA": "WST-588",
                                    "Cota NA (m)": "NULL",
                                    "Cota Topo (m)": "NULL",
                                    "Data": "2022-02-01 00:00:00.000",
                                    "Profundidade (m)": "98,54"
                                },
                                {
                                    "Codigo HGA": "WST-588",
                                    "Cota NA (m)": "NULL",
                                    "Cota Topo (m)": "NULL",
                                    "Data": "2022-02-11 00:00:00.000",
                                    "Profundidade (m)": "98,03"
                                },
                                {
                                    "Codigo HGA": "WST-588",
                                    "Cota NA (m)": "NULL",
                                    "Cota Topo (m)": "NULL",
                                    "Data": "2022-02-16 00:00:00.000",
                                    "Profundidade (m)": "98,97"
                                },
                                {
                                    "Codigo HGA": "WST-588",
                                    "Cota NA (m)": "NULL",
                                    "Cota Topo (m)": "NULL",
                                    "Data": "2022-03-03 00:00:00.000",
                                    "Profundidade (m)": "160,52"
                                },
                                {
                                    "Codigo HGA": "WST-588",
                                    "Cota NA (m)": "NULL",
                                    "Cota Topo (m)": "NULL",
                                    "Data": "2022-03-08 00:00:00.000",
                                    "Profundidade (m)": "201,15"
                                },
                                {
                                    "Codigo HGA": "WST-588",
                                    "Cota NA (m)": "NULL",
                                    "Cota Topo (m)": "NULL",
                                    "Data": "2022-03-16 00:00:00.000",
                                    "Profundidade (m)": "201,17"
                                },
                                {
                                    "Codigo HGA": "WST-588",
                                    "Cota NA (m)": "NULL",
                                    "Cota Topo (m)": "NULL",
                                    "Data": "2022-03-31 00:00:00.000",
                                    "Profundidade (m)": "201,4"
                                },
                                {
                                    "Codigo HGA": "WST-588",
                                    "Cota NA (m)": "NULL",
                                    "Cota Topo (m)": "NULL",
                                    "Data": "2022-04-06 00:00:00.000",
                                    "Profundidade (m)": "159,58"
                                },
                                {
                                    "Codigo HGA": "WST-588",
                                    "Cota NA (m)": "NULL",
                                    "Cota Topo (m)": "NULL",
                                    "Data": "2022-04-12 00:00:00.000",
                                    "Profundidade (m)": "95,83"
                                },
                                {
                                    "Codigo HGA": "WST-588",
                                    "Cota NA (m)": "NULL",
                                    "Cota Topo (m)": "NULL",
                                    "Data": "2022-04-20 00:00:00.000",
                                    "Profundidade (m)": "98,93"
                                },
                                {
                                    "Codigo HGA": "WST-588",
                                    "Cota NA (m)": "NULL",
                                    "Cota Topo (m)": "NULL",
                                    "Data": "2022-04-28 00:00:00.000",
                                    "Profundidade (m)": "201,25"
                                },
                                {
                                    "Codigo HGA": "WST-588",
                                    "Cota NA (m)": "NULL",
                                    "Cota Topo (m)": "NULL",
                                    "Data": "2022-05-03 00:00:00.000",
                                    "Profundidade (m)": "97,9"
                                },
                                {
                                    "Codigo HGA": "WST-588",
                                    "Cota NA (m)": "NULL",
                                    "Cota Topo (m)": "NULL",
                                    "Data": "2022-05-11 00:00:00.000",
                                    "Profundidade (m)": "94,94"
                                },
                                {
                                    "Codigo HGA": "WST-588",
                                    "Cota NA (m)": "NULL",
                                    "Cota Topo (m)": "NULL",
                                    "Data": "2022-05-18 00:00:00.000",
                                    "Profundidade (m)": "92,57"
                                },
                                {
                                    "Codigo HGA": "WST-588",
                                    "Cota NA (m)": "NULL",
                                    "Cota Topo (m)": "NULL",
                                    "Data": "2022-05-26 00:00:00.000",
                                    "Profundidade (m)": "155,46"
                                },
                                {
                                    "Codigo HGA": "WST-588",
                                    "Cota NA (m)": "NULL",
                                    "Cota Topo (m)": "NULL",
                                    "Data": "2022-06-02 00:00:00.000",
                                    "Profundidade (m)": "157,42"
                                },
                                {
                                    "Codigo HGA": "WST-588",
                                    "Cota NA (m)": "NULL",
                                    "Cota Topo (m)": "NULL",
                                    "Data": "2022-06-08 00:00:00.000",
                                    "Profundidade (m)": "151,96"
                                },
                                {
                                    "Codigo HGA": "WST-588",
                                    "Cota NA (m)": "NULL",
                                    "Cota Topo (m)": "NULL",
                                    "Data": "2022-06-21 00:00:00.000",
                                    "Profundidade (m)": "158,95"
                                },
                                {
                                    "Codigo HGA": "WST-588",
                                    "Cota NA (m)": "NULL",
                                    "Cota Topo (m)": "NULL",
                                    "Data": "2022-07-06 00:00:00.000",
                                    "Profundidade (m)": "159,82"
                                },
                                {
                                    "Codigo HGA": "WST-588",
                                    "Cota NA (m)": "NULL",
                                    "Cota Topo (m)": "NULL",
                                    "Data": "2022-07-15 00:00:00.000",
                                    "Profundidade (m)": "158,37"
                                },
                                {
                                    "Codigo HGA": "WST-588",
                                    "Cota NA (m)": "NULL",
                                    "Cota Topo (m)": "NULL",
                                    "Data": "2022-07-27 00:00:00.000",
                                    "Profundidade (m)": "157,98"
                                },
                                {
                                    "Codigo HGA": "WST-588",
                                    "Cota NA (m)": "NULL",
                                    "Cota Topo (m)": "NULL",
                                    "Data": "2022-08-03 00:00:00.000",
                                    "Profundidade (m)": "175,98"
                                },
                                {
                                    "Codigo HGA": "WST-588",
                                    "Cota NA (m)": "NULL",
                                    "Cota Topo (m)": "NULL",
                                    "Data": "2022-08-10 00:00:00.000",
                                    "Profundidade (m)": "95,92"
                                },
                                {
                                    "Codigo HGA": "WST-588",
                                    "Cota NA (m)": "NULL",
                                    "Cota Topo (m)": "NULL",
                                    "Data": "2022-08-17 00:00:00.000",
                                    "Profundidade (m)": "NULL"
                                },
                                {
                                    "Codigo HGA": "WST-588",
                                    "Cota NA (m)": "NULL",
                                    "Cota Topo (m)": "NULL",
                                    "Data": "2022-08-24 00:00:00.000",
                                    "Profundidade (m)": "NULL"
                                },
                                {
                                    "Codigo HGA": "WST-588",
                                    "Cota NA (m)": "NULL",
                                    "Cota Topo (m)": "NULL",
                                    "Data": "2022-08-30 00:00:00.000",
                                    "Profundidade (m)": "154,09"
                                },
                                {
                                    "Codigo HGA": "WST-588",
                                    "Cota NA (m)": "NULL",
                                    "Cota Topo (m)": "NULL",
                                    "Data": "2022-09-08 00:00:00.000",
                                    "Profundidade (m)": "142,95"
                                },
                                {
                                    "Codigo HGA": "WST-588",
                                    "Cota NA (m)": "NULL",
                                    "Cota Topo (m)": "NULL",
                                    "Data": "2022-09-13 00:00:00.000",
                                    "Profundidade (m)": "140,37"
                                },
                                {
                                    "Codigo HGA": "WST-588",
                                    "Cota NA (m)": "NULL",
                                    "Cota Topo (m)": "NULL",
                                    "Data": "2022-09-21 00:00:00.000",
                                    "Profundidade (m)": "139,87"
                                },
                                {
                                    "Codigo HGA": "WST-588",
                                    "Cota NA (m)": "NULL",
                                    "Cota Topo (m)": "NULL",
                                    "Data": "2022-09-29 00:00:00.000",
                                    "Profundidade (m)": "97,73"
                                },
                                {
                                    "Codigo HGA": "WST-588",
                                    "Cota NA (m)": "NULL",
                                    "Cota Topo (m)": "NULL",
                                    "Data": "2022-10-04 00:00:00.000",
                                    "Profundidade (m)": "136,68"
                                },
                                {
                                    "Codigo HGA": "WST-588",
                                    "Cota NA (m)": "NULL",
                                    "Cota Topo (m)": "NULL",
                                    "Data": "2022-10-14 00:00:00.000",
                                    "Profundidade (m)": "132,37"
                                },
                                {
                                    "Codigo HGA": "WST-588",
                                    "Cota NA (m)": "NULL",
                                    "Cota Topo (m)": "NULL",
                                    "Data": "2022-10-20 00:00:00.000",
                                    "Profundidade (m)": "98,4"
                                },
                                {
                                    "Codigo HGA": "WST-588",
                                    "Cota NA (m)": "NULL",
                                    "Cota Topo (m)": "NULL",
                                    "Data": "2022-10-26 00:00:00.000",
                                    "Profundidade (m)": "135,77"
                                },
                                {
                                    "Codigo HGA": "WST-588",
                                    "Cota NA (m)": "NULL",
                                    "Cota Topo (m)": "NULL",
                                    "Data": "2022-11-03 00:00:00.000",
                                    "Profundidade (m)": "97,4"
                                },
                                {
                                    "Codigo HGA": "WST-588",
                                    "Cota NA (m)": "NULL",
                                    "Cota Topo (m)": "NULL",
                                    "Data": "2022-11-11 00:00:00.000",
                                    "Profundidade (m)": "129,68"
                                },
                                {
                                    "Codigo HGA": "WST-588",
                                    "Cota NA (m)": "NULL",
                                    "Cota Topo (m)": "NULL",
                                    "Data": "2022-11-18 00:00:00.000",
                                    "Profundidade (m)": "132,79"
                                },
                                {
                                    "Codigo HGA": "WST-588",
                                    "Cota NA (m)": "NULL",
                                    "Cota Topo (m)": "NULL",
                                    "Data": "2022-11-23 00:00:00.000",
                                    "Profundidade (m)": "132,48"
                                },
                                {
                                    "Codigo HGA": "WST-588",
                                    "Cota NA (m)": "NULL",
                                    "Cota Topo (m)": "NULL",
                                    "Data": "2022-11-30 00:00:00.000",
                                    "Profundidade (m)": "121,5"
                                },
                                {
                                    "Codigo HGA": "WST-588",
                                    "Cota NA (m)": "NULL",
                                    "Cota Topo (m)": "NULL",
                                    "Data": "2022-12-07 00:00:00.000",
                                    "Profundidade (m)": "96,63"
                                },
                                {
                                    "Codigo HGA": "WST-588",
                                    "Cota NA (m)": "NULL",
                                    "Cota Topo (m)": "NULL",
                                    "Data": "2022-12-14 00:00:00.000",
                                    "Profundidade (m)": "125,89"
                                },
                                {
                                    "Codigo HGA": "WST-588",
                                    "Cota NA (m)": "NULL",
                                    "Cota Topo (m)": "NULL",
                                    "Data": "2022-12-20 00:00:00.000",
                                    "Profundidade (m)": "97,22"
                                },
                                {
                                    "Codigo HGA": "WST-588",
                                    "Cota NA (m)": "NULL",
                                    "Cota Topo (m)": "NULL",
                                    "Data": "2022-12-28 00:00:00.000",
                                    "Profundidade (m)": "95,9"
                                },
                                {
                                    "Codigo HGA": "WST-588",
                                    "Cota NA (m)": "NULL",
                                    "Cota Topo (m)": "NULL",
                                    "Data": "2023-01-04 00:00:00.000",
                                    "Profundidade (m)": "96,16"
                                },
                                {
                                    "Codigo HGA": "WST-588",
                                    "Cota NA (m)": "NULL",
                                    "Cota Topo (m)": "NULL",
                                    "Data": "2023-01-12 00:00:00.000",
                                    "Profundidade (m)": "96,9"
                                },
                                {
                                    "Codigo HGA": "WST-588",
                                    "Cota NA (m)": "NULL",
                                    "Cota Topo (m)": "NULL",
                                    "Data": "2023-01-19 00:00:00.000",
                                    "Profundidade (m)": "135,73"
                                },
                                {
                                    "Codigo HGA": "WST-588",
                                    "Cota NA (m)": "NULL",
                                    "Cota Topo (m)": "NULL",
                                    "Data": "2023-01-25 00:00:00.000",
                                    "Profundidade (m)": "96,03"
                                },
                                {
                                    "Codigo HGA": "WST-588",
                                    "Cota NA (m)": "NULL",
                                    "Cota Topo (m)": "NULL",
                                    "Data": "2023-02-01 00:00:00.000",
                                    "Profundidade (m)": "96,67"
                                },
                                {
                                    "Codigo HGA": "WST-588",
                                    "Cota NA (m)": "NULL",
                                    "Cota Topo (m)": "NULL",
                                    "Data": "2023-02-16 00:00:00.000",
                                    "Profundidade (m)": "97,33"
                                },
                                {
                                    "Codigo HGA": "WST-588",
                                    "Cota NA (m)": "NULL",
                                    "Cota Topo (m)": "NULL",
                                    "Data": "2023-02-23 00:00:00.000",
                                    "Profundidade (m)": "96,85"
                                },
                                {
                                    "Codigo HGA": "WST-588",
                                    "Cota NA (m)": "NULL",
                                    "Cota Topo (m)": "NULL",
                                    "Data": "2023-03-02 00:00:00.000",
                                    "Profundidade (m)": "95,4"
                                },
                                {
                                    "Codigo HGA": "WST-588",
                                    "Cota NA (m)": "NULL",
                                    "Cota Topo (m)": "NULL",
                                    "Data": "2023-03-06 00:00:00.000",
                                    "Profundidade (m)": "111,84"
                                },
                                {
                                    "Codigo HGA": "WST-588",
                                    "Cota NA (m)": "NULL",
                                    "Cota Topo (m)": "NULL",
                                    "Data": "2023-03-17 00:00:00.000",
                                    "Profundidade (m)": "101,47"
                                },
                                {
                                    "Codigo HGA": "WST-588",
                                    "Cota NA (m)": "NULL",
                                    "Cota Topo (m)": "NULL",
                                    "Data": "2023-03-22 00:00:00.000",
                                    "Profundidade (m)": "94,38"
                                },
                                {
                                    "Codigo HGA": "WST-589",
                                    "Cota NA (m)": "NULL",
                                    "Cota Topo (m)": "NULL",
                                    "Data": "2022-03-31 00:00:00.000",
                                    "Profundidade (m)": "59,98"
                                },
                                {
                                    "Codigo HGA": "WST-589",
                                    "Cota NA (m)": "NULL",
                                    "Cota Topo (m)": "NULL",
                                    "Data": "2022-04-06 00:00:00.000",
                                    "Profundidade (m)": "56,89"
                                },
                                {
                                    "Codigo HGA": "WST-589",
                                    "Cota NA (m)": "NULL",
                                    "Cota Topo (m)": "NULL",
                                    "Data": "2022-04-12 00:00:00.000",
                                    "Profundidade (m)": "56"
                                },
                                {
                                    "Codigo HGA": "WST-589",
                                    "Cota NA (m)": "NULL",
                                    "Cota Topo (m)": "NULL",
                                    "Data": "2022-04-20 00:00:00.000",
                                    "Profundidade (m)": "55,5"
                                },
                                {
                                    "Codigo HGA": "WST-589",
                                    "Cota NA (m)": "NULL",
                                    "Cota Topo (m)": "NULL",
                                    "Data": "2022-04-28 00:00:00.000",
                                    "Profundidade (m)": "55,33"
                                },
                                {
                                    "Codigo HGA": "WST-589",
                                    "Cota NA (m)": "NULL",
                                    "Cota Topo (m)": "NULL",
                                    "Data": "2022-05-03 00:00:00.000",
                                    "Profundidade (m)": "55,26"
                                },
                                {
                                    "Codigo HGA": "WST-589",
                                    "Cota NA (m)": "NULL",
                                    "Cota Topo (m)": "NULL",
                                    "Data": "2022-05-11 00:00:00.000",
                                    "Profundidade (m)": "55,24"
                                },
                                {
                                    "Codigo HGA": "WST-589",
                                    "Cota NA (m)": "NULL",
                                    "Cota Topo (m)": "NULL",
                                    "Data": "2022-05-18 00:00:00.000",
                                    "Profundidade (m)": "55,18"
                                },
                                {
                                    "Codigo HGA": "WST-589",
                                    "Cota NA (m)": "NULL",
                                    "Cota Topo (m)": "NULL",
                                    "Data": "2022-05-26 00:00:00.000",
                                    "Profundidade (m)": "55,22"
                                },
                                {
                                    "Codigo HGA": "WST-589",
                                    "Cota NA (m)": "NULL",
                                    "Cota Topo (m)": "NULL",
                                    "Data": "2022-06-02 00:00:00.000",
                                    "Profundidade (m)": "55,19"
                                },
                                {
                                    "Codigo HGA": "WST-589",
                                    "Cota NA (m)": "NULL",
                                    "Cota Topo (m)": "NULL",
                                    "Data": "2022-06-08 00:00:00.000",
                                    "Profundidade (m)": "55,2"
                                },
                                {
                                    "Codigo HGA": "WST-589",
                                    "Cota NA (m)": "NULL",
                                    "Cota Topo (m)": "NULL",
                                    "Data": "2022-06-21 00:00:00.000",
                                    "Profundidade (m)": "55,2"
                                },
                                {
                                    "Codigo HGA": "WST-589",
                                    "Cota NA (m)": "NULL",
                                    "Cota Topo (m)": "NULL",
                                    "Data": "2022-07-06 00:00:00.000",
                                    "Profundidade (m)": "55,15"
                                },
                                {
                                    "Codigo HGA": "WST-589",
                                    "Cota NA (m)": "NULL",
                                    "Cota Topo (m)": "NULL",
                                    "Data": "2022-07-15 00:00:00.000",
                                    "Profundidade (m)": "55,17"
                                },
                                {
                                    "Codigo HGA": "WST-589",
                                    "Cota NA (m)": "NULL",
                                    "Cota Topo (m)": "NULL",
                                    "Data": "2022-07-27 00:00:00.000",
                                    "Profundidade (m)": "55,1"
                                },
                                {
                                    "Codigo HGA": "WST-589",
                                    "Cota NA (m)": "NULL",
                                    "Cota Topo (m)": "NULL",
                                    "Data": "2022-08-03 00:00:00.000",
                                    "Profundidade (m)": "59,09"
                                },
                                {
                                    "Codigo HGA": "WST-589",
                                    "Cota NA (m)": "NULL",
                                    "Cota Topo (m)": "NULL",
                                    "Data": "2022-08-10 00:00:00.000",
                                    "Profundidade (m)": "54,79"
                                },
                                {
                                    "Codigo HGA": "WST-589",
                                    "Cota NA (m)": "NULL",
                                    "Cota Topo (m)": "NULL",
                                    "Data": "2022-08-17 00:00:00.000",
                                    "Profundidade (m)": "68,37"
                                },
                                {
                                    "Codigo HGA": "WST-589",
                                    "Cota NA (m)": "NULL",
                                    "Cota Topo (m)": "NULL",
                                    "Data": "2022-08-24 00:00:00.000",
                                    "Profundidade (m)": "102,27"
                                },
                                {
                                    "Codigo HGA": "WST-589",
                                    "Cota NA (m)": "NULL",
                                    "Cota Topo (m)": "NULL",
                                    "Data": "2022-08-30 00:00:00.000",
                                    "Profundidade (m)": "65,31"
                                },
                                {
                                    "Codigo HGA": "WST-589",
                                    "Cota NA (m)": "NULL",
                                    "Cota Topo (m)": "NULL",
                                    "Data": "2022-09-08 00:00:00.000",
                                    "Profundidade (m)": "64,45"
                                },
                                {
                                    "Codigo HGA": "WST-589",
                                    "Cota NA (m)": "NULL",
                                    "Cota Topo (m)": "NULL",
                                    "Data": "2022-09-13 00:00:00.000",
                                    "Profundidade (m)": "64,56"
                                },
                                {
                                    "Codigo HGA": "WST-589",
                                    "Cota NA (m)": "NULL",
                                    "Cota Topo (m)": "NULL",
                                    "Data": "2022-09-21 00:00:00.000",
                                    "Profundidade (m)": "63,31"
                                },
                                {
                                    "Codigo HGA": "WST-589",
                                    "Cota NA (m)": "NULL",
                                    "Cota Topo (m)": "NULL",
                                    "Data": "2022-09-29 00:00:00.000",
                                    "Profundidade (m)": "NULL"
                                },
                                {
                                    "Codigo HGA": "WST-589",
                                    "Cota NA (m)": "NULL",
                                    "Cota Topo (m)": "NULL",
                                    "Data": "2022-10-04 00:00:00.000",
                                    "Profundidade (m)": "59,61"
                                },
                                {
                                    "Codigo HGA": "WST-589",
                                    "Cota NA (m)": "NULL",
                                    "Cota Topo (m)": "NULL",
                                    "Data": "2022-10-14 00:00:00.000",
                                    "Profundidade (m)": "NULL"
                                },
                                {
                                    "Codigo HGA": "WST-589",
                                    "Cota NA (m)": "NULL",
                                    "Cota Topo (m)": "NULL",
                                    "Data": "2022-10-20 00:00:00.000",
                                    "Profundidade (m)": "63,89"
                                },
                                {
                                    "Codigo HGA": "WST-589",
                                    "Cota NA (m)": "NULL",
                                    "Cota Topo (m)": "NULL",
                                    "Data": "2022-10-26 00:00:00.000",
                                    "Profundidade (m)": "59,61"
                                },
                                {
                                    "Codigo HGA": "WST-589",
                                    "Cota NA (m)": "NULL",
                                    "Cota Topo (m)": "NULL",
                                    "Data": "2022-11-03 00:00:00.000",
                                    "Profundidade (m)": "59,27"
                                },
                                {
                                    "Codigo HGA": "WST-589",
                                    "Cota NA (m)": "NULL",
                                    "Cota Topo (m)": "NULL",
                                    "Data": "2022-11-11 00:00:00.000",
                                    "Profundidade (m)": "61,31"
                                },
                                {
                                    "Codigo HGA": "WST-589",
                                    "Cota NA (m)": "NULL",
                                    "Cota Topo (m)": "NULL",
                                    "Data": "2022-11-18 00:00:00.000",
                                    "Profundidade (m)": "60,87"
                                },
                                {
                                    "Codigo HGA": "WST-589",
                                    "Cota NA (m)": "NULL",
                                    "Cota Topo (m)": "NULL",
                                    "Data": "2022-11-23 00:00:00.000",
                                    "Profundidade (m)": "63,28"
                                },
                                {
                                    "Codigo HGA": "WST-589",
                                    "Cota NA (m)": "NULL",
                                    "Cota Topo (m)": "NULL",
                                    "Data": "2022-11-30 00:00:00.000",
                                    "Profundidade (m)": "59,85"
                                },
                                {
                                    "Codigo HGA": "WST-589",
                                    "Cota NA (m)": "NULL",
                                    "Cota Topo (m)": "NULL",
                                    "Data": "2022-12-07 00:00:00.000",
                                    "Profundidade (m)": "58,46"
                                },
                                {
                                    "Codigo HGA": "WST-589",
                                    "Cota NA (m)": "NULL",
                                    "Cota Topo (m)": "NULL",
                                    "Data": "2022-12-14 00:00:00.000",
                                    "Profundidade (m)": "59,4"
                                },
                                {
                                    "Codigo HGA": "WST-589",
                                    "Cota NA (m)": "NULL",
                                    "Cota Topo (m)": "NULL",
                                    "Data": "2022-12-20 00:00:00.000",
                                    "Profundidade (m)": "59,22"
                                },
                                {
                                    "Codigo HGA": "WST-589",
                                    "Cota NA (m)": "NULL",
                                    "Cota Topo (m)": "NULL",
                                    "Data": "2022-12-28 00:00:00.000",
                                    "Profundidade (m)": "58,8"
                                },
                                {
                                    "Codigo HGA": "WST-589",
                                    "Cota NA (m)": "NULL",
                                    "Cota Topo (m)": "NULL",
                                    "Data": "2023-01-04 00:00:00.000",
                                    "Profundidade (m)": "58,97"
                                },
                                {
                                    "Codigo HGA": "WST-589",
                                    "Cota NA (m)": "NULL",
                                    "Cota Topo (m)": "NULL",
                                    "Data": "2023-01-12 00:00:00.000",
                                    "Profundidade (m)": "58,86"
                                },
                                {
                                    "Codigo HGA": "WST-589",
                                    "Cota NA (m)": "NULL",
                                    "Cota Topo (m)": "NULL",
                                    "Data": "2023-01-19 00:00:00.000",
                                    "Profundidade (m)": "58,47"
                                },
                                {
                                    "Codigo HGA": "WST-589",
                                    "Cota NA (m)": "NULL",
                                    "Cota Topo (m)": "NULL",
                                    "Data": "2023-01-25 00:00:00.000",
                                    "Profundidade (m)": "58,47"
                                },
                                {
                                    "Codigo HGA": "WST-589",
                                    "Cota NA (m)": "NULL",
                                    "Cota Topo (m)": "NULL",
                                    "Data": "2023-02-01 00:00:00.000",
                                    "Profundidade (m)": "62,33"
                                },
                                {
                                    "Codigo HGA": "WST-589",
                                    "Cota NA (m)": "NULL",
                                    "Cota Topo (m)": "NULL",
                                    "Data": "2023-02-16 00:00:00.000",
                                    "Profundidade (m)": "57,53"
                                },
                                {
                                    "Codigo HGA": "WST-589",
                                    "Cota NA (m)": "NULL",
                                    "Cota Topo (m)": "NULL",
                                    "Data": "2023-02-23 00:00:00.000",
                                    "Profundidade (m)": "95,71"
                                },
                                {
                                    "Codigo HGA": "WST-589",
                                    "Cota NA (m)": "NULL",
                                    "Cota Topo (m)": "NULL",
                                    "Data": "2023-03-02 00:00:00.000",
                                    "Profundidade (m)": "95,71"
                                },
                                {
                                    "Codigo HGA": "WST-589",
                                    "Cota NA (m)": "NULL",
                                    "Cota Topo (m)": "NULL",
                                    "Data": "2023-03-06 00:00:00.000",
                                    "Profundidade (m)": "98,94"
                                },
                                {
                                    "Codigo HGA": "WST-589",
                                    "Cota NA (m)": "NULL",
                                    "Cota Topo (m)": "NULL",
                                    "Data": "2023-03-17 00:00:00.000",
                                    "Profundidade (m)": "97,63"
                                },
                                {
                                    "Codigo HGA": "WST-589",
                                    "Cota NA (m)": "NULL",
                                    "Cota Topo (m)": "NULL",
                                    "Data": "2023-03-22 00:00:00.000",
                                    "Profundidade (m)": "61,07"
                                },
                                {
                                    "Codigo HGA": "WST-590",
                                    "Cota NA (m)": "NULL",
                                    "Cota Topo (m)": "NULL",
                                    "Data": "2022-09-13 00:00:00.000",
                                    "Profundidade (m)": "67,64"
                                },
                                {
                                    "Codigo HGA": "WST-590",
                                    "Cota NA (m)": "NULL",
                                    "Cota Topo (m)": "NULL",
                                    "Data": "2022-09-21 00:00:00.000",
                                    "Profundidade (m)": "67,79"
                                },
                                {
                                    "Codigo HGA": "WST-590",
                                    "Cota NA (m)": "NULL",
                                    "Cota Topo (m)": "NULL",
                                    "Data": "2022-09-29 00:00:00.000",
                                    "Profundidade (m)": "67,74"
                                },
                                {
                                    "Codigo HGA": "WST-590",
                                    "Cota NA (m)": "NULL",
                                    "Cota Topo (m)": "NULL",
                                    "Data": "2022-10-04 00:00:00.000",
                                    "Profundidade (m)": "67,6"
                                },
                                {
                                    "Codigo HGA": "WST-590",
                                    "Cota NA (m)": "NULL",
                                    "Cota Topo (m)": "NULL",
                                    "Data": "2022-10-14 00:00:00.000",
                                    "Profundidade (m)": "67,76"
                                },
                                {
                                    "Codigo HGA": "WST-590",
                                    "Cota NA (m)": "NULL",
                                    "Cota Topo (m)": "NULL",
                                    "Data": "2022-10-20 00:00:00.000",
                                    "Profundidade (m)": "67,83"
                                },
                                {
                                    "Codigo HGA": "WST-590",
                                    "Cota NA (m)": "NULL",
                                    "Cota Topo (m)": "NULL",
                                    "Data": "2022-10-26 00:00:00.000",
                                    "Profundidade (m)": "63,84"
                                },
                                {
                                    "Codigo HGA": "WST-590",
                                    "Cota NA (m)": "NULL",
                                    "Cota Topo (m)": "NULL",
                                    "Data": "2022-11-03 00:00:00.000",
                                    "Profundidade (m)": "67,97"
                                },
                                {
                                    "Codigo HGA": "WST-590",
                                    "Cota NA (m)": "NULL",
                                    "Cota Topo (m)": "NULL",
                                    "Data": "2022-11-11 00:00:00.000",
                                    "Profundidade (m)": "67,97"
                                },
                                {
                                    "Codigo HGA": "WST-590",
                                    "Cota NA (m)": "NULL",
                                    "Cota Topo (m)": "NULL",
                                    "Data": "2022-11-18 00:00:00.000",
                                    "Profundidade (m)": "67,97"
                                },
                                {
                                    "Codigo HGA": "WST-590",
                                    "Cota NA (m)": "NULL",
                                    "Cota Topo (m)": "NULL",
                                    "Data": "2022-11-23 00:00:00.000",
                                    "Profundidade (m)": "68,05"
                                },
                                {
                                    "Codigo HGA": "WST-590",
                                    "Cota NA (m)": "NULL",
                                    "Cota Topo (m)": "NULL",
                                    "Data": "2022-11-30 00:00:00.000",
                                    "Profundidade (m)": "68,04"
                                },
                                {
                                    "Codigo HGA": "WST-590",
                                    "Cota NA (m)": "NULL",
                                    "Cota Topo (m)": "NULL",
                                    "Data": "2022-12-07 00:00:00.000",
                                    "Profundidade (m)": "67,98"
                                },
                                {
                                    "Codigo HGA": "WST-590",
                                    "Cota NA (m)": "NULL",
                                    "Cota Topo (m)": "NULL",
                                    "Data": "2022-12-14 00:00:00.000",
                                    "Profundidade (m)": "68,13"
                                },
                                {
                                    "Codigo HGA": "WST-590",
                                    "Cota NA (m)": "NULL",
                                    "Cota Topo (m)": "NULL",
                                    "Data": "2022-12-20 00:00:00.000",
                                    "Profundidade (m)": "68,07"
                                },
                                {
                                    "Codigo HGA": "WST-590",
                                    "Cota NA (m)": "NULL",
                                    "Cota Topo (m)": "NULL",
                                    "Data": "2022-12-28 00:00:00.000",
                                    "Profundidade (m)": "67,89"
                                },
                                {
                                    "Codigo HGA": "WST-590",
                                    "Cota NA (m)": "NULL",
                                    "Cota Topo (m)": "NULL",
                                    "Data": "2023-01-04 00:00:00.000",
                                    "Profundidade (m)": "67,77"
                                },
                                {
                                    "Codigo HGA": "WST-590",
                                    "Cota NA (m)": "NULL",
                                    "Cota Topo (m)": "NULL",
                                    "Data": "2023-01-12 00:00:00.000",
                                    "Profundidade (m)": "67,24"
                                },
                                {
                                    "Codigo HGA": "WST-590",
                                    "Cota NA (m)": "NULL",
                                    "Cota Topo (m)": "NULL",
                                    "Data": "2023-01-19 00:00:00.000",
                                    "Profundidade (m)": "67,17"
                                },
                                {
                                    "Codigo HGA": "WST-590",
                                    "Cota NA (m)": "NULL",
                                    "Cota Topo (m)": "NULL",
                                    "Data": "2023-01-25 00:00:00.000",
                                    "Profundidade (m)": "67,07"
                                },
                                {
                                    "Codigo HGA": "WST-590",
                                    "Cota NA (m)": "NULL",
                                    "Cota Topo (m)": "NULL",
                                    "Data": "2023-02-01 00:00:00.000",
                                    "Profundidade (m)": "66,69"
                                },
                                {
                                    "Codigo HGA": "WST-590",
                                    "Cota NA (m)": "NULL",
                                    "Cota Topo (m)": "NULL",
                                    "Data": "2023-02-16 00:00:00.000",
                                    "Profundidade (m)": "66,57"
                                },
                                {
                                    "Codigo HGA": "WST-590",
                                    "Cota NA (m)": "NULL",
                                    "Cota Topo (m)": "NULL",
                                    "Data": "2023-02-23 00:00:00.000",
                                    "Profundidade (m)": "66,67"
                                },
                                {
                                    "Codigo HGA": "WST-590",
                                    "Cota NA (m)": "NULL",
                                    "Cota Topo (m)": "NULL",
                                    "Data": "2023-03-02 00:00:00.000",
                                    "Profundidade (m)": "66,73"
                                },
                                {
                                    "Codigo HGA": "WST-590",
                                    "Cota NA (m)": "NULL",
                                    "Cota Topo (m)": "NULL",
                                    "Data": "2023-03-06 00:00:00.000",
                                    "Profundidade (m)": "66,9"
                                },
                                {
                                    "Codigo HGA": "WST-590",
                                    "Cota NA (m)": "NULL",
                                    "Cota Topo (m)": "NULL",
                                    "Data": "2023-03-17 00:00:00.000",
                                    "Profundidade (m)": "100,7"
                                },
                                {
                                    "Codigo HGA": "WST-590",
                                    "Cota NA (m)": "NULL",
                                    "Cota Topo (m)": "NULL",
                                    "Data": "2023-03-22 00:00:00.000",
                                    "Profundidade (m)": "66,8"
                                }
                            ],
                            "schema": {
                                "fields": [
                                    {
                                        "name": "Codigo HGA"
                                    },
                                    {
                                        "name": "Data"
                                    },
                                    {
                                        "name": "Cota Topo (m)"
                                    },
                                    {
                                        "name": "Profundidade (m)"
                                    },
                                    {
                                        "name": "Cota NA (m)"
                                    }
                                ]
                            }
                        },
                        "text/html": [
                            "<table>\n",
                            "<tr><th>Codigo HGA</th><th>Data</th><th>Cota Topo (m)</th><th>Profundidade (m)</th><th>Cota NA (m)</th></tr>\n",
                            "<tr><td>WST-416</td><td>2017-09-22 00:00:00.000</td><td>1236,89</td><td>57,98</td><td>1178,91</td></tr>\n",
                            "<tr><td>WST-416</td><td>2017-09-27 00:00:00.000</td><td>1236,89</td><td>56,56</td><td>1180,33</td></tr>\n",
                            "<tr><td>WST-416</td><td>2017-10-04 00:00:00.000</td><td>1236,89</td><td>55</td><td>1181,89</td></tr>\n",
                            "<tr><td>WST-417</td><td>2017-09-15 00:00:00.000</td><td>1250,2</td><td>61,12</td><td>1189,08</td></tr>\n",
                            "<tr><td>WST-417</td><td>2017-09-22 00:00:00.000</td><td>1250,2</td><td>61,9</td><td>1188,3</td></tr>\n",
                            "<tr><td>WST-417</td><td>2017-09-28 00:00:00.000</td><td>1250,2</td><td>55,92</td><td>1194,28</td></tr>\n",
                            "<tr><td>WST-417</td><td>2017-10-04 00:00:00.000</td><td>1250,2</td><td>62,4</td><td>1187,8</td></tr>\n",
                            "<tr><td>WST-417</td><td>2017-10-11 00:00:00.000</td><td>1250,2</td><td>62,85</td><td>1187,35</td></tr>\n",
                            "<tr><td>WST-417</td><td>2017-10-19 00:00:00.000</td><td>1250,2</td><td>61,74</td><td>1188,46</td></tr>\n",
                            "<tr><td>WST-417</td><td>2017-10-27 00:00:00.000</td><td>1250,2</td><td>60,69</td><td>1189,51</td></tr>\n",
                            "<tr><td>WST-417</td><td>2017-10-30 00:00:00.000</td><td>1250,2</td><td>56,32</td><td>1193,88</td></tr>\n",
                            "<tr><td>WST-417</td><td>2017-11-03 00:00:00.000</td><td>1250,2</td><td>56,32</td><td>1193,88</td></tr>\n",
                            "<tr><td>WST-417</td><td>2017-11-10 00:00:00.000</td><td>1250,2</td><td>64,36</td><td>1185,84</td></tr>\n",
                            "<tr><td>WST-417</td><td>2017-11-20 00:00:00.000</td><td>1250,2</td><td>64,63</td><td>1185,57</td></tr>\n",
                            "<tr><td>WST-417</td><td>2017-11-27 00:00:00.000</td><td>1250,2</td><td>65,58</td><td>1184,62</td></tr>\n",
                            "<tr><td>WST-417</td><td>2017-11-30 00:00:00.000</td><td>1250,2</td><td>67,39</td><td>1182,81</td></tr>\n",
                            "<tr><td>WST-417</td><td>2017-12-07 00:00:00.000</td><td>1250,2</td><td>64,6</td><td>1185,6</td></tr>\n",
                            "<tr><td>WST-417</td><td>2017-12-14 00:00:00.000</td><td>1250,2</td><td>65,85</td><td>1184,35</td></tr>\n",
                            "<tr><td>WST-417</td><td>2017-12-20 00:00:00.000</td><td>1250,2</td><td>70,65</td><td>1179,55</td></tr>\n",
                            "<tr><td>WST-417</td><td>2018-01-05 00:00:00.000</td><td>1250,2</td><td>67,82</td><td>1182,38</td></tr>\n",
                            "<tr><td>WST-417</td><td>2018-01-12 00:00:00.000</td><td>1250,2</td><td>67,39</td><td>1182,81</td></tr>\n",
                            "<tr><td>WST-417</td><td>2018-01-17 00:00:00.000</td><td>1250,2</td><td>70,03</td><td>1180,17</td></tr>\n",
                            "<tr><td>WST-417</td><td>2018-01-24 00:00:00.000</td><td>1250,2</td><td>70,59</td><td>1179,61</td></tr>\n",
                            "<tr><td>WST-417</td><td>2018-02-02 00:00:00.000</td><td>1250,2</td><td>70,94</td><td>1179,26</td></tr>\n",
                            "<tr><td>WST-417</td><td>2018-02-15 00:00:00.000</td><td>1250,2</td><td>62,48</td><td>1187,72</td></tr>\n",
                            "<tr><td>WST-417</td><td>2018-02-23 00:00:00.000</td><td>1250,2</td><td>69,2</td><td>1181</td></tr>\n",
                            "<tr><td>WST-417</td><td>2018-03-09 00:00:00.000</td><td>1250,2</td><td>74,32</td><td>1175,88</td></tr>\n",
                            "<tr><td>WST-417</td><td>2018-03-15 00:00:00.000</td><td>1250,2</td><td>86,67</td><td>1163,53</td></tr>\n",
                            "<tr><td>WST-417</td><td>2018-04-06 00:00:00.000</td><td>1250,2</td><td>72,65</td><td>1177,55</td></tr>\n",
                            "<tr><td>WST-417</td><td>2018-04-13 00:00:00.000</td><td>1250,2</td><td>50,2</td><td>1200</td></tr>\n",
                            "<tr><td>WST-417</td><td>2018-04-20 00:00:00.000</td><td>1250,2</td><td>65,88</td><td>1184,32</td></tr>\n",
                            "<tr><td>WST-417</td><td>2018-04-26 00:00:00.000</td><td>1250,2</td><td>70,62</td><td>1179,58</td></tr>\n",
                            "<tr><td>WST-417</td><td>2018-05-03 00:00:00.000</td><td>1250,2</td><td>68,07</td><td>1182,13</td></tr>\n",
                            "<tr><td>WST-417</td><td>2018-05-11 00:00:00.000</td><td>1250,2</td><td>51,13</td><td>1199,07</td></tr>\n",
                            "<tr><td>WST-417</td><td>2018-05-18 00:00:00.000</td><td>1250,2</td><td>49,73</td><td>1200,47</td></tr>\n",
                            "<tr><td>WST-417</td><td>2018-06-08 00:00:00.000</td><td>1250,2</td><td>79,4</td><td>1170,8</td></tr>\n",
                            "<tr><td>WST-417</td><td>2018-06-15 00:00:00.000</td><td>1250,2</td><td>53,73</td><td>1196,47</td></tr>\n",
                            "<tr><td>WST-417</td><td>2018-07-20 00:00:00.000</td><td>1250,2</td><td>70,6</td><td>1179,6</td></tr>\n",
                            "<tr><td>WST-417</td><td>2018-07-27 00:00:00.000</td><td>1250,2</td><td>72,88</td><td>1177,32</td></tr>\n",
                            "<tr><td>WST-417</td><td>2018-08-03 00:00:00.000</td><td>1250,2</td><td>73,76</td><td>1176,44</td></tr>\n",
                            "<tr><td>WST-417</td><td>2018-08-24 00:00:00.000</td><td>1250,2</td><td>65,3</td><td>1184,9</td></tr>\n",
                            "<tr><td>WST-417</td><td>2018-08-31 00:00:00.000</td><td>1250,2</td><td>70,78</td><td>1179,42</td></tr>\n",
                            "<tr><td>WST-417</td><td>2018-09-05 00:00:00.000</td><td>1250,2</td><td>73,2</td><td>1177</td></tr>\n",
                            "<tr><td>WST-417</td><td>2018-09-13 00:00:00.000</td><td>1250,2</td><td>73,63</td><td>1176,57</td></tr>\n",
                            "<tr><td>WST-417</td><td>2018-09-26 00:00:00.000</td><td>1250,2</td><td>72,58</td><td>1177,62</td></tr>\n",
                            "<tr><td>WST-417</td><td>2018-10-03 00:00:00.000</td><td>1250,2</td><td>86,36</td><td>1163,84</td></tr>\n",
                            "<tr><td>WST-417</td><td>2018-10-10 00:00:00.000</td><td>1250,2</td><td>86,54</td><td>1163,66</td></tr>\n",
                            "<tr><td>WST-417</td><td>2018-11-01 00:00:00.000</td><td>1250,2</td><td>70,15</td><td>1180,05</td></tr>\n",
                            "<tr><td>WST-417</td><td>2018-11-14 00:00:00.000</td><td>1250,2</td><td>55,7</td><td>1194,5</td></tr>\n",
                            "<tr><td>WST-417</td><td>2018-11-29 00:00:00.000</td><td>1250,2</td><td>57,23</td><td>1192,97</td></tr>\n",
                            "<tr><td>WST-417</td><td>2018-12-24 00:00:00.000</td><td>1250,2</td><td>60,44</td><td>1189,76</td></tr>\n",
                            "<tr><td>WST-418</td><td>2017-05-18 00:00:00.000</td><td>1181,5</td><td>51,73</td><td>1129,77</td></tr>\n",
                            "<tr><td>WST-418</td><td>2017-05-22 00:00:00.000</td><td>1181,5</td><td>42,87</td><td>1138,63</td></tr>\n",
                            "<tr><td>WST-418</td><td>2017-06-02 00:00:00.000</td><td>1181,5</td><td>52,69</td><td>1128,81</td></tr>\n",
                            "<tr><td>WST-418</td><td>2017-06-08 00:00:00.000</td><td>1181,5</td><td>49,93</td><td>1131,57</td></tr>\n",
                            "<tr><td>WST-418</td><td>2017-06-16 00:00:00.000</td><td>1181,5</td><td>NULL</td><td>NULL</td></tr>\n",
                            "<tr><td>WST-418</td><td>2017-10-30 00:00:00.000</td><td>1181,5</td><td>84,12</td><td>1097,38</td></tr>\n",
                            "<tr><td>WST-418</td><td>2017-11-30 00:00:00.000</td><td>1181,5</td><td>86,97</td><td>1094,53</td></tr>\n",
                            "<tr><td>WST-418</td><td>2017-12-28 00:00:00.000</td><td>1181,5</td><td>86,8</td><td>1094,7</td></tr>\n",
                            "<tr><td>WST-418</td><td>2018-01-24 00:00:00.000</td><td>1181,5</td><td>60,9</td><td>1120,6</td></tr>\n",
                            "<tr><td>WST-418</td><td>2018-02-21 00:00:00.000</td><td>1181,5</td><td>68,13</td><td>1113,37</td></tr>\n",
                            "<tr><td>WST-418</td><td>2018-03-26 00:00:00.000</td><td>1181,5</td><td>74,81</td><td>1106,69</td></tr>\n",
                            "<tr><td>WST-418</td><td>2018-03-28 00:00:00.000</td><td>1181,5</td><td>74,81</td><td>1106,69</td></tr>\n",
                            "<tr><td>WST-418</td><td>2018-04-13 00:00:00.000</td><td>1181,5</td><td>80,69</td><td>1100,81</td></tr>\n",
                            "<tr><td>WST-418</td><td>2018-05-18 00:00:00.000</td><td>1181,5</td><td>79,97</td><td>1101,53</td></tr>\n",
                            "<tr><td>WST-418</td><td>2018-06-04 00:00:00.000</td><td>1181,5</td><td>79,97</td><td>1101,53</td></tr>\n",
                            "<tr><td>WST-418</td><td>2019-05-31 00:00:00.000</td><td>1181,5</td><td>65,4</td><td>1116,1</td></tr>\n",
                            "<tr><td>WST-418</td><td>2019-06-14 00:00:00.000</td><td>1181,5</td><td>65,5</td><td>1116</td></tr>\n",
                            "<tr><td>WST-418</td><td>2019-09-03 00:00:00.000</td><td>1181,5</td><td>32,96</td><td>1148,54</td></tr>\n",
                            "<tr><td>WST-418</td><td>2020-03-22 00:00:00.000</td><td>1181,5</td><td>17,42</td><td>1164,08</td></tr>\n",
                            "<tr><td>WST-418</td><td>2020-03-26 00:00:00.000</td><td>1181,5</td><td>16,56</td><td>1164,94</td></tr>\n",
                            "<tr><td>WST-418</td><td>2020-04-01 00:00:00.000</td><td>1181,5</td><td>16,4</td><td>1165,1</td></tr>\n",
                            "<tr><td>WST-418</td><td>2021-01-25 00:00:00.000</td><td>1181,5</td><td>30,11</td><td>1151,39</td></tr>\n",
                            "<tr><td>WST-418</td><td>2021-02-02 00:00:00.000</td><td>1181,5</td><td>30,25</td><td>1151,25</td></tr>\n",
                            "<tr><td>WST-418</td><td>2021-02-08 00:00:00.000</td><td>1181,5</td><td>28,95</td><td>1152,55</td></tr>\n",
                            "<tr><td>WST-418</td><td>2021-02-18 00:00:00.000</td><td>1181,5</td><td>27,19</td><td>1154,31</td></tr>\n",
                            "<tr><td>WST-418</td><td>2021-02-22 00:00:00.000</td><td>1181,5</td><td>26,98</td><td>1154,52</td></tr>\n",
                            "<tr><td>WST-418</td><td>2021-03-01 00:00:00.000</td><td>1181,5</td><td>25,99</td><td>1155,51</td></tr>\n",
                            "<tr><td>WST-418</td><td>2021-03-08 00:00:00.000</td><td>1181,5</td><td>25,37</td><td>1156,13</td></tr>\n",
                            "<tr><td>WST-418</td><td>2021-03-18 00:00:00.000</td><td>1181,5</td><td>27,12</td><td>1154,38</td></tr>\n",
                            "<tr><td>WST-418</td><td>2021-03-25 00:00:00.000</td><td>1181,5</td><td>27,25</td><td>1154,25</td></tr>\n",
                            "<tr><td>WST-418</td><td>2021-04-01 00:00:00.000</td><td>1181,5</td><td>28,31</td><td>1153,19</td></tr>\n",
                            "<tr><td>WST-418</td><td>2021-04-05 00:00:00.000</td><td>1181,5</td><td>28,5</td><td>1153</td></tr>\n",
                            "<tr><td>WST-418</td><td>2021-04-12 00:00:00.000</td><td>1181,5</td><td>29</td><td>1152,5</td></tr>\n",
                            "<tr><td>WST-418</td><td>2021-04-19 00:00:00.000</td><td>1181,5</td><td>28,98</td><td>1152,52</td></tr>\n",
                            "<tr><td>WST-418</td><td>2021-04-28 00:00:00.000</td><td>1181,5</td><td>30,37</td><td>1151,13</td></tr>\n",
                            "<tr><td>WST-418</td><td>2021-05-03 00:00:00.000</td><td>1181,5</td><td>30,52</td><td>1150,98</td></tr>\n",
                            "<tr><td>WST-418</td><td>2021-05-12 00:00:00.000</td><td>1181,5</td><td>30,31</td><td>1151,19</td></tr>\n",
                            "<tr><td>WST-418</td><td>2021-05-18 00:00:00.000</td><td>1181,5</td><td>30,92</td><td>1150,58</td></tr>\n",
                            "<tr><td>WST-418</td><td>2021-05-24 00:00:00.000</td><td>1181,5</td><td>31,44</td><td>1150,06</td></tr>\n",
                            "<tr><td>WST-418</td><td>2021-05-31 00:00:00.000</td><td>1181,5</td><td>31,72</td><td>1149,78</td></tr>\n",
                            "<tr><td>WST-418</td><td>2021-06-07 00:00:00.000</td><td>1181,5</td><td>32,02</td><td>1149,48</td></tr>\n",
                            "<tr><td>WST-418</td><td>2021-06-15 00:00:00.000</td><td>1181,5</td><td>29,89</td><td>1151,61</td></tr>\n",
                            "<tr><td>WST-418</td><td>2021-06-22 00:00:00.000</td><td>1181,5</td><td>30,57</td><td>1150,93</td></tr>\n",
                            "<tr><td>WST-418</td><td>2021-06-30 00:00:00.000</td><td>1181,5</td><td>31,89</td><td>1149,61</td></tr>\n",
                            "<tr><td>WST-418</td><td>2021-07-08 00:00:00.000</td><td>1181,5</td><td>32,66</td><td>1148,84</td></tr>\n",
                            "<tr><td>WST-418</td><td>2021-07-12 00:00:00.000</td><td>1181,5</td><td>33,3</td><td>1148,2</td></tr>\n",
                            "<tr><td>WST-418</td><td>2021-07-28 00:00:00.000</td><td>1181,5</td><td>34,4</td><td>1147,1</td></tr>\n",
                            "<tr><td>WST-418</td><td>2021-08-06 00:00:00.000</td><td>1181,5</td><td>34,5</td><td>1147</td></tr>\n",
                            "<tr><td>WST-418</td><td>2021-08-10 00:00:00.000</td><td>1181,5</td><td>34,78</td><td>1146,72</td></tr>\n",
                            "<tr><td>WST-418</td><td>2021-08-18 00:00:00.000</td><td>1181,5</td><td>35,68</td><td>1145,82</td></tr>\n",
                            "<tr><td>WST-418</td><td>2021-08-25 00:00:00.000</td><td>1181,5</td><td>35,53</td><td>1145,97</td></tr>\n",
                            "<tr><td>WST-418</td><td>2021-09-01 00:00:00.000</td><td>1181,5</td><td>35,7</td><td>1145,8</td></tr>\n",
                            "<tr><td>WST-418</td><td>2021-09-10 00:00:00.000</td><td>1181,5</td><td>37,37</td><td>1144,13</td></tr>\n",
                            "<tr><td>WST-418</td><td>2021-09-17 00:00:00.000</td><td>1181,5</td><td>36,41</td><td>1145,09</td></tr>\n",
                            "<tr><td>WST-418</td><td>2021-09-20 00:00:00.000</td><td>1181,5</td><td>34,91</td><td>1146,59</td></tr>\n",
                            "<tr><td>WST-418</td><td>2021-09-30 00:00:00.000</td><td>1181,5</td><td>36,29</td><td>1145,21</td></tr>\n",
                            "<tr><td>WST-418</td><td>2021-10-08 00:00:00.000</td><td>1181,5</td><td>37,43</td><td>1144,07</td></tr>\n",
                            "<tr><td>WST-418</td><td>2021-10-15 00:00:00.000</td><td>1181,5</td><td>37,54</td><td>1143,96</td></tr>\n",
                            "<tr><td>WST-418</td><td>2021-10-18 00:00:00.000</td><td>1181,5</td><td>38,03</td><td>1143,47</td></tr>\n",
                            "<tr><td>WST-418</td><td>2021-10-29 00:00:00.000</td><td>1181,5</td><td>37,89</td><td>1143,61</td></tr>\n",
                            "<tr><td>WST-418</td><td>2021-11-04 00:00:00.000</td><td>1181,5</td><td>36,7</td><td>1144,8</td></tr>\n",
                            "<tr><td>WST-418</td><td>2021-11-12 00:00:00.000</td><td>1181,5</td><td>38,28</td><td>1143,22</td></tr>\n",
                            "<tr><td>WST-418</td><td>2021-11-17 00:00:00.000</td><td>1181,5</td><td>38,78</td><td>1142,72</td></tr>\n",
                            "<tr><td>WST-418</td><td>2022-03-30 00:00:00.000</td><td>1181,5</td><td>22,44</td><td>1159,06</td></tr>\n",
                            "<tr><td>WST-418</td><td>2022-04-01 00:00:00.000</td><td>1181,5</td><td>23,68</td><td>1157,82</td></tr>\n",
                            "<tr><td>WST-418</td><td>2022-04-04 00:00:00.000</td><td>1181,5</td><td>22,03</td><td>1159,47</td></tr>\n",
                            "<tr><td>WST-418</td><td>2022-04-05 00:00:00.000</td><td>1181,5</td><td>21,78</td><td>1159,72</td></tr>\n",
                            "<tr><td>WST-418</td><td>2022-04-06 00:00:00.000</td><td>1181,5</td><td>21,25</td><td>1160,25</td></tr>\n",
                            "<tr><td>WST-418</td><td>2022-04-07 00:00:00.000</td><td>1181,5</td><td>21,46</td><td>1160,04</td></tr>\n",
                            "<tr><td>WST-418</td><td>2022-04-08 00:00:00.000</td><td>1181,5</td><td>21,36</td><td>1160,14</td></tr>\n",
                            "<tr><td>WST-418</td><td>2022-04-11 00:00:00.000</td><td>1181,5</td><td>20,85</td><td>1160,65</td></tr>\n",
                            "<tr><td>WST-418</td><td>2022-04-12 00:00:00.000</td><td>1181,5</td><td>20,83</td><td>1160,67</td></tr>\n",
                            "<tr><td>WST-418</td><td>2022-04-13 00:00:00.000</td><td>1181,5</td><td>20,93</td><td>1160,57</td></tr>\n",
                            "<tr><td>WST-418</td><td>2022-04-14 00:00:00.000</td><td>1181,5</td><td>2,06</td><td>1179,44</td></tr>\n",
                            "<tr><td>WST-418</td><td>2022-04-15 00:00:00.000</td><td>1181,5</td><td>20,34</td><td>1161,16</td></tr>\n",
                            "<tr><td>WST-418</td><td>2022-04-18 00:00:00.000</td><td>1181,5</td><td>22,16</td><td>1159,34</td></tr>\n",
                            "<tr><td>WST-418</td><td>2022-04-19 00:00:00.000</td><td>1181,5</td><td>22,47</td><td>1159,03</td></tr>\n",
                            "<tr><td>WST-418</td><td>2022-04-20 00:00:00.000</td><td>1181,5</td><td>22,78</td><td>1158,72</td></tr>\n",
                            "<tr><td>WST-418</td><td>2022-04-21 00:00:00.000</td><td>1181,5</td><td>21,55</td><td>1159,95</td></tr>\n",
                            "<tr><td>WST-418</td><td>2022-04-22 00:00:00.000</td><td>1181,5</td><td>22,88</td><td>1158,62</td></tr>\n",
                            "<tr><td>WST-418</td><td>2022-04-25 00:00:00.000</td><td>1181,5</td><td>23,69</td><td>1157,81</td></tr>\n",
                            "<tr><td>WST-418</td><td>2022-04-26 00:00:00.000</td><td>1181,5</td><td>23,85</td><td>1157,65</td></tr>\n",
                            "<tr><td>WST-418</td><td>2022-04-27 00:00:00.000</td><td>1181,5</td><td>24,04</td><td>1157,46</td></tr>\n",
                            "<tr><td>WST-418</td><td>2022-04-29 00:00:00.000</td><td>1181,5</td><td>24,35</td><td>1157,15</td></tr>\n",
                            "<tr><td>WST-418</td><td>2022-04-30 00:00:00.000</td><td>1181,5</td><td>24,5</td><td>1157</td></tr>\n",
                            "<tr><td>WST-418</td><td>2022-05-02 00:00:00.000</td><td>1181,5</td><td>24,74</td><td>1156,76</td></tr>\n",
                            "<tr><td>WST-418</td><td>2022-05-03 00:00:00.000</td><td>1181,5</td><td>24,84</td><td>1156,66</td></tr>\n",
                            "<tr><td>WST-418</td><td>2022-05-04 00:00:00.000</td><td>1181,5</td><td>24,94</td><td>1156,56</td></tr>\n",
                            "<tr><td>WST-418</td><td>2022-05-05 00:00:00.000</td><td>1181,5</td><td>25,04</td><td>1156,46</td></tr>\n",
                            "<tr><td>WST-418</td><td>2022-05-06 00:00:00.000</td><td>1181,5</td><td>25,15</td><td>1156,35</td></tr>\n",
                            "<tr><td>WST-418</td><td>2022-05-07 00:00:00.000</td><td>1181,5</td><td>25,26</td><td>1156,24</td></tr>\n",
                            "<tr><td>WST-418</td><td>2022-05-09 00:00:00.000</td><td>1181,5</td><td>25,25</td><td>1156,25</td></tr>\n",
                            "<tr><td>WST-418</td><td>2022-05-10 00:00:00.000</td><td>1181,5</td><td>24,92</td><td>1156,58</td></tr>\n",
                            "<tr><td>WST-418</td><td>2022-05-19 00:00:00.000</td><td>1181,5</td><td>24,17</td><td>1157,33</td></tr>\n",
                            "<tr><td>WST-418</td><td>2022-05-23 00:00:00.000</td><td>1181,5</td><td>25,21</td><td>1156,29</td></tr>\n",
                            "<tr><td>WST-418</td><td>2022-07-14 00:00:00.000</td><td>1181,5</td><td>25,23</td><td>1156,27</td></tr>\n",
                            "<tr><td>WST-418</td><td>2022-07-19 00:00:00.000</td><td>1181,5</td><td>26,23</td><td>1155,27</td></tr>\n",
                            "<tr><td>WST-418</td><td>2022-07-25 00:00:00.000</td><td>1181,5</td><td>28,95</td><td>1152,55</td></tr>\n",
                            "<tr><td>WST-418</td><td>2022-08-08 00:00:00.000</td><td>1181,5</td><td>29,45</td><td>1152,05</td></tr>\n",
                            "<tr><td>WST-418</td><td>2022-09-09 00:00:00.000</td><td>1181,5</td><td>38,82</td><td>1142,68</td></tr>\n",
                            "<tr><td>WST-418</td><td>2022-09-26 00:00:00.000</td><td>1181,5</td><td>32,45</td><td>1149,05</td></tr>\n",
                            "<tr><td>WST-418</td><td>2022-10-13 00:00:00.000</td><td>1181,5</td><td>33,16</td><td>1148,34</td></tr>\n",
                            "<tr><td>WST-418</td><td>2022-11-01 00:00:00.000</td><td>1181,5</td><td>29,87</td><td>1151,63</td></tr>\n",
                            "<tr><td>WST-418</td><td>2022-11-08 00:00:00.000</td><td>1181,5</td><td>30,53</td><td>1150,97</td></tr>\n",
                            "<tr><td>WST-418</td><td>2022-11-16 00:00:00.000</td><td>1181,5</td><td>27,48</td><td>1154,02</td></tr>\n",
                            "<tr><td>WST-418</td><td>2022-11-24 00:00:00.000</td><td>1181,5</td><td>29,94</td><td>1151,56</td></tr>\n",
                            "<tr><td>WST-418</td><td>2022-12-21 00:00:00.000</td><td>1181,5</td><td>29,54</td><td>1151,96</td></tr>\n",
                            "<tr><td>WST-418</td><td>2022-12-28 00:00:00.000</td><td>1181,5</td><td>30,45</td><td>1151,05</td></tr>\n",
                            "<tr><td>WST-418</td><td>2023-02-02 00:00:00.000</td><td>1181,5</td><td>25,83</td><td>1155,67</td></tr>\n",
                            "<tr><td>WST-418</td><td>2023-02-03 00:00:00.000</td><td>1181,5</td><td>NULL</td><td>NULL</td></tr>\n",
                            "<tr><td>WST-418</td><td>2023-02-06 00:00:00.000</td><td>1181,5</td><td>26,31</td><td>1155,19</td></tr>\n",
                            "<tr><td>WST-418</td><td>2023-02-15 00:00:00.000</td><td>1181,5</td><td>27,09</td><td>1154,41</td></tr>\n",
                            "<tr><td>WST-418</td><td>2023-02-24 00:00:00.000</td><td>1181,5</td><td>26,69</td><td>1154,81</td></tr>\n",
                            "<tr><td>WST-418</td><td>2023-03-01 00:00:00.000</td><td>1181,5</td><td>25,86</td><td>1155,64</td></tr>\n",
                            "<tr><td>WST-418</td><td>2023-03-07 00:00:00.000</td><td>1181,5</td><td>28,27</td><td>1153,23</td></tr>\n",
                            "<tr><td>WST-418</td><td>2023-03-31 00:00:00.000</td><td>1181,5</td><td>27,21</td><td>1154,29</td></tr>\n",
                            "<tr><td>WST-418</td><td>2023-04-05 00:00:00.000</td><td>1181,5</td><td>27,55</td><td>1153,95</td></tr>\n",
                            "<tr><td>WST-418</td><td>2023-05-02 00:00:00.000</td><td>1181,5</td><td>38,23</td><td>1143,27</td></tr>\n",
                            "<tr><td>WST-418</td><td>2023-06-02 00:00:00.000</td><td>1181,5</td><td>48,52</td><td>1132,98</td></tr>\n",
                            "<tr><td>WST-419</td><td>2017-05-18 00:00:00.000</td><td>1195,9</td><td>51,73</td><td>1144,17</td></tr>\n",
                            "<tr><td>WST-419</td><td>2017-05-22 00:00:00.000</td><td>1195,9</td><td>42,87</td><td>1153,03</td></tr>\n",
                            "<tr><td>WST-419</td><td>2017-06-02 00:00:00.000</td><td>1195,9</td><td>52,69</td><td>1143,21</td></tr>\n",
                            "<tr><td>WST-419</td><td>2017-06-08 00:00:00.000</td><td>1195,9</td><td>49,93</td><td>1145,97</td></tr>\n",
                            "<tr><td>WST-419</td><td>2017-06-16 00:00:00.000</td><td>1195,9</td><td>NULL</td><td>NULL</td></tr>\n",
                            "<tr><td>WST-419</td><td>2017-08-25 00:00:00.000</td><td>1195,9</td><td>100,62</td><td>1095,28</td></tr>\n",
                            "<tr><td>WST-419</td><td>2017-09-28 00:00:00.000</td><td>1195,9</td><td>94,56</td><td>1101,34</td></tr>\n",
                            "<tr><td>WST-419</td><td>2017-10-30 00:00:00.000</td><td>1195,9</td><td>43,46</td><td>1152,44</td></tr>\n",
                            "<tr><td>WST-419</td><td>2017-11-10 00:00:00.000</td><td>1195,9</td><td>43,46</td><td>1152,44</td></tr>\n",
                            "<tr><td>WST-419</td><td>2017-11-20 00:00:00.000</td><td>1195,9</td><td>44,05</td><td>1151,85</td></tr>\n",
                            "<tr><td>WST-419</td><td>2017-11-23 00:00:00.000</td><td>1195,9</td><td>40,65</td><td>1155,25</td></tr>\n",
                            "<tr><td>WST-419</td><td>2017-11-29 00:00:00.000</td><td>1195,9</td><td>44,97</td><td>1150,93</td></tr>\n",
                            "<tr><td>WST-419</td><td>2017-12-04 00:00:00.000</td><td>1195,9</td><td>45,22</td><td>1150,68</td></tr>\n",
                            "<tr><td>WST-419</td><td>2017-12-28 00:00:00.000</td><td>1195,9</td><td>101,67</td><td>1094,23</td></tr>\n",
                            "<tr><td>WST-419</td><td>2018-01-24 00:00:00.000</td><td>1195,9</td><td>89,04</td><td>1106,86</td></tr>\n",
                            "<tr><td>WST-419</td><td>2018-02-21 00:00:00.000</td><td>1195,9</td><td>86,8</td><td>1109,1</td></tr>\n",
                            "<tr><td>WST-419</td><td>2018-03-26 00:00:00.000</td><td>1195,9</td><td>87,75</td><td>1108,15</td></tr>\n",
                            "<tr><td>WST-419</td><td>2018-03-28 00:00:00.000</td><td>1195,9</td><td>87,85</td><td>1108,05</td></tr>\n",
                            "<tr><td>WST-419</td><td>2018-04-13 00:00:00.000</td><td>1195,9</td><td>70,27</td><td>1125,63</td></tr>\n",
                            "<tr><td>WST-419</td><td>2018-05-18 00:00:00.000</td><td>1195,9</td><td>55,33</td><td>1140,57</td></tr>\n",
                            "<tr><td>WST-419</td><td>2018-06-22 00:00:00.000</td><td>1195,9</td><td>35,91</td><td>1159,99</td></tr>\n",
                            "<tr><td>WST-419</td><td>2018-07-30 00:00:00.000</td><td>1195,9</td><td>57,23</td><td>1138,67</td></tr>\n",
                            "<tr><td>WST-419</td><td>2018-08-31 00:00:00.000</td><td>1195,9</td><td>57,23</td><td>1138,67</td></tr>\n",
                            "<tr><td>WST-419</td><td>2019-01-30 00:00:00.000</td><td>1195,9</td><td>18,95</td><td>1176,95</td></tr>\n",
                            "<tr><td>WST-419</td><td>2019-06-26 00:00:00.000</td><td>1195,9</td><td>69,11</td><td>1126,79</td></tr>\n",
                            "<tr><td>WST-420</td><td>2016-12-30 00:00:00.000</td><td>1211,9</td><td>16,6</td><td>1195,3</td></tr>\n",
                            "<tr><td>WST-420</td><td>2017-01-11 00:00:00.000</td><td>1211,9</td><td>17,82</td><td>1194,08</td></tr>\n",
                            "<tr><td>WST-420</td><td>2017-01-25 00:00:00.000</td><td>1211,9</td><td>NULL</td><td>NULL</td></tr>\n",
                            "<tr><td>WST-420</td><td>2017-02-03 00:00:00.000</td><td>1211,9</td><td>NULL</td><td>NULL</td></tr>\n",
                            "<tr><td>WST-420</td><td>2017-02-10 00:00:00.000</td><td>1211,9</td><td>NULL</td><td>NULL</td></tr>\n",
                            "<tr><td>WST-420</td><td>2017-02-16 00:00:00.000</td><td>1211,9</td><td>NULL</td><td>NULL</td></tr>\n",
                            "<tr><td>WST-420</td><td>2017-02-22 00:00:00.000</td><td>1211,9</td><td>NULL</td><td>NULL</td></tr>\n",
                            "<tr><td>WST-420</td><td>2017-03-03 00:00:00.000</td><td>1211,9</td><td>NULL</td><td>NULL</td></tr>\n",
                            "<tr><td>WST-420</td><td>2017-03-10 00:00:00.000</td><td>1211,9</td><td>NULL</td><td>NULL</td></tr>\n",
                            "<tr><td>WST-420</td><td>2017-03-17 00:00:00.000</td><td>1211,9</td><td>NULL</td><td>NULL</td></tr>\n",
                            "<tr><td>WST-420</td><td>2017-03-24 00:00:00.000</td><td>1211,9</td><td>NULL</td><td>NULL</td></tr>\n",
                            "<tr><td>WST-420</td><td>2017-03-30 00:00:00.000</td><td>1211,9</td><td>NULL</td><td>NULL</td></tr>\n",
                            "<tr><td>WST-420</td><td>2017-04-13 00:00:00.000</td><td>1211,9</td><td>NULL</td><td>NULL</td></tr>\n",
                            "<tr><td>WST-420</td><td>2017-04-20 00:00:00.000</td><td>1211,9</td><td>NULL</td><td>NULL</td></tr>\n",
                            "<tr><td>WST-420</td><td>2017-04-24 00:00:00.000</td><td>1211,9</td><td>NULL</td><td>NULL</td></tr>\n",
                            "<tr><td>WST-420</td><td>2017-08-25 00:00:00.000</td><td>1211,9</td><td>62,76</td><td>1149,14</td></tr>\n",
                            "<tr><td>WST-420</td><td>2017-10-31 00:00:00.000</td><td>1211,9</td><td>21,2</td><td>1190,7</td></tr>\n",
                            "<tr><td>WST-420</td><td>2017-11-20 00:00:00.000</td><td>1211,9</td><td>20,79</td><td>1191,11</td></tr>\n",
                            "<tr><td>WST-420</td><td>2018-02-08 00:00:00.000</td><td>1211,9</td><td>21,2</td><td>1190,7</td></tr>\n",
                            "<tr><td>WST-420</td><td>2018-02-14 00:00:00.000</td><td>1211,9</td><td>20,77</td><td>1191,13</td></tr>\n",
                            "<tr><td>WST-420</td><td>2018-02-22 00:00:00.000</td><td>1211,9</td><td>20,31</td><td>1191,59</td></tr>\n",
                            "<tr><td>WST-420</td><td>2018-02-27 00:00:00.000</td><td>1211,9</td><td>20,72</td><td>1191,18</td></tr>\n",
                            "<tr><td>WST-420</td><td>2018-03-08 00:00:00.000</td><td>1211,9</td><td>21,1</td><td>1190,8</td></tr>\n",
                            "<tr><td>WST-420</td><td>2018-03-16 00:00:00.000</td><td>1211,9</td><td>21,24</td><td>1190,66</td></tr>\n",
                            "<tr><td>WST-420</td><td>2018-03-23 00:00:00.000</td><td>1211,9</td><td>20,42</td><td>1191,48</td></tr>\n",
                            "<tr><td>WST-420</td><td>2018-04-05 00:00:00.000</td><td>1211,9</td><td>19,43</td><td>1192,47</td></tr>\n",
                            "<tr><td>WST-420</td><td>2018-04-11 00:00:00.000</td><td>1211,9</td><td>18,47</td><td>1193,43</td></tr>\n",
                            "<tr><td>WST-420</td><td>2018-04-19 00:00:00.000</td><td>1211,9</td><td>19,46</td><td>1192,44</td></tr>\n",
                            "<tr><td>WST-420</td><td>2018-04-26 00:00:00.000</td><td>1211,9</td><td>18,45</td><td>1193,45</td></tr>\n",
                            "<tr><td>WST-420</td><td>2018-05-03 00:00:00.000</td><td>1211,9</td><td>18,22</td><td>1193,68</td></tr>\n",
                            "<tr><td>WST-420</td><td>2018-05-09 00:00:00.000</td><td>1211,9</td><td>19,07</td><td>1192,83</td></tr>\n",
                            "<tr><td>WST-420</td><td>2018-05-16 00:00:00.000</td><td>1211,9</td><td>19,38</td><td>1192,52</td></tr>\n",
                            "<tr><td>WST-420</td><td>2018-06-14 00:00:00.000</td><td>1211,9</td><td>22,07</td><td>1189,83</td></tr>\n",
                            "<tr><td>WST-420</td><td>2018-06-22 00:00:00.000</td><td>1211,9</td><td>21,35</td><td>1190,55</td></tr>\n",
                            "<tr><td>WST-420</td><td>2018-06-25 00:00:00.000</td><td>1211,9</td><td>24,08</td><td>1187,82</td></tr>\n",
                            "<tr><td>WST-420</td><td>2018-07-03 00:00:00.000</td><td>1211,9</td><td>24,91</td><td>1186,99</td></tr>\n",
                            "<tr><td>WST-420</td><td>2018-07-12 00:00:00.000</td><td>1211,9</td><td>25,78</td><td>1186,12</td></tr>\n",
                            "<tr><td>WST-420</td><td>2018-07-17 00:00:00.000</td><td>1211,9</td><td>26,13</td><td>1185,77</td></tr>\n",
                            "<tr><td>WST-420</td><td>2018-07-26 00:00:00.000</td><td>1211,9</td><td>26,45</td><td>1185,45</td></tr>\n",
                            "<tr><td>WST-420</td><td>2018-08-03 00:00:00.000</td><td>1211,9</td><td>27,25</td><td>1184,65</td></tr>\n",
                            "<tr><td>WST-420</td><td>2018-08-10 00:00:00.000</td><td>1211,9</td><td>27,18</td><td>1184,72</td></tr>\n",
                            "<tr><td>WST-420</td><td>2018-08-17 00:00:00.000</td><td>1211,9</td><td>27,22</td><td>1184,68</td></tr>\n",
                            "<tr><td>WST-420</td><td>2018-08-22 00:00:00.000</td><td>1211,9</td><td>26,31</td><td>1185,59</td></tr>\n",
                            "<tr><td>WST-420</td><td>2018-09-03 00:00:00.000</td><td>1211,9</td><td>28,77</td><td>1183,13</td></tr>\n",
                            "<tr><td>WST-420</td><td>2018-09-26 00:00:00.000</td><td>1211,9</td><td>28,89</td><td>1183,01</td></tr>\n",
                            "<tr><td>WST-420</td><td>2018-10-03 00:00:00.000</td><td>1211,9</td><td>29,3</td><td>1182,6</td></tr>\n",
                            "<tr><td>WST-420</td><td>2018-10-08 00:00:00.000</td><td>1211,9</td><td>29,65</td><td>1182,25</td></tr>\n",
                            "<tr><td>WST-420</td><td>2018-10-25 00:00:00.000</td><td>1211,9</td><td>28,28</td><td>1183,62</td></tr>\n",
                            "<tr><td>WST-420</td><td>2018-10-30 00:00:00.000</td><td>1211,9</td><td>29,63</td><td>1182,27</td></tr>\n",
                            "<tr><td>WST-420</td><td>2018-11-12 00:00:00.000</td><td>1211,9</td><td>28,57</td><td>1183,33</td></tr>\n",
                            "<tr><td>WST-420</td><td>2018-11-29 00:00:00.000</td><td>1211,9</td><td>25,72</td><td>1186,18</td></tr>\n",
                            "<tr><td>WST-420</td><td>2018-12-21 00:00:00.000</td><td>1211,9</td><td>22,6</td><td>1189,3</td></tr>\n",
                            "<tr><td>WST-420</td><td>2018-12-28 00:00:00.000</td><td>1211,9</td><td>21,66</td><td>1190,24</td></tr>\n",
                            "<tr><td>WST-420</td><td>2019-01-11 00:00:00.000</td><td>1211,9</td><td>20,74</td><td>1191,16</td></tr>\n",
                            "<tr><td>WST-420</td><td>2019-01-16 00:00:00.000</td><td>1211,9</td><td>20,38</td><td>1191,52</td></tr>\n",
                            "<tr><td>WST-420</td><td>2019-01-25 00:00:00.000</td><td>1211,9</td><td>19,93</td><td>1191,97</td></tr>\n",
                            "<tr><td>WST-420</td><td>2019-02-01 00:00:00.000</td><td>1211,9</td><td>20,44</td><td>1191,46</td></tr>\n",
                            "<tr><td>WST-420</td><td>2019-02-08 00:00:00.000</td><td>1211,9</td><td>20,3</td><td>1191,6</td></tr>\n",
                            "<tr><td>WST-420</td><td>2019-02-14 00:00:00.000</td><td>1211,9</td><td>20,15</td><td>1191,75</td></tr>\n",
                            "<tr><td>WST-420</td><td>2019-02-21 00:00:00.000</td><td>1211,9</td><td>20,67</td><td>1191,23</td></tr>\n",
                            "<tr><td>WST-420</td><td>2019-02-27 00:00:00.000</td><td>1211,9</td><td>20,74</td><td>1191,16</td></tr>\n",
                            "<tr><td>WST-420</td><td>2019-03-06 00:00:00.000</td><td>1211,9</td><td>20,48</td><td>1191,42</td></tr>\n",
                            "<tr><td>WST-420</td><td>2019-03-15 00:00:00.000</td><td>1211,9</td><td>19,2</td><td>1192,7</td></tr>\n",
                            "<tr><td>WST-420</td><td>2019-03-29 00:00:00.000</td><td>1211,9</td><td>18,67</td><td>1193,23</td></tr>\n",
                            "<tr><td>WST-420</td><td>2019-04-03 00:00:00.000</td><td>1211,9</td><td>18,48</td><td>1193,42</td></tr>\n",
                            "<tr><td>WST-420</td><td>2019-04-12 00:00:00.000</td><td>1211,9</td><td>16,39</td><td>1195,51</td></tr>\n",
                            "<tr><td>WST-420</td><td>2019-04-26 00:00:00.000</td><td>1211,9</td><td>19,34</td><td>1192,56</td></tr>\n",
                            "<tr><td>WST-420</td><td>2019-04-29 00:00:00.000</td><td>1211,9</td><td>19,07</td><td>1192,83</td></tr>\n",
                            "<tr><td>WST-420</td><td>2019-05-03 00:00:00.000</td><td>1211,9</td><td>19,02</td><td>1192,88</td></tr>\n",
                            "<tr><td>WST-420</td><td>2019-05-10 00:00:00.000</td><td>1211,9</td><td>18,74</td><td>1193,16</td></tr>\n",
                            "<tr><td>WST-420</td><td>2019-05-21 00:00:00.000</td><td>1211,9</td><td>18,73</td><td>1193,17</td></tr>\n",
                            "<tr><td>WST-420</td><td>2019-07-08 00:00:00.000</td><td>1211,9</td><td>5,33</td><td>1206,57</td></tr>\n",
                            "<tr><td>WST-420</td><td>2019-07-22 00:00:00.000</td><td>1211,9</td><td>6,47</td><td>1205,43</td></tr>\n",
                            "<tr><td>WST-420</td><td>2019-08-01 00:00:00.000</td><td>1211,9</td><td>6,75</td><td>1205,15</td></tr>\n",
                            "<tr><td>WST-420</td><td>2019-08-14 00:00:00.000</td><td>1211,9</td><td>5</td><td>1206,9</td></tr>\n",
                            "<tr><td>WST-420</td><td>2019-08-21 00:00:00.000</td><td>1211,9</td><td>5</td><td>1206,9</td></tr>\n",
                            "<tr><td>WST-420</td><td>2019-08-30 00:00:00.000</td><td>1211,9</td><td>5,88</td><td>1206,02</td></tr>\n",
                            "<tr><td>WST-420</td><td>2019-09-05 00:00:00.000</td><td>1211,9</td><td>5,74</td><td>1206,16</td></tr>\n",
                            "<tr><td>WST-420</td><td>2019-09-09 00:00:00.000</td><td>1211,9</td><td>5,44</td><td>1206,46</td></tr>\n",
                            "<tr><td>WST-420</td><td>2019-09-23 00:00:00.000</td><td>1211,9</td><td>6,66</td><td>1205,24</td></tr>\n",
                            "<tr><td>WST-420</td><td>2019-10-10 00:00:00.000</td><td>1211,9</td><td>7,29</td><td>1204,61</td></tr>\n",
                            "<tr><td>WST-420</td><td>2019-10-22 00:00:00.000</td><td>1211,9</td><td>8,02</td><td>1203,88</td></tr>\n",
                            "<tr><td>WST-420</td><td>2019-10-29 00:00:00.000</td><td>1211,9</td><td>8,45</td><td>1203,45</td></tr>\n",
                            "<tr><td>WST-420</td><td>2019-11-05 00:00:00.000</td><td>1211,9</td><td>8,54</td><td>1203,36</td></tr>\n",
                            "<tr><td>WST-420</td><td>2019-12-03 00:00:00.000</td><td>1211,9</td><td>9,9</td><td>1202</td></tr>\n",
                            "<tr><td>WST-420</td><td>2019-12-18 00:00:00.000</td><td>1211,9</td><td>10,12</td><td>1201,78</td></tr>\n",
                            "<tr><td>WST-420</td><td>2019-12-26 00:00:00.000</td><td>1211,9</td><td>8,27</td><td>1203,63</td></tr>\n",
                            "<tr><td>WST-420</td><td>2020-03-22 00:00:00.000</td><td>1211,9</td><td>8,2</td><td>1203,7</td></tr>\n",
                            "<tr><td>WST-420</td><td>2020-03-25 00:00:00.000</td><td>1211,9</td><td>8</td><td>1203,9</td></tr>\n",
                            "<tr><td>WST-420</td><td>2020-03-26 00:00:00.000</td><td>1211,9</td><td>6,5</td><td>1205,4</td></tr>\n",
                            "<tr><td>WST-420</td><td>2020-04-01 00:00:00.000</td><td>1211,9</td><td>6,67</td><td>1205,23</td></tr>\n",
                            "<tr><td>WST-420</td><td>2020-04-27 00:00:00.000</td><td>1211,9</td><td>12,13</td><td>1199,77</td></tr>\n",
                            "<tr><td>WST-420</td><td>2020-04-29 00:00:00.000</td><td>1211,9</td><td>8,68</td><td>1203,22</td></tr>\n",
                            "<tr><td>WST-420</td><td>2020-05-06 00:00:00.000</td><td>1211,9</td><td>8,93</td><td>1202,97</td></tr>\n",
                            "<tr><td>WST-420</td><td>2020-05-16 00:00:00.000</td><td>1211,9</td><td>10,37</td><td>1201,53</td></tr>\n",
                            "<tr><td>WST-420</td><td>2020-05-20 00:00:00.000</td><td>1211,9</td><td>8,89</td><td>1203,01</td></tr>\n",
                            "<tr><td>WST-420</td><td>2020-06-02 00:00:00.000</td><td>1211,9</td><td>10,91</td><td>1200,99</td></tr>\n",
                            "<tr><td>WST-420</td><td>2020-06-06 00:00:00.000</td><td>1211,9</td><td>67,75</td><td>1144,15</td></tr>\n",
                            "<tr><td>WST-420</td><td>2020-06-07 00:00:00.000</td><td>1211,9</td><td>64,98</td><td>1146,92</td></tr>\n",
                            "<tr><td>WST-420</td><td>2020-06-08 00:00:00.000</td><td>1211,9</td><td>65,89</td><td>1146,01</td></tr>\n",
                            "<tr><td>WST-420</td><td>2020-06-09 00:00:00.000</td><td>1211,9</td><td>68,76</td><td>1143,14</td></tr>\n",
                            "<tr><td>WST-420</td><td>2020-06-10 00:00:00.000</td><td>1211,9</td><td>67,96</td><td>1143,94</td></tr>\n",
                            "<tr><td>WST-420</td><td>2020-06-15 00:00:00.000</td><td>1211,9</td><td>60,48</td><td>1151,42</td></tr>\n",
                            "<tr><td>WST-420</td><td>2020-06-18 00:00:00.000</td><td>1211,9</td><td>60,61</td><td>1151,29</td></tr>\n",
                            "<tr><td>WST-420</td><td>2020-06-27 00:00:00.000</td><td>1211,9</td><td>60,35</td><td>1151,55</td></tr>\n",
                            "<tr><td>WST-420</td><td>2020-07-01 00:00:00.000</td><td>1211,9</td><td>61,1</td><td>1150,8</td></tr>\n",
                            "<tr><td>WST-420</td><td>2020-07-04 00:00:00.000</td><td>1211,9</td><td>52,1</td><td>1159,8</td></tr>\n",
                            "<tr><td>WST-420</td><td>2020-07-08 00:00:00.000</td><td>1211,9</td><td>60</td><td>1151,9</td></tr>\n",
                            "<tr><td>WST-420</td><td>2020-07-13 00:00:00.000</td><td>1211,9</td><td>58,75</td><td>1153,15</td></tr>\n",
                            "<tr><td>WST-420</td><td>2020-07-15 00:00:00.000</td><td>1211,9</td><td>62,51</td><td>1149,39</td></tr>\n",
                            "<tr><td>WST-420</td><td>2020-07-19 00:00:00.000</td><td>1211,9</td><td>64,3</td><td>1147,6</td></tr>\n",
                            "<tr><td>WST-420</td><td>2020-07-27 00:00:00.000</td><td>1211,9</td><td>61,36</td><td>1150,54</td></tr>\n",
                            "<tr><td>WST-420</td><td>2020-08-01 00:00:00.000</td><td>1211,9</td><td>51,31</td><td>1160,59</td></tr>\n",
                            "<tr><td>WST-420</td><td>2020-08-03 00:00:00.000</td><td>1211,9</td><td>51,8</td><td>1160,1</td></tr>\n",
                            "<tr><td>WST-420</td><td>2020-08-05 00:00:00.000</td><td>1211,9</td><td>51,65</td><td>1160,25</td></tr>\n",
                            "<tr><td>WST-420</td><td>2020-08-09 00:00:00.000</td><td>1211,9</td><td>52,1</td><td>1159,8</td></tr>\n",
                            "<tr><td>WST-420</td><td>2020-08-10 00:00:00.000</td><td>1211,9</td><td>52,3</td><td>1159,6</td></tr>\n",
                            "<tr><td>WST-420</td><td>2020-08-12 00:00:00.000</td><td>1211,9</td><td>53,12</td><td>1158,78</td></tr>\n",
                            "<tr><td>WST-420</td><td>2020-08-15 00:00:00.000</td><td>1211,9</td><td>52,03</td><td>1159,87</td></tr>\n",
                            "<tr><td>WST-420</td><td>2020-08-17 00:00:00.000</td><td>1211,9</td><td>52,65</td><td>1159,25</td></tr>\n",
                            "<tr><td>WST-420</td><td>2020-08-23 00:00:00.000</td><td>1211,9</td><td>65,2</td><td>1146,7</td></tr>\n",
                            "<tr><td>WST-420</td><td>2021-11-15 00:00:00.000</td><td>1211,9</td><td>56,55</td><td>1155,35</td></tr>\n",
                            "<tr><td>WST-420</td><td>2021-11-18 00:00:00.000</td><td>1211,9</td><td>50,89</td><td>1161,01</td></tr>\n",
                            "<tr><td>WST-420</td><td>2021-11-23 00:00:00.000</td><td>1211,9</td><td>55,12</td><td>1156,78</td></tr>\n",
                            "<tr><td>WST-420</td><td>2021-12-04 00:00:00.000</td><td>1211,9</td><td>55,17</td><td>1156,73</td></tr>\n",
                            "<tr><td>WST-420</td><td>2021-12-07 00:00:00.000</td><td>1211,9</td><td>51,3</td><td>1160,6</td></tr>\n",
                            "<tr><td>WST-420</td><td>2021-12-11 00:00:00.000</td><td>1211,9</td><td>56,11</td><td>1155,79</td></tr>\n",
                            "<tr><td>WST-420</td><td>2021-12-14 00:00:00.000</td><td>1211,9</td><td>54,19</td><td>1157,71</td></tr>\n",
                            "<tr><td>WST-420</td><td>2021-12-18 00:00:00.000</td><td>1211,9</td><td>59,11</td><td>1152,79</td></tr>\n",
                            "<tr><td>WST-420</td><td>2022-01-04 00:00:00.000</td><td>1211,9</td><td>58,12</td><td>1153,78</td></tr>\n",
                            "<tr><td>WST-420</td><td>2022-02-17 00:00:00.000</td><td>1211,9</td><td>45,02</td><td>1166,88</td></tr>\n",
                            "<tr><td>WST-420</td><td>2022-02-23 00:00:00.000</td><td>1211,9</td><td>23,03</td><td>1188,87</td></tr>\n",
                            "<tr><td>WST-420</td><td>2022-03-04 00:00:00.000</td><td>1211,9</td><td>41,74</td><td>1170,16</td></tr>\n",
                            "<tr><td>WST-420</td><td>2022-03-07 00:00:00.000</td><td>1211,9</td><td>41,79</td><td>1170,11</td></tr>\n",
                            "<tr><td>WST-420</td><td>2022-03-17 00:00:00.000</td><td>1211,9</td><td>43,24</td><td>1168,66</td></tr>\n",
                            "<tr><td>WST-420</td><td>2022-04-07 00:00:00.000</td><td>1211,9</td><td>41,9</td><td>1170</td></tr>\n",
                            "<tr><td>WST-420</td><td>2022-04-15 00:00:00.000</td><td>1211,9</td><td>42,72</td><td>1169,18</td></tr>\n",
                            "<tr><td>WST-420</td><td>2022-04-19 00:00:00.000</td><td>1211,9</td><td>42,72</td><td>1169,18</td></tr>\n",
                            "<tr><td>WST-420</td><td>2022-04-26 00:00:00.000</td><td>1211,9</td><td>42,32</td><td>1169,58</td></tr>\n",
                            "<tr><td>WST-420</td><td>2022-06-07 00:00:00.000</td><td>1211,9</td><td>69,21</td><td>1142,69</td></tr>\n",
                            "<tr><td>WST-420</td><td>2022-06-17 00:00:00.000</td><td>1211,9</td><td>48,55</td><td>1163,35</td></tr>\n",
                            "<tr><td>WST-420</td><td>2022-06-20 00:00:00.000</td><td>1211,9</td><td>26,56</td><td>1185,34</td></tr>\n",
                            "<tr><td>WST-420</td><td>2022-07-01 00:00:00.000</td><td>1211,9</td><td>19,94</td><td>1191,96</td></tr>\n",
                            "<tr><td>WST-420</td><td>2022-07-05 00:00:00.000</td><td>1211,9</td><td>19,94</td><td>1191,96</td></tr>\n",
                            "<tr><td>WST-420</td><td>2022-07-22 00:00:00.000</td><td>1211,9</td><td>19,68</td><td>1192,22</td></tr>\n",
                            "<tr><td>WST-420</td><td>2022-07-25 00:00:00.000</td><td>1211,9</td><td>19,82</td><td>1192,08</td></tr>\n",
                            "<tr><td>WST-420</td><td>2022-08-03 00:00:00.000</td><td>1211,9</td><td>19,96</td><td>1191,94</td></tr>\n",
                            "<tr><td>WST-420</td><td>2022-08-08 00:00:00.000</td><td>1211,9</td><td>19,89</td><td>1192,01</td></tr>\n",
                            "<tr><td>WST-420</td><td>2022-08-16 00:00:00.000</td><td>1211,9</td><td>20,2</td><td>1191,7</td></tr>\n",
                            "<tr><td>WST-420</td><td>2022-08-23 00:00:00.000</td><td>1211,9</td><td>20,77</td><td>1191,13</td></tr>\n",
                            "<tr><td>WST-420</td><td>2022-09-02 00:00:00.000</td><td>1211,9</td><td>21,24</td><td>1190,66</td></tr>\n",
                            "<tr><td>WST-420</td><td>2022-09-20 00:00:00.000</td><td>1211,9</td><td>20,02</td><td>1191,88</td></tr>\n",
                            "<tr><td>WST-420</td><td>2022-09-26 00:00:00.000</td><td>1211,9</td><td>21,84</td><td>1190,06</td></tr>\n",
                            "<tr><td>WST-420</td><td>2022-10-05 00:00:00.000</td><td>1211,9</td><td>21,75</td><td>1190,15</td></tr>\n",
                            "<tr><td>WST-420</td><td>2022-10-13 00:00:00.000</td><td>1211,9</td><td>22</td><td>1189,9</td></tr>\n",
                            "<tr><td>WST-420</td><td>2022-10-19 00:00:00.000</td><td>1211,9</td><td>22,2</td><td>1189,7</td></tr>\n",
                            "<tr><td>WST-421</td><td>2016-12-30 00:00:00.000</td><td>1211,9</td><td>16,6</td><td>1195,3</td></tr>\n",
                            "<tr><td>WST-421</td><td>2017-01-11 00:00:00.000</td><td>1211,9</td><td>17,82</td><td>1194,08</td></tr>\n",
                            "<tr><td>WST-421</td><td>2017-01-25 00:00:00.000</td><td>1211,9</td><td>NULL</td><td>NULL</td></tr>\n",
                            "<tr><td>WST-421</td><td>2017-02-03 00:00:00.000</td><td>1211,9</td><td>NULL</td><td>NULL</td></tr>\n",
                            "<tr><td>WST-421</td><td>2017-02-10 00:00:00.000</td><td>1211,9</td><td>NULL</td><td>NULL</td></tr>\n",
                            "<tr><td>WST-421</td><td>2017-02-16 00:00:00.000</td><td>1211,9</td><td>NULL</td><td>NULL</td></tr>\n",
                            "<tr><td>WST-421</td><td>2017-02-22 00:00:00.000</td><td>1211,9</td><td>NULL</td><td>NULL</td></tr>\n",
                            "<tr><td>WST-421</td><td>2017-03-03 00:00:00.000</td><td>1211,9</td><td>NULL</td><td>NULL</td></tr>\n",
                            "<tr><td>WST-421</td><td>2017-03-10 00:00:00.000</td><td>1211,9</td><td>NULL</td><td>NULL</td></tr>\n",
                            "<tr><td>WST-421</td><td>2017-03-17 00:00:00.000</td><td>1211,9</td><td>NULL</td><td>NULL</td></tr>\n",
                            "<tr><td>WST-421</td><td>2017-03-24 00:00:00.000</td><td>1211,9</td><td>NULL</td><td>NULL</td></tr>\n",
                            "<tr><td>WST-421</td><td>2017-03-30 00:00:00.000</td><td>1211,9</td><td>NULL</td><td>NULL</td></tr>\n",
                            "<tr><td>WST-421</td><td>2017-04-13 00:00:00.000</td><td>1211,9</td><td>NULL</td><td>NULL</td></tr>\n",
                            "<tr><td>WST-421</td><td>2017-04-20 00:00:00.000</td><td>1211,9</td><td>NULL</td><td>NULL</td></tr>\n",
                            "<tr><td>WST-421</td><td>2017-04-24 00:00:00.000</td><td>1211,9</td><td>NULL</td><td>NULL</td></tr>\n",
                            "<tr><td>WST-421</td><td>2017-05-05 00:00:00.000</td><td>1211,9</td><td>NULL</td><td>NULL</td></tr>\n",
                            "<tr><td>WST-421</td><td>2017-05-11 00:00:00.000</td><td>1211,9</td><td>NULL</td><td>NULL</td></tr>\n",
                            "<tr><td>WST-421</td><td>2017-05-18 00:00:00.000</td><td>1211,9</td><td>NULL</td><td>NULL</td></tr>\n",
                            "<tr><td>WST-421</td><td>2017-05-22 00:00:00.000</td><td>1211,9</td><td>NULL</td><td>NULL</td></tr>\n",
                            "<tr><td>WST-421</td><td>2017-06-02 00:00:00.000</td><td>1211,9</td><td>NULL</td><td>NULL</td></tr>\n",
                            "<tr><td>WST-421</td><td>2017-06-08 00:00:00.000</td><td>1211,9</td><td>NULL</td><td>NULL</td></tr>\n",
                            "<tr><td>WST-421</td><td>2017-06-16 00:00:00.000</td><td>1211,9</td><td>NULL</td><td>NULL</td></tr>\n",
                            "<tr><td>WST-421</td><td>2017-06-21 00:00:00.000</td><td>1211,9</td><td>NULL</td><td>NULL</td></tr>\n",
                            "<tr><td>WST-421</td><td>2017-08-25 00:00:00.000</td><td>1211,9</td><td>105,19</td><td>1106,71</td></tr>\n",
                            "<tr><td>WST-421</td><td>2017-09-28 00:00:00.000</td><td>1211,9</td><td>114,76</td><td>1097,14</td></tr>\n",
                            "<tr><td>WST-421</td><td>2017-10-30 00:00:00.000</td><td>1211,9</td><td>114,24</td><td>1097,66</td></tr>\n",
                            "<tr><td>WST-421</td><td>2017-11-30 00:00:00.000</td><td>1211,9</td><td>110,75</td><td>1101,15</td></tr>\n",
                            "<tr><td>WST-421</td><td>2017-12-28 00:00:00.000</td><td>1211,9</td><td>105,34</td><td>1106,56</td></tr>\n",
                            "<tr><td>WST-421</td><td>2018-01-24 00:00:00.000</td><td>1211,9</td><td>92,81</td><td>1119,09</td></tr>\n",
                            "<tr><td>WST-421</td><td>2018-02-21 00:00:00.000</td><td>1211,9</td><td>90,22</td><td>1121,68</td></tr>\n",
                            "<tr><td>WST-421</td><td>2018-03-26 00:00:00.000</td><td>1211,9</td><td>87,6</td><td>1124,3</td></tr>\n",
                            "<tr><td>WST-421</td><td>2018-05-18 00:00:00.000</td><td>1211,9</td><td>60,7</td><td>1151,2</td></tr>\n",
                            "<tr><td>WST-421</td><td>2018-06-22 00:00:00.000</td><td>1211,9</td><td>80,43</td><td>1131,47</td></tr>\n",
                            "<tr><td>WST-421</td><td>2018-07-30 00:00:00.000</td><td>1211,9</td><td>56,9</td><td>1155</td></tr>\n",
                            "<tr><td>WST-421</td><td>2018-08-31 00:00:00.000</td><td>1211,9</td><td>56,69</td><td>1155,21</td></tr>\n",
                            "<tr><td>WST-421</td><td>2018-09-26 00:00:00.000</td><td>1211,9</td><td>104,95</td><td>1106,95</td></tr>\n",
                            "<tr><td>WST-421</td><td>2018-11-29 00:00:00.000</td><td>1211,9</td><td>93,7</td><td>1118,2</td></tr>\n",
                            "<tr><td>WST-421</td><td>2019-01-30 00:00:00.000</td><td>1211,9</td><td>15,15</td><td>1196,75</td></tr>\n",
                            "<tr><td>WST-421</td><td>2019-04-12 00:00:00.000</td><td>1211,9</td><td>13,84</td><td>1198,06</td></tr>\n",
                            "<tr><td>WST-421</td><td>2019-05-31 00:00:00.000</td><td>1211,9</td><td>93</td><td>1118,9</td></tr>\n",
                            "<tr><td>WST-421</td><td>2019-06-14 00:00:00.000</td><td>1211,9</td><td>59,76</td><td>1152,14</td></tr>\n",
                            "<tr><td>WST-421</td><td>2019-06-26 00:00:00.000</td><td>1211,9</td><td>77,73</td><td>1134,17</td></tr>\n",
                            "<tr><td>WST-421</td><td>2019-08-02 00:00:00.000</td><td>1211,9</td><td>71,5</td><td>1140,4</td></tr>\n",
                            "<tr><td>WST-421</td><td>2019-09-18 00:00:00.000</td><td>1211,9</td><td>65,9</td><td>1146</td></tr>\n",
                            "<tr><td>WST-421</td><td>2019-11-20 00:00:00.000</td><td>1211,9</td><td>55,5</td><td>1156,4</td></tr>\n",
                            "<tr><td>WST-421</td><td>2019-12-06 00:00:00.000</td><td>1211,9</td><td>83,21</td><td>1128,69</td></tr>\n",
                            "<tr><td>WST-421</td><td>2020-02-05 00:00:00.000</td><td>1211,9</td><td>51,72</td><td>1160,18</td></tr>\n",
                            "<tr><td>WST-421</td><td>2020-02-08 00:00:00.000</td><td>1211,9</td><td>50,44</td><td>1161,46</td></tr>\n",
                            "<tr><td>WST-421</td><td>2020-02-10 00:00:00.000</td><td>1211,9</td><td>55,09</td><td>1156,81</td></tr>\n",
                            "<tr><td>WST-421</td><td>2020-02-26 00:00:00.000</td><td>1211,9</td><td>43,49</td><td>1168,41</td></tr>\n",
                            "<tr><td>WST-421</td><td>2020-03-14 00:00:00.000</td><td>1211,9</td><td>55,43</td><td>1156,47</td></tr>\n",
                            "<tr><td>WST-421</td><td>2020-03-16 00:00:00.000</td><td>1211,9</td><td>55,68</td><td>1156,22</td></tr>\n",
                            "<tr><td>WST-421</td><td>2020-03-22 00:00:00.000</td><td>1211,9</td><td>7,19</td><td>1204,71</td></tr>\n",
                            "<tr><td>WST-421</td><td>2020-03-25 00:00:00.000</td><td>1211,9</td><td>7</td><td>1204,9</td></tr>\n",
                            "<tr><td>WST-421</td><td>2020-04-07 00:00:00.000</td><td>1211,9</td><td>73,69</td><td>1138,21</td></tr>\n",
                            "<tr><td>WST-421</td><td>2020-04-22 00:00:00.000</td><td>1211,9</td><td>70,32</td><td>1141,58</td></tr>\n",
                            "<tr><td>WST-421</td><td>2020-04-29 00:00:00.000</td><td>1211,9</td><td>71,68</td><td>1140,22</td></tr>\n",
                            "<tr><td>WST-421</td><td>2020-05-04 00:00:00.000</td><td>1211,9</td><td>73</td><td>1138,9</td></tr>\n",
                            "<tr><td>WST-421</td><td>2020-05-09 00:00:00.000</td><td>1211,9</td><td>82,67</td><td>1129,23</td></tr>\n",
                            "<tr><td>WST-421</td><td>2020-05-16 00:00:00.000</td><td>1211,9</td><td>83,4</td><td>1128,5</td></tr>\n",
                            "<tr><td>WST-421</td><td>2020-05-20 00:00:00.000</td><td>1211,9</td><td>76,3</td><td>1135,6</td></tr>\n",
                            "<tr><td>WST-421</td><td>2020-05-23 00:00:00.000</td><td>1211,9</td><td>77,86</td><td>1134,04</td></tr>\n",
                            "<tr><td>WST-421</td><td>2020-05-27 00:00:00.000</td><td>1211,9</td><td>86,43</td><td>1125,47</td></tr>\n",
                            "<tr><td>WST-421</td><td>2020-06-01 00:00:00.000</td><td>1211,9</td><td>73,5</td><td>1138,4</td></tr>\n",
                            "<tr><td>WST-421</td><td>2020-06-06 00:00:00.000</td><td>1211,9</td><td>64,59</td><td>1147,31</td></tr>\n",
                            "<tr><td>WST-421</td><td>2020-06-08 00:00:00.000</td><td>1211,9</td><td>65,96</td><td>1145,94</td></tr>\n",
                            "<tr><td>WST-421</td><td>2020-06-10 00:00:00.000</td><td>1211,9</td><td>72,4</td><td>1139,5</td></tr>\n",
                            "<tr><td>WST-421</td><td>2020-06-27 00:00:00.000</td><td>1211,9</td><td>73,1</td><td>1138,8</td></tr>\n",
                            "<tr><td>WST-421</td><td>2020-07-01 00:00:00.000</td><td>1211,9</td><td>62,63</td><td>1149,27</td></tr>\n",
                            "<tr><td>WST-421</td><td>2020-07-04 00:00:00.000</td><td>1211,9</td><td>10,42</td><td>1201,48</td></tr>\n",
                            "<tr><td>WST-421</td><td>2020-07-13 00:00:00.000</td><td>1211,9</td><td>59,6</td><td>1152,3</td></tr>\n",
                            "<tr><td>WST-421</td><td>2020-07-26 00:00:00.000</td><td>1211,9</td><td>69,7</td><td>1142,2</td></tr>\n",
                            "<tr><td>WST-421</td><td>2020-07-27 00:00:00.000</td><td>1211,9</td><td>58,73</td><td>1153,17</td></tr>\n",
                            "<tr><td>WST-421</td><td>2020-08-01 00:00:00.000</td><td>1211,9</td><td>66,89</td><td>1145,01</td></tr>\n",
                            "<tr><td>WST-421</td><td>2020-08-03 00:00:00.000</td><td>1211,9</td><td>67,99</td><td>1143,91</td></tr>\n",
                            "<tr><td>WST-421</td><td>2020-08-05 00:00:00.000</td><td>1211,9</td><td>67,51</td><td>1144,39</td></tr>\n",
                            "<tr><td>WST-421</td><td>2020-08-09 00:00:00.000</td><td>1211,9</td><td>69,28</td><td>1142,62</td></tr>\n",
                            "<tr><td>WST-421</td><td>2020-08-10 00:00:00.000</td><td>1211,9</td><td>69,86</td><td>1142,04</td></tr>\n",
                            "<tr><td>WST-421</td><td>2020-08-12 00:00:00.000</td><td>1211,9</td><td>68,58</td><td>1143,32</td></tr>\n",
                            "<tr><td>WST-421</td><td>2020-08-15 00:00:00.000</td><td>1211,9</td><td>65,98</td><td>1145,92</td></tr>\n",
                            "<tr><td>WST-421</td><td>2020-08-17 00:00:00.000</td><td>1211,9</td><td>67,4</td><td>1144,5</td></tr>\n",
                            "<tr><td>WST-421</td><td>2021-12-21 00:00:00.000</td><td>1211,9</td><td>16,25</td><td>1195,65</td></tr>\n",
                            "<tr><td>WST-421</td><td>2022-01-04 00:00:00.000</td><td>1211,9</td><td>65,21</td><td>1146,69</td></tr>\n",
                            "<tr><td>WST-422</td><td>2016-12-30 00:00:00.000</td><td>1197,4</td><td>16,6</td><td>1180,8</td></tr>\n",
                            "<tr><td>WST-422</td><td>2017-01-11 00:00:00.000</td><td>1197,4</td><td>17,82</td><td>1179,58</td></tr>\n",
                            "<tr><td>WST-422</td><td>2017-01-25 00:00:00.000</td><td>1197,4</td><td>18,89</td><td>1178,51</td></tr>\n",
                            "<tr><td>WST-422</td><td>2017-02-03 00:00:00.000</td><td>1197,4</td><td>20,02</td><td>1177,38</td></tr>\n",
                            "<tr><td>WST-422</td><td>2017-02-10 00:00:00.000</td><td>1197,4</td><td>20,07</td><td>1177,33</td></tr>\n",
                            "<tr><td>WST-422</td><td>2017-02-16 00:00:00.000</td><td>1197,4</td><td>20,38</td><td>1177,02</td></tr>\n",
                            "<tr><td>WST-422</td><td>2017-02-22 00:00:00.000</td><td>1197,4</td><td>21,16</td><td>1176,24</td></tr>\n",
                            "<tr><td>WST-422</td><td>2017-03-03 00:00:00.000</td><td>1197,4</td><td>21,43</td><td>1175,97</td></tr>\n",
                            "<tr><td>WST-422</td><td>2017-03-10 00:00:00.000</td><td>1197,4</td><td>21,47</td><td>1175,93</td></tr>\n",
                            "<tr><td>WST-422</td><td>2017-03-17 00:00:00.000</td><td>1197,4</td><td>21,5</td><td>1175,9</td></tr>\n",
                            "<tr><td>WST-422</td><td>2017-03-24 00:00:00.000</td><td>1197,4</td><td>21,72</td><td>1175,68</td></tr>\n",
                            "<tr><td>WST-422</td><td>2017-03-30 00:00:00.000</td><td>1197,4</td><td>21,96</td><td>1175,44</td></tr>\n",
                            "<tr><td>WST-422</td><td>2017-04-13 00:00:00.000</td><td>1197,4</td><td>21,48</td><td>1175,92</td></tr>\n",
                            "<tr><td>WST-422</td><td>2017-04-20 00:00:00.000</td><td>1197,4</td><td>21,46</td><td>1175,94</td></tr>\n",
                            "<tr><td>WST-422</td><td>2017-04-24 00:00:00.000</td><td>1197,4</td><td>20,84</td><td>1176,56</td></tr>\n",
                            "<tr><td>WST-422</td><td>2017-05-05 00:00:00.000</td><td>1197,4</td><td>21,94</td><td>1175,46</td></tr>\n",
                            "<tr><td>WST-422</td><td>2017-05-11 00:00:00.000</td><td>1197,4</td><td>22,33</td><td>1175,07</td></tr>\n",
                            "<tr><td>WST-422</td><td>2017-05-18 00:00:00.000</td><td>1197,4</td><td>23,03</td><td>1174,37</td></tr>\n",
                            "<tr><td>WST-422</td><td>2017-05-22 00:00:00.000</td><td>1197,4</td><td>22,36</td><td>1175,04</td></tr>\n",
                            "<tr><td>WST-422</td><td>2017-06-02 00:00:00.000</td><td>1197,4</td><td>22,97</td><td>1174,43</td></tr>\n",
                            "<tr><td>WST-422</td><td>2017-06-08 00:00:00.000</td><td>1197,4</td><td>23,21</td><td>1174,19</td></tr>\n",
                            "<tr><td>WST-422</td><td>2017-06-16 00:00:00.000</td><td>1197,4</td><td>23,33</td><td>1174,07</td></tr>\n",
                            "<tr><td>WST-422</td><td>2017-06-21 00:00:00.000</td><td>1197,4</td><td>23,78</td><td>1173,62</td></tr>\n",
                            "<tr><td>WST-422</td><td>2017-06-29 00:00:00.000</td><td>1197,4</td><td>NULL</td><td>NULL</td></tr>\n",
                            "<tr><td>WST-422</td><td>2017-07-06 00:00:00.000</td><td>1197,4</td><td>17,67</td><td>1179,73</td></tr>\n",
                            "<tr><td>WST-422</td><td>2017-07-14 00:00:00.000</td><td>1197,4</td><td>19,52</td><td>1177,88</td></tr>\n",
                            "<tr><td>WST-422</td><td>2017-07-21 00:00:00.000</td><td>1197,4</td><td>19,79</td><td>1177,61</td></tr>\n",
                            "<tr><td>WST-422</td><td>2017-07-26 00:00:00.000</td><td>1197,4</td><td>21,55</td><td>1175,85</td></tr>\n",
                            "<tr><td>WST-422</td><td>2017-08-10 00:00:00.000</td><td>1197,4</td><td>22,07</td><td>1175,33</td></tr>\n",
                            "<tr><td>WST-422</td><td>2017-08-18 00:00:00.000</td><td>1197,4</td><td>22,14</td><td>1175,26</td></tr>\n",
                            "<tr><td>WST-422</td><td>2017-08-25 00:00:00.000</td><td>1197,4</td><td>21,95</td><td>1175,45</td></tr>\n",
                            "<tr><td>WST-422</td><td>2017-09-06 00:00:00.000</td><td>1197,4</td><td>23,3</td><td>1174,1</td></tr>\n",
                            "<tr><td>WST-422</td><td>2017-09-15 00:00:00.000</td><td>1197,4</td><td>24,16</td><td>1173,24</td></tr>\n",
                            "<tr><td>WST-422</td><td>2017-10-19 00:00:00.000</td><td>1197,4</td><td>20,92</td><td>1176,48</td></tr>\n",
                            "<tr><td>WST-422</td><td>2017-11-30 00:00:00.000</td><td>1197,4</td><td>17,06</td><td>1180,34</td></tr>\n",
                            "<tr><td>WST-422</td><td>2017-12-04 00:00:00.000</td><td>1197,4</td><td>16,75</td><td>1180,65</td></tr>\n",
                            "<tr><td>WST-422</td><td>2017-12-14 00:00:00.000</td><td>1197,4</td><td>16,76</td><td>1180,64</td></tr>\n",
                            "<tr><td>WST-422</td><td>2017-12-20 00:00:00.000</td><td>1197,4</td><td>17,43</td><td>1179,97</td></tr>\n",
                            "<tr><td>WST-422</td><td>2018-01-03 00:00:00.000</td><td>1197,4</td><td>17,1</td><td>1180,3</td></tr>\n",
                            "<tr><td>WST-422</td><td>2018-01-10 00:00:00.000</td><td>1197,4</td><td>18,69</td><td>1178,71</td></tr>\n",
                            "<tr><td>WST-422</td><td>2018-01-17 00:00:00.000</td><td>1197,4</td><td>17,46</td><td>1179,94</td></tr>\n",
                            "<tr><td>WST-422</td><td>2018-01-24 00:00:00.000</td><td>1197,4</td><td>17,82</td><td>1179,58</td></tr>\n",
                            "<tr><td>WST-422</td><td>2018-02-01 00:00:00.000</td><td>1197,4</td><td>17,79</td><td>1179,61</td></tr>\n",
                            "<tr><td>WST-422</td><td>2018-02-07 00:00:00.000</td><td>1197,4</td><td>17,24</td><td>1180,16</td></tr>\n",
                            "<tr><td>WST-422</td><td>2018-02-14 00:00:00.000</td><td>1197,4</td><td>17,79</td><td>1179,61</td></tr>\n",
                            "<tr><td>WST-422</td><td>2018-02-22 00:00:00.000</td><td>1197,4</td><td>17,61</td><td>1179,79</td></tr>\n",
                            "<tr><td>WST-422</td><td>2018-02-27 00:00:00.000</td><td>1197,4</td><td>17,62</td><td>1179,78</td></tr>\n",
                            "<tr><td>WST-422</td><td>2018-03-08 00:00:00.000</td><td>1197,4</td><td>17,37</td><td>1180,03</td></tr>\n",
                            "<tr><td>WST-422</td><td>2018-03-16 00:00:00.000</td><td>1197,4</td><td>17,63</td><td>1179,77</td></tr>\n",
                            "<tr><td>WST-422</td><td>2018-03-23 00:00:00.000</td><td>1197,4</td><td>17,48</td><td>1179,92</td></tr>\n",
                            "<tr><td>WST-422</td><td>2018-03-26 00:00:00.000</td><td>1197,4</td><td>17,89</td><td>1179,51</td></tr>\n",
                            "<tr><td>WST-422</td><td>2018-04-05 00:00:00.000</td><td>1197,4</td><td>17,74</td><td>1179,66</td></tr>\n",
                            "<tr><td>WST-422</td><td>2018-04-11 00:00:00.000</td><td>1197,4</td><td>17,96</td><td>1179,44</td></tr>\n",
                            "<tr><td>WST-422</td><td>2019-12-30 00:00:00.000</td><td>1197,4</td><td>12,1</td><td>1185,3</td></tr>\n",
                            "<tr><td>WST-422</td><td>2022-06-07 00:00:00.000</td><td>1197,4</td><td>40,41</td><td>1156,99</td></tr>\n",
                            "<tr><td>WST-422</td><td>2022-07-01 00:00:00.000</td><td>1197,4</td><td>14,32</td><td>1183,08</td></tr>\n",
                            "<tr><td>WST-422</td><td>2022-08-08 00:00:00.000</td><td>1197,4</td><td>7,92</td><td>1189,48</td></tr>\n",
                            "<tr><td>WST-422</td><td>2022-08-16 00:00:00.000</td><td>1197,4</td><td>7,91</td><td>1189,49</td></tr>\n",
                            "<tr><td>WST-422</td><td>2023-01-12 00:00:00.000</td><td>1197,4</td><td>5,16</td><td>1192,24</td></tr>\n",
                            "<tr><td>WST-422</td><td>2023-01-20 00:00:00.000</td><td>1197,4</td><td>5,72</td><td>1191,68</td></tr>\n",
                            "<tr><td>WST-422</td><td>2023-01-23 00:00:00.000</td><td>1197,4</td><td>5,78</td><td>1191,62</td></tr>\n",
                            "<tr><td>WST-422</td><td>2023-02-03 00:00:00.000</td><td>1197,4</td><td>5,5</td><td>1191,9</td></tr>\n",
                            "<tr><td>WST-422</td><td>2023-02-06 00:00:00.000</td><td>1197,4</td><td>5,56</td><td>1191,84</td></tr>\n",
                            "<tr><td>WST-422</td><td>2023-02-15 00:00:00.000</td><td>1197,4</td><td>6,71</td><td>1190,69</td></tr>\n",
                            "<tr><td>WST-422</td><td>2023-02-24 00:00:00.000</td><td>1197,4</td><td>7</td><td>1190,4</td></tr>\n",
                            "<tr><td>WST-422</td><td>2023-02-27 00:00:00.000</td><td>1197,4</td><td>7,11</td><td>1190,29</td></tr>\n",
                            "<tr><td>WST-422</td><td>2023-03-07 00:00:00.000</td><td>1197,4</td><td>8,34</td><td>1189,06</td></tr>\n",
                            "<tr><td>WST-422</td><td>2023-03-17 00:00:00.000</td><td>1197,4</td><td>8,4</td><td>1189</td></tr>\n",
                            "<tr><td>WST-422</td><td>2023-03-23 00:00:00.000</td><td>1197,4</td><td>8,62</td><td>1188,78</td></tr>\n",
                            "<tr><td>WST-422</td><td>2023-03-31 00:00:00.000</td><td>1197,4</td><td>8,76</td><td>1188,64</td></tr>\n",
                            "<tr><td>WST-422</td><td>2023-04-05 00:00:00.000</td><td>1197,4</td><td>9,6</td><td>1187,8</td></tr>\n",
                            "<tr><td>WST-422</td><td>2023-04-12 00:00:00.000</td><td>1197,4</td><td>10,3</td><td>1187,1</td></tr>\n",
                            "<tr><td>WST-422</td><td>2023-04-21 00:00:00.000</td><td>1197,4</td><td>10,28</td><td>1187,12</td></tr>\n",
                            "<tr><td>WST-422</td><td>2023-04-26 00:00:00.000</td><td>1197,4</td><td>10,3</td><td>1187,1</td></tr>\n",
                            "<tr><td>WST-422</td><td>2023-05-03 00:00:00.000</td><td>1197,4</td><td>10,67</td><td>1186,73</td></tr>\n",
                            "<tr><td>WST-422</td><td>2023-05-09 00:00:00.000</td><td>1197,4</td><td>10,99</td><td>1186,41</td></tr>\n",
                            "<tr><td>WST-422</td><td>2023-05-19 00:00:00.000</td><td>1197,4</td><td>10,63</td><td>1186,77</td></tr>\n",
                            "<tr><td>WST-422</td><td>2023-06-02 00:00:00.000</td><td>1197,4</td><td>11,32</td><td>1186,08</td></tr>\n",
                            "<tr><td>WST-423</td><td>2016-12-30 00:00:00.000</td><td>1170</td><td>NULL</td><td>NULL</td></tr>\n",
                            "<tr><td>WST-423</td><td>2017-01-11 00:00:00.000</td><td>1170</td><td>NULL</td><td>NULL</td></tr>\n",
                            "<tr><td>WST-423</td><td>2017-01-25 00:00:00.000</td><td>1170</td><td>NULL</td><td>NULL</td></tr>\n",
                            "<tr><td>WST-423</td><td>2017-02-03 00:00:00.000</td><td>1170</td><td>NULL</td><td>NULL</td></tr>\n",
                            "<tr><td>WST-423</td><td>2017-02-10 00:00:00.000</td><td>1170</td><td>NULL</td><td>NULL</td></tr>\n",
                            "<tr><td>WST-423</td><td>2017-02-16 00:00:00.000</td><td>1170</td><td>NULL</td><td>NULL</td></tr>\n",
                            "<tr><td>WST-423</td><td>2017-02-22 00:00:00.000</td><td>1170</td><td>NULL</td><td>NULL</td></tr>\n",
                            "<tr><td>WST-423</td><td>2017-03-03 00:00:00.000</td><td>1170</td><td>NULL</td><td>NULL</td></tr>\n",
                            "<tr><td>WST-423</td><td>2017-03-10 00:00:00.000</td><td>1170</td><td>NULL</td><td>NULL</td></tr>\n",
                            "<tr><td>WST-423</td><td>2017-03-17 00:00:00.000</td><td>1170</td><td>NULL</td><td>NULL</td></tr>\n",
                            "<tr><td>WST-423</td><td>2017-03-24 00:00:00.000</td><td>1170</td><td>NULL</td><td>NULL</td></tr>\n",
                            "<tr><td>WST-423</td><td>2017-03-30 00:00:00.000</td><td>1170</td><td>NULL</td><td>NULL</td></tr>\n",
                            "<tr><td>WST-423</td><td>2017-04-13 00:00:00.000</td><td>1170</td><td>NULL</td><td>NULL</td></tr>\n",
                            "<tr><td>WST-423</td><td>2017-04-20 00:00:00.000</td><td>1170</td><td>NULL</td><td>NULL</td></tr>\n",
                            "<tr><td>WST-423</td><td>2017-04-24 00:00:00.000</td><td>1170</td><td>NULL</td><td>NULL</td></tr>\n",
                            "<tr><td>WST-423</td><td>2017-05-05 00:00:00.000</td><td>1170</td><td>NULL</td><td>NULL</td></tr>\n",
                            "<tr><td>WST-423</td><td>2017-05-11 00:00:00.000</td><td>1170</td><td>NULL</td><td>NULL</td></tr>\n",
                            "<tr><td>WST-423</td><td>2017-05-18 00:00:00.000</td><td>1170</td><td>NULL</td><td>NULL</td></tr>\n",
                            "<tr><td>WST-423</td><td>2017-05-22 00:00:00.000</td><td>1170</td><td>NULL</td><td>NULL</td></tr>\n",
                            "<tr><td>WST-423</td><td>2017-06-02 00:00:00.000</td><td>1170</td><td>NULL</td><td>NULL</td></tr>\n",
                            "<tr><td>WST-423</td><td>2017-06-08 00:00:00.000</td><td>1170</td><td>NULL</td><td>NULL</td></tr>\n",
                            "<tr><td>WST-423</td><td>2017-06-16 00:00:00.000</td><td>1170</td><td>NULL</td><td>NULL</td></tr>\n",
                            "<tr><td>WST-423</td><td>2017-06-21 00:00:00.000</td><td>1170</td><td>NULL</td><td>NULL</td></tr>\n",
                            "<tr><td>WST-423</td><td>2017-08-25 00:00:00.000</td><td>1170</td><td>103,15</td><td>1066,85</td></tr>\n",
                            "<tr><td>WST-423</td><td>2017-09-28 00:00:00.000</td><td>1170</td><td>107,49</td><td>1062,51</td></tr>\n",
                            "<tr><td>WST-423</td><td>2017-10-30 00:00:00.000</td><td>1170</td><td>108,21</td><td>1061,79</td></tr>\n",
                            "<tr><td>WST-423</td><td>2017-11-30 00:00:00.000</td><td>1170</td><td>105,63</td><td>1064,37</td></tr>\n",
                            "<tr><td>WST-423</td><td>2017-12-28 00:00:00.000</td><td>1170</td><td>103,91</td><td>1066,09</td></tr>\n",
                            "<tr><td>WST-423</td><td>2018-01-24 00:00:00.000</td><td>1170</td><td>95,25</td><td>1074,75</td></tr>\n",
                            "<tr><td>WST-423</td><td>2018-02-21 00:00:00.000</td><td>1170</td><td>99,72</td><td>1070,28</td></tr>\n",
                            "<tr><td>WST-423</td><td>2018-03-26 00:00:00.000</td><td>1170</td><td>91,94</td><td>1078,06</td></tr>\n",
                            "<tr><td>WST-423</td><td>2018-04-11 00:00:00.000</td><td>1170</td><td>97,18</td><td>1072,82</td></tr>\n",
                            "<tr><td>WST-423</td><td>2018-04-18 00:00:00.000</td><td>1170</td><td>95,18</td><td>1074,82</td></tr>\n",
                            "<tr><td>WST-423</td><td>2018-05-18 00:00:00.000</td><td>1170</td><td>47,68</td><td>1122,32</td></tr>\n",
                            "<tr><td>WST-423</td><td>2018-06-22 00:00:00.000</td><td>1170</td><td>44</td><td>1126</td></tr>\n",
                            "<tr><td>WST-423</td><td>2018-07-30 00:00:00.000</td><td>1170</td><td>81,52</td><td>1088,48</td></tr>\n",
                            "<tr><td>WST-423</td><td>2018-09-26 00:00:00.000</td><td>1170</td><td>94,45</td><td>1075,55</td></tr>\n",
                            "<tr><td>WST-423</td><td>2019-01-30 00:00:00.000</td><td>1170</td><td>18,9</td><td>1151,1</td></tr>\n",
                            "<tr><td>WST-423</td><td>2019-04-03 00:00:00.000</td><td>1170</td><td>13,67</td><td>1156,33</td></tr>\n",
                            "<tr><td>WST-423</td><td>2019-04-12 00:00:00.000</td><td>1170</td><td>14,93</td><td>1155,07</td></tr>\n",
                            "<tr><td>WST-423</td><td>2019-05-03 00:00:00.000</td><td>1170</td><td>17,08</td><td>1152,92</td></tr>\n",
                            "<tr><td>WST-423</td><td>2019-06-07 00:00:00.000</td><td>1170</td><td>16,73</td><td>1153,27</td></tr>\n",
                            "<tr><td>WST-423</td><td>2019-06-10 00:00:00.000</td><td>1170</td><td>13,46</td><td>1156,54</td></tr>\n",
                            "<tr><td>WST-423</td><td>2019-08-01 00:00:00.000</td><td>1170</td><td>14,62</td><td>1155,38</td></tr>\n",
                            "<tr><td>WST-423</td><td>2019-09-06 00:00:00.000</td><td>1170</td><td>17,3</td><td>1152,7</td></tr>\n",
                            "<tr><td>WST-423</td><td>2019-09-09 00:00:00.000</td><td>1170</td><td>13,43</td><td>1156,57</td></tr>\n",
                            "<tr><td>WST-423</td><td>2019-09-18 00:00:00.000</td><td>1170</td><td>20,42</td><td>1149,58</td></tr>\n",
                            "<tr><td>WST-423</td><td>2019-09-23 00:00:00.000</td><td>1170</td><td>20,37</td><td>1149,63</td></tr>\n",
                            "<tr><td>WST-423</td><td>2019-10-07 00:00:00.000</td><td>1170</td><td>12,17</td><td>1157,83</td></tr>\n",
                            "<tr><td>WST-423</td><td>2019-10-16 00:00:00.000</td><td>1170</td><td>13,06</td><td>1156,94</td></tr>\n",
                            "<tr><td>WST-423</td><td>2019-11-08 00:00:00.000</td><td>1170</td><td>7,7</td><td>1162,3</td></tr>\n",
                            "<tr><td>WST-423</td><td>2019-11-28 00:00:00.000</td><td>1170</td><td>3,16</td><td>1166,84</td></tr>\n",
                            "<tr><td>WST-423</td><td>2019-12-26 00:00:00.000</td><td>1170</td><td>3,28</td><td>1166,72</td></tr>\n",
                            "<tr><td>WST-423</td><td>2020-04-15 00:00:00.000</td><td>1170</td><td>5,02</td><td>1164,98</td></tr>\n",
                            "<tr><td>WST-423</td><td>2020-04-22 00:00:00.000</td><td>1170</td><td>10,69</td><td>1159,31</td></tr>\n",
                            "<tr><td>WST-423</td><td>2020-04-29 00:00:00.000</td><td>1170</td><td>11,44</td><td>1158,56</td></tr>\n",
                            "<tr><td>WST-423</td><td>2020-06-09 00:00:00.000</td><td>1170</td><td>6</td><td>1164</td></tr>\n",
                            "<tr><td>WST-423</td><td>2020-06-23 00:00:00.000</td><td>1170</td><td>9,19</td><td>1160,81</td></tr>\n",
                            "<tr><td>WST-423</td><td>2020-06-30 00:00:00.000</td><td>1170</td><td>10,91</td><td>1159,09</td></tr>\n",
                            "<tr><td>WST-423</td><td>2020-07-10 00:00:00.000</td><td>1170</td><td>2,12</td><td>1167,88</td></tr>\n",
                            "<tr><td>WST-423</td><td>2020-07-14 00:00:00.000</td><td>1170</td><td>7,85</td><td>1162,15</td></tr>\n",
                            "<tr><td>WST-423</td><td>2020-07-21 00:00:00.000</td><td>1170</td><td>11,39</td><td>1158,61</td></tr>\n",
                            "<tr><td>WST-423</td><td>2020-07-28 00:00:00.000</td><td>1170</td><td>11,73</td><td>1158,27</td></tr>\n",
                            "<tr><td>WST-423</td><td>2020-08-03 00:00:00.000</td><td>1170</td><td>12,87</td><td>1157,13</td></tr>\n",
                            "<tr><td>WST-423</td><td>2020-08-10 00:00:00.000</td><td>1170</td><td>12,85</td><td>1157,15</td></tr>\n",
                            "<tr><td>WST-423</td><td>2020-08-24 00:00:00.000</td><td>1170</td><td>6,95</td><td>1163,05</td></tr>\n",
                            "<tr><td>WST-423</td><td>2021-04-30 00:00:00.000</td><td>1170</td><td>11,11</td><td>1158,89</td></tr>\n",
                            "<tr><td>WST-423</td><td>2021-05-03 00:00:00.000</td><td>1170</td><td>11,07</td><td>1158,93</td></tr>\n",
                            "<tr><td>WST-423</td><td>2021-05-12 00:00:00.000</td><td>1170</td><td>11,33</td><td>1158,67</td></tr>\n",
                            "<tr><td>WST-423</td><td>2021-05-19 00:00:00.000</td><td>1170</td><td>11</td><td>1159</td></tr>\n",
                            "<tr><td>WST-423</td><td>2021-05-25 00:00:00.000</td><td>1170</td><td>12,45</td><td>1157,55</td></tr>\n",
                            "<tr><td>WST-423</td><td>2021-05-31 00:00:00.000</td><td>1170</td><td>12,66</td><td>1157,34</td></tr>\n",
                            "<tr><td>WST-423</td><td>2021-06-07 00:00:00.000</td><td>1170</td><td>12,99</td><td>1157,01</td></tr>\n",
                            "<tr><td>WST-423</td><td>2021-06-15 00:00:00.000</td><td>1170</td><td>9,95</td><td>1160,05</td></tr>\n",
                            "<tr><td>WST-423</td><td>2021-06-22 00:00:00.000</td><td>1170</td><td>12,48</td><td>1157,52</td></tr>\n",
                            "<tr><td>WST-423</td><td>2021-06-29 00:00:00.000</td><td>1170</td><td>13,56</td><td>1156,44</td></tr>\n",
                            "<tr><td>WST-423</td><td>2021-07-08 00:00:00.000</td><td>1170</td><td>14,16</td><td>1155,84</td></tr>\n",
                            "<tr><td>WST-423</td><td>2021-07-12 00:00:00.000</td><td>1170</td><td>14,46</td><td>1155,54</td></tr>\n",
                            "<tr><td>WST-423</td><td>2021-07-28 00:00:00.000</td><td>1170</td><td>15,9</td><td>1154,1</td></tr>\n",
                            "<tr><td>WST-423</td><td>2021-08-06 00:00:00.000</td><td>1170</td><td>15,6</td><td>1154,4</td></tr>\n",
                            "<tr><td>WST-423</td><td>2021-08-10 00:00:00.000</td><td>1170</td><td>15,79</td><td>1154,21</td></tr>\n",
                            "<tr><td>WST-423</td><td>2021-08-18 00:00:00.000</td><td>1170</td><td>15,96</td><td>1154,04</td></tr>\n",
                            "<tr><td>WST-423</td><td>2021-08-25 00:00:00.000</td><td>1170</td><td>16,18</td><td>1153,82</td></tr>\n",
                            "<tr><td>WST-423</td><td>2021-09-01 00:00:00.000</td><td>1170</td><td>16,22</td><td>1153,78</td></tr>\n",
                            "<tr><td>WST-423</td><td>2021-09-10 00:00:00.000</td><td>1170</td><td>16,13</td><td>1153,87</td></tr>\n",
                            "<tr><td>WST-423</td><td>2021-09-17 00:00:00.000</td><td>1170</td><td>16,83</td><td>1153,17</td></tr>\n",
                            "<tr><td>WST-423</td><td>2021-09-20 00:00:00.000</td><td>1170</td><td>16,3</td><td>1153,7</td></tr>\n",
                            "<tr><td>WST-423</td><td>2021-09-30 00:00:00.000</td><td>1170</td><td>15,4</td><td>1154,6</td></tr>\n",
                            "<tr><td>WST-423</td><td>2021-10-08 00:00:00.000</td><td>1170</td><td>17,33</td><td>1152,67</td></tr>\n",
                            "<tr><td>WST-423</td><td>2021-10-15 00:00:00.000</td><td>1170</td><td>17,78</td><td>1152,22</td></tr>\n",
                            "<tr><td>WST-423</td><td>2021-10-18 00:00:00.000</td><td>1170</td><td>17,58</td><td>1152,42</td></tr>\n",
                            "<tr><td>WST-423</td><td>2021-10-29 00:00:00.000</td><td>1170</td><td>17,45</td><td>1152,55</td></tr>\n",
                            "<tr><td>WST-423</td><td>2021-11-04 00:00:00.000</td><td>1170</td><td>14,74</td><td>1155,26</td></tr>\n",
                            "<tr><td>WST-423</td><td>2021-11-12 00:00:00.000</td><td>1170</td><td>17,3</td><td>1152,7</td></tr>\n",
                            "<tr><td>WST-423</td><td>2021-11-17 00:00:00.000</td><td>1170</td><td>15,53</td><td>1154,47</td></tr>\n",
                            "<tr><td>WST-423</td><td>2021-11-26 00:00:00.000</td><td>1170</td><td>13,54</td><td>1156,46</td></tr>\n",
                            "<tr><td>WST-423</td><td>2021-11-30 00:00:00.000</td><td>1170</td><td>13,65</td><td>1156,35</td></tr>\n",
                            "<tr><td>WST-423</td><td>2021-12-04 00:00:00.000</td><td>1170</td><td>14,15</td><td>1155,85</td></tr>\n",
                            "<tr><td>WST-423</td><td>2021-12-10 00:00:00.000</td><td>1170</td><td>9,77</td><td>1160,23</td></tr>\n",
                            "<tr><td>WST-423</td><td>2021-12-15 00:00:00.000</td><td>1170</td><td>12,37</td><td>1157,63</td></tr>\n",
                            "<tr><td>WST-423</td><td>2021-12-22 00:00:00.000</td><td>1170</td><td>15,17</td><td>1154,83</td></tr>\n",
                            "<tr><td>WST-423</td><td>2021-12-27 00:00:00.000</td><td>1170</td><td>9,53</td><td>1160,47</td></tr>\n",
                            "<tr><td>WST-423</td><td>2022-01-04 00:00:00.000</td><td>1170</td><td>14,15</td><td>1155,85</td></tr>\n",
                            "<tr><td>WST-424</td><td>2016-12-30 00:00:00.000</td><td>1171</td><td>16,6</td><td>1154,4</td></tr>\n",
                            "<tr><td>WST-424</td><td>2017-01-11 00:00:00.000</td><td>1171</td><td>17,82</td><td>1153,18</td></tr>\n",
                            "<tr><td>WST-424</td><td>2017-08-25 00:00:00.000</td><td>1171</td><td>87,17</td><td>1083,83</td></tr>\n",
                            "<tr><td>WST-424</td><td>2017-09-28 00:00:00.000</td><td>1171</td><td>74,79</td><td>1096,21</td></tr>\n",
                            "<tr><td>WST-424</td><td>2017-10-30 00:00:00.000</td><td>1171</td><td>72,14</td><td>1098,86</td></tr>\n",
                            "<tr><td>WST-424</td><td>2017-11-30 00:00:00.000</td><td>1171</td><td>74,7</td><td>1096,3</td></tr>\n",
                            "<tr><td>WST-424</td><td>2017-12-28 00:00:00.000</td><td>1171</td><td>80,62</td><td>1090,38</td></tr>\n",
                            "<tr><td>WST-424</td><td>2018-01-24 00:00:00.000</td><td>1171</td><td>72,03</td><td>1098,97</td></tr>\n",
                            "<tr><td>WST-424</td><td>2018-02-21 00:00:00.000</td><td>1171</td><td>72,19</td><td>1098,81</td></tr>\n",
                            "<tr><td>WST-424</td><td>2018-03-26 00:00:00.000</td><td>1171</td><td>73,71</td><td>1097,29</td></tr>\n",
                            "<tr><td>WST-424</td><td>2018-04-18 00:00:00.000</td><td>1171</td><td>58,5</td><td>1112,5</td></tr>\n",
                            "<tr><td>WST-424</td><td>2018-05-18 00:00:00.000</td><td>1171</td><td>47,32</td><td>1123,68</td></tr>\n",
                            "<tr><td>WST-424</td><td>2018-06-22 00:00:00.000</td><td>1171</td><td>49,52</td><td>1121,48</td></tr>\n",
                            "<tr><td>WST-424</td><td>2018-07-30 00:00:00.000</td><td>1171</td><td>49,12</td><td>1121,88</td></tr>\n",
                            "<tr><td>WST-424</td><td>2018-08-30 00:00:00.000</td><td>1171</td><td>48,54</td><td>1122,46</td></tr>\n",
                            "<tr><td>WST-424</td><td>2018-09-26 00:00:00.000</td><td>1171</td><td>54,24</td><td>1116,76</td></tr>\n",
                            "<tr><td>WST-424</td><td>2018-11-29 00:00:00.000</td><td>1171</td><td>42,41</td><td>1128,59</td></tr>\n",
                            "<tr><td>WST-424</td><td>2019-05-31 00:00:00.000</td><td>1171</td><td>43,84</td><td>1127,16</td></tr>\n",
                            "<tr><td>WST-424</td><td>2019-06-14 00:00:00.000</td><td>1171</td><td>54,35</td><td>1116,65</td></tr>\n",
                            "<tr><td>WST-424</td><td>2019-06-26 00:00:00.000</td><td>1171</td><td>58,55</td><td>1112,45</td></tr>\n",
                            "<tr><td>WST-424</td><td>2019-08-02 00:00:00.000</td><td>1171</td><td>55,86</td><td>1115,14</td></tr>\n",
                            "<tr><td>WST-424</td><td>2019-09-18 00:00:00.000</td><td>1171</td><td>53,59</td><td>1117,41</td></tr>\n",
                            "<tr><td>WST-424</td><td>2020-03-12 00:00:00.000</td><td>1171</td><td>23,58</td><td>1147,42</td></tr>\n",
                            "<tr><td>WST-424</td><td>2020-03-16 00:00:00.000</td><td>1171</td><td>27,6</td><td>1143,4</td></tr>\n",
                            "<tr><td>WST-424</td><td>2020-03-22 00:00:00.000</td><td>1171</td><td>28,1</td><td>1142,9</td></tr>\n",
                            "<tr><td>WST-424</td><td>2020-03-25 00:00:00.000</td><td>1171</td><td>29,13</td><td>1141,87</td></tr>\n",
                            "<tr><td>WST-424</td><td>2020-03-26 00:00:00.000</td><td>1171</td><td>29,56</td><td>1141,44</td></tr>\n",
                            "<tr><td>WST-424</td><td>2020-04-01 00:00:00.000</td><td>1171</td><td>29,84</td><td>1141,16</td></tr>\n",
                            "<tr><td>WST-424</td><td>2020-04-04 00:00:00.000</td><td>1171</td><td>30,13</td><td>1140,87</td></tr>\n",
                            "<tr><td>WST-424</td><td>2020-04-06 00:00:00.000</td><td>1171</td><td>30,62</td><td>1140,38</td></tr>\n",
                            "<tr><td>WST-424</td><td>2020-04-08 00:00:00.000</td><td>1171</td><td>29</td><td>1142</td></tr>\n",
                            "<tr><td>WST-424</td><td>2020-04-11 00:00:00.000</td><td>1171</td><td>34,32</td><td>1136,68</td></tr>\n",
                            "<tr><td>WST-424</td><td>2020-04-15 00:00:00.000</td><td>1171</td><td>30,69</td><td>1140,31</td></tr>\n",
                            "<tr><td>WST-424</td><td>2020-04-22 00:00:00.000</td><td>1171</td><td>35,28</td><td>1135,72</td></tr>\n",
                            "<tr><td>WST-424</td><td>2020-04-26 00:00:00.000</td><td>1171</td><td>33,17</td><td>1137,83</td></tr>\n",
                            "<tr><td>WST-424</td><td>2020-04-29 00:00:00.000</td><td>1171</td><td>30,52</td><td>1140,48</td></tr>\n",
                            "<tr><td>WST-424</td><td>2020-05-04 00:00:00.000</td><td>1171</td><td>36</td><td>1135</td></tr>\n",
                            "<tr><td>WST-424</td><td>2020-05-06 00:00:00.000</td><td>1171</td><td>30,9</td><td>1140,1</td></tr>\n",
                            "<tr><td>WST-424</td><td>2020-05-09 00:00:00.000</td><td>1171</td><td>37,65</td><td>1133,35</td></tr>\n",
                            "<tr><td>WST-424</td><td>2020-05-13 00:00:00.000</td><td>1171</td><td>34,47</td><td>1136,53</td></tr>\n",
                            "<tr><td>WST-424</td><td>2020-05-16 00:00:00.000</td><td>1171</td><td>37,5</td><td>1133,5</td></tr>\n",
                            "<tr><td>WST-424</td><td>2020-05-23 00:00:00.000</td><td>1171</td><td>29,53</td><td>1141,47</td></tr>\n",
                            "<tr><td>WST-424</td><td>2020-06-01 00:00:00.000</td><td>1171</td><td>36,1</td><td>1134,9</td></tr>\n",
                            "<tr><td>WST-424</td><td>2020-06-06 00:00:00.000</td><td>1171</td><td>31,27</td><td>1139,73</td></tr>\n",
                            "<tr><td>WST-424</td><td>2020-06-10 00:00:00.000</td><td>1171</td><td>33,79</td><td>1137,21</td></tr>\n",
                            "<tr><td>WST-424</td><td>2020-06-15 00:00:00.000</td><td>1171</td><td>30,63</td><td>1140,37</td></tr>\n",
                            "<tr><td>WST-424</td><td>2020-06-27 00:00:00.000</td><td>1171</td><td>34,8</td><td>1136,2</td></tr>\n",
                            "<tr><td>WST-424</td><td>2020-07-04 00:00:00.000</td><td>1171</td><td>33,63</td><td>1137,37</td></tr>\n",
                            "<tr><td>WST-424</td><td>2020-07-08 00:00:00.000</td><td>1171</td><td>31,17</td><td>1139,83</td></tr>\n",
                            "<tr><td>WST-424</td><td>2020-07-13 00:00:00.000</td><td>1171</td><td>33,87</td><td>1137,13</td></tr>\n",
                            "<tr><td>WST-424</td><td>2020-07-15 00:00:00.000</td><td>1171</td><td>32,72</td><td>1138,28</td></tr>\n",
                            "<tr><td>WST-424</td><td>2020-07-19 00:00:00.000</td><td>1171</td><td>34,2</td><td>1136,8</td></tr>\n",
                            "<tr><td>WST-424</td><td>2020-07-26 00:00:00.000</td><td>1171</td><td>43,49</td><td>1127,51</td></tr>\n",
                            "<tr><td>WST-424</td><td>2020-07-27 00:00:00.000</td><td>1171</td><td>39,1</td><td>1131,9</td></tr>\n",
                            "<tr><td>WST-424</td><td>2020-08-12 00:00:00.000</td><td>1171</td><td>43,61</td><td>1127,39</td></tr>\n",
                            "<tr><td>WST-424</td><td>2022-03-17 00:00:00.000</td><td>1171</td><td>38,8</td><td>1132,2</td></tr>\n",
                            "<tr><td>WST-424</td><td>2022-03-30 00:00:00.000</td><td>1171</td><td>4,02</td><td>1166,98</td></tr>\n",
                            "<tr><td>WST-424</td><td>2022-04-26 00:00:00.000</td><td>1171</td><td>40,97</td><td>1130,03</td></tr>\n",
                            "<tr><td>WST-424</td><td>2022-05-13 00:00:00.000</td><td>1171</td><td>34,95</td><td>1136,05</td></tr>\n",
                            "<tr><td>WST-424</td><td>2022-06-03 00:00:00.000</td><td>1171</td><td>38,76</td><td>1132,24</td></tr>\n",
                            "<tr><td>WST-424</td><td>2022-06-07 00:00:00.000</td><td>1171</td><td>38,82</td><td>1132,18</td></tr>\n",
                            "<tr><td>WST-424</td><td>2022-06-17 00:00:00.000</td><td>1171</td><td>37,37</td><td>1133,63</td></tr>\n",
                            "<tr><td>WST-424</td><td>2022-06-20 00:00:00.000</td><td>1171</td><td>34,69</td><td>1136,31</td></tr>\n",
                            "<tr><td>WST-424</td><td>2022-06-30 00:00:00.000</td><td>1171</td><td>38,68</td><td>1132,32</td></tr>\n",
                            "<tr><td>WST-424</td><td>2022-07-05 00:00:00.000</td><td>1171</td><td>38,49</td><td>1132,51</td></tr>\n",
                            "<tr><td>WST-424</td><td>2022-07-14 00:00:00.000</td><td>1171</td><td>38,44</td><td>1132,56</td></tr>\n",
                            "<tr><td>WST-424</td><td>2022-07-19 00:00:00.000</td><td>1171</td><td>40,09</td><td>1130,91</td></tr>\n",
                            "<tr><td>WST-424</td><td>2022-07-25 00:00:00.000</td><td>1171</td><td>53,45</td><td>1117,55</td></tr>\n",
                            "<tr><td>WST-424</td><td>2022-08-03 00:00:00.000</td><td>1171</td><td>52,91</td><td>1118,09</td></tr>\n",
                            "<tr><td>WST-424</td><td>2022-08-08 00:00:00.000</td><td>1171</td><td>23,31</td><td>1147,69</td></tr>\n",
                            "<tr><td>WST-424</td><td>2022-08-16 00:00:00.000</td><td>1171</td><td>60,77</td><td>1110,23</td></tr>\n",
                            "<tr><td>WST-424</td><td>2022-08-23 00:00:00.000</td><td>1171</td><td>67,68</td><td>1103,32</td></tr>\n",
                            "<tr><td>WST-424</td><td>2022-09-02 00:00:00.000</td><td>1171</td><td>66,37</td><td>1104,63</td></tr>\n",
                            "<tr><td>WST-424</td><td>2022-09-09 00:00:00.000</td><td>1171</td><td>66,6</td><td>1104,4</td></tr>\n",
                            "<tr><td>WST-424</td><td>2022-09-14 00:00:00.000</td><td>1171</td><td>69,64</td><td>1101,36</td></tr>\n",
                            "<tr><td>WST-424</td><td>2022-09-20 00:00:00.000</td><td>1171</td><td>44,05</td><td>1126,95</td></tr>\n",
                            "<tr><td>WST-424</td><td>2022-09-26 00:00:00.000</td><td>1171</td><td>69,08</td><td>1101,92</td></tr>\n",
                            "<tr><td>WST-424</td><td>2022-10-05 00:00:00.000</td><td>1171</td><td>26,58</td><td>1144,42</td></tr>\n",
                            "<tr><td>WST-424</td><td>2022-10-14 00:00:00.000</td><td>1171</td><td>63,84</td><td>1107,16</td></tr>\n",
                            "<tr><td>WST-424</td><td>2022-10-19 00:00:00.000</td><td>1171</td><td>54,91</td><td>1116,09</td></tr>\n",
                            "<tr><td>WST-424</td><td>2022-10-24 00:00:00.000</td><td>1171</td><td>67,17</td><td>1103,83</td></tr>\n",
                            "<tr><td>WST-424</td><td>2022-11-08 00:00:00.000</td><td>1171</td><td>67,17</td><td>1103,83</td></tr>\n",
                            "<tr><td>WST-424</td><td>2022-11-17 00:00:00.000</td><td>1171</td><td>43,17</td><td>1127,83</td></tr>\n",
                            "<tr><td>WST-424</td><td>2022-11-24 00:00:00.000</td><td>1171</td><td>46,2</td><td>1124,8</td></tr>\n",
                            "<tr><td>WST-424</td><td>2022-12-02 00:00:00.000</td><td>1171</td><td>42,64</td><td>1128,36</td></tr>\n",
                            "<tr><td>WST-424</td><td>2022-12-07 00:00:00.000</td><td>1171</td><td>48,68</td><td>1122,32</td></tr>\n",
                            "<tr><td>WST-424</td><td>2022-12-14 00:00:00.000</td><td>1171</td><td>45,08</td><td>1125,92</td></tr>\n",
                            "<tr><td>WST-424</td><td>2022-12-21 00:00:00.000</td><td>1171</td><td>43,6</td><td>1127,4</td></tr>\n",
                            "<tr><td>WST-424</td><td>2022-12-29 00:00:00.000</td><td>1171</td><td>43,44</td><td>1127,56</td></tr>\n",
                            "<tr><td>WST-424</td><td>2023-04-28 00:00:00.000</td><td>1171</td><td>53,25</td><td>1117,75</td></tr>\n",
                            "<tr><td>WST-424</td><td>2023-05-03 00:00:00.000</td><td>1171</td><td>57,3</td><td>1113,7</td></tr>\n",
                            "<tr><td>WST-424</td><td>2023-05-09 00:00:00.000</td><td>1171</td><td>57,51</td><td>1113,49</td></tr>\n",
                            "<tr><td>WST-425</td><td>2017-08-25 00:00:00.000</td><td>1271,5</td><td>103,6</td><td>1167,9</td></tr>\n",
                            "<tr><td>WST-425</td><td>2017-09-28 00:00:00.000</td><td>1271,5</td><td>50,74</td><td>1220,76</td></tr>\n",
                            "<tr><td>WST-425</td><td>2017-10-30 00:00:00.000</td><td>1271,5</td><td>53,71</td><td>1217,79</td></tr>\n",
                            "<tr><td>WST-425</td><td>2017-11-30 00:00:00.000</td><td>1271,5</td><td>57,4</td><td>1214,1</td></tr>\n",
                            "<tr><td>WST-425</td><td>2017-12-28 00:00:00.000</td><td>1271,5</td><td>61,48</td><td>1210,02</td></tr>\n",
                            "<tr><td>WST-425</td><td>2018-02-21 00:00:00.000</td><td>1271,5</td><td>69,61</td><td>1201,89</td></tr>\n",
                            "<tr><td>WST-425</td><td>2018-03-26 00:00:00.000</td><td>1271,5</td><td>78,29</td><td>1193,21</td></tr>\n",
                            "<tr><td>WST-425</td><td>2018-04-18 00:00:00.000</td><td>1271,5</td><td>79,41</td><td>1192,09</td></tr>\n",
                            "<tr><td>WST-425</td><td>2018-05-18 00:00:00.000</td><td>1271,5</td><td>56,51</td><td>1214,99</td></tr>\n",
                            "<tr><td>WST-425</td><td>2018-06-22 00:00:00.000</td><td>1271,5</td><td>91,94</td><td>1179,56</td></tr>\n",
                            "<tr><td>WST-425</td><td>2018-07-30 00:00:00.000</td><td>1271,5</td><td>54,79</td><td>1216,71</td></tr>\n",
                            "<tr><td>WST-425</td><td>2018-08-30 00:00:00.000</td><td>1271,5</td><td>82,36</td><td>1189,14</td></tr>\n",
                            "<tr><td>WST-425</td><td>2018-09-26 00:00:00.000</td><td>1271,5</td><td>88,25</td><td>1183,25</td></tr>\n",
                            "<tr><td>WST-425</td><td>2018-11-29 00:00:00.000</td><td>1271,5</td><td>88,85</td><td>1182,65</td></tr>\n",
                            "<tr><td>WST-425</td><td>2019-01-30 00:00:00.000</td><td>1271,5</td><td>13,74</td><td>1257,76</td></tr>\n",
                            "<tr><td>WST-425</td><td>2019-05-31 00:00:00.000</td><td>1271,5</td><td>97</td><td>1174,5</td></tr>\n",
                            "<tr><td>WST-425</td><td>2019-06-14 00:00:00.000</td><td>1271,5</td><td>107,24</td><td>1164,26</td></tr>\n",
                            "<tr><td>WST-425</td><td>2019-06-26 00:00:00.000</td><td>1271,5</td><td>108,91</td><td>1162,59</td></tr>\n",
                            "<tr><td>WST-425</td><td>2019-09-18 00:00:00.000</td><td>1271,5</td><td>99,26</td><td>1172,24</td></tr>\n",
                            "<tr><td>WST-425</td><td>2019-12-26 00:00:00.000</td><td>1271,5</td><td>38,4</td><td>1233,1</td></tr>\n",
                            "<tr><td>WST-425</td><td>2020-02-05 00:00:00.000</td><td>1271,5</td><td>108,26</td><td>1163,24</td></tr>\n",
                            "<tr><td>WST-425</td><td>2020-02-08 00:00:00.000</td><td>1271,5</td><td>108,69</td><td>1162,81</td></tr>\n",
                            "<tr><td>WST-425</td><td>2020-02-10 00:00:00.000</td><td>1271,5</td><td>108,1</td><td>1163,4</td></tr>\n",
                            "<tr><td>WST-425</td><td>2020-02-12 00:00:00.000</td><td>1271,5</td><td>109,24</td><td>1162,26</td></tr>\n",
                            "<tr><td>WST-425</td><td>2020-02-15 00:00:00.000</td><td>1271,5</td><td>108,67</td><td>1162,83</td></tr>\n",
                            "<tr><td>WST-425</td><td>2020-02-26 00:00:00.000</td><td>1271,5</td><td>108,18</td><td>1163,32</td></tr>\n",
                            "<tr><td>WST-425</td><td>2020-03-01 00:00:00.000</td><td>1271,5</td><td>109,4</td><td>1162,1</td></tr>\n",
                            "<tr><td>WST-425</td><td>2020-03-07 00:00:00.000</td><td>1271,5</td><td>109,18</td><td>1162,32</td></tr>\n",
                            "<tr><td>WST-425</td><td>2020-03-14 00:00:00.000</td><td>1271,5</td><td>91,18</td><td>1180,32</td></tr>\n",
                            "<tr><td>WST-425</td><td>2020-03-22 00:00:00.000</td><td>1271,5</td><td>27,41</td><td>1244,09</td></tr>\n",
                            "<tr><td>WST-425</td><td>2020-03-26 00:00:00.000</td><td>1271,5</td><td>115,1</td><td>1156,4</td></tr>\n",
                            "<tr><td>WST-425</td><td>2020-04-01 00:00:00.000</td><td>1271,5</td><td>116,67</td><td>1154,83</td></tr>\n",
                            "<tr><td>WST-425</td><td>2020-04-02 00:00:00.000</td><td>1271,5</td><td>117,6</td><td>1153,9</td></tr>\n",
                            "<tr><td>WST-425</td><td>2020-04-03 00:00:00.000</td><td>1271,5</td><td>117,36</td><td>1154,14</td></tr>\n",
                            "<tr><td>WST-425</td><td>2020-04-04 00:00:00.000</td><td>1271,5</td><td>117,04</td><td>1154,46</td></tr>\n",
                            "<tr><td>WST-425</td><td>2020-04-06 00:00:00.000</td><td>1271,5</td><td>118,13</td><td>1153,37</td></tr>\n",
                            "<tr><td>WST-425</td><td>2020-04-08 00:00:00.000</td><td>1271,5</td><td>117,9</td><td>1153,6</td></tr>\n",
                            "<tr><td>WST-425</td><td>2020-04-11 00:00:00.000</td><td>1271,5</td><td>119,52</td><td>1151,98</td></tr>\n",
                            "<tr><td>WST-425</td><td>2020-04-15 00:00:00.000</td><td>1271,5</td><td>117,39</td><td>1154,11</td></tr>\n",
                            "<tr><td>WST-425</td><td>2020-04-18 00:00:00.000</td><td>1271,5</td><td>118,86</td><td>1152,64</td></tr>\n",
                            "<tr><td>WST-425</td><td>2020-04-22 00:00:00.000</td><td>1271,5</td><td>120,33</td><td>1151,17</td></tr>\n",
                            "<tr><td>WST-425</td><td>2020-04-26 00:00:00.000</td><td>1271,5</td><td>119,3</td><td>1152,2</td></tr>\n",
                            "<tr><td>WST-425</td><td>2020-04-29 00:00:00.000</td><td>1271,5</td><td>122,32</td><td>1149,18</td></tr>\n",
                            "<tr><td>WST-425</td><td>2020-05-06 00:00:00.000</td><td>1271,5</td><td>118,85</td><td>1152,65</td></tr>\n",
                            "<tr><td>WST-425</td><td>2020-05-09 00:00:00.000</td><td>1271,5</td><td>119,33</td><td>1152,17</td></tr>\n",
                            "<tr><td>WST-425</td><td>2020-05-13 00:00:00.000</td><td>1271,5</td><td>121,5</td><td>1150</td></tr>\n",
                            "<tr><td>WST-425</td><td>2020-05-16 00:00:00.000</td><td>1271,5</td><td>120,48</td><td>1151,02</td></tr>\n",
                            "<tr><td>WST-425</td><td>2020-05-20 00:00:00.000</td><td>1271,5</td><td>199,77</td><td>1071,73</td></tr>\n",
                            "<tr><td>WST-425</td><td>2020-05-23 00:00:00.000</td><td>1271,5</td><td>121,8</td><td>1149,7</td></tr>\n",
                            "<tr><td>WST-425</td><td>2020-06-01 00:00:00.000</td><td>1271,5</td><td>120,34</td><td>1151,16</td></tr>\n",
                            "<tr><td>WST-425</td><td>2020-06-06 00:00:00.000</td><td>1271,5</td><td>121,17</td><td>1150,33</td></tr>\n",
                            "<tr><td>WST-425</td><td>2020-06-08 00:00:00.000</td><td>1271,5</td><td>122,31</td><td>1149,19</td></tr>\n",
                            "<tr><td>WST-425</td><td>2020-06-10 00:00:00.000</td><td>1271,5</td><td>119,2</td><td>1152,3</td></tr>\n",
                            "<tr><td>WST-425</td><td>2020-06-15 00:00:00.000</td><td>1271,5</td><td>123,92</td><td>1147,58</td></tr>\n",
                            "<tr><td>WST-425</td><td>2020-06-18 00:00:00.000</td><td>1271,5</td><td>123</td><td>1148,5</td></tr>\n",
                            "<tr><td>WST-425</td><td>2020-06-27 00:00:00.000</td><td>1271,5</td><td>120,15</td><td>1151,35</td></tr>\n",
                            "<tr><td>WST-425</td><td>2020-07-01 00:00:00.000</td><td>1271,5</td><td>121,16</td><td>1150,34</td></tr>\n",
                            "<tr><td>WST-425</td><td>2020-07-04 00:00:00.000</td><td>1271,5</td><td>123,72</td><td>1147,78</td></tr>\n",
                            "<tr><td>WST-425</td><td>2020-07-15 00:00:00.000</td><td>1271,5</td><td>122,59</td><td>1148,91</td></tr>\n",
                            "<tr><td>WST-425</td><td>2020-07-19 00:00:00.000</td><td>1271,5</td><td>121,19</td><td>1150,31</td></tr>\n",
                            "<tr><td>WST-425</td><td>2020-07-26 00:00:00.000</td><td>1271,5</td><td>124,14</td><td>1147,36</td></tr>\n",
                            "<tr><td>WST-425</td><td>2020-07-27 00:00:00.000</td><td>1271,5</td><td>123,93</td><td>1147,57</td></tr>\n",
                            "<tr><td>WST-425</td><td>2020-08-01 00:00:00.000</td><td>1271,5</td><td>123,82</td><td>1147,68</td></tr>\n",
                            "<tr><td>WST-425</td><td>2020-08-03 00:00:00.000</td><td>1271,5</td><td>124,1</td><td>1147,4</td></tr>\n",
                            "<tr><td>WST-425</td><td>2020-08-05 00:00:00.000</td><td>1271,5</td><td>122,38</td><td>1149,12</td></tr>\n",
                            "<tr><td>WST-425</td><td>2020-08-09 00:00:00.000</td><td>1271,5</td><td>122,23</td><td>1149,27</td></tr>\n",
                            "<tr><td>WST-425</td><td>2020-08-10 00:00:00.000</td><td>1271,5</td><td>123,13</td><td>1148,37</td></tr>\n",
                            "<tr><td>WST-425</td><td>2020-08-12 00:00:00.000</td><td>1271,5</td><td>121,86</td><td>1149,64</td></tr>\n",
                            "<tr><td>WST-425</td><td>2020-08-15 00:00:00.000</td><td>1271,5</td><td>124,12</td><td>1147,38</td></tr>\n",
                            "<tr><td>WST-425</td><td>2020-08-17 00:00:00.000</td><td>1271,5</td><td>122,16</td><td>1149,34</td></tr>\n",
                            "<tr><td>WST-425</td><td>2020-08-23 00:00:00.000</td><td>1271,5</td><td>123,65</td><td>1147,85</td></tr>\n",
                            "<tr><td>WST-425</td><td>2021-01-25 00:00:00.000</td><td>1271,5</td><td>19,51</td><td>1251,99</td></tr>\n",
                            "<tr><td>WST-425</td><td>2021-02-02 00:00:00.000</td><td>1271,5</td><td>19,1</td><td>1252,4</td></tr>\n",
                            "<tr><td>WST-425</td><td>2021-02-08 00:00:00.000</td><td>1271,5</td><td>18,71</td><td>1252,79</td></tr>\n",
                            "<tr><td>WST-425</td><td>2021-02-18 00:00:00.000</td><td>1271,5</td><td>17,65</td><td>1253,85</td></tr>\n",
                            "<tr><td>WST-425</td><td>2021-02-25 00:00:00.000</td><td>1271,5</td><td>82,65</td><td>1188,85</td></tr>\n",
                            "<tr><td>WST-425</td><td>2021-11-15 00:00:00.000</td><td>1271,5</td><td>107,23</td><td>1164,27</td></tr>\n",
                            "<tr><td>WST-425</td><td>2021-11-18 00:00:00.000</td><td>1271,5</td><td>106,35</td><td>1165,15</td></tr>\n",
                            "<tr><td>WST-425</td><td>2021-11-23 00:00:00.000</td><td>1271,5</td><td>107,53</td><td>1163,97</td></tr>\n",
                            "<tr><td>WST-425</td><td>2021-12-04 00:00:00.000</td><td>1271,5</td><td>109,1</td><td>1162,4</td></tr>\n",
                            "<tr><td>WST-425</td><td>2021-12-07 00:00:00.000</td><td>1271,5</td><td>111,3</td><td>1160,2</td></tr>\n",
                            "<tr><td>WST-425</td><td>2021-12-11 00:00:00.000</td><td>1271,5</td><td>106,01</td><td>1165,49</td></tr>\n",
                            "<tr><td>WST-425</td><td>2021-12-14 00:00:00.000</td><td>1271,5</td><td>105,09</td><td>1166,41</td></tr>\n",
                            "<tr><td>WST-425</td><td>2022-02-03 00:00:00.000</td><td>1271,5</td><td>17,63</td><td>1253,87</td></tr>\n",
                            "<tr><td>WST-425</td><td>2022-02-08 00:00:00.000</td><td>1271,5</td><td>16,8</td><td>1254,7</td></tr>\n",
                            "<tr><td>WST-425</td><td>2022-02-17 00:00:00.000</td><td>1271,5</td><td>16,26</td><td>1255,24</td></tr>\n",
                            "<tr><td>WST-425</td><td>2022-02-23 00:00:00.000</td><td>1271,5</td><td>14,84</td><td>1256,66</td></tr>\n",
                            "<tr><td>WST-425</td><td>2022-03-03 00:00:00.000</td><td>1271,5</td><td>13,95</td><td>1257,55</td></tr>\n",
                            "<tr><td>WST-425</td><td>2022-03-07 00:00:00.000</td><td>1271,5</td><td>13,55</td><td>1257,95</td></tr>\n",
                            "<tr><td>WST-425</td><td>2022-04-05 00:00:00.000</td><td>1271,5</td><td>20,73</td><td>1250,77</td></tr>\n",
                            "<tr><td>WST-425</td><td>2022-04-15 00:00:00.000</td><td>1271,5</td><td>96,19</td><td>1175,31</td></tr>\n",
                            "<tr><td>WST-425</td><td>2022-04-18 00:00:00.000</td><td>1271,5</td><td>97,37</td><td>1174,13</td></tr>\n",
                            "<tr><td>WST-425</td><td>2022-04-27 00:00:00.000</td><td>1271,5</td><td>99,58</td><td>1171,92</td></tr>\n",
                            "<tr><td>WST-425</td><td>2022-05-05 00:00:00.000</td><td>1271,5</td><td>101,92</td><td>1169,58</td></tr>\n",
                            "<tr><td>WST-425</td><td>2022-05-10 00:00:00.000</td><td>1271,5</td><td>103,04</td><td>1168,46</td></tr>\n",
                            "<tr><td>WST-425</td><td>2022-05-24 00:00:00.000</td><td>1271,5</td><td>102,71</td><td>1168,79</td></tr>\n",
                            "<tr><td>WST-425</td><td>2022-05-25 00:00:00.000</td><td>1271,5</td><td>105,59</td><td>1165,91</td></tr>\n",
                            "<tr><td>WST-425</td><td>2022-06-03 00:00:00.000</td><td>1271,5</td><td>107,69</td><td>1163,81</td></tr>\n",
                            "<tr><td>WST-425</td><td>2022-06-07 00:00:00.000</td><td>1271,5</td><td>112,4</td><td>1159,1</td></tr>\n",
                            "<tr><td>WST-425</td><td>2022-06-17 00:00:00.000</td><td>1271,5</td><td>115,71</td><td>1155,79</td></tr>\n",
                            "<tr><td>WST-425</td><td>2022-06-20 00:00:00.000</td><td>1271,5</td><td>117,28</td><td>1154,22</td></tr>\n",
                            "<tr><td>WST-425</td><td>2022-06-29 00:00:00.000</td><td>1271,5</td><td>118,96</td><td>1152,54</td></tr>\n",
                            "<tr><td>WST-425</td><td>2022-07-05 00:00:00.000</td><td>1271,5</td><td>33,96</td><td>1237,54</td></tr>\n",
                            "<tr><td>WST-425</td><td>2022-07-14 00:00:00.000</td><td>1271,5</td><td>119,84</td><td>1151,66</td></tr>\n",
                            "<tr><td>WST-425</td><td>2022-07-18 00:00:00.000</td><td>1271,5</td><td>119,84</td><td>1151,66</td></tr>\n",
                            "<tr><td>WST-425</td><td>2022-07-25 00:00:00.000</td><td>1271,5</td><td>119,84</td><td>1151,66</td></tr>\n",
                            "<tr><td>WST-425</td><td>2022-08-08 00:00:00.000</td><td>1271,5</td><td>118,94</td><td>1152,56</td></tr>\n",
                            "<tr><td>WST-425</td><td>2022-08-16 00:00:00.000</td><td>1271,5</td><td>121,38</td><td>1150,12</td></tr>\n",
                            "<tr><td>WST-425</td><td>2022-08-23 00:00:00.000</td><td>1271,5</td><td>122,1</td><td>1149,4</td></tr>\n",
                            "<tr><td>WST-425</td><td>2022-09-02 00:00:00.000</td><td>1271,5</td><td>123,44</td><td>1148,06</td></tr>\n",
                            "<tr><td>WST-425</td><td>2022-09-09 00:00:00.000</td><td>1271,5</td><td>116,51</td><td>1154,99</td></tr>\n",
                            "<tr><td>WST-425</td><td>2022-09-14 00:00:00.000</td><td>1271,5</td><td>124,93</td><td>1146,57</td></tr>\n",
                            "<tr><td>WST-425</td><td>2022-09-20 00:00:00.000</td><td>1271,5</td><td>125,2</td><td>1146,3</td></tr>\n",
                            "<tr><td>WST-425</td><td>2022-09-28 00:00:00.000</td><td>1271,5</td><td>125,72</td><td>1145,78</td></tr>\n",
                            "<tr><td>WST-425</td><td>2022-10-05 00:00:00.000</td><td>1271,5</td><td>125,29</td><td>1146,21</td></tr>\n",
                            "<tr><td>WST-425</td><td>2022-10-13 00:00:00.000</td><td>1271,5</td><td>126,61</td><td>1144,89</td></tr>\n",
                            "<tr><td>WST-425</td><td>2022-10-19 00:00:00.000</td><td>1271,5</td><td>123,53</td><td>1147,97</td></tr>\n",
                            "<tr><td>WST-425</td><td>2022-10-24 00:00:00.000</td><td>1271,5</td><td>126,87</td><td>1144,63</td></tr>\n",
                            "<tr><td>WST-425</td><td>2022-11-01 00:00:00.000</td><td>1271,5</td><td>126,99</td><td>1144,51</td></tr>\n",
                            "<tr><td>WST-425</td><td>2022-11-08 00:00:00.000</td><td>1271,5</td><td>127,37</td><td>1144,13</td></tr>\n",
                            "<tr><td>WST-425</td><td>2022-11-16 00:00:00.000</td><td>1271,5</td><td>127,47</td><td>1144,03</td></tr>\n",
                            "<tr><td>WST-425</td><td>2022-11-24 00:00:00.000</td><td>1271,5</td><td>126,73</td><td>1144,77</td></tr>\n",
                            "<tr><td>WST-425</td><td>2022-11-30 00:00:00.000</td><td>1271,5</td><td>127,49</td><td>1144,01</td></tr>\n",
                            "<tr><td>WST-425</td><td>2022-12-07 00:00:00.000</td><td>1271,5</td><td>127,59</td><td>1143,91</td></tr>\n",
                            "<tr><td>WST-425</td><td>2022-12-13 00:00:00.000</td><td>1271,5</td><td>127,99</td><td>1143,51</td></tr>\n",
                            "<tr><td>WST-425</td><td>2022-12-20 00:00:00.000</td><td>1271,5</td><td>41,57</td><td>1229,93</td></tr>\n",
                            "<tr><td>WST-425</td><td>2022-12-26 00:00:00.000</td><td>1271,5</td><td>11,44</td><td>1260,06</td></tr>\n",
                            "<tr><td>WST-425</td><td>2023-01-03 00:00:00.000</td><td>1271,5</td><td>46,86</td><td>1224,64</td></tr>\n",
                            "<tr><td>WST-425</td><td>2023-01-11 00:00:00.000</td><td>1271,5</td><td>30,24</td><td>1241,26</td></tr>\n",
                            "<tr><td>WST-425</td><td>2023-01-20 00:00:00.000</td><td>1271,5</td><td>117,45</td><td>1154,05</td></tr>\n",
                            "<tr><td>WST-425</td><td>2023-01-23 00:00:00.000</td><td>1271,5</td><td>34,72</td><td>1236,78</td></tr>\n",
                            "<tr><td>WST-425</td><td>2023-02-03 00:00:00.000</td><td>1271,5</td><td>118,26</td><td>1153,24</td></tr>\n",
                            "<tr><td>WST-425</td><td>2023-02-06 00:00:00.000</td><td>1271,5</td><td>119,88</td><td>1151,62</td></tr>\n",
                            "<tr><td>WST-425</td><td>2023-02-15 00:00:00.000</td><td>1271,5</td><td>116,67</td><td>1154,83</td></tr>\n",
                            "<tr><td>WST-425</td><td>2023-02-24 00:00:00.000</td><td>1271,5</td><td>120,74</td><td>1150,76</td></tr>\n",
                            "<tr><td>WST-425</td><td>2023-02-27 00:00:00.000</td><td>1271,5</td><td>120,11</td><td>1151,39</td></tr>\n",
                            "<tr><td>WST-425</td><td>2023-03-06 00:00:00.000</td><td>1271,5</td><td>121,47</td><td>1150,03</td></tr>\n",
                            "<tr><td>WST-425</td><td>2023-03-17 00:00:00.000</td><td>1271,5</td><td>121,76</td><td>1149,74</td></tr>\n",
                            "<tr><td>WST-425</td><td>2023-03-23 00:00:00.000</td><td>1271,5</td><td>114,53</td><td>1156,97</td></tr>\n",
                            "<tr><td>WST-425</td><td>2023-03-31 00:00:00.000</td><td>1271,5</td><td>120,22</td><td>1151,28</td></tr>\n",
                            "<tr><td>WST-425</td><td>2023-04-05 00:00:00.000</td><td>1271,5</td><td>121,89</td><td>1149,61</td></tr>\n",
                            "<tr><td>WST-425</td><td>2023-04-12 00:00:00.000</td><td>1271,5</td><td>122,84</td><td>1148,66</td></tr>\n",
                            "<tr><td>WST-425</td><td>2023-04-17 00:00:00.000</td><td>1271,5</td><td>122,46</td><td>1149,04</td></tr>\n",
                            "<tr><td>WST-425</td><td>2023-04-28 00:00:00.000</td><td>1271,5</td><td>123,66</td><td>1147,84</td></tr>\n",
                            "<tr><td>WST-425</td><td>2023-05-03 00:00:00.000</td><td>1271,5</td><td>125,07</td><td>1146,43</td></tr>\n",
                            "<tr><td>WST-425</td><td>2023-05-09 00:00:00.000</td><td>1271,5</td><td>125,31</td><td>1146,19</td></tr>\n",
                            "<tr><td>WST-425</td><td>2023-05-18 00:00:00.000</td><td>1271,5</td><td>125,71</td><td>1145,79</td></tr>\n",
                            "<tr><td>WST-425</td><td>2023-05-23 00:00:00.000</td><td>1271,5</td><td>40,3</td><td>1231,2</td></tr>\n",
                            "<tr><td>WST-426</td><td>2018-02-14 00:00:00.000</td><td>1191,6</td><td>31,7</td><td>1159,9</td></tr>\n",
                            "<tr><td>WST-426</td><td>2018-04-14 00:00:00.000</td><td>1191,6</td><td>61,61</td><td>1129,99</td></tr>\n",
                            "<tr><td>WST-426</td><td>2018-04-18 00:00:00.000</td><td>1191,6</td><td>68,58</td><td>1123,02</td></tr>\n",
                            "<tr><td>WST-426</td><td>2018-05-18 00:00:00.000</td><td>1191,6</td><td>101,69</td><td>1089,91</td></tr>\n",
                            "<tr><td>WST-426</td><td>2018-06-22 00:00:00.000</td><td>1191,6</td><td>78,51</td><td>1113,09</td></tr>\n",
                            "<tr><td>WST-426</td><td>2018-07-30 00:00:00.000</td><td>1191,6</td><td>66,93</td><td>1124,67</td></tr>\n",
                            "<tr><td>WST-426</td><td>2018-08-30 00:00:00.000</td><td>1191,6</td><td>118,88</td><td>1072,72</td></tr>\n",
                            "<tr><td>WST-426</td><td>2018-09-26 00:00:00.000</td><td>1191,6</td><td>124,42</td><td>1067,18</td></tr>\n",
                            "<tr><td>WST-426</td><td>2018-11-29 00:00:00.000</td><td>1191,6</td><td>129</td><td>1062,6</td></tr>\n",
                            "<tr><td>WST-426</td><td>2018-12-28 00:00:00.000</td><td>1191,6</td><td>27,19</td><td>1164,41</td></tr>\n",
                            "<tr><td>WST-426</td><td>2019-01-04 00:00:00.000</td><td>1191,6</td><td>27,06</td><td>1164,54</td></tr>\n",
                            "<tr><td>WST-426</td><td>2019-01-30 00:00:00.000</td><td>1191,6</td><td>86,7</td><td>1104,9</td></tr>\n",
                            "<tr><td>WST-426</td><td>2019-03-29 00:00:00.000</td><td>1191,6</td><td>27,3</td><td>1164,3</td></tr>\n",
                            "<tr><td>WST-426</td><td>2019-04-03 00:00:00.000</td><td>1191,6</td><td>27,21</td><td>1164,39</td></tr>\n",
                            "<tr><td>WST-426</td><td>2019-05-31 00:00:00.000</td><td>1191,6</td><td>61,6</td><td>1130</td></tr>\n",
                            "<tr><td>WST-426</td><td>2019-06-26 00:00:00.000</td><td>1191,6</td><td>65,23</td><td>1126,37</td></tr>\n",
                            "<tr><td>WST-426</td><td>2019-09-18 00:00:00.000</td><td>1191,6</td><td>102,5</td><td>1089,1</td></tr>\n",
                            "<tr><td>WST-426</td><td>2021-11-15 00:00:00.000</td><td>1191,6</td><td>78,61</td><td>1112,99</td></tr>\n",
                            "<tr><td>WST-426</td><td>2021-11-18 00:00:00.000</td><td>1191,6</td><td>78,61</td><td>1112,99</td></tr>\n",
                            "<tr><td>WST-426</td><td>2021-11-23 00:00:00.000</td><td>1191,6</td><td>78,52</td><td>1113,08</td></tr>\n",
                            "<tr><td>WST-426</td><td>2021-12-04 00:00:00.000</td><td>1191,6</td><td>81,11</td><td>1110,49</td></tr>\n",
                            "<tr><td>WST-426</td><td>2021-12-07 00:00:00.000</td><td>1191,6</td><td>79,61</td><td>1111,99</td></tr>\n",
                            "<tr><td>WST-426</td><td>2021-12-11 00:00:00.000</td><td>1191,6</td><td>80,19</td><td>1111,41</td></tr>\n",
                            "<tr><td>WST-426</td><td>2021-12-14 00:00:00.000</td><td>1191,6</td><td>78,64</td><td>1112,96</td></tr>\n",
                            "<tr><td>WST-426</td><td>2022-01-04 00:00:00.000</td><td>1191,6</td><td>81,55</td><td>1110,05</td></tr>\n",
                            "<tr><td>WST-426</td><td>2022-02-03 00:00:00.000</td><td>1191,6</td><td>103,07</td><td>1088,53</td></tr>\n",
                            "<tr><td>WST-426</td><td>2022-02-11 00:00:00.000</td><td>1191,6</td><td>110,23</td><td>1081,37</td></tr>\n",
                            "<tr><td>WST-426</td><td>2022-02-17 00:00:00.000</td><td>1191,6</td><td>86,18</td><td>1105,42</td></tr>\n",
                            "<tr><td>WST-426</td><td>2022-02-25 00:00:00.000</td><td>1191,6</td><td>85,56</td><td>1106,04</td></tr>\n",
                            "<tr><td>WST-426</td><td>2022-03-04 00:00:00.000</td><td>1191,6</td><td>102,19</td><td>1089,41</td></tr>\n",
                            "<tr><td>WST-426</td><td>2022-03-07 00:00:00.000</td><td>1191,6</td><td>106,92</td><td>1084,68</td></tr>\n",
                            "<tr><td>WST-426</td><td>2022-03-17 00:00:00.000</td><td>1191,6</td><td>114,5</td><td>1077,1</td></tr>\n",
                            "<tr><td>WST-426</td><td>2022-03-25 00:00:00.000</td><td>1191,6</td><td>116,26</td><td>1075,34</td></tr>\n",
                            "<tr><td>WST-426</td><td>2022-04-05 00:00:00.000</td><td>1191,6</td><td>115,73</td><td>1075,87</td></tr>\n",
                            "<tr><td>WST-426</td><td>2022-04-15 00:00:00.000</td><td>1191,6</td><td>115,42</td><td>1076,18</td></tr>\n",
                            "<tr><td>WST-426</td><td>2022-04-19 00:00:00.000</td><td>1191,6</td><td>116,54</td><td>1075,06</td></tr>\n",
                            "<tr><td>WST-426</td><td>2022-04-26 00:00:00.000</td><td>1191,6</td><td>116,83</td><td>1074,77</td></tr>\n",
                            "<tr><td>WST-426</td><td>2022-05-26 00:00:00.000</td><td>1191,6</td><td>114,62</td><td>1076,98</td></tr>\n",
                            "<tr><td>WST-426</td><td>2022-06-07 00:00:00.000</td><td>1191,6</td><td>122,97</td><td>1068,63</td></tr>\n",
                            "<tr><td>WST-426</td><td>2022-06-17 00:00:00.000</td><td>1191,6</td><td>119,5</td><td>1072,1</td></tr>\n",
                            "<tr><td>WST-426</td><td>2022-06-21 00:00:00.000</td><td>1191,6</td><td>121,63</td><td>1069,97</td></tr>\n",
                            "<tr><td>WST-426</td><td>2022-07-01 00:00:00.000</td><td>1191,6</td><td>122,62</td><td>1068,98</td></tr>\n",
                            "<tr><td>WST-426</td><td>2022-07-05 00:00:00.000</td><td>1191,6</td><td>122,19</td><td>1069,41</td></tr>\n",
                            "<tr><td>WST-426</td><td>2022-07-22 00:00:00.000</td><td>1191,6</td><td>122,5</td><td>1069,1</td></tr>\n",
                            "<tr><td>WST-426</td><td>2022-07-25 00:00:00.000</td><td>1191,6</td><td>122,2</td><td>1069,4</td></tr>\n",
                            "<tr><td>WST-426</td><td>2022-08-03 00:00:00.000</td><td>1191,6</td><td>123,57</td><td>1068,03</td></tr>\n",
                            "<tr><td>WST-426</td><td>2022-08-08 00:00:00.000</td><td>1191,6</td><td>101,27</td><td>1090,33</td></tr>\n",
                            "<tr><td>WST-426</td><td>2022-08-16 00:00:00.000</td><td>1191,6</td><td>100,76</td><td>1090,84</td></tr>\n",
                            "<tr><td>WST-426</td><td>2022-08-23 00:00:00.000</td><td>1191,6</td><td>99,83</td><td>1091,77</td></tr>\n",
                            "<tr><td>WST-426</td><td>2022-09-02 00:00:00.000</td><td>1191,6</td><td>99,09</td><td>1092,51</td></tr>\n",
                            "<tr><td>WST-426</td><td>2022-09-20 00:00:00.000</td><td>1191,6</td><td>99,79</td><td>1091,81</td></tr>\n",
                            "<tr><td>WST-426</td><td>2022-09-28 00:00:00.000</td><td>1191,6</td><td>110,24</td><td>1081,36</td></tr>\n",
                            "<tr><td>WST-426</td><td>2022-10-05 00:00:00.000</td><td>1191,6</td><td>92,91</td><td>1098,69</td></tr>\n",
                            "<tr><td>WST-426</td><td>2022-10-24 00:00:00.000</td><td>1191,6</td><td>98,62</td><td>1092,98</td></tr>\n",
                            "<tr><td>WST-426</td><td>2022-11-01 00:00:00.000</td><td>1191,6</td><td>120,98</td><td>1070,62</td></tr>\n",
                            "<tr><td>WST-426</td><td>2022-11-08 00:00:00.000</td><td>1191,6</td><td>96,32</td><td>1095,28</td></tr>\n",
                            "<tr><td>WST-426</td><td>2022-11-16 00:00:00.000</td><td>1191,6</td><td>119,99</td><td>1071,61</td></tr>\n",
                            "<tr><td>WST-426</td><td>2022-11-24 00:00:00.000</td><td>1191,6</td><td>119,38</td><td>1072,22</td></tr>\n",
                            "<tr><td>WST-426</td><td>2022-11-30 00:00:00.000</td><td>1191,6</td><td>114,63</td><td>1076,97</td></tr>\n",
                            "<tr><td>WST-426</td><td>2023-02-06 00:00:00.000</td><td>1191,6</td><td>35,84</td><td>1155,76</td></tr>\n",
                            "<tr><td>WST-426</td><td>2023-02-15 00:00:00.000</td><td>1191,6</td><td>90,16</td><td>1101,44</td></tr>\n",
                            "<tr><td>WST-426</td><td>2023-02-24 00:00:00.000</td><td>1191,6</td><td>93,96</td><td>1097,64</td></tr>\n",
                            "<tr><td>WST-426</td><td>2023-02-27 00:00:00.000</td><td>1191,6</td><td>91,76</td><td>1099,84</td></tr>\n",
                            "<tr><td>WST-426</td><td>2023-03-06 00:00:00.000</td><td>1191,6</td><td>103,97</td><td>1087,63</td></tr>\n",
                            "<tr><td>WST-426</td><td>2023-03-23 00:00:00.000</td><td>1191,6</td><td>107,03</td><td>1084,57</td></tr>\n",
                            "<tr><td>WST-426</td><td>2023-03-31 00:00:00.000</td><td>1191,6</td><td>54,16</td><td>1137,44</td></tr>\n",
                            "<tr><td>WST-426</td><td>2023-04-12 00:00:00.000</td><td>1191,6</td><td>31,22</td><td>1160,38</td></tr>\n",
                            "<tr><td>WST-426</td><td>2023-04-27 00:00:00.000</td><td>1191,6</td><td>99,79</td><td>1091,81</td></tr>\n",
                            "<tr><td>WST-426</td><td>2023-05-03 00:00:00.000</td><td>1191,6</td><td>99,03</td><td>1092,57</td></tr>\n",
                            "<tr><td>WST-426</td><td>2023-05-09 00:00:00.000</td><td>1191,6</td><td>96,72</td><td>1094,88</td></tr>\n",
                            "<tr><td>WST-426</td><td>2023-05-23 00:00:00.000</td><td>1191,6</td><td>62,65</td><td>1128,95</td></tr>\n",
                            "<tr><td>WST-426</td><td>2023-06-02 00:00:00.000</td><td>1191,6</td><td>92,53</td><td>1099,07</td></tr>\n",
                            "<tr><td>WST-427</td><td>2018-05-18 00:00:00.000</td><td>1220,7</td><td>41,61</td><td>1179,09</td></tr>\n",
                            "<tr><td>WST-427</td><td>2018-06-22 00:00:00.000</td><td>1220,7</td><td>97,97</td><td>1122,73</td></tr>\n",
                            "<tr><td>WST-427</td><td>2018-07-30 00:00:00.000</td><td>1220,7</td><td>106,4</td><td>1114,3</td></tr>\n",
                            "<tr><td>WST-427</td><td>2018-08-30 00:00:00.000</td><td>1220,7</td><td>141,95</td><td>1078,75</td></tr>\n",
                            "<tr><td>WST-427</td><td>2018-09-26 00:00:00.000</td><td>1220,7</td><td>134,3</td><td>1086,4</td></tr>\n",
                            "<tr><td>WST-427</td><td>2019-01-30 00:00:00.000</td><td>1220,7</td><td>44,33</td><td>1176,37</td></tr>\n",
                            "<tr><td>WST-427</td><td>2019-05-31 00:00:00.000</td><td>1220,7</td><td>148,42</td><td>1072,28</td></tr>\n",
                            "<tr><td>WST-427</td><td>2019-06-26 00:00:00.000</td><td>1220,7</td><td>148</td><td>1072,7</td></tr>\n",
                            "<tr><td>WST-427</td><td>2019-09-18 00:00:00.000</td><td>1220,7</td><td>128,1</td><td>1092,6</td></tr>\n",
                            "<tr><td>WST-427</td><td>2019-10-18 00:00:00.000</td><td>1220,7</td><td>67,8</td><td>1152,9</td></tr>\n",
                            "<tr><td>WST-427</td><td>2020-02-05 00:00:00.000</td><td>1220,7</td><td>145,1</td><td>1075,6</td></tr>\n",
                            "<tr><td>WST-427</td><td>2020-02-08 00:00:00.000</td><td>1220,7</td><td>134,79</td><td>1085,91</td></tr>\n",
                            "<tr><td>WST-427</td><td>2020-02-10 00:00:00.000</td><td>1220,7</td><td>146,34</td><td>1074,36</td></tr>\n",
                            "<tr><td>WST-427</td><td>2020-02-12 00:00:00.000</td><td>1220,7</td><td>155,26</td><td>1065,44</td></tr>\n",
                            "<tr><td>WST-427</td><td>2020-03-01 00:00:00.000</td><td>1220,7</td><td>134,8</td><td>1085,9</td></tr>\n",
                            "<tr><td>WST-427</td><td>2020-03-07 00:00:00.000</td><td>1220,7</td><td>139,93</td><td>1080,77</td></tr>\n",
                            "<tr><td>WST-427</td><td>2020-03-14 00:00:00.000</td><td>1220,7</td><td>158,4</td><td>1062,3</td></tr>\n",
                            "<tr><td>WST-427</td><td>2020-03-16 00:00:00.000</td><td>1220,7</td><td>154,77</td><td>1065,93</td></tr>\n",
                            "<tr><td>WST-427</td><td>2020-03-22 00:00:00.000</td><td>1220,7</td><td>159,34</td><td>1061,36</td></tr>\n",
                            "<tr><td>WST-427</td><td>2020-03-25 00:00:00.000</td><td>1220,7</td><td>159,77</td><td>1060,93</td></tr>\n",
                            "<tr><td>WST-427</td><td>2020-03-26 00:00:00.000</td><td>1220,7</td><td>161,73</td><td>1058,97</td></tr>\n",
                            "<tr><td>WST-427</td><td>2020-04-01 00:00:00.000</td><td>1220,7</td><td>160,38</td><td>1060,32</td></tr>\n",
                            "<tr><td>WST-427</td><td>2020-04-04 00:00:00.000</td><td>1220,7</td><td>160,18</td><td>1060,52</td></tr>\n",
                            "<tr><td>WST-427</td><td>2020-04-06 00:00:00.000</td><td>1220,7</td><td>159,95</td><td>1060,75</td></tr>\n",
                            "<tr><td>WST-427</td><td>2020-04-08 00:00:00.000</td><td>1220,7</td><td>163,9</td><td>1056,8</td></tr>\n",
                            "<tr><td>WST-427</td><td>2020-04-11 00:00:00.000</td><td>1220,7</td><td>131,57</td><td>1089,13</td></tr>\n",
                            "<tr><td>WST-427</td><td>2020-04-18 00:00:00.000</td><td>1220,7</td><td>158,56</td><td>1062,14</td></tr>\n",
                            "<tr><td>WST-427</td><td>2020-04-22 00:00:00.000</td><td>1220,7</td><td>160,33</td><td>1060,37</td></tr>\n",
                            "<tr><td>WST-427</td><td>2020-04-29 00:00:00.000</td><td>1220,7</td><td>164,55</td><td>1056,15</td></tr>\n",
                            "<tr><td>WST-427</td><td>2020-05-04 00:00:00.000</td><td>1220,7</td><td>167</td><td>1053,7</td></tr>\n",
                            "<tr><td>WST-427</td><td>2020-05-06 00:00:00.000</td><td>1220,7</td><td>165,38</td><td>1055,32</td></tr>\n",
                            "<tr><td>WST-427</td><td>2020-05-10 00:00:00.000</td><td>1220,7</td><td>159,43</td><td>1061,27</td></tr>\n",
                            "<tr><td>WST-427</td><td>2020-05-13 00:00:00.000</td><td>1220,7</td><td>164,4</td><td>1056,3</td></tr>\n",
                            "<tr><td>WST-427</td><td>2020-05-16 00:00:00.000</td><td>1220,7</td><td>162,6</td><td>1058,1</td></tr>\n",
                            "<tr><td>WST-427</td><td>2020-05-20 00:00:00.000</td><td>1220,7</td><td>70,95</td><td>1149,75</td></tr>\n",
                            "<tr><td>WST-427</td><td>2020-06-01 00:00:00.000</td><td>1220,7</td><td>147,34</td><td>1073,36</td></tr>\n",
                            "<tr><td>WST-427</td><td>2020-06-06 00:00:00.000</td><td>1220,7</td><td>151,53</td><td>1069,17</td></tr>\n",
                            "<tr><td>WST-427</td><td>2020-06-08 00:00:00.000</td><td>1220,7</td><td>152,12</td><td>1068,58</td></tr>\n",
                            "<tr><td>WST-427</td><td>2020-06-10 00:00:00.000</td><td>1220,7</td><td>164,7</td><td>1056</td></tr>\n",
                            "<tr><td>WST-427</td><td>2020-06-15 00:00:00.000</td><td>1220,7</td><td>153,6</td><td>1067,1</td></tr>\n",
                            "<tr><td>WST-427</td><td>2020-06-18 00:00:00.000</td><td>1220,7</td><td>166,3</td><td>1054,4</td></tr>\n",
                            "<tr><td>WST-427</td><td>2020-07-01 00:00:00.000</td><td>1220,7</td><td>150,78</td><td>1069,92</td></tr>\n",
                            "<tr><td>WST-427</td><td>2020-07-04 00:00:00.000</td><td>1220,7</td><td>159,9</td><td>1060,8</td></tr>\n",
                            "<tr><td>WST-427</td><td>2020-07-15 00:00:00.000</td><td>1220,7</td><td>74,98</td><td>1145,72</td></tr>\n",
                            "<tr><td>WST-427</td><td>2020-07-19 00:00:00.000</td><td>1220,7</td><td>74,2</td><td>1146,5</td></tr>\n",
                            "<tr><td>WST-427</td><td>2020-07-26 00:00:00.000</td><td>1220,7</td><td>160,43</td><td>1060,27</td></tr>\n",
                            "<tr><td>WST-427</td><td>2020-07-27 00:00:00.000</td><td>1220,7</td><td>160,55</td><td>1060,15</td></tr>\n",
                            "<tr><td>WST-427</td><td>2020-08-01 00:00:00.000</td><td>1220,7</td><td>162,1</td><td>1058,6</td></tr>\n",
                            "<tr><td>WST-427</td><td>2020-08-03 00:00:00.000</td><td>1220,7</td><td>162,9</td><td>1057,8</td></tr>\n",
                            "<tr><td>WST-427</td><td>2020-08-05 00:00:00.000</td><td>1220,7</td><td>160,57</td><td>1060,13</td></tr>\n",
                            "<tr><td>WST-427</td><td>2020-08-09 00:00:00.000</td><td>1220,7</td><td>166,75</td><td>1053,95</td></tr>\n",
                            "<tr><td>WST-427</td><td>2020-08-12 00:00:00.000</td><td>1220,7</td><td>145,16</td><td>1075,54</td></tr>\n",
                            "<tr><td>WST-427</td><td>2020-08-15 00:00:00.000</td><td>1220,7</td><td>161,95</td><td>1058,75</td></tr>\n",
                            "<tr><td>WST-427</td><td>2020-08-17 00:00:00.000</td><td>1220,7</td><td>161,39</td><td>1059,31</td></tr>\n",
                            "<tr><td>WST-427</td><td>2020-08-23 00:00:00.000</td><td>1220,7</td><td>161,32</td><td>1059,38</td></tr>\n",
                            "<tr><td>WST-427</td><td>2021-11-15 00:00:00.000</td><td>1220,7</td><td>136,56</td><td>1084,14</td></tr>\n",
                            "<tr><td>WST-427</td><td>2021-11-18 00:00:00.000</td><td>1220,7</td><td>126,64</td><td>1094,06</td></tr>\n",
                            "<tr><td>WST-427</td><td>2021-11-23 00:00:00.000</td><td>1220,7</td><td>126,41</td><td>1094,29</td></tr>\n",
                            "<tr><td>WST-427</td><td>2021-12-04 00:00:00.000</td><td>1220,7</td><td>149,1</td><td>1071,6</td></tr>\n",
                            "<tr><td>WST-427</td><td>2021-12-07 00:00:00.000</td><td>1220,7</td><td>146,04</td><td>1074,66</td></tr>\n",
                            "<tr><td>WST-427</td><td>2021-12-11 00:00:00.000</td><td>1220,7</td><td>151,31</td><td>1069,39</td></tr>\n",
                            "<tr><td>WST-427</td><td>2021-12-14 00:00:00.000</td><td>1220,7</td><td>148,09</td><td>1072,61</td></tr>\n",
                            "<tr><td>WST-427</td><td>2022-01-04 00:00:00.000</td><td>1220,7</td><td>150,12</td><td>1070,58</td></tr>\n",
                            "<tr><td>WST-427</td><td>2022-02-03 00:00:00.000</td><td>1220,7</td><td>50,19</td><td>1170,51</td></tr>\n",
                            "<tr><td>WST-427</td><td>2022-02-11 00:00:00.000</td><td>1220,7</td><td>57,05</td><td>1163,65</td></tr>\n",
                            "<tr><td>WST-427</td><td>2022-02-17 00:00:00.000</td><td>1220,7</td><td>59,5</td><td>1161,2</td></tr>\n",
                            "<tr><td>WST-427</td><td>2022-02-25 00:00:00.000</td><td>1220,7</td><td>61,12</td><td>1159,58</td></tr>\n",
                            "<tr><td>WST-427</td><td>2022-03-04 00:00:00.000</td><td>1220,7</td><td>62,57</td><td>1158,13</td></tr>\n",
                            "<tr><td>WST-427</td><td>2022-03-07 00:00:00.000</td><td>1220,7</td><td>60,79</td><td>1159,91</td></tr>\n",
                            "<tr><td>WST-427</td><td>2022-03-17 00:00:00.000</td><td>1220,7</td><td>67,4</td><td>1153,3</td></tr>\n",
                            "<tr><td>WST-427</td><td>2022-03-29 00:00:00.000</td><td>1220,7</td><td>55,19</td><td>1165,51</td></tr>\n",
                            "<tr><td>WST-427</td><td>2022-04-05 00:00:00.000</td><td>1220,7</td><td>52,22</td><td>1168,48</td></tr>\n",
                            "<tr><td>WST-427</td><td>2022-04-15 00:00:00.000</td><td>1220,7</td><td>83,4</td><td>1137,3</td></tr>\n",
                            "<tr><td>WST-427</td><td>2022-04-19 00:00:00.000</td><td>1220,7</td><td>84,49</td><td>1136,21</td></tr>\n",
                            "<tr><td>WST-427</td><td>2022-04-27 00:00:00.000</td><td>1220,7</td><td>48,16</td><td>1172,54</td></tr>\n",
                            "<tr><td>WST-427</td><td>2022-05-05 00:00:00.000</td><td>1220,7</td><td>84,5</td><td>1136,2</td></tr>\n",
                            "<tr><td>WST-427</td><td>2022-05-13 00:00:00.000</td><td>1220,7</td><td>48,46</td><td>1172,24</td></tr>\n",
                            "<tr><td>WST-427</td><td>2022-06-17 00:00:00.000</td><td>1220,7</td><td>106,31</td><td>1114,39</td></tr>\n",
                            "<tr><td>WST-427</td><td>2022-06-22 00:00:00.000</td><td>1220,7</td><td>106,31</td><td>1114,39</td></tr>\n",
                            "<tr><td>WST-427</td><td>2022-07-01 00:00:00.000</td><td>1220,7</td><td>110,41</td><td>1110,29</td></tr>\n",
                            "<tr><td>WST-427</td><td>2022-07-05 00:00:00.000</td><td>1220,7</td><td>110,41</td><td>1110,29</td></tr>\n",
                            "<tr><td>WST-427</td><td>2022-07-14 00:00:00.000</td><td>1220,7</td><td>109,07</td><td>1111,63</td></tr>\n",
                            "<tr><td>WST-427</td><td>2022-08-03 00:00:00.000</td><td>1220,7</td><td>109,12</td><td>1111,58</td></tr>\n",
                            "<tr><td>WST-427</td><td>2022-08-08 00:00:00.000</td><td>1220,7</td><td>110,33</td><td>1110,37</td></tr>\n",
                            "<tr><td>WST-427</td><td>2022-08-16 00:00:00.000</td><td>1220,7</td><td>113,95</td><td>1106,75</td></tr>\n",
                            "<tr><td>WST-427</td><td>2022-08-23 00:00:00.000</td><td>1220,7</td><td>115,53</td><td>1105,17</td></tr>\n",
                            "<tr><td>WST-427</td><td>2022-09-02 00:00:00.000</td><td>1220,7</td><td>118,76</td><td>1101,94</td></tr>\n",
                            "<tr><td>WST-427</td><td>2022-09-09 00:00:00.000</td><td>1220,7</td><td>119,15</td><td>1101,55</td></tr>\n",
                            "<tr><td>WST-427</td><td>2022-09-14 00:00:00.000</td><td>1220,7</td><td>120,21</td><td>1100,49</td></tr>\n",
                            "<tr><td>WST-427</td><td>2022-09-20 00:00:00.000</td><td>1220,7</td><td>118,13</td><td>1102,57</td></tr>\n",
                            "<tr><td>WST-427</td><td>2022-10-01 00:00:00.000</td><td>1220,7</td><td>114,06</td><td>1106,64</td></tr>\n",
                            "<tr><td>WST-427</td><td>2022-10-14 00:00:00.000</td><td>1220,7</td><td>101,54</td><td>1119,16</td></tr>\n",
                            "<tr><td>WST-427</td><td>2022-10-19 00:00:00.000</td><td>1220,7</td><td>103,3</td><td>1117,4</td></tr>\n",
                            "<tr><td>WST-427</td><td>2022-10-24 00:00:00.000</td><td>1220,7</td><td>105</td><td>1115,7</td></tr>\n",
                            "<tr><td>WST-427</td><td>2022-11-01 00:00:00.000</td><td>1220,7</td><td>99,93</td><td>1120,77</td></tr>\n",
                            "<tr><td>WST-427</td><td>2022-11-08 00:00:00.000</td><td>1220,7</td><td>102,67</td><td>1118,03</td></tr>\n",
                            "<tr><td>WST-427</td><td>2022-11-16 00:00:00.000</td><td>1220,7</td><td>104,85</td><td>1115,85</td></tr>\n",
                            "<tr><td>WST-427</td><td>2022-11-24 00:00:00.000</td><td>1220,7</td><td>107,25</td><td>1113,45</td></tr>\n",
                            "<tr><td>WST-427</td><td>2022-12-02 00:00:00.000</td><td>1220,7</td><td>107,31</td><td>1113,39</td></tr>\n",
                            "<tr><td>WST-427</td><td>2022-12-07 00:00:00.000</td><td>1220,7</td><td>109,85</td><td>1110,85</td></tr>\n",
                            "<tr><td>WST-427</td><td>2022-12-14 00:00:00.000</td><td>1220,7</td><td>109,85</td><td>1110,85</td></tr>\n",
                            "<tr><td>WST-427</td><td>2022-12-21 00:00:00.000</td><td>1220,7</td><td>42,9</td><td>1177,8</td></tr>\n",
                            "<tr><td>WST-427</td><td>2022-12-26 00:00:00.000</td><td>1220,7</td><td>111,77</td><td>1108,93</td></tr>\n",
                            "<tr><td>WST-427</td><td>2023-01-03 00:00:00.000</td><td>1220,7</td><td>108,87</td><td>1111,83</td></tr>\n",
                            "<tr><td>WST-427</td><td>2023-01-11 00:00:00.000</td><td>1220,7</td><td>108,75</td><td>1111,95</td></tr>\n",
                            "<tr><td>WST-427</td><td>2023-01-20 00:00:00.000</td><td>1220,7</td><td>108,7</td><td>1112</td></tr>\n",
                            "<tr><td>WST-427</td><td>2023-02-03 00:00:00.000</td><td>1220,7</td><td>108,26</td><td>1112,44</td></tr>\n",
                            "<tr><td>WST-427</td><td>2023-02-06 00:00:00.000</td><td>1220,7</td><td>108,45</td><td>1112,25</td></tr>\n",
                            "<tr><td>WST-427</td><td>2023-02-15 00:00:00.000</td><td>1220,7</td><td>108,97</td><td>1111,73</td></tr>\n",
                            "<tr><td>WST-427</td><td>2023-02-24 00:00:00.000</td><td>1220,7</td><td>55,84</td><td>1164,86</td></tr>\n",
                            "<tr><td>WST-427</td><td>2023-03-07 00:00:00.000</td><td>1220,7</td><td>109,85</td><td>1110,85</td></tr>\n",
                            "<tr><td>WST-427</td><td>2023-03-17 00:00:00.000</td><td>1220,7</td><td>104,26</td><td>1116,44</td></tr>\n",
                            "<tr><td>WST-427</td><td>2023-03-23 00:00:00.000</td><td>1220,7</td><td>103,87</td><td>1116,83</td></tr>\n",
                            "<tr><td>WST-427</td><td>2023-03-31 00:00:00.000</td><td>1220,7</td><td>103,32</td><td>1117,38</td></tr>\n",
                            "<tr><td>WST-427</td><td>2023-04-05 00:00:00.000</td><td>1220,7</td><td>58,1</td><td>1162,6</td></tr>\n",
                            "<tr><td>WST-427</td><td>2023-04-12 00:00:00.000</td><td>1220,7</td><td>60,23</td><td>1160,47</td></tr>\n",
                            "<tr><td>WST-427</td><td>2023-04-28 00:00:00.000</td><td>1220,7</td><td>103,36</td><td>1117,34</td></tr>\n",
                            "<tr><td>WST-427</td><td>2023-05-03 00:00:00.000</td><td>1220,7</td><td>103,36</td><td>1117,34</td></tr>\n",
                            "<tr><td>WST-427</td><td>2023-05-09 00:00:00.000</td><td>1220,7</td><td>102,57</td><td>1118,13</td></tr>\n",
                            "<tr><td>WST-427</td><td>2023-05-18 00:00:00.000</td><td>1220,7</td><td>66,01</td><td>1154,69</td></tr>\n",
                            "<tr><td>WST-427</td><td>2023-05-23 00:00:00.000</td><td>1220,7</td><td>102,57</td><td>1118,13</td></tr>\n",
                            "<tr><td>WST-427</td><td>2023-05-29 00:00:00.000</td><td>1220,7</td><td>102,86</td><td>1117,84</td></tr>\n",
                            "<tr><td>WST-428</td><td>2020-06-18 00:00:00.000</td><td>1171,7</td><td>61,72</td><td>1109,98</td></tr>\n",
                            "<tr><td>WST-428</td><td>2020-06-27 00:00:00.000</td><td>1171,7</td><td>166,3</td><td>1005,4</td></tr>\n",
                            "<tr><td>WST-428</td><td>2020-07-01 00:00:00.000</td><td>1171,7</td><td>59,3</td><td>1112,4</td></tr>\n",
                            "<tr><td>WST-428</td><td>2020-07-26 00:00:00.000</td><td>1171,7</td><td>50,1</td><td>1121,6</td></tr>\n",
                            "<tr><td>WST-428</td><td>2020-07-27 00:00:00.000</td><td>1171,7</td><td>42,59</td><td>1129,11</td></tr>\n",
                            "<tr><td>WST-428</td><td>2020-08-01 00:00:00.000</td><td>1171,7</td><td>46,55</td><td>1125,15</td></tr>\n",
                            "<tr><td>WST-428</td><td>2020-08-03 00:00:00.000</td><td>1171,7</td><td>44,65</td><td>1127,05</td></tr>\n",
                            "<tr><td>WST-428</td><td>2020-08-05 00:00:00.000</td><td>1171,7</td><td>48,63</td><td>1123,07</td></tr>\n",
                            "<tr><td>WST-428</td><td>2020-08-09 00:00:00.000</td><td>1171,7</td><td>48,16</td><td>1123,54</td></tr>\n",
                            "<tr><td>WST-428</td><td>2020-08-10 00:00:00.000</td><td>1171,7</td><td>49,11</td><td>1122,59</td></tr>\n",
                            "<tr><td>WST-428</td><td>2020-08-12 00:00:00.000</td><td>1171,7</td><td>39,4</td><td>1132,3</td></tr>\n",
                            "<tr><td>WST-428</td><td>2020-08-15 00:00:00.000</td><td>1171,7</td><td>46,17</td><td>1125,53</td></tr>\n",
                            "<tr><td>WST-428</td><td>2020-08-17 00:00:00.000</td><td>1171,7</td><td>47,53</td><td>1124,17</td></tr>\n",
                            "<tr><td>WST-428</td><td>2020-08-23 00:00:00.000</td><td>1171,7</td><td>63,85</td><td>1107,85</td></tr>\n",
                            "<tr><td>WST-428</td><td>2021-02-25 00:00:00.000</td><td>1171,7</td><td>10,32</td><td>1161,38</td></tr>\n",
                            "<tr><td>WST-428</td><td>2021-03-08 00:00:00.000</td><td>1171,7</td><td>8,96</td><td>1162,74</td></tr>\n",
                            "<tr><td>WST-428</td><td>2021-12-25 00:00:00.000</td><td>1171,7</td><td>10,22</td><td>1161,48</td></tr>\n",
                            "<tr><td>WST-428</td><td>2022-03-05 00:00:00.000</td><td>1171,7</td><td>8,96</td><td>1162,74</td></tr>\n",
                            "<tr><td>WST-428</td><td>2022-06-30 00:00:00.000</td><td>1171,7</td><td>62,54</td><td>1109,16</td></tr>\n",
                            "<tr><td>WST-428</td><td>2022-07-05 00:00:00.000</td><td>1171,7</td><td>60,32</td><td>1111,38</td></tr>\n",
                            "<tr><td>WST-428</td><td>2022-07-14 00:00:00.000</td><td>1171,7</td><td>56,91</td><td>1114,79</td></tr>\n",
                            "<tr><td>WST-428</td><td>2022-07-19 00:00:00.000</td><td>1171,7</td><td>58,69</td><td>1113,01</td></tr>\n",
                            "<tr><td>WST-428</td><td>2022-07-25 00:00:00.000</td><td>1171,7</td><td>70,82</td><td>1100,88</td></tr>\n",
                            "<tr><td>WST-428</td><td>2022-08-03 00:00:00.000</td><td>1171,7</td><td>66,87</td><td>1104,83</td></tr>\n",
                            "<tr><td>WST-428</td><td>2022-08-08 00:00:00.000</td><td>1171,7</td><td>58,45</td><td>1113,25</td></tr>\n",
                            "<tr><td>WST-428</td><td>2022-08-16 00:00:00.000</td><td>1171,7</td><td>76,99</td><td>1094,71</td></tr>\n",
                            "<tr><td>WST-428</td><td>2022-08-23 00:00:00.000</td><td>1171,7</td><td>86,38</td><td>1085,32</td></tr>\n",
                            "<tr><td>WST-428</td><td>2022-09-02 00:00:00.000</td><td>1171,7</td><td>86,38</td><td>1085,32</td></tr>\n",
                            "<tr><td>WST-428</td><td>2022-09-09 00:00:00.000</td><td>1171,7</td><td>73,49</td><td>1098,21</td></tr>\n",
                            "<tr><td>WST-428</td><td>2022-09-14 00:00:00.000</td><td>1171,7</td><td>82,71</td><td>1088,99</td></tr>\n",
                            "<tr><td>WST-428</td><td>2022-09-20 00:00:00.000</td><td>1171,7</td><td>47,35</td><td>1124,35</td></tr>\n",
                            "<tr><td>WST-428</td><td>2022-09-26 00:00:00.000</td><td>1171,7</td><td>38,8</td><td>1132,9</td></tr>\n",
                            "<tr><td>WST-428</td><td>2022-10-14 00:00:00.000</td><td>1171,7</td><td>94,32</td><td>1077,38</td></tr>\n",
                            "<tr><td>WST-428</td><td>2022-10-19 00:00:00.000</td><td>1171,7</td><td>87,45</td><td>1084,25</td></tr>\n",
                            "<tr><td>WST-428</td><td>2022-10-24 00:00:00.000</td><td>1171,7</td><td>94,9</td><td>1076,8</td></tr>\n",
                            "<tr><td>WST-428</td><td>2022-11-08 00:00:00.000</td><td>1171,7</td><td>33,07</td><td>1138,63</td></tr>\n",
                            "<tr><td>WST-428</td><td>2022-11-17 00:00:00.000</td><td>1171,7</td><td>32,56</td><td>1139,14</td></tr>\n",
                            "<tr><td>WST-428</td><td>2022-11-24 00:00:00.000</td><td>1171,7</td><td>31,56</td><td>1140,14</td></tr>\n",
                            "<tr><td>WST-428</td><td>2022-12-02 00:00:00.000</td><td>1171,7</td><td>32,13</td><td>1139,57</td></tr>\n",
                            "<tr><td>WST-428</td><td>2022-12-07 00:00:00.000</td><td>1171,7</td><td>33,76</td><td>1137,94</td></tr>\n",
                            "<tr><td>WST-428</td><td>2022-12-14 00:00:00.000</td><td>1171,7</td><td>29,97</td><td>1141,73</td></tr>\n",
                            "<tr><td>WST-428</td><td>2022-12-21 00:00:00.000</td><td>1171,7</td><td>29,9</td><td>1141,8</td></tr>\n",
                            "<tr><td>WST-428</td><td>2022-12-28 00:00:00.000</td><td>1171,7</td><td>29,3</td><td>1142,4</td></tr>\n",
                            "<tr><td>WST-429</td><td>2022-08-08 00:00:00.000</td><td>NULL</td><td>50,48</td><td>NULL</td></tr>\n",
                            "<tr><td>WST-429</td><td>2022-08-16 00:00:00.000</td><td>NULL</td><td>64,54</td><td>NULL</td></tr>\n",
                            "<tr><td>WST-429</td><td>2022-08-23 00:00:00.000</td><td>NULL</td><td>68,25</td><td>NULL</td></tr>\n",
                            "<tr><td>WST-429</td><td>2022-09-02 00:00:00.000</td><td>NULL</td><td>69,32</td><td>NULL</td></tr>\n",
                            "<tr><td>WST-429</td><td>2022-09-09 00:00:00.000</td><td>NULL</td><td>31,68</td><td>NULL</td></tr>\n",
                            "<tr><td>WST-429</td><td>2022-09-14 00:00:00.000</td><td>NULL</td><td>71,47</td><td>NULL</td></tr>\n",
                            "<tr><td>WST-429</td><td>2022-09-20 00:00:00.000</td><td>NULL</td><td>60,11</td><td>NULL</td></tr>\n",
                            "<tr><td>WST-429</td><td>2022-09-26 00:00:00.000</td><td>NULL</td><td>60,11</td><td>NULL</td></tr>\n",
                            "<tr><td>WST-429</td><td>2022-10-05 00:00:00.000</td><td>NULL</td><td>45,47</td><td>NULL</td></tr>\n",
                            "<tr><td>WST-429</td><td>2022-10-14 00:00:00.000</td><td>NULL</td><td>66,82</td><td>NULL</td></tr>\n",
                            "<tr><td>WST-429</td><td>2022-10-19 00:00:00.000</td><td>NULL</td><td>33,58</td><td>NULL</td></tr>\n",
                            "<tr><td>WST-429</td><td>2022-10-24 00:00:00.000</td><td>NULL</td><td>68,72</td><td>NULL</td></tr>\n",
                            "<tr><td>WST-429</td><td>2022-11-01 00:00:00.000</td><td>NULL</td><td>41,44</td><td>NULL</td></tr>\n",
                            "<tr><td>WST-429</td><td>2022-11-08 00:00:00.000</td><td>NULL</td><td>54,54</td><td>NULL</td></tr>\n",
                            "<tr><td>WST-429</td><td>2022-11-17 00:00:00.000</td><td>NULL</td><td>48,44</td><td>NULL</td></tr>\n",
                            "<tr><td>WST-429</td><td>2022-11-24 00:00:00.000</td><td>NULL</td><td>52,4</td><td>NULL</td></tr>\n",
                            "<tr><td>WST-429</td><td>2022-12-02 00:00:00.000</td><td>NULL</td><td>52,4</td><td>NULL</td></tr>\n",
                            "<tr><td>WST-429</td><td>2022-12-07 00:00:00.000</td><td>NULL</td><td>56,84</td><td>NULL</td></tr>\n",
                            "<tr><td>WST-429</td><td>2022-12-14 00:00:00.000</td><td>NULL</td><td>50,17</td><td>NULL</td></tr>\n",
                            "<tr><td>WST-429</td><td>2022-12-21 00:00:00.000</td><td>NULL</td><td>48,7</td><td>NULL</td></tr>\n",
                            "<tr><td>WST-429</td><td>2022-12-28 00:00:00.000</td><td>NULL</td><td>48,52</td><td>NULL</td></tr>\n",
                            "<tr><td>WST-588</td><td>2020-10-28 00:00:00.000</td><td>NULL</td><td>100,24</td><td>NULL</td></tr>\n",
                            "<tr><td>WST-588</td><td>2020-11-25 00:00:00.000</td><td>NULL</td><td>99,84</td><td>NULL</td></tr>\n",
                            "<tr><td>WST-588</td><td>2020-12-24 00:00:00.000</td><td>NULL</td><td>99,5</td><td>NULL</td></tr>\n",
                            "<tr><td>WST-588</td><td>2021-01-22 00:00:00.000</td><td>NULL</td><td>99,23</td><td>NULL</td></tr>\n",
                            "<tr><td>WST-588</td><td>2021-02-10 00:00:00.000</td><td>NULL</td><td>150,7</td><td>NULL</td></tr>\n",
                            "<tr><td>WST-588</td><td>2021-06-17 00:00:00.000</td><td>NULL</td><td>98,48</td><td>NULL</td></tr>\n",
                            "<tr><td>WST-588</td><td>2021-07-13 00:00:00.000</td><td>NULL</td><td>98,69</td><td>NULL</td></tr>\n",
                            "<tr><td>WST-588</td><td>2021-08-13 00:00:00.000</td><td>NULL</td><td>98,17</td><td>NULL</td></tr>\n",
                            "<tr><td>WST-588</td><td>2021-09-09 00:00:00.000</td><td>NULL</td><td>98,36</td><td>NULL</td></tr>\n",
                            "<tr><td>WST-588</td><td>2021-10-14 00:00:00.000</td><td>NULL</td><td>200,91</td><td>NULL</td></tr>\n",
                            "<tr><td>WST-588</td><td>2021-11-10 00:00:00.000</td><td>NULL</td><td>201,27</td><td>NULL</td></tr>\n",
                            "<tr><td>WST-588</td><td>2021-11-17 00:00:00.000</td><td>NULL</td><td>163</td><td>NULL</td></tr>\n",
                            "<tr><td>WST-588</td><td>2021-11-25 00:00:00.000</td><td>NULL</td><td>101,02</td><td>NULL</td></tr>\n",
                            "<tr><td>WST-588</td><td>2021-12-10 00:00:00.000</td><td>NULL</td><td>94,68</td><td>NULL</td></tr>\n",
                            "<tr><td>WST-588</td><td>2022-01-13 00:00:00.000</td><td>NULL</td><td>NULL</td><td>NULL</td></tr>\n",
                            "<tr><td>WST-588</td><td>2022-01-28 00:00:00.000</td><td>NULL</td><td>159,66</td><td>NULL</td></tr>\n",
                            "<tr><td>WST-588</td><td>2022-02-01 00:00:00.000</td><td>NULL</td><td>98,54</td><td>NULL</td></tr>\n",
                            "<tr><td>WST-588</td><td>2022-02-11 00:00:00.000</td><td>NULL</td><td>98,03</td><td>NULL</td></tr>\n",
                            "<tr><td>WST-588</td><td>2022-02-16 00:00:00.000</td><td>NULL</td><td>98,97</td><td>NULL</td></tr>\n",
                            "<tr><td>WST-588</td><td>2022-03-03 00:00:00.000</td><td>NULL</td><td>160,52</td><td>NULL</td></tr>\n",
                            "<tr><td>WST-588</td><td>2022-03-08 00:00:00.000</td><td>NULL</td><td>201,15</td><td>NULL</td></tr>\n",
                            "<tr><td>WST-588</td><td>2022-03-16 00:00:00.000</td><td>NULL</td><td>201,17</td><td>NULL</td></tr>\n",
                            "<tr><td>WST-588</td><td>2022-03-31 00:00:00.000</td><td>NULL</td><td>201,4</td><td>NULL</td></tr>\n",
                            "<tr><td>WST-588</td><td>2022-04-06 00:00:00.000</td><td>NULL</td><td>159,58</td><td>NULL</td></tr>\n",
                            "<tr><td>WST-588</td><td>2022-04-12 00:00:00.000</td><td>NULL</td><td>95,83</td><td>NULL</td></tr>\n",
                            "<tr><td>WST-588</td><td>2022-04-20 00:00:00.000</td><td>NULL</td><td>98,93</td><td>NULL</td></tr>\n",
                            "<tr><td>WST-588</td><td>2022-04-28 00:00:00.000</td><td>NULL</td><td>201,25</td><td>NULL</td></tr>\n",
                            "<tr><td>WST-588</td><td>2022-05-03 00:00:00.000</td><td>NULL</td><td>97,9</td><td>NULL</td></tr>\n",
                            "<tr><td>WST-588</td><td>2022-05-11 00:00:00.000</td><td>NULL</td><td>94,94</td><td>NULL</td></tr>\n",
                            "<tr><td>WST-588</td><td>2022-05-18 00:00:00.000</td><td>NULL</td><td>92,57</td><td>NULL</td></tr>\n",
                            "<tr><td>WST-588</td><td>2022-05-26 00:00:00.000</td><td>NULL</td><td>155,46</td><td>NULL</td></tr>\n",
                            "<tr><td>WST-588</td><td>2022-06-02 00:00:00.000</td><td>NULL</td><td>157,42</td><td>NULL</td></tr>\n",
                            "<tr><td>WST-588</td><td>2022-06-08 00:00:00.000</td><td>NULL</td><td>151,96</td><td>NULL</td></tr>\n",
                            "<tr><td>WST-588</td><td>2022-06-21 00:00:00.000</td><td>NULL</td><td>158,95</td><td>NULL</td></tr>\n",
                            "<tr><td>WST-588</td><td>2022-07-06 00:00:00.000</td><td>NULL</td><td>159,82</td><td>NULL</td></tr>\n",
                            "<tr><td>WST-588</td><td>2022-07-15 00:00:00.000</td><td>NULL</td><td>158,37</td><td>NULL</td></tr>\n",
                            "<tr><td>WST-588</td><td>2022-07-27 00:00:00.000</td><td>NULL</td><td>157,98</td><td>NULL</td></tr>\n",
                            "<tr><td>WST-588</td><td>2022-08-03 00:00:00.000</td><td>NULL</td><td>175,98</td><td>NULL</td></tr>\n",
                            "<tr><td>WST-588</td><td>2022-08-10 00:00:00.000</td><td>NULL</td><td>95,92</td><td>NULL</td></tr>\n",
                            "<tr><td>WST-588</td><td>2022-08-17 00:00:00.000</td><td>NULL</td><td>NULL</td><td>NULL</td></tr>\n",
                            "<tr><td>WST-588</td><td>2022-08-24 00:00:00.000</td><td>NULL</td><td>NULL</td><td>NULL</td></tr>\n",
                            "<tr><td>WST-588</td><td>2022-08-30 00:00:00.000</td><td>NULL</td><td>154,09</td><td>NULL</td></tr>\n",
                            "<tr><td>WST-588</td><td>2022-09-08 00:00:00.000</td><td>NULL</td><td>142,95</td><td>NULL</td></tr>\n",
                            "<tr><td>WST-588</td><td>2022-09-13 00:00:00.000</td><td>NULL</td><td>140,37</td><td>NULL</td></tr>\n",
                            "<tr><td>WST-588</td><td>2022-09-21 00:00:00.000</td><td>NULL</td><td>139,87</td><td>NULL</td></tr>\n",
                            "<tr><td>WST-588</td><td>2022-09-29 00:00:00.000</td><td>NULL</td><td>97,73</td><td>NULL</td></tr>\n",
                            "<tr><td>WST-588</td><td>2022-10-04 00:00:00.000</td><td>NULL</td><td>136,68</td><td>NULL</td></tr>\n",
                            "<tr><td>WST-588</td><td>2022-10-14 00:00:00.000</td><td>NULL</td><td>132,37</td><td>NULL</td></tr>\n",
                            "<tr><td>WST-588</td><td>2022-10-20 00:00:00.000</td><td>NULL</td><td>98,4</td><td>NULL</td></tr>\n",
                            "<tr><td>WST-588</td><td>2022-10-26 00:00:00.000</td><td>NULL</td><td>135,77</td><td>NULL</td></tr>\n",
                            "<tr><td>WST-588</td><td>2022-11-03 00:00:00.000</td><td>NULL</td><td>97,4</td><td>NULL</td></tr>\n",
                            "<tr><td>WST-588</td><td>2022-11-11 00:00:00.000</td><td>NULL</td><td>129,68</td><td>NULL</td></tr>\n",
                            "<tr><td>WST-588</td><td>2022-11-18 00:00:00.000</td><td>NULL</td><td>132,79</td><td>NULL</td></tr>\n",
                            "<tr><td>WST-588</td><td>2022-11-23 00:00:00.000</td><td>NULL</td><td>132,48</td><td>NULL</td></tr>\n",
                            "<tr><td>WST-588</td><td>2022-11-30 00:00:00.000</td><td>NULL</td><td>121,5</td><td>NULL</td></tr>\n",
                            "<tr><td>WST-588</td><td>2022-12-07 00:00:00.000</td><td>NULL</td><td>96,63</td><td>NULL</td></tr>\n",
                            "<tr><td>WST-588</td><td>2022-12-14 00:00:00.000</td><td>NULL</td><td>125,89</td><td>NULL</td></tr>\n",
                            "<tr><td>WST-588</td><td>2022-12-20 00:00:00.000</td><td>NULL</td><td>97,22</td><td>NULL</td></tr>\n",
                            "<tr><td>WST-588</td><td>2022-12-28 00:00:00.000</td><td>NULL</td><td>95,9</td><td>NULL</td></tr>\n",
                            "<tr><td>WST-588</td><td>2023-01-04 00:00:00.000</td><td>NULL</td><td>96,16</td><td>NULL</td></tr>\n",
                            "<tr><td>WST-588</td><td>2023-01-12 00:00:00.000</td><td>NULL</td><td>96,9</td><td>NULL</td></tr>\n",
                            "<tr><td>WST-588</td><td>2023-01-19 00:00:00.000</td><td>NULL</td><td>135,73</td><td>NULL</td></tr>\n",
                            "<tr><td>WST-588</td><td>2023-01-25 00:00:00.000</td><td>NULL</td><td>96,03</td><td>NULL</td></tr>\n",
                            "<tr><td>WST-588</td><td>2023-02-01 00:00:00.000</td><td>NULL</td><td>96,67</td><td>NULL</td></tr>\n",
                            "<tr><td>WST-588</td><td>2023-02-16 00:00:00.000</td><td>NULL</td><td>97,33</td><td>NULL</td></tr>\n",
                            "<tr><td>WST-588</td><td>2023-02-23 00:00:00.000</td><td>NULL</td><td>96,85</td><td>NULL</td></tr>\n",
                            "<tr><td>WST-588</td><td>2023-03-02 00:00:00.000</td><td>NULL</td><td>95,4</td><td>NULL</td></tr>\n",
                            "<tr><td>WST-588</td><td>2023-03-06 00:00:00.000</td><td>NULL</td><td>111,84</td><td>NULL</td></tr>\n",
                            "<tr><td>WST-588</td><td>2023-03-17 00:00:00.000</td><td>NULL</td><td>101,47</td><td>NULL</td></tr>\n",
                            "<tr><td>WST-588</td><td>2023-03-22 00:00:00.000</td><td>NULL</td><td>94,38</td><td>NULL</td></tr>\n",
                            "<tr><td>WST-589</td><td>2022-03-31 00:00:00.000</td><td>NULL</td><td>59,98</td><td>NULL</td></tr>\n",
                            "<tr><td>WST-589</td><td>2022-04-06 00:00:00.000</td><td>NULL</td><td>56,89</td><td>NULL</td></tr>\n",
                            "<tr><td>WST-589</td><td>2022-04-12 00:00:00.000</td><td>NULL</td><td>56</td><td>NULL</td></tr>\n",
                            "<tr><td>WST-589</td><td>2022-04-20 00:00:00.000</td><td>NULL</td><td>55,5</td><td>NULL</td></tr>\n",
                            "<tr><td>WST-589</td><td>2022-04-28 00:00:00.000</td><td>NULL</td><td>55,33</td><td>NULL</td></tr>\n",
                            "<tr><td>WST-589</td><td>2022-05-03 00:00:00.000</td><td>NULL</td><td>55,26</td><td>NULL</td></tr>\n",
                            "<tr><td>WST-589</td><td>2022-05-11 00:00:00.000</td><td>NULL</td><td>55,24</td><td>NULL</td></tr>\n",
                            "<tr><td>WST-589</td><td>2022-05-18 00:00:00.000</td><td>NULL</td><td>55,18</td><td>NULL</td></tr>\n",
                            "<tr><td>WST-589</td><td>2022-05-26 00:00:00.000</td><td>NULL</td><td>55,22</td><td>NULL</td></tr>\n",
                            "<tr><td>WST-589</td><td>2022-06-02 00:00:00.000</td><td>NULL</td><td>55,19</td><td>NULL</td></tr>\n",
                            "<tr><td>WST-589</td><td>2022-06-08 00:00:00.000</td><td>NULL</td><td>55,2</td><td>NULL</td></tr>\n",
                            "<tr><td>WST-589</td><td>2022-06-21 00:00:00.000</td><td>NULL</td><td>55,2</td><td>NULL</td></tr>\n",
                            "<tr><td>WST-589</td><td>2022-07-06 00:00:00.000</td><td>NULL</td><td>55,15</td><td>NULL</td></tr>\n",
                            "<tr><td>WST-589</td><td>2022-07-15 00:00:00.000</td><td>NULL</td><td>55,17</td><td>NULL</td></tr>\n",
                            "<tr><td>WST-589</td><td>2022-07-27 00:00:00.000</td><td>NULL</td><td>55,1</td><td>NULL</td></tr>\n",
                            "<tr><td>WST-589</td><td>2022-08-03 00:00:00.000</td><td>NULL</td><td>59,09</td><td>NULL</td></tr>\n",
                            "<tr><td>WST-589</td><td>2022-08-10 00:00:00.000</td><td>NULL</td><td>54,79</td><td>NULL</td></tr>\n",
                            "<tr><td>WST-589</td><td>2022-08-17 00:00:00.000</td><td>NULL</td><td>68,37</td><td>NULL</td></tr>\n",
                            "<tr><td>WST-589</td><td>2022-08-24 00:00:00.000</td><td>NULL</td><td>102,27</td><td>NULL</td></tr>\n",
                            "<tr><td>WST-589</td><td>2022-08-30 00:00:00.000</td><td>NULL</td><td>65,31</td><td>NULL</td></tr>\n",
                            "<tr><td>WST-589</td><td>2022-09-08 00:00:00.000</td><td>NULL</td><td>64,45</td><td>NULL</td></tr>\n",
                            "<tr><td>WST-589</td><td>2022-09-13 00:00:00.000</td><td>NULL</td><td>64,56</td><td>NULL</td></tr>\n",
                            "<tr><td>WST-589</td><td>2022-09-21 00:00:00.000</td><td>NULL</td><td>63,31</td><td>NULL</td></tr>\n",
                            "<tr><td>WST-589</td><td>2022-09-29 00:00:00.000</td><td>NULL</td><td>NULL</td><td>NULL</td></tr>\n",
                            "<tr><td>WST-589</td><td>2022-10-04 00:00:00.000</td><td>NULL</td><td>59,61</td><td>NULL</td></tr>\n",
                            "<tr><td>WST-589</td><td>2022-10-14 00:00:00.000</td><td>NULL</td><td>NULL</td><td>NULL</td></tr>\n",
                            "<tr><td>WST-589</td><td>2022-10-20 00:00:00.000</td><td>NULL</td><td>63,89</td><td>NULL</td></tr>\n",
                            "<tr><td>WST-589</td><td>2022-10-26 00:00:00.000</td><td>NULL</td><td>59,61</td><td>NULL</td></tr>\n",
                            "<tr><td>WST-589</td><td>2022-11-03 00:00:00.000</td><td>NULL</td><td>59,27</td><td>NULL</td></tr>\n",
                            "<tr><td>WST-589</td><td>2022-11-11 00:00:00.000</td><td>NULL</td><td>61,31</td><td>NULL</td></tr>\n",
                            "<tr><td>WST-589</td><td>2022-11-18 00:00:00.000</td><td>NULL</td><td>60,87</td><td>NULL</td></tr>\n",
                            "<tr><td>WST-589</td><td>2022-11-23 00:00:00.000</td><td>NULL</td><td>63,28</td><td>NULL</td></tr>\n",
                            "<tr><td>WST-589</td><td>2022-11-30 00:00:00.000</td><td>NULL</td><td>59,85</td><td>NULL</td></tr>\n",
                            "<tr><td>WST-589</td><td>2022-12-07 00:00:00.000</td><td>NULL</td><td>58,46</td><td>NULL</td></tr>\n",
                            "<tr><td>WST-589</td><td>2022-12-14 00:00:00.000</td><td>NULL</td><td>59,4</td><td>NULL</td></tr>\n",
                            "<tr><td>WST-589</td><td>2022-12-20 00:00:00.000</td><td>NULL</td><td>59,22</td><td>NULL</td></tr>\n",
                            "<tr><td>WST-589</td><td>2022-12-28 00:00:00.000</td><td>NULL</td><td>58,8</td><td>NULL</td></tr>\n",
                            "<tr><td>WST-589</td><td>2023-01-04 00:00:00.000</td><td>NULL</td><td>58,97</td><td>NULL</td></tr>\n",
                            "<tr><td>WST-589</td><td>2023-01-12 00:00:00.000</td><td>NULL</td><td>58,86</td><td>NULL</td></tr>\n",
                            "<tr><td>WST-589</td><td>2023-01-19 00:00:00.000</td><td>NULL</td><td>58,47</td><td>NULL</td></tr>\n",
                            "<tr><td>WST-589</td><td>2023-01-25 00:00:00.000</td><td>NULL</td><td>58,47</td><td>NULL</td></tr>\n",
                            "<tr><td>WST-589</td><td>2023-02-01 00:00:00.000</td><td>NULL</td><td>62,33</td><td>NULL</td></tr>\n",
                            "<tr><td>WST-589</td><td>2023-02-16 00:00:00.000</td><td>NULL</td><td>57,53</td><td>NULL</td></tr>\n",
                            "<tr><td>WST-589</td><td>2023-02-23 00:00:00.000</td><td>NULL</td><td>95,71</td><td>NULL</td></tr>\n",
                            "<tr><td>WST-589</td><td>2023-03-02 00:00:00.000</td><td>NULL</td><td>95,71</td><td>NULL</td></tr>\n",
                            "<tr><td>WST-589</td><td>2023-03-06 00:00:00.000</td><td>NULL</td><td>98,94</td><td>NULL</td></tr>\n",
                            "<tr><td>WST-589</td><td>2023-03-17 00:00:00.000</td><td>NULL</td><td>97,63</td><td>NULL</td></tr>\n",
                            "<tr><td>WST-589</td><td>2023-03-22 00:00:00.000</td><td>NULL</td><td>61,07</td><td>NULL</td></tr>\n",
                            "<tr><td>WST-590</td><td>2022-09-13 00:00:00.000</td><td>NULL</td><td>67,64</td><td>NULL</td></tr>\n",
                            "<tr><td>WST-590</td><td>2022-09-21 00:00:00.000</td><td>NULL</td><td>67,79</td><td>NULL</td></tr>\n",
                            "<tr><td>WST-590</td><td>2022-09-29 00:00:00.000</td><td>NULL</td><td>67,74</td><td>NULL</td></tr>\n",
                            "<tr><td>WST-590</td><td>2022-10-04 00:00:00.000</td><td>NULL</td><td>67,6</td><td>NULL</td></tr>\n",
                            "<tr><td>WST-590</td><td>2022-10-14 00:00:00.000</td><td>NULL</td><td>67,76</td><td>NULL</td></tr>\n",
                            "<tr><td>WST-590</td><td>2022-10-20 00:00:00.000</td><td>NULL</td><td>67,83</td><td>NULL</td></tr>\n",
                            "<tr><td>WST-590</td><td>2022-10-26 00:00:00.000</td><td>NULL</td><td>63,84</td><td>NULL</td></tr>\n",
                            "<tr><td>WST-590</td><td>2022-11-03 00:00:00.000</td><td>NULL</td><td>67,97</td><td>NULL</td></tr>\n",
                            "<tr><td>WST-590</td><td>2022-11-11 00:00:00.000</td><td>NULL</td><td>67,97</td><td>NULL</td></tr>\n",
                            "<tr><td>WST-590</td><td>2022-11-18 00:00:00.000</td><td>NULL</td><td>67,97</td><td>NULL</td></tr>\n",
                            "<tr><td>WST-590</td><td>2022-11-23 00:00:00.000</td><td>NULL</td><td>68,05</td><td>NULL</td></tr>\n",
                            "<tr><td>WST-590</td><td>2022-11-30 00:00:00.000</td><td>NULL</td><td>68,04</td><td>NULL</td></tr>\n",
                            "<tr><td>WST-590</td><td>2022-12-07 00:00:00.000</td><td>NULL</td><td>67,98</td><td>NULL</td></tr>\n",
                            "<tr><td>WST-590</td><td>2022-12-14 00:00:00.000</td><td>NULL</td><td>68,13</td><td>NULL</td></tr>\n",
                            "<tr><td>WST-590</td><td>2022-12-20 00:00:00.000</td><td>NULL</td><td>68,07</td><td>NULL</td></tr>\n",
                            "<tr><td>WST-590</td><td>2022-12-28 00:00:00.000</td><td>NULL</td><td>67,89</td><td>NULL</td></tr>\n",
                            "<tr><td>WST-590</td><td>2023-01-04 00:00:00.000</td><td>NULL</td><td>67,77</td><td>NULL</td></tr>\n",
                            "<tr><td>WST-590</td><td>2023-01-12 00:00:00.000</td><td>NULL</td><td>67,24</td><td>NULL</td></tr>\n",
                            "<tr><td>WST-590</td><td>2023-01-19 00:00:00.000</td><td>NULL</td><td>67,17</td><td>NULL</td></tr>\n",
                            "<tr><td>WST-590</td><td>2023-01-25 00:00:00.000</td><td>NULL</td><td>67,07</td><td>NULL</td></tr>\n",
                            "<tr><td>WST-590</td><td>2023-02-01 00:00:00.000</td><td>NULL</td><td>66,69</td><td>NULL</td></tr>\n",
                            "<tr><td>WST-590</td><td>2023-02-16 00:00:00.000</td><td>NULL</td><td>66,57</td><td>NULL</td></tr>\n",
                            "<tr><td>WST-590</td><td>2023-02-23 00:00:00.000</td><td>NULL</td><td>66,67</td><td>NULL</td></tr>\n",
                            "<tr><td>WST-590</td><td>2023-03-02 00:00:00.000</td><td>NULL</td><td>66,73</td><td>NULL</td></tr>\n",
                            "<tr><td>WST-590</td><td>2023-03-06 00:00:00.000</td><td>NULL</td><td>66,9</td><td>NULL</td></tr>\n",
                            "<tr><td>WST-590</td><td>2023-03-17 00:00:00.000</td><td>NULL</td><td>100,7</td><td>NULL</td></tr>\n",
                            "<tr><td>WST-590</td><td>2023-03-22 00:00:00.000</td><td>NULL</td><td>66,8</td><td>NULL</td></tr>\n",
                            "</table>"
                        ]
                    },
                    "execution_count": 5,
                    "metadata": {},
                    "output_type": "execute_result"
                }
            ],
            "source": [
                "-- Terceiro passo: Usar consultas anteriores como base para\n",
                "-- o cálculo final, na tabela de dados - gw_level!\n",
                "\n",
                "-- Chega de dicas..\n",
                "\n",
                "WITH toc_hist AS (\n",
                "    SELECT\n",
                "        s.ID\n",
                "        ,s.Name\n",
                "        ,COALESCE(\n",
                "            t.elevation\n",
                "            ,s.Elevation\n",
                "        ) AS toc\n",
                "    FROM station s\n",
                "        LEFT JOIN toc t\n",
                "            ON s.ID = t.Station\n",
                "    WHERE\n",
                "        s.stn_type = 'Poco Tubular' AND \n",
                "        (t.period_end = '2030-12-31' OR t.period_end IS NULL)\n",
                ")\n",
                "\n",
                "SELECT\n",
                "    t.Name                          AS [Codigo HGA]\n",
                "    ,gw.date_                       AS [Data]\n",
                "    ,t.toc                          AS [Cota Topo (m)]\n",
                "    ,gw.depth_                      AS [Profundidade (m)]\n",
                "    ,ROUND(t.toc - gw.depth_, 2)    AS [Cota NA (m)]\n",
                "FROM gw_level gw\n",
                "    JOIN toc_hist t\n",
                "        ON gw.Station = t.ID"
            ]
        },
        {
            "attachments": {},
            "cell_type": "markdown",
            "metadata": {
                "azdata_cell_guid": "bb272db3-46a1-471a-b92c-da3c8ea065e2"
            },
            "source": [
                "# 🤯 Desafio desafiador\n",
                "\n",
                "Anteriormente, a **cota mais recente** de cada poço foi considerada para o **cálculo da cota NA (m)**; no entanto, sabemos que há variações desta cota ao longo do tempo...\n",
                "\n",
                "## Objetivo\n",
                "\n",
                "Adapte a consulta do desafio anterior, para considerar as alterações de cota do topo no cálculo da cota do nível de água.\n",
                "\n",
                "Ao final, retorne a **média anual** da cota do nível d'água para cada ponto."
            ]
        },
        {
            "cell_type": "code",
            "execution_count": 6,
            "metadata": {
                "azdata_cell_guid": "10765e73-6398-4b95-aeb3-28d76bab648f",
                "language": "sql"
            },
            "outputs": [
                {
                    "data": {
                        "text/html": [
                            "Warning: Null value is eliminated by an aggregate or other SET operation."
                        ]
                    },
                    "metadata": {},
                    "output_type": "display_data"
                },
                {
                    "data": {
                        "text/html": [
                            "(49 rows affected)"
                        ]
                    },
                    "metadata": {},
                    "output_type": "display_data"
                },
                {
                    "data": {
                        "text/html": [
                            "Total execution time: 00:00:00.015"
                        ]
                    },
                    "metadata": {},
                    "output_type": "display_data"
                },
                {
                    "data": {
                        "application/vnd.dataresource+json": {
                            "data": [
                                {
                                    "Ano": "2017",
                                    "Codigo HGA": "WST-417",
                                    "Cota NA Média (m)": "1186,2333333333333"
                                },
                                {
                                    "Ano": "2018",
                                    "Codigo HGA": "WST-417",
                                    "Cota NA Média (m)": "1181,7625000000003"
                                },
                                {
                                    "Ano": "2017",
                                    "Codigo HGA": "WST-418",
                                    "Cota NA Média (m)": "1133,915"
                                },
                                {
                                    "Ano": "2018",
                                    "Codigo HGA": "WST-418",
                                    "Cota NA Média (m)": "1143,5314285714287"
                                },
                                {
                                    "Ano": "2019",
                                    "Codigo HGA": "WST-418",
                                    "Cota NA Média (m)": "1151,9800000000002"
                                },
                                {
                                    "Ano": "2020",
                                    "Codigo HGA": "WST-418",
                                    "Cota NA Média (m)": "1183,8066666666666"
                                },
                                {
                                    "Ano": "2021",
                                    "Codigo HGA": "WST-418",
                                    "Cota NA Média (m)": "1158,7230952380953"
                                },
                                {
                                    "Ano": "2022",
                                    "Codigo HGA": "WST-418",
                                    "Cota NA Média (m)": "1164,6622222222222"
                                },
                                {
                                    "Ano": "2023",
                                    "Codigo HGA": "WST-418",
                                    "Cota NA Média (m)": "1151,344"
                                },
                                {
                                    "Ano": "2018",
                                    "Codigo HGA": "WST-419",
                                    "Cota NA Média (m)": "1152,52"
                                },
                                {
                                    "Ano": "2019",
                                    "Codigo HGA": "WST-419",
                                    "Cota NA Média (m)": "1154,37"
                                },
                                {
                                    "Ano": "2019",
                                    "Codigo HGA": "WST-420",
                                    "Cota NA Média (m)": "1204,5313333333334"
                                },
                                {
                                    "Ano": "2020",
                                    "Codigo HGA": "WST-420",
                                    "Cota NA Média (m)": "1167,3370588235293"
                                },
                                {
                                    "Ano": "2021",
                                    "Codigo HGA": "WST-420",
                                    "Cota NA Média (m)": "1156,895"
                                },
                                {
                                    "Ano": "2022",
                                    "Codigo HGA": "WST-420",
                                    "Cota NA Média (m)": "1180,5053571428575"
                                },
                                {
                                    "Ano": "2019",
                                    "Codigo HGA": "WST-421",
                                    "Cota NA Média (m)": "1142,6725"
                                },
                                {
                                    "Ano": "2020",
                                    "Codigo HGA": "WST-421",
                                    "Cota NA Média (m)": "1149,5425714285716"
                                },
                                {
                                    "Ano": "2021",
                                    "Codigo HGA": "WST-421",
                                    "Cota NA Média (m)": "1195,45"
                                },
                                {
                                    "Ano": "2022",
                                    "Codigo HGA": "WST-421",
                                    "Cota NA Média (m)": "1146,49"
                                },
                                {
                                    "Ano": "2017",
                                    "Codigo HGA": "WST-422",
                                    "Cota NA Média (m)": "1230,8092857142858"
                                },
                                {
                                    "Ano": "2018",
                                    "Codigo HGA": "WST-422",
                                    "Cota NA Média (m)": "1224,1673333333335"
                                },
                                {
                                    "Ano": "2019",
                                    "Codigo HGA": "WST-422",
                                    "Cota NA Média (m)": "1209,6"
                                },
                                {
                                    "Ano": "2022",
                                    "Codigo HGA": "WST-422",
                                    "Cota NA Média (m)": "1189,26"
                                },
                                {
                                    "Ano": "2023",
                                    "Codigo HGA": "WST-422",
                                    "Cota NA Média (m)": "1189,0624999999995"
                                },
                                {
                                    "Ano": "2018",
                                    "Codigo HGA": "WST-423",
                                    "Cota NA Média (m)": "1142,7157142857143"
                                },
                                {
                                    "Ano": "2019",
                                    "Codigo HGA": "WST-423",
                                    "Cota NA Média (m)": "1182,8685"
                                },
                                {
                                    "Ano": "2020",
                                    "Codigo HGA": "WST-423",
                                    "Cota NA Média (m)": "1171,4214285714286"
                                },
                                {
                                    "Ano": "2021",
                                    "Codigo HGA": "WST-423",
                                    "Cota NA Média (m)": "1156,118108108108"
                                },
                                {
                                    "Ano": "2022",
                                    "Codigo HGA": "WST-423",
                                    "Cota NA Média (m)": "1155,85"
                                },
                                {
                                    "Ano": "2018",
                                    "Codigo HGA": "WST-424",
                                    "Cota NA Média (m)": "1176,69"
                                },
                                {
                                    "Ano": "2019",
                                    "Codigo HGA": "WST-424",
                                    "Cota NA Média (m)": "1151,3971428571429"
                                },
                                {
                                    "Ano": "2020",
                                    "Codigo HGA": "WST-424",
                                    "Cota NA Média (m)": "1157,9217142857142"
                                },
                                {
                                    "Ano": "2022",
                                    "Codigo HGA": "WST-424",
                                    "Cota NA Média (m)": "1124,3952777777781"
                                },
                                {
                                    "Ano": "2023",
                                    "Codigo HGA": "WST-424",
                                    "Cota NA Média (m)": "1114,9799999999998"
                                },
                                {
                                    "Ano": "2017",
                                    "Codigo HGA": "WST-425",
                                    "Cota NA Média (m)": "1228,46"
                                },
                                {
                                    "Ano": "2018",
                                    "Codigo HGA": "WST-425",
                                    "Cota NA Média (m)": "1211,232222222222"
                                },
                                {
                                    "Ano": "2019",
                                    "Codigo HGA": "WST-425",
                                    "Cota NA Média (m)": "1202,75"
                                },
                                {
                                    "Ano": "2020",
                                    "Codigo HGA": "WST-425",
                                    "Cota NA Média (m)": "1162,9249019607844"
                                },
                                {
                                    "Ano": "2021",
                                    "Codigo HGA": "WST-425",
                                    "Cota NA Média (m)": "1200,492"
                                },
                                {
                                    "Ano": "2022",
                                    "Codigo HGA": "WST-425",
                                    "Cota NA Média (m)": "1175,4990909090911"
                                },
                                {
                                    "Ano": "2023",
                                    "Codigo HGA": "WST-425",
                                    "Cota NA Média (m)": "1165,0836363636365"
                                },
                                {
                                    "Ano": "2018",
                                    "Codigo HGA": "WST-426",
                                    "Cota NA Média (m)": "1151,449"
                                },
                                {
                                    "Ano": "2019",
                                    "Codigo HGA": "WST-426",
                                    "Cota NA Média (m)": "1169,2875"
                                },
                                {
                                    "Ano": "2021",
                                    "Codigo HGA": "WST-426",
                                    "Cota NA Média (m)": "1148,9728571428573"
                                },
                                {
                                    "Ano": "2022",
                                    "Codigo HGA": "WST-426",
                                    "Cota NA Média (m)": "1115,0755555555556"
                                },
                                {
                                    "Ano": "2023",
                                    "Codigo HGA": "WST-426",
                                    "Cota NA Média (m)": "1130,907333333333"
                                },
                                {
                                    "Ano": "2022",
                                    "Codigo HGA": "WST-427",
                                    "Cota NA Média (m)": "1113,4703846153845"
                                },
                                {
                                    "Ano": "2023",
                                    "Codigo HGA": "WST-427",
                                    "Cota NA Média (m)": "1124,478947368421"
                                },
                                {
                                    "Ano": "2022",
                                    "Codigo HGA": "WST-428",
                                    "Cota NA Média (m)": "1115,088148148148"
                                }
                            ],
                            "schema": {
                                "fields": [
                                    {
                                        "name": "Codigo HGA"
                                    },
                                    {
                                        "name": "Ano"
                                    },
                                    {
                                        "name": "Cota NA Média (m)"
                                    }
                                ]
                            }
                        },
                        "text/html": [
                            "<table>\n",
                            "<tr><th>Codigo HGA</th><th>Ano</th><th>Cota NA Média (m)</th></tr>\n",
                            "<tr><td>WST-417</td><td>2017</td><td>1186,2333333333333</td></tr>\n",
                            "<tr><td>WST-417</td><td>2018</td><td>1181,7625000000003</td></tr>\n",
                            "<tr><td>WST-418</td><td>2017</td><td>1133,915</td></tr>\n",
                            "<tr><td>WST-418</td><td>2018</td><td>1143,5314285714287</td></tr>\n",
                            "<tr><td>WST-418</td><td>2019</td><td>1151,9800000000002</td></tr>\n",
                            "<tr><td>WST-418</td><td>2020</td><td>1183,8066666666666</td></tr>\n",
                            "<tr><td>WST-418</td><td>2021</td><td>1158,7230952380953</td></tr>\n",
                            "<tr><td>WST-418</td><td>2022</td><td>1164,6622222222222</td></tr>\n",
                            "<tr><td>WST-418</td><td>2023</td><td>1151,344</td></tr>\n",
                            "<tr><td>WST-419</td><td>2018</td><td>1152,52</td></tr>\n",
                            "<tr><td>WST-419</td><td>2019</td><td>1154,37</td></tr>\n",
                            "<tr><td>WST-420</td><td>2019</td><td>1204,5313333333334</td></tr>\n",
                            "<tr><td>WST-420</td><td>2020</td><td>1167,3370588235293</td></tr>\n",
                            "<tr><td>WST-420</td><td>2021</td><td>1156,895</td></tr>\n",
                            "<tr><td>WST-420</td><td>2022</td><td>1180,5053571428575</td></tr>\n",
                            "<tr><td>WST-421</td><td>2019</td><td>1142,6725</td></tr>\n",
                            "<tr><td>WST-421</td><td>2020</td><td>1149,5425714285716</td></tr>\n",
                            "<tr><td>WST-421</td><td>2021</td><td>1195,45</td></tr>\n",
                            "<tr><td>WST-421</td><td>2022</td><td>1146,49</td></tr>\n",
                            "<tr><td>WST-422</td><td>2017</td><td>1230,8092857142858</td></tr>\n",
                            "<tr><td>WST-422</td><td>2018</td><td>1224,1673333333335</td></tr>\n",
                            "<tr><td>WST-422</td><td>2019</td><td>1209,6</td></tr>\n",
                            "<tr><td>WST-422</td><td>2022</td><td>1189,26</td></tr>\n",
                            "<tr><td>WST-422</td><td>2023</td><td>1189,0624999999995</td></tr>\n",
                            "<tr><td>WST-423</td><td>2018</td><td>1142,7157142857143</td></tr>\n",
                            "<tr><td>WST-423</td><td>2019</td><td>1182,8685</td></tr>\n",
                            "<tr><td>WST-423</td><td>2020</td><td>1171,4214285714286</td></tr>\n",
                            "<tr><td>WST-423</td><td>2021</td><td>1156,118108108108</td></tr>\n",
                            "<tr><td>WST-423</td><td>2022</td><td>1155,85</td></tr>\n",
                            "<tr><td>WST-424</td><td>2018</td><td>1176,69</td></tr>\n",
                            "<tr><td>WST-424</td><td>2019</td><td>1151,3971428571429</td></tr>\n",
                            "<tr><td>WST-424</td><td>2020</td><td>1157,9217142857142</td></tr>\n",
                            "<tr><td>WST-424</td><td>2022</td><td>1124,3952777777781</td></tr>\n",
                            "<tr><td>WST-424</td><td>2023</td><td>1114,9799999999998</td></tr>\n",
                            "<tr><td>WST-425</td><td>2017</td><td>1228,46</td></tr>\n",
                            "<tr><td>WST-425</td><td>2018</td><td>1211,232222222222</td></tr>\n",
                            "<tr><td>WST-425</td><td>2019</td><td>1202,75</td></tr>\n",
                            "<tr><td>WST-425</td><td>2020</td><td>1162,9249019607844</td></tr>\n",
                            "<tr><td>WST-425</td><td>2021</td><td>1200,492</td></tr>\n",
                            "<tr><td>WST-425</td><td>2022</td><td>1175,4990909090911</td></tr>\n",
                            "<tr><td>WST-425</td><td>2023</td><td>1165,0836363636365</td></tr>\n",
                            "<tr><td>WST-426</td><td>2018</td><td>1151,449</td></tr>\n",
                            "<tr><td>WST-426</td><td>2019</td><td>1169,2875</td></tr>\n",
                            "<tr><td>WST-426</td><td>2021</td><td>1148,9728571428573</td></tr>\n",
                            "<tr><td>WST-426</td><td>2022</td><td>1115,0755555555556</td></tr>\n",
                            "<tr><td>WST-426</td><td>2023</td><td>1130,907333333333</td></tr>\n",
                            "<tr><td>WST-427</td><td>2022</td><td>1113,4703846153845</td></tr>\n",
                            "<tr><td>WST-427</td><td>2023</td><td>1124,478947368421</td></tr>\n",
                            "<tr><td>WST-428</td><td>2022</td><td>1115,088148148148</td></tr>\n",
                            "</table>"
                        ]
                    },
                    "execution_count": 6,
                    "metadata": {},
                    "output_type": "execute_result"
                }
            ],
            "source": [
                "-- Boa sorte!\n",
                "\n",
                "WITH toc_hist AS (\n",
                "    SELECT\n",
                "        s.ID\n",
                "        ,s.Name\n",
                "        ,t.period_start\n",
                "        ,t.period_end\n",
                "        ,COALESCE(\n",
                "            t.elevation\n",
                "            ,s.Elevation\n",
                "        ) AS toc\n",
                "    FROM station s\n",
                "        LEFT JOIN toc t\n",
                "            ON s.ID = t.Station\n",
                "    WHERE s.stn_type = 'Poco Tubular'\n",
                "),\n",
                "\n",
                "cotas_na AS (\n",
                "    SELECT\n",
                "        t.Name                          AS [Codigo HGA]\n",
                "        ,gw.date_                       AS [Data]\n",
                "        ,t.toc                          AS [Cota Topo (m)]\n",
                "        ,gw.depth_                      AS [Profundidade (m)]\n",
                "        ,ROUND(t.toc - gw.depth_, 2)    AS [Cota NA (m)]\n",
                "    FROM gw_level gw\n",
                "        JOIN toc_hist t\n",
                "            ON gw.Station = t.ID\n",
                "            AND gw.date_ BETWEEN t.period_start AND t.period_end\n",
                ")\n",
                "\n",
                "SELECT\n",
                "    c.[Codigo HGA]\n",
                "    ,YEAR(c.[Data])         AS [Ano]\n",
                "    ,AVG(c.[Cota NA (m)])   AS [Cota NA Média (m)]\n",
                "FROM cotas_na c\n",
                "GROUP BY c.[Codigo HGA], YEAR(c.[Data])\n",
                "ORDER BY c.[Codigo HGA], YEAR(c.[Data])"
            ]
        }
    ],
    "metadata": {
        "kernelspec": {
            "display_name": "SQL",
            "language": "sql",
            "name": "SQL"
        },
        "language_info": {
            "name": "sql",
            "version": ""
        }
    },
    "nbformat": 4,
    "nbformat_minor": 2
}

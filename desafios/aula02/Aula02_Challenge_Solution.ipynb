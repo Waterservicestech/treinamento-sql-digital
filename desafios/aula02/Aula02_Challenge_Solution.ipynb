{
    "cells": [
        {
            "cell_type": "markdown",
            "metadata": {
                "azdata_cell_guid": "03a94507-dbc9-4269-86ad-450b6e2f8219"
            },
            "source": [
                "### 🧠 **Pré-Desafio**:\n",
                "\n",
                "> ### Como seria possível obter os resultados de NA acima da média para os pontos 'WST-88' e 'WST-205' em uma única consulta ??\n",
                "\n",
                "Obs.: Não vale usar `UNION`/`UNION ALL` 😒\n",
                "\n",
                "******"
            ]
        },
        {
            "cell_type": "code",
            "execution_count": 7,
            "metadata": {
                "azdata_cell_guid": "2b57835c-447a-4f13-ac82-c8679add4c66",
                "language": "sql"
            },
            "outputs": [
                {
                    "data": {
                        "text/html": [
                            "(18 rows affected)"
                        ]
                    },
                    "metadata": {},
                    "output_type": "display_data"
                },
                {
                    "data": {
                        "text/html": [
                            "Total execution time: 00:00:00.010"
                        ]
                    },
                    "metadata": {},
                    "output_type": "display_data"
                },
                {
                    "data": {
                        "application/vnd.dataresource+json": {
                            "data": [
                                {
                                    "Codigo HGA": "WST-88",
                                    "Cota NA": "1270,58",
                                    "Data": "2016-01-22 00:00:00.000",
                                    "Tipo Ponto": "Dreno"
                                },
                                {
                                    "Codigo HGA": "WST-88",
                                    "Cota NA": "1269,9",
                                    "Data": "2016-02-17 00:00:00.000",
                                    "Tipo Ponto": "Dreno"
                                },
                                {
                                    "Codigo HGA": "WST-88",
                                    "Cota NA": "1269,41",
                                    "Data": "2016-02-26 00:00:00.000",
                                    "Tipo Ponto": "Dreno"
                                },
                                {
                                    "Codigo HGA": "WST-88",
                                    "Cota NA": "1268,81",
                                    "Data": "2016-04-27 00:00:00.000",
                                    "Tipo Ponto": "Dreno"
                                },
                                {
                                    "Codigo HGA": "WST-88",
                                    "Cota NA": "1266,66",
                                    "Data": "2016-05-31 00:00:00.000",
                                    "Tipo Ponto": "Dreno"
                                },
                                {
                                    "Codigo HGA": "WST-88",
                                    "Cota NA": "1265,9",
                                    "Data": "2016-06-24 00:00:00.000",
                                    "Tipo Ponto": "Dreno"
                                },
                                {
                                    "Codigo HGA": "WST-88",
                                    "Cota NA": "1264,89",
                                    "Data": "2016-07-27 00:00:00.000",
                                    "Tipo Ponto": "Dreno"
                                },
                                {
                                    "Codigo HGA": "WST-88",
                                    "Cota NA": "1263,88",
                                    "Data": "2016-08-25 00:00:00.000",
                                    "Tipo Ponto": "Dreno"
                                },
                                {
                                    "Codigo HGA": "WST-88",
                                    "Cota NA": "1263,36",
                                    "Data": "2016-09-30 00:00:00.000",
                                    "Tipo Ponto": "Dreno"
                                },
                                {
                                    "Codigo HGA": "WST-88",
                                    "Cota NA": "1262,66",
                                    "Data": "2016-10-28 00:00:00.000",
                                    "Tipo Ponto": "Dreno"
                                },
                                {
                                    "Codigo HGA": "WST-88",
                                    "Cota NA": "1262",
                                    "Data": "2016-11-25 00:00:00.000",
                                    "Tipo Ponto": "Dreno"
                                },
                                {
                                    "Codigo HGA": "WST-88",
                                    "Cota NA": "1261,87",
                                    "Data": "2016-11-28 00:00:00.000",
                                    "Tipo Ponto": "Dreno"
                                },
                                {
                                    "Codigo HGA": "WST-88",
                                    "Cota NA": "1261,38",
                                    "Data": "2016-12-29 00:00:00.000",
                                    "Tipo Ponto": "Dreno"
                                },
                                {
                                    "Codigo HGA": "WST-88",
                                    "Cota NA": "1261,02",
                                    "Data": "2017-01-25 00:00:00.000",
                                    "Tipo Ponto": "Dreno"
                                },
                                {
                                    "Codigo HGA": "WST-88",
                                    "Cota NA": "1260,3",
                                    "Data": "2017-02-22 00:00:00.000",
                                    "Tipo Ponto": "Dreno"
                                },
                                {
                                    "Codigo HGA": "WST-88",
                                    "Cota NA": "1259,28",
                                    "Data": "2017-03-30 00:00:00.000",
                                    "Tipo Ponto": "Dreno"
                                },
                                {
                                    "Codigo HGA": "WST-88",
                                    "Cota NA": "1258,67",
                                    "Data": "2017-04-24 00:00:00.000",
                                    "Tipo Ponto": "Dreno"
                                },
                                {
                                    "Codigo HGA": "WST-88",
                                    "Cota NA": "1257,89",
                                    "Data": "2017-05-22 00:00:00.000",
                                    "Tipo Ponto": "Dreno"
                                }
                            ],
                            "schema": {
                                "fields": [
                                    {
                                        "name": "Codigo HGA"
                                    },
                                    {
                                        "name": "Tipo Ponto"
                                    },
                                    {
                                        "name": "Data"
                                    },
                                    {
                                        "name": "Cota NA"
                                    }
                                ]
                            }
                        },
                        "text/html": [
                            "<table>\n",
                            "<tr><th>Codigo HGA</th><th>Tipo Ponto</th><th>Data</th><th>Cota NA</th></tr>\n",
                            "<tr><td>WST-88</td><td>Dreno</td><td>2016-01-22 00:00:00.000</td><td>1270,58</td></tr>\n",
                            "<tr><td>WST-88</td><td>Dreno</td><td>2016-02-17 00:00:00.000</td><td>1269,9</td></tr>\n",
                            "<tr><td>WST-88</td><td>Dreno</td><td>2016-02-26 00:00:00.000</td><td>1269,41</td></tr>\n",
                            "<tr><td>WST-88</td><td>Dreno</td><td>2016-04-27 00:00:00.000</td><td>1268,81</td></tr>\n",
                            "<tr><td>WST-88</td><td>Dreno</td><td>2016-05-31 00:00:00.000</td><td>1266,66</td></tr>\n",
                            "<tr><td>WST-88</td><td>Dreno</td><td>2016-06-24 00:00:00.000</td><td>1265,9</td></tr>\n",
                            "<tr><td>WST-88</td><td>Dreno</td><td>2016-07-27 00:00:00.000</td><td>1264,89</td></tr>\n",
                            "<tr><td>WST-88</td><td>Dreno</td><td>2016-08-25 00:00:00.000</td><td>1263,88</td></tr>\n",
                            "<tr><td>WST-88</td><td>Dreno</td><td>2016-09-30 00:00:00.000</td><td>1263,36</td></tr>\n",
                            "<tr><td>WST-88</td><td>Dreno</td><td>2016-10-28 00:00:00.000</td><td>1262,66</td></tr>\n",
                            "<tr><td>WST-88</td><td>Dreno</td><td>2016-11-25 00:00:00.000</td><td>1262</td></tr>\n",
                            "<tr><td>WST-88</td><td>Dreno</td><td>2016-11-28 00:00:00.000</td><td>1261,87</td></tr>\n",
                            "<tr><td>WST-88</td><td>Dreno</td><td>2016-12-29 00:00:00.000</td><td>1261,38</td></tr>\n",
                            "<tr><td>WST-88</td><td>Dreno</td><td>2017-01-25 00:00:00.000</td><td>1261,02</td></tr>\n",
                            "<tr><td>WST-88</td><td>Dreno</td><td>2017-02-22 00:00:00.000</td><td>1260,3</td></tr>\n",
                            "<tr><td>WST-88</td><td>Dreno</td><td>2017-03-30 00:00:00.000</td><td>1259,28</td></tr>\n",
                            "<tr><td>WST-88</td><td>Dreno</td><td>2017-04-24 00:00:00.000</td><td>1258,67</td></tr>\n",
                            "<tr><td>WST-88</td><td>Dreno</td><td>2017-05-22 00:00:00.000</td><td>1257,89</td></tr>\n",
                            "</table>"
                        ]
                    },
                    "execution_count": 7,
                    "metadata": {},
                    "output_type": "execute_result"
                }
            ],
            "source": [
                "-- Comparar os resultados de Cota NA às médias\n",
                "SELECT TOP 100\n",
                "    s.[Name]            AS [Codigo HGA]\n",
                "    ,s.[stn_type]       AS [Tipo Ponto]\n",
                "    ,gw.date_           AS [Data]\n",
                "    ,gw.zwl_elevation   AS [Cota NA]\n",
                "FROM gw_level gw\n",
                "    INNER JOIN station s\n",
                "        ON gw.Station = s.ID\n",
                "WHERE gw.zwl_elevation < (\n",
                "    -- Retorna a média da Cota do NA para o WST-88\n",
                "    SELECT AVG(gw.zwl_elevation)        AS [NA Médio]\n",
                "    FROM gw_level gw\n",
                "        INNER JOIN station s\n",
                "            ON gw.Station = s.ID\n",
                "    WHERE s.[Name] = 'WST-88'\n",
                ")\n",
                "    AND s.[Name] = 'WST-88'"
            ]
        },
        {
            "cell_type": "code",
            "execution_count": 9,
            "metadata": {
                "azdata_cell_guid": "82f91dcb-b9c6-4ad3-a18c-93775eb79c8f",
                "language": "sql"
            },
            "outputs": [
                {
                    "data": {
                        "text/html": [
                            "(83 rows affected)"
                        ]
                    },
                    "metadata": {},
                    "output_type": "display_data"
                },
                {
                    "data": {
                        "text/html": [
                            "Total execution time: 00:00:00.012"
                        ]
                    },
                    "metadata": {},
                    "output_type": "display_data"
                },
                {
                    "data": {
                        "application/vnd.dataresource+json": {
                            "data": [
                                {
                                    "Codigo HGA": "WST-205",
                                    "Cota NA": "1254,19",
                                    "Data": "2016-11-28 00:00:00.000",
                                    "NA Médio": "1246,8760869565215",
                                    "Tipo Ponto": "Furo de Geotecnia"
                                },
                                {
                                    "Codigo HGA": "WST-205",
                                    "Cota NA": "1254,14",
                                    "Data": "2016-12-06 00:00:00.000",
                                    "NA Médio": "1246,8760869565215",
                                    "Tipo Ponto": "Furo de Geotecnia"
                                },
                                {
                                    "Codigo HGA": "WST-205",
                                    "Cota NA": "1254,08",
                                    "Data": "2016-12-19 00:00:00.000",
                                    "NA Médio": "1246,8760869565215",
                                    "Tipo Ponto": "Furo de Geotecnia"
                                },
                                {
                                    "Codigo HGA": "WST-205",
                                    "Cota NA": "1254,07",
                                    "Data": "2016-12-22 00:00:00.000",
                                    "NA Médio": "1246,8760869565215",
                                    "Tipo Ponto": "Furo de Geotecnia"
                                },
                                {
                                    "Codigo HGA": "WST-205",
                                    "Cota NA": "1254,04",
                                    "Data": "2016-12-27 00:00:00.000",
                                    "NA Médio": "1246,8760869565215",
                                    "Tipo Ponto": "Furo de Geotecnia"
                                },
                                {
                                    "Codigo HGA": "WST-205",
                                    "Cota NA": "1254,05",
                                    "Data": "2016-12-30 00:00:00.000",
                                    "NA Médio": "1246,8760869565215",
                                    "Tipo Ponto": "Furo de Geotecnia"
                                },
                                {
                                    "Codigo HGA": "WST-205",
                                    "Cota NA": "1254,04",
                                    "Data": "2017-01-02 00:00:00.000",
                                    "NA Médio": "1246,8760869565215",
                                    "Tipo Ponto": "Furo de Geotecnia"
                                },
                                {
                                    "Codigo HGA": "WST-205",
                                    "Cota NA": "1254,04",
                                    "Data": "2017-01-04 00:00:00.000",
                                    "NA Médio": "1246,8760869565215",
                                    "Tipo Ponto": "Furo de Geotecnia"
                                },
                                {
                                    "Codigo HGA": "WST-205",
                                    "Cota NA": "1254,01",
                                    "Data": "2017-01-11 00:00:00.000",
                                    "NA Médio": "1246,8760869565215",
                                    "Tipo Ponto": "Furo de Geotecnia"
                                },
                                {
                                    "Codigo HGA": "WST-205",
                                    "Cota NA": "1253,97",
                                    "Data": "2017-01-25 00:00:00.000",
                                    "NA Médio": "1246,8760869565215",
                                    "Tipo Ponto": "Furo de Geotecnia"
                                },
                                {
                                    "Codigo HGA": "WST-205",
                                    "Cota NA": "1253,95",
                                    "Data": "2017-02-03 00:00:00.000",
                                    "NA Médio": "1246,8760869565215",
                                    "Tipo Ponto": "Furo de Geotecnia"
                                },
                                {
                                    "Codigo HGA": "WST-205",
                                    "Cota NA": "1253,95",
                                    "Data": "2017-02-10 00:00:00.000",
                                    "NA Médio": "1246,8760869565215",
                                    "Tipo Ponto": "Furo de Geotecnia"
                                },
                                {
                                    "Codigo HGA": "WST-205",
                                    "Cota NA": "1253,94",
                                    "Data": "2017-02-16 00:00:00.000",
                                    "NA Médio": "1246,8760869565215",
                                    "Tipo Ponto": "Furo de Geotecnia"
                                },
                                {
                                    "Codigo HGA": "WST-205",
                                    "Cota NA": "1253,92",
                                    "Data": "2017-03-03 00:00:00.000",
                                    "NA Médio": "1246,8760869565215",
                                    "Tipo Ponto": "Furo de Geotecnia"
                                },
                                {
                                    "Codigo HGA": "WST-205",
                                    "Cota NA": "1253,91",
                                    "Data": "2017-03-10 00:00:00.000",
                                    "NA Médio": "1246,8760869565215",
                                    "Tipo Ponto": "Furo de Geotecnia"
                                },
                                {
                                    "Codigo HGA": "WST-205",
                                    "Cota NA": "1253,91",
                                    "Data": "2017-03-17 00:00:00.000",
                                    "NA Médio": "1246,8760869565215",
                                    "Tipo Ponto": "Furo de Geotecnia"
                                },
                                {
                                    "Codigo HGA": "WST-205",
                                    "Cota NA": "1253,88",
                                    "Data": "2017-03-24 00:00:00.000",
                                    "NA Médio": "1246,8760869565215",
                                    "Tipo Ponto": "Furo de Geotecnia"
                                },
                                {
                                    "Codigo HGA": "WST-205",
                                    "Cota NA": "1253,87",
                                    "Data": "2017-03-30 00:00:00.000",
                                    "NA Médio": "1246,8760869565215",
                                    "Tipo Ponto": "Furo de Geotecnia"
                                },
                                {
                                    "Codigo HGA": "WST-205",
                                    "Cota NA": "1253,87",
                                    "Data": "2017-04-20 00:00:00.000",
                                    "NA Médio": "1246,8760869565215",
                                    "Tipo Ponto": "Furo de Geotecnia"
                                },
                                {
                                    "Codigo HGA": "WST-205",
                                    "Cota NA": "1253,87",
                                    "Data": "2017-04-24 00:00:00.000",
                                    "NA Médio": "1246,8760869565215",
                                    "Tipo Ponto": "Furo de Geotecnia"
                                },
                                {
                                    "Codigo HGA": "WST-205",
                                    "Cota NA": "1253,86",
                                    "Data": "2017-05-05 00:00:00.000",
                                    "NA Médio": "1246,8760869565215",
                                    "Tipo Ponto": "Furo de Geotecnia"
                                },
                                {
                                    "Codigo HGA": "WST-205",
                                    "Cota NA": "1253,85",
                                    "Data": "2017-05-11 00:00:00.000",
                                    "NA Médio": "1246,8760869565215",
                                    "Tipo Ponto": "Furo de Geotecnia"
                                },
                                {
                                    "Codigo HGA": "WST-205",
                                    "Cota NA": "1253,84",
                                    "Data": "2017-05-18 00:00:00.000",
                                    "NA Médio": "1246,8760869565215",
                                    "Tipo Ponto": "Furo de Geotecnia"
                                },
                                {
                                    "Codigo HGA": "WST-205",
                                    "Cota NA": "1253,84",
                                    "Data": "2017-05-22 00:00:00.000",
                                    "NA Médio": "1246,8760869565215",
                                    "Tipo Ponto": "Furo de Geotecnia"
                                },
                                {
                                    "Codigo HGA": "WST-205",
                                    "Cota NA": "1253,83",
                                    "Data": "2017-06-02 00:00:00.000",
                                    "NA Médio": "1246,8760869565215",
                                    "Tipo Ponto": "Furo de Geotecnia"
                                },
                                {
                                    "Codigo HGA": "WST-205",
                                    "Cota NA": "1253,83",
                                    "Data": "2017-06-08 00:00:00.000",
                                    "NA Médio": "1246,8760869565215",
                                    "Tipo Ponto": "Furo de Geotecnia"
                                },
                                {
                                    "Codigo HGA": "WST-205",
                                    "Cota NA": "1253,82",
                                    "Data": "2017-06-16 00:00:00.000",
                                    "NA Médio": "1246,8760869565215",
                                    "Tipo Ponto": "Furo de Geotecnia"
                                },
                                {
                                    "Codigo HGA": "WST-205",
                                    "Cota NA": "1253,82",
                                    "Data": "2017-06-21 00:00:00.000",
                                    "NA Médio": "1246,8760869565215",
                                    "Tipo Ponto": "Furo de Geotecnia"
                                },
                                {
                                    "Codigo HGA": "WST-205",
                                    "Cota NA": "1253,81",
                                    "Data": "2017-06-29 00:00:00.000",
                                    "NA Médio": "1246,8760869565215",
                                    "Tipo Ponto": "Furo de Geotecnia"
                                },
                                {
                                    "Codigo HGA": "WST-205",
                                    "Cota NA": "1253,81",
                                    "Data": "2017-07-06 00:00:00.000",
                                    "NA Médio": "1246,8760869565215",
                                    "Tipo Ponto": "Furo de Geotecnia"
                                },
                                {
                                    "Codigo HGA": "WST-205",
                                    "Cota NA": "1253,8",
                                    "Data": "2017-07-14 00:00:00.000",
                                    "NA Médio": "1246,8760869565215",
                                    "Tipo Ponto": "Furo de Geotecnia"
                                },
                                {
                                    "Codigo HGA": "WST-205",
                                    "Cota NA": "1253,8",
                                    "Data": "2017-07-21 00:00:00.000",
                                    "NA Médio": "1246,8760869565215",
                                    "Tipo Ponto": "Furo de Geotecnia"
                                },
                                {
                                    "Codigo HGA": "WST-205",
                                    "Cota NA": "1253,78",
                                    "Data": "2017-07-26 00:00:00.000",
                                    "NA Médio": "1246,8760869565215",
                                    "Tipo Ponto": "Furo de Geotecnia"
                                },
                                {
                                    "Codigo HGA": "WST-205",
                                    "Cota NA": "1253,78",
                                    "Data": "2017-08-04 00:00:00.000",
                                    "NA Médio": "1246,8760869565215",
                                    "Tipo Ponto": "Furo de Geotecnia"
                                },
                                {
                                    "Codigo HGA": "WST-205",
                                    "Cota NA": "1253,77",
                                    "Data": "2017-08-10 00:00:00.000",
                                    "NA Médio": "1246,8760869565215",
                                    "Tipo Ponto": "Furo de Geotecnia"
                                },
                                {
                                    "Codigo HGA": "WST-205",
                                    "Cota NA": "1253,77",
                                    "Data": "2017-08-18 00:00:00.000",
                                    "NA Médio": "1246,8760869565215",
                                    "Tipo Ponto": "Furo de Geotecnia"
                                },
                                {
                                    "Codigo HGA": "WST-205",
                                    "Cota NA": "1253,77",
                                    "Data": "2017-08-25 00:00:00.000",
                                    "NA Médio": "1246,8760869565215",
                                    "Tipo Ponto": "Furo de Geotecnia"
                                },
                                {
                                    "Codigo HGA": "WST-205",
                                    "Cota NA": "1253,74",
                                    "Data": "2017-09-06 00:00:00.000",
                                    "NA Médio": "1246,8760869565215",
                                    "Tipo Ponto": "Furo de Geotecnia"
                                },
                                {
                                    "Codigo HGA": "WST-205",
                                    "Cota NA": "1253,73",
                                    "Data": "2017-09-15 00:00:00.000",
                                    "NA Médio": "1246,8760869565215",
                                    "Tipo Ponto": "Furo de Geotecnia"
                                },
                                {
                                    "Codigo HGA": "WST-205",
                                    "Cota NA": "1253,73",
                                    "Data": "2017-09-22 00:00:00.000",
                                    "NA Médio": "1246,8760869565215",
                                    "Tipo Ponto": "Furo de Geotecnia"
                                },
                                {
                                    "Codigo HGA": "WST-205",
                                    "Cota NA": "1253,71",
                                    "Data": "2017-09-27 00:00:00.000",
                                    "NA Médio": "1246,8760869565215",
                                    "Tipo Ponto": "Furo de Geotecnia"
                                },
                                {
                                    "Codigo HGA": "WST-205",
                                    "Cota NA": "1253,72",
                                    "Data": "2017-10-03 00:00:00.000",
                                    "NA Médio": "1246,8760869565215",
                                    "Tipo Ponto": "Furo de Geotecnia"
                                },
                                {
                                    "Codigo HGA": "WST-205",
                                    "Cota NA": "1253,71",
                                    "Data": "2017-10-13 00:00:00.000",
                                    "NA Médio": "1246,8760869565215",
                                    "Tipo Ponto": "Furo de Geotecnia"
                                },
                                {
                                    "Codigo HGA": "WST-205",
                                    "Cota NA": "1253,7",
                                    "Data": "2017-10-19 00:00:00.000",
                                    "NA Médio": "1246,8760869565215",
                                    "Tipo Ponto": "Furo de Geotecnia"
                                },
                                {
                                    "Codigo HGA": "WST-205",
                                    "Cota NA": "1253,69",
                                    "Data": "2017-10-27 00:00:00.000",
                                    "NA Médio": "1246,8760869565215",
                                    "Tipo Ponto": "Furo de Geotecnia"
                                },
                                {
                                    "Codigo HGA": "WST-205",
                                    "Cota NA": "1253,69",
                                    "Data": "2017-11-01 00:00:00.000",
                                    "NA Médio": "1246,8760869565215",
                                    "Tipo Ponto": "Furo de Geotecnia"
                                },
                                {
                                    "Codigo HGA": "WST-205",
                                    "Cota NA": "1253,69",
                                    "Data": "2017-11-10 00:00:00.000",
                                    "NA Médio": "1246,8760869565215",
                                    "Tipo Ponto": "Furo de Geotecnia"
                                },
                                {
                                    "Codigo HGA": "WST-205",
                                    "Cota NA": "1253,69",
                                    "Data": "2017-11-17 00:00:00.000",
                                    "NA Médio": "1246,8760869565215",
                                    "Tipo Ponto": "Furo de Geotecnia"
                                },
                                {
                                    "Codigo HGA": "WST-205",
                                    "Cota NA": "1253,68",
                                    "Data": "2017-11-27 00:00:00.000",
                                    "NA Médio": "1246,8760869565215",
                                    "Tipo Ponto": "Furo de Geotecnia"
                                },
                                {
                                    "Codigo HGA": "WST-205",
                                    "Cota NA": "1253,69",
                                    "Data": "2017-11-29 00:00:00.000",
                                    "NA Médio": "1246,8760869565215",
                                    "Tipo Ponto": "Furo de Geotecnia"
                                },
                                {
                                    "Codigo HGA": "WST-205",
                                    "Cota NA": "1253,67",
                                    "Data": "2017-12-05 00:00:00.000",
                                    "NA Médio": "1246,8760869565215",
                                    "Tipo Ponto": "Furo de Geotecnia"
                                },
                                {
                                    "Codigo HGA": "WST-205",
                                    "Cota NA": "1253,66",
                                    "Data": "2017-12-13 00:00:00.000",
                                    "NA Médio": "1246,8760869565215",
                                    "Tipo Ponto": "Furo de Geotecnia"
                                },
                                {
                                    "Codigo HGA": "WST-205",
                                    "Cota NA": "1253,66",
                                    "Data": "2017-12-19 00:00:00.000",
                                    "NA Médio": "1246,8760869565215",
                                    "Tipo Ponto": "Furo de Geotecnia"
                                },
                                {
                                    "Codigo HGA": "WST-205",
                                    "Cota NA": "1253,69",
                                    "Data": "2017-12-27 00:00:00.000",
                                    "NA Médio": "1246,8760869565215",
                                    "Tipo Ponto": "Furo de Geotecnia"
                                },
                                {
                                    "Codigo HGA": "WST-205",
                                    "Cota NA": "1253,64",
                                    "Data": "2018-01-03 00:00:00.000",
                                    "NA Médio": "1246,8760869565215",
                                    "Tipo Ponto": "Furo de Geotecnia"
                                },
                                {
                                    "Codigo HGA": "WST-205",
                                    "Cota NA": "1253,64",
                                    "Data": "2018-01-10 00:00:00.000",
                                    "NA Médio": "1246,8760869565215",
                                    "Tipo Ponto": "Furo de Geotecnia"
                                },
                                {
                                    "Codigo HGA": "WST-205",
                                    "Cota NA": "1253,63",
                                    "Data": "2018-01-18 00:00:00.000",
                                    "NA Médio": "1246,8760869565215",
                                    "Tipo Ponto": "Furo de Geotecnia"
                                },
                                {
                                    "Codigo HGA": "WST-205",
                                    "Cota NA": "1253,62",
                                    "Data": "2018-01-24 00:00:00.000",
                                    "NA Médio": "1246,8760869565215",
                                    "Tipo Ponto": "Furo de Geotecnia"
                                },
                                {
                                    "Codigo HGA": "WST-205",
                                    "Cota NA": "1253,62",
                                    "Data": "2018-02-02 00:00:00.000",
                                    "NA Médio": "1246,8760869565215",
                                    "Tipo Ponto": "Furo de Geotecnia"
                                },
                                {
                                    "Codigo HGA": "WST-205",
                                    "Cota NA": "1253,62",
                                    "Data": "2018-02-09 00:00:00.000",
                                    "NA Médio": "1246,8760869565215",
                                    "Tipo Ponto": "Furo de Geotecnia"
                                },
                                {
                                    "Codigo HGA": "WST-205",
                                    "Cota NA": "1253,61",
                                    "Data": "2018-02-14 00:00:00.000",
                                    "NA Médio": "1246,8760869565215",
                                    "Tipo Ponto": "Furo de Geotecnia"
                                },
                                {
                                    "Codigo HGA": "WST-205",
                                    "Cota NA": "1253,61",
                                    "Data": "2018-02-22 00:00:00.000",
                                    "NA Médio": "1246,8760869565215",
                                    "Tipo Ponto": "Furo de Geotecnia"
                                },
                                {
                                    "Codigo HGA": "WST-205",
                                    "Cota NA": "1253,6",
                                    "Data": "2018-02-27 00:00:00.000",
                                    "NA Médio": "1246,8760869565215",
                                    "Tipo Ponto": "Furo de Geotecnia"
                                },
                                {
                                    "Codigo HGA": "WST-205",
                                    "Cota NA": "1253,59",
                                    "Data": "2018-03-08 00:00:00.000",
                                    "NA Médio": "1246,8760869565215",
                                    "Tipo Ponto": "Furo de Geotecnia"
                                },
                                {
                                    "Codigo HGA": "WST-205",
                                    "Cota NA": "1253,57",
                                    "Data": "2018-03-14 00:00:00.000",
                                    "NA Médio": "1246,8760869565215",
                                    "Tipo Ponto": "Furo de Geotecnia"
                                },
                                {
                                    "Codigo HGA": "WST-205",
                                    "Cota NA": "1253,65",
                                    "Data": "2018-03-22 00:00:00.000",
                                    "NA Médio": "1246,8760869565215",
                                    "Tipo Ponto": "Furo de Geotecnia"
                                },
                                {
                                    "Codigo HGA": "WST-205",
                                    "Cota NA": "1253,56",
                                    "Data": "2018-03-28 00:00:00.000",
                                    "NA Médio": "1246,8760869565215",
                                    "Tipo Ponto": "Furo de Geotecnia"
                                },
                                {
                                    "Codigo HGA": "WST-205",
                                    "Cota NA": "1253,56",
                                    "Data": "2018-04-05 00:00:00.000",
                                    "NA Médio": "1246,8760869565215",
                                    "Tipo Ponto": "Furo de Geotecnia"
                                },
                                {
                                    "Codigo HGA": "WST-205",
                                    "Cota NA": "1253,54",
                                    "Data": "2018-04-10 00:00:00.000",
                                    "NA Médio": "1246,8760869565215",
                                    "Tipo Ponto": "Furo de Geotecnia"
                                },
                                {
                                    "Codigo HGA": "WST-205",
                                    "Cota NA": "1253,53",
                                    "Data": "2018-04-19 00:00:00.000",
                                    "NA Médio": "1246,8760869565215",
                                    "Tipo Ponto": "Furo de Geotecnia"
                                },
                                {
                                    "Codigo HGA": "WST-205",
                                    "Cota NA": "1253,53",
                                    "Data": "2018-04-27 00:00:00.000",
                                    "NA Médio": "1246,8760869565215",
                                    "Tipo Ponto": "Furo de Geotecnia"
                                },
                                {
                                    "Codigo HGA": "WST-205",
                                    "Cota NA": "1253,52",
                                    "Data": "2018-05-03 00:00:00.000",
                                    "NA Médio": "1246,8760869565215",
                                    "Tipo Ponto": "Furo de Geotecnia"
                                },
                                {
                                    "Codigo HGA": "WST-205",
                                    "Cota NA": "1253,5",
                                    "Data": "2018-05-09 00:00:00.000",
                                    "NA Médio": "1246,8760869565215",
                                    "Tipo Ponto": "Furo de Geotecnia"
                                },
                                {
                                    "Codigo HGA": "WST-205",
                                    "Cota NA": "1253,51",
                                    "Data": "2018-05-16 00:00:00.000",
                                    "NA Médio": "1246,8760869565215",
                                    "Tipo Ponto": "Furo de Geotecnia"
                                },
                                {
                                    "Codigo HGA": "WST-205",
                                    "Cota NA": "1253,49",
                                    "Data": "2018-06-05 00:00:00.000",
                                    "NA Médio": "1246,8760869565215",
                                    "Tipo Ponto": "Furo de Geotecnia"
                                },
                                {
                                    "Codigo HGA": "WST-88",
                                    "Cota NA": "1270,58",
                                    "Data": "2016-01-22 00:00:00.000",
                                    "NA Médio": "1263,8033333333333",
                                    "Tipo Ponto": "Dreno"
                                },
                                {
                                    "Codigo HGA": "WST-88",
                                    "Cota NA": "1269,9",
                                    "Data": "2016-02-17 00:00:00.000",
                                    "NA Médio": "1263,8033333333333",
                                    "Tipo Ponto": "Dreno"
                                },
                                {
                                    "Codigo HGA": "WST-88",
                                    "Cota NA": "1269,41",
                                    "Data": "2016-02-26 00:00:00.000",
                                    "NA Médio": "1263,8033333333333",
                                    "Tipo Ponto": "Dreno"
                                },
                                {
                                    "Codigo HGA": "WST-88",
                                    "Cota NA": "1268,81",
                                    "Data": "2016-04-27 00:00:00.000",
                                    "NA Médio": "1263,8033333333333",
                                    "Tipo Ponto": "Dreno"
                                },
                                {
                                    "Codigo HGA": "WST-88",
                                    "Cota NA": "1266,66",
                                    "Data": "2016-05-31 00:00:00.000",
                                    "NA Médio": "1263,8033333333333",
                                    "Tipo Ponto": "Dreno"
                                },
                                {
                                    "Codigo HGA": "WST-88",
                                    "Cota NA": "1265,9",
                                    "Data": "2016-06-24 00:00:00.000",
                                    "NA Médio": "1263,8033333333333",
                                    "Tipo Ponto": "Dreno"
                                },
                                {
                                    "Codigo HGA": "WST-88",
                                    "Cota NA": "1264,89",
                                    "Data": "2016-07-27 00:00:00.000",
                                    "NA Médio": "1263,8033333333333",
                                    "Tipo Ponto": "Dreno"
                                },
                                {
                                    "Codigo HGA": "WST-88",
                                    "Cota NA": "1263,88",
                                    "Data": "2016-08-25 00:00:00.000",
                                    "NA Médio": "1263,8033333333333",
                                    "Tipo Ponto": "Dreno"
                                }
                            ],
                            "schema": {
                                "fields": [
                                    {
                                        "name": "Codigo HGA"
                                    },
                                    {
                                        "name": "Tipo Ponto"
                                    },
                                    {
                                        "name": "Data"
                                    },
                                    {
                                        "name": "Cota NA"
                                    },
                                    {
                                        "name": "NA Médio"
                                    }
                                ]
                            }
                        },
                        "text/html": [
                            "<table>\n",
                            "<tr><th>Codigo HGA</th><th>Tipo Ponto</th><th>Data</th><th>Cota NA</th><th>NA Médio</th></tr>\n",
                            "<tr><td>WST-205</td><td>Furo de Geotecnia</td><td>2016-11-28 00:00:00.000</td><td>1254,19</td><td>1246,8760869565215</td></tr>\n",
                            "<tr><td>WST-205</td><td>Furo de Geotecnia</td><td>2016-12-06 00:00:00.000</td><td>1254,14</td><td>1246,8760869565215</td></tr>\n",
                            "<tr><td>WST-205</td><td>Furo de Geotecnia</td><td>2016-12-19 00:00:00.000</td><td>1254,08</td><td>1246,8760869565215</td></tr>\n",
                            "<tr><td>WST-205</td><td>Furo de Geotecnia</td><td>2016-12-22 00:00:00.000</td><td>1254,07</td><td>1246,8760869565215</td></tr>\n",
                            "<tr><td>WST-205</td><td>Furo de Geotecnia</td><td>2016-12-27 00:00:00.000</td><td>1254,04</td><td>1246,8760869565215</td></tr>\n",
                            "<tr><td>WST-205</td><td>Furo de Geotecnia</td><td>2016-12-30 00:00:00.000</td><td>1254,05</td><td>1246,8760869565215</td></tr>\n",
                            "<tr><td>WST-205</td><td>Furo de Geotecnia</td><td>2017-01-02 00:00:00.000</td><td>1254,04</td><td>1246,8760869565215</td></tr>\n",
                            "<tr><td>WST-205</td><td>Furo de Geotecnia</td><td>2017-01-04 00:00:00.000</td><td>1254,04</td><td>1246,8760869565215</td></tr>\n",
                            "<tr><td>WST-205</td><td>Furo de Geotecnia</td><td>2017-01-11 00:00:00.000</td><td>1254,01</td><td>1246,8760869565215</td></tr>\n",
                            "<tr><td>WST-205</td><td>Furo de Geotecnia</td><td>2017-01-25 00:00:00.000</td><td>1253,97</td><td>1246,8760869565215</td></tr>\n",
                            "<tr><td>WST-205</td><td>Furo de Geotecnia</td><td>2017-02-03 00:00:00.000</td><td>1253,95</td><td>1246,8760869565215</td></tr>\n",
                            "<tr><td>WST-205</td><td>Furo de Geotecnia</td><td>2017-02-10 00:00:00.000</td><td>1253,95</td><td>1246,8760869565215</td></tr>\n",
                            "<tr><td>WST-205</td><td>Furo de Geotecnia</td><td>2017-02-16 00:00:00.000</td><td>1253,94</td><td>1246,8760869565215</td></tr>\n",
                            "<tr><td>WST-205</td><td>Furo de Geotecnia</td><td>2017-03-03 00:00:00.000</td><td>1253,92</td><td>1246,8760869565215</td></tr>\n",
                            "<tr><td>WST-205</td><td>Furo de Geotecnia</td><td>2017-03-10 00:00:00.000</td><td>1253,91</td><td>1246,8760869565215</td></tr>\n",
                            "<tr><td>WST-205</td><td>Furo de Geotecnia</td><td>2017-03-17 00:00:00.000</td><td>1253,91</td><td>1246,8760869565215</td></tr>\n",
                            "<tr><td>WST-205</td><td>Furo de Geotecnia</td><td>2017-03-24 00:00:00.000</td><td>1253,88</td><td>1246,8760869565215</td></tr>\n",
                            "<tr><td>WST-205</td><td>Furo de Geotecnia</td><td>2017-03-30 00:00:00.000</td><td>1253,87</td><td>1246,8760869565215</td></tr>\n",
                            "<tr><td>WST-205</td><td>Furo de Geotecnia</td><td>2017-04-20 00:00:00.000</td><td>1253,87</td><td>1246,8760869565215</td></tr>\n",
                            "<tr><td>WST-205</td><td>Furo de Geotecnia</td><td>2017-04-24 00:00:00.000</td><td>1253,87</td><td>1246,8760869565215</td></tr>\n",
                            "<tr><td>WST-205</td><td>Furo de Geotecnia</td><td>2017-05-05 00:00:00.000</td><td>1253,86</td><td>1246,8760869565215</td></tr>\n",
                            "<tr><td>WST-205</td><td>Furo de Geotecnia</td><td>2017-05-11 00:00:00.000</td><td>1253,85</td><td>1246,8760869565215</td></tr>\n",
                            "<tr><td>WST-205</td><td>Furo de Geotecnia</td><td>2017-05-18 00:00:00.000</td><td>1253,84</td><td>1246,8760869565215</td></tr>\n",
                            "<tr><td>WST-205</td><td>Furo de Geotecnia</td><td>2017-05-22 00:00:00.000</td><td>1253,84</td><td>1246,8760869565215</td></tr>\n",
                            "<tr><td>WST-205</td><td>Furo de Geotecnia</td><td>2017-06-02 00:00:00.000</td><td>1253,83</td><td>1246,8760869565215</td></tr>\n",
                            "<tr><td>WST-205</td><td>Furo de Geotecnia</td><td>2017-06-08 00:00:00.000</td><td>1253,83</td><td>1246,8760869565215</td></tr>\n",
                            "<tr><td>WST-205</td><td>Furo de Geotecnia</td><td>2017-06-16 00:00:00.000</td><td>1253,82</td><td>1246,8760869565215</td></tr>\n",
                            "<tr><td>WST-205</td><td>Furo de Geotecnia</td><td>2017-06-21 00:00:00.000</td><td>1253,82</td><td>1246,8760869565215</td></tr>\n",
                            "<tr><td>WST-205</td><td>Furo de Geotecnia</td><td>2017-06-29 00:00:00.000</td><td>1253,81</td><td>1246,8760869565215</td></tr>\n",
                            "<tr><td>WST-205</td><td>Furo de Geotecnia</td><td>2017-07-06 00:00:00.000</td><td>1253,81</td><td>1246,8760869565215</td></tr>\n",
                            "<tr><td>WST-205</td><td>Furo de Geotecnia</td><td>2017-07-14 00:00:00.000</td><td>1253,8</td><td>1246,8760869565215</td></tr>\n",
                            "<tr><td>WST-205</td><td>Furo de Geotecnia</td><td>2017-07-21 00:00:00.000</td><td>1253,8</td><td>1246,8760869565215</td></tr>\n",
                            "<tr><td>WST-205</td><td>Furo de Geotecnia</td><td>2017-07-26 00:00:00.000</td><td>1253,78</td><td>1246,8760869565215</td></tr>\n",
                            "<tr><td>WST-205</td><td>Furo de Geotecnia</td><td>2017-08-04 00:00:00.000</td><td>1253,78</td><td>1246,8760869565215</td></tr>\n",
                            "<tr><td>WST-205</td><td>Furo de Geotecnia</td><td>2017-08-10 00:00:00.000</td><td>1253,77</td><td>1246,8760869565215</td></tr>\n",
                            "<tr><td>WST-205</td><td>Furo de Geotecnia</td><td>2017-08-18 00:00:00.000</td><td>1253,77</td><td>1246,8760869565215</td></tr>\n",
                            "<tr><td>WST-205</td><td>Furo de Geotecnia</td><td>2017-08-25 00:00:00.000</td><td>1253,77</td><td>1246,8760869565215</td></tr>\n",
                            "<tr><td>WST-205</td><td>Furo de Geotecnia</td><td>2017-09-06 00:00:00.000</td><td>1253,74</td><td>1246,8760869565215</td></tr>\n",
                            "<tr><td>WST-205</td><td>Furo de Geotecnia</td><td>2017-09-15 00:00:00.000</td><td>1253,73</td><td>1246,8760869565215</td></tr>\n",
                            "<tr><td>WST-205</td><td>Furo de Geotecnia</td><td>2017-09-22 00:00:00.000</td><td>1253,73</td><td>1246,8760869565215</td></tr>\n",
                            "<tr><td>WST-205</td><td>Furo de Geotecnia</td><td>2017-09-27 00:00:00.000</td><td>1253,71</td><td>1246,8760869565215</td></tr>\n",
                            "<tr><td>WST-205</td><td>Furo de Geotecnia</td><td>2017-10-03 00:00:00.000</td><td>1253,72</td><td>1246,8760869565215</td></tr>\n",
                            "<tr><td>WST-205</td><td>Furo de Geotecnia</td><td>2017-10-13 00:00:00.000</td><td>1253,71</td><td>1246,8760869565215</td></tr>\n",
                            "<tr><td>WST-205</td><td>Furo de Geotecnia</td><td>2017-10-19 00:00:00.000</td><td>1253,7</td><td>1246,8760869565215</td></tr>\n",
                            "<tr><td>WST-205</td><td>Furo de Geotecnia</td><td>2017-10-27 00:00:00.000</td><td>1253,69</td><td>1246,8760869565215</td></tr>\n",
                            "<tr><td>WST-205</td><td>Furo de Geotecnia</td><td>2017-11-01 00:00:00.000</td><td>1253,69</td><td>1246,8760869565215</td></tr>\n",
                            "<tr><td>WST-205</td><td>Furo de Geotecnia</td><td>2017-11-10 00:00:00.000</td><td>1253,69</td><td>1246,8760869565215</td></tr>\n",
                            "<tr><td>WST-205</td><td>Furo de Geotecnia</td><td>2017-11-17 00:00:00.000</td><td>1253,69</td><td>1246,8760869565215</td></tr>\n",
                            "<tr><td>WST-205</td><td>Furo de Geotecnia</td><td>2017-11-27 00:00:00.000</td><td>1253,68</td><td>1246,8760869565215</td></tr>\n",
                            "<tr><td>WST-205</td><td>Furo de Geotecnia</td><td>2017-11-29 00:00:00.000</td><td>1253,69</td><td>1246,8760869565215</td></tr>\n",
                            "<tr><td>WST-205</td><td>Furo de Geotecnia</td><td>2017-12-05 00:00:00.000</td><td>1253,67</td><td>1246,8760869565215</td></tr>\n",
                            "<tr><td>WST-205</td><td>Furo de Geotecnia</td><td>2017-12-13 00:00:00.000</td><td>1253,66</td><td>1246,8760869565215</td></tr>\n",
                            "<tr><td>WST-205</td><td>Furo de Geotecnia</td><td>2017-12-19 00:00:00.000</td><td>1253,66</td><td>1246,8760869565215</td></tr>\n",
                            "<tr><td>WST-205</td><td>Furo de Geotecnia</td><td>2017-12-27 00:00:00.000</td><td>1253,69</td><td>1246,8760869565215</td></tr>\n",
                            "<tr><td>WST-205</td><td>Furo de Geotecnia</td><td>2018-01-03 00:00:00.000</td><td>1253,64</td><td>1246,8760869565215</td></tr>\n",
                            "<tr><td>WST-205</td><td>Furo de Geotecnia</td><td>2018-01-10 00:00:00.000</td><td>1253,64</td><td>1246,8760869565215</td></tr>\n",
                            "<tr><td>WST-205</td><td>Furo de Geotecnia</td><td>2018-01-18 00:00:00.000</td><td>1253,63</td><td>1246,8760869565215</td></tr>\n",
                            "<tr><td>WST-205</td><td>Furo de Geotecnia</td><td>2018-01-24 00:00:00.000</td><td>1253,62</td><td>1246,8760869565215</td></tr>\n",
                            "<tr><td>WST-205</td><td>Furo de Geotecnia</td><td>2018-02-02 00:00:00.000</td><td>1253,62</td><td>1246,8760869565215</td></tr>\n",
                            "<tr><td>WST-205</td><td>Furo de Geotecnia</td><td>2018-02-09 00:00:00.000</td><td>1253,62</td><td>1246,8760869565215</td></tr>\n",
                            "<tr><td>WST-205</td><td>Furo de Geotecnia</td><td>2018-02-14 00:00:00.000</td><td>1253,61</td><td>1246,8760869565215</td></tr>\n",
                            "<tr><td>WST-205</td><td>Furo de Geotecnia</td><td>2018-02-22 00:00:00.000</td><td>1253,61</td><td>1246,8760869565215</td></tr>\n",
                            "<tr><td>WST-205</td><td>Furo de Geotecnia</td><td>2018-02-27 00:00:00.000</td><td>1253,6</td><td>1246,8760869565215</td></tr>\n",
                            "<tr><td>WST-205</td><td>Furo de Geotecnia</td><td>2018-03-08 00:00:00.000</td><td>1253,59</td><td>1246,8760869565215</td></tr>\n",
                            "<tr><td>WST-205</td><td>Furo de Geotecnia</td><td>2018-03-14 00:00:00.000</td><td>1253,57</td><td>1246,8760869565215</td></tr>\n",
                            "<tr><td>WST-205</td><td>Furo de Geotecnia</td><td>2018-03-22 00:00:00.000</td><td>1253,65</td><td>1246,8760869565215</td></tr>\n",
                            "<tr><td>WST-205</td><td>Furo de Geotecnia</td><td>2018-03-28 00:00:00.000</td><td>1253,56</td><td>1246,8760869565215</td></tr>\n",
                            "<tr><td>WST-205</td><td>Furo de Geotecnia</td><td>2018-04-05 00:00:00.000</td><td>1253,56</td><td>1246,8760869565215</td></tr>\n",
                            "<tr><td>WST-205</td><td>Furo de Geotecnia</td><td>2018-04-10 00:00:00.000</td><td>1253,54</td><td>1246,8760869565215</td></tr>\n",
                            "<tr><td>WST-205</td><td>Furo de Geotecnia</td><td>2018-04-19 00:00:00.000</td><td>1253,53</td><td>1246,8760869565215</td></tr>\n",
                            "<tr><td>WST-205</td><td>Furo de Geotecnia</td><td>2018-04-27 00:00:00.000</td><td>1253,53</td><td>1246,8760869565215</td></tr>\n",
                            "<tr><td>WST-205</td><td>Furo de Geotecnia</td><td>2018-05-03 00:00:00.000</td><td>1253,52</td><td>1246,8760869565215</td></tr>\n",
                            "<tr><td>WST-205</td><td>Furo de Geotecnia</td><td>2018-05-09 00:00:00.000</td><td>1253,5</td><td>1246,8760869565215</td></tr>\n",
                            "<tr><td>WST-205</td><td>Furo de Geotecnia</td><td>2018-05-16 00:00:00.000</td><td>1253,51</td><td>1246,8760869565215</td></tr>\n",
                            "<tr><td>WST-205</td><td>Furo de Geotecnia</td><td>2018-06-05 00:00:00.000</td><td>1253,49</td><td>1246,8760869565215</td></tr>\n",
                            "<tr><td>WST-88</td><td>Dreno</td><td>2016-01-22 00:00:00.000</td><td>1270,58</td><td>1263,8033333333333</td></tr>\n",
                            "<tr><td>WST-88</td><td>Dreno</td><td>2016-02-17 00:00:00.000</td><td>1269,9</td><td>1263,8033333333333</td></tr>\n",
                            "<tr><td>WST-88</td><td>Dreno</td><td>2016-02-26 00:00:00.000</td><td>1269,41</td><td>1263,8033333333333</td></tr>\n",
                            "<tr><td>WST-88</td><td>Dreno</td><td>2016-04-27 00:00:00.000</td><td>1268,81</td><td>1263,8033333333333</td></tr>\n",
                            "<tr><td>WST-88</td><td>Dreno</td><td>2016-05-31 00:00:00.000</td><td>1266,66</td><td>1263,8033333333333</td></tr>\n",
                            "<tr><td>WST-88</td><td>Dreno</td><td>2016-06-24 00:00:00.000</td><td>1265,9</td><td>1263,8033333333333</td></tr>\n",
                            "<tr><td>WST-88</td><td>Dreno</td><td>2016-07-27 00:00:00.000</td><td>1264,89</td><td>1263,8033333333333</td></tr>\n",
                            "<tr><td>WST-88</td><td>Dreno</td><td>2016-08-25 00:00:00.000</td><td>1263,88</td><td>1263,8033333333333</td></tr>\n",
                            "</table>"
                        ]
                    },
                    "execution_count": 9,
                    "metadata": {},
                    "output_type": "execute_result"
                }
            ],
            "source": [
                "WITH medias_na AS (\n",
                "    SELECT\n",
                "        s.[Name]\n",
                "        ,AVG(gw.zwl_elevation)        AS [NA Médio]\n",
                "    FROM gw_level gw\n",
                "        INNER JOIN station s\n",
                "            ON gw.Station = s.ID\n",
                "    WHERE s.[Name] IN ('WST-88', 'WST-205')\n",
                "    GROUP BY s.[Name]\n",
                ")\n",
                "\n",
                "SELECT\n",
                "    s.[Name]            AS [Codigo HGA]\n",
                "    ,s.[stn_type]       AS [Tipo Ponto]\n",
                "    ,gw.date_           AS [Data]\n",
                "    ,gw.zwl_elevation   AS [Cota NA]\n",
                "    ,medias_na.[NA Médio]\n",
                "FROM gw_level gw\n",
                "    INNER JOIN station s\n",
                "        ON gw.Station = s.ID\n",
                "    INNER JOIN medias_na\n",
                "        ON s.Name = medias_na.Name\n",
                "WHERE gw.zwl_elevation > medias_na.[NA Médio]"
            ]
        },
        {
            "attachments": {},
            "cell_type": "markdown",
            "metadata": {
                "azdata_cell_guid": "e6388ac0-5336-4ff3-978c-64c499795d60"
            },
            "source": [
                "# 🔥 Desafio - **Cálculo da Cota do Nível d'Água**\n",
                "\n",
                "## Enunciado:\n",
                "\n",
                "- A tabela **`gw_level`** contém dados de monitoramento de **profundidade de água** (`depth`) e **cota do nível de água** (`zwl_elevation`).\n",
                "\n",
                "Normalmente, a cota do NA é um campo calculado a partir do conhecimento da cota do topo do poço e da leitura de profundidade de água, conforme o esquema a seguir.\n",
                "\n",
                "![well_monitoring](../../img/desafios/aula02/monitoring_well.jpg)\n",
                "\n",
                "A presença do campo `zwl_elevation` é importante para a inserção manual da cota do NA quando dados de profundidade não estão disponíveis.\n",
                "\n",
                "- A tabela **`station`** contém o cadastro de todos os pontos de monitoramento do projeto. Os seguintes campos são de importante conhecimento para a sequência do desafio:\n",
                "\n",
                "| Campo | Descrição |\n",
                "|----------------|-----------------|\n",
                "| Name | Código identificador único de cada ponto de monitoramento |\n",
                "| Elevation | Cota do terreno (m) |\n",
                "| toc | Cota **atual** do topo do poço. |\n",
                "\n",
                "- A tabela **`toc`** contém o registro das **alterações da cota do topo** dos poços, de acordo com o período.\n",
                "\n",
                "## Objetivo\n",
                "O desafio é escrever uma consulta SQL para calcular a **cota do nível d'água** de cada poço por dia, levando em consideração as cotas estáticas da tabela `station` e as alterações de cota do topo da tabela `toc`.\n",
                "\n",
                "A lógica de calculo a ser considerada é a seguinte:\n",
                "\n",
                "1. Apenas os pontos do tipo `Poco Tubular` serão considerados;\n",
                "    - Esta informação está presente no campo `stn_type` da tabela `station`;\n",
                "    - Atenção para a sintaxe!\n",
                "2. Ignore o campo `zwl_elevation` da tabela `gw_level`, ele será recalculado a partir das cotas do ponto e das medições de profundidade;\n",
                "3. Calcule a cota do nível d'água:\n",
                "   - Obtenha as **cotas do topo mais recentes** para cada poço, a partir da tabela `toc`;\n",
                "     - Para o poço 'WST-416', a cota do topo não foi cadastrada, mas sim a cota do terreno.. Para antecipar este problema, considere o valor da cota do terreno (`Elevation`) ao invés da cota do topo (`toc`) nestes casos.\n",
                "   - Subtraia a medida da profundidade (`depth`) da cota obtida no passo anterior.\n",
                "\n",
                "> Cota NA (m) = ([CotaTopo (m)] ou [CotaTerreno (m)]) - [Profundidade (m)]\n",
                "\n",
                "****"
            ]
        },
        {
            "cell_type": "code",
            "execution_count": null,
            "metadata": {
                "azdata_cell_guid": "7b0cf6ca-dd5d-4f82-86fa-35745c90e253",
                "language": "sql"
            },
            "outputs": [],
            "source": [
                "-- Primeiro passo: Obter cotas do topo mais recentes - tabela toc\n",
                "-- 🔓 Dica secreta: A data final das cotas vigentes foi cadastrada como '31/12/2030'\n",
                "-- Em alguns casos, o campo da data final é mantido em branco..\n",
                "\n",
                "SELECT s.Name, t.elevation AS toc\n",
                "FROM station s\n",
                "    JOIN toc t\n",
                "        ON s.ID = t.Station\n",
                "WHERE \n",
                "    s.stn_type = 'Poco Tubular' \n",
                "    AND t.period_end = '2030-12-31'"
            ]
        },
        {
            "cell_type": "code",
            "execution_count": null,
            "metadata": {
                "azdata_cell_guid": "ff617f2c-a892-4531-bb28-a537b273e391",
                "language": "sql",
                "tags": []
            },
            "outputs": [],
            "source": [
                "WITH toc_recente AS (\n",
                "    SELECT Station, MAX(period_end) AS [max_data]\n",
                "    FROM toc\n",
                "    GROUP BY Station\n",
                ")\n",
                "\n",
                "SELECT s.Name, t.elevation AS toc\n",
                "FROM station s\n",
                "    JOIN toc t\n",
                "        ON s.ID = t.Station\n",
                "    JOIN toc_recente tr\n",
                "        ON t.Station = tr.Station \n",
                "        AND t.period_end = tr.max_data\n",
                "WHERE s.stn_type = 'Poco Tubular'"
            ]
        },
        {
            "cell_type": "code",
            "execution_count": null,
            "metadata": {
                "azdata_cell_guid": "06dae411-829d-46be-8a50-0c15b5791847",
                "language": "sql"
            },
            "outputs": [],
            "source": [
                "-- Segundo passo: Adicionar lógica para considerar o campo 'Elevation'\n",
                "-- para todos os poços tubulares sem registros na tabela toc\n",
                "\n",
                "-- Dica 1: LEFT JOIN para manter poços sem alterações\n",
                "-- Dica 2: COALESCE para considerar cota do terreno\n",
                "\n",
                "SELECT\n",
                "    s.Name\n",
                "    ,COALESCE(\n",
                "        t.elevation\n",
                "        ,s.Elevation\n",
                "     ) AS toc\n",
                "FROM station s\n",
                "    LEFT JOIN toc t\n",
                "        ON s.ID = t.Station\n",
                "WHERE\n",
                "    s.stn_type = 'Poco Tubular' AND \n",
                "    (t.period_end = '2030-12-31' OR t.period_end IS NULL)"
            ]
        },
        {
            "cell_type": "code",
            "execution_count": null,
            "metadata": {
                "azdata_cell_guid": "358b7c34-7705-437d-b4f2-402ef22aa447",
                "language": "sql"
            },
            "outputs": [],
            "source": [
                "-- Terceiro passo: Usar consultas anteriores como base para\n",
                "-- o cálculo final, na tabela de dados - gw_level!\n",
                "\n",
                "-- Chega de dicas..\n",
                "\n",
                "WITH toc_hist AS (\n",
                "    SELECT\n",
                "        s.ID\n",
                "        ,s.Name\n",
                "        ,COALESCE(\n",
                "            t.elevation\n",
                "            ,s.Elevation\n",
                "        ) AS toc\n",
                "    FROM station s\n",
                "        LEFT JOIN toc t\n",
                "            ON s.ID = t.Station\n",
                "    WHERE\n",
                "        s.stn_type = 'Poco Tubular' AND \n",
                "        (t.period_end = '2030-12-31' OR t.period_end IS NULL)\n",
                ")\n",
                "\n",
                "SELECT\n",
                "    t.Name                          AS [Codigo HGA]\n",
                "    ,gw.date_                       AS [Data]\n",
                "    ,t.toc                          AS [Cota Topo (m)]\n",
                "    ,gw.depth_                      AS [Profundidade (m)]\n",
                "    ,ROUND(t.toc - gw.depth_, 2)    AS [Cota NA (m)]\n",
                "FROM gw_level gw\n",
                "    JOIN toc_hist t\n",
                "        ON gw.Station = t.ID"
            ]
        },
        {
            "attachments": {},
            "cell_type": "markdown",
            "metadata": {
                "azdata_cell_guid": "bb272db3-46a1-471a-b92c-da3c8ea065e2"
            },
            "source": [
                "# 🤯 Desafio desafiador\n",
                "\n",
                "Anteriormente, a **cota mais recente** de cada poço foi considerada para o **cálculo da cota NA (m)**; no entanto, sabemos que há variações desta cota ao longo do tempo...\n",
                "\n",
                "## Objetivo\n",
                "\n",
                "Adapte a consulta do desafio anterior, para considerar as alterações de cota do topo no cálculo da cota do nível de água.\n",
                "\n",
                "Ao final, retorne a **média anual** da cota do nível d'água para cada ponto."
            ]
        },
        {
            "cell_type": "code",
            "execution_count": null,
            "metadata": {
                "azdata_cell_guid": "10765e73-6398-4b95-aeb3-28d76bab648f",
                "language": "sql"
            },
            "outputs": [],
            "source": [
                "-- Boa sorte!\n",
                "\n",
                "WITH toc_hist AS (\n",
                "    SELECT\n",
                "        s.ID\n",
                "        ,s.Name\n",
                "        ,t.period_start\n",
                "        ,t.period_end\n",
                "        ,COALESCE(\n",
                "            t.elevation\n",
                "            ,s.Elevation\n",
                "        ) AS toc\n",
                "    FROM station s\n",
                "        LEFT JOIN toc t\n",
                "            ON s.ID = t.Station\n",
                "    WHERE s.stn_type = 'Poco Tubular'\n",
                "),\n",
                "\n",
                "cotas_na AS (\n",
                "    SELECT\n",
                "        t.Name                          AS [Codigo HGA]\n",
                "        ,gw.date_                       AS [Data]\n",
                "        ,t.toc                          AS [Cota Topo (m)]\n",
                "        ,gw.depth_                      AS [Profundidade (m)]\n",
                "        ,ROUND(t.toc - gw.depth_, 2)    AS [Cota NA (m)]\n",
                "    FROM gw_level gw\n",
                "        JOIN toc_hist t\n",
                "            ON gw.Station = t.ID\n",
                "            AND gw.date_ BETWEEN t.period_start AND t.period_end\n",
                ")\n",
                "\n",
                "SELECT\n",
                "    c.[Codigo HGA]\n",
                "    ,YEAR(c.[Data])         AS [Ano]\n",
                "    ,AVG(c.[Cota NA (m)])   AS [Cota NA Média (m)]\n",
                "FROM cotas_na c\n",
                "GROUP BY c.[Codigo HGA], YEAR(c.[Data])\n",
                "ORDER BY c.[Codigo HGA], YEAR(c.[Data])"
            ]
        }
    ],
    "metadata": {
        "kernelspec": {
            "display_name": "SQL",
            "language": "sql",
            "name": "SQL"
        },
        "language_info": {
            "name": "sql",
            "version": ""
        }
    },
    "nbformat": 4,
    "nbformat_minor": 2
}

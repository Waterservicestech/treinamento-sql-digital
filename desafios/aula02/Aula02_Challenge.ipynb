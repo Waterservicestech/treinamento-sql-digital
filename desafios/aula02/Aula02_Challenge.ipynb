{
    "cells": [
        {
            "attachments": {},
            "cell_type": "markdown",
            "metadata": {
                "azdata_cell_guid": "e6388ac0-5336-4ff3-978c-64c499795d60"
            },
            "source": [
                "# 🔥 Desafio - **Cálculo da Cota do Nível d'Água**\n",
                "\n",
                "## Enunciado:\n",
                "\n",
                "- A tabela **`gw_level`** contém dados de monitoramento de **profundidade de água** (`depth`) e **cota do nível de água** (`zwl_elevation`).\n",
                "\n",
                "Normalmente, a cota do NA é um campo calculado a partir do conhecimento da cota do topo do poço e da leitura de profundidade de água, conforme o esquema a seguir.\n",
                "\n",
                "![well_monitoring](../../img/desafios/aula02/monitoring_well.jpg)\n",
                "\n",
                "\n",
                "A presença do campo `zwl_elevation` é importante para a inserção manual da cota do NA quando dados de profundidade não estão disponíveis.\n",
                "\n",
                "- A tabela **`station`** contém o cadastro de todos os pontos de monitoramento do projeto. Os seguintes campos são de importante conhecimento para a sequência do desafio:\n",
                "\n",
                "| Campo | Descrição |\n",
                "|----------------|-----------------|\n",
                "| Name | Código identificador único de cada ponto de monitoramento |\n",
                "| Elevation | Cota do terreno (m) |\n",
                "| toc | Cota **atual** do topo do poço. |\n",
                "\n",
                "- A tabela **`toc`** contém o registro das **alterações da cota do topo** dos poços, de acordo com o período.\n",
                "\n",
                "## Objetivo\n",
                "O desafio é escrever uma consulta SQL para calcular a **cota do nível d'água** de cada poço por dia, levando em consideração as cotas estáticas da tabela `station` e as alterações de cota do topo da tabela `toc`.\n",
                "\n",
                "A lógica de calculo a ser considerada é a seguinte:\n",
                "\n",
                "1. Apenas os pontos do tipo `Poco Tubular` serão considerados;\n",
                "    - Esta informação está presente no campo `stn_type` da tabela `station`;\n",
                "    - Atenção para a sintaxe!\n",
                "2. Ignore o campo `zwl_elevation` da tabela `gw_level`, ele será recalculado a partir das cotas do ponto e das medições de profundidade;\n",
                "3. Calcule a cota do nível d'água:\n",
                "   - Obtenha as **cotas do topo mais recentes** para cada poço, a partir da tabela `toc`;\n",
                "     - Para o poço 'WST-416', a cota do topo não foi cadastrada, mas sim a cota do terreno.. Para antecipar este problema, considere o valor da cota do terreno (`Elevation`) ao invés da cota do topo (`toc`) nestes casos.\n",
                "   - Subtraia a medida da profundidade (`depth`) da cota obtida no passo anterior.\n",
                "\n",
                "> Cota NA (m) = ([CotaTopo (m)] ou [CotaTerreno (m)]) - [Profundidade (m)]\n",
                "\n",
                "****"
            ]
        },
        {
            "cell_type": "code",
            "execution_count": null,
            "metadata": {
                "azdata_cell_guid": "7b0cf6ca-dd5d-4f82-86fa-35745c90e253",
                "language": "sql",
                "tags": []
            },
            "outputs": [],
            "source": [
                "-- Primeiro passo: Obter cotas do topo mais recentes - tabela toc\n",
                "-- 🔓 Dica secreta: A data final das cotas vigentes foi cadastrada como '31/12/2030'\n",
                "-- Em alguns casos, o campo da data final é mantido em branco..\n"
            ]
        },
        {
            "cell_type": "code",
            "execution_count": null,
            "metadata": {
                "azdata_cell_guid": "06dae411-829d-46be-8a50-0c15b5791847",
                "language": "sql"
            },
            "outputs": [],
            "source": [
                "-- Segundo passo: Adicionar lógica para considerar o campo 'Elevation'\n",
                "-- para todos os poços tubulares sem registros na tabela toc\n",
                "\n",
                "-- Dica 1: LEFT JOIN para manter poços sem alterações\n",
                "-- Dica 2: COALESCE para considerar cota do terreno\n"
            ]
        },
        {
            "cell_type": "code",
            "execution_count": null,
            "metadata": {
                "azdata_cell_guid": "358b7c34-7705-437d-b4f2-402ef22aa447",
                "language": "sql"
            },
            "outputs": [],
            "source": [
                "-- Terceiro passo: Usar consultas anteriores como base para\n",
                "-- o cálculo final, na tabela de dados - gw_level!\n",
                "\n",
                "-- Chega de dicas..\n"
            ]
        },
        {
            "attachments": {},
            "cell_type": "markdown",
            "metadata": {
                "azdata_cell_guid": "bb272db3-46a1-471a-b92c-da3c8ea065e2"
            },
            "source": [
                "# 🤯 Desafio desafiador\n",
                "\n",
                "Anteriormente, a **cota mais recente** de cada poço foi considerada para o **cálculo da cota NA (m)**; no entanto, sabemos que há variações desta cota ao longo do tempo...\n",
                "\n",
                "## Objetivo\n",
                "Adapte a consulta do desafio anterior, para considerar as alterações de cota do topo no cálculo da cota do nível de água.\n",
                "\n",
                "Ao final, retorne a **média anual** da cota do nível d'água para cada ponto."
            ]
        },
        {
            "cell_type": "code",
            "execution_count": null,
            "metadata": {
                "azdata_cell_guid": "10765e73-6398-4b95-aeb3-28d76bab648f",
                "language": "sql"
            },
            "outputs": [],
            "source": [
                "-- Boa sorte!\n"
            ]
        }
    ],
    "metadata": {
        "kernelspec": {
            "display_name": "SQL",
            "language": "sql",
            "name": "SQL"
        },
        "language_info": {
            "name": "sql",
            "version": ""
        }
    },
    "nbformat": 4,
    "nbformat_minor": 2
}

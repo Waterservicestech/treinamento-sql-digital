{
    "cells": [
        {
            "cell_type": "markdown",
            "metadata": {
                "azdata_cell_guid": "2531aa9f-68f9-45a7-88b8-164ae77dd26b"
            },
            "source": [
                "# DML e Técnicas Avançadas de Consultas 🧠\n",
                "\n",
                "![SQL girl meme](https://live.staticflickr.com/65535/49198404911_55085b0307_z.jpg)"
            ]
        },
        {
            "cell_type": "markdown",
            "metadata": {
                "azdata_cell_guid": "b15dff5d-d0cf-410c-b356-f58796e2a344"
            },
            "source": [
                "## Revisão Aula 02\n",
                "\n",
                "> Funções: `GROUP BY`, `UNION / UNION ALL`\n",
                "\n",
                "![SQL Join Image](../img/aula02/join_types0.jpg \"SQL Join image\")\n",
                "\n",
                "> Técnicas: Subqueries, Tabelas temporárias - locais, globais e *Common Table Expressions* (CTEs)\n",
                "\n",
                "**********"
            ]
        },
        {
            "cell_type": "markdown",
            "metadata": {
                "azdata_cell_guid": "baca4a3e-8e7b-4941-b763-824260f0e127"
            },
            "source": [
                "![Grupos SQL](../img/aula01/grupos_sql.png)\n",
                "\n",
                "Os tipos da linguagem SQL são:\n",
                "\n",
                "- **DQL - Data Query Language** - Linguagem de Consulta de dados.\n",
                "    - São os comandos de consulta. Exemplos: `SELECT`, `FROM`\n",
                "- **DML - Data Manipulation Language** - Linguagem de Manipulação de Dados.\n",
                "    - São os comandos que interagem com os dados dentro das tabelas. Exemplos: `INSERT`, `DELETE`, e `UPDATE`.\n",
                "- DTL - Data Transaction Language - Linguagem de Transação de Dados.\n",
                "    - São os comandos para controle de transação. Exemplos: `BEGIN TRANSACTION`, `COMMIT` e `ROLLBACK`"
            ]
        },
        {
            "cell_type": "markdown",
            "metadata": {
                "azdata_cell_guid": "88d5b1d9-bde1-4606-8d5a-4f1712302a9b"
            },
            "source": [
                "## Inserindo novos dados nas tabelas\n",
                "\n",
                "Para inserir novos registros em uma tabela existente, o comando `INSERT INTO` deve ser utilizado. A sintaxe básica é a seguinte:\n",
                "\n",
                "```sql\n",
                "INSERT INTO <table_name> (coluna1, coluna2, coluna3, ...)\n",
                "VALUES (valor1, valor2, valor3, ...);\n",
                "```\n",
                "\n",
                "Devemos ter atenção às restrições existentes no banco de dados, com relação à integridade dos registros."
            ]
        },
        {
            "cell_type": "code",
            "execution_count": null,
            "metadata": {
                "azdata_cell_guid": "293ae668-114b-432b-b669-20d5a2d07831",
                "language": "sql"
            },
            "outputs": [],
            "source": [
                "-- Exemplo inserir registro único\n",
                "INSERT INTO station \n",
                "(\n",
                "    [ID],\n",
                "    [Name],\n",
                "    [zmine],\n",
                "    [zdescription],\n",
                "    [Depth],\n",
                "    [stn_type]\n",
                ")\n",
                "VALUES (\n",
                "    -- 1,           -- Erro PK (ID 1 já existe)\n",
                "    1500,\n",
                "    'TESTE-01',\n",
                "    'Treinamento SQL',\n",
                "    'Teste INSERT Treinamento SQL',\n",
                "    150,\n",
                "    'Teste'\n",
                ")\n",
                "\n",
                "-- Exibir registro recém inserido\n",
                "SELECT * FROM station WHERE [Name] = 'TESTE-01'"
            ]
        },
        {
            "cell_type": "code",
            "execution_count": null,
            "metadata": {
                "azdata_cell_guid": "5bb56395-df71-45d9-b103-4e1ca8076193",
                "language": "sql",
                "tags": []
            },
            "outputs": [],
            "source": [
                "-- Exemplo inserir múltiplos registros\n",
                "INSERT INTO lithology ([Station], [from_], [to_], [soil_type], [comment])\n",
                "VALUES\n",
                "    (1500, 0, 5, 'A', 'Teste'),\n",
                "    (1500, 5, 15, 'B', 'Teste'),\n",
                "    (1500, 15, 22, 'C', 'Teste'),\n",
                "    (1500, 22, 30, 'D', 'Teste')\n",
                "\n",
                "-- Exibir registros cadastrados\n",
                "SELECT * FROM lithology WHERE Station = 1500"
            ]
        },
        {
            "cell_type": "code",
            "execution_count": null,
            "metadata": {
                "azdata_cell_guid": "b7a3d337-9662-485f-9b50-5a34f51fa18a",
                "language": "sql"
            },
            "outputs": [],
            "source": [
                "-- Melhorar formatação\n",
                "SELECT\n",
                "    s.Name          AS [Codigo HGA]\n",
                "    ,s.stn_type     AS [Tipo Ponto]\n",
                "    ,l.from_        AS [De (m)]\n",
                "    ,l.to_          AS [Ate (m)]\n",
                "    ,l.soil_type    AS [Litologia]\n",
                "FROM lithology l\n",
                "    JOIN station s\n",
                "        ON l.Station = s.ID\n",
                "WHERE s.[Name] = 'TESTE-01'"
            ]
        },
        {
            "cell_type": "code",
            "execution_count": null,
            "metadata": {
                "azdata_cell_guid": "40d6b378-ec11-413a-ac69-436d84010b65",
                "language": "sql"
            },
            "outputs": [],
            "source": [
                "-- Possíveis erros...\n",
                "\n",
                "INSERT INTO lithology ([Station], [from_], [to_], [soil_type], [comment])\n",
                "VALUES\n",
                "    -- (1501, 0, 1, 'Violação FK', 'Errrou')   -- Erro FK\n",
                "    -- ('Ponto', 0, 1, 'Tipo dado incorreto', 'Não passarás')   -- Erro tipo de dado\n",
                "\n",
                "    -- (1500, 0, 10, 'A', 'Ok...'),   -- Estrutura Ok, logicamente inconsistente.\n",
                "    -- (1500, 5, 12, 'B', 'Ok...')\n",
                "    \n",
                "    -- (1500, 0, 10, 'Violação PK', 'Duplicidade')"
            ]
        },
        {
            "cell_type": "markdown",
            "metadata": {
                "azdata_cell_guid": "1854c31c-68a0-457e-89ad-748c9c2f2bfa"
            },
            "source": [
                "> #### 💡 Dica: Para a importação de dados em .xlsx ou .csv, podemos utilizar módulos auxiliares como o **Import Wizard** do SSMS.\n",
                "\n",
                "##### Exercício: Importação de dados de medição de campo"
            ]
        },
        {
            "cell_type": "markdown",
            "metadata": {
                "azdata_cell_guid": "364fa473-6726-4c4b-9d96-5e94cdc777f1"
            },
            "source": [
                "## Deletando registros\n",
                "\n",
                "Para deletar registros de uma tabela, utiliza-se a instrução `DELETE FROM <tabela>`. \n",
                "\n",
                "Para adicionar uma condição de remoção, utilizamos a sintaxe:\n",
                "```sql\n",
                "DELETE FROM <tabela> WHERE <condition>;\n",
                "```\n",
                "\n",
                "> 💡 Dica: \n",
                "> - Para remover **intencionalmente** todas as linhas de uma tabela, o comando `TRUNCATE TABLE <tabela>` é mais eficiente.\n",
                "> - Ainda, existe o comando `DROP TABLE <tabela>`, que remove a tabela totalmente, inclusive índices, *triggers*, restrições e permissões.\n",
                "\n",
                "📚 Recomendação de leitura:\n",
                "\n",
                "- [DELETE *vs* TRUNCATE *vs* DROP](https://sergioleitaodba.wordpress.com/2014/10/20/sql-diferenca-entre-os-comandos-truncate-delete-e-drop/)\n",
                "\n",
                "***"
            ]
        },
        {
            "cell_type": "code",
            "execution_count": null,
            "metadata": {
                "azdata_cell_guid": "a1ec3e1f-cad1-431c-8e45-09f94c920538",
                "language": "sql"
            },
            "outputs": [],
            "source": [
                "-- Removendo registros\n",
                "\n",
                "DELETE FROM lithology WHERE [Station] = 1500 AND [comment] = 'Ok...'\n",
                "\n",
                "SELECT * FROM lithology WHERE Station = 1500"
            ]
        },
        {
            "cell_type": "markdown",
            "metadata": {
                "azdata_cell_guid": "39fce180-1c0d-435f-bf9f-a18a7cefff4b"
            },
            "source": [
                "## Atualizando registros de uma tabela\n",
                "\n",
                "Para atualizar registros, utilizamos o operador `UPDATE`. A sintaxe segue o seguinte formato:\n",
                "\n",
                "```sql\n",
                "UPDATE <tabela>\n",
                "SET\n",
                "    coluna1 = valor1,\n",
                "    [coluna2 = valor2,]\n",
                "    [coluna3 = valor3,]\n",
                "WHERE\n",
                "    <condição>;\n",
                "```"
            ]
        },
        {
            "cell_type": "code",
            "execution_count": null,
            "metadata": {
                "azdata_cell_guid": "0b1815f5-22af-43d5-b3d7-dd45ea9daf83",
                "language": "sql"
            },
            "outputs": [],
            "source": [
                "-- Exemplo UPDATE básico\n",
                "UPDATE lithology \n",
                "    SET [to_] = 100 WHERE Station = 1500 AND [to_] = 30\n",
                "\n",
                "SELECT * FROM lithology WHERE Station = 1500"
            ]
        },
        {
            "attachments": {},
            "cell_type": "markdown",
            "metadata": {
                "azdata_cell_guid": "30f63fc5-bf44-4ec6-87f3-72f4d662670e"
            },
            "source": [
                "## Muito cuidado ⚠️ \n",
                "### UPDATE/DELETE sem WHERE!\n",
                "\n",
                "![UPDATE SEM WHERE](../img/aula03/update_sem_where.jpg)\n",
                "\n",
                "![UPDATE SEM WHERE](../img/aula03/update_sem_where_cert.png)\n",
                "\n",
                "> “*Quando executarem algum dos comandos UPDATE ou DELETE sem WHERE pensem que está matando alguém, um gato, um cachorro. É um dos piores cenários que existe. Muito cuidado!*”"
            ]
        },
        {
            "cell_type": "code",
            "execution_count": null,
            "metadata": {
                "azdata_cell_guid": "b5bcc910-e3b7-4861-aca5-68ef8c951ec6",
                "language": "sql"
            },
            "outputs": [],
            "source": [
                "-- -- Substituir as litologias do ponto recém criado..\n",
                "-- UPDATE lithology SET soil_type = 'Litologia' WHERE Station = 1500\n",
                "\n",
                "-- Erro gravíssimo!\n",
                "UPDATE lithology SET soil_type = 'Litologia' --WHERE Station = 1500\n",
                "\n",
                "SELECT * FROM lithology"
            ]
        },
        {
            "cell_type": "markdown",
            "metadata": {
                "azdata_cell_guid": "29dd770c-bc51-4196-90a7-4ae588b815f7"
            },
            "source": [
                "### Evitando problemas ... DTL (Data Transaction Language)"
            ]
        },
        {
            "cell_type": "code",
            "execution_count": null,
            "metadata": {
                "azdata_cell_guid": "646a4ba2-8f35-42c5-8230-59d9fd26d263",
                "language": "sql"
            },
            "outputs": [],
            "source": [
                "BEGIN TRAN\n",
                "\n",
                "UPDATE lithology SET comment = 'Comentario' WHERE Station = 1500\n",
                "\n",
                "ROLLBACK TRAN;\n",
                "--COMMIT TRAN;\n",
                "GO\n",
                "\n",
                "SELECT * FROM lithology WHERE Station = 1500"
            ]
        },
        {
            "attachments": {},
            "cell_type": "markdown",
            "metadata": {
                "azdata_cell_guid": "ac492205-ea50-4d31-9c46-97dfc9729107",
                "language": "sql"
            },
            "source": [
                "# Window Functions"
            ]
        },
        {
            "attachments": {},
            "cell_type": "markdown",
            "metadata": {
                "azdata_cell_guid": "82d50f5f-e1d2-4bb4-9bec-257f831485c8"
            },
            "source": [
                "## Ranking de grupos de variáveis por um contador 🎾\n",
                "\n",
                "Por vezes, é necessário **classificar os campos por grupos**, em alguma ordem, para que possa executar análises. Estas situações poderão ser:\n",
                "\n",
                "1. Quando os dados anuais estão a ser atualizados pelo menos duas vezes por ano e pretende identificar quais as linhas dos seus dados mais recentes com base numa coluna que identifica quando os dados foram importados.\n",
                "2. Quando você quiser remover linhas 'duplicadas' em sua tabela com base em uma coluna ordenada.\n",
                "\n",
                "Em outros termos, podemos pensar nisso como **ordenar** a tabela, mas em vez de ordenar todos os dados da tabela, estamos classificando/ordenando grupos e subgrupos dentro da tabela.\n",
                "\n",
                "Para criar ***rankings*** por um contador, devemos fazer o seguinte:\n",
                "\n",
                "1. Criar uma nova coluna, `[Nova Coluna]`\n",
                "2. Atribuir o seguinte valor:\n",
                "\n",
                "`[Nova Coluna] = [ROW_NUMBER() OVER (PARTITION BY [coluna_1], ... [coluna_n]) ORDER BY [coluna_1], ... [coluna_n] ASC] ASC/DESC;`"
            ]
        },
        {
            "cell_type": "markdown",
            "metadata": {
                "azdata_cell_guid": "df1eda36-176c-4675-8cb8-bf0b1c7ba07b"
            },
            "source": [
                "### Exemplo: Retornar TOP 3 pontos com mais amostras hidroquímicas por complexo"
            ]
        },
        {
            "cell_type": "code",
            "execution_count": null,
            "metadata": {
                "azdata_cell_guid": "e5eb381d-394e-4c94-a7f3-9d319605e25b",
                "language": "sql"
            },
            "outputs": [],
            "source": []
        },
        {
            "cell_type": "code",
            "execution_count": null,
            "metadata": {
                "azdata_cell_guid": "00cf2f68-d620-47a0-b5d6-75551e4fddba",
                "language": "sql"
            },
            "outputs": [],
            "source": [
                "WITH n_amostras AS (\n",
                "\tSELECT\n",
                "\t\ts.zcomplex\t\t\t\tAS [Complexo]\n",
                "\t\t,s.[Name]\t\t\t\tAS [Codigo HGA]\n",
                "\t\t,COUNT(a.sample_id)\t\tAS [N Amostras]\n",
                "\tFROM parameter_sample a\n",
                "\t\tJOIN station s\n",
                "\t\t\tON a.Station = s.ID\n",
                "\tGROUP BY s.zcomplex, s.Name\n",
                "),\n",
                "\n",
                "top_3 AS (\n",
                "\tSELECT\n",
                "\t\tn_amostras.*\n",
                "\t\t,ROW_NUMBER() OVER(PARTITION BY n_amostras.Complexo ORDER BY n_amostras.[N Amostras] DESC)\tAS rn\n",
                "\tFROM n_amostras \n",
                ")\n",
                "\n",
                "SELECT *\n",
                "FROM top_3\n",
                "WHERE rn <= 3"
            ]
        },
        {
            "cell_type": "code",
            "execution_count": null,
            "metadata": {
                "azdata_cell_guid": "0303de82-325d-4bd4-bc52-3b01365ca932",
                "language": "sql"
            },
            "outputs": [],
            "source": [
                "-- Função RANK()\n",
                "\n",
                "SELECT\n",
                "    s.zcomplex\t\t\t\tAS [Complexo]\n",
                "    ,s.[Name]\t\t\t\tAS [Codigo HGA]\n",
                "    ,COUNT(a.sample_id)\t\tAS [N Amostras]\n",
                "    ,RANK() OVER(PARTITION BY s.zcomplex ORDER BY COUNT(a.sample_id) DESC) AS [Ranking]\n",
                "FROM parameter_sample a\n",
                "    JOIN station s\n",
                "        ON a.Station = s.ID\n",
                "GROUP BY s.zcomplex, s.Name"
            ]
        },
        {
            "cell_type": "code",
            "execution_count": null,
            "metadata": {
                "azdata_cell_guid": "f9b04ae2-30e3-47fe-a1b2-8b327d4ace60",
                "language": "sql"
            },
            "outputs": [],
            "source": [
                "-- Outras funções de RANKING\n",
                "\n",
                "WITH rank AS (\n",
                "    SELECT\n",
                "        s.zcomplex\t\t\t\tAS [Complexo]\n",
                "        ,s.[Name]\t\t\t\tAS [Codigo HGA]\n",
                "        ,COUNT(a.sample_id)\t\tAS [N Amostras]\n",
                "        ,RANK() OVER(PARTITION BY s.zcomplex ORDER BY COUNT(a.sample_id) DESC) AS [Ranking]\n",
                "        -- ,DENSE_RANK() OVER(PARTITION BY s.zcomplex ORDER BY COUNT(a.sample_id) DESC) AS [Dense_Ranking]\n",
                "        -- ,NTILE(10) OVER(PARTITION BY s.zcomplex ORDER BY COUNT(a.sample_id) DESC) AS [Quartil]\n",
                "    FROM parameter_sample a\n",
                "        JOIN station s\n",
                "            ON a.Station = s.ID\n",
                "    GROUP BY s.zcomplex, s.Name\n",
                ")\n",
                "\n",
                "SELECT * FROM rank WHERE Ranking <= 3"
            ]
        },
        {
            "attachments": {},
            "cell_type": "markdown",
            "metadata": {
                "azdata_cell_guid": "e2c4ddf2-1bcc-4613-bc32-9af3cd4b458d"
            },
            "source": [
                "### Window + Agregação "
            ]
        },
        {
            "cell_type": "code",
            "execution_count": null,
            "metadata": {
                "azdata_cell_guid": "7d437361-f652-44b5-b419-28f7c658c25b",
                "language": "sql"
            },
            "outputs": [],
            "source": [
                "SELECT DISTINCT\n",
                "    s.Name\n",
                "    ,s.zmatrix\n",
                "    ,s.zcomplex\n",
                "    ,s.stn_type\n",
                "    ,COUNT(a.sample_id) OVER(PARTITION BY s.Name)       AS [Qtde Ponto]\n",
                "    ,COUNT(a.sample_id) OVER(PARTITION BY s.stn_type)   AS [Qtde Tipo]\n",
                "    ,COUNT(a.sample_id) OVER(PARTITION BY s.zcomplex)   AS [Qtde Complexo]\n",
                "FROM station s\n",
                "    JOIN parameter_sample a\n",
                "        ON s.ID = a.Station"
            ]
        },
        {
            "cell_type": "code",
            "execution_count": null,
            "metadata": {
                "azdata_cell_guid": "f1dd6e6a-6afe-49c9-b243-374cd7cdc738",
                "language": "sql"
            },
            "outputs": [],
            "source": [
                "WITH groups AS (\n",
                "    SELECT DISTINCT\n",
                "        s.Name\n",
                "        ,s.zmatrix\n",
                "        ,s.zcomplex\n",
                "        ,s.stn_type\n",
                "        ,COUNT(a.sample_id) OVER(PARTITION BY s.Name)       AS [Qtde Ponto]\n",
                "        ,COUNT(a.sample_id) OVER(PARTITION BY s.stn_type)   AS [Qtde Tipo]\n",
                "        ,COUNT(a.sample_id) OVER(PARTITION BY s.zcomplex)   AS [Qtde Complexo]\n",
                "    FROM station s\n",
                "        JOIN parameter_sample a\n",
                "            ON s.ID = a.Station\n",
                ")\n",
                "\n",
                "SELECT\n",
                "    groups.*\n",
                "    ,[Representatividade %] = [Qtde Ponto] / [Qtde Tipo]\n",
                "    -- ,[Representatividade %] = CAST([Qtde Ponto] AS FLOAT) / CAST([Qtde Tipo] AS FLOAT)\n",
                "FROM groups"
            ]
        },
        {
            "attachments": {},
            "cell_type": "markdown",
            "metadata": {
                "azdata_cell_guid": "aba4a18d-b5fa-4a94-b3fb-3ed5c458a038"
            },
            "source": [
                "📚 Recomendações de leitura:\n",
                "\n",
                "- [SQL: Window Function I – Revisão dos Conceitos.](https://managebi.com/2022/09/30/sql-window-function-conceitos)\n",
                "- [Ranking Functions (T-SQL)](https://learn.microsoft.com/en-us/sql/t-sql/functions/ranking-functions-transact-sql?view=sql-server-ver16)\n",
                "- [SQL Window Functions](https://mode.com/sql-tutorial/sql-window-functions/)\n",
                "- [How to Use Window Functions in SQL – with Example Queries](https://www.freecodecamp.org/news/window-functions-in-sql/)"
            ]
        },
        {
            "attachments": {},
            "cell_type": "markdown",
            "metadata": {
                "azdata_cell_guid": "2ffd3868-3902-4cb0-a139-e789dcc2c380"
            },
            "source": [
                "# Pivotando dados - PIVOT 💃\n",
                "\n",
                "Operações de \"**pivotagem**\" para transpor linhas para colunas, são úteis em vários cenários, como o *one-hot encoding* de dados categóricos antes de aplicar modelos de aprendizado de máquina em Python ou simplesmente para melhor formatação.\n",
                "\n",
                "Uma boa forma de pensar sobre **pivotagem** é a utilização de uma coluna (**pivô**) para rearranjar a visualização da tabela de um formato mais compacto para um formato mais amplo (menos para mais colunas). \n",
                "\n",
                "A clássica ferramenta de **tabela dinâmica (*pivot table*)** do Excel é um ótimo exemplo.\n",
                "\n",
                "![tDin](../img/aula03/pivot_table.png)\n",
                "\n",
                "Quando vamos **pivotar** os dados, é útil saber quais os valores únicos da coluna que está sendo pivotada. No SQL, utilizamos a função `PIVOT` para realizar esta operação."
            ]
        },
        {
            "attachments": {},
            "cell_type": "markdown",
            "metadata": {
                "azdata_cell_guid": "35480fe7-306d-41eb-8a74-242da78fe82d"
            },
            "source": [
                "### Exemplo: Pluviometria acumulada mensal para o ponto ID = 404"
            ]
        },
        {
            "cell_type": "code",
            "execution_count": null,
            "metadata": {
                "azdata_cell_guid": "717cd362-f180-4503-9da0-fe67ced4cffe",
                "language": "sql",
                "tags": []
            },
            "outputs": [],
            "source": [
                "SELECT \n",
                "    Station\n",
                "    ,MONTH([date_])                                             AS [Mês]\n",
                "    ,IIF(MONTH([date_]) BETWEEN 4 AND 9, 'Seco', 'Chuvoso' )    AS [Período]\n",
                "    ,YEAR([date_])                                              AS [Ano]\n",
                "    ,SUM([total_precipitation])                                 AS [Precipitacao]\n",
                "FROM [meteorology]\n",
                "WHERE Station = 404\n",
                "GROUP BY Station, YEAR([date_]), MONTH([date_])\n",
                "ORDER BY Station, YEAR([date_]), MONTH([date_])"
            ]
        },
        {
            "cell_type": "code",
            "execution_count": null,
            "metadata": {
                "azdata_cell_guid": "572d9d4e-7885-4583-aa01-b91c2a70f4db",
                "language": "sql"
            },
            "outputs": [],
            "source": [
                "WITH chuva AS (\n",
                "      SELECT \n",
                "            Station\n",
                "            -- ,MONTH([date_])                                             AS [Mês]\n",
                "            ,IIF(MONTH([date_]) BETWEEN 4 AND 9, 'Seco', 'Chuvoso')     AS [Período]\n",
                "            ,YEAR([date_])                                              AS [Ano]\n",
                "            ,SUM([total_precipitation])                                 AS [Precipitacao]\n",
                "      FROM [meteorology]\n",
                "      WHERE Station = 404\n",
                "      GROUP BY Station, YEAR([date_]), MONTH([date_])\n",
                ")\n",
                "\n",
                "-- -- Verificar valores únicos na coluna a ser pivotada\n",
                "-- SELECT DISTINCT [Período] FROM [precipitacao]\n",
                "\n",
                "-- Pivotar coluna [Período] somando as precipitacoes\n",
                "SELECT Station, Ano, [Seco], [Chuvoso], [Seco] + [Chuvoso] AS [Total]\n",
                "FROM [chuva]\n",
                "PIVOT\n",
                "(\n",
                "\tSUM([Precipitacao]) \n",
                "\tFOR [Período] IN ([Seco], [Chuvoso])\n",
                ") AS pivot_table;"
            ]
        },
        {
            "attachments": {},
            "cell_type": "markdown",
            "metadata": {
                "azdata_cell_guid": "a647a96c-49e8-4388-9d68-f3e3c0d6a2b5"
            },
            "source": [
                "#  Pivotando dados - UNPIVOT 💃\n",
                "\n",
                "**Unpivoting** data so that you have columns being transposed to rows is useful when trying to structure/format your data consistently for different analytical software programs or for presentation purposes.\n",
                "\n",
                "A good way to think about **unpivoting** is that you are going from your table being wider and shorter to it being thinner and longer.\n",
                "\n",
                "To **unpivot** your data, it is quite involved to describe at a high-level so the example below will provide a better description of how it works.\n",
                "\n",
                "A operação inversa da **pivotagem** (\"despivotagem\" ou \"*unpivot*\"), descrita anteriormente, se dá pela transposição de colunas para linhas (mais para menos colunas). Esta é uma operação útil para estruturar/formatar dados no formato tabular (normalmente trabalhado em bancos de dados ou sistemas em geral).\n",
                "\n",
                "No SQL, usamos a função `UNPIVOT` para executar esta operação."
            ]
        },
        {
            "attachments": {},
            "cell_type": "markdown",
            "metadata": {
                "azdata_cell_guid": "14d28032-2caf-4e24-a20f-4840836a7e96"
            },
            "source": [
                "### Exemplo: Convertendo tabela _\"field_measurements\"_ para o formato tabular."
            ]
        },
        {
            "cell_type": "code",
            "execution_count": null,
            "metadata": {
                "azdata_cell_guid": "a9a3f924-6a44-4850-bb4f-af934a9170e2",
                "language": "sql"
            },
            "outputs": [],
            "source": [
                "SELECT TOP 10 * FROM field_measurements\n",
                "SELECT TOP 10 * FROM parameter_result   "
            ]
        },
        {
            "cell_type": "code",
            "execution_count": null,
            "metadata": {
                "azdata_cell_guid": "d7cfe9af-3cf8-42c4-b65e-0b459807d49c",
                "language": "sql"
            },
            "outputs": [],
            "source": [
                "-- Aplicar operação inversa da pivotagem na tabela field_measurements\n",
                "\n",
                "SELECT\n",
                "\tStation\n",
                "\t,[fm_date]\t\t\t\tAS [Data Amostra]\n",
                "\t,measurement_method\t\tAS [Metodo Amostra]\n",
                "\t,[Parametro]\n",
                "\t,[Resultado Original]\n",
                "FROM field_measurements\n",
                "UNPIVOT\n",
                "(\n",
                "\t[Resultado Original]\n",
                "\tFOR [Parametro] IN ([ph], [temperature], [conductivity], [zorp], [total_dissolved_solids], [dissolved_oxygen], [zresistivity], [zturbidity], [zpressure])\n",
                ") AS tabular;"
            ]
        },
        {
            "cell_type": "code",
            "execution_count": null,
            "metadata": {
                "azdata_cell_guid": "af4437a2-9dd6-4cb4-88f4-39c513d72de5",
                "language": "sql"
            },
            "outputs": [],
            "source": [
                "-- Renomear os parâmetros\n",
                "\n",
                "WITH field_measurements_renamed AS (\n",
                "    SELECT\n",
                "        Station\n",
                "        ,[fm_date]                      AS [Data Amostra]\n",
                "        ,[ph]                           AS [pH]\n",
                "        ,[temperature]                  AS [Temperatura]\n",
                "        ,[conductivity]                 AS [Condutividade Elétrica]\n",
                "        ,[zorp]                         AS [ORP]\n",
                "        ,[total_dissolved_solids]       AS [Solidos Totais Dissolvidos]\n",
                "        ,[dissolved_oxygen]             AS [Oxigênio Dissolvido]\n",
                "        ,[zresistivity]                 AS [Resistividade]\n",
                "        ,[zturbidity]                   AS [Turbidez]\n",
                "        ,[zpressure]                    AS [Pressão]\n",
                "        ,[measurement_method]           AS [Metodo Amostra]\n",
                "    FROM field_measurements f\n",
                ")\n",
                "\n",
                "SELECT\n",
                "\tStation\n",
                "\t,[Data Amostra]\n",
                "    ,[Metodo Amostra]\n",
                "\t,[Parametro]\n",
                "\t,[Resultado Original]\n",
                "FROM field_measurements_renamed\n",
                "UNPIVOT\n",
                "(\n",
                "\t[Resultado Original]\n",
                "\tFOR [Parametro] IN (\n",
                "        [pH], [Temperatura], [Condutividade Elétrica], [ORP], [Solidos Totais Dissolvidos], [Oxigênio Dissolvido], [Resistividade], [Turbidez], [Pressão]\n",
                "    )\n",
                ") AS tabular;"
            ]
        }
    ],
    "metadata": {
        "kernelspec": {
            "display_name": "SQL",
            "language": "sql",
            "name": "SQL"
        },
        "language_info": {
            "name": "sql",
            "version": ""
        }
    },
    "nbformat": 4,
    "nbformat_minor": 2
}

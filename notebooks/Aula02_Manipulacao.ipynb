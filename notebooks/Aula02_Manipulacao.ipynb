{
    "cells": [
        {
            "cell_type": "markdown",
            "metadata": {
                "azdata_cell_guid": "e775b7bb-a8b2-41e1-af33-b9040c479c48"
            },
            "source": [
                "# Manipulação de dados com SQL 🦑\n",
                "\n",
                "![SQL](../img/aula02/sql_2.png)"
            ]
        },
        {
            "cell_type": "markdown",
            "metadata": {
                "azdata_cell_guid": "4661f66a-8dcf-4c10-b94f-882541fe7a60"
            },
            "source": [
                "## Revisão Aula 01\n",
                "\n",
                "![Grupos SQL](../img/aula01/grupos_sql.png)\n",
                "\n",
                "Os tipos da linguagem SQL são:\n",
                "\n",
                "- **DQL - Data Query Language** - Linguagem de Consulta de dados.\n",
                "    - São os comandos de consulta. Exemplos: `SELECT`, `FROM`\n",
                "- **DML - Data Manipulation Language** - Linguagem de Manipulação de Dados.\n",
                "    - São os comandos que interagem com os dados dentro das tabelas. Exemplos: `INSERT`, `DELETE`, e `UPDATE`."
            ]
        },
        {
            "cell_type": "markdown",
            "metadata": {
                "azdata_cell_guid": "7686e534-a121-409e-b4e3-4f9d5e820296"
            },
            "source": [
                "### Ordem de execução dos comandos SQL\n",
                "\n",
                "O SQL Server não faz o processamento dos dados na ordem de escrita, internamente o SQL Server segue a seguinte ordem:\n",
                "\n",
                "![Execution Order](../img/aula01/execution_order.png)"
            ]
        },
        {
            "attachments": {},
            "cell_type": "markdown",
            "metadata": {
                "azdata_cell_guid": "f5cc2b4d-23ad-42ba-ba86-cc261417caf8"
            },
            "source": [
                "## Funções de agregação 🍹\n",
                "\n",
                "Para obter agregações, a partir de dados agregados, como a contagem de todos os registros pertencentes a uma categoria, precisamos utilizar a instrução `GROUP BY` combinada com uma das funções de agregação, `SUM()`, `COUNT()`, `AVG()`, `MAX()`, `MIN()` _etc_.\n",
                "\n",
                "Funções SQL Server: [Aggregate Functions (Transact-SQL) - SQL Server | Microsoft Learn](https:\\learn.microsoft.com\\en-us\\sql\\t-sql\\functions\\aggregate-functions-transact-sql?view=sql-server-ver16)"
            ]
        },
        {
            "cell_type": "code",
            "execution_count": null,
            "metadata": {
                "azdata_cell_guid": "bfd4c7b9-07d3-469d-809d-d49e09147c3c",
                "language": "sql"
            },
            "outputs": [],
            "source": [
                "USE [SQL_TREINAMENTO]\n",
                "GO"
            ]
        },
        {
            "cell_type": "code",
            "execution_count": null,
            "metadata": {
                "azdata_cell_guid": "f3f3264f-3810-48d0-b0e0-6dea5c96af03",
                "language": "sql"
            },
            "outputs": [],
            "source": [
                "-- Contagem de pontos cadastrados por matriz\n",
                "SELECT\n",
                "    zmatrix        AS [Matriz]\n",
                "    ,COUNT(ID)     AS [Qtde Pontos]\n",
                "FROM station\n",
                "-- GROUP BY [Matriz]       -- Syntax error\n",
                "GROUP BY [zmatrix]\n",
                "-- ORDER BY COUNT(ID)\n",
                "-- ORDER BY [Qtde Pontos]"
            ]
        },
        {
            "cell_type": "code",
            "execution_count": null,
            "metadata": {
                "azdata_cell_guid": "aa75cceb-bf66-4496-bd55-c68e19220ba7",
                "language": "sql"
            },
            "outputs": [],
            "source": [
                "-- Estatísticas do NA subterrâneo por ponto\n",
                "SELECT\n",
                "    Station\n",
                "    ,COUNT(Station)         AS [Medições]\n",
                "    ,MIN(zwl_elevation)     AS [NA Min]\n",
                "    ,AVG(zwl_elevation)     AS [NA Médio]\n",
                "    ,MAX(zwl_elevation)     AS [NA Max]\n",
                "FROM gw_level\n",
                "GROUP BY Station"
            ]
        },
        {
            "cell_type": "code",
            "execution_count": null,
            "metadata": {
                "azdata_cell_guid": "f7f61587-50d5-4c59-9e86-3c8620c38607",
                "language": "sql"
            },
            "outputs": [],
            "source": [
                "-- Estatísticas do NA subterrâneo por ponto e ano\n",
                "SELECT\n",
                "    Station\n",
                "    ,YEAR(date_)                      AS [Ano]\n",
                "    ,COUNT(Station)                   AS [Medições]\n",
                "    ,ROUND(MIN(zwl_elevation), 2)     AS [NA Mínimo]\n",
                "    ,ROUND(AVG(zwl_elevation), 2)     AS [NA Médio]\n",
                "    ,ROUND(MAX(zwl_elevation), 2)     AS [NA Máximo]\n",
                "FROM gw_level\n",
                "WHERE\n",
                "    Station IN (88, 89, 93, 203, 208)\n",
                "GROUP BY Station, YEAR(date_)\n",
                "ORDER BY Station, [Ano]"
            ]
        },
        {
            "attachments": {},
            "cell_type": "markdown",
            "metadata": {
                "azdata_cell_guid": "af99b0eb-37a4-47ee-b9b6-a5cfb7412d3c"
            },
            "source": [
                "Para aplicar filtros aos grupos agregados, não é possível utilizar o operador `WHERE`. Para isto, devemos usar a instrução `HAVING`.\n",
                "\n",
                "> Ex.: Retornar as mesmas estatísticas anteriores, apenas para grupos com mais de 10 observações..."
            ]
        },
        {
            "cell_type": "code",
            "execution_count": null,
            "metadata": {
                "azdata_cell_guid": "2e2993ab-2d36-4291-94e5-ff4dc1740c07",
                "language": "sql"
            },
            "outputs": [],
            "source": [
                "SELECT\n",
                "    Station\n",
                "    ,YEAR(date_)                      AS [Ano]\n",
                "    ,COUNT(Station)                   AS [Medições]\n",
                "    ,ROUND(MIN(zwl_elevation), 2)     AS [NA Mínimo]\n",
                "    ,ROUND(AVG(zwl_elevation), 2)     AS [NA Médio]\n",
                "    ,ROUND(MAX(zwl_elevation), 2)     AS [NA Máximo]\n",
                "FROM gw_level\n",
                "WHERE\n",
                "    Station IN (88, 89, 93, 203, 208)\n",
                "    AND COUNT(Station) > 10\n",
                "GROUP BY Station, YEAR(date_)\n",
                "-- HAVING COUNT(Station) > 10\n",
                "ORDER BY Station, [Ano]"
            ]
        },
        {
            "cell_type": "markdown",
            "metadata": {
                "azdata_cell_guid": "9ad02732-9b82-41b4-997f-082740886932"
            },
            "source": [
                "## Mesclar múltiplas tabelas - JOINs 🤺\n",
                "\n",
                "Para unir várias tabelas e trazer colunas adicionais, faremos uso do operador `JOIN`, na instrução `FROM`.\n",
                "\n",
                "A sintaxe básica é: `FROM <tabela_A> [LEFT/RIGHT/INNER/FULL] JOIN <tabela_B> ON <tabela_A.coluna_A> = <tabela_B.coluna_B>`\n",
                "\n",
                "> **DICA:** Quando se executa um `LEFT/RIGHT JOIN` e são retornados mais registros do que haviam inicialmente na tabela *left* ou *right*, possivelmente há registros duplicados (**de acordo com o critério utilizado no JOIN**)."
            ]
        },
        {
            "cell_type": "markdown",
            "metadata": {
                "azdata_cell_guid": "98ab5dff-9e4e-4693-865f-9cfa061f7e50"
            },
            "source": [
                "![SQL Join Image](../img/aula02/join_types0.jpg \"SQL Join image\")"
            ]
        },
        {
            "cell_type": "markdown",
            "metadata": {
                "azdata_cell_guid": "228f9a39-5844-4503-981b-c704598c2692"
            },
            "source": [
                "![SQL Join Image](../img/aula02/join_types.png \"SQL Join image\")"
            ]
        },
        {
            "cell_type": "code",
            "execution_count": null,
            "metadata": {
                "azdata_cell_guid": "ee8c3300-a26f-4b0f-9fb7-5106e20171d0",
                "language": "sql"
            },
            "outputs": [],
            "source": [
                "-- Mesmo agrupamento anterior, apenas para os pontos da \"Mina B\"\n",
                "\n",
                "SELECT TOP 100 *\n",
                "FROM gw_level\n",
                "\n",
                "[...]"
            ]
        },
        {
            "cell_type": "code",
            "execution_count": null,
            "metadata": {
                "azdata_cell_guid": "c8ff557f-42ab-4da0-924e-a288e2f9d315",
                "language": "sql"
            },
            "outputs": [],
            "source": [
                "SELECT TOP 5 * FROM station\n",
                "SELECT TOP 5 * FROM gw_level"
            ]
        },
        {
            "cell_type": "code",
            "execution_count": null,
            "metadata": {
                "azdata_cell_guid": "a5ded6aa-5596-4e15-97cb-9c41a44e2069",
                "language": "sql",
                "tags": [
                    "hide_input"
                ]
            },
            "outputs": [],
            "source": [
                "SELECT \n",
                "    vt.Name AS [TableName]\n",
                "    ,vf.Name AS [FieldName]\n",
                "    ,vf.[Description]\n",
                "FROM ViewField vf\n",
                "    JOIN ViewTable vt\n",
                "        ON vf.ViewTable_Id = vt.Id\n",
                "WHERE\n",
                "    (vt.Name = 'station' AND vf.Name = 'ID')\n",
                "    OR (vt.Name = 'gw_level' AND vf.Name = 'Station')"
            ]
        },
        {
            "cell_type": "code",
            "execution_count": null,
            "metadata": {
                "azdata_cell_guid": "a0c92513-c065-4732-82b7-7ec1d1df8715",
                "language": "sql"
            },
            "outputs": [],
            "source": [
                "-- Referenciar tabelas e colunas correspondentes\n",
                "\n",
                "SELECT TOP 100\n",
                "    -- *\n",
                "    -- [zdata_source]\n",
                "    station.[Name]\n",
                "    ,station.[zlocation]\n",
                "    ,station.[stn_type]\n",
                "    ,gw_level.[date_]\n",
                "    ,gw_level.[zwl_elevation]\n",
                "    ,gw_level.[depth_]\n",
                "FROM gw_level\n",
                "    JOIN station    -- INNER\n",
                "        ON gw_level.Station = station.ID"
            ]
        },
        {
            "cell_type": "code",
            "execution_count": null,
            "metadata": {
                "azdata_cell_guid": "25ed5dbc-15cd-4c5e-853e-4b512bf2f270",
                "language": "sql"
            },
            "outputs": [],
            "source": [
                "SELECT\n",
                "    s.[Name]                                AS [Codigo HGA]\n",
                "    ,YEAR(gw.date_)                         AS [Ano]\n",
                "    ,COUNT(gw.Station)                      AS [Medições]\n",
                "    ,ROUND(MIN(gw.zwl_elevation), 2)        AS [NA Mínimo]\n",
                "    ,ROUND(AVG(gw.zwl_elevation), 2)        AS [NA Médio]\n",
                "    ,ROUND(MAX(gw.zwl_elevation), 2)        AS [NA Máximo]\n",
                "FROM gw_level gw\n",
                "    INNER JOIN station s\n",
                "        ON gw.Station = s.ID\n",
                "WHERE s.zlocation = 'Mina B'\n",
                "GROUP BY s.[Name], YEAR(gw.date_)"
            ]
        },
        {
            "attachments": {},
            "cell_type": "markdown",
            "metadata": {
                "azdata_cell_guid": "59646060-3d98-44af-a1a5-c22acdd37940"
            },
            "source": [
                "> **DICA:** Quando não se conhece bem a modelagem e a relação entre as tabelas, pode-se utilizar alguma ferramenta de _Query Builder_ (SSMS, Excel, Power BI, **HGA** _etc_)."
            ]
        },
        {
            "attachments": {},
            "cell_type": "markdown",
            "metadata": {
                "azdata_cell_guid": "6dbf8a4d-c50b-43ab-819b-7694fa417117"
            },
            "source": [
                "## `INNER JOIN` _vs_ `LEFT JOIN`"
            ]
        },
        {
            "cell_type": "code",
            "execution_count": null,
            "metadata": {
                "azdata_cell_guid": "1c4e9099-1ef5-456a-a913-33583d092eec",
                "language": "sql"
            },
            "outputs": [],
            "source": [
                "-- INNER JOIN\n",
                "SELECT COUNT(s.ID) AS [Qtde]\n",
                "FROM gw_level gw \n",
                "    INNER JOIN station s\n",
                "        ON gw.Station = s.ID"
            ]
        },
        {
            "cell_type": "code",
            "execution_count": null,
            "metadata": {
                "azdata_cell_guid": "9479d5af-4be3-42b1-be5b-7ac786e80d90",
                "language": "sql"
            },
            "outputs": [],
            "source": [
                "-- LEFT JOIN: gw_level + station\n",
                "SELECT COUNT(s.ID) AS [Qtde]\n",
                "FROM gw_level gw \n",
                "    LEFT JOIN station s\n",
                "        ON gw.Station = s.ID"
            ]
        },
        {
            "cell_type": "code",
            "execution_count": null,
            "metadata": {
                "azdata_cell_guid": "7bc6f405-7abe-456b-be6b-02de1cdbdbb8",
                "language": "sql"
            },
            "outputs": [],
            "source": [
                "-- LEFT JOIN: station + gw_level\n",
                "SELECT COUNT(s.ID) AS [Qtde]\n",
                "FROM station s\n",
                "    LEFT JOIN gw_level gw\n",
                "        ON s.ID = gw.Station\n",
                "-- WHERE gw.Station IS NULL"
            ]
        },
        {
            "cell_type": "code",
            "execution_count": null,
            "metadata": {
                "azdata_cell_guid": "ad7e26fd-0eba-41fb-9b85-99284267c291",
                "language": "sql"
            },
            "outputs": [],
            "source": [
                "SELECT TOP 100\n",
                "    s.Name          AS [Codigo HGA]\n",
                "    ,l.from_        AS [De (m)]\n",
                "    ,l.to_          AS [Ate (m)]\n",
                "    ,l.soil_type    AS [Litologia]\n",
                "FROM station s\n",
                "    LEFT JOIN lithology l\n",
                "        ON s.ID = l.Station\n",
                "WHERE s.zmatrix = 'Agua Subterranea'"
            ]
        },
        {
            "cell_type": "code",
            "execution_count": null,
            "metadata": {
                "azdata_cell_guid": "18b6b055-42e8-45fa-9fdb-731799d6a466",
                "language": "sql"
            },
            "outputs": [],
            "source": [
                "SELECT\n",
                "    s.Name          AS [Codigo HGA]\n",
                "    ,s.stn_type     AS [Tipo Ponto]\n",
                "    ,s.zcomplex     AS [Complexo]\n",
                "FROM station s\n",
                "    LEFT JOIN lithology l\n",
                "        ON s.ID = l.Station\n",
                "WHERE s.stn_type LIKE 'Poco%'\n",
                "    AND l.soil_type IS NULL"
            ]
        },
        {
            "cell_type": "markdown",
            "metadata": {
                "azdata_cell_guid": "97503f8e-d07f-4793-b993-e33e4a35c38c"
            },
            "source": [
                "## \"Concatenando\" tabelas\n",
                "\n",
                "Para anexar tabelas contendo os mesmos campos, podemos utilizar o operador `UNION` entre vários `SELECT <coluna_1>...<column_name_n> FROM <tabela>`.\n",
                "\n",
                "> **DICA:** `UNION` reúne apenas linhas distintas entre as tabelas (remove duplicidades), enquanto `UNION ALL` reúne todas as linhas entre as tabelas, incluindo as duplicadas."
            ]
        },
        {
            "cell_type": "code",
            "execution_count": null,
            "metadata": {
                "azdata_cell_guid": "467b23ce-428d-40c1-b76e-2cd4820d90cf",
                "language": "sql"
            },
            "outputs": [],
            "source": [
                "-- Retornar todos os pontos das minas A e D\n",
                "SELECT \n",
                "    [Name]\n",
                "    ,zmatrix            AS [Matriz]\n",
                "    ,stn_type           AS [Tipo Ponto]\n",
                "    ,zlocation          AS [Local]\n",
                "FROM station\n",
                "WHERE [zlocation] = 'Mina A'\n",
                "\n",
                "UNION\n",
                "-- UNION ALL\n",
                "\n",
                "SELECT \n",
                "    [Name]\n",
                "    ,zmatrix            AS [Matriz]\n",
                "    ,stn_type           AS [Tipo Ponto]\n",
                "    ,zlocation          AS [Local]\n",
                "    -- ,zcomplex           AS [Complexo]\n",
                "FROM station\n",
                "WHERE [zlocation] = 'Mina D'"
            ]
        },
        {
            "cell_type": "code",
            "execution_count": null,
            "metadata": {
                "azdata_cell_guid": "fba7ecd8-86db-4195-bed4-5792530114f6",
                "language": "sql"
            },
            "outputs": [],
            "source": [
                "-- Retornar todos os pontos das minas A e D\n",
                "SELECT \n",
                "    [Name]\n",
                "    ,zmatrix            AS [Matriz]\n",
                "    ,stn_type           AS [Tipo Ponto]\n",
                "    ,zlocation          AS [Local]\n",
                "FROM station\n",
                "WHERE [zlocation] IN ('Mina A', 'Mina D')"
            ]
        },
        {
            "attachments": {},
            "cell_type": "markdown",
            "metadata": {
                "azdata_cell_guid": "606d00fa-497b-4bc1-ab49-fd4b1c41c16e"
            },
            "source": [
                "# Subqueries 🤹‍♀️\n",
                "\n",
                "Semelhante às **tabelas temporárias**, ***subqueries*** são uma maneira alternativa de armazenar resultados temporários de suas consultas para executar novas consultas na sequência.\n",
                "\n",
                "Para criar uma **_subquery_**, basta criar uma segunda estrutura `SELECT ... FROM ...`, dentro da cláusula `...FROM (...) ...` ou `... WHERE (...) ...` da primeira consulta.\n",
                "\n",
                "> **DICA:** **Subconsultas** às vezes são mais difíceis de ler e entender do que **tabelas temporárias**. O uso de tabelas **temporárias** permite separar sua lógica para criar a tabela em um formato ordenado intuitivamente."
            ]
        },
        {
            "attachments": {},
            "cell_type": "markdown",
            "metadata": {
                "azdata_cell_guid": "01f7c8ed-9ecf-464b-8c80-c4f0e2ac40c3",
                "language": "sql"
            },
            "source": [
                "## Exercício: Obter resultados de NA do ponto 'WST-88' acima da média"
            ]
        },
        {
            "cell_type": "code",
            "execution_count": null,
            "metadata": {
                "azdata_cell_guid": "e133f237-cf26-47e7-87c5-58540f21b779",
                "language": "sql"
            },
            "outputs": [],
            "source": [
                "-- Primeiro passo: Obter a média do ponto\n",
                "SELECT AVG(gw.zwl_elevation)        AS [NA Médio]\n",
                "FROM gw_level gw\n",
                "    INNER JOIN station s\n",
                "        ON gw.Station = s.ID\n",
                "WHERE s.[Name] = 'WST-88'\n",
                "\n",
                "-- Segundo passo: Selecionar novamente o conjunto de resultados,\n",
                "-- utilizando as médias calculadas\n",
                "SELECT TOP 100\n",
                "    s.[Name]            AS [Codigo HGA]\n",
                "    ,s.[stn_type]       AS [Tipo Ponto]\n",
                "    ,gw.date_           AS [Data]\n",
                "    ,gw.zwl_elevation   AS [Cota NA]\n",
                "FROM gw_level gw\n",
                "    INNER JOIN station s\n",
                "        ON gw.Station = s.ID\n",
                "WHERE zwl_elevation > (\n",
                "    SELECT AVG(gw.zwl_elevation)        AS [NA Médio]\n",
                "    FROM gw_level gw\n",
                "        INNER JOIN station s\n",
                "            ON gw.Station = s.ID\n",
                "    WHERE s.[Name] = 'WST-88'\n",
                ")"
            ]
        },
        {
            "attachments": {},
            "cell_type": "markdown",
            "metadata": {
                "azdata_cell_guid": "c5f32f9b-0c30-4067-a03a-2cc1e9b36813"
            },
            "source": [
                "### 🧠 **Pré-Desafio**:\n",
                "\n",
                "> ### Como seria possível obter os resultados de NA acima da média para os pontos 'WST-88' e 'WST-205' em uma única consulta ??\n",
                "\n",
                "Obs.: Não vale usar `UNION`/`UNION ALL` 😒\n",
                "\n",
                "******"
            ]
        },
        {
            "cell_type": "markdown",
            "metadata": {
                "azdata_cell_guid": "348ec0cc-80f4-4fe2-b7c9-df5d4c114a77"
            },
            "source": [
                "## Tabelas temporárias"
            ]
        },
        {
            "cell_type": "markdown",
            "metadata": {
                "azdata_cell_guid": "f5d26b7b-0c72-4774-b30f-2164d5df2759"
            },
            "source": [
                "### Tipos de tabelas temporárias 🍺🍷🍹\n",
                "\n",
                "**Tabelas temporárias** são úteis para consultas mais complicadas em que você precisa armazenar os resultados de uma transformação de tabela de forma intermediária para executar outra transformação na sequência.\n",
                "\n",
                "Existem três tipos de tabelas temporárias no SQL que poderá criar:\n",
                "1. Tabela temporária local\n",
                "2. ***Common Table Expression* - CTE**\n",
                "3. Tabela temporária global"
            ]
        },
        {
            "attachments": {},
            "cell_type": "markdown",
            "metadata": {
                "azdata_cell_guid": "55a96e93-fe33-485a-967a-6e74728685c1"
            },
            "source": [
                "#### i. Tabela temporária local\n",
                "Quando você cria uma tabela temporária **local**, ela será armazenanda temporariamente em sua sessão SQL atual. Dessa forma, podemos executar o trecho do código que cria a **tabela temporária local**, e em seguida, consultar os resultados e realizar diferentes operações de transformação neles depois.\n",
                "\n",
                "**Importante:** Quando criamos uma tabela **local**, seus resultados podem ser consultados apenas no mesmo painel onde o código para criá-la foi escrito.\n",
                "\n",
                "Para criar uma tabela temporária **local**, utilizamos a instrução `INTO #<temp_table_name>` logo antes de escrever a parte `FROM <table_name>...`.\n",
                "\n",
                "> **DICA:** Uma tabela temporária **local** não pode ser substituída, portanto, executar a consulta de criá-la novamente resultará em um erro. Portanto, a tabela precisa ser excluída antes de reexecutar a consulta. Uma maneira sucinta de evitar a criação de tabelas temporárias **locais** e, em seguida excluí-las, é incluir a seguinte linha no topo do seu código: `IF OBJECT_ID('tempdb..#<tabela>') IS NOT NULL DROP TABLE #<tabela>`"
            ]
        },
        {
            "cell_type": "code",
            "execution_count": null,
            "metadata": {
                "azdata_cell_guid": "396c5705-5358-418c-95de-dc47fa793bb2",
                "language": "sql"
            },
            "outputs": [],
            "source": [
                "-- Tabela temporária local\n",
                "\n",
                "IF OBJECT_ID('tempdb..#na_medio') IS NOT NULL DROP TABLE #na_medio\n",
                "GO\n",
                "\n",
                "SELECT AVG(gw.zwl_elevation)        AS [NA Médio]\n",
                "INTO #na_medio\n",
                "FROM gw_level gw\n",
                "    INNER JOIN station s\n",
                "        ON gw.Station = s.ID\n",
                "WHERE s.[Name] = 'WST-88'\n",
                "\n",
                "-- Segundo passo: Selecionar novamente o conjunto de resultados,\n",
                "-- utilizando as médias calculadas\n",
                "SELECT TOP 100\n",
                "    s.[Name]            AS [Codigo HGA]\n",
                "    ,s.[stn_type]       AS [Tipo Ponto]\n",
                "    ,gw.date_           AS [Data]\n",
                "    ,gw.zwl_elevation   AS [Cota NA]\n",
                "FROM gw_level gw\n",
                "    INNER JOIN station s\n",
                "        ON gw.Station = s.ID\n",
                "WHERE zwl_elevation > (SELECT * FROM #na_medio)"
            ]
        },
        {
            "cell_type": "markdown",
            "metadata": {
                "azdata_cell_guid": "df2c2832-92f0-4768-8a35-d5e90bb739b2"
            },
            "source": [
                "#### ii. Common Table Expression (CTE)\n",
                "Ao criar uma **CTE**, ela é armazenada temporariamente na **consulta atual**. Isso significa que os resultados da consulta não podem ser obtidos em uma parte posterior do código. Como a **CTE** não existe fora da consulta atual, não há necessidade de excluí-la explicitamente quando for necessário criá-la novamente.\n",
                "\n",
                "Para criar uma **CTE**, envolva sua instrução `SELECT...` entre parênteses do seguinte código, `WITH <cte_name> AS ()...`\n",
                "\n",
                "> **DICA:** À primeira vista, **CTE**s podem parecer inferiores às **tabelas temporárias locais**, mas elas são de fato muito poderosas. Devido à natureza em que eles só existem dentro da própria execução da consulta, eles podem ser usados na definição de **Views**, para inserir em uma tabela criada e como parte da criação de outros objetos SQL. **Tabelas temporárias locais** tipicamente não podem."
            ]
        },
        {
            "cell_type": "code",
            "execution_count": null,
            "metadata": {
                "azdata_cell_guid": "3c9d6121-9a19-4da1-aa86-3c905b1fcfbb",
                "language": "sql"
            },
            "outputs": [],
            "source": [
                "WITH na_medio AS (\n",
                "    SELECT AVG(gw.zwl_elevation)        AS [NA Médio]\n",
                "    FROM gw_level gw\n",
                "        INNER JOIN station s\n",
                "            ON gw.Station = s.ID\n",
                "    WHERE s.[Name] = 'WST-88'\n",
                ")\n",
                "\n",
                "SELECT TOP 100\n",
                "    s.[Name]            AS [Codigo HGA]\n",
                "    ,s.[stn_type]       AS [Tipo Ponto]\n",
                "    ,gw.date_           AS [Data]\n",
                "    ,gw.zwl_elevation   AS [Cota NA]\n",
                "FROM gw_level gw\n",
                "    INNER JOIN station s\n",
                "        ON gw.Station = s.ID\n",
                "WHERE zwl_elevation > (SELECT * FROM na_medio)"
            ]
        },
        {
            "cell_type": "markdown",
            "metadata": {
                "azdata_cell_guid": "d8a9d988-2fa9-409a-b6ec-45206aace11f"
            },
            "source": [
                "#### iii. Tabela temporária global\n",
                "Quando uma tabela temporária **global** é criada, ela é armazenada *permanentemente* no banco de dados, `[tempdb]`, permitindo que outros usuários do mesmo servidor possam acessá-la Em contraste com as outras duas tabelas temporárias (**tabelas temporárias locais** e **CTEs**), você precisa excluir explicitamente as tabelas globais.\n",
                "\n",
                "Criar uma tabela temporária **global** é como criar uma tabela temporária **local**, basta usar a instrução `INTO <##temp_table_name>` logo antes de escrever a parte `FROM <###table_name>...`. Observe a ênfase em dois símbolos hash, `##`, em vez de apenas um que é usado para **tabelas temporárias locais**.\n",
                "\n",
                "> **AVISO:** O banco de dados `[tempdb]` armazena essas tabelas temporárias **global***, e como esse banco de dados é um pouco invisível, pois está oculto no *Object Explorer* no SSMS, muitas vezes pode-se esquecer de excluir a tabela depois para economizar espaço. Por isso a criação uma tabela temporária **global** é raramente aconselhável. "
            ]
        },
        {
            "attachments": {},
            "cell_type": "markdown",
            "metadata": {
                "azdata_cell_guid": "ecea490b-446f-4b5d-8f14-ce5cd6016bcd"
            },
            "source": [
                "## Desafio: Dominando subqueries e CTE's\n",
                "\n",
                "Notebook completo: 📒 [Desafio Aula02](../desafios/aula02/Aula02_Challenge.ipynb)"
            ]
        }
    ],
    "metadata": {
        "kernelspec": {
            "display_name": "SQL",
            "language": "sql",
            "name": "SQL"
        },
        "language_info": {
            "name": "sql",
            "version": ""
        }
    },
    "nbformat": 4,
    "nbformat_minor": 2
}

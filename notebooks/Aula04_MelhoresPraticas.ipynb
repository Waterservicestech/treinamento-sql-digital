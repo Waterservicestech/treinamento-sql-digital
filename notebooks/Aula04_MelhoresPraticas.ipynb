{
    "cells": [
        {
            "cell_type": "markdown",
            "metadata": {},
            "source": [
                "# Melhores Práticas de SQL e Performance de consultas 🚀\n",
                "\n",
                "![Slow Query](../img/aula04/queries.jpg)"
            ]
        },
        {
            "cell_type": "markdown",
            "metadata": {},
            "source": [
                "## Revisão Aula 03\n",
                "\n",
                "![Grupos SQL](../img/aula01/grupos_sql.png)\n",
                "\n",
                "Os tipos da linguagem SQL são:\n",
                "\n",
                "- **DQL - Data Query Language** - Linguagem de Consulta de dados.\n",
                "    - São os comandos de consulta. Exemplos: `SELECT`, `FROM`\n",
                "- **DML - Data Manipulation Language** - Linguagem de Manipulação de Dados.\n",
                "    - São os comandos que interagem com os dados dentro das tabelas. Exemplos: `INSERT`, `DELETE`, e `UPDATE`.\n",
                "- DTL - Data Transaction Language - Linguagem de Transação de Dados.\n",
                "    - São os comandos para controle de transação. Exemplos: `BEGIN TRANSACTION`, `COMMIT` e `ROLLBACK`\n",
                "\n",
                "![UPDATE SEM WHERE](../img/aula03/update_sem_where_cert.png)\n",
                "\n",
                "### Window Functions\n",
                "![Window Functions](../img/aula04/window_functions.png)\n",
                "\n",
                "### Pivot | Unpivot\n",
                "![tDin](../img/aula03/pivot_table.png)\n",
                "\n",
                "***"
            ]
        },
        {
            "cell_type": "markdown",
            "metadata": {
                "azdata_cell_guid": "9e1a5d0f-7604-44a0-a952-87256d35af86"
            },
            "source": [
                "# Data matrix/tidy data principles 📋\n",
                "It is best practice from an analyst's perspective for tables to be formatted in data matrix/tidy data format. For a table to be formatted in this way, it must adhere to two things:\n",
                "- Each variable is a column\n",
                "- Each observation is a row\n",
                "\n",
                "It is best practice in the way that it standardises the way data is organised so the data cleaning process is easier and faster.\n",
                "\n",
                "Whereas for messy, datasets, you can think of them like this:\n",
                "> *Happy families are all alike; every unhappy family is unhappy in its own way* - Leo Tolstoy\n",
                "\n",
                "From this persepctive, you can imagine that a messy dataset requires some initial upfront cost to understand how it is structured before you can clean it.\n",
                "\n",
                "For a more thorough and example-laden discussion of tidy data principles, see this paper [here](https://cran.r-project.org/web/packages/tidyr/vignettes/tidy-data.html)\n",
                "\n",
                "> **TIP:** This principle applies more generally outside of SQL.\n",
                "\n",
                "**Note:** The query below is quite difficult but think of it in the way it incorporates several things we learnt today, can you spot them?"
            ]
        },
        {
            "cell_type": "code",
            "execution_count": 9,
            "metadata": {
                "azdata_cell_guid": "6f8719c9-a233-42fd-81da-dd40fa4c0c85"
            },
            "outputs": [],
            "source": [
                "-- create first table in messy format!\n",
                "WITH table_messy_a AS \n",
                "(\n",
                "    SELECT * \n",
                "    FROM \n",
                "    (\n",
                "        VALUES\n",
                "            ('Jane Smith', NULL, 18)\n",
                "            ,('Xi Tang', 4, 1)\n",
                "            ,('Park Min Woo', 6, 6)\n",
                "    ) AS table_sub ([PersonName], [Treatment_a], [Treatment_b])\n",
                ")\n",
                "SELECT * \n",
                "FROM table_messy_a;\n",
                "\n",
                "-- create second table in messy format!\n",
                "WITH table_messy_b AS\n",
                "(\n",
                "    SELECT *\n",
                "    FROM \n",
                "    (\n",
                "        VALUES\n",
                "            ('a', NULL, 4, 6)\n",
                "            ,('b', 18, 1, 6)\n",
                "    ) AS table_sub ([Treatment], [JaneSmith], [XiTang], [ParkMinWoo])\n",
                ")\n",
                "SELECT * \n",
                "FROM table_messy_b;"
            ]
        },
        {
            "cell_type": "code",
            "execution_count": 10,
            "metadata": {
                "azdata_cell_guid": "2e77bb75-df22-4138-aeca-96777119a3e2"
            },
            "outputs": [],
            "source": [
                "-- create above table in tidy format\n",
                "WITH table_tidy AS\n",
                "(\n",
                "    SELECT *\n",
                "    FROM\n",
                "    (\n",
                "        VALUES\n",
                "            ('Jane Smith', 'a', NULL)\n",
                "            ,('Jane SMith', 'b', 18)\n",
                "            ,('Xi Tang', 'a', 4)\n",
                "            ,('Xi Tang', 'b', 1)\n",
                "            ,('Park Min Woo', 'a', 6)\n",
                "            ,('Park Min Woo', 'b', 6)\n",
                "    ) AS table_sub ([PersonName], [TreatmentType], [TreatmentValue])\n",
                ")\n",
                "SELECT *\n",
                "FROM table_tidy;"
            ]
        },
        {
            "cell_type": "markdown",
            "metadata": {
                "azdata_cell_guid": "f2e59ace-da4c-4b66-81dd-af8e75fd54f9"
            },
            "source": [
                "*Aside: Whilst **data matrix/tidy data principles** are best practice for analysts, it is not for data architects working in SQL. Best practice for them would be to have tables in **long format**. Such a format enables total flexibility over table structure. This means when a new column needs to be added to a table, the table does not need to be deleted and created again with the new table (including the additional time required to import the data). Instead, such a format enables the additional column to be included as an extra row.* \n",
                "\n",
                "Further discussion of this is outside the scope of this training session, but if you want to find out more about this, then please read up on **snowflake schema** and **star schema**."
            ]
        },
        {
            "cell_type": "markdown",
            "metadata": {},
            "source": [
                "# Monitorar e ajustar desempenho 🚀"
            ]
        },
        {
            "cell_type": "markdown",
            "metadata": {},
            "source": [
                "## Como as consultas são executadas ?\n",
                "\n",
                "O *core* do SQL Server se baseia principalmente em dois componentes: o ***Storage Engine*** e o ***Query Processor***. O primeiro é responsável pelas operações de leitura/escrita de dados entre disco e memória de maneira otimizada. Já o segundo, como o nome sugere, recebe e analisa as consultas SQL, **gera um plano para sua execução otimizada** e retorna os resultados requisitados. \n",
                "\n",
                "![Query Optimizer](../img/aula04/query_optimizer.jpg)\n",
                "\n",
                "O plano de execução de uma consulta SQL é uma representação gráfica, textual ou em XML, que mostra **quais operadores e operações** que o otimizador de consultas fez para retornar os dados da sua query, além do custo de cada operação realizada."
            ]
        },
        {
            "cell_type": "markdown",
            "metadata": {},
            "source": [
                "### Analisando o plano de execução (*Query Execution Plan*) de uma consulta\n",
                "\n",
                "Para ativar a visualização do plano de execução da consulta, devemos utilizar a função ***Enable Actual Plan***, do Azure Data Studio ou ***Include Actual Execution Plan (Ctrl + M)***, do SSMS."
            ]
        },
        {
            "cell_type": "code",
            "execution_count": null,
            "metadata": {},
            "outputs": [],
            "source": [
                "-- Exemplo query Aula 01: Criando novas colunas\n",
                "\n",
                "SELECT\n",
                "    Station\n",
                "    ,sample_id      AS [ID Amostra]\n",
                "    ,sample_date    AS [Data Amostra]\n",
                "    ,sample_type    AS [Tipo Amostra]\n",
                "    ,CASE\n",
                "        WHEN sample_date <= '2019-01-01' THEN 'Pré Instalação'\n",
                "        WHEN sample_date <= '2022-05-01' THEN 'Durante Instalação'\n",
                "        -- Condições adicionais...\n",
                "        ELSE 'Pós Instalação'\n",
                "    END             AS [Período]\n",
                "FROM parameter_sample"
            ]
        },
        {
            "cell_type": "markdown",
            "metadata": {},
            "source": [
                "### Exercício 1: \n",
                "Vamos analisar os desempenhos das consultas propostas como soluções para o Desafio da Aula 01 (Cálculo da vazão operacional de poços)...\n",
                "\n",
                "> Dica: Podemos adicionar a instrução `SET STATISTICS IO, TIME ON;` antes da consulta, para gerar estatísticas adicionais."
            ]
        },
        {
            "cell_type": "markdown",
            "metadata": {},
            "source": [
                "1. Desconsiderando os campos **Hidrometro Inicial** e **Horimetro Inicial**:"
            ]
        },
        {
            "cell_type": "code",
            "execution_count": null,
            "metadata": {},
            "outputs": [],
            "source": [
                "-- Solução 01: Subqueries\n",
                "\n",
                "SELECT\n",
                "\two.Station\n",
                "\t,wo.zdate_                      AS [Data]\n",
                "\t,wo.previous_date\t\t\t\tAS [Ultima Data]\n",
                "\t,wo.zhourmeter_final \t\t\tAS [Horimetro]\n",
                "\t,wo.previous_hourmeter \t \t\tAS [Ultimo Horimetro]\n",
                "\t,wo.zhydrometer_final \t\t\tAS [Hidrometro]\n",
                "\t,wo.previous_hydrometer \t\tAS [Ultimo Hidrometro]\n",
                "\n",
                "\t-- Volume e Tempo operacional calculados\n",
                "\t,(wo.zhydrometer_final - wo.previous_hydrometer)\t\t\t\tAS [Volume (m3)]\n",
                "\t,ROUND((wo.zhourmeter_final - wo.previous_hourmeter), 2)\t\tAS [Horas Operacao (h)]\n",
                "\n",
                "\t-- Vazão calculada\n",
                "\t,ROUND(\n",
                "\t\t(wo.zhydrometer_final - wo.previous_hydrometer) / \n",
                "\t\tNULLIF(wo.zhourmeter_final - wo.previous_hourmeter, 0) -- Tratar erro de divisão por 0\n",
                "\t,3)\t\t\t\t\t\t\t\tAS [Vazao (m3/h)]\n",
                "\n",
                "\t,wo.zfrequency\t\t\t\t\tAS [Frequencia]\n",
                "\t,wo.[zdata_type]                AS [Tipo Dado]\n",
                "\t,wo.[zstatus]                   AS [Status]\n",
                "FROM ( \n",
                "\t SELECT \n",
                "        -- Retorna todos os campos da tabela well_operation (outer)\n",
                "\t \two_outer.*,\n",
                "\n",
                "        -- Retorna a data mais recente (TOP 1 ordenando pela Data)\n",
                "        -- de uma nova tabela well_operation (inner).\n",
                "        -- Função WHERE filtra sempre o mesmo ponto e apenas datas anteriores\n",
                "\t\t( \n",
                "\t\t\tSELECT TOP 1 wo_inner.[zdate_]\n",
                "\t\t\tFROM [zwell_operation] wo_inner\n",
                "\t\t\tWHERE wo_outer.[zdate_] > wo_inner.[zdate_] AND wo_outer.[Station] = wo_inner.[Station]\n",
                "\t\t\tORDER BY wo_inner.zdate_ DESC\n",
                "\t\t)                                       AS [previous_date],\n",
                "\n",
                "        -- Mesmo padrão para o registro mais recente,\n",
                "        -- mas desta vez retornando o campo [zhourmeter_final]\n",
                "\t\t( \n",
                "\t\t\tSELECT TOP 1 wo_inner.[zhourmeter_final]\n",
                "\t\t\tFROM [zwell_operation] wo_inner\n",
                "\t\t\tWHERE wo_outer.[zdate_] > wo_inner.[zdate_] AND wo_outer.[Station] = wo_inner.[Station]\n",
                "\t\t\tORDER BY wo_inner.zdate_ DESC\n",
                "\t\t)                                       AS [previous_hourmeter],\n",
                "\n",
                "        -- Mesmo padrão para o registro mais recente,\n",
                "        -- mas desta vez retornando o campo [zhydrometer_final]\n",
                "\t\t( \n",
                "\t\t\tSELECT TOP 1 wo_inner.[zhydrometer_final]\n",
                "\t\t\tFROM [zwell_operation] wo_inner\n",
                "\t\t\tWHERE wo_outer.[zdate_] > wo_inner.[zdate_] AND wo_outer.[Station] = wo_inner.[Station]\n",
                "\t\t\tORDER BY wo_inner.zdate_ DESC\n",
                "\t\t)                                       AS [previous_hydrometer]\n",
                "\tFROM [zwell_operation] wo_outer\n",
                ") wo"
            ]
        },
        {
            "cell_type": "code",
            "execution_count": null,
            "metadata": {},
            "outputs": [],
            "source": [
                "-- Solução 02: CTE + ROW_NUMBER()\n",
                "\n",
                "-- Enumera os registros como 1..N para cada Station, ordenando por data\n",
                "WITH cte AS (\n",
                "    SELECT Station, zdate_, zhydrometer_final, zhourmeter_final, zfrequency, zdata_type, zstatus,\n",
                "        ROW_NUMBER() OVER (PARTITION BY Station ORDER BY zdate_ ASC) rn\n",
                "    FROM zwell_operation\n",
                ")\n",
                "\n",
                "SELECT\n",
                "\ta.Station\n",
                "\t,a.zdate_                       AS [Data]\n",
                "\t,b.zdate_\t\t\t\t\t    AS [Ultima Data]\n",
                "\t,a.zhourmeter_final \t\t\tAS [Horimetro]\n",
                "\t,b.zhourmeter_final \t\t\tAS [Ultimo Horimetro]\n",
                "\t,a.zhydrometer_final \t\t\tAS [Hidrometro]\n",
                "\t,b.zhydrometer_final \t\t\tAS [Ultimo Hidrometro]\n",
                "\n",
                "\t-- Volume e Tempo operacional calculados\n",
                "\t,(a.zhydrometer_final - b.zhydrometer_final)\t\t    AS [Volume (m3)]\n",
                "\t,ROUND((a.zhourmeter_final - b.zhourmeter_final), 2)\tAS [Horas Operacao (h)]\n",
                "\n",
                "\t-- Vazão calculada\n",
                "\t,ROUND(\n",
                "        (a.zhydrometer_final - b.zhydrometer_final) / \n",
                "        NULLIF(a.zhourmeter_final - b.zhourmeter_final, 0) -- Tratar erro de divisão por 0\n",
                "    ,3)\t                            AS [Vazao (m3/h)]\n",
                "\n",
                "\t,a.zfrequency                   AS [Frequencia]\n",
                "\t,a.[zdata_type]                 AS [Tipo Dado]\n",
                "\t,a.[zstatus]                    AS [Status]\n",
                "\n",
                "FROM cte a\n",
                "    LEFT JOIN cte b\n",
                "        ON a.Station = b.Station\n",
                "        AND a.rn = b.rn + 1"
            ]
        },
        {
            "cell_type": "code",
            "execution_count": null,
            "metadata": {},
            "outputs": [],
            "source": [
                "-- Solução 03: LAG\n",
                "\n",
                "SELECT TOP 10\n",
                "\two.Station\n",
                "\t,wo.zdate_                      AS [Data]\n",
                "\t,wo.previous_date\t\t\t\tAS [Ultima Data]\n",
                "\t,wo.zhourmeter_final \t\t\tAS [Horimetro]\n",
                "\t,wo.previous_hourmeter \t \t\tAS [Ultimo Horimetro]\n",
                "\t,wo.zhydrometer_final \t\t\tAS [Hidrometro]\n",
                "\t,wo.previous_hydrometer \t\tAS [Ultimo Hidrometro]\n",
                "\n",
                "\t-- Volume e Tempo operacional calculados\n",
                "\t,(wo.zhydrometer_final - wo.previous_hydrometer)\t\t\t\tAS [Volume (m3)]\n",
                "\t,ROUND((wo.zhourmeter_final - wo.previous_hourmeter), 2)\t\tAS [Horas Operacao (h)]\n",
                "\n",
                "\t-- Vazão calculada\n",
                "\t,ROUND(\n",
                "\t\t(wo.zhydrometer_final - wo.previous_hydrometer) / \n",
                "\t\tNULLIF(wo.zhourmeter_final - wo.previous_hourmeter, 0) -- Tratar erro de divisão por 0\n",
                "\t,3)\t\t\t\t\t\t\t\tAS [Vazao (m3/h)]\n",
                "\n",
                "\t,wo.zfrequency\t\t\t\t\tAS [Frequencia]\n",
                "\t,wo.[zdata_type]                AS [Tipo Dado]\n",
                "\t,wo.[zstatus]                   AS [Status]\n",
                "\n",
                "FROM (\n",
                "    SELECT\n",
                "        Station\n",
                "        ,zdate_\n",
                "        ,LAG(zdate_) OVER (PARTITION BY Station ORDER BY zdate_ ASC) AS previous_date\n",
                "        ,zhydrometer_final\n",
                "        ,LAG(zhydrometer_final) OVER (PARTITION BY Station ORDER BY zdate_ ASC) AS previous_hydrometer\n",
                "        ,zhourmeter_final\n",
                "        ,LAG(zhourmeter_final) OVER (PARTITION BY Station ORDER BY zdate_ ASC) AS previous_hourmeter\n",
                "        ,zfrequency\n",
                "        ,zdata_type\n",
                "        ,zstatus\n",
                "    FROM zwell_operation\n",
                ") wo"
            ]
        },
        {
            "cell_type": "markdown",
            "metadata": {},
            "source": [
                "2. Considerando os campos **Hidrometro Inicial** e **Horimetro Inicial**:"
            ]
        },
        {
            "cell_type": "code",
            "execution_count": null,
            "metadata": {},
            "outputs": [],
            "source": [
                "-- Solução inicial\n",
                "\n",
                "SELECT\n",
                "\two.Station\n",
                "\t,wo.zdate_                      AS [Data]\n",
                "\t,wo.zhourmeter_start \t\t\tAS [Horimetro Inicial]\n",
                "\t,wo.zhourmeter_final \t\t\tAS [Horimetro Final]\n",
                "\t,wo.zhydrometer_start \t\t\tAS [Hidrometro Inicial]\n",
                "\t,wo.zhydrometer_final \t\t\tAS [Hidrometro Final]\n",
                "    ,wo.zoperation_hours            AS [Horas Operacao (h)]\n",
                "\t,wo.zoperation_volum            AS [Volume (m3)]\t\n",
                "\n",
                "    -- Calcular Vazão, de acordo com dados disponíveis\n",
                "    ,ROUND(\n",
                "        COALESCE(\n",
                "            wo.zflowrate,               -- Retornar caso seja diferente de NULL\n",
                "            COALESCE(                   -- Numerador = Volume (caso não nulo) ou a diferença de leitura dos hidrômetros\n",
                "                wo.zoperation_volum,\n",
                "                wo.zhydrometer_final - wo.zhydrometer_start\n",
                "            ) / \n",
                "            COALESCE(                   -- Denominador = Horas operação (caso não nulo) ou a diferença de leitura dos horímetros\n",
                "                NULLIF(wo.zoperation_hours, 0),\n",
                "                NULLIF(wo.zhourmeter_final - wo.zhourmeter_start, 0) -- Tratar erro de divisão por 0\n",
                "            )\n",
                "        )\n",
                "\t,3)\t\t\t\t\t\t\t\tAS [Vazao (m3/h)]\n",
                "\n",
                "\t,wo.zfrequency\t\t\t\t\tAS [Frequencia]\n",
                "\t,wo.[zdata_type]                AS [Tipo Dado]\n",
                "\t,wo.[zstatus]                   AS [Status]\n",
                "FROM zwell_operation wo"
            ]
        },
        {
            "cell_type": "markdown",
            "metadata": {},
            "source": [
                "#### Primeiras conclusões:\n",
                "\n",
                "- Ordem de execução das etapas;\n",
                "- Linguagem SQL tem natureza altamente declarativa;\n",
                "  - Exige apenas instruções de quais dados obter, não o algoritmo completo para executar.\n",
                "- Impacto de decisões de modelagem de dados no desempenho das consultas"
            ]
        },
        {
            "cell_type": "markdown",
            "metadata": {},
            "source": [
                "## Exercício 2:\n",
                "\n",
                "Vamos comparar as consultas propostas como soluções para o desafio da Aula 03... Quais conclusões podemos chegar ?"
            ]
        },
        {
            "cell_type": "code",
            "execution_count": null,
            "metadata": {},
            "outputs": [],
            "source": [
                "-- "
            ]
        },
        {
            "cell_type": "markdown",
            "metadata": {},
            "source": [
                "> Na maioria das vezes, o *Query Optimizer* faz um ótimo trabalho na escolha de planos de execução altamente eficientes, inclusive recomendando a criação de índices específicos que podem melhorar a performance de uma consulta.\n",
                "\n",
                "Existem diversas técnicas e ferramentas mais robustas para a otimização de consultas, indo desde *tracers* e monitoramento de atividade até o uso de IA e *machine learning*, de acordo com o sistema e a plataforma."
            ]
        },
        {
            "cell_type": "markdown",
            "metadata": {},
            "source": [
                "## Boas práticas\n",
                "\n",
                "![AI SQL](../img/aula04/ai_queries.png)\n",
                "\n",
                "De maneira geral, podemos listar algumas boas práticas para desenvolver consultas SQL melhores, considerando não apenas o desempenho. 💡"
            ]
        },
        {
            "cell_type": "markdown",
            "metadata": {},
            "source": [
                "### 1. Precisão, legibilidade e otimização: nessa ordem\n",
                "\n",
                "- Evite ajustar consultas SQL até garantir que ela retorna os dados desejados, ou seja, que a **lógica da consulta está correta**.\n",
                "- Priorize a otimização das consultas executadas com frequência ou as que envolvem tabelas com maior quantidade de linhas.\n",
                "- Priorize a legibilidade, ou seja, a facilidade para outras pessoas entenderem e modificarem o código, antes de se preocupar com o desempenho."
            ]
        },
        {
            "cell_type": "markdown",
            "metadata": {},
            "source": [
                "#### 1.1 Comente o código (por favor 🙏), principalmente as regras de negócio envolvidas.\n",
                "- Ajude ao próximo (e a ti mesmo)"
            ]
        },
        {
            "cell_type": "code",
            "execution_count": null,
            "metadata": {},
            "outputs": [],
            "source": [
                "-- Exemplo:\n",
                "-- O código a seguir obviamente filtra as medições mensais a partir de 2023\n",
                "-- Mas porque ? Qual a regra de negócio envolvida ? \n",
                "\n",
                "SELECT\n",
                "    Station\n",
                "    ,date_                              AS [DataHora]\n",
                "    ,CAST(date_ AS DATE)                AS [Data]\n",
                "    ,FORMAT(date_, 'MMM/yy')            AS [MesAno]\n",
                "    ,depth_                             AS [Profundidade (m)]\n",
                "    ,zwl_elevation                      AS [Cota NA (m)]\n",
                "    ,dry_indicator                      AS [Seco?]\n",
                "    ,zstatus                            AS [Status]\n",
                "FROM gw_level\n",
                "WHERE [date_] >= '2023-01-01' AND zfrequency = 'Mensal'"
            ]
        },
        {
            "cell_type": "code",
            "execution_count": null,
            "metadata": {},
            "outputs": [],
            "source": [
                "/* \n",
                "Consulta para retornar medições mensais de 2023\n",
                "Desenvolvido em 2023\n",
                "Autor: WST\n",
                " */\n",
                "\n",
                "SELECT Station\n",
                "       ,date_                              AS [DataHora]\n",
                "       ,CAST(date_ AS DATE)                AS [Data]\n",
                "       ,FORMAT(date_, 'MMM/yy')            AS [MesAno]\n",
                "       ,depth_                             AS [Profundidade (m)]\n",
                "       ,zwl_elevation                      AS [Cota NA (m)]\n",
                "       ,dry_indicator                      AS [Seco?]\n",
                "       ,zstatus                            AS [Status]\n",
                "FROM gw_level\n",
                "WHERE [date_] >= '2023-01-01'\n",
                "    AND zfrequency = 'Mensal'"
            ]
        },
        {
            "cell_type": "markdown",
            "metadata": {},
            "source": [
                "#### 1.2 Formate a consulta e utilize aliases\n",
                "\n",
                "- Uma consulta bem formatada sempre melhora significativamente a legibilidade do código.\n",
                "- Abuse de espaços, tabulações e identações para tornar o código mais legível.\n",
                "- Utilize letras MAIÚSCULAS para as palavras reservadas, como `SELECT`, `FROM` e `WHERE`.\n",
                "\n",
                "> Podemos utilizar ferramentas de formatação de SQL online ou extensões.\n",
                "> [SQL Style Guide](https://www.sqlstyle.guide/)"
            ]
        },
        {
            "cell_type": "code",
            "execution_count": null,
            "metadata": {},
            "outputs": [],
            "source": [
                "SELECT Station\n",
                "       ,date_                              AS [DataHora]\n",
                "       ,CAST(date_ AS DATE)                AS [Data]\n",
                "       ,FORMAT(date_, 'MMM/yy')            AS [MesAno]\n",
                "       ,depth_                             AS [Profundidade (m)]\n",
                "       ,zwl_elevation                      AS [Cota NA (m)]\n",
                "       ,dry_indicator                      AS [Seco?]\n",
                "       ,zstatus                            AS [Status]\n",
                "  FROM gw_level\n",
                " WHERE [date_] >= '2023-01-01' \n",
                "   AND zfrequency = 'Mensal'"
            ]
        },
        {
            "cell_type": "markdown",
            "metadata": {},
            "source": [
                "### 2. Evite usar `SELECT *`\n",
                "\n",
                "- Selecione apenas as colunas necessárias para atender aos objetivos da consulta.\n",
                "- Para visualizar o formato de tabelas durante o desenvolvimento de uma consulta SQL, utilize o comando `TOP`.\n",
                "  \n",
                "> Lembre-se: Quanto menor a quantidade de linhas lidas, melhor o desempenho da consulta..."
            ]
        },
        {
            "cell_type": "markdown",
            "metadata": {},
            "source": [
                "### 3. Lembre-se da ordem de execução das consultas\n",
                "\n",
                "![Ordem SQL](../img/aula01/execution_order.png)\n",
                "\n",
                "- Quanto antes for possível limitar o conjunto de dados a ser processado, melhor."
            ]
        },
        {
            "cell_type": "markdown",
            "metadata": {},
            "source": [
                "### 3. Evite usar funções na cláusula WHERE"
            ]
        },
        {
            "cell_type": "code",
            "execution_count": null,
            "metadata": {},
            "outputs": [],
            "source": [
                "-- ❌ Ao invés de\n",
                "SELECT Station, date_, total_precipitation\n",
                "  FROM dbo.meteorology\n",
                "  WHERE YEAR(date_) = 2022\n",
                "\n",
                "-- ✅ É melhor utilizar\n",
                "SELECT Station, date_, total_precipitation\n",
                "  FROM dbo.meteorology\n",
                "  WHERE date_ BETWEEN '2022-01-01' AND '2022-12-31' "
            ]
        },
        {
            "cell_type": "markdown",
            "metadata": {},
            "source": [
                "#### 3.1. Evite usar o operador `LIKE` na cláusula WHERE\n",
                "\n",
                "- O operador `LIKE` compara caracteres e permite o uso de caracteres curinga como `%`, mas pode apresentar lentidão.\n",
                "- Quando necessário, evite utilizar caracteres como o `%` **no início** das strings."
            ]
        },
        {
            "cell_type": "code",
            "execution_count": null,
            "metadata": {},
            "outputs": [],
            "source": [
                "-- ❌ Ao invés de\n",
                "SELECT * FROM station WHERE mine LIKE '%Barragem%'\n",
                "\n",
                "-- ✅ É melhor utilizar\n",
                "SELECT * FROM station WHERE mine LIKE 'Barragem%'"
            ]
        },
        {
            "cell_type": "markdown",
            "metadata": {},
            "source": [
                "### 4. Evite usar a instrução `ORDER BY`, especialmente em sub-queries\n",
                "\n",
                "- Ordenar registros é uma operação extremamente custosa.\n",
                "- A menos que estritamente necessário, opte por ordenar os resultados na ferramenta de análise, não na consulta SQL"
            ]
        },
        {
            "cell_type": "markdown",
            "metadata": {},
            "source": [
                "### 5. Faça escolhas de JOINs inteligentes\n",
                "\n",
                "- Utilize JOINs apenas quando necessário.\n",
                "- Prefira a estrutura `<tabela_maior> JOIN <tabela_menor>` ao invés de `<tabela_menor> JOIN <tabela_maior>`.\n",
                "- Use os operadores `=` e `AND` nas condições do `JOIN`; evite usar os operadores `OR` e `<>`.\n",
                "- Prefira `INNER JOIN` ou `LEFT/RIGHT [OUTER] JOIN` ao invés do `CROSS JOIN` !"
            ]
        },
        {
            "cell_type": "markdown",
            "metadata": {},
            "source": [
                "📚 Recomendações finais:\n",
                "\n",
                "- [Tidy Data Definition](https://cran.r-project.org/web/packages/tidyr/vignettes/tidy-data.html)\n",
                "- [SQL *vs* Pandas cheatsheet](https://sql2pandas.pythonanywhere.com/download-files/sql-to-pandas-cheat-sheet)\n",
                "- [SQL Server Query Performance Guidelines Tutorial](https://www.mssqltips.com/sqlservertutorial/3200/sql-server-query-performance-guidelines-tutorial/)"
            ]
        }
    ],
    "metadata": {
        "kernelspec": {
            "display_name": "SQL",
            "language": "sql",
            "name": "SQL"
        },
        "language_info": {
            "name": "sql",
            "version": ""
        }
    },
    "nbformat": 4,
    "nbformat_minor": 2
}

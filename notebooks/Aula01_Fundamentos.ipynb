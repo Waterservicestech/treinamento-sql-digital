{
    "cells": [
        {
            "cell_type": "markdown",
            "metadata": {
                "azdata_cell_guid": "d89c92a0-87e0-4516-b709-91bee6e2b678"
            },
            "source": [
                "# Modelagem de dados básica 🧠"
            ]
        },
        {
            "cell_type": "markdown",
            "metadata": {
                "azdata_cell_guid": "7dc1d03e-0c80-4d66-9d3b-fc3b98ccc8b9"
            },
            "source": [
                "**Bancos de dados relacionais** são a base para SQL e para todos os sistemas de banco de dados modernos, como MSSQL Server, IBM DB2, Oracle, MySQL, Microsoft Access dentre outros.\n",
                "\n",
                "Um banco de dados relacional é um conjunto coletivo de vários conjuntos de dados organizados por tabelas, registros e colunas. Eles estabelecem uma relação bem definida entre tabelas de banco de dados. As tabelas comunicam e compartilham informações, o que facilita a capacidade de pesquisa, organização de dados e geração de relatórios."
            ]
        },
        {
            "cell_type": "markdown",
            "metadata": {
                "azdata_cell_guid": "eed7ab25-f8da-4d9e-a637-e25e1d902cc0"
            },
            "source": [
                "## Modelo de dados lógico\n",
                "![Data Modeling](../img/aula01/model.png)\n",
                "\n",
                "## Modelo de dados físico\n",
                "![Data Modeling](../img/aula01/sql_model.png)"
            ]
        },
        {
            "cell_type": "markdown",
            "metadata": {
                "azdata_cell_guid": "5bdaa868-8e83-45bf-bcf5-57f2de15c18c"
            },
            "source": [
                "Recomendações de leitura: 📖\n",
                "\n",
                "Modelagem de dados\n",
                "- [Modelagem Relacional (uma visão geral)](https://medium.com/blog-do-zouza/modelagem-relacional-uma-vis%C3%A3o-geral-44cd8807fc87)\n",
                "- [Introduction to Data Modeling for Power BI Video Course - SQLBI](https://www.sqlbi.com/p/introduction-to-data-modeling-for-power-bi-video-course/)\n",
                "- [What is data modeling?](https://www.techtarget.com/searchdatamanagement/definition/data-modeling)"
            ]
        },
        {
            "cell_type": "markdown",
            "metadata": {
                "azdata_cell_guid": "f99de990-c996-4cb3-aada-fcc46215970a"
            },
            "source": [
                "Um conceito central das bases de dados relacionais é **reduzir a redundância nos dados**, em um processo denominado **normalização**. Isto significa que se pretende que os dados sejam armazenados uma única vez. Se os dados são redundantes, você corre o risco de contradição, reduzindo a integridade dos dados.\n",
                "\n",
                "**Exemplo 1**\n",
                "\n",
                "![Exemplo 1](../img/aula01/modelling_example.png)"
            ]
        },
        {
            "cell_type": "markdown",
            "metadata": {
                "azdata_cell_guid": "a0c9f593-e761-44eb-a482-3ee8f7cf9e1a"
            },
            "source": [
                "**Exemplo 2**\n",
                "\n",
                "![Exemplo 2](../img/aula01/modelling_good.png)"
            ]
        },
        {
            "cell_type": "markdown",
            "metadata": {
                "azdata_cell_guid": "5087aa94-5bec-4b5a-9035-c898efcafd50"
            },
            "source": [
                "## **Desafios**\n",
                "\n",
                "> Suponha que o campo *Cota Topo (m)* pudesse sofrer alterações com o tempo...\n",
                ">  \n",
                "> Como adaptar o modelo para ser compatível com esta variação ?\n",
                "\n",
                "*Exemplo:* O ponto P1 teve a `Cota Topo` alterada de 215m para 212m em 01/08/2023..."
            ]
        },
        {
            "cell_type": "markdown",
            "metadata": {
                "azdata_cell_guid": "ffb9ad7b-1e5e-42fc-a78b-95fb22b17ea7"
            },
            "source": [
                "Proposição:\n",
                "\n",
                "![Desafio Modelagem](../img/aula01/modelling_challenges.png)"
            ]
        },
        {
            "cell_type": "markdown",
            "metadata": {
                "azdata_cell_guid": "bf119cb4-d90c-421d-9e77-e75e72ae5ddb"
            },
            "source": [
                "Possível solução:\n",
                "\n",
                "![Solution type 4](../img/aula01/modelling_challenge_solution.png)\n",
                "\n",
                "Recomendações de leitura: 📖\n",
                "- [Slowly changing dimension](https://en.wikipedia.org/wiki/Slowly_changing_dimension#Type_4:_add_history_table)\n",
                "- [Manipulando Slowly Changing Dimensions (SCD) usando Delta Tables](https://medium.com/blog-do-zouza/manipulando-slowly-changing-dimensions-scd-usando-delta-tables-48e16bfb80ad)\n",
                "- [Slowly Changing Dimension in Data Warehousing](https://medium.com/@Muhammad7Salah/slowly-changing-dimension-in-data-warehouse-7ca21e0e8c9)"
            ]
        },
        {
            "cell_type": "markdown",
            "metadata": {
                "azdata_cell_guid": "f6d48163-f81e-41b2-9dcb-9f7f07a73557"
            },
            "source": [
                "## Spoiler:\n",
                "\n",
                "Tabela ***toc*** do HGA:\n",
                "\n",
                "![Tabela Station_TOC HGA](../img/aula01/station_toc.png)"
            ]
        },
        {
            "cell_type": "markdown",
            "metadata": {
                "azdata_cell_guid": "62818cf6-4715-4e06-9651-9e347dbc54bb"
            },
            "source": [
                "**Tabelas** 🛏\n",
                "\n",
                "No Azure Data Studio/SSMS, dentro da pasta de tabelas, você encontrará todos os dados brutos armazenados no banco de dados.\n",
                "\n",
                "Você pode expandir ainda mais as tabelas com o símbolo + para visualizar suas colunas, chaves etc.\n",
                "Às colunas é atribuído um tipo de dados que não pode ser violado, além de configurada as opções de permitir nulos ou não.\n",
                "\n",
                "Os tipos de dados mais utilizados são os seguintes:\n",
                "\n",
                "- nvarchar/varchar - armazenar texto de diferentes tipos\n",
                "- int - Números inteiros (números inteiros)\n",
                "- decimal - para as casas decimais de uma precisão determinada\n",
                "- float - Números de ponto flutuante\n",
                "- datetime - Datas e horas\n",
                "\n",
                "Cada tabela deve ter uma **Chave primária** (*PK - Primery Key*) à qual todos os outros campos da tabela estejam relacionados. A PK basicamente é um campo ou conjunto de campos com **valores exclusivos por toda a tabela**. Se isso estiver definido para uma tabela, ela poderá ser visualizada na seção *Chaves* abaixo das tabelas. 🗝\n",
                "\n",
                "**Esquemas** 👩‍👩‍👦\n",
                "\n",
                "Objetos dentro de um banco de dados podem ser agrupados em diferentes esquemas. \n",
                "\n",
                "Permissões em tabelas são geralmente herdadas de permissões nos esquemas, i.e. se você tem permissão para usar um esquema, você tem permissões para usar todas as tabelas dentro dele. "
            ]
        },
        {
            "cell_type": "markdown",
            "metadata": {
                "azdata_cell_guid": "37a85ec2-8939-4d4b-97c3-384e0182e02a"
            },
            "source": [
                "# Fundamentos de SQL 💻"
            ]
        },
        {
            "attachments": {},
            "cell_type": "markdown",
            "metadata": {
                "azdata_cell_guid": "3a1dd497-f7e8-4e00-a71c-feb65d2ded59"
            },
            "source": [
                "A linguagem SQL é dividida em comandos agrupados por sua funcionalidade.\n",
                "\n",
                "![Grupos SQL](../img/aula01/grupos_sql.png)\n",
                "\n",
                "Os tipos da linguagem SQL são:\n",
                "\n",
                "- **DQL - Data Query Language** - Linguagem de Consulta de dados.\n",
                "    - São os comandos de consulta.\n",
                "    - Exemplos: `SELECT`, `FROM`\n",
                "    - Em alguns livros o SELECT fica na DML em outros tem um grupo próprio.\n",
                "- **DML - Data Manipulation Language** <span style=\"color: var(--vscode-foreground);\">- Linguagem de Manipulação de Dados.</span>\n",
                "    - <span style=\"color: var(--vscode-foreground);\">São os comandos que interagem com os dados dentro das tabelas.</span>\n",
                "    - <span style=\"color: var(--vscode-foreground);\">Exemplos:&nbsp;</span> `INSERT`<span style=\"color: var(--vscode-foreground);\">,&nbsp;</span> `DELETE` <span style=\"color: var(--vscode-foreground);\">&nbsp;e&nbsp;</span> `UPDATE`\n",
                "- DDL - Data Definition Language - Linguagem de Definição de Dados.\n",
                "    - São os comandos que interagem com os objetos do banco (tabelas, views, triggers _etc_).\n",
                "    - Exemplos: `CREATE`, `ALTER`, `DROP`, `TRUNCATE`, `RENAME` e `COMMENT`.\n",
                "- <span style=\"color: var(--vscode-foreground);\">DCL - Data Control Language - Linguagem de Controle de Dados.</span>\n",
                "    - <span style=\"color: var(--vscode-foreground);\">São os comandos para controlar a parte de segurança do banco de dados.</span>\n",
                "    - <span style=\"color: var(--vscode-foreground);\">Exemplos:&nbsp;</span> `GRANT`<span style=\"color: var(--vscode-foreground);\">,&nbsp;</span> `REVOKE` <span style=\"color: var(--vscode-foreground);\">&nbsp;e&nbsp;</span> `DENY`<span style=\"color: var(--vscode-foreground);\">.</span>\n",
                "- DTL - Data Transaction Language - Linguagem de Transação de Dados.\n",
                "    - São os comandos para controle de transação.\n",
                "    - Exemplos: `BEGIN TRANSACTION`, `COMMIT` e `ROLLBACK`"
            ]
        },
        {
            "cell_type": "markdown",
            "metadata": {
                "azdata_cell_guid": "6570f762-5610-44e0-b491-ff4c4eae6d2b"
            },
            "source": [
                "### Como o HGA interage com o banco de dados SQL ? \n",
                "\n",
                "[Bate Papo - HydroGeo Analyst  e SQL_v0.pdf](https://waterltda.sharepoint.com/:b:/s/WST-DataManagement-DashboardsBI/ESR2OpshceVBtSYrI9XiIdoB7816VIRHnlaocHZeU06gxw?e=Axz5A6)\n",
                "\n",
                "[[Bate Papo] HGA e SQL-20230425_142119-Gravação de Reunião](https://waterltda.sharepoint.com/:v:/s/WSTTeam/ETRmtQo44y5JpPsJZw026wcB1kyFzcleQnTpKFtKH4m1jg?e=rMPvwX)\n",
                "\n",
                "![HGA + SQL](../img/aula01/hga_sql.png)"
            ]
        },
        {
            "cell_type": "markdown",
            "metadata": {
                "azdata_cell_guid": "ef1fffb6-8a16-4618-b6af-ade56875f0ac"
            },
            "source": [
                "## 1. Como obter dados de um banco SQL ? 👓 \n",
                "\n",
                "Para iniciarmos nossos estudos utilizaremos a instância de dados do banco **SQL_TREINAMENTO** restaurada.\n",
                "\n",
                "Uma consulta básica no SQL é composta pela a instrução `SELECT ... FROM`. Estes operadores permitem ler registros de uma ou mais tabelas. A sintaxe básica é mostrada a seguir:\n",
                "\n",
                "```sql\n",
                "SELECT\n",
                "    [column_name_1]\n",
                "    ,...\n",
                "    ,[column_name_n]\n",
                "FROM [schema_name].[table_name]\n",
                "```\n",
                "\n",
                "A substituição dos nomes das colunas por * retornará **todas** as colunas no conjunto de dados.\n",
                "\n",
                "> **DICA:** Durante o desenvolvimento de uma consulta SQL, é uma boa prática fazer uso do operador `TOP` - Digite e execute `SELECT TOP 100 * FROM <table_name>` para retornar os primeiros 100 registros de uma tabela. Retornar apenas as 100 linhas superiores será mais rápido para carregar e permite visualizar as colunas e os tipos de dados na tabela escolhida. \n",
                "\n",
                "> **DICA PARA FORMATAÇÃO:** Colocar a vírgula em uma nova linha antes da [column_name] permite que você comente rapidamente as colunas que não deseja visualizar.\n",
                "\n",
                "> **DICA PARA CÓDIGO DE COMENTÁRIO:** Inserindo `-` na frente dos comentários de código. A tecla de atalho para comentar uma linha ou seleção em massa no SQL é tipicamente `Ctrl-K` então `Ctrl-C`. Para descomentar, faça `Ctrl-K` então `Ctrl-U`."
            ]
        },
        {
            "cell_type": "code",
            "execution_count": null,
            "metadata": {
                "azdata_cell_guid": "3e158f67-7dde-425e-a8ae-c74bd7b0854b",
                "language": "sql"
            },
            "outputs": [],
            "source": [
                "USE [SQL_TREINAMENTO]\n",
                "GO"
            ]
        },
        {
            "cell_type": "code",
            "execution_count": null,
            "metadata": {
                "azdata_cell_guid": "e009d2f4-5b37-4d42-b07b-cc97d817348e",
                "language": "sql",
                "tags": []
            },
            "outputs": [],
            "source": [
                "-- Exemplo de comentário\n",
                "SELECT TOP 5\n",
                "    [Name]\n",
                "    ,[zoriginal_name]\n",
                "    ,[zmatrix]\n",
                "FROM station\n",
                "GO"
            ]
        },
        {
            "cell_type": "code",
            "execution_count": null,
            "metadata": {
                "azdata_cell_guid": "d4869429-8aa3-425d-a98f-0e331f84d0df",
                "language": "sql",
                "tags": []
            },
            "outputs": [],
            "source": [
                "-- Alterando o nome das colunas retornadas\n",
                "SELECT TOP 5\n",
                "    Name                  AS [Codigo HGA]\n",
                "    ,zoriginal_name       AS [Nome Original]\n",
                "    ,zmatrix              AS [Matriz]\n",
                "FROM station\n",
                "GO"
            ]
        },
        {
            "cell_type": "markdown",
            "metadata": {
                "azdata_cell_guid": "1145fbf4-0c65-495a-ac80-e52ae0b9e5db"
            },
            "source": [
                "### Ordem de execução dos comandos SQL\n",
                "\n",
                "O SQL Server não faz o processamento dos dados na ordem de escrita, internamente o SQL Server segue a seguinte ordem:\n",
                "\n",
                "![Execution Order](../img/aula01/execution_order.png)"
            ]
        },
        {
            "cell_type": "markdown",
            "metadata": {
                "azdata_cell_guid": "d5aab25c-8143-4ed7-9199-d9cb664c8475"
            },
            "source": [
                "## 2. Como retornar apenas valores únicos de uma coluna ? 🥢\n",
                "\n",
                "Se o objetivo for visualizar apenas os valores exclusivos em uma coluna, por exemplo para entender quais são os valores possíveis da coluna, use o comando `DISTINCT`.\n",
                "\n",
                "**CASO DE USO:** *Quero ver todas as matrizes disponíveis na tabela de pontos.*"
            ]
        },
        {
            "cell_type": "code",
            "execution_count": null,
            "metadata": {
                "azdata_cell_guid": "a15343dc-8459-449e-9edd-cedf77a4524d",
                "language": "sql"
            },
            "outputs": [],
            "source": [
                "-- Retornar as matrizes únicas\n",
                "SELECT DISTINCT zmatrix FROM station"
            ]
        },
        {
            "cell_type": "markdown",
            "metadata": {
                "azdata_cell_guid": "26150689-e088-4d5b-8aae-1be2b3bc6c21"
            },
            "source": [
                "## 3. Filtrando e classificando dados 👽\n",
                "\n",
                "Para obter/filtrar registros específicos, ao invés de todos os registros, podemos utilizar o operador `WHERE` adiconalmente a uma instrução `SELECT` ... `FROM`. A sintaxe básica deste operador considera o uso de comparadores como `=`, `<`, `>`, `LIKE` e `BETWEEN`. Para utilizar múltiplos critérios no filtro, utilizamos os operadores `AND` e `OR`.\n",
                "\n",
                "> **DICA:** O operador `LIKE` permite localizar correspondências de texto parciais, utilizando o caractere curinga `%`. Por exemplo, para localizar todos os parâmetros iniciados com a palavra \"Solidos\", digite e execute `SELECT * FROM zparameters WHERE zchemical_name LIKE 'Solidos%'`.\n",
                "\n",
                "Para ordenar os resultados de acordo com uma ou mais colunas, o operador `ORDER BY` pode ser utilizado adiconalmente a uma instrução `SELECT` ... `FROM`. Para determinar a ordem de classificação, utilizamos as palavras chave `ASC` ou `DESC`."
            ]
        },
        {
            "cell_type": "code",
            "execution_count": null,
            "metadata": {
                "azdata_cell_guid": "365e3caa-9a6b-41c6-b55c-7849a969452a",
                "language": "sql",
                "tags": []
            },
            "outputs": [],
            "source": [
                "-- Filtro simples\n",
                "SELECT *\n",
                "FROM station\n",
                "WHERE zlocation = 'Mina D'"
            ]
        },
        {
            "cell_type": "code",
            "execution_count": null,
            "metadata": {
                "azdata_cell_guid": "f48ba394-c6fc-49b1-b577-08c2908ca42c",
                "language": "sql",
                "tags": []
            },
            "outputs": [],
            "source": [
                "-- Filtro avançado\n",
                "SELECT *\n",
                "FROM station\n",
                "WHERE \n",
                "    ([zlocation] = 'Mina A' OR [zlocation] = 'Mina D')\n",
                "    -- [zlocation] IN ('Mina A', 'Mina D')\n",
                "    AND [status] = 'Desativado'"
            ]
        },
        {
            "cell_type": "code",
            "execution_count": null,
            "metadata": {
                "azdata_cell_guid": "032bae92-430d-4234-9122-1521abdadb95",
                "language": "sql",
                "tags": []
            },
            "outputs": [],
            "source": [
                "-- Parâmetros iniciados com \"Solidos\"\n",
                "SELECT *\n",
                "FROM zparameters\n",
                "WHERE zchemical_name LIKE 'Solidos%'"
            ]
        },
        {
            "cell_type": "code",
            "execution_count": null,
            "metadata": {
                "azdata_cell_guid": "3dd218af-ed37-4b5c-b704-9327707074d4",
                "language": "sql",
                "tags": []
            },
            "outputs": [],
            "source": [
                "-- Mais exemplos de filtros e ordenação\n",
                "SELECT\n",
                "    Station\n",
                "    ,date_              AS [Data]\n",
                "    ,depth_             AS [Profundidade (m)]\n",
                "    ,zwl_elevation      AS [Cota NA (m)]\n",
                "    ,dry_indicator      AS [Seco?]\n",
                "    ,zstatus            AS [Status]\n",
                "    ,zdata_type         AS [Tipo Dado]\n",
                "    ,zinstrument_type   AS [Tipo Instrumento]\n",
                "    ,zmeasurement_resp  AS [Resp Medicao]\n",
                "    ,zfrequency         AS [Periodicidade]\n",
                "FROM gw_level\n",
                "WHERE [date_] >= '2023-01-01'\n",
                "-- WHERE [date_] BETWEEN '2023-01-01' AND '2023-02-01'\n",
                "ORDER BY [Station], [date_] DESC;"
            ]
        },
        {
            "cell_type": "markdown",
            "metadata": {
                "azdata_cell_guid": "eb4424bb-328a-4eb7-8ef5-2e9357948e9e"
            },
            "source": [
                "## Criando novas colunas 🥘\n",
                "\n",
                "Para criar uma coluna adicional na tabela consultada, digite o nome da nova coluna na lista de colunas especificada na instrução `SELECT`."
            ]
        },
        {
            "cell_type": "code",
            "execution_count": null,
            "metadata": {
                "azdata_cell_guid": "cba27299-1fc5-461c-b8fb-2a05b2e1e628",
                "language": "sql"
            },
            "outputs": [],
            "source": [
                "-- Criar novas colunas\n",
                "SELECT TOP 5\n",
                "    Name                  AS [Codigo HGA]\n",
                "    ,zoriginal_name       AS [Nome Original]\n",
                "    ,zmatrix              AS [Matriz]\n",
                "    ,'Nova Coluna'        AS [Nova Coluna]\n",
                "    -- ,[Nova Coluna] = 'Nova Coluna'\n",
                "FROM station"
            ]
        },
        {
            "cell_type": "markdown",
            "metadata": {
                "azdata_cell_guid": "4414d966-aaf9-475b-84d2-3aba0df1771f"
            },
            "source": [
                "## Alterando o tipo de dados das colunas 🔊\n",
                "\n",
                "Pode ser necessário alterar o tipo de dados das colunas para efetuar determinadas operações, tais como:\n",
                "\n",
                "1. Mudar para um tipo de dados `INT` ou `FLOAT` para usar funções de agregação como `SUM` e `AVERAGE`.\n",
                "2. Mudar para um tipo de dados `VARCHAR(n)` ou `NVCARCHAR(n)` para concatenar com outras colunas string/text.\n",
                "3. Alterando duas colunas de tabelas sendo mescladas para o mesmo tipo de dados para concatená-las!\n",
                "\n",
                "Para isto é necessário utilizar o comando `CAST()` ."
            ]
        },
        {
            "attachments": {},
            "cell_type": "markdown",
            "metadata": {
                "azdata_cell_guid": "0b96593c-0d0a-4e3a-918c-eb388d451faf"
            },
            "source": [
                "## Exercício: Alterando dado de DATETIME para DATE usando `CAST`\n",
                "\n",
                "1. Usando a função `GETDATE()` é possível retornar o dia e hora atuais. Como podemos retornar apenas a data ??\n",
                "\n",
                "**Nota:** _Uma instrução `SELECT` não necessita, obrigatoriamente, de terminar com `FROM <tabela>`._"
            ]
        },
        {
            "cell_type": "code",
            "execution_count": null,
            "metadata": {
                "azdata_cell_guid": "b1b246a4-bfea-4080-b4e6-4dbf1a9d081e",
                "language": "sql"
            },
            "outputs": [],
            "source": [
                "SELECT GETDATE()"
            ]
        },
        {
            "cell_type": "code",
            "execution_count": null,
            "metadata": {
                "azdata_cell_guid": "7312bb2f-1bb8-4e75-a488-181060574401",
                "language": "sql"
            },
            "outputs": [],
            "source": [
                "SELECT\n",
                "    Station\n",
                "    ,date_                              AS [DataHora]\n",
                "    ,CAST(date_ AS DATE)                AS [Data]\n",
                "    ,depth_                             AS [Profundidade (m)]\n",
                "    ,zwl_elevation                      AS [Cota NA (m)]\n",
                "    ,dry_indicator                      AS [Seco?]\n",
                "    ,zstatus                            AS [Status]\n",
                "FROM gw_level\n",
                "WHERE [date_] >= '2023-01-01'"
            ]
        },
        {
            "cell_type": "code",
            "execution_count": null,
            "metadata": {
                "azdata_cell_guid": "3701b052-9ca0-4129-933c-3265ff500fdb",
                "language": "sql"
            },
            "outputs": [],
            "source": [
                "-- Retornando a data como mês-ano\n",
                "SELECT TOP 10\n",
                "    Station\n",
                "    ,date_                              AS [DataHora]\n",
                "    ,CAST(date_ AS DATE)                AS [Data]\n",
                "    -- ,CAST(MONTH(date_) AS VARCHAR) + '-' + CAST(YEAR(date_) AS VARCHAR)   AS [MesAno]\n",
                "    ,FORMAT(date_, 'MMM/yy')   AS [MesAno]\n",
                "    ,depth_                             AS [Profundidade (m)]\n",
                "    ,zwl_elevation                      AS [Cota NA (m)]\n",
                "    ,dry_indicator                      AS [Seco?]\n",
                "    ,zstatus                            AS [Status]\n",
                "FROM gw_level\n",
                "WHERE [date_] >= '2023-01-01'"
            ]
        },
        {
            "cell_type": "markdown",
            "metadata": {
                "azdata_cell_guid": "2197a7c5-5f08-4a61-8e46-8e801d2eaae3"
            },
            "source": [
                "## Como retornar um valor baseado em outra coluna ? 🕹\n",
                "\n",
                "A função `IIF` permite aplicar o equivalente a uma instrução *if-else* no SQL. \n",
                "\n",
                "Também é possível utilizar o operador `CASE WHEN ... THEN ... END`.\n",
                "\n",
                "> **Dica:** Instruções `CASE WHEN` longas são **indesejáveis** no código SQL. Caso o objetivo seja realizar um cálculo com várias condições lógicas (*if-else*) aninhadas, de forma similar a uma tabela de referência, crie uma tabela de referência, por favor."
            ]
        },
        {
            "cell_type": "code",
            "execution_count": null,
            "metadata": {
                "azdata_cell_guid": "9526466c-db47-471c-ac58-c5de87f47b2f",
                "language": "sql"
            },
            "outputs": [],
            "source": [
                "SELECT\n",
                "    Station\n",
                "    ,sample_id      AS [ID Amostra]\n",
                "    ,sample_date    AS [Data Amostra]\n",
                "    ,sample_type    AS [Tipo Amostra]\n",
                "    ,CASE\n",
                "        WHEN sample_date <= '2019-01-01' THEN 'Pré Instalação'\n",
                "        WHEN sample_date <= '2022-05-01' THEN 'Durante Instalação'\n",
                "        -- Condições adicionais...\n",
                "        ELSE 'Pós Instalação'\n",
                "    END             AS [Período]\n",
                "FROM parameter_sample"
            ]
        },
        {
            "attachments": {},
            "cell_type": "markdown",
            "metadata": {
                "azdata_cell_guid": "d34cd67f-77d9-47d8-abd1-34063d768195"
            },
            "source": [
                "## Desafio: Cálculo da **vazão operacional de poços**\n",
                "\n",
                "Escrever uma consulta SQL para calcular a vazão média de cada poço por dia.\n",
                "\n",
                "Notebook completo: 📒 [Desafio Aula01](../notebooks/desafios/Aula01_Challenge.ipynb)"
            ]
        }
    ],
    "metadata": {
        "kernelspec": {
            "display_name": "SQL",
            "language": "sql",
            "name": "SQL"
        },
        "language_info": {
            "name": "sql",
            "version": ""
        }
    },
    "nbformat": 4,
    "nbformat_minor": 2
}

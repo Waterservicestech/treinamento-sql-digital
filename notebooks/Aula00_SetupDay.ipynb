{
    "cells": [
        {
            "cell_type": "markdown",
            "metadata": {
                "azdata_cell_guid": "2da27a68-bfdd-499b-96f6-2b080a759b86"
            },
            "source": [
                "# Dominando o SQL para análise de dados 👩‍💻\n",
                "\n",
                "***"
            ]
        },
        {
            "cell_type": "markdown",
            "metadata": {
                "azdata_cell_guid": "2f64c486-f82a-4581-8a35-e50fd6c28be4"
            },
            "source": [
                "## Motivação\n",
                "\n",
                "Quais as linguagens mais utilizadas por profissionais de dados atualmente ?\n",
                "\n",
                "![State of Data 2021](../img/aula00/dataset_2021.png)\n",
                "![State of Data 2022](../img/aula00/dataset_2022.png)\n",
                "\n",
                "> Datasets completos disponíveis na pasta `datasets`."
            ]
        },
        {
            "attachments": {},
            "cell_type": "markdown",
            "metadata": {
                "azdata_cell_guid": "ebafc938-39c9-493b-a2c6-638f49ecfd43",
                "language": ""
            },
            "source": [
                "```python\n",
                "import pandas as pd\n",
                "import numpy as np\n",
                "import io\n",
                "import re\n",
                "\n",
                "import matplotlib.pyplot as plt\n",
                "import seaborn as sns\n",
                "sns.set_theme(style='whitegrid')\n",
                "\n",
                "def read_file_and_get_info(_file_path: str, _file_name: str) -> pd.DataFrame:\n",
                "\n",
                "    # Read .csv file\n",
                "    df = pd.read_csv(_file_path)\n",
                "\n",
                "    # Save DataFrame info to .txt file\n",
                "    str_buffer = io.StringIO()\n",
                "    df.info(verbose=True, buf=str_buffer)\n",
                "    s = str_buffer.getvalue()\n",
                "\n",
                "    with open(f'../datasets/{_file_name}', 'w', encoding='utf-8') as f:  \n",
                "        f.write(s)\n",
                "\n",
                "    return df\n",
                "\n",
                "def get_P4_data(df: pd.DataFrame, source_col: str) -> pd.DataFrame:\n",
                "    \n",
                "    # Select data from P4, question 'd' - (Quais das linguagens listadas abaixo você utiliza no trabalho?)\n",
                "    df_P4_cols = [c for c in df.columns if re.search('P4_d_', c)]\n",
                "    df_P4 = df.loc[:, df_P4_cols].copy()\n",
                "    df_P4.columns = [eval(c)[1] for c in df_P4_cols]\n",
                "    df_P4 = df_P4.dropna(how='all', axis=0)\n",
                "    df_P4['Source'] = source_col\n",
                "    \n",
                "    return df_P4\n",
                "\n",
                "# Read and extract data from files\n",
                "df_2021 = read_file_and_get_info('../datasets/State of Data 2021 - Dataset - Pgina1.csv', 'df_2021_info.txt')\n",
                "df_2022 = read_file_and_get_info('../datasets/State_of_data_2022.csv', 'df_2022_info.txt')\n",
                "\n",
                "df_2021_P4 = get_P4_data(df_2021, '2021')\n",
                "df_2022_P4 = get_P4_data(df_2022, '2022')\n",
                "df = pd.concat([df_2021_P4, df_2022_P4])\n",
                "\n",
                "# Create plot\n",
                "f, ax = plt.subplots(figsize=(8, 12))\n",
                "\n",
                "data = df.groupby('Source').sum().melt(ignore_index=False, var_name='Linguagem', value_name='Total').sort_values(by='Total', ascending=False)\n",
                "s = sns.barplot(data=data, x='Total', y='Linguagem', hue='Source', orient='h', palette='husl')\n",
                "\n",
                "for container in ax.containers:\n",
                "    s.bar_label(container, fontsize=10, padding=5, alpha=.75, bbox=dict(facecolor='0.95', boxstyle='round'))\n",
                "\n",
                "ax.legend(loc='lower right', title='')\n",
                "ax.set(ylabel='', xlabel='')\n",
                "plt.title('Linguagens utilizadas (State of Data Brasil)', fontsize=16)\n",
                "plt.tight_layout()\n",
                "plt.savefig('../img/barplot.png')\n",
                "```"
            ]
        },
        {
            "cell_type": "markdown",
            "metadata": {
                "azdata_cell_guid": "55bb5b93-d41e-4b60-9a54-762df2779479"
            },
            "source": [
                "```python\n",
                "totals = data.groupby(level=0)['Total'].sum()\n",
                "\n",
                "data_stacked = data.copy()\n",
                "data_stacked['Linguagem'] = data_stacked['Linguagem'].apply(lambda x: 'SQL + Python' if x in ['SQL', 'Python'] else 'Outro')\n",
                "data_stacked = data_stacked.reset_index().groupby(['Source', 'Linguagem'])['Total'].sum().reset_index()\n",
                "data_stacked = data_stacked.merge(right=totals, left_on='Source', right_index=True, suffixes=('', '_agg'))\n",
                "data_stacked['Perc'] = data_stacked['Total'] / data_stacked['Total_agg'] * 100\n",
                "\n",
                "# Create plot\n",
                "ax = sns.histplot(data_stacked, x='Source', hue='Linguagem', weights='Perc', multiple='stack', palette='Accent', shrink=0.8)\n",
                "ax.set(ylabel='Percentual', xlabel='', title='Linguagens mais utilizadas (State of Data Brasil)')\n",
                "\n",
                "legend = ax.get_legend()\n",
                "legend.set_title('')\n",
                "legend.set_bbox_to_anchor((1, 1))\n",
                "\n",
                "plt.tight_layout()\n",
                "plt.savefig('../img/stackedplot.png')\n",
                "```"
            ]
        },
        {
            "cell_type": "markdown",
            "metadata": {
                "azdata_cell_guid": "0118f965-ca19-4523-97b3-cfdcdbba1d1f"
            },
            "source": [
                "![image](../img/aula00/barplot.png)\n",
                "![image](../img/aula00/stackedplot.png)"
            ]
        },
        {
            "attachments": {},
            "cell_type": "markdown",
            "metadata": {
                "azdata_cell_guid": "6b65da84-c1cb-495f-a421-49cf9266a637"
            },
            "source": [
                "## O que é SQL ? 🗃\n",
                "\n",
                "SQL significa _structured-query-language_ e é uma linguagem de programação para armazenar e processar informações em um **banco de dados relacional**.\n",
                "\n",
                "👍 Muito bom para:\n",
                "\n",
                "- Armazenamento eficaz de dados (especialmente em grande escala);\n",
                "- Otimizado para operações de leitura/escrita;\n",
                "- Manuseio eficaz de dados num formato adequado para análise;\n",
                "    - Realização de cálculos simples\n",
                "- Segurança (restrições de acesso e integridade dos dados)\n",
                "\n",
                "👎 Não é tão bom para:\n",
                "\n",
                "- Personalizar a formatação dos resultados das tabelas (Excel/Python/R são melhores para tal);\n",
                "- Criação de gráficos (Excel/Python/R novamente);\n",
                "- Cálculos complexos\n",
                "- Elaboração de relatórios (Word/Python/R ...);\n",
                "- Mapas (Python/R/QGIS);\n",
                "    - Tecnicamente, pode-se plotar mapas em SQL, mas extremamente básicos\n",
                "\n",
                "_Quando se diz \"dados em grande escala\", significa dizer \"dados que excedem a quantidade de memória/RAM do computador em que você está fazendo sua análise\"._\n",
                "\n",
                "> **Dica:** - SQL não é _case sensitive_\n",
                "\n",
                "![SQL meme woman at cat image](https://live.staticflickr.com/65535/49136979022_bcbf5443aa_z.jpg)"
            ]
        },
        {
            "cell_type": "markdown",
            "metadata": {
                "azdata_cell_guid": "6b61aa49-cb06-401c-950c-4d712c314084"
            },
            "source": [
                "## SQL *vs.* NoSQL\n",
                "\n",
                "Os bancos de dados NoSQL podem ser chamados de \"não relacionais\" (*não SQL*) são desenhados para processar grandes volumes de dados não estruturados ou cuja estrutura está em constante mudança.\n",
                "\n",
                "Essencialmente a proposta é de armazenar informação em estruturas diferentes de um banco de dados relacional (SQL) com linhas e tabelas.\n",
                "\n",
                "| Vantagens      | Desvantagens    |\n",
                "|----------------|-----------------|\n",
                "| Flexibilidade  | Restrições ACID |\n",
                "| Escalabilidade | Complexidade    |\n",
                "| Performance    |                 |\n",
                "\n",
                "Exemplos de bancos de dados NoSQL:\n",
                "\n",
                "![NoSQL Types](../img/aula00/nosql.png)\n",
                "\n",
                "Recomendações de leitura: 📖\n",
                "- [Transações ACID](https://www.databricks.com/br/glossary/acid-transactions)\n",
                "- [NoSQL Storage](https://medium.com/@projectdomainbusiness/nosql-storage-4315fe0afab9)\n",
                "- [O que é NoSQL?](https://aws.amazon.com/pt/nosql/)"
            ]
        },
        {
            "cell_type": "markdown",
            "metadata": {
                "azdata_cell_guid": "8ab57380-8932-43e9-b553-9e33eb557e87"
            },
            "source": [
                "## Como usar SQL? 💃\n",
                "\n",
                "Considerando que este treinamento terá como base um conjunto de **Notebooks**, é recomendável que o **Azure Data Studio** seja utilizado. No entanto outras ferramentas como o **SQL Server Management Studio (SSMS)** e **VS Code** podem ser utilizadas.\n",
                "\n",
                "### Instalando o SQL Server\n",
                "\n",
                "1. [Instalar o SQL Server Express 2019](https://www.microsoft.com/pt-br/download/details.aspx?id=101064)\n",
                "2. Configuração da instância local:\n",
                "   1. [Guia de Instalação](../manuais/sqlserver.md)\n",
                "\n",
                "### Configurar ferramentas\n",
                "\n",
                "1. [Instalar o SQL Server Management Studio (SSMS)](https://learn.microsoft.com/pt-br/sql/ssms/download-sql-server-management-studio-ssms?view=sql-server-ver16)\n",
                "2. [Instalar o Azure Data Studio](https://go.microsoft.com/fwlink/?linkid=2247827)\n",
                "\n",
                "### Restaurar banco de dados de treinamento SQL_TREINAMENTO\n",
                "   1. [Guia de Restauração](../manuais/backup_banco_de_dados.md)\n",
                "\n",
                "### Conectar ao banco de dados local\n",
                "\n",
                "Após a instalação e configuração da instância de SQL Server e da restauração do *backup* do banco de dados de treinamento, é possível se conectar aos dados:\n",
                "- Servidor: **<localhost\\INSTANCIA>**\n",
                "- Base de dados: **SQL_TREINAMENTO**\n",
                "\n",
                "O banco de dados *SQL_TREINAMENTO* é uma versão descaracterizada de um banco de dados real de um projeto HGA e será nosso *playground*.\n",
                "\n",
                "***"
            ]
        },
        {
            "cell_type": "markdown",
            "metadata": {
                "azdata_cell_guid": "cb02a971-b8ad-4d99-ab42-bb8fafd63425"
            },
            "source": [
                "## Próximas aulas 👁\n",
                "\n",
                "1. Aula 01: Fundamentos de Modelagem de dados e SQL\n",
                "   - Modelagemde dados básica\n",
                "   - Introdução à Linguagem SQL\n",
                "   - Manipulação básica de dados\n",
                "   - Desafio 01\n",
                "2. Aula 02: Manipulação de dados com SQL\n",
                "   - Resolução do Desafio 01\n",
                "   - Funções de agregação\n",
                "   - Mesclagem de tabelas (JOIN e UNION)\n",
                "   - Tabelas temporárias\n",
                "   - Desafio 02\n",
                "3. Aula 03: Técnicas avançadas de consultas\n",
                "   - Resolução do Desafio 02\n",
                "   - Ranking e Window funcions\n",
                "   - Pivot e Unpivot\n",
                "   - Exemplos reais\n",
                "   - Desafio 03\n",
                "4. Aula 04: Melhores práticas de SQL\n",
                "   - Dicas de SQL (Sintaxe, funcionalidades gerais)\n",
                "   - Performance\n",
                "   - Mais exemplos práticos\n",
                "   - Desafio final\n",
                "***"
            ]
        }
    ],
    "metadata": {
        "kernelspec": {
            "display_name": "SQL",
            "language": "sql",
            "name": "SQL"
        },
        "language_info": {
            "name": "sql",
            "version": ""
        }
    },
    "nbformat": 4,
    "nbformat_minor": 2
}
